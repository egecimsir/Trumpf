{
 "cells": [
  {
   "cell_type": "markdown",
   "metadata": {},
   "source": [
    "# Approach"
   ]
  },
  {
   "cell_type": "markdown",
   "metadata": {},
   "source": [
    "1. > compare Embeddings (```minorminer```) and choose the best\n",
    "1. > compare Chain Settings and choose the best\n",
    "1. > compare Anneal Times and choose the best\n",
    "1. > compare Anneal Schedules and choose the best"
   ]
  },
  {
   "cell_type": "markdown",
   "metadata": {},
   "source": [
    "## QUBO"
   ]
  },
  {
   "cell_type": "markdown",
   "metadata": {},
   "source": [
    "### Imports"
   ]
  },
  {
   "cell_type": "code",
   "execution_count": 22,
   "metadata": {},
   "outputs": [],
   "source": [
    "import sys\n",
    "sys.path.append(\"..\")\n",
    "from qubo_util import *\n",
    "\n",
    "import dimod\n",
    "import numpy as np\n",
    "import pandas as pd\n",
    "import networkx as nx\n",
    "import minorminer\n",
    "import dwave.inspector\n",
    "import matplotlib.pyplot as plt\n",
    "from dwave.system.samplers import DWaveSampler\n",
    "from dwave.embedding.chain_strength import scaled, uniform_torque_compensation\n",
    "from dwave.system import DWaveSampler, FixedEmbeddingComposite, EmbeddingComposite"
   ]
  },
  {
   "cell_type": "markdown",
   "metadata": {},
   "source": [
    "### Config"
   ]
  },
  {
   "cell_type": "code",
   "execution_count": 23,
   "metadata": {},
   "outputs": [],
   "source": [
    "from dwave.cloud import Client\n",
    "client = Client.from_config(config_file='/Users/jonas/Library/Application Support/dwave/dwave.conf')"
   ]
  },
  {
   "cell_type": "markdown",
   "metadata": {},
   "source": [
    "### Jobs"
   ]
  },
  {
   "cell_type": "code",
   "execution_count": 24,
   "metadata": {},
   "outputs": [],
   "source": [
    "### Lets define the basics\n",
    "\n",
    "bend = [0, 1, 2]\n",
    "weld = [3, 4]\n",
    "paint =  [5]\n",
    "\n",
    "bend_length = 2\n",
    "weld_length = 3\n",
    "paint_length = 6\n",
    "\n",
    "t_step = 3\n",
    "t_step_in_sec = 30"
   ]
  },
  {
   "cell_type": "code",
   "execution_count": 25,
   "metadata": {},
   "outputs": [],
   "source": [
    "jobs = [(0, 0, 3, 12, 8, 20),\n",
    " (1, 0, 5, 9, 0, 10),\n",
    " (1, 1, 9, 4, 5, 10)]"
   ]
  },
  {
   "cell_type": "code",
   "execution_count": 26,
   "metadata": {},
   "outputs": [
    {
     "name": "stdout",
     "output_type": "stream",
     "text": [
      "The maximal maketime for the given operations is: 4530 second(s).\n",
      "Which is equal to: 151 time steps.\n",
      "\n",
      "\n"
     ]
    }
   ],
   "source": [
    "# OrderNo, PartNo, BendingLines, WeldingPoints, PaintTime, DueDate \n",
    "\n",
    "m_t_steps = max_time(jobs, bend_length, weld_length, paint_length)\n",
    "\n",
    "m_time = m_t_steps * t_step_in_sec\n",
    "    \n",
    "print('The maximal maketime for the given operations is: ' + str(m_time) + ' second(s).\\nWhich is equal to: ' + str(m_t_steps) + ' time steps.\\n\\n')"
   ]
  },
  {
   "cell_type": "code",
   "execution_count": 27,
   "metadata": {},
   "outputs": [
    {
     "name": "stdout",
     "output_type": "stream",
     "text": [
      "Anzahl an Kombinationen: 507\n",
      "\n"
     ]
    }
   ],
   "source": [
    "operations = ops(jobs, bend, weld, paint, bend_length, weld_length, paint_length, t_step)\n",
    "\n",
    "print('Anzahl an Kombinationen: ' + str(len(operations)) + '\\n')"
   ]
  },
  {
   "cell_type": "markdown",
   "metadata": {},
   "source": [
    "### Parameters"
   ]
  },
  {
   "cell_type": "code",
   "execution_count": 28,
   "metadata": {},
   "outputs": [],
   "source": [
    "alpha = 2\n",
    "beta = 1.5\n",
    "gamma = 2\n",
    "delta = 0.035\n",
    "\n",
    "QUBO = get_QUBO(jobs, operations, alpha, beta, gamma, delta, bend_length, weld_length, paint_length, bend, weld, paint)\n",
    "qubo_dictionary = qubo_to_dictionary_ohne_null(QUBO, operations)\n"
   ]
  },
  {
   "cell_type": "markdown",
   "metadata": {},
   "source": [
    "# Run"
   ]
  },
  {
   "cell_type": "markdown",
   "metadata": {},
   "source": [
    "## Get Embedding with ```  minorminer  ``` as part of EmbeddingComposite() and safe it"
   ]
  },
  {
   "cell_type": "markdown",
   "metadata": {},
   "source": [
    "https://docs.dwavesys.com/docs/latest/handbook_embedding.html#example-clique-embedding-a-sparse-bqm\n",
    "\n",
    "https://docs.dwavesys.com/docs/latest/handbook_qpu.html?highlight=sampleset_1#read-anneal-cycles"
   ]
  },
  {
   "cell_type": "code",
   "execution_count": 29,
   "metadata": {},
   "outputs": [],
   "source": [
    "bqm = dimod.BinaryQuadraticModel.from_numpy_matrix(QUBO)\n",
    "qpu = DWaveSampler(solver={'topology__type': 'pegasus'})"
   ]
  },
  {
   "cell_type": "code",
   "execution_count": 30,
   "metadata": {},
   "outputs": [],
   "source": [
    "# Each run with 500 shots (more runs with less shots yield better results than less runs with more shots)\n",
    "numr = 500\n",
    "\n",
    "# Chain Strength = Max(QUBO) // Analog zur D Wave Dokumentation\n",
    "\n",
    "chnstr = find_chstr(QUBO)+1\n",
    "\n",
    "# Empty array\n",
    "data=[]"
   ]
  },
  {
   "cell_type": "markdown",
   "metadata": {},
   "source": [
    "### And Visualize embedding,  check for Chain Breaks and run inspection with ```dwave.inspector.```"
   ]
  },
  {
   "cell_type": "markdown",
   "metadata": {},
   "source": [
    "#### First Embedding"
   ]
  },
  {
   "cell_type": "code",
   "execution_count": 31,
   "metadata": {},
   "outputs": [],
   "source": [
    "solver_graph = qpu.to_networkx_graph()"
   ]
  },
  {
   "cell_type": "code",
   "execution_count": 32,
   "metadata": {},
   "outputs": [],
   "source": [
    "embedding = minorminer.find_embedding(qubo_dictionary, solver_graph)"
   ]
  },
  {
   "cell_type": "code",
   "execution_count": 35,
   "metadata": {},
   "outputs": [
    {
     "ename": "ValueError",
     "evalue": "no embedding found",
     "output_type": "error",
     "traceback": [
      "\u001b[0;31m---------------------------------------------------------------------------\u001b[0m",
      "\u001b[0;31mValueError\u001b[0m                                Traceback (most recent call last)",
      "\u001b[0;32m<ipython-input-35-f20e608ba20f>\u001b[0m in \u001b[0;36m<module>\u001b[0;34m\u001b[0m\n\u001b[0;32m----> 1\u001b[0;31m sampleset1A = FixedEmbeddingComposite(qpu, embedding).sample(bqm, \n\u001b[0m\u001b[1;32m      2\u001b[0m                                                                    \u001b[0mreturn_embedding\u001b[0m\u001b[0;34m=\u001b[0m\u001b[0;32mTrue\u001b[0m\u001b[0;34m,\u001b[0m\u001b[0;34m\u001b[0m\u001b[0;34m\u001b[0m\u001b[0m\n\u001b[1;32m      3\u001b[0m                                                                    \u001b[0manswer_mode\u001b[0m\u001b[0;34m=\u001b[0m\u001b[0;34m\"raw\"\u001b[0m\u001b[0;34m,\u001b[0m\u001b[0;34m\u001b[0m\u001b[0;34m\u001b[0m\u001b[0m\n\u001b[1;32m      4\u001b[0m                                                                    \u001b[0mnum_reads\u001b[0m\u001b[0;34m=\u001b[0m\u001b[0mnumr\u001b[0m\u001b[0;34m,\u001b[0m\u001b[0;34m\u001b[0m\u001b[0;34m\u001b[0m\u001b[0m\n\u001b[1;32m      5\u001b[0m                                                                    chain_strength= chnstr)\n",
      "\u001b[0;32m/opt/miniconda3/lib/python3.8/site-packages/dwave/system/composites/embedding.py\u001b[0m in \u001b[0;36msample\u001b[0;34m(self, bqm, **parameters)\u001b[0m\n\u001b[1;32m    501\u001b[0m             \u001b[0mself\u001b[0m\u001b[0;34m.\u001b[0m\u001b[0m_fix_embedding\u001b[0m\u001b[0;34m(\u001b[0m\u001b[0membedding\u001b[0m\u001b[0;34m)\u001b[0m\u001b[0;34m\u001b[0m\u001b[0;34m\u001b[0m\u001b[0m\n\u001b[1;32m    502\u001b[0m \u001b[0;34m\u001b[0m\u001b[0m\n\u001b[0;32m--> 503\u001b[0;31m         \u001b[0;32mreturn\u001b[0m \u001b[0msuper\u001b[0m\u001b[0;34m(\u001b[0m\u001b[0mLazyFixedEmbeddingComposite\u001b[0m\u001b[0;34m,\u001b[0m \u001b[0mself\u001b[0m\u001b[0;34m)\u001b[0m\u001b[0;34m.\u001b[0m\u001b[0msample\u001b[0m\u001b[0;34m(\u001b[0m\u001b[0mbqm\u001b[0m\u001b[0;34m,\u001b[0m \u001b[0;34m**\u001b[0m\u001b[0mparameters\u001b[0m\u001b[0;34m)\u001b[0m\u001b[0;34m\u001b[0m\u001b[0;34m\u001b[0m\u001b[0m\n\u001b[0m\u001b[1;32m    504\u001b[0m \u001b[0;34m\u001b[0m\u001b[0m\n\u001b[1;32m    505\u001b[0m \u001b[0;34m\u001b[0m\u001b[0m\n",
      "\u001b[0;32m/opt/miniconda3/lib/python3.8/site-packages/dwave/system/composites/embedding.py\u001b[0m in \u001b[0;36msample\u001b[0;34m(self, bqm, chain_strength, chain_break_method, chain_break_fraction, embedding_parameters, return_embedding, warnings, **parameters)\u001b[0m\n\u001b[1;32m    239\u001b[0m \u001b[0;34m\u001b[0m\u001b[0m\n\u001b[1;32m    240\u001b[0m         \u001b[0;32mif\u001b[0m \u001b[0mbqm\u001b[0m \u001b[0;32mand\u001b[0m \u001b[0;32mnot\u001b[0m \u001b[0membedding\u001b[0m\u001b[0;34m:\u001b[0m\u001b[0;34m\u001b[0m\u001b[0;34m\u001b[0m\u001b[0m\n\u001b[0;32m--> 241\u001b[0;31m             \u001b[0;32mraise\u001b[0m \u001b[0mValueError\u001b[0m\u001b[0;34m(\u001b[0m\u001b[0;34m\"no embedding found\"\u001b[0m\u001b[0;34m)\u001b[0m\u001b[0;34m\u001b[0m\u001b[0;34m\u001b[0m\u001b[0m\n\u001b[0m\u001b[1;32m    242\u001b[0m \u001b[0;34m\u001b[0m\u001b[0m\n\u001b[1;32m    243\u001b[0m         \u001b[0;32mif\u001b[0m \u001b[0;32mnot\u001b[0m \u001b[0mhasattr\u001b[0m\u001b[0;34m(\u001b[0m\u001b[0membedding\u001b[0m\u001b[0;34m,\u001b[0m \u001b[0;34m'embed_bqm'\u001b[0m\u001b[0;34m)\u001b[0m\u001b[0;34m:\u001b[0m\u001b[0;34m\u001b[0m\u001b[0;34m\u001b[0m\u001b[0m\n",
      "\u001b[0;31mValueError\u001b[0m: no embedding found"
     ]
    }
   ],
   "source": [
    "sampleset1A = FixedEmbeddingComposite(qpu, embedding).sample(bqm, \n",
    "                                                                   return_embedding=True, \n",
    "                                                                   answer_mode=\"raw\", \n",
    "                                                                   num_reads=numr, \n",
    "                                                                   chain_strength= chnstr)"
   ]
  },
  {
   "cell_type": "code",
   "execution_count": 34,
   "metadata": {},
   "outputs": [],
   "source": [
    "######### Kann kein Embedding finden ###########\n",
    "# - Weder online über EmbeddingComposite (minorminer auf D Wave), noch lokal direkt über minorminer! #"
   ]
  },
  {
   "cell_type": "code",
   "execution_count": null,
   "metadata": {},
   "outputs": [],
   "source": [
    "analyze(sampleset1A, \"embedding1A\", data)"
   ]
  },
  {
   "cell_type": "code",
   "execution_count": null,
   "metadata": {},
   "outputs": [],
   "source": [
    "sampleset1B = FixedEmbeddingComposite(qpu, embedding1).sample(bqm, \n",
    "                                                                   return_embedding=True, \n",
    "                                                                   answer_mode=\"raw\", \n",
    "                                                                   num_reads=numr, \n",
    "                                                                   chain_strength= chnstr)"
   ]
  },
  {
   "cell_type": "code",
   "execution_count": null,
   "metadata": {},
   "outputs": [],
   "source": [
    "analyze(sampleset1B, \"embedding1B\", data)"
   ]
  },
  {
   "cell_type": "code",
   "execution_count": null,
   "metadata": {},
   "outputs": [],
   "source": [
    "print(sampleset1A.info[\"embedding_context\"][\"chain_strength\"])    "
   ]
  },
  {
   "cell_type": "code",
   "execution_count": null,
   "metadata": {},
   "outputs": [],
   "source": [
    "print(max(len(chain) for chain in chains))   "
   ]
  },
  {
   "cell_type": "code",
   "execution_count": null,
   "metadata": {},
   "outputs": [],
   "source": [
    "print(\"Percentage of samples with >10% breaks is {} and >0 is {}.\".format(np.count_nonzero(sampleset1A.record.chain_break_fraction > 0.10)/numr*100, np.count_nonzero(sampleset1A.record.chain_break_fraction > 0.0)/numr*100))\n"
   ]
  },
  {
   "cell_type": "code",
   "execution_count": null,
   "metadata": {},
   "outputs": [],
   "source": [
    "# Inspect Embedding\n",
    "dwave.inspector.show(sampleset1A)"
   ]
  },
  {
   "cell_type": "markdown",
   "metadata": {},
   "source": [
    "#### Second Embedding"
   ]
  },
  {
   "cell_type": "code",
   "execution_count": null,
   "metadata": {},
   "outputs": [],
   "source": [
    "sampler = EmbeddingComposite(qpu)\n",
    "sampleset2A = sampler.sample(bqm, \n",
    "                           return_embedding=True, \n",
    "                           answer_mode=\"raw\", \n",
    "                           num_reads=numr, \n",
    "                           chain_strength= chnstr)\n",
    "embedding2 = sampleset2A.info[\"embedding_context\"][\"embedding\"]  \n",
    "chains = sampleset2A.info[\"embedding_context\"][\"embedding\"].values()  \n"
   ]
  },
  {
   "cell_type": "code",
   "execution_count": null,
   "metadata": {},
   "outputs": [],
   "source": [
    "analyze(sampleset2A, \"embedding2A\", data)"
   ]
  },
  {
   "cell_type": "code",
   "execution_count": null,
   "metadata": {},
   "outputs": [],
   "source": [
    "sampleset2B = FixedEmbeddingComposite(qpu, embedding2).sample(bqm, \n",
    "                                                                   return_embedding=True, \n",
    "                                                                   answer_mode=\"raw\", \n",
    "                                                                   num_reads=numr, \n",
    "                                                                   chain_strength= chnstr)"
   ]
  },
  {
   "cell_type": "code",
   "execution_count": null,
   "metadata": {},
   "outputs": [],
   "source": [
    "analyze(sampleset2B, \"embedding2B\", data)"
   ]
  },
  {
   "cell_type": "code",
   "execution_count": null,
   "metadata": {},
   "outputs": [],
   "source": [
    "\n",
    "print(sampleset2A.info[\"embedding_context\"][\"chain_strength\"])    "
   ]
  },
  {
   "cell_type": "code",
   "execution_count": null,
   "metadata": {},
   "outputs": [],
   "source": [
    "print(max(len(chain) for chain in chains))   "
   ]
  },
  {
   "cell_type": "code",
   "execution_count": null,
   "metadata": {},
   "outputs": [],
   "source": [
    "print(\"Percentage of samples with >10% breaks is {} and >0 is {}.\".format(np.count_nonzero(sampleset2A.record.chain_break_fraction > 0.10)/numr*100, np.count_nonzero(sampleset2A.record.chain_break_fraction > 0.0)/numr*100))\n"
   ]
  },
  {
   "cell_type": "code",
   "execution_count": null,
   "metadata": {},
   "outputs": [],
   "source": [
    "# Inspect Embedding\n",
    "dwave.inspector.show(sampleset2A) "
   ]
  },
  {
   "cell_type": "markdown",
   "metadata": {},
   "source": [
    "#### Third Embedding"
   ]
  },
  {
   "cell_type": "code",
   "execution_count": null,
   "metadata": {},
   "outputs": [],
   "source": [
    "sampler = EmbeddingComposite(qpu)\n",
    "sampleset3A = sampler.sample(bqm, \n",
    "                           return_embedding=True, \n",
    "                           answer_mode=\"raw\", \n",
    "                           num_reads=numr, \n",
    "                           chain_strength= chnstr)\n",
    "embedding3 = sampleset3A.info[\"embedding_context\"][\"embedding\"]  \n",
    "chains = sampleset3A.info[\"embedding_context\"][\"embedding\"].values()  \n"
   ]
  },
  {
   "cell_type": "code",
   "execution_count": null,
   "metadata": {},
   "outputs": [],
   "source": [
    "analyze(sampleset3A, \"embedding3A\", data)"
   ]
  },
  {
   "cell_type": "code",
   "execution_count": null,
   "metadata": {},
   "outputs": [],
   "source": [
    "sampleset3B = FixedEmbeddingComposite(qpu, embedding3).sample(bqm, \n",
    "                                                                   return_embedding=True, \n",
    "                                                                   answer_mode=\"raw\", \n",
    "                                                                   num_reads=numr, \n",
    "                                                                   chain_strength= chnstr)"
   ]
  },
  {
   "cell_type": "code",
   "execution_count": null,
   "metadata": {},
   "outputs": [],
   "source": [
    "analyze(sampleset3B, \"embedding3B\", data)"
   ]
  },
  {
   "cell_type": "code",
   "execution_count": null,
   "metadata": {},
   "outputs": [],
   "source": [
    "\n",
    "print(sampleset3A.info[\"embedding_context\"][\"chain_strength\"])    "
   ]
  },
  {
   "cell_type": "code",
   "execution_count": null,
   "metadata": {},
   "outputs": [],
   "source": [
    "print(max(len(chain) for chain in chains))   "
   ]
  },
  {
   "cell_type": "code",
   "execution_count": null,
   "metadata": {},
   "outputs": [],
   "source": [
    "print(\"Percentage of samples with >10% breaks is {} and >0 is {}.\".format(np.count_nonzero(sampleset3A.record.chain_break_fraction > 0.10)/numr*100, np.count_nonzero(sampleset3A.record.chain_break_fraction > 0.0)/numr*100))\n"
   ]
  },
  {
   "cell_type": "code",
   "execution_count": null,
   "metadata": {},
   "outputs": [],
   "source": [
    "# Inspect Embedding\n",
    "dwave.inspector.show(sampleset3A) "
   ]
  },
  {
   "cell_type": "markdown",
   "metadata": {},
   "source": [
    "## Chain Management for best Embedding"
   ]
  },
  {
   "cell_type": "code",
   "execution_count": null,
   "metadata": {},
   "outputs": [],
   "source": [
    "# Choose best Embedding \n",
    "embedding = embedding3"
   ]
  },
  {
   "cell_type": "markdown",
   "metadata": {},
   "source": [
    "### Adjust Chain Strength if necessary "
   ]
  },
  {
   "cell_type": "markdown",
   "metadata": {},
   "source": [
    "The following considerations and recommendations apply to chains.\n",
    "\n",
    "- Prefer short chains to long chains.\n",
    "- Prefer uniform chain lengths to uneven chains.\n",
    "- Balance chain strength and problem range. Estimate chain strength and set just slightly above the minimum threshold needed, using strategies for auto-adjusting these chains. "
   ]
  },
  {
   "cell_type": "markdown",
   "metadata": {},
   "source": [
    "##### run again with each chain setting"
   ]
  },
  {
   "cell_type": "code",
   "execution_count": null,
   "metadata": {},
   "outputs": [],
   "source": [
    "# Default\n",
    "sampleset_default = FixedEmbeddingComposite(qpu, embedding).sample(bqm, \n",
    "                                                                   return_embedding=True, \n",
    "                                                                   answer_mode=\"raw\", \n",
    "                                                                   num_reads=numr, \n",
    "                                                                   chain_strength= chnstr)\n"
   ]
  },
  {
   "cell_type": "code",
   "execution_count": null,
   "metadata": {},
   "outputs": [],
   "source": [
    "analyze(sampleset_default, \"default_chains\", data)"
   ]
  },
  {
   "cell_type": "markdown",
   "metadata": {},
   "source": [
    "You can set a chain strength relative to your problem’s largest bias by using, for example, the scaled() function."
   ]
  },
  {
   "cell_type": "code",
   "execution_count": null,
   "metadata": {},
   "outputs": [],
   "source": [
    "chnstr = scaled"
   ]
  },
  {
   "cell_type": "code",
   "execution_count": null,
   "metadata": {},
   "outputs": [],
   "source": [
    "#from dwave.embedding.chain_strength import scaled\n",
    "sampleset_scaled1 = FixedEmbeddingComposite(qpu, embedding).sample(bqm, \n",
    "                                                                   return_embedding=True, \n",
    "                                                                   answer_mode=\"raw\", \n",
    "                                                                   num_reads=numr, \n",
    "                                                                   chain_strength= chnstr)  \n"
   ]
  },
  {
   "cell_type": "code",
   "execution_count": null,
   "metadata": {},
   "outputs": [],
   "source": [
    "analyze(sampleset_scaled1, \"scaled_chains1\", data)"
   ]
  },
  {
   "cell_type": "code",
   "execution_count": null,
   "metadata": {},
   "outputs": [],
   "source": [
    "#from dwave.embedding.chain_strength import scaled\n",
    "sampleset_scaled2 = FixedEmbeddingComposite(qpu, embedding).sample(bqm, \n",
    "                                                                   return_embedding=True, \n",
    "                                                                   answer_mode=\"raw\", \n",
    "                                                                   num_reads=numr, \n",
    "                                                                   chain_strength= chnstr)  \n"
   ]
  },
  {
   "cell_type": "code",
   "execution_count": null,
   "metadata": {},
   "outputs": [],
   "source": [
    "analyze(sampleset_scaled2, \"scaled_chains2\", data)"
   ]
  },
  {
   "cell_type": "markdown",
   "metadata": {},
   "source": [
    "Chain strength that attempts to compensate for torque that would break the chain."
   ]
  },
  {
   "cell_type": "code",
   "execution_count": null,
   "metadata": {},
   "outputs": [],
   "source": [
    "chnstr = uniform_torque_compensation"
   ]
  },
  {
   "cell_type": "code",
   "execution_count": null,
   "metadata": {},
   "outputs": [],
   "source": [
    "#from dwave.embedding.chain_strength import uniform_torque_compensation\n",
    "sampleset_torque1 = FixedEmbeddingComposite(qpu, embedding).sample(bqm, \n",
    "                                                                   return_embedding=True, \n",
    "                                                                   answer_mode=\"raw\", \n",
    "                                                                   num_reads=numr, \n",
    "                                                                   chain_strength= chnstr)  \n"
   ]
  },
  {
   "cell_type": "code",
   "execution_count": null,
   "metadata": {},
   "outputs": [],
   "source": [
    "analyze(sampleset_torque1, \"torque_chains1\", data)"
   ]
  },
  {
   "cell_type": "code",
   "execution_count": null,
   "metadata": {},
   "outputs": [],
   "source": [
    "#from dwave.embedding.chain_strength import uniform_torque_compensation\n",
    "sampleset_torque2 = FixedEmbeddingComposite(qpu, embedding).sample(bqm, \n",
    "                                                                   return_embedding=True, \n",
    "                                                                   answer_mode=\"raw\", \n",
    "                                                                   num_reads=numr, \n",
    "                                                                   chain_strength= chnstr)  \n"
   ]
  },
  {
   "cell_type": "code",
   "execution_count": null,
   "metadata": {},
   "outputs": [],
   "source": [
    "analyze(sampleset_torque2, \"torque_chains2\", data)"
   ]
  },
  {
   "cell_type": "markdown",
   "metadata": {},
   "source": [
    "## Run for different Times and Schedules"
   ]
  },
  {
   "cell_type": "code",
   "execution_count": null,
   "metadata": {},
   "outputs": [],
   "source": [
    "# With optimal chain strengths:\n",
    "chnstr = uniform_torque_compensation"
   ]
  },
  {
   "cell_type": "markdown",
   "metadata": {},
   "source": [
    "https://docs.dwavesys.com/docs/latest/handbook_qpu.html?highlight=anneal_schedule#annealing-schedule\n",
    "\n",
    "https://docs.dwavesys.com/docs/latest/c_qpu_0.html?highlight=quench"
   ]
  },
  {
   "cell_type": "code",
   "execution_count": null,
   "metadata": {},
   "outputs": [],
   "source": [
    "#qpu.properties[\"default_annealing_time\"]      \n",
    "# 20"
   ]
  },
  {
   "cell_type": "markdown",
   "metadata": {},
   "source": [
    "### Find Sweet Spot for Annealing Time"
   ]
  },
  {
   "cell_type": "code",
   "execution_count": null,
   "metadata": {},
   "outputs": [],
   "source": [
    "#20\n",
    "sampleset_20 = FixedEmbeddingComposite(qpu, embedding).sample(bqm,\n",
    "                                                              return_embedding=True, \n",
    "                                                              answer_mode=\"raw\", \n",
    "                                                              num_reads=numr, \n",
    "                                                              chain_strength= chnstr,\n",
    "                                                              annealing_time=20)"
   ]
  },
  {
   "cell_type": "code",
   "execution_count": null,
   "metadata": {},
   "outputs": [],
   "source": [
    "analyze(sampleset_20, \"time_20\", data)"
   ]
  },
  {
   "cell_type": "code",
   "execution_count": null,
   "metadata": {},
   "outputs": [],
   "source": [
    "#25\n",
    "sampleset_25 = FixedEmbeddingComposite(qpu, embedding).sample(bqm,\n",
    "                                                              return_embedding=True, \n",
    "                                                              answer_mode=\"raw\", \n",
    "                                                              num_reads=numr, \n",
    "                                                              chain_strength= chnstr,\n",
    "                                                              annealing_time=25)"
   ]
  },
  {
   "cell_type": "code",
   "execution_count": null,
   "metadata": {},
   "outputs": [],
   "source": [
    "analyze(sampleset_25, \"time_25\", data)"
   ]
  },
  {
   "cell_type": "code",
   "execution_count": null,
   "metadata": {},
   "outputs": [],
   "source": [
    "#30\n",
    "sampleset_30 = FixedEmbeddingComposite(qpu, embedding).sample(bqm,\n",
    "                                                              return_embedding=True, \n",
    "                                                              answer_mode=\"raw\", \n",
    "                                                              num_reads=numr, \n",
    "                                                              chain_strength= chnstr,\n",
    "                                                              annealing_time=30)"
   ]
  },
  {
   "cell_type": "code",
   "execution_count": null,
   "metadata": {},
   "outputs": [],
   "source": [
    "analyze(sampleset_30, \"time_30\", data)"
   ]
  },
  {
   "cell_type": "code",
   "execution_count": null,
   "metadata": {},
   "outputs": [],
   "source": [
    "#35\n",
    "sampleset_35 = FixedEmbeddingComposite(qpu, embedding).sample(bqm,\n",
    "                                                              return_embedding=True, \n",
    "                                                              answer_mode=\"raw\", \n",
    "                                                              num_reads=numr, \n",
    "                                                              chain_strength= chnstr,\n",
    "                                                              annealing_time=35)  \n"
   ]
  },
  {
   "cell_type": "code",
   "execution_count": null,
   "metadata": {},
   "outputs": [],
   "source": [
    "analyze(sampleset_35, \"time_35\", data)"
   ]
  },
  {
   "cell_type": "code",
   "execution_count": null,
   "metadata": {},
   "outputs": [],
   "source": [
    "#40\n",
    "sampleset_40 = FixedEmbeddingComposite(qpu, embedding).sample(bqm,\n",
    "                                                              return_embedding=True, \n",
    "                                                              answer_mode=\"raw\", \n",
    "                                                              num_reads=numr, \n",
    "                                                              chain_strength= chnstr,\n",
    "                                                              annealing_time=40)\n"
   ]
  },
  {
   "cell_type": "code",
   "execution_count": null,
   "metadata": {},
   "outputs": [],
   "source": [
    "analyze(sampleset_40, \"time_40\", data)"
   ]
  },
  {
   "cell_type": "code",
   "execution_count": null,
   "metadata": {},
   "outputs": [],
   "source": [
    "#45\n",
    "sampleset_45 = FixedEmbeddingComposite(qpu, embedding).sample(bqm,\n",
    "                                                              return_embedding=True, \n",
    "                                                              answer_mode=\"raw\", \n",
    "                                                              num_reads=numr, \n",
    "                                                              chain_strength= chnstr,\n",
    "                                                              annealing_time=45)\n"
   ]
  },
  {
   "cell_type": "code",
   "execution_count": null,
   "metadata": {},
   "outputs": [],
   "source": [
    "analyze(sampleset_45, \"time_45\", data)"
   ]
  },
  {
   "cell_type": "code",
   "execution_count": null,
   "metadata": {},
   "outputs": [],
   "source": [
    "#50\n",
    "sampleset_50 = FixedEmbeddingComposite(qpu, embedding).sample(bqm,\n",
    "                                                              return_embedding=True, \n",
    "                                                              answer_mode=\"raw\", \n",
    "                                                              num_reads=numr, \n",
    "                                                              chain_strength= chnstr,\n",
    "                                                              annealing_time=50)\n"
   ]
  },
  {
   "cell_type": "code",
   "execution_count": null,
   "metadata": {},
   "outputs": [],
   "source": [
    "analyze(sampleset_50, \"time_50\", data)"
   ]
  },
  {
   "cell_type": "markdown",
   "metadata": {},
   "source": [
    "### Find best Schedule"
   ]
  },
  {
   "cell_type": "markdown",
   "metadata": {},
   "source": [
    "### Pause and Quench"
   ]
  },
  {
   "cell_type": "markdown",
   "metadata": {},
   "source": [
    "<img src=\"https://docs.dwavesys.com/docs/latest/_images/16q-pause.png\" alt=\"drawing\" width=\"600\"/>"
   ]
  },
  {
   "cell_type": "markdown",
   "metadata": {},
   "source": [
    "First verify the quench schedule"
   ]
  },
  {
   "cell_type": "markdown",
   "metadata": {},
   "source": [
    "##### run with best chain setting twice"
   ]
  },
  {
   "cell_type": "code",
   "execution_count": null,
   "metadata": {},
   "outputs": [],
   "source": [
    "quench_schedule = [[0.0, 0.0], [30.0, 0.35], [230.0, 0.35], [250, 1.0]]\n",
    "\n",
    "# [[t, s], [t_1, s_1], ..., [t_n, s_n]]\n",
    "# Time t must increase for all points in the schedule.\n",
    "# the anneal fraction s must start at s = 0.0 and end at s = 1.0"
   ]
  },
  {
   "cell_type": "code",
   "execution_count": null,
   "metadata": {},
   "outputs": [],
   "source": [
    "sampleset_quench1 = FixedEmbeddingComposite(qpu, embedding).sample(bqm, \n",
    "                                                                  answer_mode=\"raw\", \n",
    "                                                                  num_reads=numr, \n",
    "                                                                  chain_strength= chnstr,\n",
    "                                                                  anneal_schedule=quench_schedule)  \n"
   ]
  },
  {
   "cell_type": "code",
   "execution_count": null,
   "metadata": {},
   "outputs": [],
   "source": [
    "analyze(sampleset_quench1, \"quench_schedule1\", data)"
   ]
  },
  {
   "cell_type": "code",
   "execution_count": null,
   "metadata": {},
   "outputs": [],
   "source": [
    "sampleset_quench2 = FixedEmbeddingComposite(qpu, embedding).sample(bqm, \n",
    "                                                                  answer_mode=\"raw\", \n",
    "                                                                  num_reads=numr, \n",
    "                                                                  chain_strength= chnstr,\n",
    "                                                                  anneal_schedule=quench_schedule)  \n"
   ]
  },
  {
   "cell_type": "code",
   "execution_count": null,
   "metadata": {},
   "outputs": [],
   "source": [
    "analyze(sampleset_quench2, \"quench_schedule2\", data)"
   ]
  },
  {
   "cell_type": "code",
   "execution_count": null,
   "metadata": {},
   "outputs": [],
   "source": [
    "quench_schedule = [[0.0, 0.0], [30.0, 0.40], [530.0, 0.40], [560, 1.0]]\n",
    "\n",
    "# [[t, s], [t_1, s_1], ..., [t_n, s_n]]\n",
    "# Time t must increase for all points in the schedule.\n",
    "# the anneal fraction s must start at s = 0.0 and end at s = 1.0"
   ]
  },
  {
   "cell_type": "code",
   "execution_count": null,
   "metadata": {},
   "outputs": [],
   "source": [
    "sampleset_quench3 = FixedEmbeddingComposite(qpu, embedding).sample(bqm, \n",
    "                                                                  answer_mode=\"raw\", \n",
    "                                                                  num_reads=numr, \n",
    "                                                                  chain_strength= chnstr,\n",
    "                                                                  anneal_schedule=quench_schedule)  \n"
   ]
  },
  {
   "cell_type": "code",
   "execution_count": null,
   "metadata": {},
   "outputs": [],
   "source": [
    "analyze(sampleset_quench3, \"quench_schedule3\", data)"
   ]
  },
  {
   "cell_type": "markdown",
   "metadata": {},
   "source": [
    "### Reverse"
   ]
  },
  {
   "cell_type": "markdown",
   "metadata": {},
   "source": [
    "In brief, reverse annealing is a technique that makes it possible to refine known good local solutions, thereby increasing performance for certain applications."
   ]
  },
  {
   "cell_type": "markdown",
   "metadata": {},
   "source": [
    "There are three parameters you can use to configure reverse annealing using Ocean:\n",
    "\n",
    "1. `anneal_schedule` defines the annealing schedule that should be followed.\n",
    "2. `initial_state` specifies the classical state at which the reverse anneal should start.\n",
    "3. `reinitialize_state` specifies whether or not the initial state should be used for every anneal in the request.  If False, then after the first, each subsequent anneal starts where the previous finished."
   ]
  },
  {
   "cell_type": "markdown",
   "metadata": {},
   "source": [
    "<img src=\"https://docs.dwavesys.com/docs/latest/_images/ra.png\" alt=\"drawing\" width=\"600\"/>"
   ]
  },
  {
   "cell_type": "markdown",
   "metadata": {},
   "source": [
    "\n",
    "A Reverse schedule always starts at `s = 1.0`, and ours reverses quickly to `s = 0.45`, pauses for `100 μs`, then quickly anneals forward. The schedule is formatted as a list of  **[time, s]** pairs. The next cell plots the schedule."
   ]
  },
  {
   "cell_type": "code",
   "execution_count": null,
   "metadata": {},
   "outputs": [],
   "source": [
    "# [[t, s], [t_1, s_1], ..., [t_n, s_n]]\n",
    "# Time t must increase for all points in the schedule.\n",
    "# the anneal fraction s must start and end at s = 1.0\n",
    "max_slope = 1.0/qpu.properties[\"annealing_time_range\"][0]\n",
    "reverse_schedule = make_reverse_anneal_schedule(s_target=0.45, hold_time=180, ramp_up_slope=max_slope)\n",
    "time_total = reverse_schedule[3][0]\n",
    "\n",
    "print(reverse_schedule)\n",
    "print(\"Total anneal-schedule time is {} us\".format(time_total))"
   ]
  },
  {
   "cell_type": "code",
   "execution_count": null,
   "metadata": {},
   "outputs": [],
   "source": [
    "make_anneal_plot(reverse_schedule)"
   ]
  },
  {
   "cell_type": "code",
   "execution_count": null,
   "metadata": {},
   "outputs": [],
   "source": [
    "# Assign best Sampleset\n",
    "best_sampleset = sampleset_quench3"
   ]
  },
  {
   "cell_type": "code",
   "execution_count": null,
   "metadata": {},
   "outputs": [],
   "source": [
    "\n",
    "i5 = int(5.0/95*len(best_sampleset))  # Index i5 is about a 5% indexial move from the sample of lowest energy\n",
    "\n",
    "initial = dict(zip(best_sampleset.variables, best_sampleset.record[i5].sample))\n",
    "reverse_anneal_params = dict(anneal_schedule=reverse_schedule, initial_state=initial, reinitialize_state=False)\n",
    "\n",
    "# The `reinitialize_state` parameter switches between two qualitatively different methods of local search \n",
    "# via quantum annealing.  With `reinitialize_state = 'True'`, many anneals are seeded from the single starting \n",
    "# state and the states returned, modulo time-dependent sources of error, are independently and identically \n",
    "# distributed.  With `reinitialize_state = 'False'`, the series of anneals behaves like a random walk and \n",
    "# is capable of exploring the solution space more broadly.  \n"
   ]
  },
  {
   "cell_type": "code",
   "execution_count": null,
   "metadata": {},
   "outputs": [],
   "source": [
    "sampleset_reverse1 = FixedEmbeddingComposite(qpu, embedding).sample(bqm, \n",
    "                                                                   answer_mode=\"raw\", \n",
    "                                                                   num_reads=numr, \n",
    "                                                                   chain_strength= chnstr,\n",
    "                                                                   **reverse_anneal_params)  \n"
   ]
  },
  {
   "cell_type": "code",
   "execution_count": null,
   "metadata": {},
   "outputs": [],
   "source": [
    "analyze(sampleset_reverse1, \"reverse_schedule1\", data)"
   ]
  },
  {
   "cell_type": "code",
   "execution_count": null,
   "metadata": {},
   "outputs": [],
   "source": [
    "sampleset_reverse2 = FixedEmbeddingComposite(qpu, embedding).sample(bqm, \n",
    "                                                                   answer_mode=\"raw\", \n",
    "                                                                   num_reads=numr, \n",
    "                                                                   chain_strength= chnstr,\n",
    "                                                                   **reverse_anneal_params)  \n"
   ]
  },
  {
   "cell_type": "code",
   "execution_count": null,
   "metadata": {},
   "outputs": [],
   "source": [
    "analyze(sampleset_reverse2, \"reverse_schedule2\", data)"
   ]
  },
  {
   "cell_type": "markdown",
   "metadata": {},
   "source": [
    "#### Make table of solutions:"
   ]
  },
  {
   "cell_type": "code",
   "execution_count": null,
   "metadata": {},
   "outputs": [],
   "source": [
    "df = pd.DataFrame(data, columns=[\"Label\", \"Best Known Solutions (%)\", \"Good Known Solutions (%)\", \"Lowest Energy\", \"Average Energy\", \"Standard Deviation\"])\n",
    "data"
   ]
  },
  {
   "cell_type": "code",
   "execution_count": null,
   "metadata": {},
   "outputs": [],
   "source": [
    "df"
   ]
  },
  {
   "cell_type": "code",
   "execution_count": null,
   "metadata": {},
   "outputs": [],
   "source": []
  }
 ],
 "metadata": {
  "kernelspec": {
   "display_name": "Python 3",
   "language": "python",
   "name": "python3"
  },
  "language_info": {
   "codemirror_mode": {
    "name": "ipython",
    "version": 3
   },
   "file_extension": ".py",
   "mimetype": "text/x-python",
   "name": "python",
   "nbconvert_exporter": "python",
   "pygments_lexer": "ipython3",
   "version": "3.8.3"
  }
 },
 "nbformat": 4,
 "nbformat_minor": 4
}
