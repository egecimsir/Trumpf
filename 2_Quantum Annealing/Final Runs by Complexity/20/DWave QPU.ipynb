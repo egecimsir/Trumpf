{
 "cells": [
  {
   "cell_type": "markdown",
   "metadata": {},
   "source": [
    "# Approach"
   ]
  },
  {
   "cell_type": "markdown",
   "metadata": {},
   "source": [
    "1. > compare Embeddings (```minorminer```) and choose the best\n",
    "1. > compare Chain Settings and choose the best\n",
    "1. > compare Anneal Times and choose the best\n",
    "1. > compare Anneal Schedules and choose the best"
   ]
  },
  {
   "cell_type": "markdown",
   "metadata": {},
   "source": [
    "## QUBO"
   ]
  },
  {
   "cell_type": "markdown",
   "metadata": {},
   "source": [
    "### Imports"
   ]
  },
  {
   "cell_type": "code",
   "execution_count": 1,
   "metadata": {},
   "outputs": [],
   "source": [
    "import sys\n",
    "sys.path.append(\"..\")\n",
    "from qubo_util import *\n",
    "\n",
    "import dimod\n",
    "import numpy as np\n",
    "import pandas as pd\n",
    "import dwave.inspector\n",
    "import matplotlib.pyplot as plt\n",
    "from dwave.system.samplers import DWaveSampler\n",
    "from dwave.embedding.chain_strength import scaled, uniform_torque_compensation\n",
    "from dwave.system import DWaveSampler, FixedEmbeddingComposite, EmbeddingComposite"
   ]
  },
  {
   "cell_type": "markdown",
   "metadata": {},
   "source": [
    "### Config"
   ]
  },
  {
   "cell_type": "code",
   "execution_count": 2,
   "metadata": {},
   "outputs": [],
   "source": [
    "from dwave.cloud import Client\n",
    "client = Client.from_config(config_file='/Users/jonas/Library/Application Support/dwave/dwave.conf')"
   ]
  },
  {
   "cell_type": "markdown",
   "metadata": {},
   "source": [
    "### Jobs"
   ]
  },
  {
   "cell_type": "code",
   "execution_count": 3,
   "metadata": {},
   "outputs": [],
   "source": [
    "### Lets define the basics\n",
    "\n",
    "bend = [0, 1, 2]\n",
    "weld = [3, 4]\n",
    "paint =  [5]\n",
    "\n",
    "bend_length = 2\n",
    "weld_length = 3\n",
    "paint_length = 6\n",
    "\n",
    "t_step = 3\n",
    "t_step_in_sec = 30"
   ]
  },
  {
   "cell_type": "code",
   "execution_count": 4,
   "metadata": {},
   "outputs": [],
   "source": [
    "jobs = [(0, 0, 1, 1, 2, 3),\n",
    " (1, 0, 0, 2, 0, 1)]"
   ]
  },
  {
   "cell_type": "code",
   "execution_count": 5,
   "metadata": {},
   "outputs": [
    {
     "name": "stdout",
     "output_type": "stream",
     "text": [
      "The maximal maketime for the given operations is: 600 second(s).\n",
      "Which is equal to: 20 time steps.\n",
      "\n",
      "\n"
     ]
    }
   ],
   "source": [
    "# OrderNo, PartNo, BendingLines, WeldingPoints, PaintTime, DueDate \n",
    "\n",
    "m_t_steps = max_time(jobs, bend_length, weld_length, paint_length)\n",
    "\n",
    "m_time = m_t_steps * t_step_in_sec\n",
    "    \n",
    "print('The maximal maketime for the given operations is: ' + str(m_time) + ' second(s).\\nWhich is equal to: ' + str(m_t_steps) + ' time steps.\\n\\n')"
   ]
  },
  {
   "cell_type": "code",
   "execution_count": 6,
   "metadata": {},
   "outputs": [
    {
     "name": "stdout",
     "output_type": "stream",
     "text": [
      "Anzahl an Kombinationen: 22\n",
      "\n"
     ]
    }
   ],
   "source": [
    "operations = ops(jobs, bend, weld, paint, bend_length, weld_length, paint_length, t_step)\n",
    "\n",
    "print('Anzahl an Kombinationen: ' + str(len(operations)) + '\\n')"
   ]
  },
  {
   "cell_type": "markdown",
   "metadata": {},
   "source": [
    "### Parameters"
   ]
  },
  {
   "cell_type": "code",
   "execution_count": 7,
   "metadata": {},
   "outputs": [],
   "source": [
    "alpha = 2\n",
    "beta = 1.5\n",
    "gamma = 2\n",
    "delta = 0.035\n",
    "\n",
    "QUBO = get_QUBO(jobs, operations, alpha, beta, gamma, delta, bend_length, weld_length, paint_length, bend, weld, paint)\n",
    "qubo_dictionary = qubo_to_dictionary_ohne_null(QUBO, operations)\n"
   ]
  },
  {
   "cell_type": "markdown",
   "metadata": {},
   "source": [
    "# Run"
   ]
  },
  {
   "cell_type": "markdown",
   "metadata": {},
   "source": [
    "## Get Embedding with ```  minorminer  ``` as part of EmbeddingComposite() and safe it"
   ]
  },
  {
   "cell_type": "markdown",
   "metadata": {},
   "source": [
    "https://docs.dwavesys.com/docs/latest/handbook_embedding.html#example-clique-embedding-a-sparse-bqm\n",
    "\n",
    "https://docs.dwavesys.com/docs/latest/handbook_qpu.html?highlight=sampleset_1#read-anneal-cycles"
   ]
  },
  {
   "cell_type": "code",
   "execution_count": 8,
   "metadata": {},
   "outputs": [],
   "source": [
    "bqm = dimod.BinaryQuadraticModel.from_numpy_matrix(QUBO)\n",
    "qpu = DWaveSampler(solver={'topology__type': 'pegasus'})"
   ]
  },
  {
   "cell_type": "code",
   "execution_count": 9,
   "metadata": {},
   "outputs": [],
   "source": [
    "# Each run with 500 shots (more runs with less shots yield better results than less runs with more shots)\n",
    "numr = 500\n",
    "\n",
    "# Chain Strength = Max(QUBO) // Analog zur D Wave Dokumentation\n",
    "\n",
    "chnstr = find_chstr(QUBO)+1\n",
    "\n",
    "# Empty array\n",
    "data=[]"
   ]
  },
  {
   "cell_type": "markdown",
   "metadata": {},
   "source": [
    "### And Visualize embedding,  check for Chain Breaks and run inspection with ```dwave.inspector.```"
   ]
  },
  {
   "cell_type": "markdown",
   "metadata": {},
   "source": [
    "#### First Embedding"
   ]
  },
  {
   "cell_type": "code",
   "execution_count": 10,
   "metadata": {},
   "outputs": [],
   "source": [
    "sampler = EmbeddingComposite(qpu)\n",
    "sampleset1A = sampler.sample(bqm, \n",
    "                           return_embedding=True, \n",
    "                           answer_mode=\"raw\", \n",
    "                           num_reads=numr, \n",
    "                           chain_strength= chnstr)\n",
    "embedding1 = sampleset1A.info[\"embedding_context\"][\"embedding\"]  \n",
    "chains = sampleset1A.info[\"embedding_context\"][\"embedding\"].values()  "
   ]
  },
  {
   "cell_type": "code",
   "execution_count": 11,
   "metadata": {},
   "outputs": [
    {
     "name": "stdout",
     "output_type": "stream",
     "text": [
      "Good solutions are 29.0% of samples.\n",
      "Best Known solutions are 1.0% of samples.\n",
      "Lowest energy found: [-8.0]\n",
      "Average energy is -4.73 with standard deviation 3.40\n"
     ]
    }
   ],
   "source": [
    "analyze(sampleset1A, \"embedding1A\", data)"
   ]
  },
  {
   "cell_type": "code",
   "execution_count": 12,
   "metadata": {},
   "outputs": [],
   "source": [
    "sampleset1B = FixedEmbeddingComposite(qpu, embedding1).sample(bqm, \n",
    "                                                                   return_embedding=True, \n",
    "                                                                   answer_mode=\"raw\", \n",
    "                                                                   num_reads=numr, \n",
    "                                                                   chain_strength= chnstr)"
   ]
  },
  {
   "cell_type": "code",
   "execution_count": 13,
   "metadata": {},
   "outputs": [
    {
     "name": "stdout",
     "output_type": "stream",
     "text": [
      "Good solutions are 28.0% of samples.\n",
      "Best Known solutions are 0.4% of samples.\n",
      "Lowest energy found: [-8.0]\n",
      "Average energy is -4.44 with standard deviation 3.74\n"
     ]
    }
   ],
   "source": [
    "analyze(sampleset1B, \"embedding1B\", data)"
   ]
  },
  {
   "cell_type": "code",
   "execution_count": 14,
   "metadata": {},
   "outputs": [
    {
     "name": "stdout",
     "output_type": "stream",
     "text": [
      "9.0\n"
     ]
    }
   ],
   "source": [
    "print(sampleset1A.info[\"embedding_context\"][\"chain_strength\"])    "
   ]
  },
  {
   "cell_type": "code",
   "execution_count": 15,
   "metadata": {},
   "outputs": [
    {
     "name": "stdout",
     "output_type": "stream",
     "text": [
      "3\n"
     ]
    }
   ],
   "source": [
    "print(max(len(chain) for chain in chains))   "
   ]
  },
  {
   "cell_type": "code",
   "execution_count": 16,
   "metadata": {},
   "outputs": [
    {
     "name": "stdout",
     "output_type": "stream",
     "text": [
      "Percentage of samples with >10% breaks is 0.0 and >0 is 1.0.\n"
     ]
    }
   ],
   "source": [
    "print(\"Percentage of samples with >10% breaks is {} and >0 is {}.\".format(np.count_nonzero(sampleset1A.record.chain_break_fraction > 0.10)/numr*100, np.count_nonzero(sampleset1A.record.chain_break_fraction > 0.0)/numr*100))\n"
   ]
  },
  {
   "cell_type": "code",
   "execution_count": 34,
   "metadata": {},
   "outputs": [
    {
     "data": {
      "text/plain": [
       "'http://127.0.0.1:18000/?problemId=92b08c25-72dc-454e-97dc-7cc64c8b6829'"
      ]
     },
     "execution_count": 34,
     "metadata": {},
     "output_type": "execute_result"
    }
   ],
   "source": [
    "# Inspect Embedding\n",
    "dwave.inspector.show(sampleset1A)"
   ]
  },
  {
   "cell_type": "markdown",
   "metadata": {},
   "source": [
    "#### Second Embedding"
   ]
  },
  {
   "cell_type": "code",
   "execution_count": 17,
   "metadata": {},
   "outputs": [],
   "source": [
    "sampler = EmbeddingComposite(qpu)\n",
    "sampleset2A = sampler.sample(bqm, \n",
    "                           return_embedding=True, \n",
    "                           answer_mode=\"raw\", \n",
    "                           num_reads=numr, \n",
    "                           chain_strength= chnstr)\n",
    "embedding2 = sampleset2A.info[\"embedding_context\"][\"embedding\"]  \n",
    "chains = sampleset2A.info[\"embedding_context\"][\"embedding\"].values()  \n"
   ]
  },
  {
   "cell_type": "code",
   "execution_count": 18,
   "metadata": {},
   "outputs": [
    {
     "name": "stdout",
     "output_type": "stream",
     "text": [
      "Good solutions are 27.6% of samples.\n",
      "Best Known solutions are 1.2% of samples.\n",
      "Lowest energy found: [-8.0]\n",
      "Average energy is -4.65 with standard deviation 3.62\n"
     ]
    }
   ],
   "source": [
    "analyze(sampleset2A, \"embedding2A\", data)"
   ]
  },
  {
   "cell_type": "code",
   "execution_count": 19,
   "metadata": {},
   "outputs": [],
   "source": [
    "sampleset2B = FixedEmbeddingComposite(qpu, embedding2).sample(bqm, \n",
    "                                                                   return_embedding=True, \n",
    "                                                                   answer_mode=\"raw\", \n",
    "                                                                   num_reads=numr, \n",
    "                                                                   chain_strength= chnstr)"
   ]
  },
  {
   "cell_type": "code",
   "execution_count": 20,
   "metadata": {},
   "outputs": [
    {
     "name": "stdout",
     "output_type": "stream",
     "text": [
      "Good solutions are 36.0% of samples.\n",
      "Best Known solutions are 2.0% of samples.\n",
      "Lowest energy found: [-8.0]\n",
      "Average energy is -5.29 with standard deviation 3.18\n"
     ]
    }
   ],
   "source": [
    "analyze(sampleset2B, \"embedding2B\", data)"
   ]
  },
  {
   "cell_type": "code",
   "execution_count": 21,
   "metadata": {},
   "outputs": [
    {
     "name": "stdout",
     "output_type": "stream",
     "text": [
      "9.0\n"
     ]
    }
   ],
   "source": [
    "\n",
    "print(sampleset2A.info[\"embedding_context\"][\"chain_strength\"])    "
   ]
  },
  {
   "cell_type": "code",
   "execution_count": 22,
   "metadata": {},
   "outputs": [
    {
     "name": "stdout",
     "output_type": "stream",
     "text": [
      "3\n"
     ]
    }
   ],
   "source": [
    "print(max(len(chain) for chain in chains))   "
   ]
  },
  {
   "cell_type": "code",
   "execution_count": 23,
   "metadata": {},
   "outputs": [
    {
     "name": "stdout",
     "output_type": "stream",
     "text": [
      "Percentage of samples with >10% breaks is 0.0 and >0 is 0.8.\n"
     ]
    }
   ],
   "source": [
    "print(\"Percentage of samples with >10% breaks is {} and >0 is {}.\".format(np.count_nonzero(sampleset2A.record.chain_break_fraction > 0.10)/numr*100, np.count_nonzero(sampleset2A.record.chain_break_fraction > 0.0)/numr*100))\n"
   ]
  },
  {
   "cell_type": "code",
   "execution_count": null,
   "metadata": {},
   "outputs": [],
   "source": [
    "# Inspect Embedding\n",
    "dwave.inspector.show(sampleset2A) "
   ]
  },
  {
   "cell_type": "markdown",
   "metadata": {},
   "source": [
    "#### Third Embedding"
   ]
  },
  {
   "cell_type": "code",
   "execution_count": 24,
   "metadata": {},
   "outputs": [],
   "source": [
    "sampler = EmbeddingComposite(qpu)\n",
    "sampleset3A = sampler.sample(bqm, \n",
    "                           return_embedding=True, \n",
    "                           answer_mode=\"raw\", \n",
    "                           num_reads=numr, \n",
    "                           chain_strength= chnstr)\n",
    "embedding3 = sampleset3A.info[\"embedding_context\"][\"embedding\"]  \n",
    "chains = sampleset3A.info[\"embedding_context\"][\"embedding\"].values()  \n"
   ]
  },
  {
   "cell_type": "code",
   "execution_count": 25,
   "metadata": {},
   "outputs": [
    {
     "name": "stdout",
     "output_type": "stream",
     "text": [
      "Good solutions are 34.2% of samples.\n",
      "Best Known solutions are 1.8% of samples.\n",
      "Lowest energy found: [-8.0]\n",
      "Average energy is -4.96 with standard deviation 3.28\n"
     ]
    }
   ],
   "source": [
    "analyze(sampleset3A, \"embedding3A\", data)"
   ]
  },
  {
   "cell_type": "code",
   "execution_count": 26,
   "metadata": {},
   "outputs": [],
   "source": [
    "sampleset3B = FixedEmbeddingComposite(qpu, embedding3).sample(bqm, \n",
    "                                                                   return_embedding=True, \n",
    "                                                                   answer_mode=\"raw\", \n",
    "                                                                   num_reads=numr, \n",
    "                                                                   chain_strength= chnstr)"
   ]
  },
  {
   "cell_type": "code",
   "execution_count": 27,
   "metadata": {},
   "outputs": [
    {
     "name": "stdout",
     "output_type": "stream",
     "text": [
      "Good solutions are 32.4% of samples.\n",
      "Best Known solutions are 2.2% of samples.\n",
      "Lowest energy found: [-8.0]\n",
      "Average energy is -4.91 with standard deviation 3.41\n"
     ]
    }
   ],
   "source": [
    "analyze(sampleset3B, \"embedding3B\", data)"
   ]
  },
  {
   "cell_type": "code",
   "execution_count": 28,
   "metadata": {},
   "outputs": [
    {
     "name": "stdout",
     "output_type": "stream",
     "text": [
      "9.0\n"
     ]
    }
   ],
   "source": [
    "\n",
    "print(sampleset3A.info[\"embedding_context\"][\"chain_strength\"])    "
   ]
  },
  {
   "cell_type": "code",
   "execution_count": 29,
   "metadata": {},
   "outputs": [
    {
     "name": "stdout",
     "output_type": "stream",
     "text": [
      "3\n"
     ]
    }
   ],
   "source": [
    "print(max(len(chain) for chain in chains))   "
   ]
  },
  {
   "cell_type": "code",
   "execution_count": 30,
   "metadata": {},
   "outputs": [
    {
     "name": "stdout",
     "output_type": "stream",
     "text": [
      "Percentage of samples with >10% breaks is 0.0 and >0 is 0.6.\n"
     ]
    }
   ],
   "source": [
    "print(\"Percentage of samples with >10% breaks is {} and >0 is {}.\".format(np.count_nonzero(sampleset3A.record.chain_break_fraction > 0.10)/numr*100, np.count_nonzero(sampleset3A.record.chain_break_fraction > 0.0)/numr*100))\n"
   ]
  },
  {
   "cell_type": "code",
   "execution_count": 32,
   "metadata": {},
   "outputs": [
    {
     "data": {
      "text/plain": [
       "'http://127.0.0.1:18000/?problemId=23d597b8-92aa-4421-8b8f-963b1007a14e'"
      ]
     },
     "execution_count": 32,
     "metadata": {},
     "output_type": "execute_result"
    }
   ],
   "source": [
    "# Inspect Embedding\n",
    "dwave.inspector.show(sampleset3B) "
   ]
  },
  {
   "cell_type": "markdown",
   "metadata": {},
   "source": [
    "## Chain Management for best Embedding"
   ]
  },
  {
   "cell_type": "code",
   "execution_count": 33,
   "metadata": {},
   "outputs": [],
   "source": [
    "# Choose best Embedding \n",
    "embedding = embedding3"
   ]
  },
  {
   "cell_type": "markdown",
   "metadata": {},
   "source": [
    "### Adjust Chain Strength if necessary "
   ]
  },
  {
   "cell_type": "markdown",
   "metadata": {},
   "source": [
    "The following considerations and recommendations apply to chains.\n",
    "\n",
    "- Prefer short chains to long chains.\n",
    "- Prefer uniform chain lengths to uneven chains.\n",
    "- Balance chain strength and problem range. Estimate chain strength and set just slightly above the minimum threshold needed, using strategies for auto-adjusting these chains. "
   ]
  },
  {
   "cell_type": "markdown",
   "metadata": {},
   "source": [
    "##### run again with each chain setting"
   ]
  },
  {
   "cell_type": "code",
   "execution_count": 34,
   "metadata": {},
   "outputs": [],
   "source": [
    "# Default\n",
    "sampleset_default = FixedEmbeddingComposite(qpu, embedding).sample(bqm, \n",
    "                                                                   return_embedding=True, \n",
    "                                                                   answer_mode=\"raw\", \n",
    "                                                                   num_reads=numr, \n",
    "                                                                   chain_strength= chnstr)\n"
   ]
  },
  {
   "cell_type": "code",
   "execution_count": 35,
   "metadata": {},
   "outputs": [
    {
     "name": "stdout",
     "output_type": "stream",
     "text": [
      "Good solutions are 28.0% of samples.\n",
      "Best Known solutions are 1.2% of samples.\n",
      "Lowest energy found: [-8.0]\n",
      "Average energy is -4.72 with standard deviation 3.40\n"
     ]
    }
   ],
   "source": [
    "analyze(sampleset_default, \"default_chains\", data)"
   ]
  },
  {
   "cell_type": "markdown",
   "metadata": {},
   "source": [
    "You can set a chain strength relative to your problem’s largest bias by using, for example, the scaled() function."
   ]
  },
  {
   "cell_type": "code",
   "execution_count": 36,
   "metadata": {},
   "outputs": [],
   "source": [
    "chnstr = scaled"
   ]
  },
  {
   "cell_type": "code",
   "execution_count": 37,
   "metadata": {},
   "outputs": [],
   "source": [
    "#from dwave.embedding.chain_strength import scaled\n",
    "sampleset_scaled1 = FixedEmbeddingComposite(qpu, embedding).sample(bqm, \n",
    "                                                                   return_embedding=True, \n",
    "                                                                   answer_mode=\"raw\", \n",
    "                                                                   num_reads=numr, \n",
    "                                                                   chain_strength= chnstr)  \n"
   ]
  },
  {
   "cell_type": "code",
   "execution_count": 38,
   "metadata": {},
   "outputs": [
    {
     "name": "stdout",
     "output_type": "stream",
     "text": [
      "Good solutions are 7.0% of samples.\n",
      "Best Known solutions are 0.8% of samples.\n",
      "Lowest energy found: [-8.0]\n",
      "Average energy is 1.12 with standard deviation 6.56\n"
     ]
    }
   ],
   "source": [
    "analyze(sampleset_scaled1, \"scaled_chains1\", data)"
   ]
  },
  {
   "cell_type": "code",
   "execution_count": 39,
   "metadata": {},
   "outputs": [],
   "source": [
    "#from dwave.embedding.chain_strength import scaled\n",
    "sampleset_scaled2 = FixedEmbeddingComposite(qpu, embedding).sample(bqm, \n",
    "                                                                   return_embedding=True, \n",
    "                                                                   answer_mode=\"raw\", \n",
    "                                                                   num_reads=numr, \n",
    "                                                                   chain_strength= chnstr)  \n"
   ]
  },
  {
   "cell_type": "code",
   "execution_count": 40,
   "metadata": {},
   "outputs": [
    {
     "name": "stdout",
     "output_type": "stream",
     "text": [
      "Good solutions are 8.4% of samples.\n",
      "Best Known solutions are 0.6% of samples.\n",
      "Lowest energy found: [-8.0]\n",
      "Average energy is 0.77 with standard deviation 6.93\n"
     ]
    }
   ],
   "source": [
    "analyze(sampleset_scaled2, \"scaled_chains2\", data)"
   ]
  },
  {
   "cell_type": "markdown",
   "metadata": {},
   "source": [
    "Chain strength that attempts to compensate for torque that would break the chain."
   ]
  },
  {
   "cell_type": "code",
   "execution_count": 41,
   "metadata": {},
   "outputs": [],
   "source": [
    "chnstr = uniform_torque_compensation"
   ]
  },
  {
   "cell_type": "code",
   "execution_count": 42,
   "metadata": {},
   "outputs": [],
   "source": [
    "#from dwave.embedding.chain_strength import uniform_torque_compensation\n",
    "sampleset_torque1 = FixedEmbeddingComposite(qpu, embedding).sample(bqm, \n",
    "                                                                   return_embedding=True, \n",
    "                                                                   answer_mode=\"raw\", \n",
    "                                                                   num_reads=numr, \n",
    "                                                                   chain_strength= chnstr)  \n"
   ]
  },
  {
   "cell_type": "code",
   "execution_count": 43,
   "metadata": {},
   "outputs": [
    {
     "name": "stdout",
     "output_type": "stream",
     "text": [
      "Good solutions are 35.6% of samples.\n",
      "Best Known solutions are 1.6% of samples.\n",
      "Lowest energy found: [-8.0]\n",
      "Average energy is -5.16 with standard deviation 3.41\n"
     ]
    }
   ],
   "source": [
    "analyze(sampleset_torque1, \"torque_chains1\", data)"
   ]
  },
  {
   "cell_type": "code",
   "execution_count": 44,
   "metadata": {},
   "outputs": [],
   "source": [
    "#from dwave.embedding.chain_strength import uniform_torque_compensation\n",
    "sampleset_torque2 = FixedEmbeddingComposite(qpu, embedding).sample(bqm, \n",
    "                                                                   return_embedding=True, \n",
    "                                                                   answer_mode=\"raw\", \n",
    "                                                                   num_reads=numr, \n",
    "                                                                   chain_strength= chnstr)  \n"
   ]
  },
  {
   "cell_type": "code",
   "execution_count": 45,
   "metadata": {},
   "outputs": [
    {
     "name": "stdout",
     "output_type": "stream",
     "text": [
      "Good solutions are 28.2% of samples.\n",
      "Best Known solutions are 1.8% of samples.\n",
      "Lowest energy found: [-8.0]\n",
      "Average energy is -4.90 with standard deviation 3.17\n"
     ]
    }
   ],
   "source": [
    "analyze(sampleset_torque2, \"torque_chains2\", data)"
   ]
  },
  {
   "cell_type": "markdown",
   "metadata": {},
   "source": [
    "## Run for different Times and Schedules"
   ]
  },
  {
   "cell_type": "code",
   "execution_count": 46,
   "metadata": {},
   "outputs": [],
   "source": [
    "# With optimal chain strengths:\n",
    "chnstr = uniform_torque_compensation"
   ]
  },
  {
   "cell_type": "markdown",
   "metadata": {},
   "source": [
    "https://docs.dwavesys.com/docs/latest/handbook_qpu.html?highlight=anneal_schedule#annealing-schedule\n",
    "\n",
    "https://docs.dwavesys.com/docs/latest/c_qpu_0.html?highlight=quench"
   ]
  },
  {
   "cell_type": "code",
   "execution_count": 47,
   "metadata": {},
   "outputs": [],
   "source": [
    "#qpu.properties[\"default_annealing_time\"]      \n",
    "# 20"
   ]
  },
  {
   "cell_type": "markdown",
   "metadata": {},
   "source": [
    "### Find Sweet Spot for Annealing Time"
   ]
  },
  {
   "cell_type": "code",
   "execution_count": 48,
   "metadata": {},
   "outputs": [],
   "source": [
    "#15\n",
    "sampleset_15 = FixedEmbeddingComposite(qpu, embedding).sample(bqm,\n",
    "                                                              return_embedding=True, \n",
    "                                                              answer_mode=\"raw\", \n",
    "                                                              num_reads=numr, \n",
    "                                                              chain_strength= chnstr,\n",
    "                                                              annealing_time=15)\n"
   ]
  },
  {
   "cell_type": "code",
   "execution_count": 49,
   "metadata": {},
   "outputs": [
    {
     "name": "stdout",
     "output_type": "stream",
     "text": [
      "Good solutions are 27.0% of samples.\n",
      "Best Known solutions are 1.6% of samples.\n",
      "Lowest energy found: [-8.0]\n",
      "Average energy is -4.29 with standard deviation 3.81\n"
     ]
    }
   ],
   "source": [
    "analyze(sampleset_15, \"time_15\", data)"
   ]
  },
  {
   "cell_type": "code",
   "execution_count": 50,
   "metadata": {},
   "outputs": [],
   "source": [
    "#20\n",
    "sampleset_20 = FixedEmbeddingComposite(qpu, embedding).sample(bqm,\n",
    "                                                              return_embedding=True, \n",
    "                                                              answer_mode=\"raw\", \n",
    "                                                              num_reads=numr, \n",
    "                                                              chain_strength= chnstr,\n",
    "                                                              annealing_time=20)"
   ]
  },
  {
   "cell_type": "code",
   "execution_count": 51,
   "metadata": {},
   "outputs": [
    {
     "name": "stdout",
     "output_type": "stream",
     "text": [
      "Good solutions are 29.4% of samples.\n",
      "Best Known solutions are 1.0% of samples.\n",
      "Lowest energy found: [-8.0]\n",
      "Average energy is -4.73 with standard deviation 3.73\n"
     ]
    }
   ],
   "source": [
    "analyze(sampleset_20, \"time_20\", data)"
   ]
  },
  {
   "cell_type": "code",
   "execution_count": 52,
   "metadata": {},
   "outputs": [],
   "source": [
    "#25\n",
    "sampleset_25 = FixedEmbeddingComposite(qpu, embedding).sample(bqm,\n",
    "                                                              return_embedding=True, \n",
    "                                                              answer_mode=\"raw\", \n",
    "                                                              num_reads=numr, \n",
    "                                                              chain_strength= chnstr,\n",
    "                                                              annealing_time=25)"
   ]
  },
  {
   "cell_type": "code",
   "execution_count": 53,
   "metadata": {},
   "outputs": [
    {
     "name": "stdout",
     "output_type": "stream",
     "text": [
      "Good solutions are 26.8% of samples.\n",
      "Best Known solutions are 0.2% of samples.\n",
      "Lowest energy found: [-8.0]\n",
      "Average energy is -4.91 with standard deviation 3.26\n"
     ]
    }
   ],
   "source": [
    "analyze(sampleset_25, \"time_25\", data)"
   ]
  },
  {
   "cell_type": "code",
   "execution_count": 54,
   "metadata": {},
   "outputs": [],
   "source": [
    "#30\n",
    "sampleset_30 = FixedEmbeddingComposite(qpu, embedding).sample(bqm,\n",
    "                                                              return_embedding=True, \n",
    "                                                              answer_mode=\"raw\", \n",
    "                                                              num_reads=numr, \n",
    "                                                              chain_strength= chnstr,\n",
    "                                                              annealing_time=30)"
   ]
  },
  {
   "cell_type": "code",
   "execution_count": 55,
   "metadata": {},
   "outputs": [
    {
     "name": "stdout",
     "output_type": "stream",
     "text": [
      "Good solutions are 28.0% of samples.\n",
      "Best Known solutions are 0.8% of samples.\n",
      "Lowest energy found: [-8.0]\n",
      "Average energy is -4.95 with standard deviation 3.05\n"
     ]
    }
   ],
   "source": [
    "analyze(sampleset_30, \"time_30\", data)"
   ]
  },
  {
   "cell_type": "code",
   "execution_count": 56,
   "metadata": {},
   "outputs": [],
   "source": [
    "#35\n",
    "sampleset_35 = FixedEmbeddingComposite(qpu, embedding).sample(bqm,\n",
    "                                                              return_embedding=True, \n",
    "                                                              answer_mode=\"raw\", \n",
    "                                                              num_reads=numr, \n",
    "                                                              chain_strength= chnstr,\n",
    "                                                              annealing_time=35)  \n"
   ]
  },
  {
   "cell_type": "code",
   "execution_count": 57,
   "metadata": {},
   "outputs": [
    {
     "name": "stdout",
     "output_type": "stream",
     "text": [
      "Good solutions are 27.4% of samples.\n",
      "Best Known solutions are 1.8% of samples.\n",
      "Lowest energy found: [-8.0]\n",
      "Average energy is -5.03 with standard deviation 3.19\n"
     ]
    }
   ],
   "source": [
    "analyze(sampleset_35, \"time_35\", data)"
   ]
  },
  {
   "cell_type": "markdown",
   "metadata": {},
   "source": [
    "### Find best Schedule"
   ]
  },
  {
   "cell_type": "markdown",
   "metadata": {},
   "source": [
    "### Pause and Quench"
   ]
  },
  {
   "cell_type": "markdown",
   "metadata": {},
   "source": [
    "<img src=\"https://docs.dwavesys.com/docs/latest/_images/16q-pause.png\" alt=\"drawing\" width=\"600\"/>"
   ]
  },
  {
   "cell_type": "markdown",
   "metadata": {},
   "source": [
    "First verify the quench schedule"
   ]
  },
  {
   "cell_type": "markdown",
   "metadata": {},
   "source": [
    "##### run with best chain setting twice"
   ]
  },
  {
   "cell_type": "code",
   "execution_count": 58,
   "metadata": {},
   "outputs": [],
   "source": [
    "quench_schedule = [[0.0, 0.0], [15.0, 0.4], [215.0, 0.4], [230, 1.0]]\n",
    "\n",
    "# [[t, s], [t_1, s_1], ..., [t_n, s_n]]\n",
    "# Time t must increase for all points in the schedule.\n",
    "# the anneal fraction s must start at s = 0.0 and end at s = 1.0"
   ]
  },
  {
   "cell_type": "code",
   "execution_count": 59,
   "metadata": {},
   "outputs": [],
   "source": [
    "sampleset_quench1 = FixedEmbeddingComposite(qpu, embedding).sample(bqm, \n",
    "                                                                  answer_mode=\"raw\", \n",
    "                                                                  num_reads=numr, \n",
    "                                                                  chain_strength= chnstr,\n",
    "                                                                  anneal_schedule=quench_schedule)  \n"
   ]
  },
  {
   "cell_type": "code",
   "execution_count": 60,
   "metadata": {},
   "outputs": [
    {
     "name": "stdout",
     "output_type": "stream",
     "text": [
      "Good solutions are 31.8% of samples.\n",
      "Best Known solutions are 1.8% of samples.\n",
      "Lowest energy found: [-8.0]\n",
      "Average energy is -4.86 with standard deviation 3.45\n"
     ]
    }
   ],
   "source": [
    "analyze(sampleset_quench1, \"quench_schedule1\", data)"
   ]
  },
  {
   "cell_type": "code",
   "execution_count": 61,
   "metadata": {},
   "outputs": [],
   "source": [
    "sampleset_quench2 = FixedEmbeddingComposite(qpu, embedding).sample(bqm, \n",
    "                                                                  answer_mode=\"raw\", \n",
    "                                                                  num_reads=numr, \n",
    "                                                                  chain_strength= chnstr,\n",
    "                                                                  anneal_schedule=quench_schedule)  \n"
   ]
  },
  {
   "cell_type": "code",
   "execution_count": 62,
   "metadata": {},
   "outputs": [
    {
     "name": "stdout",
     "output_type": "stream",
     "text": [
      "Good solutions are 24.8% of samples.\n",
      "Best Known solutions are 1.2% of samples.\n",
      "Lowest energy found: [-8.0]\n",
      "Average energy is -4.36 with standard deviation 3.55\n"
     ]
    }
   ],
   "source": [
    "analyze(sampleset_quench2, \"quench_schedule2\", data)"
   ]
  },
  {
   "cell_type": "markdown",
   "metadata": {},
   "source": [
    "### Reverse"
   ]
  },
  {
   "cell_type": "markdown",
   "metadata": {},
   "source": [
    "In brief, reverse annealing is a technique that makes it possible to refine known good local solutions, thereby increasing performance for certain applications."
   ]
  },
  {
   "cell_type": "markdown",
   "metadata": {},
   "source": [
    "There are three parameters you can use to configure reverse annealing using Ocean:\n",
    "\n",
    "1. `anneal_schedule` defines the annealing schedule that should be followed.\n",
    "2. `initial_state` specifies the classical state at which the reverse anneal should start.\n",
    "3. `reinitialize_state` specifies whether or not the initial state should be used for every anneal in the request.  If False, then after the first, each subsequent anneal starts where the previous finished."
   ]
  },
  {
   "cell_type": "markdown",
   "metadata": {},
   "source": [
    "<img src=\"https://docs.dwavesys.com/docs/latest/_images/ra.png\" alt=\"drawing\" width=\"600\"/>"
   ]
  },
  {
   "cell_type": "markdown",
   "metadata": {},
   "source": [
    "\n",
    "A Reverse schedule always starts at `s = 1.0`, and ours reverses quickly to `s = 0.45`, pauses for `100 μs`, then quickly anneals forward. The schedule is formatted as a list of  **[time, s]** pairs. The next cell plots the schedule."
   ]
  },
  {
   "cell_type": "code",
   "execution_count": 63,
   "metadata": {},
   "outputs": [
    {
     "name": "stdout",
     "output_type": "stream",
     "text": [
      "[[0.0, 1.0], [2.75, 0.45], [102.75, 0.45], [103.3, 1.0]]\n",
      "Total anneal-schedule time is 103.3 us\n"
     ]
    }
   ],
   "source": [
    "# [[t, s], [t_1, s_1], ..., [t_n, s_n]]\n",
    "# Time t must increase for all points in the schedule.\n",
    "# the anneal fraction s must start and end at s = 1.0\n",
    "max_slope = 1.0/qpu.properties[\"annealing_time_range\"][0]\n",
    "reverse_schedule = make_reverse_anneal_schedule(s_target=0.45, hold_time=100, ramp_up_slope=max_slope)\n",
    "time_total = reverse_schedule[3][0]\n",
    "\n",
    "print(reverse_schedule)\n",
    "print(\"Total anneal-schedule time is {} us\".format(time_total))"
   ]
  },
  {
   "cell_type": "code",
   "execution_count": 64,
   "metadata": {},
   "outputs": [
    {
     "data": {
      "image/png": "[encoded data removed]",
      "text/plain": [
       "<Figure size 216x216 with 1 Axes>"
      ]
     },
     "metadata": {
      "needs_background": "light"
     },
     "output_type": "display_data"
    }
   ],
   "source": [
    "make_anneal_plot(reverse_schedule)"
   ]
  },
  {
   "cell_type": "code",
   "execution_count": 65,
   "metadata": {},
   "outputs": [],
   "source": [
    "# Assign best Sampleset\n",
    "best_sampleset = sampleset_quench1"
   ]
  },
  {
   "cell_type": "code",
   "execution_count": 66,
   "metadata": {},
   "outputs": [],
   "source": [
    "\n",
    "i5 = int(5.0/95*len(best_sampleset))  # Index i5 is about a 5% indexial move from the sample of lowest energy\n",
    "\n",
    "initial = dict(zip(best_sampleset.variables, best_sampleset.record[i5].sample))\n",
    "reverse_anneal_params = dict(anneal_schedule=reverse_schedule, initial_state=initial, reinitialize_state=False)\n",
    "\n",
    "# The `reinitialize_state` parameter switches between two qualitatively different methods of local search \n",
    "# via quantum annealing.  With `reinitialize_state = 'True'`, many anneals are seeded from the single starting \n",
    "# state and the states returned, modulo time-dependent sources of error, are independently and identically \n",
    "# distributed.  With `reinitialize_state = 'False'`, the series of anneals behaves like a random walk and \n",
    "# is capable of exploring the solution space more broadly.  \n"
   ]
  },
  {
   "cell_type": "code",
   "execution_count": 67,
   "metadata": {},
   "outputs": [],
   "source": [
    "sampleset_reverse1 = FixedEmbeddingComposite(qpu, embedding).sample(bqm, \n",
    "                                                                   answer_mode=\"raw\", \n",
    "                                                                   num_reads=numr, \n",
    "                                                                   chain_strength= chnstr,\n",
    "                                                                   **reverse_anneal_params)  \n"
   ]
  },
  {
   "cell_type": "code",
   "execution_count": 68,
   "metadata": {},
   "outputs": [
    {
     "name": "stdout",
     "output_type": "stream",
     "text": [
      "Good solutions are 20.4% of samples.\n",
      "Best Known solutions are 0.8% of samples.\n",
      "Lowest energy found: [-8.0]\n",
      "Average energy is -3.74 with standard deviation 4.07\n"
     ]
    }
   ],
   "source": [
    "analyze(sampleset_reverse1, \"reverse_schedule1\", data)"
   ]
  },
  {
   "cell_type": "code",
   "execution_count": 69,
   "metadata": {},
   "outputs": [],
   "source": [
    "sampleset_reverse2 = FixedEmbeddingComposite(qpu, embedding).sample(bqm, \n",
    "                                                                   answer_mode=\"raw\", \n",
    "                                                                   num_reads=numr, \n",
    "                                                                   chain_strength= chnstr,\n",
    "                                                                   **reverse_anneal_params)  \n"
   ]
  },
  {
   "cell_type": "code",
   "execution_count": 70,
   "metadata": {},
   "outputs": [
    {
     "name": "stdout",
     "output_type": "stream",
     "text": [
      "Good solutions are 26.0% of samples.\n",
      "Best Known solutions are 0.6% of samples.\n",
      "Lowest energy found: [-8.0]\n",
      "Average energy is -4.56 with standard deviation 3.47\n"
     ]
    }
   ],
   "source": [
    "analyze(sampleset_reverse2, \"reverse_schedule2\", data)"
   ]
  },
  {
   "cell_type": "markdown",
   "metadata": {},
   "source": [
    "#### Make table of solutions:"
   ]
  },
  {
   "cell_type": "code",
   "execution_count": 72,
   "metadata": {},
   "outputs": [
    {
     "data": {
      "text/plain": [
       "[['embedding1A', 1.0, 29.0, -8.0, -4.73146, 3.403837902779743],\n",
       " ['embedding1B', 0.4, 28.0, -8.0, -4.43767, 3.7378846719902956],\n",
       " ['embedding2A', 1.2, 27.6, -8.0, -4.64988, 3.6231139211457317],\n",
       " ['embedding2B', 2.0, 36.0, -8.0, -5.289210000000001, 3.1788597367452374],\n",
       " ['embedding3A', 1.8, 34.2, -8.0, -4.9642100000000005, 3.2784841201232013],\n",
       " ['embedding3B', 2.2, 32.4, -8.0, -4.909530000000001, 3.4080624156696424],\n",
       " ['default_chains', 1.2, 28.0, -8.0, -4.72142, 3.402073247829917],\n",
       " ['scaled_chains1', 0.8, 7.0, -8.0, 1.1179300000000003, 6.560272788924253],\n",
       " ['scaled_chains2', 0.6, 8.4, -8.0, 0.7660300000000002, 6.926196025893289],\n",
       " ['torque_chains1', 1.6, 35.6, -8.0, -5.1564700000000006, 3.4092784851196885],\n",
       " ['torque_chains2', 1.8, 28.2, -8.0, -4.89944, 3.1681029317874128],\n",
       " ['time_15', 1.6, 27.0, -8.0, -4.29481, 3.8116384946502992],\n",
       " ['time_20', 1.0, 29.4, -8.0, -4.72877, 3.7332597468030535],\n",
       " ['time_25', 0.2, 26.8, -8.0, -4.90883, 3.25631768737327],\n",
       " ['time_30', 0.8, 28.0, -8.0, -4.94931, 3.053098749451121],\n",
       " ['time_35', 1.8, 27.4, -8.0, -5.03326, 3.1870614949197322],\n",
       " ['quench_schedule1', 1.8, 31.8, -8.0, -4.86199, 3.4460876497703885],\n",
       " ['quench_schedule2', 1.2, 24.8, -8.0, -4.35925, 3.5501014334100374],\n",
       " ['reverse_schedule1',\n",
       "  0.8,\n",
       "  20.4,\n",
       "  -8.0,\n",
       "  -3.7448599999999996,\n",
       "  4.067232299783233],\n",
       " ['reverse_schedule2',\n",
       "  0.6,\n",
       "  26.0,\n",
       "  -8.0,\n",
       "  -4.564529999999999,\n",
       "  3.4681149244366165]]"
      ]
     },
     "execution_count": 72,
     "metadata": {},
     "output_type": "execute_result"
    }
   ],
   "source": [
    "df = pd.DataFrame(data, columns=[\"Label\", \"Best Known Solutions (%)\", \"Good Known Solutions (%)\", \"Lowest Energy\", \"Average Energy\", \"Standard Deviation\"])\n",
    "data"
   ]
  },
  {
   "cell_type": "code",
   "execution_count": 73,
   "metadata": {},
   "outputs": [
    {
     "data": {
      "text/html": [
       "<div>\n",
       "<style scoped>\n",
       "    .dataframe tbody tr th:only-of-type {\n",
       "        vertical-align: middle;\n",
       "    }\n",
       "\n",
       "    .dataframe tbody tr th {\n",
       "        vertical-align: top;\n",
       "    }\n",
       "\n",
       "    .dataframe thead th {\n",
       "        text-align: right;\n",
       "    }\n",
       "</style>\n",
       "<table border=\"1\" class=\"dataframe\">\n",
       "  <thead>\n",
       "    <tr style=\"text-align: right;\">\n",
       "      <th></th>\n",
       "      <th>Label</th>\n",
       "      <th>Best Known Solutions (%)</th>\n",
       "      <th>Good Known Solutions (%)</th>\n",
       "      <th>Lowest Energy</th>\n",
       "      <th>Average Energy</th>\n",
       "      <th>Standard Deviation</th>\n",
       "    </tr>\n",
       "  </thead>\n",
       "  <tbody>\n",
       "    <tr>\n",
       "      <th>0</th>\n",
       "      <td>embedding1A</td>\n",
       "      <td>1.0</td>\n",
       "      <td>29.0</td>\n",
       "      <td>-8.0</td>\n",
       "      <td>-4.73146</td>\n",
       "      <td>3.403838</td>\n",
       "    </tr>\n",
       "    <tr>\n",
       "      <th>1</th>\n",
       "      <td>embedding1B</td>\n",
       "      <td>0.4</td>\n",
       "      <td>28.0</td>\n",
       "      <td>-8.0</td>\n",
       "      <td>-4.43767</td>\n",
       "      <td>3.737885</td>\n",
       "    </tr>\n",
       "    <tr>\n",
       "      <th>2</th>\n",
       "      <td>embedding2A</td>\n",
       "      <td>1.2</td>\n",
       "      <td>27.6</td>\n",
       "      <td>-8.0</td>\n",
       "      <td>-4.64988</td>\n",
       "      <td>3.623114</td>\n",
       "    </tr>\n",
       "    <tr>\n",
       "      <th>3</th>\n",
       "      <td>embedding2B</td>\n",
       "      <td>2.0</td>\n",
       "      <td>36.0</td>\n",
       "      <td>-8.0</td>\n",
       "      <td>-5.28921</td>\n",
       "      <td>3.178860</td>\n",
       "    </tr>\n",
       "    <tr>\n",
       "      <th>4</th>\n",
       "      <td>embedding3A</td>\n",
       "      <td>1.8</td>\n",
       "      <td>34.2</td>\n",
       "      <td>-8.0</td>\n",
       "      <td>-4.96421</td>\n",
       "      <td>3.278484</td>\n",
       "    </tr>\n",
       "    <tr>\n",
       "      <th>5</th>\n",
       "      <td>embedding3B</td>\n",
       "      <td>2.2</td>\n",
       "      <td>32.4</td>\n",
       "      <td>-8.0</td>\n",
       "      <td>-4.90953</td>\n",
       "      <td>3.408062</td>\n",
       "    </tr>\n",
       "    <tr>\n",
       "      <th>6</th>\n",
       "      <td>default_chains</td>\n",
       "      <td>1.2</td>\n",
       "      <td>28.0</td>\n",
       "      <td>-8.0</td>\n",
       "      <td>-4.72142</td>\n",
       "      <td>3.402073</td>\n",
       "    </tr>\n",
       "    <tr>\n",
       "      <th>7</th>\n",
       "      <td>scaled_chains1</td>\n",
       "      <td>0.8</td>\n",
       "      <td>7.0</td>\n",
       "      <td>-8.0</td>\n",
       "      <td>1.11793</td>\n",
       "      <td>6.560273</td>\n",
       "    </tr>\n",
       "    <tr>\n",
       "      <th>8</th>\n",
       "      <td>scaled_chains2</td>\n",
       "      <td>0.6</td>\n",
       "      <td>8.4</td>\n",
       "      <td>-8.0</td>\n",
       "      <td>0.76603</td>\n",
       "      <td>6.926196</td>\n",
       "    </tr>\n",
       "    <tr>\n",
       "      <th>9</th>\n",
       "      <td>torque_chains1</td>\n",
       "      <td>1.6</td>\n",
       "      <td>35.6</td>\n",
       "      <td>-8.0</td>\n",
       "      <td>-5.15647</td>\n",
       "      <td>3.409278</td>\n",
       "    </tr>\n",
       "    <tr>\n",
       "      <th>10</th>\n",
       "      <td>torque_chains2</td>\n",
       "      <td>1.8</td>\n",
       "      <td>28.2</td>\n",
       "      <td>-8.0</td>\n",
       "      <td>-4.89944</td>\n",
       "      <td>3.168103</td>\n",
       "    </tr>\n",
       "    <tr>\n",
       "      <th>11</th>\n",
       "      <td>time_15</td>\n",
       "      <td>1.6</td>\n",
       "      <td>27.0</td>\n",
       "      <td>-8.0</td>\n",
       "      <td>-4.29481</td>\n",
       "      <td>3.811638</td>\n",
       "    </tr>\n",
       "    <tr>\n",
       "      <th>12</th>\n",
       "      <td>time_20</td>\n",
       "      <td>1.0</td>\n",
       "      <td>29.4</td>\n",
       "      <td>-8.0</td>\n",
       "      <td>-4.72877</td>\n",
       "      <td>3.733260</td>\n",
       "    </tr>\n",
       "    <tr>\n",
       "      <th>13</th>\n",
       "      <td>time_25</td>\n",
       "      <td>0.2</td>\n",
       "      <td>26.8</td>\n",
       "      <td>-8.0</td>\n",
       "      <td>-4.90883</td>\n",
       "      <td>3.256318</td>\n",
       "    </tr>\n",
       "    <tr>\n",
       "      <th>14</th>\n",
       "      <td>time_30</td>\n",
       "      <td>0.8</td>\n",
       "      <td>28.0</td>\n",
       "      <td>-8.0</td>\n",
       "      <td>-4.94931</td>\n",
       "      <td>3.053099</td>\n",
       "    </tr>\n",
       "    <tr>\n",
       "      <th>15</th>\n",
       "      <td>time_35</td>\n",
       "      <td>1.8</td>\n",
       "      <td>27.4</td>\n",
       "      <td>-8.0</td>\n",
       "      <td>-5.03326</td>\n",
       "      <td>3.187061</td>\n",
       "    </tr>\n",
       "    <tr>\n",
       "      <th>16</th>\n",
       "      <td>quench_schedule1</td>\n",
       "      <td>1.8</td>\n",
       "      <td>31.8</td>\n",
       "      <td>-8.0</td>\n",
       "      <td>-4.86199</td>\n",
       "      <td>3.446088</td>\n",
       "    </tr>\n",
       "    <tr>\n",
       "      <th>17</th>\n",
       "      <td>quench_schedule2</td>\n",
       "      <td>1.2</td>\n",
       "      <td>24.8</td>\n",
       "      <td>-8.0</td>\n",
       "      <td>-4.35925</td>\n",
       "      <td>3.550101</td>\n",
       "    </tr>\n",
       "    <tr>\n",
       "      <th>18</th>\n",
       "      <td>reverse_schedule1</td>\n",
       "      <td>0.8</td>\n",
       "      <td>20.4</td>\n",
       "      <td>-8.0</td>\n",
       "      <td>-3.74486</td>\n",
       "      <td>4.067232</td>\n",
       "    </tr>\n",
       "    <tr>\n",
       "      <th>19</th>\n",
       "      <td>reverse_schedule2</td>\n",
       "      <td>0.6</td>\n",
       "      <td>26.0</td>\n",
       "      <td>-8.0</td>\n",
       "      <td>-4.56453</td>\n",
       "      <td>3.468115</td>\n",
       "    </tr>\n",
       "  </tbody>\n",
       "</table>\n",
       "</div>"
      ],
      "text/plain": [
       "                Label  Best Known Solutions (%)  Good Known Solutions (%)  \\\n",
       "0         embedding1A                       1.0                      29.0   \n",
       "1         embedding1B                       0.4                      28.0   \n",
       "2         embedding2A                       1.2                      27.6   \n",
       "3         embedding2B                       2.0                      36.0   \n",
       "4         embedding3A                       1.8                      34.2   \n",
       "5         embedding3B                       2.2                      32.4   \n",
       "6      default_chains                       1.2                      28.0   \n",
       "7      scaled_chains1                       0.8                       7.0   \n",
       "8      scaled_chains2                       0.6                       8.4   \n",
       "9      torque_chains1                       1.6                      35.6   \n",
       "10     torque_chains2                       1.8                      28.2   \n",
       "11            time_15                       1.6                      27.0   \n",
       "12            time_20                       1.0                      29.4   \n",
       "13            time_25                       0.2                      26.8   \n",
       "14            time_30                       0.8                      28.0   \n",
       "15            time_35                       1.8                      27.4   \n",
       "16   quench_schedule1                       1.8                      31.8   \n",
       "17   quench_schedule2                       1.2                      24.8   \n",
       "18  reverse_schedule1                       0.8                      20.4   \n",
       "19  reverse_schedule2                       0.6                      26.0   \n",
       "\n",
       "    Lowest Energy  Average Energy  Standard Deviation  \n",
       "0            -8.0        -4.73146            3.403838  \n",
       "1            -8.0        -4.43767            3.737885  \n",
       "2            -8.0        -4.64988            3.623114  \n",
       "3            -8.0        -5.28921            3.178860  \n",
       "4            -8.0        -4.96421            3.278484  \n",
       "5            -8.0        -4.90953            3.408062  \n",
       "6            -8.0        -4.72142            3.402073  \n",
       "7            -8.0         1.11793            6.560273  \n",
       "8            -8.0         0.76603            6.926196  \n",
       "9            -8.0        -5.15647            3.409278  \n",
       "10           -8.0        -4.89944            3.168103  \n",
       "11           -8.0        -4.29481            3.811638  \n",
       "12           -8.0        -4.72877            3.733260  \n",
       "13           -8.0        -4.90883            3.256318  \n",
       "14           -8.0        -4.94931            3.053099  \n",
       "15           -8.0        -5.03326            3.187061  \n",
       "16           -8.0        -4.86199            3.446088  \n",
       "17           -8.0        -4.35925            3.550101  \n",
       "18           -8.0        -3.74486            4.067232  \n",
       "19           -8.0        -4.56453            3.468115  "
      ]
     },
     "execution_count": 73,
     "metadata": {},
     "output_type": "execute_result"
    }
   ],
   "source": [
    "df"
   ]
  },
  {
   "cell_type": "code",
   "execution_count": null,
   "metadata": {},
   "outputs": [],
   "source": []
  }
 ],
 "metadata": {
  "kernelspec": {
   "display_name": "Python 3",
   "language": "python",
   "name": "python3"
  },
  "language_info": {
   "codemirror_mode": {
    "name": "ipython",
    "version": 3
   },
   "file_extension": ".py",
   "mimetype": "text/x-python",
   "name": "python",
   "nbconvert_exporter": "python",
   "pygments_lexer": "ipython3",
   "version": "3.8.3"
  }
 },
 "nbformat": 4,
 "nbformat_minor": 4
}
