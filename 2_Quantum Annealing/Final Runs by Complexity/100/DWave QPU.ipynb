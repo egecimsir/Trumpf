{
 "cells": [
  {
   "cell_type": "markdown",
   "metadata": {},
   "source": [
    "# Approach"
   ]
  },
  {
   "cell_type": "markdown",
   "metadata": {},
   "source": [
    "1. > compare Embeddings (```minorminer```) and choose the best\n",
    "1. > compare Chain Settings and choose the best\n",
    "1. > compare Anneal Times and choose the best\n",
    "1. > compare Anneal Schedules and choose the best"
   ]
  },
  {
   "cell_type": "markdown",
   "metadata": {},
   "source": [
    "## QUBO"
   ]
  },
  {
   "cell_type": "markdown",
   "metadata": {},
   "source": [
    "### Imports"
   ]
  },
  {
   "cell_type": "code",
   "execution_count": 1,
   "metadata": {},
   "outputs": [],
   "source": [
    "import sys\n",
    "sys.path.append(\"..\")\n",
    "from qubo_util import *\n",
    "\n",
    "import dimod\n",
    "import numpy as np\n",
    "import pandas as pd\n",
    "import dwave.inspector\n",
    "import matplotlib.pyplot as plt\n",
    "from dwave.system.samplers import DWaveSampler\n",
    "from dwave.embedding.chain_strength import scaled, uniform_torque_compensation\n",
    "from dwave.system import DWaveSampler, FixedEmbeddingComposite, EmbeddingComposite"
   ]
  },
  {
   "cell_type": "markdown",
   "metadata": {},
   "source": [
    "### Config"
   ]
  },
  {
   "cell_type": "code",
   "execution_count": 2,
   "metadata": {},
   "outputs": [],
   "source": [
    "from dwave.cloud import Client\n",
    "client = Client.from_config(config_file='/Users/jonas/Library/Application Support/dwave/dwave.conf')"
   ]
  },
  {
   "cell_type": "markdown",
   "metadata": {},
   "source": [
    "### Jobs"
   ]
  },
  {
   "cell_type": "code",
   "execution_count": 3,
   "metadata": {},
   "outputs": [],
   "source": [
    "### Lets define the basics\n",
    "\n",
    "bend = [0, 1, 2]\n",
    "weld = [3, 4]\n",
    "paint =  [5]\n",
    "\n",
    "bend_length = 2\n",
    "weld_length = 3\n",
    "paint_length = 6\n",
    "\n",
    "t_step = 3\n",
    "t_step_in_sec = 30"
   ]
  },
  {
   "cell_type": "code",
   "execution_count": 4,
   "metadata": {},
   "outputs": [],
   "source": [
    "jobs = [(0, 0, 4, 3, 6, 9),\n",
    " (1, 0, 2, 6, 0, 4)]"
   ]
  },
  {
   "cell_type": "code",
   "execution_count": 5,
   "metadata": {},
   "outputs": [
    {
     "name": "stdout",
     "output_type": "stream",
     "text": [
      "The maximal maketime for the given operations is: 1980 second(s).\n",
      "Which is equal to: 66 time steps.\n",
      "\n",
      "\n"
     ]
    }
   ],
   "source": [
    "# OrderNo, PartNo, BendingLines, WeldingPoints, PaintTime, DueDate \n",
    "\n",
    "m_t_steps = max_time(jobs, bend_length, weld_length, paint_length)\n",
    "\n",
    "m_time = m_t_steps * t_step_in_sec\n",
    "    \n",
    "print('The maximal maketime for the given operations is: ' + str(m_time) + ' second(s).\\nWhich is equal to: ' + str(m_t_steps) + ' time steps.\\n\\n')"
   ]
  },
  {
   "cell_type": "code",
   "execution_count": 6,
   "metadata": {},
   "outputs": [
    {
     "name": "stdout",
     "output_type": "stream",
     "text": [
      "Anzahl an Kombinationen: 105\n",
      "\n"
     ]
    }
   ],
   "source": [
    "operations = ops(jobs, bend, weld, paint, bend_length, weld_length, paint_length, t_step)\n",
    "\n",
    "print('Anzahl an Kombinationen: ' + str(len(operations)) + '\\n')"
   ]
  },
  {
   "cell_type": "markdown",
   "metadata": {},
   "source": [
    "### Parameters"
   ]
  },
  {
   "cell_type": "code",
   "execution_count": 7,
   "metadata": {},
   "outputs": [],
   "source": [
    "alpha = 2\n",
    "beta = 1.5\n",
    "gamma = 2\n",
    "delta = 0.035\n",
    "\n",
    "QUBO = get_QUBO(jobs, operations, alpha, beta, gamma, delta, bend_length, weld_length, paint_length, bend, weld, paint)\n",
    "qubo_dictionary = qubo_to_dictionary_ohne_null(QUBO, operations)\n"
   ]
  },
  {
   "cell_type": "markdown",
   "metadata": {},
   "source": [
    "# Run"
   ]
  },
  {
   "cell_type": "markdown",
   "metadata": {},
   "source": [
    "## Get Embedding with ```  minorminer  ``` as part of EmbeddingComposite() and safe it"
   ]
  },
  {
   "cell_type": "markdown",
   "metadata": {},
   "source": [
    "https://docs.dwavesys.com/docs/latest/handbook_embedding.html#example-clique-embedding-a-sparse-bqm\n",
    "\n",
    "https://docs.dwavesys.com/docs/latest/handbook_qpu.html?highlight=sampleset_1#read-anneal-cycles"
   ]
  },
  {
   "cell_type": "code",
   "execution_count": 8,
   "metadata": {},
   "outputs": [],
   "source": [
    "bqm = dimod.BinaryQuadraticModel.from_numpy_matrix(QUBO)\n",
    "qpu = DWaveSampler(solver={'topology__type': 'pegasus'})"
   ]
  },
  {
   "cell_type": "code",
   "execution_count": 9,
   "metadata": {},
   "outputs": [],
   "source": [
    "# Each run with 500 shots (more runs with less shots yield better results than less runs with more shots)\n",
    "numr = 500\n",
    "\n",
    "# Chain Strength = Max(QUBO) // Analog zur D Wave Dokumentation\n",
    "\n",
    "chnstr = find_chstr(QUBO)+1\n",
    "\n",
    "# Empty array\n",
    "data=[]"
   ]
  },
  {
   "cell_type": "markdown",
   "metadata": {},
   "source": [
    "### And Visualize embedding,  check for Chain Breaks and run inspection with ```dwave.inspector.```"
   ]
  },
  {
   "cell_type": "markdown",
   "metadata": {},
   "source": [
    "#### First Embedding"
   ]
  },
  {
   "cell_type": "code",
   "execution_count": 10,
   "metadata": {},
   "outputs": [],
   "source": [
    "sampler = EmbeddingComposite(qpu)\n",
    "sampleset1A = sampler.sample(bqm, \n",
    "                           return_embedding=True, \n",
    "                           answer_mode=\"raw\", \n",
    "                           num_reads=numr, \n",
    "                           chain_strength= chnstr)\n",
    "embedding1 = sampleset1A.info[\"embedding_context\"][\"embedding\"]  \n",
    "chains = sampleset1A.info[\"embedding_context\"][\"embedding\"].values()  "
   ]
  },
  {
   "cell_type": "code",
   "execution_count": 11,
   "metadata": {},
   "outputs": [
    {
     "name": "stdout",
     "output_type": "stream",
     "text": [
      "Good solutions are 0.2% of samples.\n",
      "Best Known solutions are 0.2% of samples.\n",
      "Lowest energy found: [9.065]\n",
      "Average energy is 58.35 with standard deviation 22.88\n"
     ]
    }
   ],
   "source": [
    "analyze(sampleset1A, \"embedding1A\", data)"
   ]
  },
  {
   "cell_type": "code",
   "execution_count": 12,
   "metadata": {},
   "outputs": [],
   "source": [
    "sampleset1B = FixedEmbeddingComposite(qpu, embedding1).sample(bqm, \n",
    "                                                                   return_embedding=True, \n",
    "                                                                   answer_mode=\"raw\", \n",
    "                                                                   num_reads=numr, \n",
    "                                                                   chain_strength= chnstr)"
   ]
  },
  {
   "cell_type": "code",
   "execution_count": 13,
   "metadata": {},
   "outputs": [
    {
     "name": "stdout",
     "output_type": "stream",
     "text": [
      "Good solutions are 0.2% of samples.\n",
      "Best Known solutions are 0.2% of samples.\n",
      "Lowest energy found: [4.425000000000001]\n",
      "Average energy is 55.86 with standard deviation 22.65\n"
     ]
    }
   ],
   "source": [
    "analyze(sampleset1B, \"embedding1B\", data)"
   ]
  },
  {
   "cell_type": "code",
   "execution_count": 14,
   "metadata": {},
   "outputs": [
    {
     "name": "stdout",
     "output_type": "stream",
     "text": [
      "9.0\n"
     ]
    }
   ],
   "source": [
    "print(sampleset1A.info[\"embedding_context\"][\"chain_strength\"])    "
   ]
  },
  {
   "cell_type": "code",
   "execution_count": 15,
   "metadata": {},
   "outputs": [
    {
     "name": "stdout",
     "output_type": "stream",
     "text": [
      "16\n"
     ]
    }
   ],
   "source": [
    "print(max(len(chain) for chain in chains))   "
   ]
  },
  {
   "cell_type": "code",
   "execution_count": 16,
   "metadata": {},
   "outputs": [
    {
     "name": "stdout",
     "output_type": "stream",
     "text": [
      "Percentage of samples with >10% breaks is 100.0 and >0 is 100.0.\n"
     ]
    }
   ],
   "source": [
    "print(\"Percentage of samples with >10% breaks is {} and >0 is {}.\".format(np.count_nonzero(sampleset1A.record.chain_break_fraction > 0.10)/numr*100, np.count_nonzero(sampleset1A.record.chain_break_fraction > 0.0)/numr*100))\n"
   ]
  },
  {
   "cell_type": "code",
   "execution_count": null,
   "metadata": {},
   "outputs": [],
   "source": [
    "# Inspect Embedding\n",
    "dwave.inspector.show(sampleset1A)"
   ]
  },
  {
   "cell_type": "markdown",
   "metadata": {},
   "source": [
    "#### Second Embedding"
   ]
  },
  {
   "cell_type": "code",
   "execution_count": 17,
   "metadata": {},
   "outputs": [],
   "source": [
    "sampler = EmbeddingComposite(qpu)\n",
    "sampleset2A = sampler.sample(bqm, \n",
    "                           return_embedding=True, \n",
    "                           answer_mode=\"raw\", \n",
    "                           num_reads=numr, \n",
    "                           chain_strength= chnstr)\n",
    "embedding2 = sampleset2A.info[\"embedding_context\"][\"embedding\"]  \n",
    "chains = sampleset2A.info[\"embedding_context\"][\"embedding\"].values()  \n"
   ]
  },
  {
   "cell_type": "code",
   "execution_count": 18,
   "metadata": {},
   "outputs": [
    {
     "name": "stdout",
     "output_type": "stream",
     "text": [
      "Good solutions are 0.2% of samples.\n",
      "Best Known solutions are 0.2% of samples.\n",
      "Lowest energy found: [5.365]\n",
      "Average energy is 94.13 with standard deviation 36.46\n"
     ]
    }
   ],
   "source": [
    "analyze(sampleset2A, \"embedding2A\", data)"
   ]
  },
  {
   "cell_type": "code",
   "execution_count": 19,
   "metadata": {},
   "outputs": [],
   "source": [
    "sampleset2B = FixedEmbeddingComposite(qpu, embedding2).sample(bqm, \n",
    "                                                                   return_embedding=True, \n",
    "                                                                   answer_mode=\"raw\", \n",
    "                                                                   num_reads=numr, \n",
    "                                                                   chain_strength= chnstr)"
   ]
  },
  {
   "cell_type": "code",
   "execution_count": 20,
   "metadata": {},
   "outputs": [
    {
     "name": "stdout",
     "output_type": "stream",
     "text": [
      "Good solutions are 0.2% of samples.\n",
      "Best Known solutions are 0.2% of samples.\n",
      "Lowest energy found: [6.76]\n",
      "Average energy is 83.82 with standard deviation 38.14\n"
     ]
    }
   ],
   "source": [
    "analyze(sampleset2B, \"embedding2B\", data)"
   ]
  },
  {
   "cell_type": "code",
   "execution_count": 21,
   "metadata": {},
   "outputs": [
    {
     "name": "stdout",
     "output_type": "stream",
     "text": [
      "9.0\n"
     ]
    }
   ],
   "source": [
    "\n",
    "print(sampleset2A.info[\"embedding_context\"][\"chain_strength\"])    "
   ]
  },
  {
   "cell_type": "code",
   "execution_count": 22,
   "metadata": {},
   "outputs": [
    {
     "name": "stdout",
     "output_type": "stream",
     "text": [
      "17\n"
     ]
    }
   ],
   "source": [
    "print(max(len(chain) for chain in chains))   "
   ]
  },
  {
   "cell_type": "code",
   "execution_count": 23,
   "metadata": {},
   "outputs": [
    {
     "name": "stdout",
     "output_type": "stream",
     "text": [
      "Percentage of samples with >10% breaks is 100.0 and >0 is 100.0.\n"
     ]
    }
   ],
   "source": [
    "print(\"Percentage of samples with >10% breaks is {} and >0 is {}.\".format(np.count_nonzero(sampleset2A.record.chain_break_fraction > 0.10)/numr*100, np.count_nonzero(sampleset2A.record.chain_break_fraction > 0.0)/numr*100))\n"
   ]
  },
  {
   "cell_type": "code",
   "execution_count": null,
   "metadata": {},
   "outputs": [],
   "source": [
    "# Inspect Embedding\n",
    "dwave.inspector.show(sampleset2A) "
   ]
  },
  {
   "cell_type": "markdown",
   "metadata": {},
   "source": [
    "#### Third Embedding"
   ]
  },
  {
   "cell_type": "code",
   "execution_count": 24,
   "metadata": {},
   "outputs": [],
   "source": [
    "sampler = EmbeddingComposite(qpu)\n",
    "sampleset3A = sampler.sample(bqm, \n",
    "                           return_embedding=True, \n",
    "                           answer_mode=\"raw\", \n",
    "                           num_reads=numr, \n",
    "                           chain_strength= chnstr)\n",
    "embedding3 = sampleset3A.info[\"embedding_context\"][\"embedding\"]  \n",
    "chains = sampleset3A.info[\"embedding_context\"][\"embedding\"].values()  \n"
   ]
  },
  {
   "cell_type": "code",
   "execution_count": 25,
   "metadata": {},
   "outputs": [
    {
     "name": "stdout",
     "output_type": "stream",
     "text": [
      "Good solutions are 0.6% of samples.\n",
      "Best Known solutions are 0.2% of samples.\n",
      "Lowest energy found: [-5.7]\n",
      "Average energy is 18.46 with standard deviation 14.69\n"
     ]
    }
   ],
   "source": [
    "analyze(sampleset3A, \"embedding3A\", data)"
   ]
  },
  {
   "cell_type": "code",
   "execution_count": 26,
   "metadata": {},
   "outputs": [],
   "source": [
    "sampleset3B = FixedEmbeddingComposite(qpu, embedding3).sample(bqm, \n",
    "                                                                   return_embedding=True, \n",
    "                                                                   answer_mode=\"raw\", \n",
    "                                                                   num_reads=numr, \n",
    "                                                                   chain_strength= chnstr)"
   ]
  },
  {
   "cell_type": "code",
   "execution_count": 27,
   "metadata": {},
   "outputs": [
    {
     "name": "stdout",
     "output_type": "stream",
     "text": [
      "Good solutions are 1.0% of samples.\n",
      "Best Known solutions are 0.2% of samples.\n",
      "Lowest energy found: [-4.935]\n",
      "Average energy is 18.62 with standard deviation 14.30\n"
     ]
    }
   ],
   "source": [
    "analyze(sampleset3B, \"embedding3B\", data)"
   ]
  },
  {
   "cell_type": "code",
   "execution_count": 28,
   "metadata": {},
   "outputs": [
    {
     "name": "stdout",
     "output_type": "stream",
     "text": [
      "9.0\n"
     ]
    }
   ],
   "source": [
    "\n",
    "print(sampleset3A.info[\"embedding_context\"][\"chain_strength\"])    "
   ]
  },
  {
   "cell_type": "code",
   "execution_count": 29,
   "metadata": {},
   "outputs": [
    {
     "name": "stdout",
     "output_type": "stream",
     "text": [
      "13\n"
     ]
    }
   ],
   "source": [
    "print(max(len(chain) for chain in chains))   "
   ]
  },
  {
   "cell_type": "code",
   "execution_count": 30,
   "metadata": {},
   "outputs": [
    {
     "name": "stdout",
     "output_type": "stream",
     "text": [
      "Percentage of samples with >10% breaks is 100.0 and >0 is 100.0.\n"
     ]
    }
   ],
   "source": [
    "print(\"Percentage of samples with >10% breaks is {} and >0 is {}.\".format(np.count_nonzero(sampleset3A.record.chain_break_fraction > 0.10)/numr*100, np.count_nonzero(sampleset3A.record.chain_break_fraction > 0.0)/numr*100))\n"
   ]
  },
  {
   "cell_type": "code",
   "execution_count": 31,
   "metadata": {},
   "outputs": [
    {
     "data": {
      "text/plain": [
       "'http://127.0.0.1:18000/?problemId=c9047a1d-bc0d-4016-9e55-c8e0739b8ab9'"
      ]
     },
     "execution_count": 31,
     "metadata": {},
     "output_type": "execute_result"
    }
   ],
   "source": [
    "# Inspect Embedding\n",
    "dwave.inspector.show(sampleset3A) "
   ]
  },
  {
   "cell_type": "markdown",
   "metadata": {},
   "source": [
    "## Chain Management for best Embedding"
   ]
  },
  {
   "cell_type": "code",
   "execution_count": 32,
   "metadata": {},
   "outputs": [],
   "source": [
    "# Choose best Embedding \n",
    "embedding = embedding3"
   ]
  },
  {
   "cell_type": "markdown",
   "metadata": {},
   "source": [
    "### Adjust Chain Strength if necessary "
   ]
  },
  {
   "cell_type": "markdown",
   "metadata": {},
   "source": [
    "The following considerations and recommendations apply to chains.\n",
    "\n",
    "- Prefer short chains to long chains.\n",
    "- Prefer uniform chain lengths to uneven chains.\n",
    "- Balance chain strength and problem range. Estimate chain strength and set just slightly above the minimum threshold needed, using strategies for auto-adjusting these chains. "
   ]
  },
  {
   "cell_type": "markdown",
   "metadata": {},
   "source": [
    "##### run again with each chain setting"
   ]
  },
  {
   "cell_type": "code",
   "execution_count": 33,
   "metadata": {},
   "outputs": [],
   "source": [
    "# Default\n",
    "sampleset_default = FixedEmbeddingComposite(qpu, embedding).sample(bqm, \n",
    "                                                                   return_embedding=True, \n",
    "                                                                   answer_mode=\"raw\", \n",
    "                                                                   num_reads=numr, \n",
    "                                                                   chain_strength= chnstr)\n"
   ]
  },
  {
   "cell_type": "code",
   "execution_count": 34,
   "metadata": {},
   "outputs": [
    {
     "name": "stdout",
     "output_type": "stream",
     "text": [
      "Good solutions are 0.4% of samples.\n",
      "Best Known solutions are 0.2% of samples.\n",
      "Lowest energy found: [-6.504999999999999]\n",
      "Average energy is 15.48 with standard deviation 13.53\n"
     ]
    }
   ],
   "source": [
    "analyze(sampleset_default, \"default_chains\", data)"
   ]
  },
  {
   "cell_type": "markdown",
   "metadata": {},
   "source": [
    "You can set a chain strength relative to your problem’s largest bias by using, for example, the scaled() function."
   ]
  },
  {
   "cell_type": "code",
   "execution_count": 35,
   "metadata": {},
   "outputs": [],
   "source": [
    "chnstr = scaled"
   ]
  },
  {
   "cell_type": "code",
   "execution_count": 36,
   "metadata": {},
   "outputs": [],
   "source": [
    "#from dwave.embedding.chain_strength import scaled\n",
    "sampleset_scaled1 = FixedEmbeddingComposite(qpu, embedding).sample(bqm, \n",
    "                                                                   return_embedding=True, \n",
    "                                                                   answer_mode=\"raw\", \n",
    "                                                                   num_reads=numr, \n",
    "                                                                   chain_strength= chnstr)  \n"
   ]
  },
  {
   "cell_type": "code",
   "execution_count": 37,
   "metadata": {},
   "outputs": [
    {
     "name": "stdout",
     "output_type": "stream",
     "text": [
      "Good solutions are 0.2% of samples.\n",
      "Best Known solutions are 0.2% of samples.\n",
      "Lowest energy found: [314.45]\n",
      "Average energy is 647.87 with standard deviation 147.82\n"
     ]
    }
   ],
   "source": [
    "analyze(sampleset_scaled1, \"scaled_chains1\", data)"
   ]
  },
  {
   "cell_type": "code",
   "execution_count": 38,
   "metadata": {},
   "outputs": [],
   "source": [
    "#from dwave.embedding.chain_strength import scaled\n",
    "sampleset_scaled2 = FixedEmbeddingComposite(qpu, embedding).sample(bqm, \n",
    "                                                                   return_embedding=True, \n",
    "                                                                   answer_mode=\"raw\", \n",
    "                                                                   num_reads=numr, \n",
    "                                                                   chain_strength= chnstr)  \n"
   ]
  },
  {
   "cell_type": "code",
   "execution_count": 39,
   "metadata": {},
   "outputs": [
    {
     "name": "stdout",
     "output_type": "stream",
     "text": [
      "Good solutions are 0.2% of samples.\n",
      "Best Known solutions are 0.2% of samples.\n",
      "Lowest energy found: [180.535]\n",
      "Average energy is 618.38 with standard deviation 153.67\n"
     ]
    }
   ],
   "source": [
    "analyze(sampleset_scaled2, \"scaled_chains2\", data)"
   ]
  },
  {
   "cell_type": "markdown",
   "metadata": {},
   "source": [
    "Chain strength that attempts to compensate for torque that would break the chain."
   ]
  },
  {
   "cell_type": "code",
   "execution_count": 40,
   "metadata": {},
   "outputs": [],
   "source": [
    "chnstr = uniform_torque_compensation"
   ]
  },
  {
   "cell_type": "code",
   "execution_count": 41,
   "metadata": {},
   "outputs": [],
   "source": [
    "#from dwave.embedding.chain_strength import uniform_torque_compensation\n",
    "sampleset_torque1 = FixedEmbeddingComposite(qpu, embedding).sample(bqm, \n",
    "                                                                   return_embedding=True, \n",
    "                                                                   answer_mode=\"raw\", \n",
    "                                                                   num_reads=numr, \n",
    "                                                                   chain_strength= chnstr)  \n"
   ]
  },
  {
   "cell_type": "code",
   "execution_count": 42,
   "metadata": {},
   "outputs": [
    {
     "name": "stdout",
     "output_type": "stream",
     "text": [
      "Good solutions are 0.4% of samples.\n",
      "Best Known solutions are 0.2% of samples.\n",
      "Lowest energy found: [2.7750000000000004]\n",
      "Average energy is 48.25 with standard deviation 27.71\n"
     ]
    }
   ],
   "source": [
    "analyze(sampleset_torque1, \"torque_chains1\", data)"
   ]
  },
  {
   "cell_type": "code",
   "execution_count": 43,
   "metadata": {},
   "outputs": [],
   "source": [
    "#from dwave.embedding.chain_strength import uniform_torque_compensation\n",
    "sampleset_torque2 = FixedEmbeddingComposite(qpu, embedding).sample(bqm, \n",
    "                                                                   return_embedding=True, \n",
    "                                                                   answer_mode=\"raw\", \n",
    "                                                                   num_reads=numr, \n",
    "                                                                   chain_strength= chnstr)  \n"
   ]
  },
  {
   "cell_type": "code",
   "execution_count": 44,
   "metadata": {},
   "outputs": [
    {
     "name": "stdout",
     "output_type": "stream",
     "text": [
      "Good solutions are 0.2% of samples.\n",
      "Best Known solutions are 0.2% of samples.\n",
      "Lowest energy found: [-4.54]\n",
      "Average energy is 50.74 with standard deviation 28.55\n"
     ]
    }
   ],
   "source": [
    "analyze(sampleset_torque2, \"torque_chains2\", data)"
   ]
  },
  {
   "cell_type": "markdown",
   "metadata": {},
   "source": [
    "## Run for different Times and Schedules"
   ]
  },
  {
   "cell_type": "code",
   "execution_count": 45,
   "metadata": {},
   "outputs": [],
   "source": [
    "# With optimal chain strengths:\n",
    "chnstr = uniform_torque_compensation"
   ]
  },
  {
   "cell_type": "markdown",
   "metadata": {},
   "source": [
    "https://docs.dwavesys.com/docs/latest/handbook_qpu.html?highlight=anneal_schedule#annealing-schedule\n",
    "\n",
    "https://docs.dwavesys.com/docs/latest/c_qpu_0.html?highlight=quench"
   ]
  },
  {
   "cell_type": "code",
   "execution_count": 46,
   "metadata": {},
   "outputs": [],
   "source": [
    "#qpu.properties[\"default_annealing_time\"]      \n",
    "# 20"
   ]
  },
  {
   "cell_type": "markdown",
   "metadata": {},
   "source": [
    "### Find Sweet Spot for Annealing Time"
   ]
  },
  {
   "cell_type": "code",
   "execution_count": 47,
   "metadata": {},
   "outputs": [],
   "source": [
    "#20\n",
    "sampleset_20 = FixedEmbeddingComposite(qpu, embedding).sample(bqm,\n",
    "                                                              return_embedding=True, \n",
    "                                                              answer_mode=\"raw\", \n",
    "                                                              num_reads=numr, \n",
    "                                                              chain_strength= chnstr,\n",
    "                                                              annealing_time=20)"
   ]
  },
  {
   "cell_type": "code",
   "execution_count": 48,
   "metadata": {},
   "outputs": [
    {
     "name": "stdout",
     "output_type": "stream",
     "text": [
      "Good solutions are 0.6% of samples.\n",
      "Best Known solutions are 0.4% of samples.\n",
      "Lowest energy found: [1.6000000000000005, 1.5999999999999996]\n",
      "Average energy is 43.07 with standard deviation 22.58\n"
     ]
    }
   ],
   "source": [
    "analyze(sampleset_20, \"time_20\", data)"
   ]
  },
  {
   "cell_type": "code",
   "execution_count": 51,
   "metadata": {},
   "outputs": [],
   "source": [
    "#25\n",
    "sampleset_25 = FixedEmbeddingComposite(qpu, embedding).sample(bqm,\n",
    "                                                              return_embedding=True, \n",
    "                                                              answer_mode=\"raw\", \n",
    "                                                              num_reads=numr, \n",
    "                                                              chain_strength= chnstr,\n",
    "                                                              annealing_time=25)"
   ]
  },
  {
   "cell_type": "code",
   "execution_count": 52,
   "metadata": {},
   "outputs": [
    {
     "name": "stdout",
     "output_type": "stream",
     "text": [
      "Good solutions are 0.4% of samples.\n",
      "Best Known solutions are 0.2% of samples.\n",
      "Lowest energy found: [3.1350000000000007]\n",
      "Average energy is 47.08 with standard deviation 25.14\n"
     ]
    }
   ],
   "source": [
    "analyze(sampleset_25, \"time_25\", data)"
   ]
  },
  {
   "cell_type": "code",
   "execution_count": 53,
   "metadata": {},
   "outputs": [],
   "source": [
    "#30\n",
    "sampleset_30 = FixedEmbeddingComposite(qpu, embedding).sample(bqm,\n",
    "                                                              return_embedding=True, \n",
    "                                                              answer_mode=\"raw\", \n",
    "                                                              num_reads=numr, \n",
    "                                                              chain_strength= chnstr,\n",
    "                                                              annealing_time=30)"
   ]
  },
  {
   "cell_type": "code",
   "execution_count": 54,
   "metadata": {},
   "outputs": [
    {
     "name": "stdout",
     "output_type": "stream",
     "text": [
      "Good solutions are 0.2% of samples.\n",
      "Best Known solutions are 0.2% of samples.\n",
      "Lowest energy found: [1.25]\n",
      "Average energy is 42.39 with standard deviation 20.86\n"
     ]
    }
   ],
   "source": [
    "analyze(sampleset_30, \"time_30\", data)"
   ]
  },
  {
   "cell_type": "code",
   "execution_count": 55,
   "metadata": {},
   "outputs": [],
   "source": [
    "#35\n",
    "sampleset_35 = FixedEmbeddingComposite(qpu, embedding).sample(bqm,\n",
    "                                                              return_embedding=True, \n",
    "                                                              answer_mode=\"raw\", \n",
    "                                                              num_reads=numr, \n",
    "                                                              chain_strength= chnstr,\n",
    "                                                              annealing_time=35)  \n"
   ]
  },
  {
   "cell_type": "code",
   "execution_count": 56,
   "metadata": {},
   "outputs": [
    {
     "name": "stdout",
     "output_type": "stream",
     "text": [
      "Good solutions are 0.2% of samples.\n",
      "Best Known solutions are 0.2% of samples.\n",
      "Lowest energy found: [-4.305]\n",
      "Average energy is 39.76 with standard deviation 22.25\n"
     ]
    }
   ],
   "source": [
    "analyze(sampleset_35, \"time_35\", data)"
   ]
  },
  {
   "cell_type": "code",
   "execution_count": 57,
   "metadata": {},
   "outputs": [],
   "source": [
    "#40\n",
    "sampleset_40 = FixedEmbeddingComposite(qpu, embedding).sample(bqm,\n",
    "                                                              return_embedding=True, \n",
    "                                                              answer_mode=\"raw\", \n",
    "                                                              num_reads=numr, \n",
    "                                                              chain_strength= chnstr,\n",
    "                                                              annealing_time=40)\n"
   ]
  },
  {
   "cell_type": "code",
   "execution_count": 58,
   "metadata": {},
   "outputs": [
    {
     "name": "stdout",
     "output_type": "stream",
     "text": [
      "Good solutions are 0.2% of samples.\n",
      "Best Known solutions are 0.2% of samples.\n",
      "Lowest energy found: [-4.864999999999999]\n",
      "Average energy is 40.65 with standard deviation 23.65\n"
     ]
    }
   ],
   "source": [
    "analyze(sampleset_40, \"time_40\", data)"
   ]
  },
  {
   "cell_type": "code",
   "execution_count": 59,
   "metadata": {},
   "outputs": [],
   "source": [
    "#45\n",
    "sampleset_45 = FixedEmbeddingComposite(qpu, embedding).sample(bqm,\n",
    "                                                              return_embedding=True, \n",
    "                                                              answer_mode=\"raw\", \n",
    "                                                              num_reads=numr, \n",
    "                                                              chain_strength= chnstr,\n",
    "                                                              annealing_time=45)\n"
   ]
  },
  {
   "cell_type": "code",
   "execution_count": 60,
   "metadata": {},
   "outputs": [
    {
     "name": "stdout",
     "output_type": "stream",
     "text": [
      "Good solutions are 0.2% of samples.\n",
      "Best Known solutions are 0.2% of samples.\n",
      "Lowest energy found: [-4.409999999999999]\n",
      "Average energy is 41.14 with standard deviation 21.42\n"
     ]
    }
   ],
   "source": [
    "analyze(sampleset_45, \"time_45\", data)"
   ]
  },
  {
   "cell_type": "code",
   "execution_count": 61,
   "metadata": {},
   "outputs": [],
   "source": [
    "#50\n",
    "sampleset_50 = FixedEmbeddingComposite(qpu, embedding).sample(bqm,\n",
    "                                                              return_embedding=True, \n",
    "                                                              answer_mode=\"raw\", \n",
    "                                                              num_reads=numr, \n",
    "                                                              chain_strength= chnstr,\n",
    "                                                              annealing_time=50)\n"
   ]
  },
  {
   "cell_type": "code",
   "execution_count": 62,
   "metadata": {},
   "outputs": [
    {
     "name": "stdout",
     "output_type": "stream",
     "text": [
      "Good solutions are 0.2% of samples.\n",
      "Best Known solutions are 0.2% of samples.\n",
      "Lowest energy found: [-4.574999999999999]\n",
      "Average energy is 39.70 with standard deviation 23.39\n"
     ]
    }
   ],
   "source": [
    "analyze(sampleset_50, \"time_50\", data)"
   ]
  },
  {
   "cell_type": "markdown",
   "metadata": {},
   "source": [
    "### Find best Schedule"
   ]
  },
  {
   "cell_type": "markdown",
   "metadata": {},
   "source": [
    "### Pause and Quench"
   ]
  },
  {
   "cell_type": "markdown",
   "metadata": {},
   "source": [
    "<img src=\"https://docs.dwavesys.com/docs/latest/_images/16q-pause.png\" alt=\"drawing\" width=\"600\"/>"
   ]
  },
  {
   "cell_type": "markdown",
   "metadata": {},
   "source": [
    "First verify the quench schedule"
   ]
  },
  {
   "cell_type": "markdown",
   "metadata": {},
   "source": [
    "##### run with best chain setting twice"
   ]
  },
  {
   "cell_type": "code",
   "execution_count": 63,
   "metadata": {},
   "outputs": [],
   "source": [
    "quench_schedule = [[0.0, 0.0], [30.0, 0.35], [230.0, 0.35], [250, 1.0]]\n",
    "\n",
    "# [[t, s], [t_1, s_1], ..., [t_n, s_n]]\n",
    "# Time t must increase for all points in the schedule.\n",
    "# the anneal fraction s must start at s = 0.0 and end at s = 1.0"
   ]
  },
  {
   "cell_type": "code",
   "execution_count": 64,
   "metadata": {},
   "outputs": [],
   "source": [
    "sampleset_quench1 = FixedEmbeddingComposite(qpu, embedding).sample(bqm, \n",
    "                                                                  answer_mode=\"raw\", \n",
    "                                                                  num_reads=numr, \n",
    "                                                                  chain_strength= chnstr,\n",
    "                                                                  anneal_schedule=quench_schedule)  \n"
   ]
  },
  {
   "cell_type": "code",
   "execution_count": 65,
   "metadata": {},
   "outputs": [
    {
     "name": "stdout",
     "output_type": "stream",
     "text": [
      "Good solutions are 0.4% of samples.\n",
      "Best Known solutions are 0.2% of samples.\n",
      "Lowest energy found: [-5.145]\n",
      "Average energy is 33.40 with standard deviation 20.07\n"
     ]
    }
   ],
   "source": [
    "analyze(sampleset_quench1, \"quench_schedule1\", data)"
   ]
  },
  {
   "cell_type": "code",
   "execution_count": 66,
   "metadata": {},
   "outputs": [],
   "source": [
    "sampleset_quench2 = FixedEmbeddingComposite(qpu, embedding).sample(bqm, \n",
    "                                                                  answer_mode=\"raw\", \n",
    "                                                                  num_reads=numr, \n",
    "                                                                  chain_strength= chnstr,\n",
    "                                                                  anneal_schedule=quench_schedule)  \n"
   ]
  },
  {
   "cell_type": "code",
   "execution_count": 67,
   "metadata": {},
   "outputs": [
    {
     "name": "stdout",
     "output_type": "stream",
     "text": [
      "Good solutions are 0.2% of samples.\n",
      "Best Known solutions are 0.2% of samples.\n",
      "Lowest energy found: [-6.225]\n",
      "Average energy is 40.75 with standard deviation 22.98\n"
     ]
    }
   ],
   "source": [
    "analyze(sampleset_quench2, \"quench_schedule2\", data)"
   ]
  },
  {
   "cell_type": "code",
   "execution_count": 68,
   "metadata": {},
   "outputs": [],
   "source": [
    "quench_schedule = [[0.0, 0.0], [30.0, 0.40], [280.0, 0.40], [300, 1.0]]\n",
    "\n",
    "# [[t, s], [t_1, s_1], ..., [t_n, s_n]]\n",
    "# Time t must increase for all points in the schedule.\n",
    "# the anneal fraction s must start at s = 0.0 and end at s = 1.0"
   ]
  },
  {
   "cell_type": "code",
   "execution_count": 69,
   "metadata": {},
   "outputs": [],
   "source": [
    "sampleset_quench3 = FixedEmbeddingComposite(qpu, embedding).sample(bqm, \n",
    "                                                                  answer_mode=\"raw\", \n",
    "                                                                  num_reads=numr, \n",
    "                                                                  chain_strength= chnstr,\n",
    "                                                                  anneal_schedule=quench_schedule)  \n"
   ]
  },
  {
   "cell_type": "code",
   "execution_count": 70,
   "metadata": {},
   "outputs": [
    {
     "name": "stdout",
     "output_type": "stream",
     "text": [
      "Good solutions are 0.4% of samples.\n",
      "Best Known solutions are 0.2% of samples.\n",
      "Lowest energy found: [-6.225]\n",
      "Average energy is 30.56 with standard deviation 18.24\n"
     ]
    }
   ],
   "source": [
    "analyze(sampleset_quench3, \"quench_schedule3\", data)"
   ]
  },
  {
   "cell_type": "markdown",
   "metadata": {},
   "source": [
    "### Reverse"
   ]
  },
  {
   "cell_type": "markdown",
   "metadata": {},
   "source": [
    "In brief, reverse annealing is a technique that makes it possible to refine known good local solutions, thereby increasing performance for certain applications."
   ]
  },
  {
   "cell_type": "markdown",
   "metadata": {},
   "source": [
    "There are three parameters you can use to configure reverse annealing using Ocean:\n",
    "\n",
    "1. `anneal_schedule` defines the annealing schedule that should be followed.\n",
    "2. `initial_state` specifies the classical state at which the reverse anneal should start.\n",
    "3. `reinitialize_state` specifies whether or not the initial state should be used for every anneal in the request.  If False, then after the first, each subsequent anneal starts where the previous finished."
   ]
  },
  {
   "cell_type": "markdown",
   "metadata": {},
   "source": [
    "<img src=\"https://docs.dwavesys.com/docs/latest/_images/ra.png\" alt=\"drawing\" width=\"600\"/>"
   ]
  },
  {
   "cell_type": "markdown",
   "metadata": {},
   "source": [
    "\n",
    "A Reverse schedule always starts at `s = 1.0`, and ours reverses quickly to `s = 0.45`, pauses for `100 μs`, then quickly anneals forward. The schedule is formatted as a list of  **[time, s]** pairs. The next cell plots the schedule."
   ]
  },
  {
   "cell_type": "code",
   "execution_count": 72,
   "metadata": {},
   "outputs": [
    {
     "name": "stdout",
     "output_type": "stream",
     "text": [
      "[[0.0, 1.0], [2.75, 0.45], [132.75, 0.45], [133.3, 1.0]]\n",
      "Total anneal-schedule time is 133.3 us\n"
     ]
    }
   ],
   "source": [
    "# [[t, s], [t_1, s_1], ..., [t_n, s_n]]\n",
    "# Time t must increase for all points in the schedule.\n",
    "# the anneal fraction s must start and end at s = 1.0\n",
    "max_slope = 1.0/qpu.properties[\"annealing_time_range\"][0]\n",
    "reverse_schedule = make_reverse_anneal_schedule(s_target=0.45, hold_time=130, ramp_up_slope=max_slope)\n",
    "time_total = reverse_schedule[3][0]\n",
    "\n",
    "print(reverse_schedule)\n",
    "print(\"Total anneal-schedule time is {} us\".format(time_total))"
   ]
  },
  {
   "cell_type": "code",
   "execution_count": 73,
   "metadata": {},
   "outputs": [
    {
     "data": {
      "image/png": "[encoded data removed]",
      "text/plain": [
       "<Figure size 216x216 with 1 Axes>"
      ]
     },
     "metadata": {
      "needs_background": "light"
     },
     "output_type": "display_data"
    }
   ],
   "source": [
    "make_anneal_plot(reverse_schedule)"
   ]
  },
  {
   "cell_type": "code",
   "execution_count": 74,
   "metadata": {},
   "outputs": [],
   "source": [
    "# Assign best Sampleset\n",
    "best_sampleset = sampleset_quench3"
   ]
  },
  {
   "cell_type": "code",
   "execution_count": 75,
   "metadata": {},
   "outputs": [],
   "source": [
    "\n",
    "i5 = int(5.0/95*len(best_sampleset))  # Index i5 is about a 5% indexial move from the sample of lowest energy\n",
    "\n",
    "initial = dict(zip(best_sampleset.variables, best_sampleset.record[i5].sample))\n",
    "reverse_anneal_params = dict(anneal_schedule=reverse_schedule, initial_state=initial, reinitialize_state=False)\n",
    "\n",
    "# The `reinitialize_state` parameter switches between two qualitatively different methods of local search \n",
    "# via quantum annealing.  With `reinitialize_state = 'True'`, many anneals are seeded from the single starting \n",
    "# state and the states returned, modulo time-dependent sources of error, are independently and identically \n",
    "# distributed.  With `reinitialize_state = 'False'`, the series of anneals behaves like a random walk and \n",
    "# is capable of exploring the solution space more broadly.  \n"
   ]
  },
  {
   "cell_type": "code",
   "execution_count": 76,
   "metadata": {},
   "outputs": [],
   "source": [
    "sampleset_reverse1 = FixedEmbeddingComposite(qpu, embedding).sample(bqm, \n",
    "                                                                   answer_mode=\"raw\", \n",
    "                                                                   num_reads=numr, \n",
    "                                                                   chain_strength= chnstr,\n",
    "                                                                   **reverse_anneal_params)  \n"
   ]
  },
  {
   "cell_type": "code",
   "execution_count": 77,
   "metadata": {},
   "outputs": [
    {
     "name": "stdout",
     "output_type": "stream",
     "text": [
      "Good solutions are 0.2% of samples.\n",
      "Best Known solutions are 0.2% of samples.\n",
      "Lowest energy found: [1.0099999999999998]\n",
      "Average energy is 37.54 with standard deviation 20.62\n"
     ]
    }
   ],
   "source": [
    "analyze(sampleset_reverse1, \"reverse_schedule1\", data)"
   ]
  },
  {
   "cell_type": "code",
   "execution_count": 78,
   "metadata": {},
   "outputs": [],
   "source": [
    "sampleset_reverse2 = FixedEmbeddingComposite(qpu, embedding).sample(bqm, \n",
    "                                                                   answer_mode=\"raw\", \n",
    "                                                                   num_reads=numr, \n",
    "                                                                   chain_strength= chnstr,\n",
    "                                                                   **reverse_anneal_params)  \n"
   ]
  },
  {
   "cell_type": "code",
   "execution_count": 79,
   "metadata": {},
   "outputs": [
    {
     "name": "stdout",
     "output_type": "stream",
     "text": [
      "Good solutions are 0.2% of samples.\n",
      "Best Known solutions are 0.2% of samples.\n",
      "Lowest energy found: [1.6349999999999998]\n",
      "Average energy is 44.82 with standard deviation 23.82\n"
     ]
    }
   ],
   "source": [
    "analyze(sampleset_reverse2, \"reverse_schedule2\", data)"
   ]
  },
  {
   "cell_type": "markdown",
   "metadata": {},
   "source": [
    "#### Make table of solutions:"
   ]
  },
  {
   "cell_type": "code",
   "execution_count": 80,
   "metadata": {},
   "outputs": [
    {
     "data": {
      "text/plain": [
       "[['embedding1A', 0.2, 0.2, 9.065, 58.35253, 22.88197358072725],\n",
       " ['embedding1B',\n",
       "  0.2,\n",
       "  0.2,\n",
       "  4.425000000000001,\n",
       "  55.86147999999999,\n",
       "  22.646244485777327],\n",
       " ['embedding2A', 0.2, 0.2, 5.365, 94.13476000000001, 36.45938338401241],\n",
       " ['embedding2B', 0.2, 0.2, 6.76, 83.82194, 38.140909304005845],\n",
       " ['embedding3A', 0.2, 0.6, -5.7, 18.45643, 14.687203610800116],\n",
       " ['embedding3B', 0.2, 1.0, -4.935, 18.62327, 14.295999816630525],\n",
       " ['default_chains',\n",
       "  0.2,\n",
       "  0.4,\n",
       "  -6.504999999999999,\n",
       "  15.483150000000002,\n",
       "  13.528243552933988],\n",
       " ['scaled_chains1', 0.2, 0.2, 314.45, 647.86738, 147.81687740253344],\n",
       " ['scaled_chains2', 0.2, 0.2, 180.535, 618.38046, 153.6667707501801],\n",
       " ['torque_chains1',\n",
       "  0.2,\n",
       "  0.4,\n",
       "  2.7750000000000004,\n",
       "  48.24822,\n",
       "  27.712629469821156],\n",
       " ['torque_chains2', 0.2, 0.2, -4.54, 50.73607, 28.547657788426356],\n",
       " ['time_20', 0.4, 0.6, 1.6000000000000005, 43.07133, 22.57713391423057],\n",
       " ['time_25',\n",
       "  0.2,\n",
       "  0.4,\n",
       "  3.1350000000000007,\n",
       "  47.082649999999994,\n",
       "  25.141083409978574],\n",
       " ['time_30', 0.2, 0.2, 1.25, 42.39411, 20.86225076682523],\n",
       " ['time_35', 0.2, 0.2, -4.305, 39.76052000000001, 22.248787333911032],\n",
       " ['time_40',\n",
       "  0.2,\n",
       "  0.2,\n",
       "  -4.864999999999999,\n",
       "  40.649080000000005,\n",
       "  23.64798576948151],\n",
       " ['time_45',\n",
       "  0.2,\n",
       "  0.2,\n",
       "  -4.409999999999999,\n",
       "  41.137029999999996,\n",
       "  21.417925866644975],\n",
       " ['time_50', 0.2, 0.2, -4.574999999999999, 39.70274, 23.386737269067698],\n",
       " ['quench_schedule1', 0.2, 0.4, -5.145, 33.40399000000001, 20.074944546122662],\n",
       " ['quench_schedule2', 0.2, 0.2, -6.225, 40.75281999999999, 22.977223410316572],\n",
       " ['quench_schedule3', 0.2, 0.4, -6.225, 30.562, 18.242919623788293],\n",
       " ['reverse_schedule1',\n",
       "  0.2,\n",
       "  0.2,\n",
       "  1.0099999999999998,\n",
       "  37.5361,\n",
       "  20.6190606427645],\n",
       " ['reverse_schedule2',\n",
       "  0.2,\n",
       "  0.2,\n",
       "  1.6349999999999998,\n",
       "  44.82356,\n",
       "  23.8223693453527]]"
      ]
     },
     "execution_count": 80,
     "metadata": {},
     "output_type": "execute_result"
    }
   ],
   "source": [
    "df = pd.DataFrame(data, columns=[\"Label\", \"Best Known Solutions (%)\", \"Good Known Solutions (%)\", \"Lowest Energy\", \"Average Energy\", \"Standard Deviation\"])\n",
    "data"
   ]
  },
  {
   "cell_type": "code",
   "execution_count": 81,
   "metadata": {},
   "outputs": [
    {
     "data": {
      "text/html": [
       "<div>\n",
       "<style scoped>\n",
       "    .dataframe tbody tr th:only-of-type {\n",
       "        vertical-align: middle;\n",
       "    }\n",
       "\n",
       "    .dataframe tbody tr th {\n",
       "        vertical-align: top;\n",
       "    }\n",
       "\n",
       "    .dataframe thead th {\n",
       "        text-align: right;\n",
       "    }\n",
       "</style>\n",
       "<table border=\"1\" class=\"dataframe\">\n",
       "  <thead>\n",
       "    <tr style=\"text-align: right;\">\n",
       "      <th></th>\n",
       "      <th>Label</th>\n",
       "      <th>Best Known Solutions (%)</th>\n",
       "      <th>Good Known Solutions (%)</th>\n",
       "      <th>Lowest Energy</th>\n",
       "      <th>Average Energy</th>\n",
       "      <th>Standard Deviation</th>\n",
       "    </tr>\n",
       "  </thead>\n",
       "  <tbody>\n",
       "    <tr>\n",
       "      <th>0</th>\n",
       "      <td>embedding1A</td>\n",
       "      <td>0.2</td>\n",
       "      <td>0.2</td>\n",
       "      <td>9.065</td>\n",
       "      <td>58.35253</td>\n",
       "      <td>22.881974</td>\n",
       "    </tr>\n",
       "    <tr>\n",
       "      <th>1</th>\n",
       "      <td>embedding1B</td>\n",
       "      <td>0.2</td>\n",
       "      <td>0.2</td>\n",
       "      <td>4.425</td>\n",
       "      <td>55.86148</td>\n",
       "      <td>22.646244</td>\n",
       "    </tr>\n",
       "    <tr>\n",
       "      <th>2</th>\n",
       "      <td>embedding2A</td>\n",
       "      <td>0.2</td>\n",
       "      <td>0.2</td>\n",
       "      <td>5.365</td>\n",
       "      <td>94.13476</td>\n",
       "      <td>36.459383</td>\n",
       "    </tr>\n",
       "    <tr>\n",
       "      <th>3</th>\n",
       "      <td>embedding2B</td>\n",
       "      <td>0.2</td>\n",
       "      <td>0.2</td>\n",
       "      <td>6.760</td>\n",
       "      <td>83.82194</td>\n",
       "      <td>38.140909</td>\n",
       "    </tr>\n",
       "    <tr>\n",
       "      <th>4</th>\n",
       "      <td>embedding3A</td>\n",
       "      <td>0.2</td>\n",
       "      <td>0.6</td>\n",
       "      <td>-5.700</td>\n",
       "      <td>18.45643</td>\n",
       "      <td>14.687204</td>\n",
       "    </tr>\n",
       "    <tr>\n",
       "      <th>5</th>\n",
       "      <td>embedding3B</td>\n",
       "      <td>0.2</td>\n",
       "      <td>1.0</td>\n",
       "      <td>-4.935</td>\n",
       "      <td>18.62327</td>\n",
       "      <td>14.296000</td>\n",
       "    </tr>\n",
       "    <tr>\n",
       "      <th>6</th>\n",
       "      <td>default_chains</td>\n",
       "      <td>0.2</td>\n",
       "      <td>0.4</td>\n",
       "      <td>-6.505</td>\n",
       "      <td>15.48315</td>\n",
       "      <td>13.528244</td>\n",
       "    </tr>\n",
       "    <tr>\n",
       "      <th>7</th>\n",
       "      <td>scaled_chains1</td>\n",
       "      <td>0.2</td>\n",
       "      <td>0.2</td>\n",
       "      <td>314.450</td>\n",
       "      <td>647.86738</td>\n",
       "      <td>147.816877</td>\n",
       "    </tr>\n",
       "    <tr>\n",
       "      <th>8</th>\n",
       "      <td>scaled_chains2</td>\n",
       "      <td>0.2</td>\n",
       "      <td>0.2</td>\n",
       "      <td>180.535</td>\n",
       "      <td>618.38046</td>\n",
       "      <td>153.666771</td>\n",
       "    </tr>\n",
       "    <tr>\n",
       "      <th>9</th>\n",
       "      <td>torque_chains1</td>\n",
       "      <td>0.2</td>\n",
       "      <td>0.4</td>\n",
       "      <td>2.775</td>\n",
       "      <td>48.24822</td>\n",
       "      <td>27.712629</td>\n",
       "    </tr>\n",
       "    <tr>\n",
       "      <th>10</th>\n",
       "      <td>torque_chains2</td>\n",
       "      <td>0.2</td>\n",
       "      <td>0.2</td>\n",
       "      <td>-4.540</td>\n",
       "      <td>50.73607</td>\n",
       "      <td>28.547658</td>\n",
       "    </tr>\n",
       "    <tr>\n",
       "      <th>11</th>\n",
       "      <td>time_20</td>\n",
       "      <td>0.4</td>\n",
       "      <td>0.6</td>\n",
       "      <td>1.600</td>\n",
       "      <td>43.07133</td>\n",
       "      <td>22.577134</td>\n",
       "    </tr>\n",
       "    <tr>\n",
       "      <th>12</th>\n",
       "      <td>time_25</td>\n",
       "      <td>0.2</td>\n",
       "      <td>0.4</td>\n",
       "      <td>3.135</td>\n",
       "      <td>47.08265</td>\n",
       "      <td>25.141083</td>\n",
       "    </tr>\n",
       "    <tr>\n",
       "      <th>13</th>\n",
       "      <td>time_30</td>\n",
       "      <td>0.2</td>\n",
       "      <td>0.2</td>\n",
       "      <td>1.250</td>\n",
       "      <td>42.39411</td>\n",
       "      <td>20.862251</td>\n",
       "    </tr>\n",
       "    <tr>\n",
       "      <th>14</th>\n",
       "      <td>time_35</td>\n",
       "      <td>0.2</td>\n",
       "      <td>0.2</td>\n",
       "      <td>-4.305</td>\n",
       "      <td>39.76052</td>\n",
       "      <td>22.248787</td>\n",
       "    </tr>\n",
       "    <tr>\n",
       "      <th>15</th>\n",
       "      <td>time_40</td>\n",
       "      <td>0.2</td>\n",
       "      <td>0.2</td>\n",
       "      <td>-4.865</td>\n",
       "      <td>40.64908</td>\n",
       "      <td>23.647986</td>\n",
       "    </tr>\n",
       "    <tr>\n",
       "      <th>16</th>\n",
       "      <td>time_45</td>\n",
       "      <td>0.2</td>\n",
       "      <td>0.2</td>\n",
       "      <td>-4.410</td>\n",
       "      <td>41.13703</td>\n",
       "      <td>21.417926</td>\n",
       "    </tr>\n",
       "    <tr>\n",
       "      <th>17</th>\n",
       "      <td>time_50</td>\n",
       "      <td>0.2</td>\n",
       "      <td>0.2</td>\n",
       "      <td>-4.575</td>\n",
       "      <td>39.70274</td>\n",
       "      <td>23.386737</td>\n",
       "    </tr>\n",
       "    <tr>\n",
       "      <th>18</th>\n",
       "      <td>quench_schedule1</td>\n",
       "      <td>0.2</td>\n",
       "      <td>0.4</td>\n",
       "      <td>-5.145</td>\n",
       "      <td>33.40399</td>\n",
       "      <td>20.074945</td>\n",
       "    </tr>\n",
       "    <tr>\n",
       "      <th>19</th>\n",
       "      <td>quench_schedule2</td>\n",
       "      <td>0.2</td>\n",
       "      <td>0.2</td>\n",
       "      <td>-6.225</td>\n",
       "      <td>40.75282</td>\n",
       "      <td>22.977223</td>\n",
       "    </tr>\n",
       "    <tr>\n",
       "      <th>20</th>\n",
       "      <td>quench_schedule3</td>\n",
       "      <td>0.2</td>\n",
       "      <td>0.4</td>\n",
       "      <td>-6.225</td>\n",
       "      <td>30.56200</td>\n",
       "      <td>18.242920</td>\n",
       "    </tr>\n",
       "    <tr>\n",
       "      <th>21</th>\n",
       "      <td>reverse_schedule1</td>\n",
       "      <td>0.2</td>\n",
       "      <td>0.2</td>\n",
       "      <td>1.010</td>\n",
       "      <td>37.53610</td>\n",
       "      <td>20.619061</td>\n",
       "    </tr>\n",
       "    <tr>\n",
       "      <th>22</th>\n",
       "      <td>reverse_schedule2</td>\n",
       "      <td>0.2</td>\n",
       "      <td>0.2</td>\n",
       "      <td>1.635</td>\n",
       "      <td>44.82356</td>\n",
       "      <td>23.822369</td>\n",
       "    </tr>\n",
       "  </tbody>\n",
       "</table>\n",
       "</div>"
      ],
      "text/plain": [
       "                Label  Best Known Solutions (%)  Good Known Solutions (%)  \\\n",
       "0         embedding1A                       0.2                       0.2   \n",
       "1         embedding1B                       0.2                       0.2   \n",
       "2         embedding2A                       0.2                       0.2   \n",
       "3         embedding2B                       0.2                       0.2   \n",
       "4         embedding3A                       0.2                       0.6   \n",
       "5         embedding3B                       0.2                       1.0   \n",
       "6      default_chains                       0.2                       0.4   \n",
       "7      scaled_chains1                       0.2                       0.2   \n",
       "8      scaled_chains2                       0.2                       0.2   \n",
       "9      torque_chains1                       0.2                       0.4   \n",
       "10     torque_chains2                       0.2                       0.2   \n",
       "11            time_20                       0.4                       0.6   \n",
       "12            time_25                       0.2                       0.4   \n",
       "13            time_30                       0.2                       0.2   \n",
       "14            time_35                       0.2                       0.2   \n",
       "15            time_40                       0.2                       0.2   \n",
       "16            time_45                       0.2                       0.2   \n",
       "17            time_50                       0.2                       0.2   \n",
       "18   quench_schedule1                       0.2                       0.4   \n",
       "19   quench_schedule2                       0.2                       0.2   \n",
       "20   quench_schedule3                       0.2                       0.4   \n",
       "21  reverse_schedule1                       0.2                       0.2   \n",
       "22  reverse_schedule2                       0.2                       0.2   \n",
       "\n",
       "    Lowest Energy  Average Energy  Standard Deviation  \n",
       "0           9.065        58.35253           22.881974  \n",
       "1           4.425        55.86148           22.646244  \n",
       "2           5.365        94.13476           36.459383  \n",
       "3           6.760        83.82194           38.140909  \n",
       "4          -5.700        18.45643           14.687204  \n",
       "5          -4.935        18.62327           14.296000  \n",
       "6          -6.505        15.48315           13.528244  \n",
       "7         314.450       647.86738          147.816877  \n",
       "8         180.535       618.38046          153.666771  \n",
       "9           2.775        48.24822           27.712629  \n",
       "10         -4.540        50.73607           28.547658  \n",
       "11          1.600        43.07133           22.577134  \n",
       "12          3.135        47.08265           25.141083  \n",
       "13          1.250        42.39411           20.862251  \n",
       "14         -4.305        39.76052           22.248787  \n",
       "15         -4.865        40.64908           23.647986  \n",
       "16         -4.410        41.13703           21.417926  \n",
       "17         -4.575        39.70274           23.386737  \n",
       "18         -5.145        33.40399           20.074945  \n",
       "19         -6.225        40.75282           22.977223  \n",
       "20         -6.225        30.56200           18.242920  \n",
       "21          1.010        37.53610           20.619061  \n",
       "22          1.635        44.82356           23.822369  "
      ]
     },
     "execution_count": 81,
     "metadata": {},
     "output_type": "execute_result"
    }
   ],
   "source": [
    "df"
   ]
  },
  {
   "cell_type": "code",
   "execution_count": null,
   "metadata": {},
   "outputs": [],
   "source": []
  }
 ],
 "metadata": {
  "kernelspec": {
   "display_name": "Python 3",
   "language": "python",
   "name": "python3"
  },
  "language_info": {
   "codemirror_mode": {
    "name": "ipython",
    "version": 3
   },
   "file_extension": ".py",
   "mimetype": "text/x-python",
   "name": "python",
   "nbconvert_exporter": "python",
   "pygments_lexer": "ipython3",
   "version": "3.8.3"
  }
 },
 "nbformat": 4,
 "nbformat_minor": 4
}
