{
 "cells": [
  {
   "cell_type": "code",
   "execution_count": 1,
   "metadata": {},
   "outputs": [],
   "source": [
    "from qubo_util import *\n",
    "import numpy as np\n",
    "import pandas as pd\n",
    "import seaborn as sns\n",
    "import matplotlib.pyplot as plt"
   ]
  },
  {
   "cell_type": "code",
   "execution_count": 2,
   "metadata": {},
   "outputs": [],
   "source": [
    "df = pd.read_csv (r'data10.csv', sep = ';')"
   ]
  },
  {
   "cell_type": "code",
   "execution_count": 3,
   "metadata": {},
   "outputs": [],
   "source": [
    "df[\"Energy\"] = df[\"Energy\"]*(-1)-8"
   ]
  },
  {
   "cell_type": "code",
   "execution_count": 4,
   "metadata": {},
   "outputs": [
    {
     "data": {
      "text/html": [
       "<div>\n",
       "<style scoped>\n",
       "    .dataframe tbody tr th:only-of-type {\n",
       "        vertical-align: middle;\n",
       "    }\n",
       "\n",
       "    .dataframe tbody tr th {\n",
       "        vertical-align: top;\n",
       "    }\n",
       "\n",
       "    .dataframe thead th {\n",
       "        text-align: right;\n",
       "    }\n",
       "</style>\n",
       "<table border=\"1\" class=\"dataframe\">\n",
       "  <thead>\n",
       "    <tr style=\"text-align: right;\">\n",
       "      <th></th>\n",
       "      <th>Complexity</th>\n",
       "      <th>QPU</th>\n",
       "      <th>Energy</th>\n",
       "      <th>Category</th>\n",
       "    </tr>\n",
       "  </thead>\n",
       "  <tbody>\n",
       "    <tr>\n",
       "      <th>0</th>\n",
       "      <td>Job10</td>\n",
       "      <td>QBSolv</td>\n",
       "      <td>0.0</td>\n",
       "      <td>CPU</td>\n",
       "    </tr>\n",
       "    <tr>\n",
       "      <th>1</th>\n",
       "      <td>Job10</td>\n",
       "      <td>QBSolv</td>\n",
       "      <td>0.0</td>\n",
       "      <td>CPU</td>\n",
       "    </tr>\n",
       "    <tr>\n",
       "      <th>2</th>\n",
       "      <td>Job10</td>\n",
       "      <td>Neal</td>\n",
       "      <td>0.0</td>\n",
       "      <td>CPU</td>\n",
       "    </tr>\n",
       "    <tr>\n",
       "      <th>3</th>\n",
       "      <td>Job10</td>\n",
       "      <td>Neal</td>\n",
       "      <td>0.0</td>\n",
       "      <td>CPU</td>\n",
       "    </tr>\n",
       "    <tr>\n",
       "      <th>4</th>\n",
       "      <td>Job10</td>\n",
       "      <td>Neal</td>\n",
       "      <td>0.0</td>\n",
       "      <td>CPU</td>\n",
       "    </tr>\n",
       "    <tr>\n",
       "      <th>...</th>\n",
       "      <td>...</td>\n",
       "      <td>...</td>\n",
       "      <td>...</td>\n",
       "      <td>...</td>\n",
       "    </tr>\n",
       "    <tr>\n",
       "      <th>1681</th>\n",
       "      <td>Job10</td>\n",
       "      <td>D Wave</td>\n",
       "      <td>-1.8</td>\n",
       "      <td>QPU</td>\n",
       "    </tr>\n",
       "    <tr>\n",
       "      <th>1682</th>\n",
       "      <td>Job10</td>\n",
       "      <td>D Wave</td>\n",
       "      <td>-1.8</td>\n",
       "      <td>QPU</td>\n",
       "    </tr>\n",
       "    <tr>\n",
       "      <th>1683</th>\n",
       "      <td>Job10</td>\n",
       "      <td>D Wave</td>\n",
       "      <td>-1.8</td>\n",
       "      <td>QPU</td>\n",
       "    </tr>\n",
       "    <tr>\n",
       "      <th>1684</th>\n",
       "      <td>Job10</td>\n",
       "      <td>D Wave</td>\n",
       "      <td>-1.8</td>\n",
       "      <td>QPU</td>\n",
       "    </tr>\n",
       "    <tr>\n",
       "      <th>1685</th>\n",
       "      <td>Job10</td>\n",
       "      <td>D Wave</td>\n",
       "      <td>-1.8</td>\n",
       "      <td>QPU</td>\n",
       "    </tr>\n",
       "  </tbody>\n",
       "</table>\n",
       "<p>1686 rows × 4 columns</p>\n",
       "</div>"
      ],
      "text/plain": [
       "     Complexity     QPU  Energy Category\n",
       "0         Job10  QBSolv     0.0      CPU\n",
       "1         Job10  QBSolv     0.0      CPU\n",
       "2         Job10    Neal     0.0      CPU\n",
       "3         Job10    Neal     0.0      CPU\n",
       "4         Job10    Neal     0.0      CPU\n",
       "...         ...     ...     ...      ...\n",
       "1681      Job10  D Wave    -1.8      QPU\n",
       "1682      Job10  D Wave    -1.8      QPU\n",
       "1683      Job10  D Wave    -1.8      QPU\n",
       "1684      Job10  D Wave    -1.8      QPU\n",
       "1685      Job10  D Wave    -1.8      QPU\n",
       "\n",
       "[1686 rows x 4 columns]"
      ]
     },
     "execution_count": 4,
     "metadata": {},
     "output_type": "execute_result"
    }
   ],
   "source": [
    "df"
   ]
  },
  {
   "cell_type": "code",
   "execution_count": 5,
   "metadata": {},
   "outputs": [
    {
     "data": {
      "image/png": "[encoded data removed]",
      "text/plain": [
       "<Figure size 576x432 with 1 Axes>"
      ]
     },
     "metadata": {
      "needs_background": "light"
     },
     "output_type": "display_data"
    }
   ],
   "source": [
    "f, ax = plt.subplots(figsize=(8,6))\n",
    "\n",
    "\n",
    "ax = sns.boxplot(x=\"QPU\", y=\"Energy\", hue = \"Category\", dodge = False , \n",
    "                 #palette=\"Blues\", \n",
    "                 fliersize = 3,\n",
    "                 data=df, linewidth=1.2).set(\n",
    "    xlabel='Solvers for Job10', \n",
    "    ylabel='Distance from Minimal Energy'\n",
    ")\n",
    "\n",
    "plt.savefig('Solvers for Job10.pdf')"
   ]
  },
  {
   "cell_type": "code",
   "execution_count": 14,
   "metadata": {},
   "outputs": [],
   "source": [
    "df = pd.read_csv (r'data20.csv', sep = ';')"
   ]
  },
  {
   "cell_type": "code",
   "execution_count": 15,
   "metadata": {},
   "outputs": [],
   "source": [
    "df[\"Energy\"] = df[\"Energy\"]*(-1)-8"
   ]
  },
  {
   "cell_type": "code",
   "execution_count": 16,
   "metadata": {},
   "outputs": [
    {
     "data": {
      "text/html": [
       "<div>\n",
       "<style scoped>\n",
       "    .dataframe tbody tr th:only-of-type {\n",
       "        vertical-align: middle;\n",
       "    }\n",
       "\n",
       "    .dataframe tbody tr th {\n",
       "        vertical-align: top;\n",
       "    }\n",
       "\n",
       "    .dataframe thead th {\n",
       "        text-align: right;\n",
       "    }\n",
       "</style>\n",
       "<table border=\"1\" class=\"dataframe\">\n",
       "  <thead>\n",
       "    <tr style=\"text-align: right;\">\n",
       "      <th></th>\n",
       "      <th>Complexity</th>\n",
       "      <th>QPU</th>\n",
       "      <th>Energy</th>\n",
       "      <th>Category</th>\n",
       "    </tr>\n",
       "  </thead>\n",
       "  <tbody>\n",
       "    <tr>\n",
       "      <th>0</th>\n",
       "      <td>Job20</td>\n",
       "      <td>QBSolv</td>\n",
       "      <td>0.0</td>\n",
       "      <td>CPU</td>\n",
       "    </tr>\n",
       "    <tr>\n",
       "      <th>1</th>\n",
       "      <td>Job20</td>\n",
       "      <td>QBSolv</td>\n",
       "      <td>0.0</td>\n",
       "      <td>CPU</td>\n",
       "    </tr>\n",
       "    <tr>\n",
       "      <th>2</th>\n",
       "      <td>Job20</td>\n",
       "      <td>Neal</td>\n",
       "      <td>0.0</td>\n",
       "      <td>CPU</td>\n",
       "    </tr>\n",
       "    <tr>\n",
       "      <th>3</th>\n",
       "      <td>Job20</td>\n",
       "      <td>Neal</td>\n",
       "      <td>0.0</td>\n",
       "      <td>CPU</td>\n",
       "    </tr>\n",
       "    <tr>\n",
       "      <th>4</th>\n",
       "      <td>Job20</td>\n",
       "      <td>Neal</td>\n",
       "      <td>0.0</td>\n",
       "      <td>CPU</td>\n",
       "    </tr>\n",
       "    <tr>\n",
       "      <th>...</th>\n",
       "      <td>...</td>\n",
       "      <td>...</td>\n",
       "      <td>...</td>\n",
       "      <td>...</td>\n",
       "    </tr>\n",
       "    <tr>\n",
       "      <th>1720</th>\n",
       "      <td>Job20</td>\n",
       "      <td>D Wave</td>\n",
       "      <td>-10.4</td>\n",
       "      <td>QPU</td>\n",
       "    </tr>\n",
       "    <tr>\n",
       "      <th>1721</th>\n",
       "      <td>Job20</td>\n",
       "      <td>D Wave</td>\n",
       "      <td>-10.6</td>\n",
       "      <td>QPU</td>\n",
       "    </tr>\n",
       "    <tr>\n",
       "      <th>1722</th>\n",
       "      <td>Job20</td>\n",
       "      <td>D Wave</td>\n",
       "      <td>-10.7</td>\n",
       "      <td>QPU</td>\n",
       "    </tr>\n",
       "    <tr>\n",
       "      <th>1723</th>\n",
       "      <td>Job20</td>\n",
       "      <td>D Wave</td>\n",
       "      <td>-10.7</td>\n",
       "      <td>QPU</td>\n",
       "    </tr>\n",
       "    <tr>\n",
       "      <th>1724</th>\n",
       "      <td>Job20</td>\n",
       "      <td>D Wave</td>\n",
       "      <td>-10.9</td>\n",
       "      <td>QPU</td>\n",
       "    </tr>\n",
       "  </tbody>\n",
       "</table>\n",
       "<p>1725 rows × 4 columns</p>\n",
       "</div>"
      ],
      "text/plain": [
       "     Complexity     QPU  Energy Category\n",
       "0         Job20  QBSolv     0.0      CPU\n",
       "1         Job20  QBSolv     0.0      CPU\n",
       "2         Job20    Neal     0.0      CPU\n",
       "3         Job20    Neal     0.0      CPU\n",
       "4         Job20    Neal     0.0      CPU\n",
       "...         ...     ...     ...      ...\n",
       "1720      Job20  D Wave   -10.4      QPU\n",
       "1721      Job20  D Wave   -10.6      QPU\n",
       "1722      Job20  D Wave   -10.7      QPU\n",
       "1723      Job20  D Wave   -10.7      QPU\n",
       "1724      Job20  D Wave   -10.9      QPU\n",
       "\n",
       "[1725 rows x 4 columns]"
      ]
     },
     "execution_count": 16,
     "metadata": {},
     "output_type": "execute_result"
    }
   ],
   "source": [
    "df"
   ]
  },
  {
   "cell_type": "code",
   "execution_count": 17,
   "metadata": {},
   "outputs": [
    {
     "data": {
      "image/png": "[encoded data removed]",
      "text/plain": [
       "<Figure size 576x432 with 1 Axes>"
      ]
     },
     "metadata": {
      "needs_background": "light"
     },
     "output_type": "display_data"
    }
   ],
   "source": [
    "f, ax = plt.subplots(figsize=(8,6))\n",
    "\n",
    "\n",
    "ax = sns.boxplot(x=\"QPU\", y=\"Energy\", hue = \"Category\", dodge = False , \n",
    "                 #palette=\"Blues\", \n",
    "                 fliersize = 3,\n",
    "                 data=df, linewidth=1.2).set(\n",
    "    xlabel='Solvers for Job20', \n",
    "    ylabel='Distance from Minimal Energy'\n",
    ")\n",
    "\n",
    "plt.savefig('Solvers for Job20.pdf')"
   ]
  },
  {
   "cell_type": "code",
   "execution_count": 14,
   "metadata": {},
   "outputs": [],
   "source": [
    "df = pd.read_csv (r'data50.csv', sep = ';')"
   ]
  },
  {
   "cell_type": "code",
   "execution_count": 15,
   "metadata": {},
   "outputs": [],
   "source": [
    "df[\"Energy\"] = df[\"Energy\"]*(-1)-8"
   ]
  },
  {
   "cell_type": "code",
   "execution_count": 16,
   "metadata": {},
   "outputs": [
    {
     "data": {
      "text/html": [
       "<div>\n",
       "<style scoped>\n",
       "    .dataframe tbody tr th:only-of-type {\n",
       "        vertical-align: middle;\n",
       "    }\n",
       "\n",
       "    .dataframe tbody tr th {\n",
       "        vertical-align: top;\n",
       "    }\n",
       "\n",
       "    .dataframe thead th {\n",
       "        text-align: right;\n",
       "    }\n",
       "</style>\n",
       "<table border=\"1\" class=\"dataframe\">\n",
       "  <thead>\n",
       "    <tr style=\"text-align: right;\">\n",
       "      <th></th>\n",
       "      <th>Complexity</th>\n",
       "      <th>QPU</th>\n",
       "      <th>Energy</th>\n",
       "      <th>Category</th>\n",
       "    </tr>\n",
       "  </thead>\n",
       "  <tbody>\n",
       "    <tr>\n",
       "      <th>0</th>\n",
       "      <td>Job50</td>\n",
       "      <td>QBSolv</td>\n",
       "      <td>2.0</td>\n",
       "      <td>CPU</td>\n",
       "    </tr>\n",
       "    <tr>\n",
       "      <th>1</th>\n",
       "      <td>Job50</td>\n",
       "      <td>QBSolv</td>\n",
       "      <td>2.0</td>\n",
       "      <td>CPU</td>\n",
       "    </tr>\n",
       "    <tr>\n",
       "      <th>2</th>\n",
       "      <td>Job50</td>\n",
       "      <td>Neal</td>\n",
       "      <td>2.0</td>\n",
       "      <td>CPU</td>\n",
       "    </tr>\n",
       "    <tr>\n",
       "      <th>3</th>\n",
       "      <td>Job50</td>\n",
       "      <td>Neal</td>\n",
       "      <td>2.0</td>\n",
       "      <td>CPU</td>\n",
       "    </tr>\n",
       "    <tr>\n",
       "      <th>4</th>\n",
       "      <td>Job50</td>\n",
       "      <td>Neal</td>\n",
       "      <td>2.0</td>\n",
       "      <td>CPU</td>\n",
       "    </tr>\n",
       "    <tr>\n",
       "      <th>...</th>\n",
       "      <td>...</td>\n",
       "      <td>...</td>\n",
       "      <td>...</td>\n",
       "      <td>...</td>\n",
       "    </tr>\n",
       "    <tr>\n",
       "      <th>3371</th>\n",
       "      <td>Job50</td>\n",
       "      <td>D Wave</td>\n",
       "      <td>-33.5</td>\n",
       "      <td>QPU</td>\n",
       "    </tr>\n",
       "    <tr>\n",
       "      <th>3372</th>\n",
       "      <td>Job50</td>\n",
       "      <td>D Wave</td>\n",
       "      <td>-33.7</td>\n",
       "      <td>QPU</td>\n",
       "    </tr>\n",
       "    <tr>\n",
       "      <th>3373</th>\n",
       "      <td>Job50</td>\n",
       "      <td>D Wave</td>\n",
       "      <td>-41.9</td>\n",
       "      <td>QPU</td>\n",
       "    </tr>\n",
       "    <tr>\n",
       "      <th>3374</th>\n",
       "      <td>Job50</td>\n",
       "      <td>D Wave</td>\n",
       "      <td>-45.6</td>\n",
       "      <td>QPU</td>\n",
       "    </tr>\n",
       "    <tr>\n",
       "      <th>3375</th>\n",
       "      <td>Job50</td>\n",
       "      <td>D Wave</td>\n",
       "      <td>-56.2</td>\n",
       "      <td>QPU</td>\n",
       "    </tr>\n",
       "  </tbody>\n",
       "</table>\n",
       "<p>3376 rows × 4 columns</p>\n",
       "</div>"
      ],
      "text/plain": [
       "     Complexity     QPU  Energy Category\n",
       "0         Job50  QBSolv     2.0      CPU\n",
       "1         Job50  QBSolv     2.0      CPU\n",
       "2         Job50    Neal     2.0      CPU\n",
       "3         Job50    Neal     2.0      CPU\n",
       "4         Job50    Neal     2.0      CPU\n",
       "...         ...     ...     ...      ...\n",
       "3371      Job50  D Wave   -33.5      QPU\n",
       "3372      Job50  D Wave   -33.7      QPU\n",
       "3373      Job50  D Wave   -41.9      QPU\n",
       "3374      Job50  D Wave   -45.6      QPU\n",
       "3375      Job50  D Wave   -56.2      QPU\n",
       "\n",
       "[3376 rows x 4 columns]"
      ]
     },
     "execution_count": 16,
     "metadata": {},
     "output_type": "execute_result"
    }
   ],
   "source": [
    "df"
   ]
  },
  {
   "cell_type": "code",
   "execution_count": 17,
   "metadata": {},
   "outputs": [
    {
     "data": {
      "image/png": "[encoded data removed]",
      "text/plain": [
       "<Figure size 576x432 with 1 Axes>"
      ]
     },
     "metadata": {
      "needs_background": "light"
     },
     "output_type": "display_data"
    }
   ],
   "source": [
    "f, ax = plt.subplots(figsize=(8,6))\n",
    "\n",
    "\n",
    "ax = sns.boxplot(x=\"QPU\", y=\"Energy\", hue = \"Category\", dodge = False , \n",
    "                 #palette=\"Blues\", \n",
    "                 fliersize = 3,\n",
    "                 data=df, linewidth=1.2).set(\n",
    "    xlabel='Solvers for Job50', \n",
    "    ylabel='Distance from Minimal Energy'\n",
    ")\n",
    "\n",
    "plt.savefig('Solvers for Job50.pdf')"
   ]
  },
  {
   "cell_type": "code",
   "execution_count": null,
   "metadata": {},
   "outputs": [],
   "source": []
  },
  {
   "cell_type": "code",
   "execution_count": 18,
   "metadata": {},
   "outputs": [],
   "source": [
    "df = pd.read_csv (r'data100.csv', sep = ';')"
   ]
  },
  {
   "cell_type": "code",
   "execution_count": 19,
   "metadata": {},
   "outputs": [],
   "source": [
    "df[\"Energy\"] = df[\"Energy\"]*(-1)-8"
   ]
  },
  {
   "cell_type": "code",
   "execution_count": 20,
   "metadata": {},
   "outputs": [
    {
     "data": {
      "text/html": [
       "<div>\n",
       "<style scoped>\n",
       "    .dataframe tbody tr th:only-of-type {\n",
       "        vertical-align: middle;\n",
       "    }\n",
       "\n",
       "    .dataframe tbody tr th {\n",
       "        vertical-align: top;\n",
       "    }\n",
       "\n",
       "    .dataframe thead th {\n",
       "        text-align: right;\n",
       "    }\n",
       "</style>\n",
       "<table border=\"1\" class=\"dataframe\">\n",
       "  <thead>\n",
       "    <tr style=\"text-align: right;\">\n",
       "      <th></th>\n",
       "      <th>Complexity</th>\n",
       "      <th>QPU</th>\n",
       "      <th>Energy</th>\n",
       "      <th>Category</th>\n",
       "    </tr>\n",
       "  </thead>\n",
       "  <tbody>\n",
       "    <tr>\n",
       "      <th>0</th>\n",
       "      <td>Job100</td>\n",
       "      <td>QBSolv</td>\n",
       "      <td>2.0</td>\n",
       "      <td>CPU</td>\n",
       "    </tr>\n",
       "    <tr>\n",
       "      <th>1</th>\n",
       "      <td>Job100</td>\n",
       "      <td>QBSolv</td>\n",
       "      <td>2.0</td>\n",
       "      <td>CPU</td>\n",
       "    </tr>\n",
       "    <tr>\n",
       "      <th>2</th>\n",
       "      <td>Job100</td>\n",
       "      <td>QBSolv</td>\n",
       "      <td>2.0</td>\n",
       "      <td>CPU</td>\n",
       "    </tr>\n",
       "    <tr>\n",
       "      <th>3</th>\n",
       "      <td>Job100</td>\n",
       "      <td>QBSolv</td>\n",
       "      <td>2.0</td>\n",
       "      <td>CPU</td>\n",
       "    </tr>\n",
       "    <tr>\n",
       "      <th>4</th>\n",
       "      <td>Job100</td>\n",
       "      <td>QBSolv</td>\n",
       "      <td>2.0</td>\n",
       "      <td>CPU</td>\n",
       "    </tr>\n",
       "    <tr>\n",
       "      <th>...</th>\n",
       "      <td>...</td>\n",
       "      <td>...</td>\n",
       "      <td>...</td>\n",
       "      <td>...</td>\n",
       "    </tr>\n",
       "    <tr>\n",
       "      <th>2931</th>\n",
       "      <td>Job100</td>\n",
       "      <td>D Wave</td>\n",
       "      <td>-34.0</td>\n",
       "      <td>QPU</td>\n",
       "    </tr>\n",
       "    <tr>\n",
       "      <th>2932</th>\n",
       "      <td>Job100</td>\n",
       "      <td>D Wave</td>\n",
       "      <td>-34.0</td>\n",
       "      <td>QPU</td>\n",
       "    </tr>\n",
       "    <tr>\n",
       "      <th>2933</th>\n",
       "      <td>Job100</td>\n",
       "      <td>D Wave</td>\n",
       "      <td>-42.0</td>\n",
       "      <td>QPU</td>\n",
       "    </tr>\n",
       "    <tr>\n",
       "      <th>2934</th>\n",
       "      <td>Job100</td>\n",
       "      <td>D Wave</td>\n",
       "      <td>-46.0</td>\n",
       "      <td>QPU</td>\n",
       "    </tr>\n",
       "    <tr>\n",
       "      <th>2935</th>\n",
       "      <td>Job100</td>\n",
       "      <td>D Wave</td>\n",
       "      <td>-56.0</td>\n",
       "      <td>QPU</td>\n",
       "    </tr>\n",
       "  </tbody>\n",
       "</table>\n",
       "<p>2936 rows × 4 columns</p>\n",
       "</div>"
      ],
      "text/plain": [
       "     Complexity     QPU  Energy Category\n",
       "0        Job100  QBSolv     2.0      CPU\n",
       "1        Job100  QBSolv     2.0      CPU\n",
       "2        Job100  QBSolv     2.0      CPU\n",
       "3        Job100  QBSolv     2.0      CPU\n",
       "4        Job100  QBSolv     2.0      CPU\n",
       "...         ...     ...     ...      ...\n",
       "2931     Job100  D Wave   -34.0      QPU\n",
       "2932     Job100  D Wave   -34.0      QPU\n",
       "2933     Job100  D Wave   -42.0      QPU\n",
       "2934     Job100  D Wave   -46.0      QPU\n",
       "2935     Job100  D Wave   -56.0      QPU\n",
       "\n",
       "[2936 rows x 4 columns]"
      ]
     },
     "execution_count": 20,
     "metadata": {},
     "output_type": "execute_result"
    }
   ],
   "source": [
    "df"
   ]
  },
  {
   "cell_type": "code",
   "execution_count": 21,
   "metadata": {
    "scrolled": true
   },
   "outputs": [
    {
     "data": {
      "image/png": "[encoded data removed]",
      "text/plain": [
       "<Figure size 576x432 with 1 Axes>"
      ]
     },
     "metadata": {
      "needs_background": "light"
     },
     "output_type": "display_data"
    }
   ],
   "source": [
    "f, ax = plt.subplots(figsize=(8,6))\n",
    "\n",
    "\n",
    "ax = sns.boxplot(x=\"QPU\", y=\"Energy\", hue = \"Category\", dodge = False , \n",
    "                 #palette=\"Blues\", \n",
    "                 fliersize = 3,\n",
    "                 data=df, linewidth=1.2).set(\n",
    "    xlabel='Solvers for Job100', \n",
    "    ylabel='Distance from Minimal Energy'\n",
    ")\n",
    "\n",
    "plt.savefig('Solvers for Job100.pdf')"
   ]
  },
  {
   "cell_type": "code",
   "execution_count": 10,
   "metadata": {},
   "outputs": [],
   "source": [
    "df = pd.read_csv (r'DataDWave.csv', sep = ';')"
   ]
  },
  {
   "cell_type": "code",
   "execution_count": 11,
   "metadata": {},
   "outputs": [],
   "source": [
    "df[\"Energy\"] = df[\"Energy\"]*(-1) - 8"
   ]
  },
  {
   "cell_type": "code",
   "execution_count": 12,
   "metadata": {},
   "outputs": [
    {
     "data": {
      "text/html": [
       "<div>\n",
       "<style scoped>\n",
       "    .dataframe tbody tr th:only-of-type {\n",
       "        vertical-align: middle;\n",
       "    }\n",
       "\n",
       "    .dataframe tbody tr th {\n",
       "        vertical-align: top;\n",
       "    }\n",
       "\n",
       "    .dataframe thead th {\n",
       "        text-align: right;\n",
       "    }\n",
       "</style>\n",
       "<table border=\"1\" class=\"dataframe\">\n",
       "  <thead>\n",
       "    <tr style=\"text-align: right;\">\n",
       "      <th></th>\n",
       "      <th>Complexity</th>\n",
       "      <th>QPU</th>\n",
       "      <th>Energy</th>\n",
       "      <th>Category</th>\n",
       "    </tr>\n",
       "  </thead>\n",
       "  <tbody>\n",
       "    <tr>\n",
       "      <th>0</th>\n",
       "      <td>Job10</td>\n",
       "      <td>D Wave</td>\n",
       "      <td>0.0</td>\n",
       "      <td>QPU</td>\n",
       "    </tr>\n",
       "    <tr>\n",
       "      <th>1</th>\n",
       "      <td>Job10</td>\n",
       "      <td>D Wave</td>\n",
       "      <td>0.0</td>\n",
       "      <td>QPU</td>\n",
       "    </tr>\n",
       "    <tr>\n",
       "      <th>2</th>\n",
       "      <td>Job10</td>\n",
       "      <td>D Wave</td>\n",
       "      <td>0.0</td>\n",
       "      <td>QPU</td>\n",
       "    </tr>\n",
       "    <tr>\n",
       "      <th>3</th>\n",
       "      <td>Job10</td>\n",
       "      <td>D Wave</td>\n",
       "      <td>0.0</td>\n",
       "      <td>QPU</td>\n",
       "    </tr>\n",
       "    <tr>\n",
       "      <th>4</th>\n",
       "      <td>Job10</td>\n",
       "      <td>D Wave</td>\n",
       "      <td>0.0</td>\n",
       "      <td>QPU</td>\n",
       "    </tr>\n",
       "    <tr>\n",
       "      <th>...</th>\n",
       "      <td>...</td>\n",
       "      <td>...</td>\n",
       "      <td>...</td>\n",
       "      <td>...</td>\n",
       "    </tr>\n",
       "    <tr>\n",
       "      <th>2667</th>\n",
       "      <td>Job100</td>\n",
       "      <td>D Wave</td>\n",
       "      <td>-36.0</td>\n",
       "      <td>QPU</td>\n",
       "    </tr>\n",
       "    <tr>\n",
       "      <th>2668</th>\n",
       "      <td>Job100</td>\n",
       "      <td>D Wave</td>\n",
       "      <td>-36.0</td>\n",
       "      <td>QPU</td>\n",
       "    </tr>\n",
       "    <tr>\n",
       "      <th>2669</th>\n",
       "      <td>Job100</td>\n",
       "      <td>D Wave</td>\n",
       "      <td>-44.0</td>\n",
       "      <td>QPU</td>\n",
       "    </tr>\n",
       "    <tr>\n",
       "      <th>2670</th>\n",
       "      <td>Job100</td>\n",
       "      <td>D Wave</td>\n",
       "      <td>-48.0</td>\n",
       "      <td>QPU</td>\n",
       "    </tr>\n",
       "    <tr>\n",
       "      <th>2671</th>\n",
       "      <td>Job100</td>\n",
       "      <td>D Wave</td>\n",
       "      <td>-58.0</td>\n",
       "      <td>QPU</td>\n",
       "    </tr>\n",
       "  </tbody>\n",
       "</table>\n",
       "<p>2672 rows × 4 columns</p>\n",
       "</div>"
      ],
      "text/plain": [
       "     Complexity     QPU  Energy Category\n",
       "0         Job10  D Wave     0.0      QPU\n",
       "1         Job10  D Wave     0.0      QPU\n",
       "2         Job10  D Wave     0.0      QPU\n",
       "3         Job10  D Wave     0.0      QPU\n",
       "4         Job10  D Wave     0.0      QPU\n",
       "...         ...     ...     ...      ...\n",
       "2667     Job100  D Wave   -36.0      QPU\n",
       "2668     Job100  D Wave   -36.0      QPU\n",
       "2669     Job100  D Wave   -44.0      QPU\n",
       "2670     Job100  D Wave   -48.0      QPU\n",
       "2671     Job100  D Wave   -58.0      QPU\n",
       "\n",
       "[2672 rows x 4 columns]"
      ]
     },
     "execution_count": 12,
     "metadata": {},
     "output_type": "execute_result"
    }
   ],
   "source": [
    "df"
   ]
  },
  {
   "cell_type": "code",
   "execution_count": 22,
   "metadata": {
    "scrolled": true
   },
   "outputs": [
    {
     "data": {
      "image/png": "[encoded data removed]",
      "text/plain": [
       "<Figure size 576x432 with 1 Axes>"
      ]
     },
     "metadata": {
      "needs_background": "light"
     },
     "output_type": "display_data"
    }
   ],
   "source": [
    "f, ax = plt.subplots(figsize=(8,6))\n",
    "\n",
    "\n",
    "ax = sns.boxplot(x=\"Complexity\", y=\"Energy\", dodge = False , \n",
    "                 palette=\"crest\", \n",
    "                 #palette=\"blues\",\n",
    "                 fliersize = 3,\n",
    "                 data=df, linewidth=1.2).set(\n",
    "    xlabel='D Wave Distribution by Complexity', \n",
    "    ylabel='Distance from Minimal Energy'\n",
    ")\n",
    "\n",
    "plt.savefig('D Wave Deviation.pdf')"
   ]
  },
  {
   "cell_type": "code",
   "execution_count": 23,
   "metadata": {},
   "outputs": [],
   "source": [
    "df = pd.read_csv (r'DataFujitsu.csv', sep = ';')"
   ]
  },
  {
   "cell_type": "code",
   "execution_count": 24,
   "metadata": {},
   "outputs": [],
   "source": [
    "df[\"Energy\"] = df[\"Energy\"]*(-1) -8"
   ]
  },
  {
   "cell_type": "code",
   "execution_count": 25,
   "metadata": {},
   "outputs": [
    {
     "data": {
      "text/html": [
       "<div>\n",
       "<style scoped>\n",
       "    .dataframe tbody tr th:only-of-type {\n",
       "        vertical-align: middle;\n",
       "    }\n",
       "\n",
       "    .dataframe tbody tr th {\n",
       "        vertical-align: top;\n",
       "    }\n",
       "\n",
       "    .dataframe thead th {\n",
       "        text-align: right;\n",
       "    }\n",
       "</style>\n",
       "<table border=\"1\" class=\"dataframe\">\n",
       "  <thead>\n",
       "    <tr style=\"text-align: right;\">\n",
       "      <th></th>\n",
       "      <th>Complexity</th>\n",
       "      <th>QPU</th>\n",
       "      <th>Energy</th>\n",
       "      <th>Category</th>\n",
       "    </tr>\n",
       "  </thead>\n",
       "  <tbody>\n",
       "    <tr>\n",
       "      <th>0</th>\n",
       "      <td>Job10</td>\n",
       "      <td>FujitsuDAU</td>\n",
       "      <td>-0.10</td>\n",
       "      <td>QPU</td>\n",
       "    </tr>\n",
       "    <tr>\n",
       "      <th>1</th>\n",
       "      <td>Job10</td>\n",
       "      <td>FujitsuDAU</td>\n",
       "      <td>-0.10</td>\n",
       "      <td>QPU</td>\n",
       "    </tr>\n",
       "    <tr>\n",
       "      <th>2</th>\n",
       "      <td>Job10</td>\n",
       "      <td>FujitsuDAU</td>\n",
       "      <td>-0.10</td>\n",
       "      <td>QPU</td>\n",
       "    </tr>\n",
       "    <tr>\n",
       "      <th>3</th>\n",
       "      <td>Job10</td>\n",
       "      <td>FujitsuDAU</td>\n",
       "      <td>-0.10</td>\n",
       "      <td>QPU</td>\n",
       "    </tr>\n",
       "    <tr>\n",
       "      <th>4</th>\n",
       "      <td>Job10</td>\n",
       "      <td>FujitsuDAU</td>\n",
       "      <td>-0.10</td>\n",
       "      <td>QPU</td>\n",
       "    </tr>\n",
       "    <tr>\n",
       "      <th>...</th>\n",
       "      <td>...</td>\n",
       "      <td>...</td>\n",
       "      <td>...</td>\n",
       "      <td>...</td>\n",
       "    </tr>\n",
       "    <tr>\n",
       "      <th>2981</th>\n",
       "      <td>Job100</td>\n",
       "      <td>Fujitsu DAU</td>\n",
       "      <td>-0.04</td>\n",
       "      <td>QPU</td>\n",
       "    </tr>\n",
       "    <tr>\n",
       "      <th>2982</th>\n",
       "      <td>Job100</td>\n",
       "      <td>Fujitsu DAU</td>\n",
       "      <td>-0.04</td>\n",
       "      <td>QPU</td>\n",
       "    </tr>\n",
       "    <tr>\n",
       "      <th>2983</th>\n",
       "      <td>Job100</td>\n",
       "      <td>Fujitsu DAU</td>\n",
       "      <td>-0.04</td>\n",
       "      <td>QPU</td>\n",
       "    </tr>\n",
       "    <tr>\n",
       "      <th>2984</th>\n",
       "      <td>Job100</td>\n",
       "      <td>Fujitsu DAU</td>\n",
       "      <td>-0.04</td>\n",
       "      <td>QPU</td>\n",
       "    </tr>\n",
       "    <tr>\n",
       "      <th>2985</th>\n",
       "      <td>Job100</td>\n",
       "      <td>Fujitsu DAU</td>\n",
       "      <td>-0.04</td>\n",
       "      <td>QPU</td>\n",
       "    </tr>\n",
       "  </tbody>\n",
       "</table>\n",
       "<p>2986 rows × 4 columns</p>\n",
       "</div>"
      ],
      "text/plain": [
       "     Complexity          QPU  Energy Category\n",
       "0         Job10   FujitsuDAU   -0.10      QPU\n",
       "1         Job10   FujitsuDAU   -0.10      QPU\n",
       "2         Job10   FujitsuDAU   -0.10      QPU\n",
       "3         Job10   FujitsuDAU   -0.10      QPU\n",
       "4         Job10   FujitsuDAU   -0.10      QPU\n",
       "...         ...          ...     ...      ...\n",
       "2981     Job100  Fujitsu DAU   -0.04      QPU\n",
       "2982     Job100  Fujitsu DAU   -0.04      QPU\n",
       "2983     Job100  Fujitsu DAU   -0.04      QPU\n",
       "2984     Job100  Fujitsu DAU   -0.04      QPU\n",
       "2985     Job100  Fujitsu DAU   -0.04      QPU\n",
       "\n",
       "[2986 rows x 4 columns]"
      ]
     },
     "execution_count": 25,
     "metadata": {},
     "output_type": "execute_result"
    }
   ],
   "source": [
    "df"
   ]
  },
  {
   "cell_type": "code",
   "execution_count": 26,
   "metadata": {
    "scrolled": true
   },
   "outputs": [
    {
     "data": {
      "image/png": "[encoded data removed]",
      "text/plain": [
       "<Figure size 576x432 with 1 Axes>"
      ]
     },
     "metadata": {
      "needs_background": "light"
     },
     "output_type": "display_data"
    }
   ],
   "source": [
    "f, ax = plt.subplots(figsize=(8,6))\n",
    "\n",
    "\n",
    "ax = sns.boxplot(x=\"Complexity\", y=\"Energy\", dodge = False , \n",
    "                 palette=\"flare\", \n",
    "                 #palette=\"rocket\",\n",
    "                 fliersize = 3,\n",
    "                 data=df, linewidth=1.2).set(\n",
    "    xlabel='Fujitsu Distribution by Complexity', \n",
    "    ylabel='Distance from Minimal Energy'\n",
    ")\n",
    "\n",
    "plt.savefig('Fujitsu Deviation.pdf')"
   ]
  },
  {
   "cell_type": "code",
   "execution_count": null,
   "metadata": {},
   "outputs": [],
   "source": []
  }
 ],
 "metadata": {
  "kernelspec": {
   "display_name": "Python 3",
   "language": "python",
   "name": "python3"
  },
  "language_info": {
   "codemirror_mode": {
    "name": "ipython",
    "version": 3
   },
   "file_extension": ".py",
   "mimetype": "text/x-python",
   "name": "python",
   "nbconvert_exporter": "python",
   "pygments_lexer": "ipython3",
   "version": "3.8.3"
  }
 },
 "nbformat": 4,
 "nbformat_minor": 4
}
