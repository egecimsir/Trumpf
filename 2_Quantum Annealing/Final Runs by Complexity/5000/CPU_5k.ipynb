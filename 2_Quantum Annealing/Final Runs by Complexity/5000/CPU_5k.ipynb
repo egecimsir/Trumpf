{
 "cells": [
  {
   "cell_type": "markdown",
   "id": "satisfactory-communications",
   "metadata": {},
   "source": [
    "## CPU ( PySchedule, QBsolve, Neal, Fujitsu CPU )"
   ]
  },
  {
   "cell_type": "code",
   "execution_count": 1,
   "id": "blocked-survey",
   "metadata": {},
   "outputs": [],
   "source": [
    "import sys\n",
    "import wikipedia\n",
    "import numpy as np\n",
    "import pandas as pd\n",
    "\n",
    "from qubo_util import *"
   ]
  },
  {
   "cell_type": "code",
   "execution_count": 2,
   "id": "apart-replacement",
   "metadata": {},
   "outputs": [],
   "source": [
    "config = Config(configpath=\"C:\\\\Users\\\\Viktoria\\\\UQO\\\\install\\\\config.json\")\n",
    "connection = config.create_connection()"
   ]
  },
  {
   "cell_type": "markdown",
   "id": "together-exemption",
   "metadata": {},
   "source": [
    "## Jobs Info"
   ]
  },
  {
   "cell_type": "code",
   "execution_count": 3,
   "id": "usual-christopher",
   "metadata": {},
   "outputs": [],
   "source": [
    "### Lets define the basics\n",
    "\n",
    "bend = [0, 1, 2]\n",
    "weld = [3, 4]\n",
    "paint =  [5]\n",
    "\n",
    "bend_length = 2\n",
    "weld_length = 3\n",
    "paint_length = 6\n",
    "\n",
    "t_step = 3\n",
    "t_step_in_sec = 30"
   ]
  },
  {
   "cell_type": "code",
   "execution_count": 4,
   "id": "pleased-congo",
   "metadata": {},
   "outputs": [
    {
     "name": "stdout",
     "output_type": "stream",
     "text": [
      "The maximal maketime for the given operations is: 11550 second(s).\n",
      "Which is equal to: 385 time steps.\n",
      "\n",
      "\n",
      "Anzahl an Kombinationen: 5004\n",
      "\n",
      "   order  part  bend  weld  paint  deadline\n",
      "0      0     0     2    36     48       108\n",
      "1      1     0    10    27      0        78\n",
      "2      1     1    18     3     30        78\n",
      "3      2     0     2    27     18       120\n",
      "4      3     0     8    42     18       210\n",
      "5      3     1     2    33      0       210\n",
      "6      4     0    10    12     36       192\n",
      "7      4     1    18    39     36       192\n"
     ]
    }
   ],
   "source": [
    "jobs5k = [(0, 0, 1, 12, 8, 18),\n",
    " (1, 0, 5, 9, 0, 13),\n",
    " (1, 1, 9, 1, 5, 13),\n",
    " (2, 0, 1, 9, 3, 20),\n",
    " (3, 0, 4, 14, 3, 35),\n",
    " (3, 1, 1, 11, 0, 35),\n",
    " (4, 0, 5, 4, 6, 32),\n",
    " (4, 1, 9, 13, 6, 32)]\n",
    "operations = job_info(jobs5k, bend_length, weld_length, paint_length, t_step_in_sec, bend, weld, paint, t_step)"
   ]
  },
  {
   "cell_type": "code",
   "execution_count": 6,
   "id": "attached-picnic",
   "metadata": {},
   "outputs": [],
   "source": [
    "jobs = jobs5k"
   ]
  },
  {
   "cell_type": "markdown",
   "id": "stainless-carolina",
   "metadata": {},
   "source": [
    "## Parameter"
   ]
  },
  {
   "cell_type": "code",
   "execution_count": 19,
   "id": "capable-genealogy",
   "metadata": {},
   "outputs": [],
   "source": [
    "# for DWave\n",
    "numr = 10  # Number of samples / quantum computations\n",
    "#chainStrength is defined als max absolute value in QUBO (see find_chstr(QUBO))\n",
    "\n",
    "\n",
    "#for QUBO\n",
    "alpha = 2\n",
    "beta = 1.5\n",
    "gamma = 2\n",
    "delta = 0.035\n",
    "    "
   ]
  },
  {
   "cell_type": "markdown",
   "id": "fiscal-bottom",
   "metadata": {},
   "source": [
    "## Classic PySchedule for jobs5k"
   ]
  },
  {
   "cell_type": "code",
   "execution_count": 9,
   "id": "patient-generator",
   "metadata": {},
   "outputs": [
    {
     "name": "stderr",
     "output_type": "stream",
     "text": [
      "c:\\users\\viktoria\\appdata\\local\\programs\\python\\python38\\lib\\site-packages\\pulp\\pulp.py:1199: UserWarning: Spaces are not permitted in the name. Converted to '_'\n",
      "  warnings.warn(\"Spaces are not permitted in the name. Converted to '_'\")\n"
     ]
    },
    {
     "name": "stdout",
     "output_type": "stream",
     "text": [
      "INFO: execution time for solving mip (sec) = 2.392414093017578\n",
      "INFO: objective = 53.0\n",
      "[(bend1, BendMachine2, 0, 8), (bend2, BendMachine1, 0, 4), (weld2, WeldMachine2, 6, 24), (weld1, WeldMachine1, 8, 17), (paint1, PaintMachine, 17, 53), (MakeSpan, BendMachine1, 53, 54)]\n"
     ]
    },
    {
     "data": {
      "image/png": "[encoded data removed]",
      "text/plain": [
       "<Figure size 720x360 with 1 Axes>"
      ]
     },
     "metadata": {
      "needs_background": "light"
     },
     "output_type": "display_data"
    }
   ],
   "source": [
    "#Classic for 100\n",
    "\n",
    "# Load pyschedule and create a scenario with ten steps planning horizon\n",
    "from pyschedule import Scenario, solvers, plotters\n",
    "S = Scenario('TRUMPF',horizon=120)\n",
    "\n",
    "# Create six resources -our machines\n",
    "BendMachine1, BendMachine2, BendMachine3, WeldMachine1, WeldMachine2, PaintMachine = S.Resource('BendMachine1'), S.Resource('BendMachine2'), S.Resource('BendMachine3'), S.Resource('WeldMachine1'), S.Resource('WeldMachine2'), S.Resource('PaintMachine')\n",
    "\n",
    "\n",
    "# Create three tasks with lengths 1,2 and 3\n",
    "bend1, weld1, paint1, bend2, weld2  = S.Task('bend1',8), S.Task('weld1',9), S.Task('paint1',36), S.Task('bend2',4), S.Task('weld2',18)\n",
    "\n",
    "\n",
    "# Assign tasks to resources, either of our six machines\n",
    "# the %-operator connects tasks and resource\n",
    "\n",
    "\n",
    "\n",
    "##Assign precedence\n",
    "\n",
    "S += bend1< weld1, weld1 <paint1\n",
    "S += bend2< weld2\n",
    "\n",
    "\n",
    "##Assign Ressources\n",
    "#Bending\n",
    "S += bend1 % BendMachine1|BendMachine2|BendMachine3\n",
    "S += bend2 % BendMachine1|BendMachine2|BendMachine3\n",
    "\n",
    "\n",
    "\n",
    "#Welding\n",
    "S += weld1 % WeldMachine1|WeldMachine2\n",
    "S += weld2 % WeldMachine1|WeldMachine2\n",
    "\n",
    "\n",
    "\n",
    "#Painting\n",
    "S += paint1% PaintMachine\n",
    "\n",
    "\n",
    "\n",
    "# Solve and print solution\n",
    "S.use_makespan_objective()\n",
    "solvers.pulp.solve(S,msg=1)\n",
    "\n",
    "# Print the solution\n",
    "print(S.solution())\n",
    "%matplotlib inline\n",
    "plotters.matplotlib.plot(S,fig_size=(10,5))"
   ]
  },
  {
   "cell_type": "markdown",
   "id": "prostate-effect",
   "metadata": {},
   "source": [
    "## QUBO"
   ]
  },
  {
   "cell_type": "code",
   "execution_count": null,
   "id": "respiratory-notebook",
   "metadata": {},
   "outputs": [],
   "source": [
    "QUBO = get_QUBO(jobs, operations, alpha, beta, gamma, delta, bend_length, weld_length, paint_length, bend, weld, paint)"
   ]
  },
  {
   "cell_type": "code",
   "execution_count": 11,
   "id": "contained-salem",
   "metadata": {},
   "outputs": [
    {
     "data": {
      "image/png": "[encoded data removed]",
      "text/plain": [
       "<Figure size 1008x864 with 2 Axes>"
      ]
     },
     "metadata": {},
     "output_type": "display_data"
    }
   ],
   "source": [
    "get_qubo_heatmap(QUBO, operations, \"QUBO\")"
   ]
  },
  {
   "cell_type": "code",
   "execution_count": null,
   "id": "bored-answer",
   "metadata": {},
   "outputs": [],
   "source": [
    "qubo_dictionary = qubo_to_dictionary_ohne_null(QUBO, operations)"
   ]
  },
  {
   "cell_type": "markdown",
   "id": "consecutive-comedy",
   "metadata": {},
   "source": [
    "## QBsolv"
   ]
  },
  {
   "cell_type": "code",
   "execution_count": null,
   "id": "general-cursor",
   "metadata": {},
   "outputs": [],
   "source": [
    "#QBsolve\n",
    "sampleset_QB = on_QBsolve(qubo_dictionary)"
   ]
  },
  {
   "cell_type": "code",
   "execution_count": null,
   "id": "final-thought",
   "metadata": {},
   "outputs": [],
   "source": [
    "print(sampleset_QB)"
   ]
  },
  {
   "cell_type": "code",
   "execution_count": null,
   "id": "pharmaceutical-penetration",
   "metadata": {},
   "outputs": [],
   "source": [
    "sample_nmr = 0\n",
    "df_schedule = make_schedule_from_sample(jobs, operations, sampleset_QB, sample_nmr, bend_length, weld_length, paint_length)"
   ]
  },
  {
   "cell_type": "code",
   "execution_count": null,
   "id": "statewide-definition",
   "metadata": {},
   "outputs": [],
   "source": [
    "df_schedule"
   ]
  },
  {
   "cell_type": "code",
   "execution_count": null,
   "id": "original-sweden",
   "metadata": {},
   "outputs": [],
   "source": [
    "get_qubo_ganttchart(df_schedule)"
   ]
  },
  {
   "cell_type": "code",
   "execution_count": 17,
   "id": "social-dictionary",
   "metadata": {},
   "outputs": [
    {
     "name": "stdout",
     "output_type": "stream",
     "text": [
      "H_0 erfüllt: False\n",
      "H_1 erfüllt: True\n",
      "H_2 erfüllt: True\n",
      "H_3 erfüllt: True\n"
     ]
    }
   ],
   "source": [
    "schedule = get_results(sampleset_QB, operations, sample_nmr)\n",
    "check_constraints(schedule, jobs, paint_length, bend_length, weld_length)"
   ]
  },
  {
   "cell_type": "code",
   "execution_count": null,
   "id": "illegal-level",
   "metadata": {},
   "outputs": [],
   "source": []
  },
  {
   "cell_type": "markdown",
   "id": "small-teddy",
   "metadata": {},
   "source": [
    "## DWave Simulator Neal"
   ]
  },
  {
   "cell_type": "code",
   "execution_count": 19,
   "id": "increased-bowling",
   "metadata": {},
   "outputs": [],
   "source": [
    "#DWave Simulator\n",
    "#for QUBO\n",
    "numr = 1000\n",
    "sampleset_neal = on_DWave_simulator(QUBO, numr)"
   ]
  },
  {
   "cell_type": "code",
   "execution_count": 20,
   "id": "constitutional-shopping",
   "metadata": {},
   "outputs": [
    {
     "name": "stdout",
     "output_type": "stream",
     "text": [
      "     0  1  2  3  4  5  6  7  8  9 10 11 12 13 14 15 16 ... 104 energy num_oc.\n",
      "2    0  0  0  0  0  0  0  0  0  0  1  0  0  0  0  1  0 ...   0  -10.0       1\n",
      "4    0  0  0  0  0  0  0  0  0  0  1  0  0  0  0  0  0 ...   0  -10.0       1\n",
      "8    0  0  0  0  0  1  0  0  0  0  0  0  0  0  0  1  0 ...   0  -10.0       1\n",
      "9    0  0  0  0  0  1  0  0  0  0  0  0  0  0  0  1  0 ...   0  -10.0       1\n",
      "12   0  0  0  0  0  0  0  0  0  0  1  0  0  0  0  1  0 ...   0  -10.0       1\n",
      "14   0  0  0  0  0  0  0  0  0  0  1  0  0  0  0  0  0 ...   0  -10.0       1\n",
      "15   0  0  0  0  0  1  0  0  0  0  0  0  0  0  0  1  0 ...   0  -10.0       1\n",
      "18   0  0  0  0  0  0  0  0  0  0  1  0  0  0  0  1  0 ...   0  -10.0       1\n",
      "20   0  0  0  0  0  0  0  0  0  0  1  0  0  0  0  0  0 ...   0  -10.0       1\n",
      "22   1  0  0  0  0  0  0  0  0  0  0  0  0  0  0  0  0 ...   0  -10.0       1\n",
      "23   0  0  0  0  0  0  0  0  0  0  1  0  0  0  0  1  0 ...   0  -10.0       1\n",
      "27   0  0  0  0  0  1  0  0  0  0  0  0  0  0  0  1  0 ...   0  -10.0       1\n",
      "28   0  0  0  0  0  0  0  0  0  0  1  0  0  0  0  0  0 ...   0  -10.0       1\n",
      "32   0  0  0  0  0  1  0  0  0  0  0  0  0  0  0  0  0 ...   0  -10.0       1\n",
      "33   1  0  0  0  0  0  0  0  0  0  0  0  0  0  0  1  0 ...   0  -10.0       1\n",
      "34   0  0  0  0  0  1  0  0  0  0  0  0  0  0  0  1  0 ...   0  -10.0       1\n",
      "35   0  0  0  0  0  1  0  0  0  0  0  0  0  0  0  1  0 ...   0  -10.0       1\n",
      "39   1  0  0  0  0  0  0  0  0  0  0  0  0  0  0  1  0 ...   0  -10.0       1\n",
      "40   1  0  0  0  0  0  0  0  0  0  0  0  0  0  0  0  0 ...   0  -10.0       1\n",
      "41   0  0  0  0  0  1  0  0  0  0  0  0  0  0  0  0  0 ...   0  -10.0       1\n",
      "46   0  0  0  0  0  1  0  0  0  0  0  0  0  0  0  1  0 ...   0  -10.0       1\n",
      "47   0  0  0  0  0  1  0  0  0  0  0  0  0  0  0  0  0 ...   0  -10.0       1\n",
      "48   0  0  0  0  0  1  0  0  0  0  0  0  0  0  0  0  0 ...   0  -10.0       1\n",
      "49   0  0  0  0  0  0  0  0  0  0  1  0  0  0  0  1  0 ...   0  -10.0       1\n",
      "50   1  0  0  0  0  0  0  0  0  0  0  0  0  0  0  1  0 ...   0  -10.0       1\n",
      "51   0  0  0  0  0  1  0  0  0  0  0  0  0  0  0  0  0 ...   0  -10.0       1\n",
      "52   0  0  0  0  0  1  0  0  0  0  0  0  0  0  0  1  0 ...   0  -10.0       1\n",
      "55   0  0  0  0  0  0  0  0  0  0  1  0  0  0  0  1  0 ...   0  -10.0       1\n",
      "59   0  0  0  0  0  0  0  0  0  0  1  0  0  0  0  0  0 ...   0  -10.0       1\n",
      "65   1  0  0  0  0  0  0  0  0  0  0  0  0  0  0  0  0 ...   0  -10.0       1\n",
      "67   0  0  0  0  0  1  0  0  0  0  0  0  0  0  0  0  0 ...   0  -10.0       1\n",
      "74   0  0  0  0  0  0  0  0  0  0  1  0  0  0  0  1  0 ...   0  -10.0       1\n",
      "75   0  0  0  0  0  1  0  0  0  0  0  0  0  0  0  0  0 ...   0  -10.0       1\n",
      "77   0  0  0  0  0  1  0  0  0  0  0  0  0  0  0  1  0 ...   0  -10.0       1\n",
      "79   0  0  0  0  0  0  0  0  0  0  1  0  0  0  0  0  0 ...   0  -10.0       1\n",
      "80   0  0  0  0  0  0  0  0  0  0  1  0  0  0  0  0  0 ...   0  -10.0       1\n",
      "81   0  0  0  0  0  0  0  0  0  0  1  0  0  0  0  0  0 ...   0  -10.0       1\n",
      "83   1  0  0  0  0  0  0  0  0  0  0  0  0  0  0  0  0 ...   0  -10.0       1\n",
      "86   1  0  0  0  0  0  0  0  0  0  0  0  0  0  0  0  0 ...   0  -10.0       1\n",
      "90   1  0  0  0  0  0  0  0  0  0  0  0  0  0  0  0  0 ...   0  -10.0       1\n",
      "95   0  0  0  0  0  1  0  0  0  0  0  0  0  0  0  0  0 ...   0  -10.0       1\n",
      "96   0  0  0  0  0  1  0  0  0  0  0  0  0  0  0  0  0 ...   0  -10.0       1\n",
      "97   1  0  0  0  0  0  0  0  0  0  0  0  0  0  0  0  0 ...   0  -10.0       1\n",
      "98   1  0  0  0  0  0  0  0  0  0  0  0  0  0  0  1  0 ...   0  -10.0       1\n",
      "100  0  0  0  0  0  1  0  0  0  0  0  0  0  0  0  1  0 ...   0  -10.0       1\n",
      "102  1  0  0  0  0  0  0  0  0  0  0  0  0  0  0  1  0 ...   0  -10.0       1\n",
      "103  1  0  0  0  0  0  0  0  0  0  0  0  0  0  0  0  0 ...   0  -10.0       1\n",
      "106  1  0  0  0  0  0  0  0  0  0  0  0  0  0  0  0  0 ...   0  -10.0       1\n",
      "107  0  0  0  0  0  1  0  0  0  0  0  0  0  0  0  1  0 ...   0  -10.0       1\n",
      "108  0  0  0  0  0  0  0  0  0  0  1  0  0  0  0  1  0 ...   0  -10.0       1\n",
      "109  0  0  0  0  0  0  0  0  0  0  1  0  0  0  0  1  0 ...   0  -10.0       1\n",
      "113  1  0  0  0  0  0  0  0  0  0  0  0  0  0  0  1  0 ...   0  -10.0       1\n",
      "115  1  0  0  0  0  0  0  0  0  0  0  0  0  0  0  1  0 ...   0  -10.0       1\n",
      "119  0  0  0  0  0  1  0  0  0  0  0  0  0  0  0  1  0 ...   0  -10.0       1\n",
      "120  0  0  0  0  0  1  0  0  0  0  0  0  0  0  0  1  0 ...   0  -10.0       1\n",
      "123  0  0  0  0  0  1  0  0  0  0  0  0  0  0  0  0  0 ...   0  -10.0       1\n",
      "127  0  0  0  0  0  0  0  0  0  0  1  0  0  0  0  0  0 ...   0  -10.0       1\n",
      "129  1  0  0  0  0  0  0  0  0  0  0  0  0  0  0  1  0 ...   0  -10.0       1\n",
      "131  1  0  0  0  0  0  0  0  0  0  0  0  0  0  0  0  0 ...   0  -10.0       1\n",
      "133  1  0  0  0  0  0  0  0  0  0  0  0  0  0  0  1  0 ...   0  -10.0       1\n",
      "140  0  0  0  0  0  1  0  0  0  0  0  0  0  0  0  1  0 ...   0  -10.0       1\n",
      "142  0  0  0  0  0  0  0  0  0  0  1  0  0  0  0  1  0 ...   0  -10.0       1\n",
      "143  0  0  0  0  0  0  0  0  0  0  1  0  0  0  0  0  0 ...   0  -10.0       1\n",
      "148  0  0  0  0  0  1  0  0  0  0  0  0  0  0  0  0  0 ...   0  -10.0       1\n",
      "152  0  0  0  0  0  0  0  0  0  0  1  0  0  0  0  1  0 ...   0  -10.0       1\n",
      "154  1  0  0  0  0  0  0  0  0  0  0  0  0  0  0  1  0 ...   0  -10.0       1\n",
      "155  0  0  0  0  0  1  0  0  0  0  0  0  0  0  0  1  0 ...   0  -10.0       1\n",
      "157  0  0  0  0  0  1  0  0  0  0  0  0  0  0  0  0  0 ...   0  -10.0       1\n",
      "160  0  0  0  0  0  0  0  0  0  0  1  0  0  0  0  1  0 ...   0  -10.0       1\n",
      "167  0  0  0  0  0  1  0  0  0  0  0  0  0  0  0  0  0 ...   0  -10.0       1\n",
      "168  0  0  0  0  0  0  0  0  0  0  1  0  0  0  0  1  0 ...   0  -10.0       1\n",
      "170  1  0  0  0  0  0  0  0  0  0  0  0  0  0  0  1  0 ...   0  -10.0       1\n",
      "173  0  0  0  0  0  1  0  0  0  0  0  0  0  0  0  1  0 ...   0  -10.0       1\n",
      "179  0  0  0  0  0  1  0  0  0  0  0  0  0  0  0  0  0 ...   0  -10.0       1\n",
      "181  0  0  0  0  0  1  0  0  0  0  0  0  0  0  0  1  0 ...   0  -10.0       1\n",
      "186  0  0  0  0  0  1  0  0  0  0  0  0  0  0  0  1  0 ...   0  -10.0       1\n",
      "187  0  0  0  0  0  1  0  0  0  0  0  0  0  0  0  0  0 ...   0  -10.0       1\n",
      "189  0  0  0  0  0  0  0  0  0  0  1  0  0  0  0  1  0 ...   0  -10.0       1\n",
      "196  1  0  0  0  0  0  0  0  0  0  0  0  0  0  0  1  0 ...   0  -10.0       1\n",
      "198  0  0  0  0  0  1  0  0  0  0  0  0  0  0  0  0  0 ...   0  -10.0       1\n",
      "201  0  0  0  0  0  0  0  0  0  0  1  0  0  0  0  1  0 ...   0  -10.0       1\n",
      "203  0  0  0  0  0  0  0  0  0  0  1  0  0  0  0  0  0 ...   0  -10.0       1\n",
      "205  0  0  0  0  0  1  0  0  0  0  0  0  0  0  0  1  0 ...   0  -10.0       1\n",
      "206  0  0  0  0  0  0  0  0  0  0  1  0  0  0  0  1  0 ...   0  -10.0       1\n",
      "207  1  0  0  0  0  0  0  0  0  0  0  0  0  0  0  1  0 ...   0  -10.0       1\n",
      "209  1  0  0  0  0  0  0  0  0  0  0  0  0  0  0  0  0 ...   0  -10.0       1\n",
      "211  1  0  0  0  0  0  0  0  0  0  0  0  0  0  0  0  0 ...   0  -10.0       1\n",
      "213  0  0  0  0  0  1  0  0  0  0  0  0  0  0  0  0  0 ...   0  -10.0       1\n",
      "215  0  0  0  0  0  1  0  0  0  0  0  0  0  0  0  1  0 ...   0  -10.0       1\n",
      "216  0  0  0  0  0  0  0  0  0  0  1  0  0  0  0  1  0 ...   0  -10.0       1\n",
      "217  0  0  0  0  0  1  0  0  0  0  0  0  0  0  0  1  0 ...   0  -10.0       1\n",
      "218  1  0  0  0  0  0  0  0  0  0  0  0  0  0  0  0  0 ...   0  -10.0       1\n",
      "219  0  0  0  0  0  0  0  0  0  0  1  0  0  0  0  0  0 ...   0  -10.0       1\n",
      "220  0  0  0  0  0  0  0  0  0  0  1  0  0  0  0  1  0 ...   0  -10.0       1\n",
      "222  0  0  0  0  0  0  0  0  0  0  1  0  0  0  0  1  0 ...   0  -10.0       1\n",
      "224  0  0  0  0  0  0  0  0  0  0  1  0  0  0  0  0  0 ...   0  -10.0       1\n",
      "225  0  0  0  0  0  1  0  0  0  0  0  0  0  0  0  1  0 ...   0  -10.0       1\n",
      "226  0  0  0  0  0  1  0  0  0  0  0  0  0  0  0  1  0 ...   0  -10.0       1\n",
      "227  0  0  0  0  0  0  0  0  0  0  1  0  0  0  0  0  0 ...   0  -10.0       1\n",
      "228  0  0  0  0  0  0  0  0  0  0  1  0  0  0  0  1  0 ...   0  -10.0       1\n",
      "232  0  0  0  0  0  1  0  0  0  0  0  0  0  0  0  0  0 ...   0  -10.0       1\n",
      "233  0  0  0  0  0  0  0  0  0  0  1  0  0  0  0  1  0 ...   0  -10.0       1\n",
      "234  1  0  0  0  0  0  0  0  0  0  0  0  0  0  0  0  0 ...   0  -10.0       1\n",
      "236  0  0  0  0  0  0  0  0  0  0  1  0  0  0  0  0  0 ...   0  -10.0       1\n",
      "237  0  0  0  0  0  1  0  0  0  0  0  0  0  0  0  1  0 ...   0  -10.0       1\n",
      "238  0  0  0  0  0  1  0  0  0  0  0  0  0  0  0  1  0 ...   0  -10.0       1\n",
      "242  0  0  0  0  0  0  0  0  0  0  1  0  0  0  0  1  0 ...   0  -10.0       1\n",
      "243  0  0  0  0  0  1  0  0  0  0  0  0  0  0  0  1  0 ...   0  -10.0       1\n",
      "245  0  0  0  0  0  0  0  0  0  0  1  0  0  0  0  1  0 ...   0  -10.0       1\n",
      "250  0  0  0  0  0  1  0  0  0  0  0  0  0  0  0  0  0 ...   0  -10.0       1\n",
      "252  0  0  0  0  0  0  0  0  0  0  1  0  0  0  0  1  0 ...   0  -10.0       1\n",
      "253  0  0  0  0  0  1  0  0  0  0  0  0  0  0  0  1  0 ...   0  -10.0       1\n",
      "255  0  0  0  0  0  0  0  0  0  0  1  0  0  0  0  1  0 ...   0  -10.0       1\n",
      "259  1  0  0  0  0  0  0  0  0  0  0  0  0  0  0  0  0 ...   0  -10.0       1\n",
      "260  1  0  0  0  0  0  0  0  0  0  0  0  0  0  0  0  0 ...   0  -10.0       1\n",
      "263  0  0  0  0  0  1  0  0  0  0  0  0  0  0  0  1  0 ...   0  -10.0       1\n",
      "265  0  0  0  0  0  0  0  0  0  0  1  0  0  0  0  1  0 ...   0  -10.0       1\n",
      "266  1  0  0  0  0  0  0  0  0  0  0  0  0  0  0  0  0 ...   0  -10.0       1\n",
      "267  0  0  0  0  0  1  0  0  0  0  0  0  0  0  0  1  0 ...   0  -10.0       1\n",
      "268  0  0  0  0  0  1  0  0  0  0  0  0  0  0  0  0  0 ...   0  -10.0       1\n",
      "269  0  0  0  0  0  0  0  0  0  0  1  0  0  0  0  0  0 ...   0  -10.0       1\n",
      "271  0  0  0  0  0  0  0  0  0  0  1  0  0  0  0  1  0 ...   0  -10.0       1\n",
      "273  0  0  0  0  0  1  0  0  0  0  0  0  0  0  0  1  0 ...   0  -10.0       1\n",
      "274  0  0  0  0  0  0  0  0  0  0  1  0  0  0  0  0  0 ...   0  -10.0       1\n",
      "275  1  0  0  0  0  0  0  0  0  0  0  0  0  0  0  1  0 ...   0  -10.0       1\n",
      "278  0  0  0  0  0  1  0  0  0  0  0  0  0  0  0  1  0 ...   0  -10.0       1\n",
      "279  0  0  0  0  0  1  0  0  0  0  0  0  0  0  0  0  0 ...   0  -10.0       1\n",
      "282  1  0  0  0  0  0  0  0  0  0  0  0  0  0  0  0  0 ...   0  -10.0       1\n",
      "284  1  0  0  0  0  0  0  0  0  0  0  0  0  0  0  0  0 ...   0  -10.0       1\n",
      "285  0  0  0  0  0  1  0  0  0  0  0  0  0  0  0  0  0 ...   0  -10.0       1\n",
      "287  0  0  0  0  0  1  0  0  0  0  0  0  0  0  0  1  0 ...   0  -10.0       1\n",
      "297  0  0  0  0  0  0  0  0  0  0  1  0  0  0  0  1  0 ...   0  -10.0       1\n",
      "299  0  0  0  0  0  1  0  0  0  0  0  0  0  0  0  0  0 ...   0  -10.0       1\n",
      "301  1  0  0  0  0  0  0  0  0  0  0  0  0  0  0  0  0 ...   0  -10.0       1\n",
      "302  0  0  0  0  0  1  0  0  0  0  0  0  0  0  0  1  0 ...   0  -10.0       1\n",
      "304  1  0  0  0  0  0  0  0  0  0  0  0  0  0  0  1  0 ...   0  -10.0       1\n",
      "307  0  0  0  0  0  1  0  0  0  0  0  0  0  0  0  1  0 ...   0  -10.0       1\n",
      "313  0  0  0  0  0  0  0  0  0  0  1  0  0  0  0  1  0 ...   0  -10.0       1\n",
      "314  0  0  0  0  0  0  0  0  0  0  1  0  0  0  0  0  0 ...   0  -10.0       1\n",
      "315  1  0  0  0  0  0  0  0  0  0  0  0  0  0  0  1  0 ...   0  -10.0       1\n",
      "318  1  0  0  0  0  0  0  0  0  0  0  0  0  0  0  0  0 ...   0  -10.0       1\n",
      "319  1  0  0  0  0  0  0  0  0  0  0  0  0  0  0  1  0 ...   0  -10.0       1\n",
      "320  0  0  0  0  0  1  0  0  0  0  0  0  0  0  0  1  0 ...   0  -10.0       1\n",
      "322  0  0  0  0  0  1  0  0  0  0  0  0  0  0  0  1  0 ...   0  -10.0       1\n",
      "324  0  0  0  0  0  0  0  0  0  0  1  0  0  0  0  1  0 ...   0  -10.0       1\n",
      "325  0  0  0  0  0  0  0  0  0  0  1  0  0  0  0  1  0 ...   0  -10.0       1\n",
      "327  0  0  0  0  0  0  0  0  0  0  1  0  0  0  0  0  0 ...   0  -10.0       1\n",
      "328  0  0  0  0  0  0  0  0  0  0  1  0  0  0  0  0  0 ...   0  -10.0       1\n",
      "332  0  0  0  0  0  1  0  0  0  0  0  0  0  0  0  0  0 ...   0  -10.0       1\n",
      "334  1  0  0  0  0  0  0  0  0  0  0  0  0  0  0  0  0 ...   0  -10.0       1\n",
      "335  0  0  0  0  0  1  0  0  0  0  0  0  0  0  0  1  0 ...   0  -10.0       1\n",
      "336  0  0  0  0  0  1  0  0  0  0  0  0  0  0  0  1  0 ...   0  -10.0       1\n",
      "337  1  0  0  0  0  0  0  0  0  0  0  0  0  0  0  0  0 ...   0  -10.0       1\n",
      "341  0  0  0  0  0  0  0  0  0  0  1  0  0  0  0  0  0 ...   0  -10.0       1\n",
      "344  0  0  0  0  0  0  0  0  0  0  1  0  0  0  0  1  0 ...   0  -10.0       1\n",
      "345  0  0  0  0  0  0  0  0  0  0  1  0  0  0  0  1  0 ...   0  -10.0       1\n",
      "346  0  0  0  0  0  1  0  0  0  0  0  0  0  0  0  0  0 ...   0  -10.0       1\n",
      "347  1  0  0  0  0  0  0  0  0  0  0  0  0  0  0  0  0 ...   0  -10.0       1\n",
      "348  0  0  0  0  0  1  0  0  0  0  0  0  0  0  0  1  0 ...   0  -10.0       1\n",
      "350  0  0  0  0  0  0  0  0  0  0  1  0  0  0  0  0  0 ...   0  -10.0       1\n",
      "352  0  0  0  0  0  0  0  0  0  0  1  0  0  0  0  0  0 ...   0  -10.0       1\n",
      "355  0  0  0  0  0  0  0  0  0  0  1  0  0  0  0  1  0 ...   0  -10.0       1\n",
      "356  1  0  0  0  0  0  0  0  0  0  0  0  0  0  0  0  0 ...   0  -10.0       1\n",
      "357  1  0  0  0  0  0  0  0  0  0  0  0  0  0  0  0  0 ...   0  -10.0       1\n",
      "360  0  0  0  0  0  0  0  0  0  0  1  0  0  0  0  0  0 ...   0  -10.0       1\n",
      "361  0  0  0  0  0  0  0  0  0  0  1  0  0  0  0  1  0 ...   0  -10.0       1\n",
      "362  0  0  0  0  0  1  0  0  0  0  0  0  0  0  0  1  0 ...   0  -10.0       1\n",
      "365  0  0  0  0  0  1  0  0  0  0  0  0  0  0  0  1  0 ...   0  -10.0       1\n",
      "366  1  0  0  0  0  0  0  0  0  0  0  0  0  0  0  1  0 ...   0  -10.0       1\n",
      "367  0  0  0  0  0  0  0  0  0  0  1  0  0  0  0  0  0 ...   0  -10.0       1\n",
      "368  1  0  0  0  0  0  0  0  0  0  0  0  0  0  0  0  0 ...   0  -10.0       1\n",
      "369  0  0  0  0  0  1  0  0  0  0  0  0  0  0  0  1  0 ...   0  -10.0       1\n",
      "371  0  0  0  0  0  1  0  0  0  0  0  0  0  0  0  0  0 ...   0  -10.0       1\n",
      "374  0  0  0  0  0  1  0  0  0  0  0  0  0  0  0  0  0 ...   0  -10.0       1\n",
      "375  0  0  0  0  0  0  0  0  0  0  1  0  0  0  0  0  0 ...   0  -10.0       1\n",
      "376  0  0  0  0  0  0  0  0  0  0  1  0  0  0  0  1  0 ...   0  -10.0       1\n",
      "377  0  0  0  0  0  0  0  0  0  0  1  0  0  0  0  1  0 ...   0  -10.0       1\n",
      "378  0  0  0  0  0  1  0  0  0  0  0  0  0  0  0  1  0 ...   0  -10.0       1\n",
      "379  0  0  0  0  0  1  0  0  0  0  0  0  0  0  0  1  0 ...   0  -10.0       1\n",
      "380  0  0  0  0  0  0  0  0  0  0  1  0  0  0  0  0  0 ...   0  -10.0       1\n",
      "384  0  0  0  0  0  1  0  0  0  0  0  0  0  0  0  1  0 ...   0  -10.0       1\n",
      "385  1  0  0  0  0  0  0  0  0  0  0  0  0  0  0  1  0 ...   0  -10.0       1\n",
      "386  0  0  0  0  0  1  0  0  0  0  0  0  0  0  0  0  0 ...   0  -10.0       1\n",
      "388  0  0  0  0  0  0  0  0  0  0  1  0  0  0  0  1  0 ...   0  -10.0       1\n",
      "389  0  0  0  0  0  0  0  0  0  0  1  0  0  0  0  1  0 ...   0  -10.0       1\n",
      "391  0  0  0  0  0  0  0  0  0  0  1  0  0  0  0  1  0 ...   0  -10.0       1\n",
      "392  0  0  0  0  0  0  0  0  0  0  1  0  0  0  0  0  0 ...   0  -10.0       1\n",
      "393  0  0  0  0  0  1  0  0  0  0  0  0  0  0  0  0  0 ...   0  -10.0       1\n",
      "394  1  0  0  0  0  0  0  0  0  0  0  0  0  0  0  1  0 ...   0  -10.0       1\n",
      "397  0  0  0  0  0  1  0  0  0  0  0  0  0  0  0  1  0 ...   0  -10.0       1\n",
      "400  1  0  0  0  0  0  0  0  0  0  0  0  0  0  0  0  0 ...   0  -10.0       1\n",
      "401  0  0  0  0  0  1  0  0  0  0  0  0  0  0  0  0  0 ...   0  -10.0       1\n",
      "403  0  0  0  0  0  0  0  0  0  0  1  0  0  0  0  1  0 ...   0  -10.0       1\n",
      "405  1  0  0  0  0  0  0  0  0  0  0  0  0  0  0  1  0 ...   0  -10.0       1\n",
      "406  0  0  0  0  0  1  0  0  0  0  0  0  0  0  0  0  0 ...   0  -10.0       1\n",
      "407  1  0  0  0  0  0  0  0  0  0  0  0  0  0  0  0  0 ...   0  -10.0       1\n",
      "410  1  0  0  0  0  0  0  0  0  0  0  0  0  0  0  1  0 ...   0  -10.0       1\n",
      "411  0  0  0  0  0  0  0  0  0  0  1  0  0  0  0  0  0 ...   0  -10.0       1\n",
      "412  0  0  0  0  0  0  0  0  0  0  1  0  0  0  0  1  0 ...   0  -10.0       1\n",
      "414  0  0  0  0  0  1  0  0  0  0  0  0  0  0  0  0  0 ...   0  -10.0       1\n",
      "415  1  0  0  0  0  0  0  0  0  0  0  0  0  0  0  0  0 ...   0  -10.0       1\n",
      "416  0  0  0  0  0  1  0  0  0  0  0  0  0  0  0  0  0 ...   0  -10.0       1\n",
      "418  0  0  0  0  0  1  0  0  0  0  0  0  0  0  0  0  0 ...   0  -10.0       1\n",
      "420  0  0  0  0  0  1  0  0  0  0  0  0  0  0  0  1  0 ...   0  -10.0       1\n",
      "425  0  0  0  0  0  1  0  0  0  0  0  0  0  0  0  1  0 ...   0  -10.0       1\n",
      "426  1  0  0  0  0  0  0  0  0  0  0  0  0  0  0  0  0 ...   0  -10.0       1\n",
      "432  0  0  0  0  0  0  0  0  0  0  1  0  0  0  0  1  0 ...   0  -10.0       1\n",
      "433  0  0  0  0  0  0  0  0  0  0  1  0  0  0  0  1  0 ...   0  -10.0       1\n",
      "436  1  0  0  0  0  0  0  0  0  0  0  0  0  0  0  1  0 ...   0  -10.0       1\n",
      "437  0  0  0  0  0  0  0  0  0  0  1  0  0  0  0  1  0 ...   0  -10.0       1\n",
      "440  0  0  0  0  0  0  0  0  0  0  1  0  0  0  0  1  0 ...   0  -10.0       1\n",
      "442  0  0  0  0  0  0  0  0  0  0  1  0  0  0  0  1  0 ...   0  -10.0       1\n",
      "443  0  0  0  0  0  0  0  0  0  0  1  0  0  0  0  1  0 ...   0  -10.0       1\n",
      "445  1  0  0  0  0  0  0  0  0  0  0  0  0  0  0  1  0 ...   0  -10.0       1\n",
      "446  0  0  0  0  0  1  0  0  0  0  0  0  0  0  0  0  0 ...   0  -10.0       1\n",
      "450  0  0  0  0  0  0  0  0  0  0  1  0  0  0  0  0  0 ...   0  -10.0       1\n",
      "452  0  0  0  0  0  0  0  0  0  0  1  0  0  0  0  0  0 ...   0  -10.0       1\n",
      "455  1  0  0  0  0  0  0  0  0  0  0  0  0  0  0  0  0 ...   0  -10.0       1\n",
      "460  0  0  0  0  0  0  0  0  0  0  1  0  0  0  0  0  0 ...   0  -10.0       1\n",
      "461  0  0  0  0  0  1  0  0  0  0  0  0  0  0  0  0  0 ...   0  -10.0       1\n",
      "464  1  0  0  0  0  0  0  0  0  0  0  0  0  0  0  0  0 ...   0  -10.0       1\n",
      "466  0  0  0  0  0  0  0  0  0  0  1  0  0  0  0  1  0 ...   0  -10.0       1\n",
      "467  0  0  0  0  0  0  0  0  0  0  1  0  0  0  0  1  0 ...   0  -10.0       1\n",
      "468  0  0  0  0  0  0  0  0  0  0  1  0  0  0  0  0  0 ...   0  -10.0       1\n",
      "469  0  0  0  0  0  1  0  0  0  0  0  0  0  0  0  1  0 ...   0  -10.0       1\n",
      "470  1  0  0  0  0  0  0  0  0  0  0  0  0  0  0  1  0 ...   0  -10.0       1\n",
      "471  0  0  0  0  0  1  0  0  0  0  0  0  0  0  0  0  0 ...   0  -10.0       1\n",
      "472  0  0  0  0  0  1  0  0  0  0  0  0  0  0  0  0  0 ...   0  -10.0       1\n",
      "475  1  0  0  0  0  0  0  0  0  0  0  0  0  0  0  1  0 ...   0  -10.0       1\n",
      "478  0  0  0  0  0  0  0  0  0  0  1  0  0  0  0  1  0 ...   0  -10.0       1\n",
      "483  0  0  0  0  0  1  0  0  0  0  0  0  0  0  0  0  0 ...   0  -10.0       1\n",
      "485  0  0  0  0  0  1  0  0  0  0  0  0  0  0  0  0  0 ...   0  -10.0       1\n",
      "487  0  0  0  0  0  1  0  0  0  0  0  0  0  0  0  1  0 ...   0  -10.0       1\n",
      "488  0  0  0  0  0  1  0  0  0  0  0  0  0  0  0  1  0 ...   0  -10.0       1\n",
      "492  0  0  0  0  0  1  0  0  0  0  0  0  0  0  0  0  0 ...   0  -10.0       1\n",
      "494  0  0  0  0  0  0  0  0  0  0  1  0  0  0  0  0  0 ...   0  -10.0       1\n",
      "495  0  0  0  0  0  0  0  0  0  0  1  0  0  0  0  1  0 ...   0  -10.0       1\n",
      "499  1  0  0  0  0  0  0  0  0  0  0  0  0  0  0  0  0 ...   0  -10.0       1\n",
      "502  0  0  0  0  0  1  0  0  0  0  0  0  0  0  0  0  0 ...   0  -10.0       1\n",
      "503  1  0  0  0  0  0  0  0  0  0  0  0  0  0  0  0  0 ...   0  -10.0       1\n",
      "504  1  0  0  0  0  0  0  0  0  0  0  0  0  0  0  0  0 ...   0  -10.0       1\n",
      "505  0  0  0  0  0  1  0  0  0  0  0  0  0  0  0  0  0 ...   0  -10.0       1\n",
      "506  0  0  0  0  0  1  0  0  0  0  0  0  0  0  0  1  0 ...   0  -10.0       1\n",
      "509  0  0  0  0  0  1  0  0  0  0  0  0  0  0  0  1  0 ...   0  -10.0       1\n",
      "510  0  0  0  0  0  1  0  0  0  0  0  0  0  0  0  0  0 ...   0  -10.0       1\n",
      "511  1  0  0  0  0  0  0  0  0  0  0  0  0  0  0  0  0 ...   0  -10.0       1\n",
      "512  1  0  0  0  0  0  0  0  0  0  0  0  0  0  0  0  0 ...   0  -10.0       1\n",
      "514  0  0  0  0  0  1  0  0  0  0  0  0  0  0  0  1  0 ...   0  -10.0       1\n",
      "515  0  0  0  0  0  1  0  0  0  0  0  0  0  0  0  1  0 ...   0  -10.0       1\n",
      "516  1  0  0  0  0  0  0  0  0  0  0  0  0  0  0  0  0 ...   0  -10.0       1\n",
      "518  0  0  0  0  0  0  0  0  0  0  1  0  0  0  0  1  0 ...   0  -10.0       1\n",
      "519  0  0  0  0  0  0  0  0  0  0  1  0  0  0  0  0  0 ...   0  -10.0       1\n",
      "520  0  0  0  0  0  1  0  0  0  0  0  0  0  0  0  0  0 ...   0  -10.0       1\n",
      "522  0  0  0  0  0  0  0  0  0  0  1  0  0  0  0  0  0 ...   0  -10.0       1\n",
      "523  0  0  0  0  0  1  0  0  0  0  0  0  0  0  0  0  0 ...   0  -10.0       1\n",
      "524  0  0  0  0  0  1  0  0  0  0  0  0  0  0  0  1  0 ...   0  -10.0       1\n",
      "526  1  0  0  0  0  0  0  0  0  0  0  0  0  0  0  0  0 ...   0  -10.0       1\n",
      "531  1  0  0  0  0  0  0  0  0  0  0  0  0  0  0  1  0 ...   0  -10.0       1\n",
      "533  1  0  0  0  0  0  0  0  0  0  0  0  0  0  0  0  0 ...   0  -10.0       1\n",
      "534  1  0  0  0  0  0  0  0  0  0  0  0  0  0  0  1  0 ...   0  -10.0       1\n",
      "535  0  0  0  0  0  1  0  0  0  0  0  0  0  0  0  1  0 ...   0  -10.0       1\n",
      "537  0  0  0  0  0  0  0  0  0  0  1  0  0  0  0  0  0 ...   0  -10.0       1\n",
      "539  0  0  0  0  0  1  0  0  0  0  0  0  0  0  0  0  0 ...   0  -10.0       1\n",
      "540  1  0  0  0  0  0  0  0  0  0  0  0  0  0  0  0  0 ...   0  -10.0       1\n",
      "541  1  0  0  0  0  0  0  0  0  0  0  0  0  0  0  0  0 ...   0  -10.0       1\n",
      "542  0  0  0  0  0  0  0  0  0  0  1  0  0  0  0  1  0 ...   0  -10.0       1\n",
      "544  1  0  0  0  0  0  0  0  0  0  0  0  0  0  0  1  0 ...   0  -10.0       1\n",
      "545  0  0  0  0  0  1  0  0  0  0  0  0  0  0  0  1  0 ...   0  -10.0       1\n",
      "547  0  0  0  0  0  1  0  0  0  0  0  0  0  0  0  1  0 ...   0  -10.0       1\n",
      "550  1  0  0  0  0  0  0  0  0  0  0  0  0  0  0  0  0 ...   0  -10.0       1\n",
      "553  0  0  0  0  0  1  0  0  0  0  0  0  0  0  0  1  0 ...   0  -10.0       1\n",
      "554  0  0  0  0  0  1  0  0  0  0  0  0  0  0  0  1  0 ...   0  -10.0       1\n",
      "555  0  0  0  0  0  1  0  0  0  0  0  0  0  0  0  0  0 ...   0  -10.0       1\n",
      "557  1  0  0  0  0  0  0  0  0  0  0  0  0  0  0  1  0 ...   0  -10.0       1\n",
      "561  1  0  0  0  0  0  0  0  0  0  0  0  0  0  0  1  0 ...   0  -10.0       1\n",
      "565  0  0  0  0  0  1  0  0  0  0  0  0  0  0  0  0  0 ...   0  -10.0       1\n",
      "568  1  0  0  0  0  0  0  0  0  0  0  0  0  0  0  0  0 ...   0  -10.0       1\n",
      "571  1  0  0  0  0  0  0  0  0  0  0  0  0  0  0  1  0 ...   0  -10.0       1\n",
      "572  1  0  0  0  0  0  0  0  0  0  0  0  0  0  0  1  0 ...   0  -10.0       1\n",
      "573  0  0  0  0  0  0  0  0  0  0  1  0  0  0  0  0  0 ...   0  -10.0       1\n",
      "575  0  0  0  0  0  0  0  0  0  0  1  0  0  0  0  1  0 ...   0  -10.0       1\n",
      "579  0  0  0  0  0  0  0  0  0  0  1  0  0  0  0  0  0 ...   0  -10.0       1\n",
      "582  0  0  0  0  0  0  0  0  0  0  1  0  0  0  0  1  0 ...   0  -10.0       1\n",
      "583  0  0  0  0  0  0  0  0  0  0  1  0  0  0  0  1  0 ...   0  -10.0       1\n",
      "586  0  0  0  0  0  1  0  0  0  0  0  0  0  0  0  1  0 ...   0  -10.0       1\n",
      "589  1  0  0  0  0  0  0  0  0  0  0  0  0  0  0  1  0 ...   0  -10.0       1\n",
      "591  0  0  0  0  0  0  0  0  0  0  1  0  0  0  0  1  0 ...   0  -10.0       1\n",
      "596  0  0  0  0  0  1  0  0  0  0  0  0  0  0  0  1  0 ...   0  -10.0       1\n",
      "598  1  0  0  0  0  0  0  0  0  0  0  0  0  0  0  1  0 ...   0  -10.0       1\n",
      "600  0  0  0  0  0  1  0  0  0  0  0  0  0  0  0  0  0 ...   0  -10.0       1\n",
      "604  0  0  0  0  0  0  0  0  0  0  1  0  0  0  0  0  0 ...   0  -10.0       1\n",
      "606  1  0  0  0  0  0  0  0  0  0  0  0  0  0  0  0  0 ...   0  -10.0       1\n",
      "607  0  0  0  0  0  0  0  0  0  0  1  0  0  0  0  0  0 ...   0  -10.0       1\n",
      "609  0  0  0  0  0  0  0  0  0  0  1  0  0  0  0  1  0 ...   0  -10.0       1\n",
      "610  0  0  0  0  0  1  0  0  0  0  0  0  0  0  0  1  0 ...   0  -10.0       1\n",
      "612  1  0  0  0  0  0  0  0  0  0  0  0  0  0  0  0  0 ...   0  -10.0       1\n",
      "614  1  0  0  0  0  0  0  0  0  0  0  0  0  0  0  0  0 ...   0  -10.0       1\n",
      "615  1  0  0  0  0  0  0  0  0  0  0  0  0  0  0  1  0 ...   0  -10.0       1\n",
      "616  0  0  0  0  0  1  0  0  0  0  0  0  0  0  0  0  0 ...   0  -10.0       1\n",
      "618  0  0  0  0  0  1  0  0  0  0  0  0  0  0  0  0  0 ...   0  -10.0       1\n",
      "619  0  0  0  0  0  1  0  0  0  0  0  0  0  0  0  1  0 ...   0  -10.0       1\n",
      "620  0  0  0  0  0  0  0  0  0  0  1  0  0  0  0  1  0 ...   0  -10.0       1\n",
      "623  1  0  0  0  0  0  0  0  0  0  0  0  0  0  0  0  0 ...   0  -10.0       1\n",
      "624  0  0  0  0  0  1  0  0  0  0  0  0  0  0  0  0  0 ...   0  -10.0       1\n",
      "625  0  0  0  0  0  0  0  0  0  0  1  0  0  0  0  0  0 ...   0  -10.0       1\n",
      "626  1  0  0  0  0  0  0  0  0  0  0  0  0  0  0  0  0 ...   0  -10.0       1\n",
      "629  1  0  0  0  0  0  0  0  0  0  0  0  0  0  0  0  0 ...   0  -10.0       1\n",
      "631  0  0  0  0  0  1  0  0  0  0  0  0  0  0  0  1  0 ...   0  -10.0       1\n",
      "633  1  0  0  0  0  0  0  0  0  0  0  0  0  0  0  1  0 ...   0  -10.0       1\n",
      "634  0  0  0  0  0  1  0  0  0  0  0  0  0  0  0  0  0 ...   0  -10.0       1\n",
      "635  1  0  0  0  0  0  0  0  0  0  0  0  0  0  0  0  0 ...   0  -10.0       1\n",
      "636  0  0  0  0  0  1  0  0  0  0  0  0  0  0  0  0  0 ...   0  -10.0       1\n",
      "637  0  0  0  0  0  1  0  0  0  0  0  0  0  0  0  0  0 ...   0  -10.0       1\n",
      "639  0  0  0  0  0  0  0  0  0  0  1  0  0  0  0  0  0 ...   0  -10.0       1\n",
      "641  0  0  0  0  0  1  0  0  0  0  0  0  0  0  0  1  0 ...   0  -10.0       1\n",
      "642  0  0  0  0  0  0  0  0  0  0  1  0  0  0  0  1  0 ...   0  -10.0       1\n",
      "645  1  0  0  0  0  0  0  0  0  0  0  0  0  0  0  1  0 ...   0  -10.0       1\n",
      "646  0  0  0  0  0  0  0  0  0  0  1  0  0  0  0  1  0 ...   0  -10.0       1\n",
      "647  1  0  0  0  0  0  0  0  0  0  0  0  0  0  0  0  0 ...   0  -10.0       1\n",
      "648  0  0  0  0  0  1  0  0  0  0  0  0  0  0  0  0  0 ...   0  -10.0       1\n",
      "651  0  0  0  0  0  1  0  0  0  0  0  0  0  0  0  1  0 ...   0  -10.0       1\n",
      "652  0  0  0  0  0  0  0  0  0  0  1  0  0  0  0  0  0 ...   0  -10.0       1\n",
      "653  1  0  0  0  0  0  0  0  0  0  0  0  0  0  0  0  0 ...   0  -10.0       1\n",
      "654  0  0  0  0  0  0  0  0  0  0  1  0  0  0  0  1  0 ...   0  -10.0       1\n",
      "658  0  0  0  0  0  1  0  0  0  0  0  0  0  0  0  1  0 ...   0  -10.0       1\n",
      "659  0  0  0  0  0  1  0  0  0  0  0  0  0  0  0  1  0 ...   0  -10.0       1\n",
      "660  1  0  0  0  0  0  0  0  0  0  0  0  0  0  0  0  0 ...   0  -10.0       1\n",
      "661  0  0  0  0  0  1  0  0  0  0  0  0  0  0  0  1  0 ...   0  -10.0       1\n",
      "662  0  0  0  0  0  1  0  0  0  0  0  0  0  0  0  1  0 ...   0  -10.0       1\n",
      "666  0  0  0  0  0  1  0  0  0  0  0  0  0  0  0  1  0 ...   0  -10.0       1\n",
      "669  1  0  0  0  0  0  0  0  0  0  0  0  0  0  0  1  0 ...   0  -10.0       1\n",
      "673  0  0  0  0  0  0  0  0  0  0  1  0  0  0  0  1  0 ...   0  -10.0       1\n",
      "681  0  0  0  0  0  1  0  0  0  0  0  0  0  0  0  1  0 ...   0  -10.0       1\n",
      "683  0  0  0  0  0  1  0  0  0  0  0  0  0  0  0  1  0 ...   0  -10.0       1\n",
      "685  1  0  0  0  0  0  0  0  0  0  0  0  0  0  0  0  0 ...   0  -10.0       1\n",
      "693  0  0  0  0  0  0  0  0  0  0  1  0  0  0  0  0  0 ...   0  -10.0       1\n",
      "694  0  0  0  0  0  1  0  0  0  0  0  0  0  0  0  0  0 ...   0  -10.0       1\n",
      "695  0  0  0  0  0  1  0  0  0  0  0  0  0  0  0  0  0 ...   0  -10.0       1\n",
      "696  1  0  0  0  0  0  0  0  0  0  0  0  0  0  0  0  0 ...   0  -10.0       1\n",
      "697  0  0  0  0  0  1  0  0  0  0  0  0  0  0  0  0  0 ...   0  -10.0       1\n",
      "699  0  0  0  0  0  1  0  0  0  0  0  0  0  0  0  1  0 ...   0  -10.0       1\n",
      "700  0  0  0  0  0  0  0  0  0  0  1  0  0  0  0  0  0 ...   0  -10.0       1\n",
      "703  0  0  0  0  0  1  0  0  0  0  0  0  0  0  0  1  0 ...   0  -10.0       1\n",
      "704  0  0  0  0  0  1  0  0  0  0  0  0  0  0  0  1  0 ...   0  -10.0       1\n",
      "705  1  0  0  0  0  0  0  0  0  0  0  0  0  0  0  0  0 ...   0  -10.0       1\n",
      "706  0  0  0  0  0  1  0  0  0  0  0  0  0  0  0  1  0 ...   0  -10.0       1\n",
      "708  0  0  0  0  0  1  0  0  0  0  0  0  0  0  0  1  0 ...   0  -10.0       1\n",
      "710  0  0  0  0  0  0  0  0  0  0  1  0  0  0  0  0  0 ...   0  -10.0       1\n",
      "714  0  0  0  0  0  1  0  0  0  0  0  0  0  0  0  0  0 ...   0  -10.0       1\n",
      "716  0  0  0  0  0  0  0  0  0  0  1  0  0  0  0  1  0 ...   0  -10.0       1\n",
      "719  0  0  0  0  0  1  0  0  0  0  0  0  0  0  0  1  0 ...   0  -10.0       1\n",
      "721  1  0  0  0  0  0  0  0  0  0  0  0  0  0  0  0  0 ...   0  -10.0       1\n",
      "722  0  0  0  0  0  1  0  0  0  0  0  0  0  0  0  1  0 ...   0  -10.0       1\n",
      "727  1  0  0  0  0  0  0  0  0  0  0  0  0  0  0  0  0 ...   0  -10.0       1\n",
      "729  1  0  0  0  0  0  0  0  0  0  0  0  0  0  0  0  0 ...   0  -10.0       1\n",
      "732  1  0  0  0  0  0  0  0  0  0  0  0  0  0  0  0  0 ...   0  -10.0       1\n",
      "733  0  0  0  0  0  0  0  0  0  0  1  0  0  0  0  0  0 ...   0  -10.0       1\n",
      "734  0  0  0  0  0  1  0  0  0  0  0  0  0  0  0  1  0 ...   0  -10.0       1\n",
      "735  1  0  0  0  0  0  0  0  0  0  0  0  0  0  0  1  0 ...   0  -10.0       1\n",
      "736  0  0  0  0  0  0  0  0  0  0  1  0  0  0  0  1  0 ...   0  -10.0       1\n",
      "738  0  0  0  0  0  1  0  0  0  0  0  0  0  0  0  1  0 ...   0  -10.0       1\n",
      "740  0  0  0  0  0  0  0  0  0  0  1  0  0  0  0  0  0 ...   0  -10.0       1\n",
      "741  1  0  0  0  0  0  0  0  0  0  0  0  0  0  0  0  0 ...   0  -10.0       1\n",
      "743  1  0  0  0  0  0  0  0  0  0  0  0  0  0  0  1  0 ...   0  -10.0       1\n",
      "744  0  0  0  0  0  1  0  0  0  0  0  0  0  0  0  1  0 ...   0  -10.0       1\n",
      "745  0  0  0  0  0  1  0  0  0  0  0  0  0  0  0  1  0 ...   0  -10.0       1\n",
      "746  0  0  0  0  0  0  0  0  0  0  1  0  0  0  0  1  0 ...   0  -10.0       1\n",
      "748  0  0  0  0  0  1  0  0  0  0  0  0  0  0  0  0  0 ...   0  -10.0       1\n",
      "749  0  0  0  0  0  0  0  0  0  0  1  0  0  0  0  1  0 ...   0  -10.0       1\n",
      "755  0  0  0  0  0  1  0  0  0  0  0  0  0  0  0  0  0 ...   0  -10.0       1\n",
      "756  0  0  0  0  0  0  0  0  0  0  1  0  0  0  0  0  0 ...   0  -10.0       1\n",
      "757  1  0  0  0  0  0  0  0  0  0  0  0  0  0  0  1  0 ...   0  -10.0       1\n",
      "758  0  0  0  0  0  0  0  0  0  0  1  0  0  0  0  0  0 ...   0  -10.0       1\n",
      "763  0  0  0  0  0  1  0  0  0  0  0  0  0  0  0  1  0 ...   0  -10.0       1\n",
      "765  0  0  0  0  0  1  0  0  0  0  0  0  0  0  0  0  0 ...   0  -10.0       1\n",
      "767  0  0  0  0  0  1  0  0  0  0  0  0  0  0  0  0  0 ...   0  -10.0       1\n",
      "768  0  0  0  0  0  1  0  0  0  0  0  0  0  0  0  1  0 ...   0  -10.0       1\n",
      "769  1  0  0  0  0  0  0  0  0  0  0  0  0  0  0  1  0 ...   0  -10.0       1\n",
      "771  0  0  0  0  0  1  0  0  0  0  0  0  0  0  0  1  0 ...   0  -10.0       1\n",
      "772  0  0  0  0  0  0  0  0  0  0  1  0  0  0  0  0  0 ...   0  -10.0       1\n",
      "774  1  0  0  0  0  0  0  0  0  0  0  0  0  0  0  0  0 ...   0  -10.0       1\n",
      "775  0  0  0  0  0  0  0  0  0  0  1  0  0  0  0  1  0 ...   0  -10.0       1\n",
      "776  0  0  0  0  0  1  0  0  0  0  0  0  0  0  0  1  0 ...   0  -10.0       1\n",
      "778  0  0  0  0  0  1  0  0  0  0  0  0  0  0  0  0  0 ...   0  -10.0       1\n",
      "779  1  0  0  0  0  0  0  0  0  0  0  0  0  0  0  0  0 ...   0  -10.0       1\n",
      "780  0  0  0  0  0  0  0  0  0  0  1  0  0  0  0  1  0 ...   0  -10.0       1\n",
      "781  0  0  0  0  0  0  0  0  0  0  1  0  0  0  0  0  0 ...   0  -10.0       1\n",
      "782  0  0  0  0  0  0  0  0  0  0  1  0  0  0  0  1  0 ...   0  -10.0       1\n",
      "783  1  0  0  0  0  0  0  0  0  0  0  0  0  0  0  1  0 ...   0  -10.0       1\n",
      "791  0  0  0  0  0  1  0  0  0  0  0  0  0  0  0  1  0 ...   0  -10.0       1\n",
      "794  0  0  0  0  0  1  0  0  0  0  0  0  0  0  0  1  0 ...   0  -10.0       1\n",
      "798  0  0  0  0  0  0  0  0  0  0  1  0  0  0  0  1  0 ...   0  -10.0       1\n",
      "799  0  0  0  0  0  0  0  0  0  0  1  0  0  0  0  1  0 ...   0  -10.0       1\n",
      "801  1  0  0  0  0  0  0  0  0  0  0  0  0  0  0  1  0 ...   0  -10.0       1\n",
      "804  0  0  0  0  0  0  0  0  0  0  1  0  0  0  0  0  0 ...   0  -10.0       1\n",
      "805  1  0  0  0  0  0  0  0  0  0  0  0  0  0  0  1  0 ...   0  -10.0       1\n",
      "808  1  0  0  0  0  0  0  0  0  0  0  0  0  0  0  1  0 ...   0  -10.0       1\n",
      "809  0  0  0  0  0  0  0  0  0  0  1  0  0  0  0  0  0 ...   0  -10.0       1\n",
      "812  0  0  0  0  0  0  0  0  0  0  1  0  0  0  0  1  0 ...   0  -10.0       1\n",
      "813  1  0  0  0  0  0  0  0  0  0  0  0  0  0  0  1  0 ...   0  -10.0       1\n",
      "814  1  0  0  0  0  0  0  0  0  0  0  0  0  0  0  0  0 ...   0  -10.0       1\n",
      "815  1  0  0  0  0  0  0  0  0  0  0  0  0  0  0  0  0 ...   0  -10.0       1\n",
      "816  0  0  0  0  0  1  0  0  0  0  0  0  0  0  0  0  0 ...   0  -10.0       1\n",
      "817  0  0  0  0  0  0  0  0  0  0  1  0  0  0  0  0  0 ...   0  -10.0       1\n",
      "824  1  0  0  0  0  0  0  0  0  0  0  0  0  0  0  1  0 ...   0  -10.0       1\n",
      "830  0  0  0  0  0  1  0  0  0  0  0  0  0  0  0  0  0 ...   0  -10.0       1\n",
      "832  0  0  0  0  0  1  0  0  0  0  0  0  0  0  0  0  0 ...   0  -10.0       1\n",
      "835  0  0  0  0  0  0  0  0  0  0  1  0  0  0  0  1  0 ...   0  -10.0       1\n",
      "838  0  0  0  0  0  0  0  0  0  0  1  0  0  0  0  1  0 ...   0  -10.0       1\n",
      "839  0  0  0  0  0  1  0  0  0  0  0  0  0  0  0  0  0 ...   0  -10.0       1\n",
      "841  1  0  0  0  0  0  0  0  0  0  0  0  0  0  0  1  0 ...   0  -10.0       1\n",
      "843  0  0  0  0  0  1  0  0  0  0  0  0  0  0  0  0  0 ...   0  -10.0       1\n",
      "845  0  0  0  0  0  1  0  0  0  0  0  0  0  0  0  0  0 ...   0  -10.0       1\n",
      "848  1  0  0  0  0  0  0  0  0  0  0  0  0  0  0  1  0 ...   0  -10.0       1\n",
      "849  1  0  0  0  0  0  0  0  0  0  0  0  0  0  0  0  0 ...   0  -10.0       1\n",
      "850  0  0  0  0  0  0  0  0  0  0  1  0  0  0  0  1  0 ...   0  -10.0       1\n",
      "852  0  0  0  0  0  0  0  0  0  0  1  0  0  0  0  1  0 ...   0  -10.0       1\n",
      "856  0  0  0  0  0  0  0  0  0  0  1  0  0  0  0  1  0 ...   0  -10.0       1\n",
      "857  1  0  0  0  0  0  0  0  0  0  0  0  0  0  0  1  0 ...   0  -10.0       1\n",
      "858  1  0  0  0  0  0  0  0  0  0  0  0  0  0  0  1  0 ...   0  -10.0       1\n",
      "860  0  0  0  0  0  0  0  0  0  0  1  0  0  0  0  1  0 ...   0  -10.0       1\n",
      "864  0  0  0  0  0  1  0  0  0  0  0  0  0  0  0  1  0 ...   0  -10.0       1\n",
      "866  0  0  0  0  0  0  0  0  0  0  1  0  0  0  0  0  0 ...   0  -10.0       1\n",
      "868  0  0  0  0  0  0  0  0  0  0  1  0  0  0  0  0  0 ...   0  -10.0       1\n",
      "869  1  0  0  0  0  0  0  0  0  0  0  0  0  0  0  1  0 ...   0  -10.0       1\n",
      "875  1  0  0  0  0  0  0  0  0  0  0  0  0  0  0  0  0 ...   0  -10.0       1\n",
      "876  0  0  0  0  0  1  0  0  0  0  0  0  0  0  0  0  0 ...   0  -10.0       1\n",
      "877  1  0  0  0  0  0  0  0  0  0  0  0  0  0  0  0  0 ...   0  -10.0       1\n",
      "879  1  0  0  0  0  0  0  0  0  0  0  0  0  0  0  1  0 ...   0  -10.0       1\n",
      "881  1  0  0  0  0  0  0  0  0  0  0  0  0  0  0  1  0 ...   0  -10.0       1\n",
      "885  0  0  0  0  0  1  0  0  0  0  0  0  0  0  0  0  0 ...   0  -10.0       1\n",
      "886  1  0  0  0  0  0  0  0  0  0  0  0  0  0  0  1  0 ...   0  -10.0       1\n",
      "888  0  0  0  0  0  0  0  0  0  0  1  0  0  0  0  0  0 ...   0  -10.0       1\n",
      "890  1  0  0  0  0  0  0  0  0  0  0  0  0  0  0  1  0 ...   0  -10.0       1\n",
      "892  0  0  0  0  0  0  0  0  0  0  1  0  0  0  0  1  0 ...   0  -10.0       1\n",
      "894  0  0  0  0  0  1  0  0  0  0  0  0  0  0  0  1  0 ...   0  -10.0       1\n",
      "896  0  0  0  0  0  1  0  0  0  0  0  0  0  0  0  0  0 ...   0  -10.0       1\n",
      "897  1  0  0  0  0  0  0  0  0  0  0  0  0  0  0  1  0 ...   0  -10.0       1\n",
      "898  0  0  0  0  0  0  0  0  0  0  1  0  0  0  0  0  0 ...   0  -10.0       1\n",
      "899  0  0  0  0  0  0  0  0  0  0  1  0  0  0  0  0  0 ...   0  -10.0       1\n",
      "900  0  0  0  0  0  1  0  0  0  0  0  0  0  0  0  0  0 ...   0  -10.0       1\n",
      "902  0  0  0  0  0  1  0  0  0  0  0  0  0  0  0  0  0 ...   0  -10.0       1\n",
      "903  0  0  0  0  0  1  0  0  0  0  0  0  0  0  0  0  0 ...   0  -10.0       1\n",
      "909  1  0  0  0  0  0  0  0  0  0  0  0  0  0  0  0  0 ...   0  -10.0       1\n",
      "910  0  0  0  0  0  0  0  0  0  0  1  0  0  0  0  1  0 ...   0  -10.0       1\n",
      "912  1  0  0  0  0  0  0  0  0  0  0  0  0  0  0  0  0 ...   0  -10.0       1\n",
      "913  0  0  0  0  0  1  0  0  0  0  0  0  0  0  0  0  0 ...   0  -10.0       1\n",
      "915  0  0  0  0  0  1  0  0  0  0  0  0  0  0  0  1  0 ...   0  -10.0       1\n",
      "918  1  0  0  0  0  0  0  0  0  0  0  0  0  0  0  1  0 ...   0  -10.0       1\n",
      "919  0  0  0  0  0  1  0  0  0  0  0  0  0  0  0  0  0 ...   0  -10.0       1\n",
      "921  0  0  0  0  0  1  0  0  0  0  0  0  0  0  0  1  0 ...   0  -10.0       1\n",
      "922  1  0  0  0  0  0  0  0  0  0  0  0  0  0  0  0  0 ...   0  -10.0       1\n",
      "925  0  0  0  0  0  1  0  0  0  0  0  0  0  0  0  1  0 ...   0  -10.0       1\n",
      "928  1  0  0  0  0  0  0  0  0  0  0  0  0  0  0  0  0 ...   0  -10.0       1\n",
      "929  0  0  0  0  0  0  0  0  0  0  1  0  0  0  0  0  0 ...   0  -10.0       1\n",
      "931  1  0  0  0  0  0  0  0  0  0  0  0  0  0  0  0  0 ...   0  -10.0       1\n",
      "932  0  0  0  0  0  1  0  0  0  0  0  0  0  0  0  1  0 ...   0  -10.0       1\n",
      "933  0  0  0  0  0  0  0  0  0  0  1  0  0  0  0  0  0 ...   0  -10.0       1\n",
      "935  0  0  0  0  0  0  0  0  0  0  1  0  0  0  0  0  0 ...   0  -10.0       1\n",
      "936  0  0  0  0  0  1  0  0  0  0  0  0  0  0  0  1  0 ...   0  -10.0       1\n",
      "937  0  0  0  0  0  0  0  0  0  0  1  0  0  0  0  1  0 ...   0  -10.0       1\n",
      "943  0  0  0  0  0  0  0  0  0  0  1  0  0  0  0  0  0 ...   0  -10.0       1\n",
      "946  0  0  0  0  0  0  0  0  0  0  1  0  0  0  0  0  0 ...   0  -10.0       1\n",
      "947  0  0  0  0  0  1  0  0  0  0  0  0  0  0  0  1  0 ...   0  -10.0       1\n",
      "949  0  0  0  0  0  1  0  0  0  0  0  0  0  0  0  1  0 ...   0  -10.0       1\n",
      "950  0  0  0  0  0  1  0  0  0  0  0  0  0  0  0  1  0 ...   0  -10.0       1\n",
      "954  0  0  0  0  0  0  0  0  0  0  1  0  0  0  0  0  0 ...   0  -10.0       1\n",
      "955  0  0  0  0  0  1  0  0  0  0  0  0  0  0  0  1  0 ...   0  -10.0       1\n",
      "956  1  0  0  0  0  0  0  0  0  0  0  0  0  0  0  0  0 ...   0  -10.0       1\n",
      "957  0  0  0  0  0  0  0  0  0  0  1  0  0  0  0  1  0 ...   0  -10.0       1\n",
      "959  0  0  0  0  0  0  0  0  0  0  1  0  0  0  0  1  0 ...   0  -10.0       1\n",
      "960  0  0  0  0  0  1  0  0  0  0  0  0  0  0  0  0  0 ...   0  -10.0       1\n",
      "961  0  0  0  0  0  0  0  0  0  0  1  0  0  0  0  1  0 ...   0  -10.0       1\n",
      "963  0  0  0  0  0  0  0  0  0  0  1  0  0  0  0  1  0 ...   0  -10.0       1\n",
      "965  0  0  0  0  0  0  0  0  0  0  1  0  0  0  0  0  0 ...   0  -10.0       1\n",
      "966  1  0  0  0  0  0  0  0  0  0  0  0  0  0  0  0  0 ...   0  -10.0       1\n",
      "970  1  0  0  0  0  0  0  0  0  0  0  0  0  0  0  0  0 ...   0  -10.0       1\n",
      "974  0  0  0  0  0  0  0  0  0  0  1  0  0  0  0  0  0 ...   0  -10.0       1\n",
      "975  1  0  0  0  0  0  0  0  0  0  0  0  0  0  0  0  0 ...   0  -10.0       1\n",
      "976  0  0  0  0  0  1  0  0  0  0  0  0  0  0  0  1  0 ...   0  -10.0       1\n",
      "978  1  0  0  0  0  0  0  0  0  0  0  0  0  0  0  0  0 ...   0  -10.0       1\n",
      "980  0  0  0  0  0  0  0  0  0  0  1  0  0  0  0  1  0 ...   0  -10.0       1\n",
      "981  0  0  0  0  0  0  0  0  0  0  1  0  0  0  0  1  0 ...   0  -10.0       1\n",
      "983  0  0  0  0  0  1  0  0  0  0  0  0  0  0  0  0  0 ...   0  -10.0       1\n",
      "984  0  0  0  0  0  1  0  0  0  0  0  0  0  0  0  0  0 ...   0  -10.0       1\n",
      "985  0  0  0  0  0  0  0  0  0  0  1  0  0  0  0  1  0 ...   0  -10.0       1\n",
      "986  1  0  0  0  0  0  0  0  0  0  0  0  0  0  0  0  0 ...   0  -10.0       1\n",
      "987  0  0  0  0  0  0  0  0  0  0  1  0  0  0  0  0  0 ...   0  -10.0       1\n",
      "989  1  0  0  0  0  0  0  0  0  0  0  0  0  0  0  0  0 ...   0  -10.0       1\n",
      "991  1  0  0  0  0  0  0  0  0  0  0  0  0  0  0  1  0 ...   0  -10.0       1\n",
      "992  0  0  0  0  0  0  0  0  0  0  1  0  0  0  0  0  0 ...   0  -10.0       1\n",
      "997  1  0  0  0  0  0  0  0  0  0  0  0  0  0  0  1  0 ...   0  -10.0       1\n",
      "998  0  0  0  0  0  0  0  0  0  0  1  0  0  0  0  1  0 ...   0  -10.0       1\n",
      "999  0  0  0  0  0  0  0  0  0  0  1  0  0  0  0  1  0 ...   0  -10.0       1\n",
      "1    0  0  0  0  0  1  0  0  0  0  0  0  0  0  0  1  0 ...   0   -9.7       1\n",
      "6    1  0  0  0  0  0  0  0  0  0  0  0  0  0  0  0  0 ...   0   -9.7       1\n",
      "10   1  0  0  0  0  0  0  0  0  0  0  0  0  0  0  0  0 ...   0   -9.7       1\n",
      "16   0  0  0  0  0  1  0  0  0  0  0  0  0  0  0  1  0 ...   0   -9.7       1\n",
      "19   0  0  0  0  0  1  0  0  0  0  0  0  0  0  0  1  0 ...   0   -9.7       1\n",
      "24   1  0  0  0  0  0  0  0  0  0  0  0  0  0  0  1  0 ...   0   -9.7       1\n",
      "29   1  0  0  0  0  0  0  0  0  0  0  0  0  0  0  0  0 ...   0   -9.7       1\n",
      "31   1  0  0  0  0  0  0  0  0  0  0  0  0  0  0  0  0 ...   0   -9.7       1\n",
      "37   0  0  0  0  0  0  0  0  0  0  1  0  0  0  0  0  0 ...   0   -9.7       1\n",
      "38   0  0  0  0  0  1  0  0  0  0  0  0  0  0  0  0  0 ...   0   -9.7       1\n",
      "56   0  0  0  0  0  1  0  0  0  0  0  0  0  0  0  1  0 ...   0   -9.7       1\n",
      "58   0  0  0  0  0  1  0  0  0  0  0  0  0  0  0  0  0 ...   0   -9.7       1\n",
      "62   1  0  0  0  0  0  0  0  0  0  0  0  0  0  0  1  0 ...   0   -9.7       1\n",
      "66   1  0  0  0  0  0  0  0  0  0  0  0  0  0  0  1  0 ...   0   -9.7       1\n",
      "71   0  0  0  0  0  0  0  0  0  0  1  0  0  0  0  1  0 ...   0   -9.7       1\n",
      "72   0  0  0  0  0  0  0  0  0  0  1  0  0  0  0  0  0 ...   0   -9.7       1\n",
      "76   0  0  0  0  0  1  0  0  0  0  0  0  0  0  0  1  0 ...   0   -9.7       1\n",
      "78   1  0  0  0  0  0  0  0  0  0  0  0  0  0  0  0  0 ...   0   -9.7       1\n",
      "82   0  0  0  0  0  1  0  0  0  0  0  0  0  0  0  1  0 ...   0   -9.7       1\n",
      "85   0  0  0  0  0  0  0  0  0  0  1  0  0  0  0  1  0 ...   0   -9.7       1\n",
      "87   1  0  0  0  0  0  0  0  0  0  0  0  0  0  0  1  0 ...   0   -9.7       1\n",
      "91   1  0  0  0  0  0  0  0  0  0  0  0  0  0  0  1  0 ...   0   -9.7       1\n",
      "93   0  0  0  0  0  1  0  0  0  0  0  0  0  0  0  1  0 ...   0   -9.7       1\n",
      "104  0  0  0  0  0  1  0  0  0  0  0  0  0  0  0  1  0 ...   0   -9.7       1\n",
      "105  0  0  0  0  0  1  0  0  0  0  0  0  0  0  0  0  0 ...   0   -9.7       1\n",
      "111  0  0  0  0  0  0  0  0  0  0  1  0  0  0  0  1  0 ...   0   -9.7       1\n",
      "114  1  0  0  0  0  0  0  0  0  0  0  0  0  0  0  0  0 ...   0   -9.7       1\n",
      "118  1  0  0  0  0  0  0  0  0  0  0  0  0  0  0  1  0 ...   0   -9.7       1\n",
      "121  1  0  0  0  0  0  0  0  0  0  0  0  0  0  0  0  0 ...   0   -9.7       1\n",
      "122  1  0  0  0  0  0  0  0  0  0  0  0  0  0  0  0  0 ...   0   -9.7       1\n",
      "126  1  0  0  0  0  0  0  0  0  0  0  0  0  0  0  1  0 ...   0   -9.7       1\n",
      "132  0  0  0  0  0  0  0  0  0  0  1  0  0  0  0  0  0 ...   0   -9.7       1\n",
      "135  0  0  0  0  0  0  0  0  0  0  1  0  0  0  0  1  0 ...   0   -9.7       1\n",
      "136  0  0  0  0  0  1  0  0  0  0  0  0  0  0  0  1  0 ...   0   -9.7       1\n",
      "139  1  0  0  0  0  0  0  0  0  0  0  0  0  0  0  0  0 ...   0   -9.7       1\n",
      "145  0  0  0  0  0  1  0  0  0  0  0  0  0  0  0  0  0 ...   0   -9.7       1\n",
      "146  0  0  0  0  0  0  0  0  0  0  1  0  0  0  0  1  0 ...   0   -9.7       1\n",
      "149  0  0  0  0  0  1  0  0  0  0  0  0  0  0  0  1  0 ...   0   -9.7       1\n",
      "150  1  0  0  0  0  0  0  0  0  0  0  0  0  0  0  0  0 ...   0   -9.7       1\n",
      "158  1  0  0  0  0  0  0  0  0  0  0  0  0  0  0  0  0 ...   0   -9.7       1\n",
      "159  1  0  0  0  0  0  0  0  0  0  0  0  0  0  0  1  0 ...   0   -9.7       1\n",
      "161  0  0  0  0  0  0  0  0  0  0  1  0  0  0  0  0  0 ...   0   -9.7       1\n",
      "162  0  0  0  0  0  1  0  0  0  0  0  0  0  0  0  1  0 ...   0   -9.7       1\n",
      "164  0  0  0  0  0  1  0  0  0  0  0  0  0  0  0  0  0 ...   0   -9.7       1\n",
      "165  0  0  0  0  0  1  0  0  0  0  0  0  0  0  0  0  0 ...   0   -9.7       1\n",
      "166  1  0  0  0  0  0  0  0  0  0  0  0  0  0  0  0  0 ...   0   -9.7       1\n",
      "169  0  0  0  0  0  0  0  0  0  0  1  0  0  0  0  0  0 ...   0   -9.7       1\n",
      "171  0  0  0  0  0  0  0  0  0  0  1  0  0  0  0  0  0 ...   0   -9.7       1\n",
      "174  0  0  0  0  0  1  0  0  0  0  0  0  0  0  0  0  0 ...   0   -9.7       1\n",
      "178  1  0  0  0  0  0  0  0  0  0  0  0  0  0  0  1  0 ...   0   -9.7       1\n",
      "182  0  0  0  0  0  0  0  0  0  0  1  0  0  0  0  0  0 ...   0   -9.7       1\n",
      "184  1  0  0  0  0  0  0  0  0  0  0  0  0  0  0  0  0 ...   0   -9.7       1\n",
      "190  1  0  0  0  0  0  0  0  0  0  0  0  0  0  0  0  0 ...   0   -9.7       1\n",
      "191  0  0  0  0  0  1  0  0  0  0  0  0  0  0  0  1  0 ...   0   -9.7       1\n",
      "193  0  0  0  0  0  0  0  0  0  0  1  0  0  0  0  0  0 ...   0   -9.7       1\n",
      "194  0  0  0  0  0  0  0  0  0  0  1  0  0  0  0  1  0 ...   0   -9.7       1\n",
      "195  1  0  0  0  0  0  0  0  0  0  0  0  0  0  0  0  0 ...   0   -9.7       1\n",
      "197  0  0  0  0  0  0  0  0  0  0  1  0  0  0  0  0  0 ...   0   -9.7       1\n",
      "199  0  0  0  0  0  0  0  0  0  0  1  0  0  0  0  1  0 ...   0   -9.7       1\n",
      "202  0  0  0  0  0  0  0  0  0  0  1  0  0  0  0  1  0 ...   0   -9.7       1\n",
      "208  0  0  0  0  0  1  0  0  0  0  0  0  0  0  0  0  0 ...   0   -9.7       1\n",
      "223  0  0  0  0  0  1  0  0  0  0  0  0  0  0  0  1  0 ...   0   -9.7       1\n",
      "229  0  0  0  0  0  0  0  0  0  0  1  0  0  0  0  0  0 ...   0   -9.7       1\n",
      "240  1  0  0  0  0  0  0  0  0  0  0  0  0  0  0  0  0 ...   0   -9.7       1\n",
      "241  0  0  0  0  0  0  0  0  0  0  1  0  0  0  0  1  0 ...   0   -9.7       1\n",
      "246  0  0  0  0  0  0  0  0  0  0  1  0  0  0  0  0  0 ...   0   -9.7       1\n",
      "247  0  0  0  0  0  1  0  0  0  0  0  0  0  0  0  1  0 ...   0   -9.7       1\n",
      "256  0  0  0  0  0  1  0  0  0  0  0  0  0  0  0  0  0 ...   0   -9.7       1\n",
      "257  0  0  0  0  0  1  0  0  0  0  0  0  0  0  0  1  0 ...   0   -9.7       1\n",
      "261  1  0  0  0  0  0  0  0  0  0  0  0  0  0  0  1  0 ...   0   -9.7       1\n",
      "264  0  0  0  0  0  0  0  0  0  0  1  0  0  0  0  1  0 ...   0   -9.7       1\n",
      "270  0  0  0  0  0  1  0  0  0  0  0  0  0  0  0  1  0 ...   0   -9.7       1\n",
      "272  1  0  0  0  0  0  0  0  0  0  0  0  0  0  0  0  0 ...   0   -9.7       1\n",
      "277  1  0  0  0  0  0  0  0  0  0  0  0  0  0  0  1  0 ...   0   -9.7       1\n",
      "281  0  0  0  0  0  0  0  0  0  0  1  0  0  0  0  0  0 ...   0   -9.7       1\n",
      "292  1  0  0  0  0  0  0  0  0  0  0  0  0  0  0  0  0 ...   0   -9.7       1\n",
      "294  1  0  0  0  0  0  0  0  0  0  0  0  0  0  0  0  0 ...   0   -9.7       1\n",
      "295  0  0  0  0  0  0  0  0  0  0  1  0  0  0  0  0  0 ...   0   -9.7       1\n",
      "300  0  0  0  0  0  1  0  0  0  0  0  0  0  0  0  1  0 ...   0   -9.7       1\n",
      "303  0  0  0  0  0  1  0  0  0  0  0  0  0  0  0  0  0 ...   0   -9.7       1\n",
      "308  0  0  0  0  0  1  0  0  0  0  0  0  0  0  0  1  0 ...   0   -9.7       1\n",
      "309  1  0  0  0  0  0  0  0  0  0  0  0  0  0  0  0  0 ...   0   -9.7       1\n",
      "311  1  0  0  0  0  0  0  0  0  0  0  0  0  0  0  0  0 ...   0   -9.7       1\n",
      "312  0  0  0  0  0  0  0  0  0  0  1  0  0  0  0  0  0 ...   0   -9.7       1\n",
      "316  0  0  0  0  0  1  0  0  0  0  0  0  0  0  0  1  0 ...   0   -9.7       1\n",
      "326  0  0  0  0  0  1  0  0  0  0  0  0  0  0  0  1  0 ...   0   -9.7       1\n",
      "340  0  0  0  0  0  1  0  0  0  0  0  0  0  0  0  0  0 ...   0   -9.7       1\n",
      "342  0  0  0  0  0  1  0  0  0  0  0  0  0  0  0  1  0 ...   0   -9.7       1\n",
      "343  0  0  0  0  0  0  0  0  0  0  1  0  0  0  0  0  0 ...   0   -9.7       1\n",
      "351  1  0  0  0  0  0  0  0  0  0  0  0  0  0  0  0  0 ...   0   -9.7       1\n",
      "359  0  0  0  0  0  0  0  0  0  0  1  0  0  0  0  1  0 ...   0   -9.7       1\n",
      "364  0  0  0  0  0  0  0  0  0  0  1  0  0  0  0  0  0 ...   0   -9.7       1\n",
      "381  0  0  0  0  0  1  0  0  0  0  0  0  0  0  0  0  0 ...   0   -9.7       1\n",
      "382  0  0  0  0  0  1  0  0  0  0  0  0  0  0  0  1  0 ...   0   -9.7       1\n",
      "383  0  0  0  0  0  0  0  0  0  0  1  0  0  0  0  1  0 ...   0   -9.7       1\n",
      "387  0  0  0  0  0  0  0  0  0  0  1  0  0  0  0  1  0 ...   0   -9.7       1\n",
      "390  1  0  0  0  0  0  0  0  0  0  0  0  0  0  0  0  0 ...   0   -9.7       1\n",
      "396  1  0  0  0  0  0  0  0  0  0  0  0  0  0  0  1  0 ...   0   -9.7       1\n",
      "398  0  0  0  0  0  1  0  0  0  0  0  0  0  0  0  1  0 ...   0   -9.7       1\n",
      "402  0  0  0  0  0  1  0  0  0  0  0  0  0  0  0  0  0 ...   0   -9.7       1\n",
      "404  1  0  0  0  0  0  0  0  0  0  0  0  0  0  0  1  0 ...   0   -9.7       1\n",
      "408  0  0  0  0  0  0  0  0  0  0  1  0  0  0  0  0  0 ...   0   -9.7       1\n",
      "409  0  0  0  0  0  1  0  0  0  0  0  0  0  0  0  1  0 ...   0   -9.7       1\n",
      "417  1  0  0  0  0  0  0  0  0  0  0  0  0  0  0  0  0 ...   0   -9.7       1\n",
      "419  0  0  0  0  0  0  0  0  0  0  1  0  0  0  0  0  0 ...   0   -9.7       1\n",
      "422  1  0  0  0  0  0  0  0  0  0  0  0  0  0  0  0  0 ...   0   -9.7       1\n",
      "429  1  0  0  0  0  0  0  0  0  0  0  0  0  0  0  1  0 ...   0   -9.7       1\n",
      "431  1  0  0  0  0  0  0  0  0  0  0  0  0  0  0  0  0 ...   0   -9.7       1\n",
      "434  1  0  0  0  0  0  0  0  0  0  0  0  0  0  0  1  0 ...   0   -9.7       1\n",
      "435  0  0  0  0  0  1  0  0  0  0  0  0  0  0  0  0  0 ...   0   -9.7       1\n",
      "439  0  0  0  0  0  0  0  0  0  0  1  0  0  0  0  1  0 ...   0   -9.7       1\n",
      "444  0  0  0  0  0  0  0  0  0  0  1  0  0  0  0  0  0 ...   0   -9.7       1\n",
      "447  1  0  0  0  0  0  0  0  0  0  0  0  0  0  0  0  0 ...   0   -9.7       1\n",
      "449  0  0  0  0  0  1  0  0  0  0  0  0  0  0  0  0  0 ...   0   -9.7       1\n",
      "454  0  0  0  0  0  0  0  0  0  0  1  0  0  0  0  1  0 ...   0   -9.7       1\n",
      "456  1  0  0  0  0  0  0  0  0  0  0  0  0  0  0  0  0 ...   0   -9.7       1\n",
      "457  1  0  0  0  0  0  0  0  0  0  0  0  0  0  0  0  0 ...   0   -9.7       1\n",
      "463  1  0  0  0  0  0  0  0  0  0  0  0  0  0  0  1  0 ...   0   -9.7       1\n",
      "465  1  0  0  0  0  0  0  0  0  0  0  0  0  0  0  1  0 ...   0   -9.7       1\n",
      "473  0  0  0  0  0  0  0  0  0  0  1  0  0  0  0  1  0 ...   0   -9.7       1\n",
      "474  0  0  0  0  0  1  0  0  0  0  0  0  0  0  0  1  0 ...   0   -9.7       1\n",
      "476  0  0  0  0  0  0  0  0  0  0  1  0  0  0  0  0  0 ...   0   -9.7       1\n",
      "484  0  0  0  0  0  1  0  0  0  0  0  0  0  0  0  0  0 ...   0   -9.7       1\n",
      "486  0  0  0  0  0  0  0  0  0  0  1  0  0  0  0  0  0 ...   0   -9.7       1\n",
      "489  0  0  0  0  0  0  0  0  0  0  1  0  0  0  0  0  0 ...   0   -9.7       1\n",
      "493  0  0  0  0  0  1  0  0  0  0  0  0  0  0  0  1  0 ...   0   -9.7       1\n",
      "496  0  0  0  0  0  1  0  0  0  0  0  0  0  0  0  1  0 ...   0   -9.7       1\n",
      "498  0  0  0  0  0  0  0  0  0  0  1  0  0  0  0  1  0 ...   0   -9.7       1\n",
      "521  1  0  0  0  0  0  0  0  0  0  0  0  0  0  0  0  0 ...   0   -9.7       1\n",
      "528  1  0  0  0  0  0  0  0  0  0  0  0  0  0  0  0  0 ...   0   -9.7       1\n",
      "532  1  0  0  0  0  0  0  0  0  0  0  0  0  0  0  0  0 ...   0   -9.7       1\n",
      "536  0  0  0  0  0  0  0  0  0  0  1  0  0  0  0  0  0 ...   0   -9.7       1\n",
      "546  1  0  0  0  0  0  0  0  0  0  0  0  0  0  0  1  0 ...   0   -9.7       1\n",
      "558  0  0  0  0  0  0  0  0  0  0  1  0  0  0  0  0  0 ...   0   -9.7       1\n",
      "563  0  0  0  0  0  0  0  0  0  0  1  0  0  0  0  1  0 ...   0   -9.7       1\n",
      "569  0  0  0  0  0  1  0  0  0  0  0  0  0  0  0  0  0 ...   0   -9.7       1\n",
      "570  0  0  0  0  0  1  0  0  0  0  0  0  0  0  0  0  0 ...   0   -9.7       1\n",
      "574  1  0  0  0  0  0  0  0  0  0  0  0  0  0  0  1  0 ...   0   -9.7       1\n",
      "576  0  0  0  0  0  0  0  0  0  0  1  0  0  0  0  0  0 ...   0   -9.7       1\n",
      "577  1  0  0  0  0  0  0  0  0  0  0  0  0  0  0  0  0 ...   0   -9.7       1\n",
      "580  1  0  0  0  0  0  0  0  0  0  0  0  0  0  0  1  0 ...   0   -9.7       1\n",
      "581  0  0  0  0  0  0  0  0  0  0  1  0  0  0  0  1  0 ...   0   -9.7       1\n",
      "584  0  0  0  0  0  0  0  0  0  0  1  0  0  0  0  0  0 ...   0   -9.7       1\n",
      "593  0  0  0  0  0  0  0  0  0  0  1  0  0  0  0  0  0 ...   0   -9.7       1\n",
      "603  0  0  0  0  0  0  0  0  0  0  1  0  0  0  0  0  0 ...   0   -9.7       1\n",
      "608  0  0  0  0  0  1  0  0  0  0  0  0  0  0  0  1  0 ...   0   -9.7       1\n",
      "613  1  0  0  0  0  0  0  0  0  0  0  0  0  0  0  0  0 ...   0   -9.7       1\n",
      "617  1  0  0  0  0  0  0  0  0  0  0  0  0  0  0  1  0 ...   0   -9.7       1\n",
      "621  0  0  0  0  0  0  0  0  0  0  1  0  0  0  0  1  0 ...   0   -9.7       1\n",
      "630  0  0  0  0  0  1  0  0  0  0  0  0  0  0  0  0  0 ...   0   -9.7       1\n",
      "632  1  0  0  0  0  0  0  0  0  0  0  0  0  0  0  1  0 ...   0   -9.7       1\n",
      "649  0  0  0  0  0  1  0  0  0  0  0  0  0  0  0  1  0 ...   0   -9.7       1\n",
      "656  0  0  0  0  0  1  0  0  0  0  0  0  0  0  0  0  0 ...   0   -9.7       1\n",
      "663  0  0  0  0  0  0  0  0  0  0  1  0  0  0  0  1  0 ...   0   -9.7       1\n",
      "664  1  0  0  0  0  0  0  0  0  0  0  0  0  0  0  1  0 ...   0   -9.7       1\n",
      "667  0  0  0  0  0  0  0  0  0  0  1  0  0  0  0  1  0 ...   0   -9.7       1\n",
      "674  0  0  0  0  0  1  0  0  0  0  0  0  0  0  0  0  0 ...   0   -9.7       1\n",
      "675  0  0  0  0  0  1  0  0  0  0  0  0  0  0  0  1  0 ...   0   -9.7       1\n",
      "678  1  0  0  0  0  0  0  0  0  0  0  0  0  0  0  1  0 ...   0   -9.7       1\n",
      "682  0  0  0  0  0  0  0  0  0  0  1  0  0  0  0  1  0 ...   0   -9.7       1\n",
      "686  0  0  0  0  0  0  0  0  0  0  1  0  0  0  0  0  0 ...   0   -9.7       1\n",
      "688  1  0  0  0  0  0  0  0  0  0  0  0  0  0  0  0  0 ...   0   -9.7       1\n",
      "691  0  0  0  0  0  0  0  0  0  0  1  0  0  0  0  1  0 ...   0   -9.7       1\n",
      "698  0  0  0  0  0  1  0  0  0  0  0  0  0  0  0  0  0 ...   0   -9.7       1\n",
      "709  0  0  0  0  0  0  0  0  0  0  1  0  0  0  0  0  0 ...   0   -9.7       1\n",
      "711  0  0  0  0  0  0  0  0  0  0  1  0  0  0  0  0  0 ...   0   -9.7       1\n",
      "718  0  0  0  0  0  0  0  0  0  0  1  0  0  0  0  1  0 ...   0   -9.7       1\n",
      "724  1  0  0  0  0  0  0  0  0  0  0  0  0  0  0  1  0 ...   0   -9.7       1\n",
      "726  1  0  0  0  0  0  0  0  0  0  0  0  0  0  0  1  0 ...   0   -9.7       1\n",
      "739  0  0  0  0  0  0  0  0  0  0  1  0  0  0  0  1  0 ...   0   -9.7       1\n",
      "747  0  0  0  0  0  1  0  0  0  0  0  0  0  0  0  0  0 ...   0   -9.7       1\n",
      "750  0  0  0  0  0  0  0  0  0  0  1  0  0  0  0  0  0 ...   0   -9.7       1\n",
      "761  1  0  0  0  0  0  0  0  0  0  0  0  0  0  0  0  0 ...   0   -9.7       1\n",
      "764  0  0  0  0  0  0  0  0  0  0  1  0  0  0  0  1  0 ...   0   -9.7       1\n",
      "770  0  0  0  0  0  0  0  0  0  0  1  0  0  0  0  0  0 ...   0   -9.7       1\n",
      "773  0  0  0  0  0  0  0  0  0  0  1  0  0  0  0  0  0 ...   0   -9.7       1\n",
      "777  0  0  0  0  0  0  0  0  0  0  1  0  0  0  0  1  0 ...   0   -9.7       1\n",
      "785  0  0  0  0  0  0  0  0  0  0  1  0  0  0  0  0  0 ...   0   -9.7       1\n",
      "788  0  0  0  0  0  1  0  0  0  0  0  0  0  0  0  0  0 ...   0   -9.7       1\n",
      "792  1  0  0  0  0  0  0  0  0  0  0  0  0  0  0  0  0 ...   0   -9.7       1\n",
      "796  0  0  0  0  0  1  0  0  0  0  0  0  0  0  0  0  0 ...   0   -9.7       1\n",
      "800  0  0  0  0  0  1  0  0  0  0  0  0  0  0  0  0  0 ...   0   -9.7       1\n",
      "802  1  0  0  0  0  0  0  0  0  0  0  0  0  0  0  1  0 ...   0   -9.7       1\n",
      "803  0  0  0  0  0  1  0  0  0  0  0  0  0  0  0  1  0 ...   0   -9.7       1\n",
      "810  0  0  0  0  0  1  0  0  0  0  0  0  0  0  0  1  0 ...   0   -9.7       1\n",
      "811  0  0  0  0  0  0  0  0  0  0  1  0  0  0  0  1  0 ...   0   -9.7       1\n",
      "818  1  0  0  0  0  0  0  0  0  0  0  0  0  0  0  1  0 ...   0   -9.7       1\n",
      "819  1  0  0  0  0  0  0  0  0  0  0  0  0  0  0  1  0 ...   0   -9.7       1\n",
      "820  0  0  0  0  0  0  0  0  0  0  1  0  0  0  0  0  0 ...   0   -9.7       1\n",
      "821  0  0  0  0  0  1  0  0  0  0  0  0  0  0  0  1  0 ...   0   -9.7       1\n",
      "823  0  0  0  0  0  0  0  0  0  0  1  0  0  0  0  1  0 ...   0   -9.7       1\n",
      "826  0  0  0  0  0  1  0  0  0  0  0  0  0  0  0  0  0 ...   0   -9.7       1\n",
      "828  0  0  0  0  0  1  0  0  0  0  0  0  0  0  0  1  0 ...   0   -9.7       1\n",
      "829  1  0  0  0  0  0  0  0  0  0  0  0  0  0  0  0  0 ...   0   -9.7       1\n",
      "831  0  0  0  0  0  0  0  0  0  0  1  0  0  0  0  1  0 ...   0   -9.7       1\n",
      "836  0  0  0  0  0  1  0  0  0  0  0  0  0  0  0  0  0 ...   0   -9.7       1\n",
      "837  0  0  0  0  0  1  0  0  0  0  0  0  0  0  0  0  0 ...   0   -9.7       1\n",
      "847  0  0  0  0  0  1  0  0  0  0  0  0  0  0  0  1  0 ...   0   -9.7       1\n",
      "859  1  0  0  0  0  0  0  0  0  0  0  0  0  0  0  1  0 ...   0   -9.7       1\n",
      "862  1  0  0  0  0  0  0  0  0  0  0  0  0  0  0  1  0 ...   0   -9.7       1\n",
      "865  0  0  0  0  0  0  0  0  0  0  1  0  0  0  0  0  0 ...   0   -9.7       1\n",
      "870  0  0  0  0  0  0  0  0  0  0  1  0  0  0  0  0  0 ...   0   -9.7       1\n",
      "871  1  0  0  0  0  0  0  0  0  0  0  0  0  0  0  0  0 ...   0   -9.7       1\n",
      "872  0  0  0  0  0  1  0  0  0  0  0  0  0  0  0  0  0 ...   0   -9.7       1\n",
      "873  1  0  0  0  0  0  0  0  0  0  0  0  0  0  0  0  0 ...   0   -9.7       1\n",
      "874  0  0  0  0  0  1  0  0  0  0  0  0  0  0  0  1  0 ...   0   -9.7       1\n",
      "880  0  0  0  0  0  0  0  0  0  0  1  0  0  0  0  0  0 ...   0   -9.7       1\n",
      "882  0  0  0  0  0  0  0  0  0  0  1  0  0  0  0  1  0 ...   0   -9.7       1\n",
      "884  0  0  0  0  0  1  0  0  0  0  0  0  0  0  0  0  0 ...   0   -9.7       1\n",
      "887  0  0  0  0  0  1  0  0  0  0  0  0  0  0  0  1  0 ...   0   -9.7       1\n",
      "889  0  0  0  0  0  1  0  0  0  0  0  0  0  0  0  1  0 ...   0   -9.7       1\n",
      "891  1  0  0  0  0  0  0  0  0  0  0  0  0  0  0  1  0 ...   0   -9.7       1\n",
      "904  0  0  0  0  0  1  0  0  0  0  0  0  0  0  0  0  0 ...   0   -9.7       1\n",
      "907  1  0  0  0  0  0  0  0  0  0  0  0  0  0  0  0  0 ...   0   -9.7       1\n",
      "908  1  0  0  0  0  0  0  0  0  0  0  0  0  0  0  1  0 ...   0   -9.7       1\n",
      "911  1  0  0  0  0  0  0  0  0  0  0  0  0  0  0  1  0 ...   0   -9.7       1\n",
      "914  0  0  0  0  0  0  0  0  0  0  1  0  0  0  0  0  0 ...   0   -9.7       1\n",
      "920  0  0  0  0  0  0  0  0  0  0  1  0  0  0  0  0  0 ...   0   -9.7       1\n",
      "924  0  0  0  0  0  0  0  0  0  0  1  0  0  0  0  1  0 ...   0   -9.7       1\n",
      "938  1  0  0  0  0  0  0  0  0  0  0  0  0  0  0  1  0 ...   0   -9.7       1\n",
      "944  1  0  0  0  0  0  0  0  0  0  0  0  0  0  0  1  0 ...   0   -9.7       1\n",
      "951  0  0  0  0  0  1  0  0  0  0  0  0  0  0  0  1  0 ...   0   -9.7       1\n",
      "958  1  0  0  0  0  0  0  0  0  0  0  0  0  0  0  0  0 ...   0   -9.7       1\n",
      "962  1  0  0  0  0  0  0  0  0  0  0  0  0  0  0  1  0 ...   0   -9.7       1\n",
      "964  1  0  0  0  0  0  0  0  0  0  0  0  0  0  0  1  0 ...   0   -9.7       1\n",
      "968  0  0  0  0  0  1  0  0  0  0  0  0  0  0  0  1  0 ...   0   -9.7       1\n",
      "969  1  0  0  0  0  0  0  0  0  0  0  0  0  0  0  1  0 ...   0   -9.7       1\n",
      "971  1  0  0  0  0  0  0  0  0  0  0  0  0  0  0  0  0 ...   0   -9.7       1\n",
      "973  0  0  0  0  0  0  0  0  0  0  1  0  0  0  0  0  0 ...   0   -9.7       1\n",
      "982  0  0  0  0  0  0  0  0  0  0  1  0  0  0  0  0  0 ...   0   -9.7       1\n",
      "994  1  0  0  0  0  0  0  0  0  0  0  0  0  0  0  1  0 ...   0   -9.7       1\n",
      "995  1  0  0  0  0  0  0  0  0  0  0  0  0  0  0  1  0 ...   0   -9.7       1\n",
      "0    0  0  0  0  0  1  0  0  0  0  0  0  0  0  0  0  0 ...   0   -9.4       1\n",
      "3    0  0  0  0  0  1  0  0  0  0  0  0  0  0  0  1  0 ...   0   -9.4       1\n",
      "7    1  0  0  0  0  0  0  0  0  0  0  0  0  0  0  1  0 ...   0   -9.4       1\n",
      "54   0  0  0  0  0  1  0  0  0  0  0  0  0  0  0  1  0 ...   0   -9.4       1\n",
      "57   1  0  0  0  0  0  0  0  0  0  0  0  0  0  0  1  0 ...   0   -9.4       1\n",
      "61   1  0  0  0  0  0  0  0  0  0  0  0  0  0  0  1  0 ...   0   -9.4       1\n",
      "68   0  0  0  0  0  1  0  0  0  0  0  0  0  0  0  0  0 ...   0   -9.4       1\n",
      "84   1  0  0  0  0  0  0  0  0  0  0  0  0  0  0  0  0 ...   0   -9.4       1\n",
      "88   1  0  0  0  0  0  0  0  0  0  0  0  0  0  0  0  0 ...   0   -9.4       1\n",
      "110  0  0  0  0  0  0  0  0  0  0  1  0  0  0  0  0  0 ...   0   -9.4       1\n",
      "116  0  0  0  0  0  1  0  0  0  0  0  0  0  0  0  1  0 ...   0   -9.4       1\n",
      "124  0  0  0  0  0  0  0  0  0  0  1  0  0  0  0  1  0 ...   0   -9.4       1\n",
      "125  0  0  0  0  0  1  0  0  0  0  0  0  0  0  0  1  0 ...   0   -9.4       1\n",
      "130  0  0  0  0  0  0  0  0  0  0  1  0  0  0  0  0  0 ...   0   -9.4       1\n",
      "138  0  0  0  0  0  0  0  0  0  0  1  0  0  0  0  1  0 ...   0   -9.4       1\n",
      "153  0  0  0  0  0  0  0  0  0  0  1  0  0  0  0  1  0 ...   0   -9.4       1\n",
      "156  0  0  0  0  0  0  0  0  0  0  1  0  0  0  0  1  0 ...   0   -9.4       1\n",
      "175  0  0  0  0  0  0  0  0  0  0  1  0  0  0  0  1  0 ...   0   -9.4       1\n",
      "185  1  0  0  0  0  0  0  0  0  0  0  0  0  0  0  1  0 ...   0   -9.4       1\n",
      "192  0  0  0  0  0  0  0  0  0  0  1  0  0  0  0  1  0 ...   0   -9.4       1\n",
      "204  1  0  0  0  0  0  0  0  0  0  0  0  0  0  0  1  0 ...   0   -9.4       1\n",
      "210  0  0  0  0  0  1  0  0  0  0  0  0  0  0  0  1  0 ...   0   -9.4       1\n",
      "254  0  0  0  0  0  1  0  0  0  0  0  0  0  0  0  1  0 ...   0   -9.4       1\n",
      "262  0  0  0  0  0  0  0  0  0  0  1  0  0  0  0  1  0 ...   0   -9.4       1\n",
      "276  1  0  0  0  0  0  0  0  0  0  0  0  0  0  0  0  0 ...   0   -9.4       1\n",
      "280  1  0  0  0  0  0  0  0  0  0  0  0  0  0  0  1  0 ...   0   -9.4       1\n",
      "289  1  0  0  0  0  0  0  0  0  0  0  0  0  0  0  1  0 ...   0   -9.4       1\n",
      "323  0  0  0  0  0  0  0  0  0  0  1  0  0  0  0  0  0 ...   0   -9.4       1\n",
      "329  0  0  0  0  0  0  0  0  0  0  1  0  0  0  0  0  0 ...   0   -9.4       1\n",
      "330  1  0  0  0  0  0  0  0  0  0  0  0  0  0  0  0  0 ...   0   -9.4       1\n",
      "331  0  0  0  0  0  1  0  0  0  0  0  0  0  0  0  1  0 ...   0   -9.4       1\n",
      "339  0  0  0  0  0  1  0  0  0  0  0  0  0  0  0  1  0 ...   0   -9.4       1\n",
      "354  0  0  0  0  0  1  0  0  0  0  0  0  0  0  0  1  0 ...   0   -9.4       1\n",
      "427  0  0  0  0  0  0  0  0  0  0  1  0  0  0  0  1  0 ...   0   -9.4       1\n",
      "428  0  0  0  0  0  0  0  0  0  0  1  0  0  0  0  0  0 ...   0   -9.4       1\n",
      "430  0  0  0  0  0  1  0  0  0  0  0  0  0  0  0  0  0 ...   0   -9.4       1\n",
      "448  0  0  0  0  0  1  0  0  0  0  0  0  0  0  0  1  0 ...   0   -9.4       1\n",
      "477  0  0  0  0  0  1  0  0  0  0  0  0  0  0  0  1  0 ...   0   -9.4       1\n",
      "480  0  0  0  0  0  1  0  0  0  0  0  0  0  0  0  1  0 ...   0   -9.4       1\n",
      "481  0  0  0  0  0  1  0  0  0  0  0  0  0  0  0  0  0 ...   0   -9.4       1\n",
      "491  1  0  0  0  0  0  0  0  0  0  0  0  0  0  0  1  0 ...   0   -9.4       1\n",
      "500  0  0  0  0  0  1  0  0  0  0  0  0  0  0  0  0  0 ...   0   -9.4       1\n",
      "508  1  0  0  0  0  0  0  0  0  0  0  0  0  0  0  0  0 ...   0   -9.4       1\n",
      "529  0  0  0  0  0  0  0  0  0  0  1  0  0  0  0  0  0 ...   0   -9.4       1\n",
      "560  0  0  0  0  0  1  0  0  0  0  0  0  0  0  0  0  0 ...   0   -9.4       1\n",
      "562  0  0  0  0  0  0  0  0  0  0  1  0  0  0  0  0  0 ...   0   -9.4       1\n",
      "585  1  0  0  0  0  0  0  0  0  0  0  0  0  0  0  0  0 ...   0   -9.4       1\n",
      "588  0  0  0  0  0  0  0  0  0  0  1  0  0  0  0  1  0 ...   0   -9.4       1\n",
      "597  0  0  0  0  0  0  0  0  0  0  1  0  0  0  0  0  0 ...   0   -9.4       1\n",
      "602  1  0  0  0  0  0  0  0  0  0  0  0  0  0  0  0  0 ...   0   -9.4       1\n",
      "605  0  0  0  0  0  0  0  0  0  0  1  0  0  0  0  1  0 ...   0   -9.4       1\n",
      "622  0  0  0  0  0  0  0  0  0  0  1  0  0  0  0  0  0 ...   0   -9.4       1\n",
      "627  1  0  0  0  0  0  0  0  0  0  0  0  0  0  0  0  0 ...   0   -9.4       1\n",
      "628  0  0  0  0  0  1  0  0  0  0  0  0  0  0  0  1  0 ...   0   -9.4       1\n",
      "655  0  0  0  0  0  1  0  0  0  0  0  0  0  0  0  0  0 ...   0   -9.4       1\n",
      "665  0  0  0  0  0  1  0  0  0  0  0  0  0  0  0  1  0 ...   0   -9.4       1\n",
      "672  0  0  0  0  0  1  0  0  0  0  0  0  0  0  0  0  0 ...   0   -9.4       1\n",
      "680  1  0  0  0  0  0  0  0  0  0  0  0  0  0  0  1  0 ...   0   -9.4       1\n",
      "689  1  0  0  0  0  0  0  0  0  0  0  0  0  0  0  0  0 ...   0   -9.4       1\n",
      "690  0  0  0  0  0  0  0  0  0  0  1  0  0  0  0  0  0 ...   0   -9.4       1\n",
      "701  0  0  0  0  0  0  0  0  0  0  1  0  0  0  0  0  0 ...   0   -9.4       1\n",
      "702  0  0  0  0  0  1  0  0  0  0  0  0  0  0  0  0  0 ...   0   -9.4       1\n",
      "717  0  0  0  0  0  0  0  0  0  0  1  0  0  0  0  0  0 ...   0   -9.4       1\n",
      "720  0  0  0  0  0  0  0  0  0  0  1  0  0  0  0  1  0 ...   0   -9.4       1\n",
      "737  0  0  0  0  0  0  0  0  0  0  1  0  0  0  0  0  0 ...   0   -9.4       1\n",
      "751  0  0  0  0  0  0  0  0  0  0  1  0  0  0  0  1  0 ...   0   -9.4       1\n",
      "752  1  0  0  0  0  0  0  0  0  0  0  0  0  0  0  0  0 ...   0   -9.4       1\n",
      "753  1  0  0  0  0  0  0  0  0  0  0  0  0  0  0  0  0 ...   0   -9.4       1\n",
      "759  0  0  0  0  0  0  0  0  0  0  1  0  0  0  0  1  0 ...   0   -9.4       1\n",
      "760  0  0  0  0  0  0  0  0  0  0  1  0  0  0  0  0  0 ...   0   -9.4       1\n",
      "762  0  0  0  0  0  1  0  0  0  0  0  0  0  0  0  0  0 ...   0   -9.4       1\n",
      "784  0  0  0  0  0  0  0  0  0  0  1  0  0  0  0  1  0 ...   0   -9.4       1\n",
      "789  1  0  0  0  0  0  0  0  0  0  0  0  0  0  0  0  0 ...   0   -9.4       1\n",
      "795  0  0  0  0  0  0  0  0  0  0  1  0  0  0  0  1  0 ...   0   -9.4       1\n",
      "822  1  0  0  0  0  0  0  0  0  0  0  0  0  0  0  1  0 ...   0   -9.4       1\n",
      "827  0  0  0  0  0  1  0  0  0  0  0  0  0  0  0  1  0 ...   0   -9.4       1\n",
      "842  0  0  0  0  0  0  0  0  0  0  1  0  0  0  0  0  0 ...   0   -9.4       1\n",
      "846  0  0  0  0  0  0  0  0  0  0  1  0  0  0  0  1  0 ...   0   -9.4       1\n",
      "851  0  0  0  0  0  0  0  0  0  0  1  0  0  0  0  1  0 ...   0   -9.4       1\n",
      "854  1  0  0  0  0  0  0  0  0  0  0  0  0  0  0  1  0 ...   0   -9.4       1\n",
      "917  1  0  0  0  0  0  0  0  0  0  0  0  0  0  0  1  0 ...   0   -9.4       1\n",
      "939  0  0  0  0  0  0  0  0  0  0  1  0  0  0  0  1  0 ...   0   -9.4       1\n",
      "953  1  0  0  0  0  0  0  0  0  0  0  0  0  0  0  1  0 ...   0   -9.4       1\n",
      "967  0  0  0  0  0  1  0  0  0  0  0  0  0  0  0  0  0 ...   0   -9.4       1\n",
      "977  1  0  0  0  0  0  0  0  0  0  0  0  0  0  0  1  0 ...   0   -9.4       1\n",
      "993  0  0  0  0  0  0  0  0  0  0  1  0  0  0  0  1  0 ...   0   -9.4       1\n",
      "11   1  0  0  0  0  0  0  0  0  0  0  0  0  0  0  0  0 ...   0   -9.4       1\n",
      "45   0  0  0  0  0  1  0  0  0  0  0  0  0  0  0  0  0 ...   0   -9.4       1\n",
      "60   0  0  0  0  0  1  0  0  0  0  0  0  0  0  0  1  0 ...   0   -9.4       1\n",
      "63   1  0  0  0  0  0  0  0  0  0  0  0  0  0  0  0  0 ...   0   -9.4       1\n",
      "69   0  0  0  0  0  0  0  0  0  0  1  0  0  0  0  1  0 ...   0   -9.4       1\n",
      "70   1  0  0  0  0  0  0  0  0  0  0  0  0  0  0  1  0 ...   0   -9.4       1\n",
      "73   0  0  0  0  0  0  0  0  0  0  1  0  0  0  0  0  0 ...   0   -9.4       1\n",
      "89   1  0  0  0  0  0  0  0  0  0  0  0  0  0  0  0  0 ...   0   -9.4       1\n",
      "92   1  0  0  0  0  0  0  0  0  0  0  0  0  0  0  1  0 ...   0   -9.4       1\n",
      "99   0  0  0  0  0  0  0  0  0  0  1  0  0  0  0  0  0 ...   0   -9.4       1\n",
      "128  0  0  0  0  0  0  0  0  0  0  1  0  0  0  0  1  0 ...   0   -9.4       1\n",
      "137  0  0  0  0  0  1  0  0  0  0  0  0  0  0  0  1  0 ...   0   -9.4       1\n",
      "141  1  0  0  0  0  0  0  0  0  0  0  0  0  0  0  1  0 ...   0   -9.4       1\n",
      "144  0  0  0  0  0  1  0  0  0  0  0  0  0  0  0  0  0 ...   0   -9.4       1\n",
      "151  1  0  0  0  0  0  0  0  0  0  0  0  0  0  0  1  0 ...   0   -9.4       1\n",
      "172  0  0  0  0  0  0  0  0  0  0  1  0  0  0  0  1  0 ...   0   -9.4       1\n",
      "176  1  0  0  0  0  0  0  0  0  0  0  0  0  0  0  1  0 ...   0   -9.4       1\n",
      "177  0  0  0  0  0  1  0  0  0  0  0  0  0  0  0  0  0 ...   0   -9.4       1\n",
      "200  0  0  0  0  0  1  0  0  0  0  0  0  0  0  0  0  0 ...   0   -9.4       1\n",
      "212  1  0  0  0  0  0  0  0  0  0  0  0  0  0  0  1  0 ...   0   -9.4       1\n",
      "214  0  0  0  0  0  0  0  0  0  0  1  0  0  0  0  0  0 ...   0   -9.4       1\n",
      "230  0  0  0  0  0  1  0  0  0  0  0  0  0  0  0  0  0 ...   0   -9.4       1\n",
      "244  0  0  0  0  0  0  0  0  0  0  1  0  0  0  0  0  0 ...   0   -9.4       1\n",
      "248  0  0  0  0  0  0  0  0  0  0  1  0  0  0  0  1  0 ...   0   -9.4       1\n",
      "249  0  0  0  0  0  0  0  0  0  0  1  0  0  0  0  1  0 ...   0   -9.4       1\n",
      "286  0  0  0  0  0  0  0  0  0  0  1  0  0  0  0  1  0 ...   0   -9.4       1\n",
      "290  0  0  0  0  0  1  0  0  0  0  0  0  0  0  0  1  0 ...   0   -9.4       1\n",
      "293  0  0  0  0  0  1  0  0  0  0  0  0  0  0  0  1  0 ...   0   -9.4       1\n",
      "296  1  0  0  0  0  0  0  0  0  0  0  0  0  0  0  1  0 ...   0   -9.4       1\n",
      "321  1  0  0  0  0  0  0  0  0  0  0  0  0  0  0  1  0 ...   0   -9.4       1\n",
      "338  0  0  0  0  0  0  0  0  0  0  1  0  0  0  0  1  0 ...   0   -9.4       1\n",
      "349  0  0  0  0  0  1  0  0  0  0  0  0  0  0  0  0  0 ...   0   -9.4       1\n",
      "353  0  0  0  0  0  1  0  0  0  0  0  0  0  0  0  1  0 ...   0   -9.4       1\n",
      "372  0  0  0  0  0  0  0  0  0  0  1  0  0  0  0  1  0 ...   0   -9.4       1\n",
      "395  0  0  0  0  0  1  0  0  0  0  0  0  0  0  0  1  0 ...   0   -9.4       1\n",
      "399  0  0  0  0  0  1  0  0  0  0  0  0  0  0  0  1  0 ...   0   -9.4       1\n",
      "413  1  0  0  0  0  0  0  0  0  0  0  0  0  0  0  1  0 ...   0   -9.4       1\n",
      "421  0  0  0  0  0  0  0  0  0  0  1  0  0  0  0  1  0 ...   0   -9.4       1\n",
      "424  1  0  0  0  0  0  0  0  0  0  0  0  0  0  0  1  0 ...   0   -9.4       1\n",
      "451  0  0  0  0  0  0  0  0  0  0  1  0  0  0  0  0  0 ...   0   -9.4       1\n",
      "453  0  0  0  0  0  1  0  0  0  0  0  0  0  0  0  1  0 ...   0   -9.4       1\n",
      "459  0  0  0  0  0  1  0  0  0  0  0  0  0  0  0  0  0 ...   0   -9.4       1\n",
      "462  1  0  0  0  0  0  0  0  0  0  0  0  0  0  0  1  0 ...   0   -9.4       1\n",
      "479  0  0  0  0  0  1  0  0  0  0  0  0  0  0  0  1  0 ...   0   -9.4       1\n",
      "482  1  0  0  0  0  0  0  0  0  0  0  0  0  0  0  1  0 ...   0   -9.4       1\n",
      "497  1  0  0  0  0  0  0  0  0  0  0  0  0  0  0  1  0 ...   0   -9.4       1\n",
      "513  0  0  0  0  0  1  0  0  0  0  0  0  0  0  0  1  0 ...   0   -9.4       1\n",
      "517  1  0  0  0  0  0  0  0  0  0  0  0  0  0  0  0  0 ...   0   -9.4       1\n",
      "530  1  0  0  0  0  0  0  0  0  0  0  0  0  0  0  0  0 ...   0   -9.4       1\n",
      "538  1  0  0  0  0  0  0  0  0  0  0  0  0  0  0  0  0 ...   0   -9.4       1\n",
      "543  0  0  0  0  0  1  0  0  0  0  0  0  0  0  0  1  0 ...   0   -9.4       1\n",
      "549  0  0  0  0  0  0  0  0  0  0  1  0  0  0  0  1  0 ...   0   -9.4       1\n",
      "556  0  0  0  0  0  0  0  0  0  0  1  0  0  0  0  0  0 ...   0   -9.4       1\n",
      "564  0  0  0  0  0  0  0  0  0  0  1  0  0  0  0  0  0 ...   0   -9.4       1\n",
      "566  0  0  0  0  0  1  0  0  0  0  0  0  0  0  0  1  0 ...   0   -9.4       1\n",
      "599  1  0  0  0  0  0  0  0  0  0  0  0  0  0  0  1  0 ...   0   -9.4       1\n",
      "611  0  0  0  0  0  0  0  0  0  0  1  0  0  0  0  0  0 ...   0   -9.4       1\n",
      "638  0  0  0  0  0  1  0  0  0  0  0  0  0  0  0  1  0 ...   0   -9.4       1\n",
      "643  1  0  0  0  0  0  0  0  0  0  0  0  0  0  0  1  0 ...   0   -9.4       1\n",
      "644  0  0  0  0  0  0  0  0  0  0  1  0  0  0  0  0  0 ...   0   -9.4       1\n",
      "650  0  0  0  0  0  0  0  0  0  0  1  0  0  0  0  1  0 ...   0   -9.4       1\n",
      "657  0  0  0  0  0  0  0  0  0  0  1  0  0  0  0  0  0 ...   0   -9.4       1\n",
      "668  0  0  0  0  0  0  0  0  0  0  1  0  0  0  0  1  0 ...   0   -9.4       1\n",
      "671  0  0  0  0  0  1  0  0  0  0  0  0  0  0  0  0  0 ...   0   -9.4       1\n",
      "679  1  0  0  0  0  0  0  0  0  0  0  0  0  0  0  1  0 ...   0   -9.4       1\n",
      "684  1  0  0  0  0  0  0  0  0  0  0  0  0  0  0  1  0 ...   0   -9.4       1\n",
      "687  0  0  0  0  0  1  0  0  0  0  0  0  0  0  0  1  0 ...   0   -9.4       1\n",
      "692  1  0  0  0  0  0  0  0  0  0  0  0  0  0  0  0  0 ...   0   -9.4       1\n",
      "707  1  0  0  0  0  0  0  0  0  0  0  0  0  0  0  0  0 ...   0   -9.4       1\n",
      "713  0  0  0  0  0  0  0  0  0  0  1  0  0  0  0  0  0 ...   0   -9.4       1\n",
      "725  0  0  0  0  0  1  0  0  0  0  0  0  0  0  0  1  0 ...   0   -9.4       1\n",
      "728  0  0  0  0  0  0  0  0  0  0  1  0  0  0  0  1  0 ...   0   -9.4       1\n",
      "730  0  0  0  0  0  0  0  0  0  0  1  0  0  0  0  0  0 ...   0   -9.4       1\n",
      "806  1  0  0  0  0  0  0  0  0  0  0  0  0  0  0  1  0 ...   0   -9.4       1\n",
      "825  0  0  0  0  0  0  0  0  0  0  1  0  0  0  0  0  0 ...   0   -9.4       1\n",
      "844  0  0  0  0  0  1  0  0  0  0  0  0  0  0  0  0  0 ...   0   -9.4       1\n",
      "853  1  0  0  0  0  0  0  0  0  0  0  0  0  0  0  1  0 ...   0   -9.4       1\n",
      "855  0  0  0  0  0  0  0  0  0  0  1  0  0  0  0  0  0 ...   0   -9.4       1\n",
      "867  0  0  0  0  0  1  0  0  0  0  0  0  0  0  0  1  0 ...   0   -9.4       1\n",
      "893  0  0  0  0  0  1  0  0  0  0  0  0  0  0  0  1  0 ...   0   -9.4       1\n",
      "895  0  0  0  0  0  0  0  0  0  0  1  0  0  0  0  1  0 ...   0   -9.4       1\n",
      "916  1  0  0  0  0  0  0  0  0  0  0  0  0  0  0  0  0 ...   0   -9.4       1\n",
      "923  0  0  0  0  0  1  0  0  0  0  0  0  0  0  0  1  0 ...   0   -9.4       1\n",
      "926  1  0  0  0  0  0  0  0  0  0  0  0  0  0  0  1  0 ...   0   -9.4       1\n",
      "930  0  0  0  0  0  0  0  0  0  0  1  0  0  0  0  1  0 ...   0   -9.4       1\n",
      "941  0  0  0  0  0  1  0  0  0  0  0  0  0  0  0  0  0 ...   0   -9.4       1\n",
      "942  1  0  0  0  0  0  0  0  0  0  0  0  0  0  0  0  0 ...   0   -9.4       1\n",
      "952  0  0  0  0  0  0  0  0  0  0  1  0  0  0  0  1  0 ...   0   -9.4       1\n",
      "972  0  0  0  0  0  1  0  0  0  0  0  0  0  0  0  1  0 ...   0   -9.4       1\n",
      "988  0  0  0  0  0  1  0  0  0  0  0  0  0  0  0  0  0 ...   0   -9.4       1\n",
      "990  1  0  0  0  0  0  0  0  0  0  0  0  0  0  0  0  0 ...   0   -9.4       1\n",
      "996  0  0  0  0  0  0  0  0  0  0  1  0  0  0  0  1  0 ...   0   -9.4       1\n",
      "5    1  0  0  0  0  0  0  0  0  0  0  0  0  0  0  0  0 ...   0   -9.1       1\n",
      "26   1  0  0  0  0  0  0  0  0  0  0  0  0  0  0  0  0 ...   0   -9.1       1\n",
      "43   0  0  0  0  0  0  0  0  0  0  1  0  0  0  0  0  0 ...   0   -9.1       1\n",
      "44   0  0  0  0  0  1  0  0  0  0  0  0  0  0  0  1  0 ...   0   -9.1       1\n",
      "64   0  0  0  0  0  0  0  0  0  0  1  0  0  0  0  1  0 ...   0   -9.1       1\n",
      "94   0  0  0  0  0  0  0  0  0  0  1  0  0  0  0  1  0 ...   0   -9.1       1\n",
      "117  0  0  0  0  0  0  0  0  0  0  1  0  0  0  0  0  0 ...   0   -9.1       1\n",
      "183  0  0  0  0  0  1  0  0  0  0  0  0  0  0  0  0  0 ...   0   -9.1       1\n",
      "188  0  0  0  0  0  1  0  0  0  0  0  0  0  0  0  0  0 ...   0   -9.1       1\n",
      "231  1  0  0  0  0  0  0  0  0  0  0  0  0  0  0  0  0 ...   0   -9.1       1\n",
      "258  1  0  0  0  0  0  0  0  0  0  0  0  0  0  0  0  0 ...   0   -9.1       1\n",
      "283  0  0  0  0  0  0  0  0  0  0  1  0  0  0  0  1  0 ...   0   -9.1       1\n",
      "291  0  0  0  0  0  0  0  0  0  0  1  0  0  0  0  1  0 ...   0   -9.1       1\n",
      "310  0  0  0  0  0  1  0  0  0  0  0  0  0  0  0  1  0 ...   0   -9.1       1\n",
      "333  1  0  0  0  0  0  0  0  0  0  0  0  0  0  0  0  0 ...   0   -9.1       1\n",
      "363  0  0  0  0  0  1  0  0  0  0  0  0  0  0  0  0  0 ...   0   -9.1       1\n",
      "373  1  0  0  0  0  0  0  0  0  0  0  0  0  0  0  0  0 ...   0   -9.1       1\n",
      "423  0  0  0  0  0  1  0  0  0  0  0  0  0  0  0  0  0 ...   0   -9.1       1\n",
      "438  0  0  0  0  0  1  0  0  0  0  0  0  0  0  0  1  0 ...   0   -9.1       1\n",
      "458  1  0  0  0  0  0  0  0  0  0  0  0  0  0  0  1  0 ...   0   -9.1       1\n",
      "527  1  0  0  0  0  0  0  0  0  0  0  0  0  0  0  1  0 ...   0   -9.1       1\n",
      "548  0  0  0  0  0  1  0  0  0  0  0  0  0  0  0  0  0 ...   0   -9.1       1\n",
      "551  0  0  0  0  0  0  0  0  0  0  1  0  0  0  0  0  0 ...   0   -9.1       1\n",
      "552  0  0  0  0  0  1  0  0  0  0  0  0  0  0  0  0  0 ...   0   -9.1       1\n",
      "567  0  0  0  0  0  0  0  0  0  0  1  0  0  0  0  0  0 ...   0   -9.1       1\n",
      "590  1  0  0  0  0  0  0  0  0  0  0  0  0  0  0  1  0 ...   0   -9.1       1\n",
      "594  0  0  0  0  0  0  0  0  0  0  1  0  0  0  0  1  0 ...   0   -9.1       1\n",
      "595  0  0  0  0  0  0  0  0  0  0  1  0  0  0  0  0  0 ...   0   -9.1       1\n",
      "640  0  0  0  0  0  1  0  0  0  0  0  0  0  0  0  0  0 ...   0   -9.1       1\n",
      "670  1  0  0  0  0  0  0  0  0  0  0  0  0  0  0  1  0 ...   0   -9.1       1\n",
      "676  1  0  0  0  0  0  0  0  0  0  0  0  0  0  0  0  0 ...   0   -9.1       1\n",
      "677  0  0  0  0  0  1  0  0  0  0  0  0  0  0  0  1  0 ...   0   -9.1       1\n",
      "712  1  0  0  0  0  0  0  0  0  0  0  0  0  0  0  1  0 ...   0   -9.1       1\n",
      "715  0  0  0  0  0  1  0  0  0  0  0  0  0  0  0  1  0 ...   0   -9.1       1\n",
      "766  0  0  0  0  0  0  0  0  0  0  1  0  0  0  0  1  0 ...   0   -9.1       1\n",
      "786  0  0  0  0  0  1  0  0  0  0  0  0  0  0  0  0  0 ...   0   -9.1       1\n",
      "797  0  0  0  0  0  1  0  0  0  0  0  0  0  0  0  1  0 ...   0   -9.1       1\n",
      "807  0  0  0  0  0  1  0  0  0  0  0  0  0  0  0  1  0 ...   0   -9.1       1\n",
      "834  0  0  0  0  0  1  0  0  0  0  0  0  0  0  0  0  0 ...   0   -9.1       1\n",
      "840  1  0  0  0  0  0  0  0  0  0  0  0  0  0  0  0  0 ...   0   -9.1       1\n",
      "901  1  0  0  0  0  0  0  0  0  0  0  0  0  0  0  0  0 ...   0   -9.1       1\n",
      "934  0  0  0  0  0  1  0  0  0  0  0  0  0  0  0  0  0 ...   0   -9.1       1\n",
      "13   0  0  0  0  0  0  0  0  0  0  1  0  0  0  0  1  0 ...   0   -8.8       1\n",
      "17   1  0  0  0  0  0  0  0  0  0  0  0  0  0  0  1  0 ...   0   -8.8       1\n",
      "21   0  0  0  0  0  0  0  0  0  0  1  0  0  0  0  1  0 ...   0   -8.8       1\n",
      "30   0  0  0  0  0  1  0  0  0  0  0  0  0  0  0  0  1 ...   0   -8.8       1\n",
      "36   0  0  0  0  0  0  0  0  0  0  1  0  0  0  0  0  0 ...   0   -8.8       1\n",
      "53   1  0  0  0  0  0  0  0  0  0  0  0  0  0  0  0  0 ...   0   -8.8       1\n",
      "101  0  0  0  0  0  1  0  0  0  0  0  0  0  0  0  1  0 ...   0   -8.8       1\n",
      "112  1  0  0  0  0  0  0  0  0  0  0  0  0  0  0  0  0 ...   0   -8.8       1\n",
      "134  0  0  0  0  0  0  0  0  0  0  1  0  0  0  0  0  1 ...   0   -8.8       1\n",
      "180  0  0  0  0  0  0  0  0  0  0  1  0  0  0  0  0  0 ...   0   -8.8       1\n",
      "221  0  0  0  0  0  0  0  0  0  0  1  0  0  0  0  1  0 ...   0   -8.8       1\n",
      "235  0  0  0  0  0  1  0  0  0  0  0  0  0  0  0  0  0 ...   0   -8.8       1\n",
      "239  0  0  0  0  0  1  0  0  0  0  0  0  0  0  0  0  0 ...   0   -8.8       1\n",
      "288  1  0  0  0  0  0  0  0  0  0  0  0  0  0  0  0  0 ...   0   -8.8       1\n",
      "298  0  0  0  0  0  0  0  0  0  0  1  0  0  0  0  0  1 ...   0   -8.8       1\n",
      "306  0  0  0  0  0  0  0  0  0  0  1  0  0  0  0  0  1 ...   0   -8.8       1\n",
      "317  0  0  0  0  0  1  0  0  0  0  0  0  0  0  0  1  0 ...   0   -8.8       1\n",
      "358  0  0  0  0  0  0  0  0  0  0  1  0  0  0  0  0  0 ...   0   -8.8       1\n",
      "370  0  0  0  0  0  1  0  0  0  0  0  0  0  0  0  1  0 ...   0   -8.8       1\n",
      "441  1  0  0  0  0  0  0  0  0  0  0  0  0  0  0  0  0 ...   0   -8.8       1\n",
      "507  1  0  0  0  0  0  0  0  0  0  0  0  0  0  0  1  0 ...   0   -8.8       1\n",
      "525  0  0  0  0  0  0  0  0  0  0  1  0  0  0  0  0  0 ...   0   -8.8       1\n",
      "587  0  0  0  0  0  1  0  0  0  0  0  0  0  0  0  1  0 ...   0   -8.8       1\n",
      "592  1  0  0  0  0  0  0  0  0  0  0  0  0  0  0  0  1 ...   0   -8.8       1\n",
      "601  0  0  0  0  0  1  0  0  0  0  0  0  0  0  0  1  0 ...   0   -8.8       1\n",
      "723  0  0  0  0  0  0  0  0  0  0  1  0  0  0  0  0  0 ...   0   -8.8       1\n",
      "731  0  0  0  0  0  1  0  0  0  0  0  0  0  0  0  0  0 ...   0   -8.8       1\n",
      "742  0  0  0  0  0  1  0  0  0  0  0  0  0  0  0  0  0 ...   0   -8.8       1\n",
      "754  0  0  0  0  0  1  0  0  0  0  0  0  0  0  0  0  0 ...   0   -8.8       1\n",
      "787  0  0  0  0  0  0  0  0  0  0  1  0  0  0  0  0  0 ...   0   -8.8       1\n",
      "793  0  0  0  0  0  1  0  0  0  0  0  0  0  0  0  0  1 ...   0   -8.8       1\n",
      "833  1  0  0  0  0  0  0  0  0  0  0  0  0  0  0  0  0 ...   0   -8.8       1\n",
      "861  1  0  0  0  0  0  0  0  0  0  0  0  0  0  0  0  0 ...   0   -8.8       1\n",
      "878  1  0  0  0  0  0  0  0  0  0  0  0  0  0  0  0  0 ...   0   -8.8       1\n",
      "883  1  0  0  0  0  0  0  0  0  0  0  0  0  0  0  0  0 ...   0   -8.8       1\n",
      "905  1  0  0  0  0  0  0  0  0  0  0  0  0  0  0  0  1 ...   0   -8.8       1\n",
      "979  0  0  0  0  0  1  0  0  0  0  0  0  0  0  0  0  0 ...   0   -8.8       1\n",
      "25   1  0  0  0  0  0  0  0  0  0  0  0  0  0  0  0  0 ...   0   -8.8       1\n",
      "251  0  0  0  0  0  1  0  0  0  0  0  0  0  0  0  0  0 ...   0   -8.8       1\n",
      "948  1  0  0  0  0  0  0  0  0  0  0  0  0  0  0  1  0 ...   0   -8.8       1\n",
      "147  0  0  0  0  0  0  0  0  0  0  1  0  0  0  0  0  1 ...   0   -8.5       1\n",
      "305  1  0  0  0  0  0  0  0  0  0  0  0  0  0  0  0  1 ...   0   -8.5       1\n",
      "578  0  0  0  0  0  1  0  0  0  0  0  0  0  0  0  0  0 ...   0   -8.5       1\n",
      "906  0  0  0  0  0  0  0  0  0  0  1  0  0  0  0  0  1 ...   0   -8.5       1\n",
      "559  0  0  0  0  0  0  0  0  0  0  1  0  0  0  0  0  0 ...   0   -8.5       1\n",
      "940  0  0  0  0  0  0  0  0  0  0  1  0  0  0  0  0  0 ...   0   -8.5       1\n",
      "42   1  0  0  0  0  0  0  0  0  0  0  0  0  0  0  0  1 ...   0   -8.2       1\n",
      "863  0  0  0  0  0  0  0  0  0  0  1  0  0  0  0  0  0 ...   0   -8.2       1\n",
      "490  0  1  0  0  0  0  0  0  0  0  0  0  0  0  0  0  1 ...   0   -8.2       1\n",
      "501  0  1  0  0  0  0  0  0  0  0  0  0  0  0  0  0  0 ...   0   -8.2       1\n",
      "790  0  0  0  0  0  0  0  0  0  0  0  1  0  0  0  0  0 ...   0   -8.2       1\n",
      "927  0  1  0  0  0  0  0  0  0  0  0  0  0  0  0  0  0 ...   0   -8.2       1\n",
      "163  0  0  0  0  0  0  0  0  0  0  0  1  0  0  0  0  1 ...   0   -7.9       1\n",
      "945  0  0  0  0  0  1  0  0  0  0  0  0  0  0  0  0  0 ...   0   -7.9       1\n",
      "['BINARY', 1000 rows, 1000 samples, 105 variables]\n"
     ]
    }
   ],
   "source": [
    "print(sampleset_neal)"
   ]
  },
  {
   "cell_type": "code",
   "execution_count": 21,
   "id": "improved-render",
   "metadata": {},
   "outputs": [],
   "source": [
    "sample_nmr = 0\n",
    "df_schedule = make_schedule_from_sample(jobs, operations, sampleset_neal, sample_nmr, bend_length, weld_length, paint_length)"
   ]
  },
  {
   "cell_type": "code",
   "execution_count": 22,
   "id": "neural-concentration",
   "metadata": {},
   "outputs": [
    {
     "data": {
      "application/vnd.plotly.v1+json": {
       "config": {
        "plotlyServerURL": "https://plot.ly"
       },
       "data": [
        {
         "alignmentgroup": "True",
         "base": [
          0,
          8,
          17,
          0,
          4
         ],
         "hovertemplate": "StartTime=%{base}<br>FinishTime=%{x}<br>Machine=%{y}<br>DueDate=%{text}<br>Job=%{marker.color}<extra></extra>",
         "legendgroup": "",
         "marker": {
          "color": [
           0,
           0,
           0,
           1,
           1
          ],
          "coloraxis": "coloraxis"
         },
         "name": "",
         "offsetgroup": "",
         "orientation": "h",
         "showlegend": false,
         "text": [
          54,
          54,
          54,
          24,
          24
         ],
         "textposition": "auto",
         "type": "bar",
         "x": [
          8,
          9,
          36,
          4,
          18
         ],
         "xaxis": "x",
         "y": [
          0,
          4,
          5,
          2,
          3
         ],
         "yaxis": "y"
        }
       ],
       "layout": {
        "barmode": "overlay",
        "coloraxis": {
         "colorbar": {
          "title": {
           "text": "Job"
          }
         },
         "colorscale": [
          [
           0,
           "rgb(247,251,255)"
          ],
          [
           0.125,
           "rgb(222,235,247)"
          ],
          [
           0.25,
           "rgb(198,219,239)"
          ],
          [
           0.375,
           "rgb(158,202,225)"
          ],
          [
           0.5,
           "rgb(107,174,214)"
          ],
          [
           0.625,
           "rgb(66,146,198)"
          ],
          [
           0.75,
           "rgb(33,113,181)"
          ],
          [
           0.875,
           "rgb(8,81,156)"
          ],
          [
           1,
           "rgb(8,48,107)"
          ]
         ]
        },
        "legend": {
         "tracegroupgap": 0
        },
        "template": {
         "data": {
          "bar": [
           {
            "error_x": {
             "color": "#2a3f5f"
            },
            "error_y": {
             "color": "#2a3f5f"
            },
            "marker": {
             "line": {
              "color": "#E5ECF6",
              "width": 0.5
             }
            },
            "type": "bar"
           }
          ],
          "barpolar": [
           {
            "marker": {
             "line": {
              "color": "#E5ECF6",
              "width": 0.5
             }
            },
            "type": "barpolar"
           }
          ],
          "carpet": [
           {
            "aaxis": {
             "endlinecolor": "#2a3f5f",
             "gridcolor": "white",
             "linecolor": "white",
             "minorgridcolor": "white",
             "startlinecolor": "#2a3f5f"
            },
            "baxis": {
             "endlinecolor": "#2a3f5f",
             "gridcolor": "white",
             "linecolor": "white",
             "minorgridcolor": "white",
             "startlinecolor": "#2a3f5f"
            },
            "type": "carpet"
           }
          ],
          "choropleth": [
           {
            "colorbar": {
             "outlinewidth": 0,
             "ticks": ""
            },
            "type": "choropleth"
           }
          ],
          "contour": [
           {
            "colorbar": {
             "outlinewidth": 0,
             "ticks": ""
            },
            "colorscale": [
             [
              0,
              "#0d0887"
             ],
             [
              0.1111111111111111,
              "#46039f"
             ],
             [
              0.2222222222222222,
              "#7201a8"
             ],
             [
              0.3333333333333333,
              "#9c179e"
             ],
             [
              0.4444444444444444,
              "#bd3786"
             ],
             [
              0.5555555555555556,
              "#d8576b"
             ],
             [
              0.6666666666666666,
              "#ed7953"
             ],
             [
              0.7777777777777778,
              "#fb9f3a"
             ],
             [
              0.8888888888888888,
              "#fdca26"
             ],
             [
              1,
              "#f0f921"
             ]
            ],
            "type": "contour"
           }
          ],
          "contourcarpet": [
           {
            "colorbar": {
             "outlinewidth": 0,
             "ticks": ""
            },
            "type": "contourcarpet"
           }
          ],
          "heatmap": [
           {
            "colorbar": {
             "outlinewidth": 0,
             "ticks": ""
            },
            "colorscale": [
             [
              0,
              "#0d0887"
             ],
             [
              0.1111111111111111,
              "#46039f"
             ],
             [
              0.2222222222222222,
              "#7201a8"
             ],
             [
              0.3333333333333333,
              "#9c179e"
             ],
             [
              0.4444444444444444,
              "#bd3786"
             ],
             [
              0.5555555555555556,
              "#d8576b"
             ],
             [
              0.6666666666666666,
              "#ed7953"
             ],
             [
              0.7777777777777778,
              "#fb9f3a"
             ],
             [
              0.8888888888888888,
              "#fdca26"
             ],
             [
              1,
              "#f0f921"
             ]
            ],
            "type": "heatmap"
           }
          ],
          "heatmapgl": [
           {
            "colorbar": {
             "outlinewidth": 0,
             "ticks": ""
            },
            "colorscale": [
             [
              0,
              "#0d0887"
             ],
             [
              0.1111111111111111,
              "#46039f"
             ],
             [
              0.2222222222222222,
              "#7201a8"
             ],
             [
              0.3333333333333333,
              "#9c179e"
             ],
             [
              0.4444444444444444,
              "#bd3786"
             ],
             [
              0.5555555555555556,
              "#d8576b"
             ],
             [
              0.6666666666666666,
              "#ed7953"
             ],
             [
              0.7777777777777778,
              "#fb9f3a"
             ],
             [
              0.8888888888888888,
              "#fdca26"
             ],
             [
              1,
              "#f0f921"
             ]
            ],
            "type": "heatmapgl"
           }
          ],
          "histogram": [
           {
            "marker": {
             "colorbar": {
              "outlinewidth": 0,
              "ticks": ""
             }
            },
            "type": "histogram"
           }
          ],
          "histogram2d": [
           {
            "colorbar": {
             "outlinewidth": 0,
             "ticks": ""
            },
            "colorscale": [
             [
              0,
              "#0d0887"
             ],
             [
              0.1111111111111111,
              "#46039f"
             ],
             [
              0.2222222222222222,
              "#7201a8"
             ],
             [
              0.3333333333333333,
              "#9c179e"
             ],
             [
              0.4444444444444444,
              "#bd3786"
             ],
             [
              0.5555555555555556,
              "#d8576b"
             ],
             [
              0.6666666666666666,
              "#ed7953"
             ],
             [
              0.7777777777777778,
              "#fb9f3a"
             ],
             [
              0.8888888888888888,
              "#fdca26"
             ],
             [
              1,
              "#f0f921"
             ]
            ],
            "type": "histogram2d"
           }
          ],
          "histogram2dcontour": [
           {
            "colorbar": {
             "outlinewidth": 0,
             "ticks": ""
            },
            "colorscale": [
             [
              0,
              "#0d0887"
             ],
             [
              0.1111111111111111,
              "#46039f"
             ],
             [
              0.2222222222222222,
              "#7201a8"
             ],
             [
              0.3333333333333333,
              "#9c179e"
             ],
             [
              0.4444444444444444,
              "#bd3786"
             ],
             [
              0.5555555555555556,
              "#d8576b"
             ],
             [
              0.6666666666666666,
              "#ed7953"
             ],
             [
              0.7777777777777778,
              "#fb9f3a"
             ],
             [
              0.8888888888888888,
              "#fdca26"
             ],
             [
              1,
              "#f0f921"
             ]
            ],
            "type": "histogram2dcontour"
           }
          ],
          "mesh3d": [
           {
            "colorbar": {
             "outlinewidth": 0,
             "ticks": ""
            },
            "type": "mesh3d"
           }
          ],
          "parcoords": [
           {
            "line": {
             "colorbar": {
              "outlinewidth": 0,
              "ticks": ""
             }
            },
            "type": "parcoords"
           }
          ],
          "pie": [
           {
            "automargin": true,
            "type": "pie"
           }
          ],
          "scatter": [
           {
            "marker": {
             "colorbar": {
              "outlinewidth": 0,
              "ticks": ""
             }
            },
            "type": "scatter"
           }
          ],
          "scatter3d": [
           {
            "line": {
             "colorbar": {
              "outlinewidth": 0,
              "ticks": ""
             }
            },
            "marker": {
             "colorbar": {
              "outlinewidth": 0,
              "ticks": ""
             }
            },
            "type": "scatter3d"
           }
          ],
          "scattercarpet": [
           {
            "marker": {
             "colorbar": {
              "outlinewidth": 0,
              "ticks": ""
             }
            },
            "type": "scattercarpet"
           }
          ],
          "scattergeo": [
           {
            "marker": {
             "colorbar": {
              "outlinewidth": 0,
              "ticks": ""
             }
            },
            "type": "scattergeo"
           }
          ],
          "scattergl": [
           {
            "marker": {
             "colorbar": {
              "outlinewidth": 0,
              "ticks": ""
             }
            },
            "type": "scattergl"
           }
          ],
          "scattermapbox": [
           {
            "marker": {
             "colorbar": {
              "outlinewidth": 0,
              "ticks": ""
             }
            },
            "type": "scattermapbox"
           }
          ],
          "scatterpolar": [
           {
            "marker": {
             "colorbar": {
              "outlinewidth": 0,
              "ticks": ""
             }
            },
            "type": "scatterpolar"
           }
          ],
          "scatterpolargl": [
           {
            "marker": {
             "colorbar": {
              "outlinewidth": 0,
              "ticks": ""
             }
            },
            "type": "scatterpolargl"
           }
          ],
          "scatterternary": [
           {
            "marker": {
             "colorbar": {
              "outlinewidth": 0,
              "ticks": ""
             }
            },
            "type": "scatterternary"
           }
          ],
          "surface": [
           {
            "colorbar": {
             "outlinewidth": 0,
             "ticks": ""
            },
            "colorscale": [
             [
              0,
              "#0d0887"
             ],
             [
              0.1111111111111111,
              "#46039f"
             ],
             [
              0.2222222222222222,
              "#7201a8"
             ],
             [
              0.3333333333333333,
              "#9c179e"
             ],
             [
              0.4444444444444444,
              "#bd3786"
             ],
             [
              0.5555555555555556,
              "#d8576b"
             ],
             [
              0.6666666666666666,
              "#ed7953"
             ],
             [
              0.7777777777777778,
              "#fb9f3a"
             ],
             [
              0.8888888888888888,
              "#fdca26"
             ],
             [
              1,
              "#f0f921"
             ]
            ],
            "type": "surface"
           }
          ],
          "table": [
           {
            "cells": {
             "fill": {
              "color": "#EBF0F8"
             },
             "line": {
              "color": "white"
             }
            },
            "header": {
             "fill": {
              "color": "#C8D4E3"
             },
             "line": {
              "color": "white"
             }
            },
            "type": "table"
           }
          ]
         },
         "layout": {
          "annotationdefaults": {
           "arrowcolor": "#2a3f5f",
           "arrowhead": 0,
           "arrowwidth": 1
          },
          "autotypenumbers": "strict",
          "coloraxis": {
           "colorbar": {
            "outlinewidth": 0,
            "ticks": ""
           }
          },
          "colorscale": {
           "diverging": [
            [
             0,
             "#8e0152"
            ],
            [
             0.1,
             "#c51b7d"
            ],
            [
             0.2,
             "#de77ae"
            ],
            [
             0.3,
             "#f1b6da"
            ],
            [
             0.4,
             "#fde0ef"
            ],
            [
             0.5,
             "#f7f7f7"
            ],
            [
             0.6,
             "#e6f5d0"
            ],
            [
             0.7,
             "#b8e186"
            ],
            [
             0.8,
             "#7fbc41"
            ],
            [
             0.9,
             "#4d9221"
            ],
            [
             1,
             "#276419"
            ]
           ],
           "sequential": [
            [
             0,
             "#0d0887"
            ],
            [
             0.1111111111111111,
             "#46039f"
            ],
            [
             0.2222222222222222,
             "#7201a8"
            ],
            [
             0.3333333333333333,
             "#9c179e"
            ],
            [
             0.4444444444444444,
             "#bd3786"
            ],
            [
             0.5555555555555556,
             "#d8576b"
            ],
            [
             0.6666666666666666,
             "#ed7953"
            ],
            [
             0.7777777777777778,
             "#fb9f3a"
            ],
            [
             0.8888888888888888,
             "#fdca26"
            ],
            [
             1,
             "#f0f921"
            ]
           ],
           "sequentialminus": [
            [
             0,
             "#0d0887"
            ],
            [
             0.1111111111111111,
             "#46039f"
            ],
            [
             0.2222222222222222,
             "#7201a8"
            ],
            [
             0.3333333333333333,
             "#9c179e"
            ],
            [
             0.4444444444444444,
             "#bd3786"
            ],
            [
             0.5555555555555556,
             "#d8576b"
            ],
            [
             0.6666666666666666,
             "#ed7953"
            ],
            [
             0.7777777777777778,
             "#fb9f3a"
            ],
            [
             0.8888888888888888,
             "#fdca26"
            ],
            [
             1,
             "#f0f921"
            ]
           ]
          },
          "colorway": [
           "#636efa",
           "#EF553B",
           "#00cc96",
           "#ab63fa",
           "#FFA15A",
           "#19d3f3",
           "#FF6692",
           "#B6E880",
           "#FF97FF",
           "#FECB52"
          ],
          "font": {
           "color": "#2a3f5f"
          },
          "geo": {
           "bgcolor": "white",
           "lakecolor": "white",
           "landcolor": "#E5ECF6",
           "showlakes": true,
           "showland": true,
           "subunitcolor": "white"
          },
          "hoverlabel": {
           "align": "left"
          },
          "hovermode": "closest",
          "mapbox": {
           "style": "light"
          },
          "paper_bgcolor": "white",
          "plot_bgcolor": "#E5ECF6",
          "polar": {
           "angularaxis": {
            "gridcolor": "white",
            "linecolor": "white",
            "ticks": ""
           },
           "bgcolor": "#E5ECF6",
           "radialaxis": {
            "gridcolor": "white",
            "linecolor": "white",
            "ticks": ""
           }
          },
          "scene": {
           "xaxis": {
            "backgroundcolor": "#E5ECF6",
            "gridcolor": "white",
            "gridwidth": 2,
            "linecolor": "white",
            "showbackground": true,
            "ticks": "",
            "zerolinecolor": "white"
           },
           "yaxis": {
            "backgroundcolor": "#E5ECF6",
            "gridcolor": "white",
            "gridwidth": 2,
            "linecolor": "white",
            "showbackground": true,
            "ticks": "",
            "zerolinecolor": "white"
           },
           "zaxis": {
            "backgroundcolor": "#E5ECF6",
            "gridcolor": "white",
            "gridwidth": 2,
            "linecolor": "white",
            "showbackground": true,
            "ticks": "",
            "zerolinecolor": "white"
           }
          },
          "shapedefaults": {
           "line": {
            "color": "#2a3f5f"
           }
          },
          "ternary": {
           "aaxis": {
            "gridcolor": "white",
            "linecolor": "white",
            "ticks": ""
           },
           "baxis": {
            "gridcolor": "white",
            "linecolor": "white",
            "ticks": ""
           },
           "bgcolor": "#E5ECF6",
           "caxis": {
            "gridcolor": "white",
            "linecolor": "white",
            "ticks": ""
           }
          },
          "title": {
           "x": 0.05
          },
          "xaxis": {
           "automargin": true,
           "gridcolor": "white",
           "linecolor": "white",
           "ticks": "",
           "title": {
            "standoff": 15
           },
           "zerolinecolor": "white",
           "zerolinewidth": 2
          },
          "yaxis": {
           "automargin": true,
           "gridcolor": "white",
           "linecolor": "white",
           "ticks": "",
           "title": {
            "standoff": 15
           },
           "zerolinecolor": "white",
           "zerolinewidth": 2
          }
         }
        },
        "title": {
         "text": "Job Shop Schedule [Timeline in 10sec Steps]"
        },
        "xaxis": {
         "anchor": "y",
         "domain": [
          0,
          1
         ],
         "type": "linear"
        },
        "yaxis": {
         "anchor": "x",
         "autorange": "reversed",
         "domain": [
          0,
          1
         ],
         "title": {
          "text": "Machine"
         }
        }
       }
      },
      "text/html": [
       "<div>                            <div id=\"dbeb6a7b-60b9-4dc6-81d4-e942da88d248\" class=\"plotly-graph-div\" style=\"height:525px; width:100%;\"></div>            <script type=\"text/javascript\">                require([\"plotly\"], function(Plotly) {                    window.PLOTLYENV=window.PLOTLYENV || {};                                    if (document.getElementById(\"dbeb6a7b-60b9-4dc6-81d4-e942da88d248\")) {                    Plotly.newPlot(                        \"dbeb6a7b-60b9-4dc6-81d4-e942da88d248\",                        [{\"alignmentgroup\": \"True\", \"base\": [0, 8, 17, 0, 4], \"hovertemplate\": \"StartTime=%{base}<br>FinishTime=%{x}<br>Machine=%{y}<br>DueDate=%{text}<br>Job=%{marker.color}<extra></extra>\", \"legendgroup\": \"\", \"marker\": {\"color\": [0, 0, 0, 1, 1], \"coloraxis\": \"coloraxis\"}, \"name\": \"\", \"offsetgroup\": \"\", \"orientation\": \"h\", \"showlegend\": false, \"text\": [54.0, 54.0, 54.0, 24.0, 24.0], \"textposition\": \"auto\", \"type\": \"bar\", \"x\": [8, 9, 36, 4, 18], \"xaxis\": \"x\", \"y\": [0, 4, 5, 2, 3], \"yaxis\": \"y\"}],                        {\"barmode\": \"overlay\", \"coloraxis\": {\"colorbar\": {\"title\": {\"text\": \"Job\"}}, \"colorscale\": [[0.0, \"rgb(247,251,255)\"], [0.125, \"rgb(222,235,247)\"], [0.25, \"rgb(198,219,239)\"], [0.375, \"rgb(158,202,225)\"], [0.5, \"rgb(107,174,214)\"], [0.625, \"rgb(66,146,198)\"], [0.75, \"rgb(33,113,181)\"], [0.875, \"rgb(8,81,156)\"], [1.0, \"rgb(8,48,107)\"]]}, \"legend\": {\"tracegroupgap\": 0}, \"template\": {\"data\": {\"bar\": [{\"error_x\": {\"color\": \"#2a3f5f\"}, \"error_y\": {\"color\": \"#2a3f5f\"}, \"marker\": {\"line\": {\"color\": \"#E5ECF6\", \"width\": 0.5}}, \"type\": \"bar\"}], \"barpolar\": [{\"marker\": {\"line\": {\"color\": \"#E5ECF6\", \"width\": 0.5}}, \"type\": \"barpolar\"}], \"carpet\": [{\"aaxis\": {\"endlinecolor\": \"#2a3f5f\", \"gridcolor\": \"white\", \"linecolor\": \"white\", \"minorgridcolor\": \"white\", \"startlinecolor\": \"#2a3f5f\"}, \"baxis\": {\"endlinecolor\": \"#2a3f5f\", \"gridcolor\": \"white\", \"linecolor\": \"white\", \"minorgridcolor\": \"white\", \"startlinecolor\": \"#2a3f5f\"}, \"type\": \"carpet\"}], \"choropleth\": [{\"colorbar\": {\"outlinewidth\": 0, \"ticks\": \"\"}, \"type\": \"choropleth\"}], \"contour\": [{\"colorbar\": {\"outlinewidth\": 0, \"ticks\": \"\"}, \"colorscale\": [[0.0, \"#0d0887\"], [0.1111111111111111, \"#46039f\"], [0.2222222222222222, \"#7201a8\"], [0.3333333333333333, \"#9c179e\"], [0.4444444444444444, \"#bd3786\"], [0.5555555555555556, \"#d8576b\"], [0.6666666666666666, \"#ed7953\"], [0.7777777777777778, \"#fb9f3a\"], [0.8888888888888888, \"#fdca26\"], [1.0, \"#f0f921\"]], \"type\": \"contour\"}], \"contourcarpet\": [{\"colorbar\": {\"outlinewidth\": 0, \"ticks\": \"\"}, \"type\": \"contourcarpet\"}], \"heatmap\": [{\"colorbar\": {\"outlinewidth\": 0, \"ticks\": \"\"}, \"colorscale\": [[0.0, \"#0d0887\"], [0.1111111111111111, \"#46039f\"], [0.2222222222222222, \"#7201a8\"], [0.3333333333333333, \"#9c179e\"], [0.4444444444444444, \"#bd3786\"], [0.5555555555555556, \"#d8576b\"], [0.6666666666666666, \"#ed7953\"], [0.7777777777777778, \"#fb9f3a\"], [0.8888888888888888, \"#fdca26\"], [1.0, \"#f0f921\"]], \"type\": \"heatmap\"}], \"heatmapgl\": [{\"colorbar\": {\"outlinewidth\": 0, \"ticks\": \"\"}, \"colorscale\": [[0.0, \"#0d0887\"], [0.1111111111111111, \"#46039f\"], [0.2222222222222222, \"#7201a8\"], [0.3333333333333333, \"#9c179e\"], [0.4444444444444444, \"#bd3786\"], [0.5555555555555556, \"#d8576b\"], [0.6666666666666666, \"#ed7953\"], [0.7777777777777778, \"#fb9f3a\"], [0.8888888888888888, \"#fdca26\"], [1.0, \"#f0f921\"]], \"type\": \"heatmapgl\"}], \"histogram\": [{\"marker\": {\"colorbar\": {\"outlinewidth\": 0, \"ticks\": \"\"}}, \"type\": \"histogram\"}], \"histogram2d\": [{\"colorbar\": {\"outlinewidth\": 0, \"ticks\": \"\"}, \"colorscale\": [[0.0, \"#0d0887\"], [0.1111111111111111, \"#46039f\"], [0.2222222222222222, \"#7201a8\"], [0.3333333333333333, \"#9c179e\"], [0.4444444444444444, \"#bd3786\"], [0.5555555555555556, \"#d8576b\"], [0.6666666666666666, \"#ed7953\"], [0.7777777777777778, \"#fb9f3a\"], [0.8888888888888888, \"#fdca26\"], [1.0, \"#f0f921\"]], \"type\": \"histogram2d\"}], \"histogram2dcontour\": [{\"colorbar\": {\"outlinewidth\": 0, \"ticks\": \"\"}, \"colorscale\": [[0.0, \"#0d0887\"], [0.1111111111111111, \"#46039f\"], [0.2222222222222222, \"#7201a8\"], [0.3333333333333333, \"#9c179e\"], [0.4444444444444444, \"#bd3786\"], [0.5555555555555556, \"#d8576b\"], [0.6666666666666666, \"#ed7953\"], [0.7777777777777778, \"#fb9f3a\"], [0.8888888888888888, \"#fdca26\"], [1.0, \"#f0f921\"]], \"type\": \"histogram2dcontour\"}], \"mesh3d\": [{\"colorbar\": {\"outlinewidth\": 0, \"ticks\": \"\"}, \"type\": \"mesh3d\"}], \"parcoords\": [{\"line\": {\"colorbar\": {\"outlinewidth\": 0, \"ticks\": \"\"}}, \"type\": \"parcoords\"}], \"pie\": [{\"automargin\": true, \"type\": \"pie\"}], \"scatter\": [{\"marker\": {\"colorbar\": {\"outlinewidth\": 0, \"ticks\": \"\"}}, \"type\": \"scatter\"}], \"scatter3d\": [{\"line\": {\"colorbar\": {\"outlinewidth\": 0, \"ticks\": \"\"}}, \"marker\": {\"colorbar\": {\"outlinewidth\": 0, \"ticks\": \"\"}}, \"type\": \"scatter3d\"}], \"scattercarpet\": [{\"marker\": {\"colorbar\": {\"outlinewidth\": 0, \"ticks\": \"\"}}, \"type\": \"scattercarpet\"}], \"scattergeo\": [{\"marker\": {\"colorbar\": {\"outlinewidth\": 0, \"ticks\": \"\"}}, \"type\": \"scattergeo\"}], \"scattergl\": [{\"marker\": {\"colorbar\": {\"outlinewidth\": 0, \"ticks\": \"\"}}, \"type\": \"scattergl\"}], \"scattermapbox\": [{\"marker\": {\"colorbar\": {\"outlinewidth\": 0, \"ticks\": \"\"}}, \"type\": \"scattermapbox\"}], \"scatterpolar\": [{\"marker\": {\"colorbar\": {\"outlinewidth\": 0, \"ticks\": \"\"}}, \"type\": \"scatterpolar\"}], \"scatterpolargl\": [{\"marker\": {\"colorbar\": {\"outlinewidth\": 0, \"ticks\": \"\"}}, \"type\": \"scatterpolargl\"}], \"scatterternary\": [{\"marker\": {\"colorbar\": {\"outlinewidth\": 0, \"ticks\": \"\"}}, \"type\": \"scatterternary\"}], \"surface\": [{\"colorbar\": {\"outlinewidth\": 0, \"ticks\": \"\"}, \"colorscale\": [[0.0, \"#0d0887\"], [0.1111111111111111, \"#46039f\"], [0.2222222222222222, \"#7201a8\"], [0.3333333333333333, \"#9c179e\"], [0.4444444444444444, \"#bd3786\"], [0.5555555555555556, \"#d8576b\"], [0.6666666666666666, \"#ed7953\"], [0.7777777777777778, \"#fb9f3a\"], [0.8888888888888888, \"#fdca26\"], [1.0, \"#f0f921\"]], \"type\": \"surface\"}], \"table\": [{\"cells\": {\"fill\": {\"color\": \"#EBF0F8\"}, \"line\": {\"color\": \"white\"}}, \"header\": {\"fill\": {\"color\": \"#C8D4E3\"}, \"line\": {\"color\": \"white\"}}, \"type\": \"table\"}]}, \"layout\": {\"annotationdefaults\": {\"arrowcolor\": \"#2a3f5f\", \"arrowhead\": 0, \"arrowwidth\": 1}, \"autotypenumbers\": \"strict\", \"coloraxis\": {\"colorbar\": {\"outlinewidth\": 0, \"ticks\": \"\"}}, \"colorscale\": {\"diverging\": [[0, \"#8e0152\"], [0.1, \"#c51b7d\"], [0.2, \"#de77ae\"], [0.3, \"#f1b6da\"], [0.4, \"#fde0ef\"], [0.5, \"#f7f7f7\"], [0.6, \"#e6f5d0\"], [0.7, \"#b8e186\"], [0.8, \"#7fbc41\"], [0.9, \"#4d9221\"], [1, \"#276419\"]], \"sequential\": [[0.0, \"#0d0887\"], [0.1111111111111111, \"#46039f\"], [0.2222222222222222, \"#7201a8\"], [0.3333333333333333, \"#9c179e\"], [0.4444444444444444, \"#bd3786\"], [0.5555555555555556, \"#d8576b\"], [0.6666666666666666, \"#ed7953\"], [0.7777777777777778, \"#fb9f3a\"], [0.8888888888888888, \"#fdca26\"], [1.0, \"#f0f921\"]], \"sequentialminus\": [[0.0, \"#0d0887\"], [0.1111111111111111, \"#46039f\"], [0.2222222222222222, \"#7201a8\"], [0.3333333333333333, \"#9c179e\"], [0.4444444444444444, \"#bd3786\"], [0.5555555555555556, \"#d8576b\"], [0.6666666666666666, \"#ed7953\"], [0.7777777777777778, \"#fb9f3a\"], [0.8888888888888888, \"#fdca26\"], [1.0, \"#f0f921\"]]}, \"colorway\": [\"#636efa\", \"#EF553B\", \"#00cc96\", \"#ab63fa\", \"#FFA15A\", \"#19d3f3\", \"#FF6692\", \"#B6E880\", \"#FF97FF\", \"#FECB52\"], \"font\": {\"color\": \"#2a3f5f\"}, \"geo\": {\"bgcolor\": \"white\", \"lakecolor\": \"white\", \"landcolor\": \"#E5ECF6\", \"showlakes\": true, \"showland\": true, \"subunitcolor\": \"white\"}, \"hoverlabel\": {\"align\": \"left\"}, \"hovermode\": \"closest\", \"mapbox\": {\"style\": \"light\"}, \"paper_bgcolor\": \"white\", \"plot_bgcolor\": \"#E5ECF6\", \"polar\": {\"angularaxis\": {\"gridcolor\": \"white\", \"linecolor\": \"white\", \"ticks\": \"\"}, \"bgcolor\": \"#E5ECF6\", \"radialaxis\": {\"gridcolor\": \"white\", \"linecolor\": \"white\", \"ticks\": \"\"}}, \"scene\": {\"xaxis\": {\"backgroundcolor\": \"#E5ECF6\", \"gridcolor\": \"white\", \"gridwidth\": 2, \"linecolor\": \"white\", \"showbackground\": true, \"ticks\": \"\", \"zerolinecolor\": \"white\"}, \"yaxis\": {\"backgroundcolor\": \"#E5ECF6\", \"gridcolor\": \"white\", \"gridwidth\": 2, \"linecolor\": \"white\", \"showbackground\": true, \"ticks\": \"\", \"zerolinecolor\": \"white\"}, \"zaxis\": {\"backgroundcolor\": \"#E5ECF6\", \"gridcolor\": \"white\", \"gridwidth\": 2, \"linecolor\": \"white\", \"showbackground\": true, \"ticks\": \"\", \"zerolinecolor\": \"white\"}}, \"shapedefaults\": {\"line\": {\"color\": \"#2a3f5f\"}}, \"ternary\": {\"aaxis\": {\"gridcolor\": \"white\", \"linecolor\": \"white\", \"ticks\": \"\"}, \"baxis\": {\"gridcolor\": \"white\", \"linecolor\": \"white\", \"ticks\": \"\"}, \"bgcolor\": \"#E5ECF6\", \"caxis\": {\"gridcolor\": \"white\", \"linecolor\": \"white\", \"ticks\": \"\"}}, \"title\": {\"x\": 0.05}, \"xaxis\": {\"automargin\": true, \"gridcolor\": \"white\", \"linecolor\": \"white\", \"ticks\": \"\", \"title\": {\"standoff\": 15}, \"zerolinecolor\": \"white\", \"zerolinewidth\": 2}, \"yaxis\": {\"automargin\": true, \"gridcolor\": \"white\", \"linecolor\": \"white\", \"ticks\": \"\", \"title\": {\"standoff\": 15}, \"zerolinecolor\": \"white\", \"zerolinewidth\": 2}}}, \"title\": {\"text\": \"Job Shop Schedule [Timeline in 10sec Steps]\"}, \"xaxis\": {\"anchor\": \"y\", \"domain\": [0.0, 1.0], \"type\": \"linear\"}, \"yaxis\": {\"anchor\": \"x\", \"autorange\": \"reversed\", \"domain\": [0.0, 1.0], \"title\": {\"text\": \"Machine\"}}},                        {\"responsive\": true}                    ).then(function(){\n",
       "                            \n",
       "var gd = document.getElementById('dbeb6a7b-60b9-4dc6-81d4-e942da88d248');\n",
       "var x = new MutationObserver(function (mutations, observer) {{\n",
       "        var display = window.getComputedStyle(gd).display;\n",
       "        if (!display || display === 'none') {{\n",
       "            console.log([gd, 'removed!']);\n",
       "            Plotly.purge(gd);\n",
       "            observer.disconnect();\n",
       "        }}\n",
       "}});\n",
       "\n",
       "// Listen for the removal of the full notebook cells\n",
       "var notebookContainer = gd.closest('#notebook-container');\n",
       "if (notebookContainer) {{\n",
       "    x.observe(notebookContainer, {childList: true});\n",
       "}}\n",
       "\n",
       "// Listen for the clearing of the current output cell\n",
       "var outputEl = gd.closest('.output');\n",
       "if (outputEl) {{\n",
       "    x.observe(outputEl, {childList: true});\n",
       "}}\n",
       "\n",
       "                        })                };                });            </script>        </div>"
      ]
     },
     "metadata": {},
     "output_type": "display_data"
    }
   ],
   "source": [
    "get_qubo_ganttchart(df_schedule)"
   ]
  },
  {
   "cell_type": "code",
   "execution_count": 23,
   "id": "broadband-imagination",
   "metadata": {},
   "outputs": [
    {
     "name": "stdout",
     "output_type": "stream",
     "text": [
      "H_0 erfüllt: True\n",
      "H_1 erfüllt: True\n",
      "H_2 erfüllt: True\n",
      "H_3 erfüllt: True\n"
     ]
    }
   ],
   "source": [
    "schedule = get_results(sampleset_neal, operations, sample_nmr)\n",
    "check_constraints(schedule, jobs, paint_length, bend_length, weld_length)"
   ]
  },
  {
   "cell_type": "markdown",
   "id": "sporting-count",
   "metadata": {},
   "source": [
    "## Fujitsu CPU"
   ]
  },
  {
   "cell_type": "code",
   "execution_count": 24,
   "id": "revised-provision",
   "metadata": {},
   "outputs": [],
   "source": [
    "answerCPU = on_Fujitsu(config, qubo_dictionary, \"CPU\")"
   ]
  },
  {
   "cell_type": "code",
   "execution_count": null,
   "id": "aerial-vegetarian",
   "metadata": {},
   "outputs": [],
   "source": [
    "answerCPU.print_solutions_nice()"
   ]
  },
  {
   "cell_type": "code",
   "execution_count": null,
   "id": "loaded-venice",
   "metadata": {},
   "outputs": [],
   "source": [
    "sample_nmr = 0\n",
    "df_schedule = get_fujitsu_schedule_from_sample(answerCPU, jobs, operations, sampleset, sample_nmr, bend_length, weld_length, paint_length)\n"
   ]
  },
  {
   "cell_type": "code",
   "execution_count": null,
   "id": "senior-insurance",
   "metadata": {},
   "outputs": [],
   "source": [
    "get_qubo_ganttchart(df_schedule)"
   ]
  },
  {
   "cell_type": "markdown",
   "id": "emotional-batman",
   "metadata": {},
   "source": [
    "## Vergleich"
   ]
  },
  {
   "cell_type": "code",
   "execution_count": 2,
   "id": "healthy-wealth",
   "metadata": {},
   "outputs": [
    {
     "ename": "NameError",
     "evalue": "name 'sampleset_QB' is not defined",
     "output_type": "error",
     "traceback": [
      "\u001b[1;31m---------------------------------------------------------------------------\u001b[0m",
      "\u001b[1;31mNameError\u001b[0m                                 Traceback (most recent call last)",
      "\u001b[1;32m<ipython-input-2-784d3fc49a0b>\u001b[0m in \u001b[0;36m<module>\u001b[1;34m\u001b[0m\n\u001b[0;32m      1\u001b[0m \u001b[1;31m#Qbsolve\u001b[0m\u001b[1;33m\u001b[0m\u001b[1;33m\u001b[0m\u001b[1;33m\u001b[0m\u001b[0m\n\u001b[1;32m----> 2\u001b[1;33m \u001b[0mprint\u001b[0m\u001b[1;33m(\u001b[0m\u001b[0msampleset_QB\u001b[0m\u001b[1;33m)\u001b[0m\u001b[1;33m\u001b[0m\u001b[1;33m\u001b[0m\u001b[0m\n\u001b[0m",
      "\u001b[1;31mNameError\u001b[0m: name 'sampleset_QB' is not defined"
     ]
    }
   ],
   "source": [
    "#Qbsolve\n",
    "print(sampleset_QB)"
   ]
  },
  {
   "cell_type": "code",
   "execution_count": null,
   "id": "detailed-matthew",
   "metadata": {},
   "outputs": [],
   "source": [
    "#DWave Simulator\n",
    "print(sampleset_neal)\n"
   ]
  },
  {
   "cell_type": "code",
   "execution_count": null,
   "id": "dynamic-mount",
   "metadata": {},
   "outputs": [],
   "source": [
    "#UQO Fujitsu CPU\n",
    "answerCPU.print_solutions_nice()"
   ]
  },
  {
   "cell_type": "code",
   "execution_count": null,
   "id": "psychological-trace",
   "metadata": {},
   "outputs": [],
   "source": []
  },
  {
   "cell_type": "code",
   "execution_count": null,
   "id": "anonymous-wilson",
   "metadata": {},
   "outputs": [],
   "source": []
  },
  {
   "cell_type": "code",
   "execution_count": null,
   "id": "parallel-danger",
   "metadata": {},
   "outputs": [],
   "source": []
  },
  {
   "cell_type": "code",
   "execution_count": null,
   "id": "ahead-chinese",
   "metadata": {},
   "outputs": [],
   "source": []
  },
  {
   "cell_type": "code",
   "execution_count": null,
   "id": "guilty-malpractice",
   "metadata": {},
   "outputs": [],
   "source": []
  },
  {
   "cell_type": "code",
   "execution_count": null,
   "id": "tight-chorus",
   "metadata": {},
   "outputs": [],
   "source": []
  },
  {
   "cell_type": "code",
   "execution_count": null,
   "id": "gentle-numbers",
   "metadata": {},
   "outputs": [],
   "source": []
  },
  {
   "cell_type": "code",
   "execution_count": null,
   "id": "medical-designer",
   "metadata": {},
   "outputs": [],
   "source": []
  },
  {
   "cell_type": "code",
   "execution_count": null,
   "id": "disciplinary-terror",
   "metadata": {},
   "outputs": [],
   "source": []
  },
  {
   "cell_type": "code",
   "execution_count": null,
   "id": "current-award",
   "metadata": {},
   "outputs": [],
   "source": []
  },
  {
   "cell_type": "code",
   "execution_count": null,
   "id": "simplified-quarterly",
   "metadata": {},
   "outputs": [],
   "source": []
  },
  {
   "cell_type": "code",
   "execution_count": null,
   "id": "general-paintball",
   "metadata": {},
   "outputs": [],
   "source": []
  },
  {
   "cell_type": "code",
   "execution_count": null,
   "id": "beneficial-difficulty",
   "metadata": {},
   "outputs": [],
   "source": []
  }
 ],
 "metadata": {
  "kernelspec": {
   "display_name": "Python 3",
   "language": "python",
   "name": "python3"
  },
  "language_info": {
   "codemirror_mode": {
    "name": "ipython",
    "version": 3
   },
   "file_extension": ".py",
   "mimetype": "text/x-python",
   "name": "python",
   "nbconvert_exporter": "python",
   "pygments_lexer": "ipython3",
   "version": "3.8.8"
  }
 },
 "nbformat": 4,
 "nbformat_minor": 5
}
