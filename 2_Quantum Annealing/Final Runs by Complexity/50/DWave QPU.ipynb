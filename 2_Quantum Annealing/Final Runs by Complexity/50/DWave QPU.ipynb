{
 "cells": [
  {
   "cell_type": "markdown",
   "metadata": {},
   "source": [
    "# Approach"
   ]
  },
  {
   "cell_type": "markdown",
   "metadata": {},
   "source": [
    "1. > compare Embeddings (```minorminer```) and choose the best\n",
    "1. > compare Chain Settings and choose the best\n",
    "1. > compare Anneal Times and choose the best\n",
    "1. > compare Anneal Schedules and choose the best"
   ]
  },
  {
   "cell_type": "markdown",
   "metadata": {},
   "source": [
    "## QUBO"
   ]
  },
  {
   "cell_type": "markdown",
   "metadata": {},
   "source": [
    "### Imports"
   ]
  },
  {
   "cell_type": "code",
   "execution_count": 1,
   "metadata": {},
   "outputs": [],
   "source": [
    "import sys\n",
    "sys.path.append(\"..\")\n",
    "from qubo_util import *\n",
    "\n",
    "import dimod\n",
    "import numpy as np\n",
    "import pandas as pd\n",
    "import dwave.inspector\n",
    "import matplotlib.pyplot as plt\n",
    "from dwave.system.samplers import DWaveSampler\n",
    "from dwave.embedding.chain_strength import scaled, uniform_torque_compensation\n",
    "from dwave.system import DWaveSampler, FixedEmbeddingComposite, EmbeddingComposite"
   ]
  },
  {
   "cell_type": "markdown",
   "metadata": {},
   "source": [
    "### Config"
   ]
  },
  {
   "cell_type": "code",
   "execution_count": 2,
   "metadata": {},
   "outputs": [],
   "source": [
    "from dwave.cloud import Client\n",
    "client = Client.from_config(config_file='/Users/jonas/Library/Application Support/dwave/dwave.conf')"
   ]
  },
  {
   "cell_type": "markdown",
   "metadata": {},
   "source": [
    "### Jobs"
   ]
  },
  {
   "cell_type": "code",
   "execution_count": 3,
   "metadata": {},
   "outputs": [],
   "source": [
    "### Lets define the basics\n",
    "\n",
    "bend = [0, 1, 2]\n",
    "weld = [3, 4]\n",
    "paint =  [5]\n",
    "\n",
    "bend_length = 2\n",
    "weld_length = 3\n",
    "paint_length = 6\n",
    "\n",
    "t_step = 3\n",
    "t_step_in_sec = 30"
   ]
  },
  {
   "cell_type": "code",
   "execution_count": 4,
   "metadata": {},
   "outputs": [],
   "source": [
    "jobs = [(0, 0, 1, 1, 2, 3),\n",
    " (1, 0, 2, 3, 0, 3)]"
   ]
  },
  {
   "cell_type": "code",
   "execution_count": 5,
   "metadata": {},
   "outputs": [
    {
     "name": "stdout",
     "output_type": "stream",
     "text": [
      "The maximal maketime for the given operations is: 810 second(s).\n",
      "Which is equal to: 27 time steps.\n",
      "\n",
      "\n"
     ]
    }
   ],
   "source": [
    "# OrderNo, PartNo, BendingLines, WeldingPoints, PaintTime, DueDate \n",
    "\n",
    "m_t_steps = max_time(jobs, bend_length, weld_length, paint_length)\n",
    "\n",
    "m_time = m_t_steps * t_step_in_sec\n",
    "    \n",
    "print('The maximal maketime for the given operations is: ' + str(m_time) + ' second(s).\\nWhich is equal to: ' + str(m_t_steps) + ' time steps.\\n\\n')"
   ]
  },
  {
   "cell_type": "code",
   "execution_count": 6,
   "metadata": {},
   "outputs": [
    {
     "name": "stdout",
     "output_type": "stream",
     "text": [
      "Anzahl an Kombinationen: 49\n",
      "\n"
     ]
    }
   ],
   "source": [
    "operations = ops(jobs, bend, weld, paint, bend_length, weld_length, paint_length, t_step)\n",
    "\n",
    "print('Anzahl an Kombinationen: ' + str(len(operations)) + '\\n')"
   ]
  },
  {
   "cell_type": "markdown",
   "metadata": {},
   "source": [
    "### Parameters"
   ]
  },
  {
   "cell_type": "code",
   "execution_count": 7,
   "metadata": {},
   "outputs": [],
   "source": [
    "alpha = 2\n",
    "beta = 1.5\n",
    "gamma = 2\n",
    "delta = 0.035\n",
    "\n",
    "QUBO = get_QUBO(jobs, operations, alpha, beta, gamma, delta, bend_length, weld_length, paint_length, bend, weld, paint)\n",
    "qubo_dictionary = qubo_to_dictionary_ohne_null(QUBO, operations)\n"
   ]
  },
  {
   "cell_type": "markdown",
   "metadata": {},
   "source": [
    "# Run"
   ]
  },
  {
   "cell_type": "markdown",
   "metadata": {},
   "source": [
    "## Get Embedding with ```  minorminer  ``` as part of EmbeddingComposite() and safe it"
   ]
  },
  {
   "cell_type": "markdown",
   "metadata": {},
   "source": [
    "https://docs.dwavesys.com/docs/latest/handbook_embedding.html#example-clique-embedding-a-sparse-bqm\n",
    "\n",
    "https://docs.dwavesys.com/docs/latest/handbook_qpu.html?highlight=sampleset_1#read-anneal-cycles"
   ]
  },
  {
   "cell_type": "code",
   "execution_count": 8,
   "metadata": {},
   "outputs": [],
   "source": [
    "bqm = dimod.BinaryQuadraticModel.from_numpy_matrix(QUBO)\n",
    "qpu = DWaveSampler(solver={'topology__type': 'pegasus'})"
   ]
  },
  {
   "cell_type": "code",
   "execution_count": 9,
   "metadata": {},
   "outputs": [],
   "source": [
    "# Each run with 500 shots (more runs with less shots yield better results than less runs with more shots)\n",
    "numr = 500\n",
    "\n",
    "# Chain Strength = Max(QUBO) // Analog zur D Wave Dokumentation\n",
    "\n",
    "chnstr = find_chstr(QUBO)+1\n",
    "\n",
    "# Empty array\n",
    "data=[]"
   ]
  },
  {
   "cell_type": "markdown",
   "metadata": {},
   "source": [
    "### And Visualize embedding,  check for Chain Breaks and run inspection with ```dwave.inspector.```"
   ]
  },
  {
   "cell_type": "markdown",
   "metadata": {},
   "source": [
    "#### First Embedding"
   ]
  },
  {
   "cell_type": "code",
   "execution_count": 10,
   "metadata": {},
   "outputs": [],
   "source": [
    "sampler = EmbeddingComposite(qpu)\n",
    "sampleset1A = sampler.sample(bqm, \n",
    "                           return_embedding=True, \n",
    "                           answer_mode=\"raw\", \n",
    "                           num_reads=numr, \n",
    "                           chain_strength= chnstr)\n",
    "embedding1 = sampleset1A.info[\"embedding_context\"][\"embedding\"]  \n",
    "chains = sampleset1A.info[\"embedding_context\"][\"embedding\"].values()  "
   ]
  },
  {
   "cell_type": "code",
   "execution_count": 11,
   "metadata": {},
   "outputs": [
    {
     "name": "stdout",
     "output_type": "stream",
     "text": [
      "Good solutions are 1.0% of samples.\n",
      "Best Known solutions are 0.2% of samples.\n",
      "Lowest energy found: [-9.719999999999999]\n",
      "Average energy is 3.21 with standard deviation 8.12\n"
     ]
    }
   ],
   "source": [
    "analyze(sampleset1A, \"embedding1A\", data)"
   ]
  },
  {
   "cell_type": "code",
   "execution_count": 12,
   "metadata": {},
   "outputs": [],
   "source": [
    "sampleset1B = FixedEmbeddingComposite(qpu, embedding1).sample(bqm, \n",
    "                                                                   return_embedding=True, \n",
    "                                                                   answer_mode=\"raw\", \n",
    "                                                                   num_reads=numr, \n",
    "                                                                   chain_strength= chnstr)"
   ]
  },
  {
   "cell_type": "code",
   "execution_count": 13,
   "metadata": {},
   "outputs": [
    {
     "name": "stdout",
     "output_type": "stream",
     "text": [
      "Good solutions are 0.4% of samples.\n",
      "Best Known solutions are 0.2% of samples.\n",
      "Lowest energy found: [-9.51]\n",
      "Average energy is 4.24 with standard deviation 8.02\n"
     ]
    }
   ],
   "source": [
    "analyze(sampleset1B, \"embedding1B\", data)"
   ]
  },
  {
   "cell_type": "code",
   "execution_count": 14,
   "metadata": {},
   "outputs": [
    {
     "name": "stdout",
     "output_type": "stream",
     "text": [
      "9.0\n"
     ]
    }
   ],
   "source": [
    "print(sampleset1A.info[\"embedding_context\"][\"chain_strength\"])    "
   ]
  },
  {
   "cell_type": "code",
   "execution_count": 15,
   "metadata": {},
   "outputs": [
    {
     "name": "stdout",
     "output_type": "stream",
     "text": [
      "7\n"
     ]
    }
   ],
   "source": [
    "print(max(len(chain) for chain in chains))   "
   ]
  },
  {
   "cell_type": "code",
   "execution_count": 16,
   "metadata": {},
   "outputs": [
    {
     "name": "stdout",
     "output_type": "stream",
     "text": [
      "Percentage of samples with >10% breaks is 6.2 and >0 is 100.0.\n"
     ]
    }
   ],
   "source": [
    "print(\"Percentage of samples with >10% breaks is {} and >0 is {}.\".format(np.count_nonzero(sampleset1A.record.chain_break_fraction > 0.10)/numr*100, np.count_nonzero(sampleset1A.record.chain_break_fraction > 0.0)/numr*100))\n"
   ]
  },
  {
   "cell_type": "code",
   "execution_count": 17,
   "metadata": {},
   "outputs": [],
   "source": [
    "# Inspect Embedding\n",
    "dwave.inspector.show(sampleset1A)"
   ]
  },
  {
   "cell_type": "markdown",
   "metadata": {},
   "source": [
    "#### Second Embedding"
   ]
  },
  {
   "cell_type": "code",
   "execution_count": 18,
   "metadata": {},
   "outputs": [],
   "source": [
    "sampler = EmbeddingComposite(qpu)\n",
    "sampleset2A = sampler.sample(bqm, \n",
    "                           return_embedding=True, \n",
    "                           answer_mode=\"raw\", \n",
    "                           num_reads=numr, \n",
    "                           chain_strength= chnstr)\n",
    "embedding2 = sampleset2A.info[\"embedding_context\"][\"embedding\"]  \n",
    "chains = sampleset2A.info[\"embedding_context\"][\"embedding\"].values()  \n"
   ]
  },
  {
   "cell_type": "code",
   "execution_count": 19,
   "metadata": {},
   "outputs": [
    {
     "name": "stdout",
     "output_type": "stream",
     "text": [
      "Good solutions are 1.2% of samples.\n",
      "Best Known solutions are 0.4% of samples.\n",
      "Lowest energy found: [-10.0]\n",
      "Average energy is 2.97 with standard deviation 7.92\n"
     ]
    }
   ],
   "source": [
    "analyze(sampleset2A, \"embedding2A\", data)"
   ]
  },
  {
   "cell_type": "code",
   "execution_count": 20,
   "metadata": {},
   "outputs": [],
   "source": [
    "sampleset2B = FixedEmbeddingComposite(qpu, embedding2).sample(bqm, \n",
    "                                                                   return_embedding=True, \n",
    "                                                                   answer_mode=\"raw\", \n",
    "                                                                   num_reads=numr, \n",
    "                                                                   chain_strength= chnstr)"
   ]
  },
  {
   "cell_type": "code",
   "execution_count": 21,
   "metadata": {},
   "outputs": [
    {
     "name": "stdout",
     "output_type": "stream",
     "text": [
      "Good solutions are 1.8% of samples.\n",
      "Best Known solutions are 0.2% of samples.\n",
      "Lowest energy found: [-9.965]\n",
      "Average energy is 3.54 with standard deviation 8.24\n"
     ]
    }
   ],
   "source": [
    "analyze(sampleset2B, \"embedding2B\", data)"
   ]
  },
  {
   "cell_type": "code",
   "execution_count": 22,
   "metadata": {},
   "outputs": [
    {
     "name": "stdout",
     "output_type": "stream",
     "text": [
      "9.0\n"
     ]
    }
   ],
   "source": [
    "\n",
    "print(sampleset2A.info[\"embedding_context\"][\"chain_strength\"])    "
   ]
  },
  {
   "cell_type": "code",
   "execution_count": 23,
   "metadata": {},
   "outputs": [
    {
     "name": "stdout",
     "output_type": "stream",
     "text": [
      "6\n"
     ]
    }
   ],
   "source": [
    "print(max(len(chain) for chain in chains))   "
   ]
  },
  {
   "cell_type": "code",
   "execution_count": 24,
   "metadata": {},
   "outputs": [
    {
     "name": "stdout",
     "output_type": "stream",
     "text": [
      "Percentage of samples with >10% breaks is 0.4 and >0 is 94.8.\n"
     ]
    }
   ],
   "source": [
    "print(\"Percentage of samples with >10% breaks is {} and >0 is {}.\".format(np.count_nonzero(sampleset2A.record.chain_break_fraction > 0.10)/numr*100, np.count_nonzero(sampleset2A.record.chain_break_fraction > 0.0)/numr*100))\n"
   ]
  },
  {
   "cell_type": "code",
   "execution_count": null,
   "metadata": {},
   "outputs": [],
   "source": [
    "# Inspect Embedding\n",
    "dwave.inspector.show(sampleset2A) "
   ]
  },
  {
   "cell_type": "markdown",
   "metadata": {},
   "source": [
    "#### Third Embedding"
   ]
  },
  {
   "cell_type": "code",
   "execution_count": 25,
   "metadata": {},
   "outputs": [],
   "source": [
    "sampler = EmbeddingComposite(qpu)\n",
    "sampleset3A = sampler.sample(bqm, \n",
    "                           return_embedding=True, \n",
    "                           answer_mode=\"raw\", \n",
    "                           num_reads=numr, \n",
    "                           chain_strength= chnstr)\n",
    "embedding3 = sampleset3A.info[\"embedding_context\"][\"embedding\"]  \n",
    "chains = sampleset3A.info[\"embedding_context\"][\"embedding\"].values()  \n"
   ]
  },
  {
   "cell_type": "code",
   "execution_count": 26,
   "metadata": {},
   "outputs": [
    {
     "name": "stdout",
     "output_type": "stream",
     "text": [
      "Good solutions are 3.2% of samples.\n",
      "Best Known solutions are 0.2% of samples.\n",
      "Lowest energy found: [-9.719999999999999]\n",
      "Average energy is 4.23 with standard deviation 7.98\n"
     ]
    }
   ],
   "source": [
    "analyze(sampleset3A, \"embedding3A\", data)"
   ]
  },
  {
   "cell_type": "code",
   "execution_count": 27,
   "metadata": {},
   "outputs": [],
   "source": [
    "sampleset3B = FixedEmbeddingComposite(qpu, embedding3).sample(bqm, \n",
    "                                                                   return_embedding=True, \n",
    "                                                                   answer_mode=\"raw\", \n",
    "                                                                   num_reads=numr, \n",
    "                                                                   chain_strength= chnstr)"
   ]
  },
  {
   "cell_type": "code",
   "execution_count": 28,
   "metadata": {},
   "outputs": [
    {
     "name": "stdout",
     "output_type": "stream",
     "text": [
      "Good solutions are 1.4% of samples.\n",
      "Best Known solutions are 0.2% of samples.\n",
      "Lowest energy found: [-10.0]\n",
      "Average energy is 2.42 with standard deviation 7.38\n"
     ]
    }
   ],
   "source": [
    "analyze(sampleset3B, \"embedding3B\", data)"
   ]
  },
  {
   "cell_type": "code",
   "execution_count": 29,
   "metadata": {},
   "outputs": [
    {
     "name": "stdout",
     "output_type": "stream",
     "text": [
      "9.0\n"
     ]
    }
   ],
   "source": [
    "\n",
    "print(sampleset3A.info[\"embedding_context\"][\"chain_strength\"])    "
   ]
  },
  {
   "cell_type": "code",
   "execution_count": 30,
   "metadata": {},
   "outputs": [
    {
     "name": "stdout",
     "output_type": "stream",
     "text": [
      "5\n"
     ]
    }
   ],
   "source": [
    "print(max(len(chain) for chain in chains))   "
   ]
  },
  {
   "cell_type": "code",
   "execution_count": 31,
   "metadata": {},
   "outputs": [
    {
     "name": "stdout",
     "output_type": "stream",
     "text": [
      "Percentage of samples with >10% breaks is 0.0 and >0 is 59.4.\n"
     ]
    }
   ],
   "source": [
    "print(\"Percentage of samples with >10% breaks is {} and >0 is {}.\".format(np.count_nonzero(sampleset3A.record.chain_break_fraction > 0.10)/numr*100, np.count_nonzero(sampleset3A.record.chain_break_fraction > 0.0)/numr*100))\n"
   ]
  },
  {
   "cell_type": "code",
   "execution_count": 32,
   "metadata": {},
   "outputs": [
    {
     "data": {
      "text/plain": [
       "'http://127.0.0.1:18000/?problemId=f8f09d30-9b2d-4a91-b7fd-deac1e4763e0'"
      ]
     },
     "execution_count": 32,
     "metadata": {},
     "output_type": "execute_result"
    }
   ],
   "source": [
    "# Inspect Embedding\n",
    "dwave.inspector.show(sampleset3A) "
   ]
  },
  {
   "cell_type": "markdown",
   "metadata": {},
   "source": [
    "## Chain Management for best Embedding"
   ]
  },
  {
   "cell_type": "code",
   "execution_count": 33,
   "metadata": {},
   "outputs": [],
   "source": [
    "# Choose best Embedding \n",
    "embedding = embedding3"
   ]
  },
  {
   "cell_type": "markdown",
   "metadata": {},
   "source": [
    "### Adjust Chain Strength if necessary "
   ]
  },
  {
   "cell_type": "markdown",
   "metadata": {},
   "source": [
    "The following considerations and recommendations apply to chains.\n",
    "\n",
    "- Prefer short chains to long chains.\n",
    "- Prefer uniform chain lengths to uneven chains.\n",
    "- Balance chain strength and problem range. Estimate chain strength and set just slightly above the minimum threshold needed, using strategies for auto-adjusting these chains. "
   ]
  },
  {
   "cell_type": "markdown",
   "metadata": {},
   "source": [
    "##### run again with each chain setting"
   ]
  },
  {
   "cell_type": "code",
   "execution_count": 34,
   "metadata": {},
   "outputs": [],
   "source": [
    "# Default\n",
    "sampleset_default = FixedEmbeddingComposite(qpu, embedding).sample(bqm, \n",
    "                                                                   return_embedding=True, \n",
    "                                                                   answer_mode=\"raw\", \n",
    "                                                                   num_reads=numr, \n",
    "                                                                   chain_strength= chnstr)\n"
   ]
  },
  {
   "cell_type": "code",
   "execution_count": 35,
   "metadata": {},
   "outputs": [
    {
     "name": "stdout",
     "output_type": "stream",
     "text": [
      "Good solutions are 2.4% of samples.\n",
      "Best Known solutions are 0.4% of samples.\n",
      "Lowest energy found: [-9.719999999999999]\n",
      "Average energy is 3.38 with standard deviation 7.65\n"
     ]
    }
   ],
   "source": [
    "analyze(sampleset_default, \"default_chains\", data)"
   ]
  },
  {
   "cell_type": "markdown",
   "metadata": {},
   "source": [
    "You can set a chain strength relative to your problem’s largest bias by using, for example, the scaled() function."
   ]
  },
  {
   "cell_type": "code",
   "execution_count": 36,
   "metadata": {},
   "outputs": [],
   "source": [
    "chnstr = scaled"
   ]
  },
  {
   "cell_type": "code",
   "execution_count": 37,
   "metadata": {},
   "outputs": [],
   "source": [
    "#from dwave.embedding.chain_strength import scaled\n",
    "sampleset_scaled1 = FixedEmbeddingComposite(qpu, embedding).sample(bqm, \n",
    "                                                                   return_embedding=True, \n",
    "                                                                   answer_mode=\"raw\", \n",
    "                                                                   num_reads=numr, \n",
    "                                                                   chain_strength= chnstr)  \n"
   ]
  },
  {
   "cell_type": "code",
   "execution_count": 38,
   "metadata": {},
   "outputs": [
    {
     "name": "stdout",
     "output_type": "stream",
     "text": [
      "Good solutions are 0.2% of samples.\n",
      "Best Known solutions are 0.2% of samples.\n",
      "Lowest energy found: [-3.2300000000000004]\n",
      "Average energy is 53.36 with standard deviation 25.27\n"
     ]
    }
   ],
   "source": [
    "analyze(sampleset_scaled1, \"scaled_chains1\", data)"
   ]
  },
  {
   "cell_type": "code",
   "execution_count": 39,
   "metadata": {},
   "outputs": [],
   "source": [
    "#from dwave.embedding.chain_strength import scaled\n",
    "sampleset_scaled2 = FixedEmbeddingComposite(qpu, embedding).sample(bqm, \n",
    "                                                                   return_embedding=True, \n",
    "                                                                   answer_mode=\"raw\", \n",
    "                                                                   num_reads=numr, \n",
    "                                                                   chain_strength= chnstr)  \n"
   ]
  },
  {
   "cell_type": "code",
   "execution_count": 40,
   "metadata": {},
   "outputs": [
    {
     "name": "stdout",
     "output_type": "stream",
     "text": [
      "Good solutions are 0.2% of samples.\n",
      "Best Known solutions are 0.2% of samples.\n",
      "Lowest energy found: [-4.614999999999999]\n",
      "Average energy is 59.26 with standard deviation 26.97\n"
     ]
    }
   ],
   "source": [
    "analyze(sampleset_scaled2, \"scaled_chains2\", data)"
   ]
  },
  {
   "cell_type": "markdown",
   "metadata": {},
   "source": [
    "Chain strength that attempts to compensate for torque that would break the chain."
   ]
  },
  {
   "cell_type": "code",
   "execution_count": 41,
   "metadata": {},
   "outputs": [],
   "source": [
    "chnstr = uniform_torque_compensation"
   ]
  },
  {
   "cell_type": "code",
   "execution_count": 42,
   "metadata": {},
   "outputs": [],
   "source": [
    "#from dwave.embedding.chain_strength import uniform_torque_compensation\n",
    "sampleset_torque1 = FixedEmbeddingComposite(qpu, embedding).sample(bqm, \n",
    "                                                                   return_embedding=True, \n",
    "                                                                   answer_mode=\"raw\", \n",
    "                                                                   num_reads=numr, \n",
    "                                                                   chain_strength= chnstr)  \n"
   ]
  },
  {
   "cell_type": "code",
   "execution_count": 43,
   "metadata": {},
   "outputs": [
    {
     "name": "stdout",
     "output_type": "stream",
     "text": [
      "Good solutions are 3.2% of samples.\n",
      "Best Known solutions are 0.2% of samples.\n",
      "Lowest energy found: [-10.0]\n",
      "Average energy is 2.71 with standard deviation 7.63\n"
     ]
    }
   ],
   "source": [
    "analyze(sampleset_torque1, \"torque_chains1\", data)"
   ]
  },
  {
   "cell_type": "code",
   "execution_count": 44,
   "metadata": {},
   "outputs": [],
   "source": [
    "#from dwave.embedding.chain_strength import uniform_torque_compensation\n",
    "sampleset_torque2 = FixedEmbeddingComposite(qpu, embedding).sample(bqm, \n",
    "                                                                   return_embedding=True, \n",
    "                                                                   answer_mode=\"raw\", \n",
    "                                                                   num_reads=numr, \n",
    "                                                                   chain_strength= chnstr)  \n"
   ]
  },
  {
   "cell_type": "code",
   "execution_count": 45,
   "metadata": {},
   "outputs": [
    {
     "name": "stdout",
     "output_type": "stream",
     "text": [
      "Good solutions are 2.0% of samples.\n",
      "Best Known solutions are 0.2% of samples.\n",
      "Lowest energy found: [-9.719999999999999]\n",
      "Average energy is 4.25 with standard deviation 8.16\n"
     ]
    }
   ],
   "source": [
    "analyze(sampleset_torque2, \"torque_chains2\", data)"
   ]
  },
  {
   "cell_type": "markdown",
   "metadata": {},
   "source": [
    "## Run for different Times and Schedules"
   ]
  },
  {
   "cell_type": "code",
   "execution_count": 48,
   "metadata": {},
   "outputs": [],
   "source": [
    "# With optimal chain strengths:\n",
    "chnstr = uniform_torque_compensation"
   ]
  },
  {
   "cell_type": "markdown",
   "metadata": {},
   "source": [
    "https://docs.dwavesys.com/docs/latest/handbook_qpu.html?highlight=anneal_schedule#annealing-schedule\n",
    "\n",
    "https://docs.dwavesys.com/docs/latest/c_qpu_0.html?highlight=quench"
   ]
  },
  {
   "cell_type": "code",
   "execution_count": 49,
   "metadata": {},
   "outputs": [],
   "source": [
    "#qpu.properties[\"default_annealing_time\"]      \n",
    "# 20"
   ]
  },
  {
   "cell_type": "markdown",
   "metadata": {},
   "source": [
    "### Find Sweet Spot for Annealing Time"
   ]
  },
  {
   "cell_type": "code",
   "execution_count": 50,
   "metadata": {},
   "outputs": [],
   "source": [
    "#20\n",
    "sampleset_20 = FixedEmbeddingComposite(qpu, embedding).sample(bqm,\n",
    "                                                              return_embedding=True, \n",
    "                                                              answer_mode=\"raw\", \n",
    "                                                              num_reads=numr, \n",
    "                                                              chain_strength= chnstr,\n",
    "                                                              annealing_time=20)"
   ]
  },
  {
   "cell_type": "code",
   "execution_count": 51,
   "metadata": {},
   "outputs": [
    {
     "name": "stdout",
     "output_type": "stream",
     "text": [
      "Good solutions are 1.8% of samples.\n",
      "Best Known solutions are 0.4% of samples.\n",
      "Lowest energy found: [-9.79]\n",
      "Average energy is 3.70 with standard deviation 7.32\n"
     ]
    }
   ],
   "source": [
    "analyze(sampleset_20, \"time_20\", data)"
   ]
  },
  {
   "cell_type": "code",
   "execution_count": 52,
   "metadata": {},
   "outputs": [],
   "source": [
    "#25\n",
    "sampleset_25 = FixedEmbeddingComposite(qpu, embedding).sample(bqm,\n",
    "                                                              return_embedding=True, \n",
    "                                                              answer_mode=\"raw\", \n",
    "                                                              num_reads=numr, \n",
    "                                                              chain_strength= chnstr,\n",
    "                                                              annealing_time=25)"
   ]
  },
  {
   "cell_type": "code",
   "execution_count": 53,
   "metadata": {},
   "outputs": [
    {
     "name": "stdout",
     "output_type": "stream",
     "text": [
      "Good solutions are 2.4% of samples.\n",
      "Best Known solutions are 0.2% of samples.\n",
      "Lowest energy found: [-9.58]\n",
      "Average energy is 4.30 with standard deviation 7.77\n"
     ]
    }
   ],
   "source": [
    "analyze(sampleset_25, \"time_25\", data)"
   ]
  },
  {
   "cell_type": "code",
   "execution_count": 54,
   "metadata": {},
   "outputs": [],
   "source": [
    "#30\n",
    "sampleset_30 = FixedEmbeddingComposite(qpu, embedding).sample(bqm,\n",
    "                                                              return_embedding=True, \n",
    "                                                              answer_mode=\"raw\", \n",
    "                                                              num_reads=numr, \n",
    "                                                              chain_strength= chnstr,\n",
    "                                                              annealing_time=30)"
   ]
  },
  {
   "cell_type": "code",
   "execution_count": 55,
   "metadata": {},
   "outputs": [
    {
     "name": "stdout",
     "output_type": "stream",
     "text": [
      "Good solutions are 2.2% of samples.\n",
      "Best Known solutions are 0.2% of samples.\n",
      "Lowest energy found: [-9.86]\n",
      "Average energy is 3.13 with standard deviation 7.71\n"
     ]
    }
   ],
   "source": [
    "analyze(sampleset_30, \"time_30\", data)"
   ]
  },
  {
   "cell_type": "code",
   "execution_count": 56,
   "metadata": {},
   "outputs": [],
   "source": [
    "#35\n",
    "sampleset_35 = FixedEmbeddingComposite(qpu, embedding).sample(bqm,\n",
    "                                                              return_embedding=True, \n",
    "                                                              answer_mode=\"raw\", \n",
    "                                                              num_reads=numr, \n",
    "                                                              chain_strength= chnstr,\n",
    "                                                              annealing_time=35)  \n"
   ]
  },
  {
   "cell_type": "code",
   "execution_count": 57,
   "metadata": {},
   "outputs": [
    {
     "name": "stdout",
     "output_type": "stream",
     "text": [
      "Good solutions are 3.4% of samples.\n",
      "Best Known solutions are 0.2% of samples.\n",
      "Lowest energy found: [-9.86]\n",
      "Average energy is 2.10 with standard deviation 7.19\n"
     ]
    }
   ],
   "source": [
    "analyze(sampleset_35, \"time_35\", data)"
   ]
  },
  {
   "cell_type": "code",
   "execution_count": 58,
   "metadata": {},
   "outputs": [],
   "source": [
    "#40\n",
    "sampleset_40 = FixedEmbeddingComposite(qpu, embedding).sample(bqm,\n",
    "                                                              return_embedding=True, \n",
    "                                                              answer_mode=\"raw\", \n",
    "                                                              num_reads=numr, \n",
    "                                                              chain_strength= chnstr,\n",
    "                                                              annealing_time=40)\n"
   ]
  },
  {
   "cell_type": "code",
   "execution_count": 59,
   "metadata": {},
   "outputs": [
    {
     "name": "stdout",
     "output_type": "stream",
     "text": [
      "Good solutions are 3.2% of samples.\n",
      "Best Known solutions are 0.2% of samples.\n",
      "Lowest energy found: [-9.965]\n",
      "Average energy is 2.12 with standard deviation 6.97\n"
     ]
    }
   ],
   "source": [
    "analyze(sampleset_40, \"time_40\", data)"
   ]
  },
  {
   "cell_type": "markdown",
   "metadata": {},
   "source": [
    "### Find best Schedule"
   ]
  },
  {
   "cell_type": "markdown",
   "metadata": {},
   "source": [
    "### Pause and Quench"
   ]
  },
  {
   "cell_type": "markdown",
   "metadata": {},
   "source": [
    "<img src=\"https://docs.dwavesys.com/docs/latest/_images/16q-pause.png\" alt=\"drawing\" width=\"600\"/>"
   ]
  },
  {
   "cell_type": "markdown",
   "metadata": {},
   "source": [
    "First verify the quench schedule"
   ]
  },
  {
   "cell_type": "markdown",
   "metadata": {},
   "source": [
    "##### run with best chain setting twice"
   ]
  },
  {
   "cell_type": "code",
   "execution_count": 60,
   "metadata": {},
   "outputs": [],
   "source": [
    "quench_schedule = [[0.0, 0.0], [30.0, 0.35], [230.0, 0.35], [250, 1.0]]\n",
    "\n",
    "# [[t, s], [t_1, s_1], ..., [t_n, s_n]]\n",
    "# Time t must increase for all points in the schedule.\n",
    "# the anneal fraction s must start at s = 0.0 and end at s = 1.0"
   ]
  },
  {
   "cell_type": "code",
   "execution_count": 61,
   "metadata": {},
   "outputs": [],
   "source": [
    "sampleset_quench1 = FixedEmbeddingComposite(qpu, embedding).sample(bqm, \n",
    "                                                                  answer_mode=\"raw\", \n",
    "                                                                  num_reads=numr, \n",
    "                                                                  chain_strength= chnstr,\n",
    "                                                                  anneal_schedule=quench_schedule)  \n"
   ]
  },
  {
   "cell_type": "code",
   "execution_count": 62,
   "metadata": {},
   "outputs": [
    {
     "name": "stdout",
     "output_type": "stream",
     "text": [
      "Good solutions are 3.0% of samples.\n",
      "Best Known solutions are 0.2% of samples.\n",
      "Lowest energy found: [-9.825]\n",
      "Average energy is 2.44 with standard deviation 7.51\n"
     ]
    }
   ],
   "source": [
    "analyze(sampleset_quench1, \"quench_schedule1\", data)"
   ]
  },
  {
   "cell_type": "code",
   "execution_count": 63,
   "metadata": {},
   "outputs": [],
   "source": [
    "sampleset_quench2 = FixedEmbeddingComposite(qpu, embedding).sample(bqm, \n",
    "                                                                  answer_mode=\"raw\", \n",
    "                                                                  num_reads=numr, \n",
    "                                                                  chain_strength= chnstr,\n",
    "                                                                  anneal_schedule=quench_schedule)  \n"
   ]
  },
  {
   "cell_type": "code",
   "execution_count": 64,
   "metadata": {},
   "outputs": [
    {
     "name": "stdout",
     "output_type": "stream",
     "text": [
      "Good solutions are 2.4% of samples.\n",
      "Best Known solutions are 0.2% of samples.\n",
      "Lowest energy found: [-9.825]\n",
      "Average energy is 3.84 with standard deviation 7.74\n"
     ]
    }
   ],
   "source": [
    "analyze(sampleset_quench2, \"quench_schedule2\", data)"
   ]
  },
  {
   "cell_type": "markdown",
   "metadata": {},
   "source": [
    "### Reverse"
   ]
  },
  {
   "cell_type": "markdown",
   "metadata": {},
   "source": [
    "In brief, reverse annealing is a technique that makes it possible to refine known good local solutions, thereby increasing performance for certain applications."
   ]
  },
  {
   "cell_type": "markdown",
   "metadata": {},
   "source": [
    "There are three parameters you can use to configure reverse annealing using Ocean:\n",
    "\n",
    "1. `anneal_schedule` defines the annealing schedule that should be followed.\n",
    "2. `initial_state` specifies the classical state at which the reverse anneal should start.\n",
    "3. `reinitialize_state` specifies whether or not the initial state should be used for every anneal in the request.  If False, then after the first, each subsequent anneal starts where the previous finished."
   ]
  },
  {
   "cell_type": "markdown",
   "metadata": {},
   "source": [
    "<img src=\"https://docs.dwavesys.com/docs/latest/_images/ra.png\" alt=\"drawing\" width=\"600\"/>"
   ]
  },
  {
   "cell_type": "markdown",
   "metadata": {},
   "source": [
    "\n",
    "A Reverse schedule always starts at `s = 1.0`, and ours reverses quickly to `s = 0.45`, pauses for `100 μs`, then quickly anneals forward. The schedule is formatted as a list of  **[time, s]** pairs. The next cell plots the schedule."
   ]
  },
  {
   "cell_type": "code",
   "execution_count": 65,
   "metadata": {},
   "outputs": [
    {
     "name": "stdout",
     "output_type": "stream",
     "text": [
      "[[0.0, 1.0], [2.75, 0.45], [102.75, 0.45], [103.3, 1.0]]\n",
      "Total anneal-schedule time is 103.3 us\n"
     ]
    }
   ],
   "source": [
    "# [[t, s], [t_1, s_1], ..., [t_n, s_n]]\n",
    "# Time t must increase for all points in the schedule.\n",
    "# the anneal fraction s must start and end at s = 1.0\n",
    "max_slope = 1.0/qpu.properties[\"annealing_time_range\"][0]\n",
    "reverse_schedule = make_reverse_anneal_schedule(s_target=0.45, hold_time=100, ramp_up_slope=max_slope)\n",
    "time_total = reverse_schedule[3][0]\n",
    "\n",
    "print(reverse_schedule)\n",
    "print(\"Total anneal-schedule time is {} us\".format(time_total))"
   ]
  },
  {
   "cell_type": "code",
   "execution_count": 66,
   "metadata": {},
   "outputs": [
    {
     "data": {
      "image/png": "[encoded data removed]",
      "text/plain": [
       "<Figure size 216x216 with 1 Axes>"
      ]
     },
     "metadata": {
      "needs_background": "light"
     },
     "output_type": "display_data"
    }
   ],
   "source": [
    "make_anneal_plot(reverse_schedule)"
   ]
  },
  {
   "cell_type": "code",
   "execution_count": 67,
   "metadata": {},
   "outputs": [],
   "source": [
    "# Assign best Sampleset\n",
    "best_sampleset = sampleset_35"
   ]
  },
  {
   "cell_type": "code",
   "execution_count": 68,
   "metadata": {},
   "outputs": [],
   "source": [
    "\n",
    "i5 = int(5.0/95*len(best_sampleset))  # Index i5 is about a 5% indexial move from the sample of lowest energy\n",
    "\n",
    "initial = dict(zip(best_sampleset.variables, best_sampleset.record[i5].sample))\n",
    "reverse_anneal_params = dict(anneal_schedule=reverse_schedule, initial_state=initial, reinitialize_state=False)\n",
    "\n",
    "# The `reinitialize_state` parameter switches between two qualitatively different methods of local search \n",
    "# via quantum annealing.  With `reinitialize_state = 'True'`, many anneals are seeded from the single starting \n",
    "# state and the states returned, modulo time-dependent sources of error, are independently and identically \n",
    "# distributed.  With `reinitialize_state = 'False'`, the series of anneals behaves like a random walk and \n",
    "# is capable of exploring the solution space more broadly.  \n"
   ]
  },
  {
   "cell_type": "code",
   "execution_count": 69,
   "metadata": {},
   "outputs": [],
   "source": [
    "sampleset_reverse1 = FixedEmbeddingComposite(qpu, embedding).sample(bqm, \n",
    "                                                                   answer_mode=\"raw\", \n",
    "                                                                   num_reads=numr, \n",
    "                                                                   chain_strength= chnstr,\n",
    "                                                                   **reverse_anneal_params)  \n"
   ]
  },
  {
   "cell_type": "code",
   "execution_count": 70,
   "metadata": {},
   "outputs": [
    {
     "name": "stdout",
     "output_type": "stream",
     "text": [
      "Good solutions are 2.4% of samples.\n",
      "Best Known solutions are 0.2% of samples.\n",
      "Lowest energy found: [-9.754999999999999]\n",
      "Average energy is 1.76 with standard deviation 6.48\n"
     ]
    }
   ],
   "source": [
    "analyze(sampleset_reverse1, \"reverse_schedule1\", data)"
   ]
  },
  {
   "cell_type": "code",
   "execution_count": 71,
   "metadata": {},
   "outputs": [],
   "source": [
    "sampleset_reverse2 = FixedEmbeddingComposite(qpu, embedding).sample(bqm, \n",
    "                                                                   answer_mode=\"raw\", \n",
    "                                                                   num_reads=numr, \n",
    "                                                                   chain_strength= chnstr,\n",
    "                                                                   **reverse_anneal_params)  \n"
   ]
  },
  {
   "cell_type": "code",
   "execution_count": 72,
   "metadata": {},
   "outputs": [
    {
     "name": "stdout",
     "output_type": "stream",
     "text": [
      "Good solutions are 4.2% of samples.\n",
      "Best Known solutions are 0.6% of samples.\n",
      "Lowest energy found: [-9.86]\n",
      "Average energy is 2.27 with standard deviation 7.38\n"
     ]
    }
   ],
   "source": [
    "analyze(sampleset_reverse2, \"reverse_schedule2\", data)"
   ]
  },
  {
   "cell_type": "markdown",
   "metadata": {},
   "source": [
    "#### Make table of solutions:"
   ]
  },
  {
   "cell_type": "code",
   "execution_count": 73,
   "metadata": {},
   "outputs": [
    {
     "data": {
      "text/plain": [
       "[['embedding1A', 0.2, 1.0, -9.719999999999999, 3.21359, 8.122751224917577],\n",
       " ['embedding1B', 0.2, 0.4, -9.51, 4.2382800000000005, 8.017568511812044],\n",
       " ['embedding2A', 0.4, 1.2, -10.0, 2.9679300000000004, 7.917487313857851],\n",
       " ['embedding2B', 0.2, 1.8, -9.965, 3.5383500000000003, 8.244238062277192],\n",
       " ['embedding3A',\n",
       "  0.2,\n",
       "  3.2,\n",
       "  -9.719999999999999,\n",
       "  4.2304900000000005,\n",
       "  7.984036316920158],\n",
       " ['embedding3B', 0.2, 1.4, -10.0, 2.4162600000000003, 7.381951016662194],\n",
       " ['default_chains',\n",
       "  0.4,\n",
       "  2.4,\n",
       "  -9.719999999999999,\n",
       "  3.3760300000000005,\n",
       "  7.649284625969934],\n",
       " ['scaled_chains1',\n",
       "  0.2,\n",
       "  0.2,\n",
       "  -3.2300000000000004,\n",
       "  53.36121000000001,\n",
       "  25.272740478347416],\n",
       " ['scaled_chains2',\n",
       "  0.2,\n",
       "  0.2,\n",
       "  -4.614999999999999,\n",
       "  59.25560000000001,\n",
       "  26.970176108805816],\n",
       " ['torque_chains1', 0.2, 3.2, -10.0, 2.70609, 7.633679379034726],\n",
       " ['torque_chains2', 0.2, 2.0, -9.719999999999999, 4.25493, 8.161029809104976],\n",
       " ['time_20', 0.4, 1.8, -9.79, 3.704630000000001, 7.3150070822317055],\n",
       " ['time_25', 0.2, 2.4, -9.58, 4.30381, 7.773455816681536],\n",
       " ['time_30', 0.2, 2.2, -9.86, 3.12976, 7.713427172301557],\n",
       " ['time_35', 0.2, 3.4, -9.86, 2.09763, 7.193629892696733],\n",
       " ['time_40', 0.2, 3.2, -9.965, 2.1236500000000005, 6.96667851472278],\n",
       " ['quench_schedule1', 0.2, 3.0, -9.825, 2.44225, 7.509597318598381],\n",
       " ['quench_schedule2', 0.2, 2.4, -9.825, 3.8411200000000005, 7.741982798069239],\n",
       " ['reverse_schedule1',\n",
       "  0.2,\n",
       "  2.4,\n",
       "  -9.754999999999999,\n",
       "  1.7602000000000002,\n",
       "  6.479350597089187],\n",
       " ['reverse_schedule2', 0.6, 4.2, -9.86, 2.26508, 7.37562841347095]]"
      ]
     },
     "execution_count": 73,
     "metadata": {},
     "output_type": "execute_result"
    }
   ],
   "source": [
    "df = pd.DataFrame(data, columns=[\"Label\", \"Best Known Solutions (%)\", \"Good Known Solutions (%)\", \"Lowest Energy\", \"Average Energy\", \"Standard Deviation\"])\n",
    "data"
   ]
  },
  {
   "cell_type": "code",
   "execution_count": 74,
   "metadata": {},
   "outputs": [
    {
     "data": {
      "text/html": [
       "<div>\n",
       "<style scoped>\n",
       "    .dataframe tbody tr th:only-of-type {\n",
       "        vertical-align: middle;\n",
       "    }\n",
       "\n",
       "    .dataframe tbody tr th {\n",
       "        vertical-align: top;\n",
       "    }\n",
       "\n",
       "    .dataframe thead th {\n",
       "        text-align: right;\n",
       "    }\n",
       "</style>\n",
       "<table border=\"1\" class=\"dataframe\">\n",
       "  <thead>\n",
       "    <tr style=\"text-align: right;\">\n",
       "      <th></th>\n",
       "      <th>Label</th>\n",
       "      <th>Best Known Solutions (%)</th>\n",
       "      <th>Good Known Solutions (%)</th>\n",
       "      <th>Lowest Energy</th>\n",
       "      <th>Average Energy</th>\n",
       "      <th>Standard Deviation</th>\n",
       "    </tr>\n",
       "  </thead>\n",
       "  <tbody>\n",
       "    <tr>\n",
       "      <th>0</th>\n",
       "      <td>embedding1A</td>\n",
       "      <td>0.2</td>\n",
       "      <td>1.0</td>\n",
       "      <td>-9.720</td>\n",
       "      <td>3.21359</td>\n",
       "      <td>8.122751</td>\n",
       "    </tr>\n",
       "    <tr>\n",
       "      <th>1</th>\n",
       "      <td>embedding1B</td>\n",
       "      <td>0.2</td>\n",
       "      <td>0.4</td>\n",
       "      <td>-9.510</td>\n",
       "      <td>4.23828</td>\n",
       "      <td>8.017569</td>\n",
       "    </tr>\n",
       "    <tr>\n",
       "      <th>2</th>\n",
       "      <td>embedding2A</td>\n",
       "      <td>0.4</td>\n",
       "      <td>1.2</td>\n",
       "      <td>-10.000</td>\n",
       "      <td>2.96793</td>\n",
       "      <td>7.917487</td>\n",
       "    </tr>\n",
       "    <tr>\n",
       "      <th>3</th>\n",
       "      <td>embedding2B</td>\n",
       "      <td>0.2</td>\n",
       "      <td>1.8</td>\n",
       "      <td>-9.965</td>\n",
       "      <td>3.53835</td>\n",
       "      <td>8.244238</td>\n",
       "    </tr>\n",
       "    <tr>\n",
       "      <th>4</th>\n",
       "      <td>embedding3A</td>\n",
       "      <td>0.2</td>\n",
       "      <td>3.2</td>\n",
       "      <td>-9.720</td>\n",
       "      <td>4.23049</td>\n",
       "      <td>7.984036</td>\n",
       "    </tr>\n",
       "    <tr>\n",
       "      <th>5</th>\n",
       "      <td>embedding3B</td>\n",
       "      <td>0.2</td>\n",
       "      <td>1.4</td>\n",
       "      <td>-10.000</td>\n",
       "      <td>2.41626</td>\n",
       "      <td>7.381951</td>\n",
       "    </tr>\n",
       "    <tr>\n",
       "      <th>6</th>\n",
       "      <td>default_chains</td>\n",
       "      <td>0.4</td>\n",
       "      <td>2.4</td>\n",
       "      <td>-9.720</td>\n",
       "      <td>3.37603</td>\n",
       "      <td>7.649285</td>\n",
       "    </tr>\n",
       "    <tr>\n",
       "      <th>7</th>\n",
       "      <td>scaled_chains1</td>\n",
       "      <td>0.2</td>\n",
       "      <td>0.2</td>\n",
       "      <td>-3.230</td>\n",
       "      <td>53.36121</td>\n",
       "      <td>25.272740</td>\n",
       "    </tr>\n",
       "    <tr>\n",
       "      <th>8</th>\n",
       "      <td>scaled_chains2</td>\n",
       "      <td>0.2</td>\n",
       "      <td>0.2</td>\n",
       "      <td>-4.615</td>\n",
       "      <td>59.25560</td>\n",
       "      <td>26.970176</td>\n",
       "    </tr>\n",
       "    <tr>\n",
       "      <th>9</th>\n",
       "      <td>torque_chains1</td>\n",
       "      <td>0.2</td>\n",
       "      <td>3.2</td>\n",
       "      <td>-10.000</td>\n",
       "      <td>2.70609</td>\n",
       "      <td>7.633679</td>\n",
       "    </tr>\n",
       "    <tr>\n",
       "      <th>10</th>\n",
       "      <td>torque_chains2</td>\n",
       "      <td>0.2</td>\n",
       "      <td>2.0</td>\n",
       "      <td>-9.720</td>\n",
       "      <td>4.25493</td>\n",
       "      <td>8.161030</td>\n",
       "    </tr>\n",
       "    <tr>\n",
       "      <th>11</th>\n",
       "      <td>time_20</td>\n",
       "      <td>0.4</td>\n",
       "      <td>1.8</td>\n",
       "      <td>-9.790</td>\n",
       "      <td>3.70463</td>\n",
       "      <td>7.315007</td>\n",
       "    </tr>\n",
       "    <tr>\n",
       "      <th>12</th>\n",
       "      <td>time_25</td>\n",
       "      <td>0.2</td>\n",
       "      <td>2.4</td>\n",
       "      <td>-9.580</td>\n",
       "      <td>4.30381</td>\n",
       "      <td>7.773456</td>\n",
       "    </tr>\n",
       "    <tr>\n",
       "      <th>13</th>\n",
       "      <td>time_30</td>\n",
       "      <td>0.2</td>\n",
       "      <td>2.2</td>\n",
       "      <td>-9.860</td>\n",
       "      <td>3.12976</td>\n",
       "      <td>7.713427</td>\n",
       "    </tr>\n",
       "    <tr>\n",
       "      <th>14</th>\n",
       "      <td>time_35</td>\n",
       "      <td>0.2</td>\n",
       "      <td>3.4</td>\n",
       "      <td>-9.860</td>\n",
       "      <td>2.09763</td>\n",
       "      <td>7.193630</td>\n",
       "    </tr>\n",
       "    <tr>\n",
       "      <th>15</th>\n",
       "      <td>time_40</td>\n",
       "      <td>0.2</td>\n",
       "      <td>3.2</td>\n",
       "      <td>-9.965</td>\n",
       "      <td>2.12365</td>\n",
       "      <td>6.966679</td>\n",
       "    </tr>\n",
       "    <tr>\n",
       "      <th>16</th>\n",
       "      <td>quench_schedule1</td>\n",
       "      <td>0.2</td>\n",
       "      <td>3.0</td>\n",
       "      <td>-9.825</td>\n",
       "      <td>2.44225</td>\n",
       "      <td>7.509597</td>\n",
       "    </tr>\n",
       "    <tr>\n",
       "      <th>17</th>\n",
       "      <td>quench_schedule2</td>\n",
       "      <td>0.2</td>\n",
       "      <td>2.4</td>\n",
       "      <td>-9.825</td>\n",
       "      <td>3.84112</td>\n",
       "      <td>7.741983</td>\n",
       "    </tr>\n",
       "    <tr>\n",
       "      <th>18</th>\n",
       "      <td>reverse_schedule1</td>\n",
       "      <td>0.2</td>\n",
       "      <td>2.4</td>\n",
       "      <td>-9.755</td>\n",
       "      <td>1.76020</td>\n",
       "      <td>6.479351</td>\n",
       "    </tr>\n",
       "    <tr>\n",
       "      <th>19</th>\n",
       "      <td>reverse_schedule2</td>\n",
       "      <td>0.6</td>\n",
       "      <td>4.2</td>\n",
       "      <td>-9.860</td>\n",
       "      <td>2.26508</td>\n",
       "      <td>7.375628</td>\n",
       "    </tr>\n",
       "  </tbody>\n",
       "</table>\n",
       "</div>"
      ],
      "text/plain": [
       "                Label  Best Known Solutions (%)  Good Known Solutions (%)  \\\n",
       "0         embedding1A                       0.2                       1.0   \n",
       "1         embedding1B                       0.2                       0.4   \n",
       "2         embedding2A                       0.4                       1.2   \n",
       "3         embedding2B                       0.2                       1.8   \n",
       "4         embedding3A                       0.2                       3.2   \n",
       "5         embedding3B                       0.2                       1.4   \n",
       "6      default_chains                       0.4                       2.4   \n",
       "7      scaled_chains1                       0.2                       0.2   \n",
       "8      scaled_chains2                       0.2                       0.2   \n",
       "9      torque_chains1                       0.2                       3.2   \n",
       "10     torque_chains2                       0.2                       2.0   \n",
       "11            time_20                       0.4                       1.8   \n",
       "12            time_25                       0.2                       2.4   \n",
       "13            time_30                       0.2                       2.2   \n",
       "14            time_35                       0.2                       3.4   \n",
       "15            time_40                       0.2                       3.2   \n",
       "16   quench_schedule1                       0.2                       3.0   \n",
       "17   quench_schedule2                       0.2                       2.4   \n",
       "18  reverse_schedule1                       0.2                       2.4   \n",
       "19  reverse_schedule2                       0.6                       4.2   \n",
       "\n",
       "    Lowest Energy  Average Energy  Standard Deviation  \n",
       "0          -9.720         3.21359            8.122751  \n",
       "1          -9.510         4.23828            8.017569  \n",
       "2         -10.000         2.96793            7.917487  \n",
       "3          -9.965         3.53835            8.244238  \n",
       "4          -9.720         4.23049            7.984036  \n",
       "5         -10.000         2.41626            7.381951  \n",
       "6          -9.720         3.37603            7.649285  \n",
       "7          -3.230        53.36121           25.272740  \n",
       "8          -4.615        59.25560           26.970176  \n",
       "9         -10.000         2.70609            7.633679  \n",
       "10         -9.720         4.25493            8.161030  \n",
       "11         -9.790         3.70463            7.315007  \n",
       "12         -9.580         4.30381            7.773456  \n",
       "13         -9.860         3.12976            7.713427  \n",
       "14         -9.860         2.09763            7.193630  \n",
       "15         -9.965         2.12365            6.966679  \n",
       "16         -9.825         2.44225            7.509597  \n",
       "17         -9.825         3.84112            7.741983  \n",
       "18         -9.755         1.76020            6.479351  \n",
       "19         -9.860         2.26508            7.375628  "
      ]
     },
     "execution_count": 74,
     "metadata": {},
     "output_type": "execute_result"
    }
   ],
   "source": [
    "df"
   ]
  },
  {
   "cell_type": "code",
   "execution_count": null,
   "metadata": {},
   "outputs": [],
   "source": []
  }
 ],
 "metadata": {
  "kernelspec": {
   "display_name": "Python 3",
   "language": "python",
   "name": "python3"
  },
  "language_info": {
   "codemirror_mode": {
    "name": "ipython",
    "version": 3
   },
   "file_extension": ".py",
   "mimetype": "text/x-python",
   "name": "python",
   "nbconvert_exporter": "python",
   "pygments_lexer": "ipython3",
   "version": "3.8.3"
  }
 },
 "nbformat": 4,
 "nbformat_minor": 4
}
