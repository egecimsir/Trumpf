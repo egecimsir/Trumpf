{
 "cells": [
  {
   "cell_type": "markdown",
   "id": "satisfactory-communications",
   "metadata": {},
   "source": [
    "## Fujitsu QPU / CPU ____ SET job10"
   ]
  },
  {
   "cell_type": "markdown",
   "id": "creative-wings",
   "metadata": {},
   "source": [
    "## !! number_runs = 500 in Parameter? "
   ]
  },
  {
   "cell_type": "code",
   "execution_count": 1,
   "id": "blocked-survey",
   "metadata": {},
   "outputs": [],
   "source": [
    "import sys\n",
    "sys.path.append(\"..\")\n",
    "from qubo_util import *\n",
    "import wikipedia\n",
    "import numpy as np\n",
    "import pandas as pd"
   ]
  },
  {
   "cell_type": "code",
   "execution_count": 2,
   "id": "apart-replacement",
   "metadata": {},
   "outputs": [],
   "source": [
    "config = Config(configpath=\"C:\\\\Users\\\\Viktoria\\\\UQO\\\\install\\\\config.json\")\n",
    "connection = config.create_connection()"
   ]
  },
  {
   "cell_type": "markdown",
   "id": "together-exemption",
   "metadata": {},
   "source": [
    "## Jobs Info"
   ]
  },
  {
   "cell_type": "code",
   "execution_count": 3,
   "id": "usual-christopher",
   "metadata": {},
   "outputs": [],
   "source": [
    "### Lets define the basics\n",
    "\n",
    "bend = [0, 1, 2]\n",
    "weld = [3, 4]\n",
    "paint =  [5]\n",
    "\n",
    "bend_length = 2\n",
    "weld_length = 3\n",
    "paint_length = 6\n",
    "\n",
    "t_step = 3\n",
    "t_step_in_sec = 30"
   ]
  },
  {
   "cell_type": "code",
   "execution_count": 4,
   "id": "pleased-congo",
   "metadata": {},
   "outputs": [
    {
     "name": "stdout",
     "output_type": "stream",
     "text": [
      "The maximal maketime for the given operations is: 420 second(s).\n",
      "Which is equal to: 14 time steps.\n",
      "\n",
      "\n",
      "Anzahl an Kombinationen: 12\n",
      "\n",
      "   order  part  bend  weld  paint  deadline\n",
      "0      0     0     2     6      6        18\n",
      "1      1     0     0     6      0         6\n"
     ]
    }
   ],
   "source": [
    "jobs = jobs10 = [(0, 0, 1, 2, 1, 3),\n",
    " (1, 0, 0, 2, 0, 1)]\n",
    "\n",
    "operations = job_info(jobs10, bend_length, weld_length, paint_length, t_step_in_sec, bend, weld, paint, t_step)"
   ]
  },
  {
   "cell_type": "markdown",
   "id": "stainless-carolina",
   "metadata": {},
   "source": [
    "## Parameter"
   ]
  },
  {
   "cell_type": "code",
   "execution_count": 5,
   "id": "capable-genealogy",
   "metadata": {},
   "outputs": [],
   "source": [
    "#Number Runs for Fujitsu\n",
    "number_runs = 500\n",
    "\n",
    "# for Fujitsu param x100\n",
    "mult = 100\n",
    "\n",
    "#for QUBO\n",
    "alpha = 2 * mult\n",
    "beta = 1.5 * mult \n",
    "gamma = 2 * mult\n",
    "delta = 0.035 * mult\n",
    "    "
   ]
  },
  {
   "cell_type": "markdown",
   "id": "prostate-effect",
   "metadata": {},
   "source": [
    "## QUBO"
   ]
  },
  {
   "cell_type": "code",
   "execution_count": 6,
   "id": "respiratory-notebook",
   "metadata": {},
   "outputs": [],
   "source": [
    "QUBO = get_QUBO(jobs, operations, alpha, beta, gamma, delta, bend_length, weld_length, paint_length, bend, weld, paint)"
   ]
  },
  {
   "cell_type": "code",
   "execution_count": 7,
   "id": "contained-salem",
   "metadata": {},
   "outputs": [
    {
     "data": {
      "image/png": "[encoded data removed]",
      "text/plain": [
       "<Figure size 1008x864 with 2 Axes>"
      ]
     },
     "metadata": {},
     "output_type": "display_data"
    }
   ],
   "source": [
    "#get_qubo_heatmap(QUBO, operations, \"QUBO_10\")"
   ]
  },
  {
   "cell_type": "code",
   "execution_count": 8,
   "id": "bored-answer",
   "metadata": {},
   "outputs": [],
   "source": [
    "qubo_dictionary = qubo_to_dictionary_ohne_null(QUBO, operations)"
   ]
  },
  {
   "cell_type": "markdown",
   "id": "motivated-terrorist",
   "metadata": {},
   "source": [
    "## Fujitsu DAU"
   ]
  },
  {
   "cell_type": "code",
   "execution_count": null,
   "id": "numerical-vertex",
   "metadata": {},
   "outputs": [],
   "source": [
    "# run1\n",
    "answerDAU_run1 = on_Fujitsu_with_Param(config, qubo_dictionary, \"DAU\", number_runs)\n",
    "tabelleDAU_run1 = answerDAU_run1.print_solutions_nice()\n",
    "with open('Fujitsu_10_DAU_run1.txt', 'w') as w:\n",
    "    w.write(str(tabelleDAU_run1))"
   ]
  },
  {
   "cell_type": "code",
   "execution_count": null,
   "id": "banner-shakespeare",
   "metadata": {},
   "outputs": [],
   "source": [
    "# run2\n",
    "answerDAU_run2 = on_Fujitsu_with_Param(config, qubo_dictionary, \"DAU\", number_runs)\n",
    "tabelleDAU_run2 = answerDAU_run2.print_solutions_nice()\n",
    "with open('Fujitsu_10_DAU_run2.txt', 'w') as w:\n",
    "    w.write(str(tabelleDAU_run2))"
   ]
  },
  {
   "cell_type": "code",
   "execution_count": null,
   "id": "bright-syntax",
   "metadata": {},
   "outputs": [],
   "source": [
    "# run3\n",
    "answerDAU_run3 = on_Fujitsu_with_Param(config, qubo_dictionary, \"DAU\", number_runs)\n",
    "tabelleDAU_run3 = answerDAU_run3.print_solutions_nice()\n",
    "with open('Fujitsu_10_DAU_run3.txt', 'w') as w:\n",
    "    w.write(str(tabelleDAU_run3))"
   ]
  },
  {
   "cell_type": "code",
   "execution_count": null,
   "id": "extreme-sympathy",
   "metadata": {},
   "outputs": [],
   "source": [
    "# run4\n",
    "answerDAU_run4 = on_Fujitsu_with_Param(config, qubo_dictionary, \"DAU\", number_runs)\n",
    "tabelleDAU_run4 = answerDAU_run4.print_solutions_nice()\n",
    "with open('Fujitsu_10_DAU_run4.txt', 'w') as w:\n",
    "    w.write(str(tabelleDAU_run4))"
   ]
  },
  {
   "cell_type": "code",
   "execution_count": null,
   "id": "similar-packing",
   "metadata": {},
   "outputs": [],
   "source": [
    "# run5\n",
    "answerDAU_run5 = on_Fujitsu_with_Param(config, qubo_dictionary, \"DAU\", number_runs)\n",
    "tabelleDAU_run5 = answerDAU_run5.print_solutions_nice()\n",
    "with open('Fujitsu_10_DAU_run5.txt', 'w') as w:\n",
    "    w.write(str(tabelleDAU_run5))"
   ]
  },
  {
   "cell_type": "code",
   "execution_count": null,
   "id": "comic-engagement",
   "metadata": {},
   "outputs": [],
   "source": []
  },
  {
   "cell_type": "markdown",
   "id": "cooked-blade",
   "metadata": {},
   "source": [
    "## Fujitsu CPU"
   ]
  },
  {
   "cell_type": "code",
   "execution_count": null,
   "id": "based-newman",
   "metadata": {},
   "outputs": [],
   "source": [
    "answerCPU = on_Fujitsu_with_Param(config, qubo_dictionary, \"CPU\", number_runs)"
   ]
  },
  {
   "cell_type": "code",
   "execution_count": null,
   "id": "prepared-animal",
   "metadata": {},
   "outputs": [],
   "source": [
    "tabelleCPU = answerCPU.print_solutions_nice()"
   ]
  },
  {
   "cell_type": "code",
   "execution_count": null,
   "id": "equivalent-electron",
   "metadata": {},
   "outputs": [],
   "source": [
    "with open('Fujitsu_10_CPU.txt', 'w') as w:\n",
    "    w.write(str(tabelleCPU))"
   ]
  },
  {
   "cell_type": "code",
   "execution_count": null,
   "id": "humanitarian-worst",
   "metadata": {},
   "outputs": [],
   "source": []
  },
  {
   "cell_type": "code",
   "execution_count": null,
   "id": "immune-toronto",
   "metadata": {},
   "outputs": [],
   "source": []
  },
  {
   "cell_type": "code",
   "execution_count": null,
   "id": "correct-porter",
   "metadata": {},
   "outputs": [],
   "source": []
  },
  {
   "cell_type": "code",
   "execution_count": null,
   "id": "gothic-october",
   "metadata": {},
   "outputs": [],
   "source": []
  },
  {
   "cell_type": "code",
   "execution_count": null,
   "id": "independent-spelling",
   "metadata": {},
   "outputs": [],
   "source": [
    "sample_nmr = 0\n",
    "df_schedule = get_fujitsu_schedule_from_sample(answerDAU, jobs, operations, sampleset, sample_nmr, bend_length, weld_length, paint_length)\n"
   ]
  },
  {
   "cell_type": "code",
   "execution_count": null,
   "id": "european-relevance",
   "metadata": {},
   "outputs": [],
   "source": [
    "get_qubo_ganttchart(df_schedule)"
   ]
  },
  {
   "cell_type": "code",
   "execution_count": null,
   "id": "endless-electronics",
   "metadata": {},
   "outputs": [],
   "source": []
  },
  {
   "cell_type": "code",
   "execution_count": null,
   "id": "desirable-tiger",
   "metadata": {},
   "outputs": [],
   "source": []
  },
  {
   "cell_type": "markdown",
   "id": "emotional-batman",
   "metadata": {},
   "source": [
    "## Vergleich"
   ]
  },
  {
   "cell_type": "code",
   "execution_count": null,
   "id": "dynamic-mount",
   "metadata": {},
   "outputs": [],
   "source": [
    "#UQO Fujitsu DAU\n",
    "answerDAU.print_solutions_nice()"
   ]
  },
  {
   "cell_type": "code",
   "execution_count": null,
   "id": "psychological-trace",
   "metadata": {},
   "outputs": [],
   "source": [
    "#UQO Fujitsu CPU\n",
    "answerCPU.print_solutions_nice()"
   ]
  },
  {
   "cell_type": "code",
   "execution_count": null,
   "id": "anonymous-wilson",
   "metadata": {},
   "outputs": [],
   "source": []
  },
  {
   "cell_type": "code",
   "execution_count": null,
   "id": "parallel-danger",
   "metadata": {},
   "outputs": [],
   "source": []
  },
  {
   "cell_type": "code",
   "execution_count": null,
   "id": "ahead-chinese",
   "metadata": {},
   "outputs": [],
   "source": []
  },
  {
   "cell_type": "code",
   "execution_count": null,
   "id": "guilty-malpractice",
   "metadata": {},
   "outputs": [],
   "source": []
  },
  {
   "cell_type": "code",
   "execution_count": null,
   "id": "tight-chorus",
   "metadata": {},
   "outputs": [],
   "source": []
  },
  {
   "cell_type": "code",
   "execution_count": null,
   "id": "gentle-numbers",
   "metadata": {},
   "outputs": [],
   "source": []
  },
  {
   "cell_type": "code",
   "execution_count": null,
   "id": "medical-designer",
   "metadata": {},
   "outputs": [],
   "source": []
  },
  {
   "cell_type": "code",
   "execution_count": null,
   "id": "disciplinary-terror",
   "metadata": {},
   "outputs": [],
   "source": []
  },
  {
   "cell_type": "code",
   "execution_count": null,
   "id": "current-award",
   "metadata": {},
   "outputs": [],
   "source": []
  },
  {
   "cell_type": "code",
   "execution_count": null,
   "id": "simplified-quarterly",
   "metadata": {},
   "outputs": [],
   "source": []
  },
  {
   "cell_type": "code",
   "execution_count": null,
   "id": "general-paintball",
   "metadata": {},
   "outputs": [],
   "source": []
  },
  {
   "cell_type": "code",
   "execution_count": null,
   "id": "beneficial-difficulty",
   "metadata": {},
   "outputs": [],
   "source": []
  }
 ],
 "metadata": {
  "kernelspec": {
   "display_name": "Python 3",
   "language": "python",
   "name": "python3"
  },
  "language_info": {
   "codemirror_mode": {
    "name": "ipython",
    "version": 3
   },
   "file_extension": ".py",
   "mimetype": "text/x-python",
   "name": "python",
   "nbconvert_exporter": "python",
   "pygments_lexer": "ipython3",
   "version": "3.8.8"
  }
 },
 "nbformat": 4,
 "nbformat_minor": 5
}
