{
 "cells": [
  {
   "cell_type": "markdown",
   "metadata": {},
   "source": [
    "# Approach"
   ]
  },
  {
   "cell_type": "markdown",
   "metadata": {},
   "source": [
    "1. > compare Embeddings (```minorminer```) and choose the best\n",
    "1. > compare Chain Settings and choose the best\n",
    "1. > compare Anneal Times and choose the best\n",
    "1. > compare Anneal Schedules and choose the best"
   ]
  },
  {
   "cell_type": "markdown",
   "metadata": {},
   "source": [
    "## QUBO"
   ]
  },
  {
   "cell_type": "markdown",
   "metadata": {},
   "source": [
    "### Imports"
   ]
  },
  {
   "cell_type": "code",
   "execution_count": 1,
   "metadata": {},
   "outputs": [],
   "source": [
    "import sys\n",
    "sys.path.append(\"..\")\n",
    "from qubo_util import *\n",
    "\n",
    "import dimod\n",
    "import numpy as np\n",
    "import pandas as pd\n",
    "import dwave.inspector\n",
    "import matplotlib.pyplot as plt\n",
    "from dwave.system.samplers import DWaveSampler\n",
    "from dwave.embedding.chain_strength import scaled, uniform_torque_compensation\n",
    "from dwave.system import DWaveSampler, FixedEmbeddingComposite, EmbeddingComposite"
   ]
  },
  {
   "cell_type": "markdown",
   "metadata": {},
   "source": [
    "### Config"
   ]
  },
  {
   "cell_type": "code",
   "execution_count": 2,
   "metadata": {},
   "outputs": [],
   "source": [
    "from dwave.cloud import Client\n",
    "client = Client.from_config(config_file='/Users/jonas/Library/Application Support/dwave/dwave.conf')"
   ]
  },
  {
   "cell_type": "markdown",
   "metadata": {},
   "source": [
    "### Jobs"
   ]
  },
  {
   "cell_type": "code",
   "execution_count": 3,
   "metadata": {},
   "outputs": [],
   "source": [
    "### Lets define the basics\n",
    "\n",
    "bend = [0, 1, 2]\n",
    "weld = [3, 4]\n",
    "paint =  [5]\n",
    "\n",
    "bend_length = 2\n",
    "weld_length = 3\n",
    "paint_length = 6\n",
    "\n",
    "t_step = 3\n",
    "t_step_in_sec = 30"
   ]
  },
  {
   "cell_type": "code",
   "execution_count": 4,
   "metadata": {},
   "outputs": [],
   "source": [
    "jobs = [(0, 0, 1, 2, 1, 3),\n",
    " (1, 0, 0, 2, 0, 1)]"
   ]
  },
  {
   "cell_type": "code",
   "execution_count": 5,
   "metadata": {},
   "outputs": [
    {
     "name": "stdout",
     "output_type": "stream",
     "text": [
      "The maximal maketime for the given operations is: 420 second(s).\n",
      "Which is equal to: 14 time steps.\n",
      "\n",
      "\n"
     ]
    }
   ],
   "source": [
    "# OrderNo, PartNo, BendingLines, WeldingPoints, PaintTime, DueDate \n",
    "\n",
    "m_t_steps = max_time(jobs, bend_length, weld_length, paint_length)\n",
    "\n",
    "m_time = m_t_steps * t_step_in_sec\n",
    "    \n",
    "print('The maximal maketime for the given operations is: ' + str(m_time) + ' second(s).\\nWhich is equal to: ' + str(m_t_steps) + ' time steps.\\n\\n')"
   ]
  },
  {
   "cell_type": "code",
   "execution_count": 6,
   "metadata": {},
   "outputs": [
    {
     "name": "stdout",
     "output_type": "stream",
     "text": [
      "Anzahl an Kombinationen: 12\n",
      "\n"
     ]
    }
   ],
   "source": [
    "operations = ops(jobs, bend, weld, paint, bend_length, weld_length, paint_length, t_step)\n",
    "\n",
    "print('Anzahl an Kombinationen: ' + str(len(operations)) + '\\n')"
   ]
  },
  {
   "cell_type": "markdown",
   "metadata": {},
   "source": [
    "### Parameters"
   ]
  },
  {
   "cell_type": "code",
   "execution_count": 7,
   "metadata": {},
   "outputs": [],
   "source": [
    "alpha = 2\n",
    "beta = 1.5\n",
    "gamma = 2\n",
    "delta = 0.035\n",
    "\n",
    "QUBO = get_QUBO(jobs, operations, alpha, beta, gamma, delta, bend_length, weld_length, paint_length, bend, weld, paint)\n",
    "qubo_dictionary = qubo_to_dictionary_ohne_null(QUBO, operations)\n"
   ]
  },
  {
   "cell_type": "markdown",
   "metadata": {},
   "source": [
    "# Run"
   ]
  },
  {
   "cell_type": "markdown",
   "metadata": {},
   "source": [
    "## Get Embedding with ```  minorminer  ``` as part of EmbeddingComposite() and safe it"
   ]
  },
  {
   "cell_type": "markdown",
   "metadata": {},
   "source": [
    "https://docs.dwavesys.com/docs/latest/handbook_embedding.html#example-clique-embedding-a-sparse-bqm\n",
    "\n",
    "https://docs.dwavesys.com/docs/latest/handbook_qpu.html?highlight=sampleset_1#read-anneal-cycles"
   ]
  },
  {
   "cell_type": "code",
   "execution_count": 8,
   "metadata": {},
   "outputs": [],
   "source": [
    "bqm = dimod.BinaryQuadraticModel.from_numpy_matrix(QUBO)\n",
    "qpu = DWaveSampler(solver={'topology__type': 'pegasus'})"
   ]
  },
  {
   "cell_type": "code",
   "execution_count": 9,
   "metadata": {},
   "outputs": [],
   "source": [
    "# Each run with 500 shots (more runs with less shots yield better results than less runs with more shots)\n",
    "numr = 500\n",
    "\n",
    "# Chain Strength = Max(QUBO) // Analog zur D Wave Dokumentation\n",
    "\n",
    "chnstr = find_chstr(QUBO)+1\n",
    "\n",
    "# Empty array\n",
    "data=[]"
   ]
  },
  {
   "cell_type": "markdown",
   "metadata": {},
   "source": [
    "### And Visualize embedding,  check for Chain Breaks and run inspection with ```dwave.inspector.```"
   ]
  },
  {
   "cell_type": "markdown",
   "metadata": {},
   "source": [
    "#### First Embedding"
   ]
  },
  {
   "cell_type": "code",
   "execution_count": 11,
   "metadata": {},
   "outputs": [],
   "source": [
    "sampler = EmbeddingComposite(qpu)\n",
    "sampleset1A = sampler.sample(bqm, \n",
    "                           return_embedding=True, \n",
    "                           answer_mode=\"raw\", \n",
    "                           num_reads=numr, \n",
    "                           chain_strength= chnstr)\n",
    "embedding1 = sampleset1A.info[\"embedding_context\"][\"embedding\"]  \n",
    "chains = sampleset1A.info[\"embedding_context\"][\"embedding\"].values()  "
   ]
  },
  {
   "cell_type": "code",
   "execution_count": 12,
   "metadata": {},
   "outputs": [
    {
     "name": "stdout",
     "output_type": "stream",
     "text": [
      "Good solutions are 42.0% of samples.\n",
      "Best Known solutions are 16.8% of samples.\n",
      "Lowest energy found: [-8.0]\n",
      "Average energy is -6.25 with standard deviation 1.90\n"
     ]
    }
   ],
   "source": [
    "analyze(sampleset1A, \"embedding1A\", data)"
   ]
  },
  {
   "cell_type": "code",
   "execution_count": 13,
   "metadata": {},
   "outputs": [],
   "source": [
    "sampleset1B = FixedEmbeddingComposite(qpu, embedding1).sample(bqm, \n",
    "                                                                   return_embedding=True, \n",
    "                                                                   answer_mode=\"raw\", \n",
    "                                                                   num_reads=numr, \n",
    "                                                                   chain_strength= chnstr)"
   ]
  },
  {
   "cell_type": "code",
   "execution_count": 14,
   "metadata": {},
   "outputs": [
    {
     "name": "stdout",
     "output_type": "stream",
     "text": [
      "Good solutions are 45.6% of samples.\n",
      "Best Known solutions are 18.4% of samples.\n",
      "Lowest energy found: [-8.0]\n",
      "Average energy is -6.30 with standard deviation 2.10\n"
     ]
    }
   ],
   "source": [
    "analyze(sampleset1B, \"embedding1B\", data)"
   ]
  },
  {
   "cell_type": "code",
   "execution_count": 16,
   "metadata": {},
   "outputs": [
    {
     "name": "stdout",
     "output_type": "stream",
     "text": [
      "9.0\n"
     ]
    }
   ],
   "source": [
    "print(sampleset1A.info[\"embedding_context\"][\"chain_strength\"])    "
   ]
  },
  {
   "cell_type": "code",
   "execution_count": 17,
   "metadata": {},
   "outputs": [
    {
     "name": "stdout",
     "output_type": "stream",
     "text": [
      "2\n"
     ]
    }
   ],
   "source": [
    "print(max(len(chain) for chain in chains))   "
   ]
  },
  {
   "cell_type": "code",
   "execution_count": 19,
   "metadata": {},
   "outputs": [
    {
     "name": "stdout",
     "output_type": "stream",
     "text": [
      "Percentage of samples with >10% breaks is 0.0 and >0 is 0.0.\n"
     ]
    }
   ],
   "source": [
    "print(\"Percentage of samples with >10% breaks is {} and >0 is {}.\".format(np.count_nonzero(sampleset1A.record.chain_break_fraction > 0.10)/numr*100, np.count_nonzero(sampleset1A.record.chain_break_fraction > 0.0)/numr*100))\n"
   ]
  },
  {
   "cell_type": "code",
   "execution_count": 34,
   "metadata": {},
   "outputs": [
    {
     "data": {
      "text/plain": [
       "'http://127.0.0.1:18000/?problemId=92b08c25-72dc-454e-97dc-7cc64c8b6829'"
      ]
     },
     "execution_count": 34,
     "metadata": {},
     "output_type": "execute_result"
    }
   ],
   "source": [
    "# Inspect Embedding\n",
    "dwave.inspector.show(sampleset1A)"
   ]
  },
  {
   "cell_type": "markdown",
   "metadata": {},
   "source": [
    "#### Second Embedding"
   ]
  },
  {
   "cell_type": "code",
   "execution_count": 20,
   "metadata": {},
   "outputs": [],
   "source": [
    "sampler = EmbeddingComposite(qpu)\n",
    "sampleset2A = sampler.sample(bqm, \n",
    "                           return_embedding=True, \n",
    "                           answer_mode=\"raw\", \n",
    "                           num_reads=numr, \n",
    "                           chain_strength= chnstr)\n",
    "embedding2 = sampleset2A.info[\"embedding_context\"][\"embedding\"]  \n",
    "chains = sampleset2A.info[\"embedding_context\"][\"embedding\"].values()  \n"
   ]
  },
  {
   "cell_type": "code",
   "execution_count": 21,
   "metadata": {},
   "outputs": [
    {
     "name": "stdout",
     "output_type": "stream",
     "text": [
      "Good solutions are 48.2% of samples.\n",
      "Best Known solutions are 14.6% of samples.\n",
      "Lowest energy found: [-8.0]\n",
      "Average energy is -6.42 with standard deviation 1.88\n"
     ]
    }
   ],
   "source": [
    "analyze(sampleset2A, \"embedding2A\", data)"
   ]
  },
  {
   "cell_type": "code",
   "execution_count": 22,
   "metadata": {},
   "outputs": [],
   "source": [
    "sampleset2B = FixedEmbeddingComposite(qpu, embedding2).sample(bqm, \n",
    "                                                                   return_embedding=True, \n",
    "                                                                   answer_mode=\"raw\", \n",
    "                                                                   num_reads=numr, \n",
    "                                                                   chain_strength= chnstr)"
   ]
  },
  {
   "cell_type": "code",
   "execution_count": 23,
   "metadata": {},
   "outputs": [
    {
     "name": "stdout",
     "output_type": "stream",
     "text": [
      "Good solutions are 46.2% of samples.\n",
      "Best Known solutions are 13.4% of samples.\n",
      "Lowest energy found: [-8.0]\n",
      "Average energy is -6.29 with standard deviation 2.00\n"
     ]
    }
   ],
   "source": [
    "analyze(sampleset2B, \"embedding2B\", data)"
   ]
  },
  {
   "cell_type": "code",
   "execution_count": 24,
   "metadata": {},
   "outputs": [
    {
     "name": "stdout",
     "output_type": "stream",
     "text": [
      "9.0\n"
     ]
    }
   ],
   "source": [
    "\n",
    "print(sampleset2A.info[\"embedding_context\"][\"chain_strength\"])    "
   ]
  },
  {
   "cell_type": "code",
   "execution_count": 25,
   "metadata": {},
   "outputs": [
    {
     "name": "stdout",
     "output_type": "stream",
     "text": [
      "2\n"
     ]
    }
   ],
   "source": [
    "print(max(len(chain) for chain in chains))   "
   ]
  },
  {
   "cell_type": "code",
   "execution_count": 26,
   "metadata": {},
   "outputs": [
    {
     "name": "stdout",
     "output_type": "stream",
     "text": [
      "Percentage of samples with >10% breaks is 0.0 and >0 is 0.0.\n"
     ]
    }
   ],
   "source": [
    "print(\"Percentage of samples with >10% breaks is {} and >0 is {}.\".format(np.count_nonzero(sampleset2A.record.chain_break_fraction > 0.10)/numr*100, np.count_nonzero(sampleset2A.record.chain_break_fraction > 0.0)/numr*100))\n"
   ]
  },
  {
   "cell_type": "code",
   "execution_count": null,
   "metadata": {},
   "outputs": [],
   "source": [
    "# Inspect Embedding\n",
    "dwave.inspector.show(sampleset2A) "
   ]
  },
  {
   "cell_type": "markdown",
   "metadata": {},
   "source": [
    "#### Third Embedding"
   ]
  },
  {
   "cell_type": "code",
   "execution_count": 27,
   "metadata": {},
   "outputs": [],
   "source": [
    "sampler = EmbeddingComposite(qpu)\n",
    "sampleset3A = sampler.sample(bqm, \n",
    "                           return_embedding=True, \n",
    "                           answer_mode=\"raw\", \n",
    "                           num_reads=numr, \n",
    "                           chain_strength= chnstr)\n",
    "embedding3 = sampleset3A.info[\"embedding_context\"][\"embedding\"]  \n",
    "chains = sampleset3A.info[\"embedding_context\"][\"embedding\"].values()  \n"
   ]
  },
  {
   "cell_type": "code",
   "execution_count": 28,
   "metadata": {},
   "outputs": [
    {
     "name": "stdout",
     "output_type": "stream",
     "text": [
      "Good solutions are 41.0% of samples.\n",
      "Best Known solutions are 20.0% of samples.\n",
      "Lowest energy found: [-8.0]\n",
      "Average energy is -6.13 with standard deviation 2.09\n"
     ]
    }
   ],
   "source": [
    "analyze(sampleset3A, \"embedding3A\", data)"
   ]
  },
  {
   "cell_type": "code",
   "execution_count": 29,
   "metadata": {},
   "outputs": [],
   "source": [
    "sampleset3B = FixedEmbeddingComposite(qpu, embedding3).sample(bqm, \n",
    "                                                                   return_embedding=True, \n",
    "                                                                   answer_mode=\"raw\", \n",
    "                                                                   num_reads=numr, \n",
    "                                                                   chain_strength= chnstr)"
   ]
  },
  {
   "cell_type": "code",
   "execution_count": 30,
   "metadata": {},
   "outputs": [
    {
     "name": "stdout",
     "output_type": "stream",
     "text": [
      "Good solutions are 45.2% of samples.\n",
      "Best Known solutions are 15.0% of samples.\n",
      "Lowest energy found: [-8.0]\n",
      "Average energy is -6.17 with standard deviation 2.22\n"
     ]
    }
   ],
   "source": [
    "analyze(sampleset3B, \"embedding3B\", data)"
   ]
  },
  {
   "cell_type": "code",
   "execution_count": 31,
   "metadata": {},
   "outputs": [
    {
     "name": "stdout",
     "output_type": "stream",
     "text": [
      "9.0\n"
     ]
    }
   ],
   "source": [
    "\n",
    "print(sampleset3A.info[\"embedding_context\"][\"chain_strength\"])    "
   ]
  },
  {
   "cell_type": "code",
   "execution_count": 32,
   "metadata": {},
   "outputs": [
    {
     "name": "stdout",
     "output_type": "stream",
     "text": [
      "2\n"
     ]
    }
   ],
   "source": [
    "print(max(len(chain) for chain in chains))   "
   ]
  },
  {
   "cell_type": "code",
   "execution_count": 33,
   "metadata": {},
   "outputs": [
    {
     "name": "stdout",
     "output_type": "stream",
     "text": [
      "Percentage of samples with >10% breaks is 0.0 and >0 is 0.0.\n"
     ]
    }
   ],
   "source": [
    "print(\"Percentage of samples with >10% breaks is {} and >0 is {}.\".format(np.count_nonzero(sampleset3A.record.chain_break_fraction > 0.10)/numr*100, np.count_nonzero(sampleset3A.record.chain_break_fraction > 0.0)/numr*100))\n"
   ]
  },
  {
   "cell_type": "code",
   "execution_count": null,
   "metadata": {},
   "outputs": [],
   "source": [
    "# Inspect Embedding\n",
    "dwave.inspector.show(sampleset3) "
   ]
  },
  {
   "cell_type": "markdown",
   "metadata": {},
   "source": [
    "## Chain Management for best Embedding"
   ]
  },
  {
   "cell_type": "code",
   "execution_count": 35,
   "metadata": {},
   "outputs": [],
   "source": [
    "# Choose best Embedding \n",
    "embedding = "
   ]
  },
  {
   "cell_type": "markdown",
   "metadata": {},
   "source": [
    "### Adjust Chain Strength if necessary "
   ]
  },
  {
   "cell_type": "markdown",
   "metadata": {},
   "source": [
    "The following considerations and recommendations apply to chains.\n",
    "\n",
    "- Prefer short chains to long chains.\n",
    "- Prefer uniform chain lengths to uneven chains.\n",
    "- Balance chain strength and problem range. Estimate chain strength and set just slightly above the minimum threshold needed, using strategies for auto-adjusting these chains. "
   ]
  },
  {
   "cell_type": "markdown",
   "metadata": {},
   "source": [
    "##### run again with each chain setting"
   ]
  },
  {
   "cell_type": "code",
   "execution_count": 36,
   "metadata": {},
   "outputs": [],
   "source": [
    "# Default\n",
    "sampleset_default = FixedEmbeddingComposite(qpu, embedding).sample(bqm, \n",
    "                                                                   return_embedding=True, \n",
    "                                                                   answer_mode=\"raw\", \n",
    "                                                                   num_reads=numr, \n",
    "                                                                   chain_strength= chnstr)\n"
   ]
  },
  {
   "cell_type": "code",
   "execution_count": 37,
   "metadata": {},
   "outputs": [
    {
     "name": "stdout",
     "output_type": "stream",
     "text": [
      "Good solutions are 39.8% of samples.\n",
      "Best Known solutions are 14.2% of samples.\n",
      "Lowest energy found: [-8.0]\n",
      "Average energy is -5.66 with standard deviation 2.79\n"
     ]
    }
   ],
   "source": [
    "analyze(sampleset_default, \"default_chains\", data)"
   ]
  },
  {
   "cell_type": "markdown",
   "metadata": {},
   "source": [
    "You can set a chain strength relative to your problem’s largest bias by using, for example, the scaled() function."
   ]
  },
  {
   "cell_type": "code",
   "execution_count": 38,
   "metadata": {},
   "outputs": [],
   "source": [
    "chnstr = scaled"
   ]
  },
  {
   "cell_type": "code",
   "execution_count": 39,
   "metadata": {},
   "outputs": [],
   "source": [
    "#from dwave.embedding.chain_strength import scaled\n",
    "sampleset_scaled1 = FixedEmbeddingComposite(qpu, embedding).sample(bqm, \n",
    "                                                                   return_embedding=True, \n",
    "                                                                   answer_mode=\"raw\", \n",
    "                                                                   num_reads=numr, \n",
    "                                                                   chain_strength= chnstr)  \n"
   ]
  },
  {
   "cell_type": "code",
   "execution_count": 40,
   "metadata": {},
   "outputs": [
    {
     "name": "stdout",
     "output_type": "stream",
     "text": [
      "Good solutions are 37.0% of samples.\n",
      "Best Known solutions are 19.4% of samples.\n",
      "Lowest energy found: [-8.0]\n",
      "Average energy is -5.50 with standard deviation 2.78\n"
     ]
    }
   ],
   "source": [
    "analyze(sampleset_scaled1, \"scaled_chains1\", data)"
   ]
  },
  {
   "cell_type": "code",
   "execution_count": 41,
   "metadata": {},
   "outputs": [],
   "source": [
    "#from dwave.embedding.chain_strength import scaled\n",
    "sampleset_scaled2 = FixedEmbeddingComposite(qpu, embedding).sample(bqm, \n",
    "                                                                   return_embedding=True, \n",
    "                                                                   answer_mode=\"raw\", \n",
    "                                                                   num_reads=numr, \n",
    "                                                                   chain_strength= chnstr)  \n"
   ]
  },
  {
   "cell_type": "code",
   "execution_count": 42,
   "metadata": {},
   "outputs": [
    {
     "name": "stdout",
     "output_type": "stream",
     "text": [
      "Good solutions are 29.4% of samples.\n",
      "Best Known solutions are 11.8% of samples.\n",
      "Lowest energy found: [-8.0]\n",
      "Average energy is -4.75 with standard deviation 3.43\n"
     ]
    }
   ],
   "source": [
    "analyze(sampleset_scaled2, \"scaled_chains2\", data)"
   ]
  },
  {
   "cell_type": "markdown",
   "metadata": {},
   "source": [
    "Chain strength that attempts to compensate for torque that would break the chain."
   ]
  },
  {
   "cell_type": "code",
   "execution_count": 43,
   "metadata": {},
   "outputs": [],
   "source": [
    "chnstr = uniform_torque_compensation"
   ]
  },
  {
   "cell_type": "code",
   "execution_count": 44,
   "metadata": {},
   "outputs": [],
   "source": [
    "#from dwave.embedding.chain_strength import uniform_torque_compensation\n",
    "sampleset_torque1 = FixedEmbeddingComposite(qpu, embedding).sample(bqm, \n",
    "                                                                   return_embedding=True, \n",
    "                                                                   answer_mode=\"raw\", \n",
    "                                                                   num_reads=numr, \n",
    "                                                                   chain_strength= chnstr)  \n"
   ]
  },
  {
   "cell_type": "code",
   "execution_count": 45,
   "metadata": {},
   "outputs": [
    {
     "name": "stdout",
     "output_type": "stream",
     "text": [
      "Good solutions are 67.0% of samples.\n",
      "Best Known solutions are 26.8% of samples.\n",
      "Lowest energy found: [-8.0]\n",
      "Average energy is -7.08 with standard deviation 1.46\n"
     ]
    }
   ],
   "source": [
    "analyze(sampleset_torque1, \"torque_chains1\", data)"
   ]
  },
  {
   "cell_type": "code",
   "execution_count": 46,
   "metadata": {},
   "outputs": [],
   "source": [
    "#from dwave.embedding.chain_strength import uniform_torque_compensation\n",
    "sampleset_torque2 = FixedEmbeddingComposite(qpu, embedding).sample(bqm, \n",
    "                                                                   return_embedding=True, \n",
    "                                                                   answer_mode=\"raw\", \n",
    "                                                                   num_reads=numr, \n",
    "                                                                   chain_strength= chnstr)  \n"
   ]
  },
  {
   "cell_type": "code",
   "execution_count": 47,
   "metadata": {},
   "outputs": [
    {
     "name": "stdout",
     "output_type": "stream",
     "text": [
      "Good solutions are 61.0% of samples.\n",
      "Best Known solutions are 19.6% of samples.\n",
      "Lowest energy found: [-8.0]\n",
      "Average energy is -6.86 with standard deviation 1.62\n"
     ]
    }
   ],
   "source": [
    "analyze(sampleset_torque2, \"torque_chains2\", data)"
   ]
  },
  {
   "cell_type": "markdown",
   "metadata": {},
   "source": [
    "## Run for different Times and Schedules"
   ]
  },
  {
   "cell_type": "code",
   "execution_count": 48,
   "metadata": {},
   "outputs": [],
   "source": [
    "# With optimal chain strengths:\n",
    "chnstr = "
   ]
  },
  {
   "cell_type": "markdown",
   "metadata": {},
   "source": [
    "https://docs.dwavesys.com/docs/latest/handbook_qpu.html?highlight=anneal_schedule#annealing-schedule\n",
    "\n",
    "https://docs.dwavesys.com/docs/latest/c_qpu_0.html?highlight=quench"
   ]
  },
  {
   "cell_type": "code",
   "execution_count": 49,
   "metadata": {},
   "outputs": [],
   "source": [
    "#qpu.properties[\"default_annealing_time\"]      \n",
    "# 20"
   ]
  },
  {
   "cell_type": "markdown",
   "metadata": {},
   "source": [
    "### Find Sweet Spot for Annealing Time"
   ]
  },
  {
   "cell_type": "code",
   "execution_count": 50,
   "metadata": {},
   "outputs": [],
   "source": [
    "#10\n",
    "sampleset_10 = FixedEmbeddingComposite(qpu, embedding).sample(bqm,\n",
    "                                                              return_embedding=True, \n",
    "                                                              answer_mode=\"raw\", \n",
    "                                                              num_reads=numr, \n",
    "                                                              chain_strength= chnstr,\n",
    "                                                              annealing_time=10)  \n"
   ]
  },
  {
   "cell_type": "code",
   "execution_count": 51,
   "metadata": {},
   "outputs": [
    {
     "name": "stdout",
     "output_type": "stream",
     "text": [
      "Good solutions are 63.8% of samples.\n",
      "Best Known solutions are 25.0% of samples.\n",
      "Lowest energy found: [-8.0]\n",
      "Average energy is -7.05 with standard deviation 1.34\n"
     ]
    }
   ],
   "source": [
    "analyze(sampleset_10, \"time_10\", data)"
   ]
  },
  {
   "cell_type": "code",
   "execution_count": 52,
   "metadata": {},
   "outputs": [],
   "source": [
    "#15\n",
    "sampleset_15 = FixedEmbeddingComposite(qpu, embedding).sample(bqm,\n",
    "                                                              return_embedding=True, \n",
    "                                                              answer_mode=\"raw\", \n",
    "                                                              num_reads=numr, \n",
    "                                                              chain_strength= chnstr,\n",
    "                                                              annealing_time=15)\n"
   ]
  },
  {
   "cell_type": "code",
   "execution_count": 53,
   "metadata": {},
   "outputs": [
    {
     "name": "stdout",
     "output_type": "stream",
     "text": [
      "Good solutions are 63.0% of samples.\n",
      "Best Known solutions are 27.6% of samples.\n",
      "Lowest energy found: [-8.0]\n",
      "Average energy is -7.03 with standard deviation 1.34\n"
     ]
    }
   ],
   "source": [
    "analyze(sampleset_15, \"time_15\", data)"
   ]
  },
  {
   "cell_type": "code",
   "execution_count": 54,
   "metadata": {},
   "outputs": [],
   "source": [
    "#20\n",
    "sampleset_20 = FixedEmbeddingComposite(qpu, embedding).sample(bqm,\n",
    "                                                              return_embedding=True, \n",
    "                                                              answer_mode=\"raw\", \n",
    "                                                              num_reads=numr, \n",
    "                                                              chain_strength= chnstr,\n",
    "                                                              annealing_time=20)"
   ]
  },
  {
   "cell_type": "code",
   "execution_count": 55,
   "metadata": {},
   "outputs": [
    {
     "name": "stdout",
     "output_type": "stream",
     "text": [
      "Good solutions are 70.2% of samples.\n",
      "Best Known solutions are 27.6% of samples.\n",
      "Lowest energy found: [-8.0]\n",
      "Average energy is -7.18 with standard deviation 1.32\n"
     ]
    }
   ],
   "source": [
    "analyze(sampleset_20, \"time_20\", data)"
   ]
  },
  {
   "cell_type": "code",
   "execution_count": 56,
   "metadata": {},
   "outputs": [],
   "source": [
    "#25\n",
    "sampleset_25 = FixedEmbeddingComposite(qpu, embedding).sample(bqm,\n",
    "                                                              return_embedding=True, \n",
    "                                                              answer_mode=\"raw\", \n",
    "                                                              num_reads=numr, \n",
    "                                                              chain_strength= chnstr,\n",
    "                                                              annealing_time=25)"
   ]
  },
  {
   "cell_type": "code",
   "execution_count": 57,
   "metadata": {},
   "outputs": [
    {
     "name": "stdout",
     "output_type": "stream",
     "text": [
      "Good solutions are 76.4% of samples.\n",
      "Best Known solutions are 28.0% of samples.\n",
      "Lowest energy found: [-8.0]\n",
      "Average energy is -7.37 with standard deviation 1.05\n"
     ]
    }
   ],
   "source": [
    "analyze(sampleset_25, \"time_25\", data)"
   ]
  },
  {
   "cell_type": "code",
   "execution_count": 58,
   "metadata": {},
   "outputs": [],
   "source": [
    "#30\n",
    "sampleset_30 = FixedEmbeddingComposite(qpu, embedding).sample(bqm,\n",
    "                                                              return_embedding=True, \n",
    "                                                              answer_mode=\"raw\", \n",
    "                                                              num_reads=numr, \n",
    "                                                              chain_strength= chnstr,\n",
    "                                                              annealing_time=30)"
   ]
  },
  {
   "cell_type": "code",
   "execution_count": 59,
   "metadata": {},
   "outputs": [
    {
     "name": "stdout",
     "output_type": "stream",
     "text": [
      "Good solutions are 69.0% of samples.\n",
      "Best Known solutions are 21.2% of samples.\n",
      "Lowest energy found: [-8.0]\n",
      "Average energy is -7.17 with standard deviation 1.23\n"
     ]
    }
   ],
   "source": [
    "analyze(sampleset_30, \"time_30\", data)"
   ]
  },
  {
   "cell_type": "markdown",
   "metadata": {},
   "source": [
    "### Find best Schedule"
   ]
  },
  {
   "cell_type": "markdown",
   "metadata": {},
   "source": [
    "### Pause and Quench"
   ]
  },
  {
   "cell_type": "markdown",
   "metadata": {},
   "source": [
    "<img src=\"https://docs.dwavesys.com/docs/latest/_images/16q-pause.png\" alt=\"drawing\" width=\"600\"/>"
   ]
  },
  {
   "cell_type": "markdown",
   "metadata": {},
   "source": [
    "First verify the quench schedule"
   ]
  },
  {
   "cell_type": "markdown",
   "metadata": {},
   "source": [
    "##### run with best chain setting twice"
   ]
  },
  {
   "cell_type": "code",
   "execution_count": 60,
   "metadata": {},
   "outputs": [],
   "source": [
    "quench_schedule = [[0.0, 0.0], [15.0, 0.4], [215.0, 0.4], [230, 1.0]]\n",
    "\n",
    "# [[t, s], [t_1, s_1], ..., [t_n, s_n]]\n",
    "# Time t must increase for all points in the schedule.\n",
    "# the anneal fraction s must start at s = 0.0 and end at s = 1.0"
   ]
  },
  {
   "cell_type": "code",
   "execution_count": 61,
   "metadata": {},
   "outputs": [],
   "source": [
    "sampleset_quench1 = FixedEmbeddingComposite(qpu, embedding).sample(bqm, \n",
    "                                                                  answer_mode=\"raw\", \n",
    "                                                                  num_reads=numr, \n",
    "                                                                  chain_strength= chnstr,\n",
    "                                                                  anneal_schedule=quench_schedule)  \n"
   ]
  },
  {
   "cell_type": "code",
   "execution_count": 62,
   "metadata": {},
   "outputs": [
    {
     "name": "stdout",
     "output_type": "stream",
     "text": [
      "Good solutions are 75.0% of samples.\n",
      "Best Known solutions are 30.2% of samples.\n",
      "Lowest energy found: [-8.0]\n",
      "Average energy is -7.37 with standard deviation 1.00\n"
     ]
    }
   ],
   "source": [
    "analyze(sampleset_quench1, \"quench_schedule1\", data)"
   ]
  },
  {
   "cell_type": "code",
   "execution_count": 63,
   "metadata": {},
   "outputs": [],
   "source": [
    "sampleset_quench2 = FixedEmbeddingComposite(qpu, embedding).sample(bqm, \n",
    "                                                                  answer_mode=\"raw\", \n",
    "                                                                  num_reads=numr, \n",
    "                                                                  chain_strength= chnstr,\n",
    "                                                                  anneal_schedule=quench_schedule)  \n"
   ]
  },
  {
   "cell_type": "code",
   "execution_count": 64,
   "metadata": {},
   "outputs": [
    {
     "name": "stdout",
     "output_type": "stream",
     "text": [
      "Good solutions are 77.6% of samples.\n",
      "Best Known solutions are 29.0% of samples.\n",
      "Lowest energy found: [-8.0]\n",
      "Average energy is -7.37 with standard deviation 1.21\n"
     ]
    }
   ],
   "source": [
    "analyze(sampleset_quench2, \"quench_schedule2\", data)"
   ]
  },
  {
   "cell_type": "markdown",
   "metadata": {},
   "source": [
    "### Reverse"
   ]
  },
  {
   "cell_type": "markdown",
   "metadata": {},
   "source": [
    "In brief, reverse annealing is a technique that makes it possible to refine known good local solutions, thereby increasing performance for certain applications."
   ]
  },
  {
   "cell_type": "markdown",
   "metadata": {},
   "source": [
    "There are three parameters you can use to configure reverse annealing using Ocean:\n",
    "\n",
    "1. `anneal_schedule` defines the annealing schedule that should be followed.\n",
    "2. `initial_state` specifies the classical state at which the reverse anneal should start.\n",
    "3. `reinitialize_state` specifies whether or not the initial state should be used for every anneal in the request.  If False, then after the first, each subsequent anneal starts where the previous finished."
   ]
  },
  {
   "cell_type": "markdown",
   "metadata": {},
   "source": [
    "<img src=\"https://docs.dwavesys.com/docs/latest/_images/ra.png\" alt=\"drawing\" width=\"600\"/>"
   ]
  },
  {
   "cell_type": "markdown",
   "metadata": {},
   "source": [
    "\n",
    "A Reverse schedule always starts at `s = 1.0`, and ours reverses quickly to `s = 0.45`, pauses for `100 μs`, then quickly anneals forward. The schedule is formatted as a list of  **[time, s]** pairs. The next cell plots the schedule."
   ]
  },
  {
   "cell_type": "code",
   "execution_count": 102,
   "metadata": {},
   "outputs": [
    {
     "name": "stdout",
     "output_type": "stream",
     "text": [
      "[[0.0, 1.0], [2.75, 0.45], [102.75, 0.45], [103.3, 1.0]]\n",
      "Total anneal-schedule time is 103.3 us\n"
     ]
    }
   ],
   "source": [
    "# [[t, s], [t_1, s_1], ..., [t_n, s_n]]\n",
    "# Time t must increase for all points in the schedule.\n",
    "# the anneal fraction s must start and end at s = 1.0\n",
    "max_slope = 1.0/qpu.properties[\"annealing_time_range\"][0]\n",
    "reverse_schedule = make_reverse_anneal_schedule(s_target=0.45, hold_time=100, ramp_up_slope=max_slope)\n",
    "time_total = reverse_schedule[3][0]\n",
    "\n",
    "print(reverse_schedule)\n",
    "print(\"Total anneal-schedule time is {} us\".format(time_total))"
   ]
  },
  {
   "cell_type": "code",
   "execution_count": 103,
   "metadata": {},
   "outputs": [
    {
     "data": {
      "image/png": "[encoded data removed]",
      "text/plain": [
       "<Figure size 216x216 with 1 Axes>"
      ]
     },
     "metadata": {
      "needs_background": "light"
     },
     "output_type": "display_data"
    }
   ],
   "source": [
    "make_anneal_plot(reverse_schedule)"
   ]
  },
  {
   "cell_type": "code",
   "execution_count": 95,
   "metadata": {},
   "outputs": [],
   "source": [
    "# Assign best Sampleset\n",
    "best_sampleset = "
   ]
  },
  {
   "cell_type": "code",
   "execution_count": 104,
   "metadata": {},
   "outputs": [],
   "source": [
    "\n",
    "i5 = int(5.0/95*len(best_sampleset))  # Index i5 is about a 5% indexial move from the sample of lowest energy\n",
    "\n",
    "initial = dict(zip(best_sampleset.variables, best_sampleset.record[i5].sample))\n",
    "reverse_anneal_params = dict(anneal_schedule=reverse_schedule, initial_state=initial, reinitialize_state=False)\n",
    "\n",
    "# The `reinitialize_state` parameter switches between two qualitatively different methods of local search \n",
    "# via quantum annealing.  With `reinitialize_state = 'True'`, many anneals are seeded from the single starting \n",
    "# state and the states returned, modulo time-dependent sources of error, are independently and identically \n",
    "# distributed.  With `reinitialize_state = 'False'`, the series of anneals behaves like a random walk and \n",
    "# is capable of exploring the solution space more broadly.  \n"
   ]
  },
  {
   "cell_type": "code",
   "execution_count": 105,
   "metadata": {},
   "outputs": [],
   "source": [
    "sampleset_reverse1 = FixedEmbeddingComposite(qpu, embedding).sample(bqm, \n",
    "                                                                   answer_mode=\"raw\", \n",
    "                                                                   num_reads=numr, \n",
    "                                                                   chain_strength= chnstr,\n",
    "                                                                   **reverse_anneal_params)  \n"
   ]
  },
  {
   "cell_type": "code",
   "execution_count": 106,
   "metadata": {},
   "outputs": [
    {
     "name": "stdout",
     "output_type": "stream",
     "text": [
      "Good solutions are 66.2% of samples.\n",
      "Best Known solutions are 28.4% of samples.\n",
      "Lowest energy found: [-8.0]\n",
      "Average energy is -7.08 with standard deviation 1.43\n"
     ]
    }
   ],
   "source": [
    "analyze(sampleset_reverse1, \"reverse_schedule1\", data)"
   ]
  },
  {
   "cell_type": "code",
   "execution_count": 107,
   "metadata": {},
   "outputs": [],
   "source": [
    "sampleset_reverse2 = FixedEmbeddingComposite(qpu, embedding).sample(bqm, \n",
    "                                                                   answer_mode=\"raw\", \n",
    "                                                                   num_reads=numr, \n",
    "                                                                   chain_strength= chnstr,\n",
    "                                                                   **reverse_anneal_params)  \n"
   ]
  },
  {
   "cell_type": "code",
   "execution_count": 108,
   "metadata": {},
   "outputs": [
    {
     "name": "stdout",
     "output_type": "stream",
     "text": [
      "Good solutions are 64.2% of samples.\n",
      "Best Known solutions are 28.4% of samples.\n",
      "Lowest energy found: [-8.0]\n",
      "Average energy is -7.00 with standard deviation 1.48\n"
     ]
    }
   ],
   "source": [
    "analyze(sampleset_reverse2, \"reverse_schedule2\", data)"
   ]
  },
  {
   "cell_type": "markdown",
   "metadata": {},
   "source": [
    "#### Make table of solutions:"
   ]
  },
  {
   "cell_type": "code",
   "execution_count": 109,
   "metadata": {},
   "outputs": [
    {
     "data": {
      "text/html": [
       "<div>\n",
       "<style scoped>\n",
       "    .dataframe tbody tr th:only-of-type {\n",
       "        vertical-align: middle;\n",
       "    }\n",
       "\n",
       "    .dataframe tbody tr th {\n",
       "        vertical-align: top;\n",
       "    }\n",
       "\n",
       "    .dataframe thead th {\n",
       "        text-align: right;\n",
       "    }\n",
       "</style>\n",
       "<table border=\"1\" class=\"dataframe\">\n",
       "  <thead>\n",
       "    <tr style=\"text-align: right;\">\n",
       "      <th></th>\n",
       "      <th>Label</th>\n",
       "      <th>Best Known Solutions (%)</th>\n",
       "      <th>Good Known Solutions (%)</th>\n",
       "      <th>Lowest Energy</th>\n",
       "      <th>Average Energy</th>\n",
       "      <th>Standard Deviation</th>\n",
       "    </tr>\n",
       "  </thead>\n",
       "  <tbody>\n",
       "    <tr>\n",
       "      <th>0</th>\n",
       "      <td>embedding1A</td>\n",
       "      <td>16.8</td>\n",
       "      <td>42.0</td>\n",
       "      <td>-8.0</td>\n",
       "      <td>-6.25495</td>\n",
       "      <td>1.895956</td>\n",
       "    </tr>\n",
       "    <tr>\n",
       "      <th>1</th>\n",
       "      <td>embedding1B</td>\n",
       "      <td>18.4</td>\n",
       "      <td>45.6</td>\n",
       "      <td>-8.0</td>\n",
       "      <td>-6.30209</td>\n",
       "      <td>2.097576</td>\n",
       "    </tr>\n",
       "    <tr>\n",
       "      <th>2</th>\n",
       "      <td>embedding2A</td>\n",
       "      <td>14.6</td>\n",
       "      <td>48.2</td>\n",
       "      <td>-8.0</td>\n",
       "      <td>-6.41688</td>\n",
       "      <td>1.880962</td>\n",
       "    </tr>\n",
       "    <tr>\n",
       "      <th>3</th>\n",
       "      <td>embedding2B</td>\n",
       "      <td>13.4</td>\n",
       "      <td>46.2</td>\n",
       "      <td>-8.0</td>\n",
       "      <td>-6.29079</td>\n",
       "      <td>2.004524</td>\n",
       "    </tr>\n",
       "    <tr>\n",
       "      <th>4</th>\n",
       "      <td>embedding3A</td>\n",
       "      <td>20.0</td>\n",
       "      <td>41.0</td>\n",
       "      <td>-8.0</td>\n",
       "      <td>-6.12991</td>\n",
       "      <td>2.086590</td>\n",
       "    </tr>\n",
       "    <tr>\n",
       "      <th>5</th>\n",
       "      <td>embedding3B</td>\n",
       "      <td>15.0</td>\n",
       "      <td>45.2</td>\n",
       "      <td>-8.0</td>\n",
       "      <td>-6.16972</td>\n",
       "      <td>2.220930</td>\n",
       "    </tr>\n",
       "    <tr>\n",
       "      <th>6</th>\n",
       "      <td>default_chains</td>\n",
       "      <td>14.2</td>\n",
       "      <td>39.8</td>\n",
       "      <td>-8.0</td>\n",
       "      <td>-5.66342</td>\n",
       "      <td>2.788737</td>\n",
       "    </tr>\n",
       "    <tr>\n",
       "      <th>7</th>\n",
       "      <td>scaled_chains1</td>\n",
       "      <td>19.4</td>\n",
       "      <td>37.0</td>\n",
       "      <td>-8.0</td>\n",
       "      <td>-5.50420</td>\n",
       "      <td>2.785000</td>\n",
       "    </tr>\n",
       "    <tr>\n",
       "      <th>8</th>\n",
       "      <td>scaled_chains2</td>\n",
       "      <td>11.8</td>\n",
       "      <td>29.4</td>\n",
       "      <td>-8.0</td>\n",
       "      <td>-4.75229</td>\n",
       "      <td>3.426431</td>\n",
       "    </tr>\n",
       "    <tr>\n",
       "      <th>9</th>\n",
       "      <td>torque_chains1</td>\n",
       "      <td>26.8</td>\n",
       "      <td>67.0</td>\n",
       "      <td>-8.0</td>\n",
       "      <td>-7.07897</td>\n",
       "      <td>1.460644</td>\n",
       "    </tr>\n",
       "    <tr>\n",
       "      <th>10</th>\n",
       "      <td>torque_chains2</td>\n",
       "      <td>19.6</td>\n",
       "      <td>61.0</td>\n",
       "      <td>-8.0</td>\n",
       "      <td>-6.86278</td>\n",
       "      <td>1.615659</td>\n",
       "    </tr>\n",
       "    <tr>\n",
       "      <th>11</th>\n",
       "      <td>time_10</td>\n",
       "      <td>25.0</td>\n",
       "      <td>63.8</td>\n",
       "      <td>-8.0</td>\n",
       "      <td>-7.05222</td>\n",
       "      <td>1.335391</td>\n",
       "    </tr>\n",
       "    <tr>\n",
       "      <th>12</th>\n",
       "      <td>time_15</td>\n",
       "      <td>27.6</td>\n",
       "      <td>63.0</td>\n",
       "      <td>-8.0</td>\n",
       "      <td>-7.03349</td>\n",
       "      <td>1.336075</td>\n",
       "    </tr>\n",
       "    <tr>\n",
       "      <th>13</th>\n",
       "      <td>time_20</td>\n",
       "      <td>27.6</td>\n",
       "      <td>70.2</td>\n",
       "      <td>-8.0</td>\n",
       "      <td>-7.17519</td>\n",
       "      <td>1.324289</td>\n",
       "    </tr>\n",
       "    <tr>\n",
       "      <th>14</th>\n",
       "      <td>time_25</td>\n",
       "      <td>28.0</td>\n",
       "      <td>76.4</td>\n",
       "      <td>-8.0</td>\n",
       "      <td>-7.37075</td>\n",
       "      <td>1.051214</td>\n",
       "    </tr>\n",
       "    <tr>\n",
       "      <th>15</th>\n",
       "      <td>time_30</td>\n",
       "      <td>21.2</td>\n",
       "      <td>69.0</td>\n",
       "      <td>-8.0</td>\n",
       "      <td>-7.17436</td>\n",
       "      <td>1.227513</td>\n",
       "    </tr>\n",
       "    <tr>\n",
       "      <th>16</th>\n",
       "      <td>quench_schedule1</td>\n",
       "      <td>30.2</td>\n",
       "      <td>75.0</td>\n",
       "      <td>-8.0</td>\n",
       "      <td>-7.36865</td>\n",
       "      <td>1.000947</td>\n",
       "    </tr>\n",
       "    <tr>\n",
       "      <th>17</th>\n",
       "      <td>quench_schedule2</td>\n",
       "      <td>29.0</td>\n",
       "      <td>77.6</td>\n",
       "      <td>-8.0</td>\n",
       "      <td>-7.36801</td>\n",
       "      <td>1.208566</td>\n",
       "    </tr>\n",
       "    <tr>\n",
       "      <th>18</th>\n",
       "      <td>reverse_schedule1</td>\n",
       "      <td>20.0</td>\n",
       "      <td>62.0</td>\n",
       "      <td>-8.0</td>\n",
       "      <td>-6.93162</td>\n",
       "      <td>1.515494</td>\n",
       "    </tr>\n",
       "    <tr>\n",
       "      <th>19</th>\n",
       "      <td>reverse_schedule2</td>\n",
       "      <td>25.2</td>\n",
       "      <td>62.6</td>\n",
       "      <td>-8.0</td>\n",
       "      <td>-6.93496</td>\n",
       "      <td>1.568667</td>\n",
       "    </tr>\n",
       "    <tr>\n",
       "      <th>20</th>\n",
       "      <td>reverse_schedule1</td>\n",
       "      <td>28.0</td>\n",
       "      <td>68.6</td>\n",
       "      <td>-8.0</td>\n",
       "      <td>-7.15454</td>\n",
       "      <td>1.296501</td>\n",
       "    </tr>\n",
       "    <tr>\n",
       "      <th>21</th>\n",
       "      <td>reverse_schedule2</td>\n",
       "      <td>30.2</td>\n",
       "      <td>72.2</td>\n",
       "      <td>-8.0</td>\n",
       "      <td>-7.18000</td>\n",
       "      <td>1.435989</td>\n",
       "    </tr>\n",
       "    <tr>\n",
       "      <th>22</th>\n",
       "      <td>reverse_schedule1</td>\n",
       "      <td>20.2</td>\n",
       "      <td>67.6</td>\n",
       "      <td>-8.0</td>\n",
       "      <td>-7.08889</td>\n",
       "      <td>1.360260</td>\n",
       "    </tr>\n",
       "    <tr>\n",
       "      <th>23</th>\n",
       "      <td>reverse_schedule2</td>\n",
       "      <td>28.0</td>\n",
       "      <td>67.2</td>\n",
       "      <td>-8.0</td>\n",
       "      <td>-7.07495</td>\n",
       "      <td>1.465269</td>\n",
       "    </tr>\n",
       "    <tr>\n",
       "      <th>24</th>\n",
       "      <td>reverse_schedule1</td>\n",
       "      <td>22.4</td>\n",
       "      <td>70.0</td>\n",
       "      <td>-8.0</td>\n",
       "      <td>-7.21371</td>\n",
       "      <td>1.248391</td>\n",
       "    </tr>\n",
       "    <tr>\n",
       "      <th>25</th>\n",
       "      <td>reverse_schedule2</td>\n",
       "      <td>23.6</td>\n",
       "      <td>72.0</td>\n",
       "      <td>-8.0</td>\n",
       "      <td>-7.24845</td>\n",
       "      <td>1.186821</td>\n",
       "    </tr>\n",
       "    <tr>\n",
       "      <th>26</th>\n",
       "      <td>reverse_schedule1</td>\n",
       "      <td>28.4</td>\n",
       "      <td>66.2</td>\n",
       "      <td>-8.0</td>\n",
       "      <td>-7.07852</td>\n",
       "      <td>1.426222</td>\n",
       "    </tr>\n",
       "    <tr>\n",
       "      <th>27</th>\n",
       "      <td>reverse_schedule2</td>\n",
       "      <td>28.4</td>\n",
       "      <td>64.2</td>\n",
       "      <td>-8.0</td>\n",
       "      <td>-7.00440</td>\n",
       "      <td>1.482614</td>\n",
       "    </tr>\n",
       "  </tbody>\n",
       "</table>\n",
       "</div>"
      ],
      "text/plain": [
       "                Label  Best Known Solutions (%)  Good Known Solutions (%)  \\\n",
       "0         embedding1A                      16.8                      42.0   \n",
       "1         embedding1B                      18.4                      45.6   \n",
       "2         embedding2A                      14.6                      48.2   \n",
       "3         embedding2B                      13.4                      46.2   \n",
       "4         embedding3A                      20.0                      41.0   \n",
       "5         embedding3B                      15.0                      45.2   \n",
       "6      default_chains                      14.2                      39.8   \n",
       "7      scaled_chains1                      19.4                      37.0   \n",
       "8      scaled_chains2                      11.8                      29.4   \n",
       "9      torque_chains1                      26.8                      67.0   \n",
       "10     torque_chains2                      19.6                      61.0   \n",
       "11            time_10                      25.0                      63.8   \n",
       "12            time_15                      27.6                      63.0   \n",
       "13            time_20                      27.6                      70.2   \n",
       "14            time_25                      28.0                      76.4   \n",
       "15            time_30                      21.2                      69.0   \n",
       "16   quench_schedule1                      30.2                      75.0   \n",
       "17   quench_schedule2                      29.0                      77.6   \n",
       "18  reverse_schedule1                      20.0                      62.0   \n",
       "19  reverse_schedule2                      25.2                      62.6   \n",
       "20  reverse_schedule1                      28.0                      68.6   \n",
       "21  reverse_schedule2                      30.2                      72.2   \n",
       "22  reverse_schedule1                      20.2                      67.6   \n",
       "23  reverse_schedule2                      28.0                      67.2   \n",
       "24  reverse_schedule1                      22.4                      70.0   \n",
       "25  reverse_schedule2                      23.6                      72.0   \n",
       "26  reverse_schedule1                      28.4                      66.2   \n",
       "27  reverse_schedule2                      28.4                      64.2   \n",
       "\n",
       "    Lowest Energy  Average Energy  Standard Deviation  \n",
       "0            -8.0        -6.25495            1.895956  \n",
       "1            -8.0        -6.30209            2.097576  \n",
       "2            -8.0        -6.41688            1.880962  \n",
       "3            -8.0        -6.29079            2.004524  \n",
       "4            -8.0        -6.12991            2.086590  \n",
       "5            -8.0        -6.16972            2.220930  \n",
       "6            -8.0        -5.66342            2.788737  \n",
       "7            -8.0        -5.50420            2.785000  \n",
       "8            -8.0        -4.75229            3.426431  \n",
       "9            -8.0        -7.07897            1.460644  \n",
       "10           -8.0        -6.86278            1.615659  \n",
       "11           -8.0        -7.05222            1.335391  \n",
       "12           -8.0        -7.03349            1.336075  \n",
       "13           -8.0        -7.17519            1.324289  \n",
       "14           -8.0        -7.37075            1.051214  \n",
       "15           -8.0        -7.17436            1.227513  \n",
       "16           -8.0        -7.36865            1.000947  \n",
       "17           -8.0        -7.36801            1.208566  \n",
       "18           -8.0        -6.93162            1.515494  \n",
       "19           -8.0        -6.93496            1.568667  \n",
       "20           -8.0        -7.15454            1.296501  \n",
       "21           -8.0        -7.18000            1.435989  \n",
       "22           -8.0        -7.08889            1.360260  \n",
       "23           -8.0        -7.07495            1.465269  \n",
       "24           -8.0        -7.21371            1.248391  \n",
       "25           -8.0        -7.24845            1.186821  \n",
       "26           -8.0        -7.07852            1.426222  \n",
       "27           -8.0        -7.00440            1.482614  "
      ]
     },
     "execution_count": 109,
     "metadata": {},
     "output_type": "execute_result"
    }
   ],
   "source": [
    "df = pd.DataFrame(data, columns=[\"Label\", \"Best Known Solutions (%)\", \"Good Known Solutions (%)\", \"Lowest Energy\", \"Average Energy\", \"Standard Deviation\"])\n",
    "df"
   ]
  },
  {
   "cell_type": "code",
   "execution_count": null,
   "metadata": {},
   "outputs": [],
   "source": []
  }
 ],
 "metadata": {
  "kernelspec": {
   "display_name": "Python 3",
   "language": "python",
   "name": "python3"
  },
  "language_info": {
   "codemirror_mode": {
    "name": "ipython",
    "version": 3
   },
   "file_extension": ".py",
   "mimetype": "text/x-python",
   "name": "python",
   "nbconvert_exporter": "python",
   "pygments_lexer": "ipython3",
   "version": "3.8.3"
  }
 },
 "nbformat": 4,
 "nbformat_minor": 4
}
