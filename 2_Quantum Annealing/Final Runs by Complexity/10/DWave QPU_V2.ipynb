{
 "cells": [
  {
   "cell_type": "markdown",
   "metadata": {},
   "source": [
    "# Approach"
   ]
  },
  {
   "cell_type": "markdown",
   "metadata": {},
   "source": [
    "1. > compare Embeddings (```minorminer```) and choose the best\n",
    "1. > compare Chain Settings and choose the best\n",
    "1. > compare Anneal Times and choose the best\n",
    "1. > compare Anneal Schedules and choose the best"
   ]
  },
  {
   "cell_type": "markdown",
   "metadata": {},
   "source": [
    "## QUBO"
   ]
  },
  {
   "cell_type": "markdown",
   "metadata": {},
   "source": [
    "### Imports"
   ]
  },
  {
   "cell_type": "code",
   "execution_count": 2,
   "metadata": {},
   "outputs": [],
   "source": [
    "import sys\n",
    "sys.path.append(\"..\")\n",
    "from qubo_util import *\n",
    "\n",
    "import dimod\n",
    "import numpy as np\n",
    "import pandas as pd\n",
    "import networkx as nx\n",
    "import minorminer\n",
    "import dwave.inspector\n",
    "import matplotlib.pyplot as plt\n",
    "from dwave.system.samplers import DWaveSampler\n",
    "from dwave.embedding.chain_strength import scaled, uniform_torque_compensation\n",
    "from dwave.system import DWaveSampler, FixedEmbeddingComposite, EmbeddingComposite"
   ]
  },
  {
   "cell_type": "markdown",
   "metadata": {},
   "source": [
    "### Config"
   ]
  },
  {
   "cell_type": "code",
   "execution_count": 3,
   "metadata": {},
   "outputs": [],
   "source": [
    "from dwave.cloud import Client\n",
    "client = Client.from_config(config_file='/Users/jonas/Library/Application Support/dwave/dwave.conf')"
   ]
  },
  {
   "cell_type": "markdown",
   "metadata": {},
   "source": [
    "### Jobs"
   ]
  },
  {
   "cell_type": "code",
   "execution_count": 4,
   "metadata": {},
   "outputs": [],
   "source": [
    "### Lets define the basics\n",
    "\n",
    "bend = [0, 1, 2]\n",
    "weld = [3, 4]\n",
    "paint =  [5]\n",
    "\n",
    "bend_length = 2\n",
    "weld_length = 3\n",
    "paint_length = 6\n",
    "\n",
    "t_step = 3\n",
    "t_step_in_sec = 30"
   ]
  },
  {
   "cell_type": "code",
   "execution_count": 5,
   "metadata": {},
   "outputs": [],
   "source": [
    "jobs = [(0, 0, 1, 2, 1, 3),\n",
    " (1, 0, 0, 2, 0, 1)]"
   ]
  },
  {
   "cell_type": "code",
   "execution_count": 6,
   "metadata": {},
   "outputs": [
    {
     "name": "stdout",
     "output_type": "stream",
     "text": [
      "The maximal maketime for the given operations is: 420 second(s).\n",
      "Which is equal to: 14 time steps.\n",
      "\n",
      "\n"
     ]
    }
   ],
   "source": [
    "# OrderNo, PartNo, BendingLines, WeldingPoints, PaintTime, DueDate \n",
    "\n",
    "m_t_steps = max_time(jobs, bend_length, weld_length, paint_length)\n",
    "\n",
    "m_time = m_t_steps * t_step_in_sec\n",
    "    \n",
    "print('The maximal maketime for the given operations is: ' + str(m_time) + ' second(s).\\nWhich is equal to: ' + str(m_t_steps) + ' time steps.\\n\\n')"
   ]
  },
  {
   "cell_type": "code",
   "execution_count": 7,
   "metadata": {},
   "outputs": [
    {
     "name": "stdout",
     "output_type": "stream",
     "text": [
      "Anzahl an Kombinationen: 12\n",
      "\n"
     ]
    }
   ],
   "source": [
    "operations = ops(jobs, bend, weld, paint, bend_length, weld_length, paint_length, t_step)\n",
    "\n",
    "print('Anzahl an Kombinationen: ' + str(len(operations)) + '\\n')"
   ]
  },
  {
   "cell_type": "markdown",
   "metadata": {},
   "source": [
    "### Parameters"
   ]
  },
  {
   "cell_type": "code",
   "execution_count": 8,
   "metadata": {},
   "outputs": [],
   "source": [
    "alpha = 2\n",
    "beta = 1.5\n",
    "gamma = 2\n",
    "delta = 0.035\n",
    "\n",
    "QUBO = get_QUBO(jobs, operations, alpha, beta, gamma, delta, bend_length, weld_length, paint_length, bend, weld, paint)\n",
    "qubo_dictionary = qubo_to_dictionary_ohne_null(QUBO, operations)\n"
   ]
  },
  {
   "cell_type": "code",
   "execution_count": 11,
   "metadata": {},
   "outputs": [
    {
     "data": {
      "image/png": "[encoded data removed]",
      "text/plain": [
       "<Figure size 432x288 with 1 Axes>"
      ]
     },
     "metadata": {},
     "output_type": "display_data"
    }
   ],
   "source": [
    "graph_QUBO = qubo_to_nx_graph(qubo_dictionary)\n",
    "nx.draw(graph_QUBO, with_labels=True)"
   ]
  },
  {
   "cell_type": "markdown",
   "metadata": {},
   "source": [
    "# Run"
   ]
  },
  {
   "cell_type": "markdown",
   "metadata": {},
   "source": [
    "## Get Embedding with ```  minorminer  ``` as part of EmbeddingComposite() and safe it"
   ]
  },
  {
   "cell_type": "markdown",
   "metadata": {},
   "source": [
    "https://docs.dwavesys.com/docs/latest/handbook_embedding.html#example-clique-embedding-a-sparse-bqm\n",
    "\n",
    "https://docs.dwavesys.com/docs/latest/handbook_qpu.html?highlight=sampleset_1#read-anneal-cycles"
   ]
  },
  {
   "cell_type": "code",
   "execution_count": 12,
   "metadata": {},
   "outputs": [],
   "source": [
    "bqm = dimod.BinaryQuadraticModel.from_numpy_matrix(QUBO)\n",
    "qpu = DWaveSampler(solver={'topology__type': 'pegasus'})"
   ]
  },
  {
   "cell_type": "code",
   "execution_count": 13,
   "metadata": {},
   "outputs": [],
   "source": [
    "# Each run with 500 shots (more runs with less shots yield better results than less runs with more shots)\n",
    "numr = 500\n",
    "\n",
    "# Chain Strength = Max(QUBO) // Analog zur D Wave Dokumentation\n",
    "\n",
    "chnstr = uniform_torque_compensation\n",
    "\n",
    "# Empty array\n",
    "data=[]"
   ]
  },
  {
   "cell_type": "markdown",
   "metadata": {},
   "source": [
    "### And Visualize embedding,  check for Chain Breaks and run inspection with ```dwave.inspector.```"
   ]
  },
  {
   "cell_type": "markdown",
   "metadata": {},
   "source": [
    "#### First Embedding"
   ]
  },
  {
   "cell_type": "code",
   "execution_count": 14,
   "metadata": {},
   "outputs": [],
   "source": [
    "solver_graph = qpu.to_networkx_graph()"
   ]
  },
  {
   "cell_type": "code",
   "execution_count": 15,
   "metadata": {},
   "outputs": [],
   "source": [
    "embedding = minorminer.find_embedding(qubo_dictionary, solver_graph)\n"
   ]
  },
  {
   "cell_type": "code",
   "execution_count": 17,
   "metadata": {},
   "outputs": [],
   "source": [
    "sampleset1A = FixedEmbeddingComposite(qpu, embedding).sample(bqm, \n",
    "                                                                   return_embedding=True, \n",
    "                                                                   answer_mode=\"raw\", \n",
    "                                                                   num_reads=numr, \n",
    "                                                                   chain_strength= chnstr)"
   ]
  },
  {
   "cell_type": "code",
   "execution_count": 18,
   "metadata": {},
   "outputs": [
    {
     "name": "stdout",
     "output_type": "stream",
     "text": [
      "Good solutions are 71.4% of samples.\n",
      "Best Known solutions are 27.6% of samples.\n",
      "Lowest energy found: [-8.0]\n",
      "Average energy is -7.26 with standard deviation 1.13\n"
     ]
    }
   ],
   "source": [
    "analyze(sampleset1A, \"embedding1A\", data)"
   ]
  },
  {
   "cell_type": "code",
   "execution_count": 19,
   "metadata": {},
   "outputs": [],
   "source": [
    "sampleset1B = FixedEmbeddingComposite(qpu, embedding).sample(bqm, \n",
    "                                                                   return_embedding=True, \n",
    "                                                                   answer_mode=\"raw\", \n",
    "                                                                   num_reads=numr, \n",
    "                                                                   chain_strength= chnstr)"
   ]
  },
  {
   "cell_type": "code",
   "execution_count": 20,
   "metadata": {},
   "outputs": [
    {
     "name": "stdout",
     "output_type": "stream",
     "text": [
      "Good solutions are 70.6% of samples.\n",
      "Best Known solutions are 17.6% of samples.\n",
      "Lowest energy found: [-8.0]\n",
      "Average energy is -7.19 with standard deviation 1.25\n"
     ]
    }
   ],
   "source": [
    "analyze(sampleset1B, \"embedding1B\", data)"
   ]
  },
  {
   "cell_type": "code",
   "execution_count": 21,
   "metadata": {},
   "outputs": [
    {
     "name": "stdout",
     "output_type": "stream",
     "text": [
      "5.081882689187804\n"
     ]
    }
   ],
   "source": [
    "print(sampleset1A.info[\"embedding_context\"][\"chain_strength\"])    "
   ]
  },
  {
   "cell_type": "code",
   "execution_count": 23,
   "metadata": {},
   "outputs": [
    {
     "name": "stdout",
     "output_type": "stream",
     "text": [
      "Percentage of samples with >10% breaks is 0.0 and >0 is 0.0.\n"
     ]
    }
   ],
   "source": [
    "print(\"Percentage of samples with >10% breaks is {} and >0 is {}.\".format(np.count_nonzero(sampleset1A.record.chain_break_fraction > 0.10)/numr*100, np.count_nonzero(sampleset1A.record.chain_break_fraction > 0.0)/numr*100))\n"
   ]
  },
  {
   "cell_type": "code",
   "execution_count": null,
   "metadata": {},
   "outputs": [],
   "source": [
    "# Inspect Embedding\n",
    "dwave.inspector.show(sampleset1A)"
   ]
  },
  {
   "cell_type": "markdown",
   "metadata": {},
   "source": [
    "#### Second Embedding"
   ]
  },
  {
   "cell_type": "code",
   "execution_count": 24,
   "metadata": {},
   "outputs": [],
   "source": [
    "solver_graph = qpu.to_networkx_graph()"
   ]
  },
  {
   "cell_type": "code",
   "execution_count": 25,
   "metadata": {},
   "outputs": [],
   "source": [
    "embedding2 = minorminer.find_embedding(qubo_dictionary, solver_graph)\n"
   ]
  },
  {
   "cell_type": "code",
   "execution_count": 26,
   "metadata": {},
   "outputs": [],
   "source": [
    "sampleset2A = FixedEmbeddingComposite(qpu, embedding2).sample(bqm, \n",
    "                                                                   return_embedding=True, \n",
    "                                                                   answer_mode=\"raw\", \n",
    "                                                                   num_reads=numr, \n",
    "                                                                   chain_strength= chnstr)"
   ]
  },
  {
   "cell_type": "code",
   "execution_count": 27,
   "metadata": {},
   "outputs": [
    {
     "name": "stdout",
     "output_type": "stream",
     "text": [
      "Good solutions are 72.6% of samples.\n",
      "Best Known solutions are 28.2% of samples.\n",
      "Lowest energy found: [-8.0]\n",
      "Average energy is -7.30 with standard deviation 1.08\n"
     ]
    }
   ],
   "source": [
    "analyze(sampleset2A, \"embedding2A\", data)"
   ]
  },
  {
   "cell_type": "code",
   "execution_count": 28,
   "metadata": {},
   "outputs": [],
   "source": [
    "sampleset2B = FixedEmbeddingComposite(qpu, embedding2).sample(bqm, \n",
    "                                                                   return_embedding=True, \n",
    "                                                                   answer_mode=\"raw\", \n",
    "                                                                   num_reads=numr, \n",
    "                                                                   chain_strength= chnstr)"
   ]
  },
  {
   "cell_type": "code",
   "execution_count": 29,
   "metadata": {},
   "outputs": [
    {
     "name": "stdout",
     "output_type": "stream",
     "text": [
      "Good solutions are 73.8% of samples.\n",
      "Best Known solutions are 35.8% of samples.\n",
      "Lowest energy found: [-8.0]\n",
      "Average energy is -7.33 with standard deviation 1.06\n"
     ]
    }
   ],
   "source": [
    "analyze(sampleset2B, \"embedding2B\", data)"
   ]
  },
  {
   "cell_type": "code",
   "execution_count": 30,
   "metadata": {},
   "outputs": [
    {
     "name": "stdout",
     "output_type": "stream",
     "text": [
      "5.081882689187804\n"
     ]
    }
   ],
   "source": [
    "\n",
    "print(sampleset2A.info[\"embedding_context\"][\"chain_strength\"])    "
   ]
  },
  {
   "cell_type": "code",
   "execution_count": 32,
   "metadata": {},
   "outputs": [
    {
     "name": "stdout",
     "output_type": "stream",
     "text": [
      "Percentage of samples with >10% breaks is 0.0 and >0 is 0.0.\n"
     ]
    }
   ],
   "source": [
    "print(\"Percentage of samples with >10% breaks is {} and >0 is {}.\".format(np.count_nonzero(sampleset2A.record.chain_break_fraction > 0.10)/numr*100, np.count_nonzero(sampleset2A.record.chain_break_fraction > 0.0)/numr*100))\n"
   ]
  },
  {
   "cell_type": "code",
   "execution_count": null,
   "metadata": {},
   "outputs": [],
   "source": [
    "# Inspect Embedding\n",
    "dwave.inspector.show(sampleset2A) "
   ]
  },
  {
   "cell_type": "markdown",
   "metadata": {},
   "source": [
    "## Run for different Times and Schedules"
   ]
  },
  {
   "cell_type": "markdown",
   "metadata": {},
   "source": [
    "https://docs.dwavesys.com/docs/latest/handbook_qpu.html?highlight=anneal_schedule#annealing-schedule\n",
    "\n",
    "https://docs.dwavesys.com/docs/latest/c_qpu_0.html?highlight=quench"
   ]
  },
  {
   "cell_type": "code",
   "execution_count": null,
   "metadata": {},
   "outputs": [],
   "source": [
    "#qpu.properties[\"default_annealing_time\"]      \n",
    "# 20"
   ]
  },
  {
   "cell_type": "markdown",
   "metadata": {},
   "source": [
    "### Find Sweet Spot for Annealing Time"
   ]
  },
  {
   "cell_type": "code",
   "execution_count": 33,
   "metadata": {},
   "outputs": [],
   "source": [
    "#10\n",
    "sampleset_10 = FixedEmbeddingComposite(qpu, embedding).sample(bqm,\n",
    "                                                              return_embedding=True, \n",
    "                                                              answer_mode=\"raw\", \n",
    "                                                              num_reads=numr, \n",
    "                                                              chain_strength= chnstr,\n",
    "                                                              annealing_time=10)  \n"
   ]
  },
  {
   "cell_type": "code",
   "execution_count": 34,
   "metadata": {},
   "outputs": [
    {
     "name": "stdout",
     "output_type": "stream",
     "text": [
      "Good solutions are 66.0% of samples.\n",
      "Best Known solutions are 30.0% of samples.\n",
      "Lowest energy found: [-8.0]\n",
      "Average energy is -7.09 with standard deviation 1.35\n"
     ]
    }
   ],
   "source": [
    "analyze(sampleset_10, \"time_10\", data)"
   ]
  },
  {
   "cell_type": "code",
   "execution_count": 35,
   "metadata": {},
   "outputs": [],
   "source": [
    "#15\n",
    "sampleset_15 = FixedEmbeddingComposite(qpu, embedding).sample(bqm,\n",
    "                                                              return_embedding=True, \n",
    "                                                              answer_mode=\"raw\", \n",
    "                                                              num_reads=numr, \n",
    "                                                              chain_strength= chnstr,\n",
    "                                                              annealing_time=15)\n"
   ]
  },
  {
   "cell_type": "code",
   "execution_count": 36,
   "metadata": {},
   "outputs": [
    {
     "name": "stdout",
     "output_type": "stream",
     "text": [
      "Good solutions are 75.8% of samples.\n",
      "Best Known solutions are 34.4% of samples.\n",
      "Lowest energy found: [-8.0]\n",
      "Average energy is -7.36 with standard deviation 1.08\n"
     ]
    }
   ],
   "source": [
    "analyze(sampleset_15, \"time_15\", data)"
   ]
  },
  {
   "cell_type": "code",
   "execution_count": 37,
   "metadata": {},
   "outputs": [],
   "source": [
    "#20\n",
    "sampleset_20 = FixedEmbeddingComposite(qpu, embedding).sample(bqm,\n",
    "                                                              return_embedding=True, \n",
    "                                                              answer_mode=\"raw\", \n",
    "                                                              num_reads=numr, \n",
    "                                                              chain_strength= chnstr,\n",
    "                                                              annealing_time=20)"
   ]
  },
  {
   "cell_type": "code",
   "execution_count": 38,
   "metadata": {},
   "outputs": [
    {
     "name": "stdout",
     "output_type": "stream",
     "text": [
      "Good solutions are 68.0% of samples.\n",
      "Best Known solutions are 30.6% of samples.\n",
      "Lowest energy found: [-8.0]\n",
      "Average energy is -7.16 with standard deviation 1.26\n"
     ]
    }
   ],
   "source": [
    "analyze(sampleset_20, \"time_20\", data)"
   ]
  },
  {
   "cell_type": "code",
   "execution_count": 39,
   "metadata": {},
   "outputs": [],
   "source": [
    "#25\n",
    "sampleset_25 = FixedEmbeddingComposite(qpu, embedding).sample(bqm,\n",
    "                                                              return_embedding=True, \n",
    "                                                              answer_mode=\"raw\", \n",
    "                                                              num_reads=numr, \n",
    "                                                              chain_strength= chnstr,\n",
    "                                                              annealing_time=25)"
   ]
  },
  {
   "cell_type": "code",
   "execution_count": 40,
   "metadata": {},
   "outputs": [
    {
     "name": "stdout",
     "output_type": "stream",
     "text": [
      "Good solutions are 76.8% of samples.\n",
      "Best Known solutions are 37.8% of samples.\n",
      "Lowest energy found: [-8.0]\n",
      "Average energy is -7.40 with standard deviation 1.04\n"
     ]
    }
   ],
   "source": [
    "analyze(sampleset_25, \"time_25\", data)"
   ]
  },
  {
   "cell_type": "code",
   "execution_count": 41,
   "metadata": {},
   "outputs": [],
   "source": [
    "#30\n",
    "sampleset_30 = FixedEmbeddingComposite(qpu, embedding).sample(bqm,\n",
    "                                                              return_embedding=True, \n",
    "                                                              answer_mode=\"raw\", \n",
    "                                                              num_reads=numr, \n",
    "                                                              chain_strength= chnstr,\n",
    "                                                              annealing_time=30)"
   ]
  },
  {
   "cell_type": "code",
   "execution_count": 42,
   "metadata": {},
   "outputs": [
    {
     "name": "stdout",
     "output_type": "stream",
     "text": [
      "Good solutions are 72.2% of samples.\n",
      "Best Known solutions are 35.2% of samples.\n",
      "Lowest energy found: [-8.0]\n",
      "Average energy is -7.26 with standard deviation 1.21\n"
     ]
    }
   ],
   "source": [
    "analyze(sampleset_30, \"time_30\", data)"
   ]
  },
  {
   "cell_type": "markdown",
   "metadata": {},
   "source": [
    "### Find best Schedule"
   ]
  },
  {
   "cell_type": "markdown",
   "metadata": {},
   "source": [
    "### Pause and Quench"
   ]
  },
  {
   "cell_type": "markdown",
   "metadata": {},
   "source": [
    "<img src=\"https://docs.dwavesys.com/docs/latest/_images/16q-pause.png\" alt=\"drawing\" width=\"600\"/>"
   ]
  },
  {
   "cell_type": "markdown",
   "metadata": {},
   "source": [
    "First verify the quench schedule"
   ]
  },
  {
   "cell_type": "markdown",
   "metadata": {},
   "source": [
    "##### Random Walk"
   ]
  },
  {
   "cell_type": "code",
   "execution_count": 45,
   "metadata": {},
   "outputs": [],
   "source": [
    "anneal_time=[10.0, 20.0, 50.0]\n",
    "quench_slopes=[1.0, 0.5, 0.25]\n",
    "\n",
    "# start times\n",
    "num_points=5\n",
    "s_low=0.2\n",
    "s_high=0.9\n",
    "quench_start=np.linspace(s_low, s_high, num=num_points)\n",
    "\n",
    "success_prob = pd.DataFrame(index=range(len(anneal_time)*len(quench_slopes)*len(quench_start)),\n",
    "                                columns=[\"anneal_time\", \"quench_slope\", \"s_feature\", \"success_frac\"],\n",
    "                                data=None)\n",
    "counter=0\n",
    "\n",
    "for anneal in anneal_time:\n",
    "    for quench in quench_slopes:\n",
    "        for start in quench_start:\n",
    "            schedule=[[0.0,0.0],[start*anneal,start],[(1-start+quench*start*anneal)/quench, 1.0]]\n",
    "            results = FixedEmbeddingComposite(qpu, embedding).sample(bqm,\n",
    "                                                              return_embedding=True, \n",
    "                                                              answer_mode=\"raw\", \n",
    "                                                              num_reads=numr,\n",
    "                                                              label='Notebook - Anneal Schedule',\n",
    "                                                              chain_strength= chnstr,\n",
    "                                                              anneal_schedule=schedule,)\n",
    "            \n",
    "            success_prob.iloc[counter]={\"anneal_time\":anneal, \n",
    "                                        \"quench_slope\":quench, \n",
    "                                        \"s_feature\":start,\n",
    "                                        \"success_frac\":np.count_nonzero(results.record.energy == -8.0)/numr}\n",
    "            counter+=1"
   ]
  },
  {
   "cell_type": "code",
   "execution_count": 46,
   "metadata": {
    "scrolled": false
   },
   "outputs": [
    {
     "data": {
      "text/html": [
       "<div>\n",
       "<style scoped>\n",
       "    .dataframe tbody tr th:only-of-type {\n",
       "        vertical-align: middle;\n",
       "    }\n",
       "\n",
       "    .dataframe tbody tr th {\n",
       "        vertical-align: top;\n",
       "    }\n",
       "\n",
       "    .dataframe thead th {\n",
       "        text-align: right;\n",
       "    }\n",
       "</style>\n",
       "<table border=\"1\" class=\"dataframe\">\n",
       "  <thead>\n",
       "    <tr style=\"text-align: right;\">\n",
       "      <th></th>\n",
       "      <th>anneal_time</th>\n",
       "      <th>quench_slope</th>\n",
       "      <th>s_feature</th>\n",
       "      <th>success_frac</th>\n",
       "    </tr>\n",
       "  </thead>\n",
       "  <tbody>\n",
       "    <tr>\n",
       "      <th>0</th>\n",
       "      <td>10</td>\n",
       "      <td>1</td>\n",
       "      <td>0.2</td>\n",
       "      <td>0.23</td>\n",
       "    </tr>\n",
       "    <tr>\n",
       "      <th>1</th>\n",
       "      <td>10</td>\n",
       "      <td>1</td>\n",
       "      <td>0.375</td>\n",
       "      <td>0.282</td>\n",
       "    </tr>\n",
       "    <tr>\n",
       "      <th>2</th>\n",
       "      <td>10</td>\n",
       "      <td>1</td>\n",
       "      <td>0.55</td>\n",
       "      <td>0.218</td>\n",
       "    </tr>\n",
       "    <tr>\n",
       "      <th>3</th>\n",
       "      <td>10</td>\n",
       "      <td>1</td>\n",
       "      <td>0.725</td>\n",
       "      <td>0.292</td>\n",
       "    </tr>\n",
       "    <tr>\n",
       "      <th>4</th>\n",
       "      <td>10</td>\n",
       "      <td>1</td>\n",
       "      <td>0.9</td>\n",
       "      <td>0.232</td>\n",
       "    </tr>\n",
       "    <tr>\n",
       "      <th>5</th>\n",
       "      <td>10</td>\n",
       "      <td>0.5</td>\n",
       "      <td>0.2</td>\n",
       "      <td>0.29</td>\n",
       "    </tr>\n",
       "    <tr>\n",
       "      <th>6</th>\n",
       "      <td>10</td>\n",
       "      <td>0.5</td>\n",
       "      <td>0.375</td>\n",
       "      <td>0.196</td>\n",
       "    </tr>\n",
       "    <tr>\n",
       "      <th>7</th>\n",
       "      <td>10</td>\n",
       "      <td>0.5</td>\n",
       "      <td>0.55</td>\n",
       "      <td>0.196</td>\n",
       "    </tr>\n",
       "    <tr>\n",
       "      <th>8</th>\n",
       "      <td>10</td>\n",
       "      <td>0.5</td>\n",
       "      <td>0.725</td>\n",
       "      <td>0.302</td>\n",
       "    </tr>\n",
       "    <tr>\n",
       "      <th>9</th>\n",
       "      <td>10</td>\n",
       "      <td>0.5</td>\n",
       "      <td>0.9</td>\n",
       "      <td>0.256</td>\n",
       "    </tr>\n",
       "    <tr>\n",
       "      <th>10</th>\n",
       "      <td>10</td>\n",
       "      <td>0.25</td>\n",
       "      <td>0.2</td>\n",
       "      <td>0.236</td>\n",
       "    </tr>\n",
       "    <tr>\n",
       "      <th>11</th>\n",
       "      <td>10</td>\n",
       "      <td>0.25</td>\n",
       "      <td>0.375</td>\n",
       "      <td>0.216</td>\n",
       "    </tr>\n",
       "    <tr>\n",
       "      <th>12</th>\n",
       "      <td>10</td>\n",
       "      <td>0.25</td>\n",
       "      <td>0.55</td>\n",
       "      <td>0.29</td>\n",
       "    </tr>\n",
       "    <tr>\n",
       "      <th>13</th>\n",
       "      <td>10</td>\n",
       "      <td>0.25</td>\n",
       "      <td>0.725</td>\n",
       "      <td>0.244</td>\n",
       "    </tr>\n",
       "    <tr>\n",
       "      <th>14</th>\n",
       "      <td>10</td>\n",
       "      <td>0.25</td>\n",
       "      <td>0.9</td>\n",
       "      <td>0.302</td>\n",
       "    </tr>\n",
       "    <tr>\n",
       "      <th>15</th>\n",
       "      <td>20</td>\n",
       "      <td>1</td>\n",
       "      <td>0.2</td>\n",
       "      <td>0.272</td>\n",
       "    </tr>\n",
       "    <tr>\n",
       "      <th>16</th>\n",
       "      <td>20</td>\n",
       "      <td>1</td>\n",
       "      <td>0.375</td>\n",
       "      <td>0.226</td>\n",
       "    </tr>\n",
       "    <tr>\n",
       "      <th>17</th>\n",
       "      <td>20</td>\n",
       "      <td>1</td>\n",
       "      <td>0.55</td>\n",
       "      <td>0.22</td>\n",
       "    </tr>\n",
       "    <tr>\n",
       "      <th>18</th>\n",
       "      <td>20</td>\n",
       "      <td>1</td>\n",
       "      <td>0.725</td>\n",
       "      <td>0.282</td>\n",
       "    </tr>\n",
       "    <tr>\n",
       "      <th>19</th>\n",
       "      <td>20</td>\n",
       "      <td>1</td>\n",
       "      <td>0.9</td>\n",
       "      <td>0.254</td>\n",
       "    </tr>\n",
       "    <tr>\n",
       "      <th>20</th>\n",
       "      <td>20</td>\n",
       "      <td>0.5</td>\n",
       "      <td>0.2</td>\n",
       "      <td>0.194</td>\n",
       "    </tr>\n",
       "    <tr>\n",
       "      <th>21</th>\n",
       "      <td>20</td>\n",
       "      <td>0.5</td>\n",
       "      <td>0.375</td>\n",
       "      <td>0.214</td>\n",
       "    </tr>\n",
       "    <tr>\n",
       "      <th>22</th>\n",
       "      <td>20</td>\n",
       "      <td>0.5</td>\n",
       "      <td>0.55</td>\n",
       "      <td>0.262</td>\n",
       "    </tr>\n",
       "    <tr>\n",
       "      <th>23</th>\n",
       "      <td>20</td>\n",
       "      <td>0.5</td>\n",
       "      <td>0.725</td>\n",
       "      <td>0.218</td>\n",
       "    </tr>\n",
       "    <tr>\n",
       "      <th>24</th>\n",
       "      <td>20</td>\n",
       "      <td>0.5</td>\n",
       "      <td>0.9</td>\n",
       "      <td>0.244</td>\n",
       "    </tr>\n",
       "    <tr>\n",
       "      <th>25</th>\n",
       "      <td>20</td>\n",
       "      <td>0.25</td>\n",
       "      <td>0.2</td>\n",
       "      <td>0.276</td>\n",
       "    </tr>\n",
       "    <tr>\n",
       "      <th>26</th>\n",
       "      <td>20</td>\n",
       "      <td>0.25</td>\n",
       "      <td>0.375</td>\n",
       "      <td>0.274</td>\n",
       "    </tr>\n",
       "    <tr>\n",
       "      <th>27</th>\n",
       "      <td>20</td>\n",
       "      <td>0.25</td>\n",
       "      <td>0.55</td>\n",
       "      <td>0.224</td>\n",
       "    </tr>\n",
       "    <tr>\n",
       "      <th>28</th>\n",
       "      <td>20</td>\n",
       "      <td>0.25</td>\n",
       "      <td>0.725</td>\n",
       "      <td>0.21</td>\n",
       "    </tr>\n",
       "    <tr>\n",
       "      <th>29</th>\n",
       "      <td>20</td>\n",
       "      <td>0.25</td>\n",
       "      <td>0.9</td>\n",
       "      <td>0.262</td>\n",
       "    </tr>\n",
       "    <tr>\n",
       "      <th>30</th>\n",
       "      <td>50</td>\n",
       "      <td>1</td>\n",
       "      <td>0.2</td>\n",
       "      <td>0.18</td>\n",
       "    </tr>\n",
       "    <tr>\n",
       "      <th>31</th>\n",
       "      <td>50</td>\n",
       "      <td>1</td>\n",
       "      <td>0.375</td>\n",
       "      <td>0.184</td>\n",
       "    </tr>\n",
       "    <tr>\n",
       "      <th>32</th>\n",
       "      <td>50</td>\n",
       "      <td>1</td>\n",
       "      <td>0.55</td>\n",
       "      <td>0.248</td>\n",
       "    </tr>\n",
       "    <tr>\n",
       "      <th>33</th>\n",
       "      <td>50</td>\n",
       "      <td>1</td>\n",
       "      <td>0.725</td>\n",
       "      <td>0.312</td>\n",
       "    </tr>\n",
       "    <tr>\n",
       "      <th>34</th>\n",
       "      <td>50</td>\n",
       "      <td>1</td>\n",
       "      <td>0.9</td>\n",
       "      <td>0.312</td>\n",
       "    </tr>\n",
       "    <tr>\n",
       "      <th>35</th>\n",
       "      <td>50</td>\n",
       "      <td>0.5</td>\n",
       "      <td>0.2</td>\n",
       "      <td>0.24</td>\n",
       "    </tr>\n",
       "    <tr>\n",
       "      <th>36</th>\n",
       "      <td>50</td>\n",
       "      <td>0.5</td>\n",
       "      <td>0.375</td>\n",
       "      <td>0.274</td>\n",
       "    </tr>\n",
       "    <tr>\n",
       "      <th>37</th>\n",
       "      <td>50</td>\n",
       "      <td>0.5</td>\n",
       "      <td>0.55</td>\n",
       "      <td>0.38</td>\n",
       "    </tr>\n",
       "    <tr>\n",
       "      <th>38</th>\n",
       "      <td>50</td>\n",
       "      <td>0.5</td>\n",
       "      <td>0.725</td>\n",
       "      <td>0.338</td>\n",
       "    </tr>\n",
       "    <tr>\n",
       "      <th>39</th>\n",
       "      <td>50</td>\n",
       "      <td>0.5</td>\n",
       "      <td>0.9</td>\n",
       "      <td>0.25</td>\n",
       "    </tr>\n",
       "    <tr>\n",
       "      <th>40</th>\n",
       "      <td>50</td>\n",
       "      <td>0.25</td>\n",
       "      <td>0.2</td>\n",
       "      <td>0.25</td>\n",
       "    </tr>\n",
       "    <tr>\n",
       "      <th>41</th>\n",
       "      <td>50</td>\n",
       "      <td>0.25</td>\n",
       "      <td>0.375</td>\n",
       "      <td>0.29</td>\n",
       "    </tr>\n",
       "    <tr>\n",
       "      <th>42</th>\n",
       "      <td>50</td>\n",
       "      <td>0.25</td>\n",
       "      <td>0.55</td>\n",
       "      <td>0.334</td>\n",
       "    </tr>\n",
       "    <tr>\n",
       "      <th>43</th>\n",
       "      <td>50</td>\n",
       "      <td>0.25</td>\n",
       "      <td>0.725</td>\n",
       "      <td>0.384</td>\n",
       "    </tr>\n",
       "    <tr>\n",
       "      <th>44</th>\n",
       "      <td>50</td>\n",
       "      <td>0.25</td>\n",
       "      <td>0.9</td>\n",
       "      <td>0.252</td>\n",
       "    </tr>\n",
       "  </tbody>\n",
       "</table>\n",
       "</div>"
      ],
      "text/plain": [
       "   anneal_time quench_slope s_feature success_frac\n",
       "0           10            1       0.2         0.23\n",
       "1           10            1     0.375        0.282\n",
       "2           10            1      0.55        0.218\n",
       "3           10            1     0.725        0.292\n",
       "4           10            1       0.9        0.232\n",
       "5           10          0.5       0.2         0.29\n",
       "6           10          0.5     0.375        0.196\n",
       "7           10          0.5      0.55        0.196\n",
       "8           10          0.5     0.725        0.302\n",
       "9           10          0.5       0.9        0.256\n",
       "10          10         0.25       0.2        0.236\n",
       "11          10         0.25     0.375        0.216\n",
       "12          10         0.25      0.55         0.29\n",
       "13          10         0.25     0.725        0.244\n",
       "14          10         0.25       0.9        0.302\n",
       "15          20            1       0.2        0.272\n",
       "16          20            1     0.375        0.226\n",
       "17          20            1      0.55         0.22\n",
       "18          20            1     0.725        0.282\n",
       "19          20            1       0.9        0.254\n",
       "20          20          0.5       0.2        0.194\n",
       "21          20          0.5     0.375        0.214\n",
       "22          20          0.5      0.55        0.262\n",
       "23          20          0.5     0.725        0.218\n",
       "24          20          0.5       0.9        0.244\n",
       "25          20         0.25       0.2        0.276\n",
       "26          20         0.25     0.375        0.274\n",
       "27          20         0.25      0.55        0.224\n",
       "28          20         0.25     0.725         0.21\n",
       "29          20         0.25       0.9        0.262\n",
       "30          50            1       0.2         0.18\n",
       "31          50            1     0.375        0.184\n",
       "32          50            1      0.55        0.248\n",
       "33          50            1     0.725        0.312\n",
       "34          50            1       0.9        0.312\n",
       "35          50          0.5       0.2         0.24\n",
       "36          50          0.5     0.375        0.274\n",
       "37          50          0.5      0.55         0.38\n",
       "38          50          0.5     0.725        0.338\n",
       "39          50          0.5       0.9         0.25\n",
       "40          50         0.25       0.2         0.25\n",
       "41          50         0.25     0.375         0.29\n",
       "42          50         0.25      0.55        0.334\n",
       "43          50         0.25     0.725        0.384\n",
       "44          50         0.25       0.9        0.252"
      ]
     },
     "execution_count": 46,
     "metadata": {},
     "output_type": "execute_result"
    }
   ],
   "source": [
    "success_prob"
   ]
  },
  {
   "cell_type": "code",
   "execution_count": null,
   "metadata": {},
   "outputs": [],
   "source": [
    "### Best Results with Anneal Time 50, Slope 0.25, and s_feature 0.725 or Slope 0.5, and s_feature 0.55 (SUM = 1)"
   ]
  },
  {
   "cell_type": "code",
   "execution_count": 48,
   "metadata": {},
   "outputs": [],
   "source": [
    "anneal_time=[10.0, 50.0, 100.0]\n",
    "pause_duration=[10.0, 100.0, 500.0]\n",
    "\n",
    "# Create list of start times\n",
    "num_points=5\n",
    "s_low=0.2\n",
    "s_high=0.6\n",
    "pause_start=np.linspace(s_low, s_high, num=num_points)\n",
    "\n",
    "success_prob = pd.DataFrame(index=range(len(anneal_time)*len(pause_duration)*len(pause_start)),\n",
    "                                columns=[\"anneal_time\", \"pause_duration\", \"s_feature\", \"success_frac\"],\n",
    "                                data=None)\n",
    "counter=0\n",
    "\n",
    "for anneal in anneal_time:\n",
    "    for pause in pause_duration:\n",
    "        for start in pause_start:\n",
    "            schedule=[[0.0,0.0],[start*anneal,start],[start*anneal+pause, start],[anneal+pause, 1.0]]\n",
    "            results = FixedEmbeddingComposite(qpu, embedding).sample(bqm,\n",
    "                                                              return_embedding=True, \n",
    "                                                              answer_mode=\"raw\", \n",
    "                                                              num_reads=numr,\n",
    "                                                              label='Notebook - Anneal Schedule',\n",
    "                                                              chain_strength= chnstr,\n",
    "                                                              anneal_schedule=schedule,)\n",
    "            \n",
    "            success_prob.iloc[counter]={\"anneal_time\":anneal, \n",
    "                                        \"quench_slope\":quench, \n",
    "                                        \"s_feature\":start,\n",
    "                                        \"success_frac\":np.count_nonzero(results.record.energy == -8.0)/numr}\n",
    "            counter+=1"
   ]
  },
  {
   "cell_type": "code",
   "execution_count": 49,
   "metadata": {},
   "outputs": [
    {
     "data": {
      "text/html": [
       "<div>\n",
       "<style scoped>\n",
       "    .dataframe tbody tr th:only-of-type {\n",
       "        vertical-align: middle;\n",
       "    }\n",
       "\n",
       "    .dataframe tbody tr th {\n",
       "        vertical-align: top;\n",
       "    }\n",
       "\n",
       "    .dataframe thead th {\n",
       "        text-align: right;\n",
       "    }\n",
       "</style>\n",
       "<table border=\"1\" class=\"dataframe\">\n",
       "  <thead>\n",
       "    <tr style=\"text-align: right;\">\n",
       "      <th></th>\n",
       "      <th>anneal_time</th>\n",
       "      <th>pause_duration</th>\n",
       "      <th>s_feature</th>\n",
       "      <th>success_frac</th>\n",
       "    </tr>\n",
       "  </thead>\n",
       "  <tbody>\n",
       "    <tr>\n",
       "      <th>0</th>\n",
       "      <td>10</td>\n",
       "      <td>NaN</td>\n",
       "      <td>0.2</td>\n",
       "      <td>0.268</td>\n",
       "    </tr>\n",
       "    <tr>\n",
       "      <th>1</th>\n",
       "      <td>10</td>\n",
       "      <td>NaN</td>\n",
       "      <td>0.3</td>\n",
       "      <td>0.228</td>\n",
       "    </tr>\n",
       "    <tr>\n",
       "      <th>2</th>\n",
       "      <td>10</td>\n",
       "      <td>NaN</td>\n",
       "      <td>0.4</td>\n",
       "      <td>0.256</td>\n",
       "    </tr>\n",
       "    <tr>\n",
       "      <th>3</th>\n",
       "      <td>10</td>\n",
       "      <td>NaN</td>\n",
       "      <td>0.5</td>\n",
       "      <td>0.244</td>\n",
       "    </tr>\n",
       "    <tr>\n",
       "      <th>4</th>\n",
       "      <td>10</td>\n",
       "      <td>NaN</td>\n",
       "      <td>0.6</td>\n",
       "      <td>0.176</td>\n",
       "    </tr>\n",
       "    <tr>\n",
       "      <th>5</th>\n",
       "      <td>10</td>\n",
       "      <td>NaN</td>\n",
       "      <td>0.2</td>\n",
       "      <td>0.218</td>\n",
       "    </tr>\n",
       "    <tr>\n",
       "      <th>6</th>\n",
       "      <td>10</td>\n",
       "      <td>NaN</td>\n",
       "      <td>0.3</td>\n",
       "      <td>0.274</td>\n",
       "    </tr>\n",
       "    <tr>\n",
       "      <th>7</th>\n",
       "      <td>10</td>\n",
       "      <td>NaN</td>\n",
       "      <td>0.4</td>\n",
       "      <td>0.162</td>\n",
       "    </tr>\n",
       "    <tr>\n",
       "      <th>8</th>\n",
       "      <td>10</td>\n",
       "      <td>NaN</td>\n",
       "      <td>0.5</td>\n",
       "      <td>0.328</td>\n",
       "    </tr>\n",
       "    <tr>\n",
       "      <th>9</th>\n",
       "      <td>10</td>\n",
       "      <td>NaN</td>\n",
       "      <td>0.6</td>\n",
       "      <td>0.262</td>\n",
       "    </tr>\n",
       "    <tr>\n",
       "      <th>10</th>\n",
       "      <td>10</td>\n",
       "      <td>NaN</td>\n",
       "      <td>0.2</td>\n",
       "      <td>0.328</td>\n",
       "    </tr>\n",
       "    <tr>\n",
       "      <th>11</th>\n",
       "      <td>10</td>\n",
       "      <td>NaN</td>\n",
       "      <td>0.3</td>\n",
       "      <td>0.238</td>\n",
       "    </tr>\n",
       "    <tr>\n",
       "      <th>12</th>\n",
       "      <td>10</td>\n",
       "      <td>NaN</td>\n",
       "      <td>0.4</td>\n",
       "      <td>0.228</td>\n",
       "    </tr>\n",
       "    <tr>\n",
       "      <th>13</th>\n",
       "      <td>10</td>\n",
       "      <td>NaN</td>\n",
       "      <td>0.5</td>\n",
       "      <td>0.248</td>\n",
       "    </tr>\n",
       "    <tr>\n",
       "      <th>14</th>\n",
       "      <td>10</td>\n",
       "      <td>NaN</td>\n",
       "      <td>0.6</td>\n",
       "      <td>0.262</td>\n",
       "    </tr>\n",
       "    <tr>\n",
       "      <th>15</th>\n",
       "      <td>50</td>\n",
       "      <td>NaN</td>\n",
       "      <td>0.2</td>\n",
       "      <td>0.236</td>\n",
       "    </tr>\n",
       "    <tr>\n",
       "      <th>16</th>\n",
       "      <td>50</td>\n",
       "      <td>NaN</td>\n",
       "      <td>0.3</td>\n",
       "      <td>0.252</td>\n",
       "    </tr>\n",
       "    <tr>\n",
       "      <th>17</th>\n",
       "      <td>50</td>\n",
       "      <td>NaN</td>\n",
       "      <td>0.4</td>\n",
       "      <td>0.218</td>\n",
       "    </tr>\n",
       "    <tr>\n",
       "      <th>18</th>\n",
       "      <td>50</td>\n",
       "      <td>NaN</td>\n",
       "      <td>0.5</td>\n",
       "      <td>0.296</td>\n",
       "    </tr>\n",
       "    <tr>\n",
       "      <th>19</th>\n",
       "      <td>50</td>\n",
       "      <td>NaN</td>\n",
       "      <td>0.6</td>\n",
       "      <td>0.234</td>\n",
       "    </tr>\n",
       "    <tr>\n",
       "      <th>20</th>\n",
       "      <td>50</td>\n",
       "      <td>NaN</td>\n",
       "      <td>0.2</td>\n",
       "      <td>0.276</td>\n",
       "    </tr>\n",
       "    <tr>\n",
       "      <th>21</th>\n",
       "      <td>50</td>\n",
       "      <td>NaN</td>\n",
       "      <td>0.3</td>\n",
       "      <td>0.314</td>\n",
       "    </tr>\n",
       "    <tr>\n",
       "      <th>22</th>\n",
       "      <td>50</td>\n",
       "      <td>NaN</td>\n",
       "      <td>0.4</td>\n",
       "      <td>0.246</td>\n",
       "    </tr>\n",
       "    <tr>\n",
       "      <th>23</th>\n",
       "      <td>50</td>\n",
       "      <td>NaN</td>\n",
       "      <td>0.5</td>\n",
       "      <td>0.324</td>\n",
       "    </tr>\n",
       "    <tr>\n",
       "      <th>24</th>\n",
       "      <td>50</td>\n",
       "      <td>NaN</td>\n",
       "      <td>0.6</td>\n",
       "      <td>0.32</td>\n",
       "    </tr>\n",
       "    <tr>\n",
       "      <th>25</th>\n",
       "      <td>50</td>\n",
       "      <td>NaN</td>\n",
       "      <td>0.2</td>\n",
       "      <td>0.264</td>\n",
       "    </tr>\n",
       "    <tr>\n",
       "      <th>26</th>\n",
       "      <td>50</td>\n",
       "      <td>NaN</td>\n",
       "      <td>0.3</td>\n",
       "      <td>0.25</td>\n",
       "    </tr>\n",
       "    <tr>\n",
       "      <th>27</th>\n",
       "      <td>50</td>\n",
       "      <td>NaN</td>\n",
       "      <td>0.4</td>\n",
       "      <td>0.282</td>\n",
       "    </tr>\n",
       "    <tr>\n",
       "      <th>28</th>\n",
       "      <td>50</td>\n",
       "      <td>NaN</td>\n",
       "      <td>0.5</td>\n",
       "      <td>0.268</td>\n",
       "    </tr>\n",
       "    <tr>\n",
       "      <th>29</th>\n",
       "      <td>50</td>\n",
       "      <td>NaN</td>\n",
       "      <td>0.6</td>\n",
       "      <td>0.304</td>\n",
       "    </tr>\n",
       "    <tr>\n",
       "      <th>30</th>\n",
       "      <td>100</td>\n",
       "      <td>NaN</td>\n",
       "      <td>0.2</td>\n",
       "      <td>0.26</td>\n",
       "    </tr>\n",
       "    <tr>\n",
       "      <th>31</th>\n",
       "      <td>100</td>\n",
       "      <td>NaN</td>\n",
       "      <td>0.3</td>\n",
       "      <td>0.302</td>\n",
       "    </tr>\n",
       "    <tr>\n",
       "      <th>32</th>\n",
       "      <td>100</td>\n",
       "      <td>NaN</td>\n",
       "      <td>0.4</td>\n",
       "      <td>0.332</td>\n",
       "    </tr>\n",
       "    <tr>\n",
       "      <th>33</th>\n",
       "      <td>100</td>\n",
       "      <td>NaN</td>\n",
       "      <td>0.5</td>\n",
       "      <td>0.256</td>\n",
       "    </tr>\n",
       "    <tr>\n",
       "      <th>34</th>\n",
       "      <td>100</td>\n",
       "      <td>NaN</td>\n",
       "      <td>0.6</td>\n",
       "      <td>0.224</td>\n",
       "    </tr>\n",
       "    <tr>\n",
       "      <th>35</th>\n",
       "      <td>100</td>\n",
       "      <td>NaN</td>\n",
       "      <td>0.2</td>\n",
       "      <td>0.298</td>\n",
       "    </tr>\n",
       "    <tr>\n",
       "      <th>36</th>\n",
       "      <td>100</td>\n",
       "      <td>NaN</td>\n",
       "      <td>0.3</td>\n",
       "      <td>0.328</td>\n",
       "    </tr>\n",
       "    <tr>\n",
       "      <th>37</th>\n",
       "      <td>100</td>\n",
       "      <td>NaN</td>\n",
       "      <td>0.4</td>\n",
       "      <td>0.27</td>\n",
       "    </tr>\n",
       "    <tr>\n",
       "      <th>38</th>\n",
       "      <td>100</td>\n",
       "      <td>NaN</td>\n",
       "      <td>0.5</td>\n",
       "      <td>0.304</td>\n",
       "    </tr>\n",
       "    <tr>\n",
       "      <th>39</th>\n",
       "      <td>100</td>\n",
       "      <td>NaN</td>\n",
       "      <td>0.6</td>\n",
       "      <td>0.296</td>\n",
       "    </tr>\n",
       "    <tr>\n",
       "      <th>40</th>\n",
       "      <td>100</td>\n",
       "      <td>NaN</td>\n",
       "      <td>0.2</td>\n",
       "      <td>0.25</td>\n",
       "    </tr>\n",
       "    <tr>\n",
       "      <th>41</th>\n",
       "      <td>100</td>\n",
       "      <td>NaN</td>\n",
       "      <td>0.3</td>\n",
       "      <td>0.272</td>\n",
       "    </tr>\n",
       "    <tr>\n",
       "      <th>42</th>\n",
       "      <td>100</td>\n",
       "      <td>NaN</td>\n",
       "      <td>0.4</td>\n",
       "      <td>0.306</td>\n",
       "    </tr>\n",
       "    <tr>\n",
       "      <th>43</th>\n",
       "      <td>100</td>\n",
       "      <td>NaN</td>\n",
       "      <td>0.5</td>\n",
       "      <td>0.25</td>\n",
       "    </tr>\n",
       "    <tr>\n",
       "      <th>44</th>\n",
       "      <td>100</td>\n",
       "      <td>NaN</td>\n",
       "      <td>0.6</td>\n",
       "      <td>0.294</td>\n",
       "    </tr>\n",
       "  </tbody>\n",
       "</table>\n",
       "</div>"
      ],
      "text/plain": [
       "   anneal_time pause_duration s_feature success_frac\n",
       "0           10            NaN       0.2        0.268\n",
       "1           10            NaN       0.3        0.228\n",
       "2           10            NaN       0.4        0.256\n",
       "3           10            NaN       0.5        0.244\n",
       "4           10            NaN       0.6        0.176\n",
       "5           10            NaN       0.2        0.218\n",
       "6           10            NaN       0.3        0.274\n",
       "7           10            NaN       0.4        0.162\n",
       "8           10            NaN       0.5        0.328\n",
       "9           10            NaN       0.6        0.262\n",
       "10          10            NaN       0.2        0.328\n",
       "11          10            NaN       0.3        0.238\n",
       "12          10            NaN       0.4        0.228\n",
       "13          10            NaN       0.5        0.248\n",
       "14          10            NaN       0.6        0.262\n",
       "15          50            NaN       0.2        0.236\n",
       "16          50            NaN       0.3        0.252\n",
       "17          50            NaN       0.4        0.218\n",
       "18          50            NaN       0.5        0.296\n",
       "19          50            NaN       0.6        0.234\n",
       "20          50            NaN       0.2        0.276\n",
       "21          50            NaN       0.3        0.314\n",
       "22          50            NaN       0.4        0.246\n",
       "23          50            NaN       0.5        0.324\n",
       "24          50            NaN       0.6         0.32\n",
       "25          50            NaN       0.2        0.264\n",
       "26          50            NaN       0.3         0.25\n",
       "27          50            NaN       0.4        0.282\n",
       "28          50            NaN       0.5        0.268\n",
       "29          50            NaN       0.6        0.304\n",
       "30         100            NaN       0.2         0.26\n",
       "31         100            NaN       0.3        0.302\n",
       "32         100            NaN       0.4        0.332\n",
       "33         100            NaN       0.5        0.256\n",
       "34         100            NaN       0.6        0.224\n",
       "35         100            NaN       0.2        0.298\n",
       "36         100            NaN       0.3        0.328\n",
       "37         100            NaN       0.4         0.27\n",
       "38         100            NaN       0.5        0.304\n",
       "39         100            NaN       0.6        0.296\n",
       "40         100            NaN       0.2         0.25\n",
       "41         100            NaN       0.3        0.272\n",
       "42         100            NaN       0.4        0.306\n",
       "43         100            NaN       0.5         0.25\n",
       "44         100            NaN       0.6        0.294"
      ]
     },
     "execution_count": 49,
     "metadata": {},
     "output_type": "execute_result"
    }
   ],
   "source": [
    "success_prob"
   ]
  },
  {
   "cell_type": "code",
   "execution_count": 50,
   "metadata": {},
   "outputs": [
    {
     "data": {
      "text/plain": [
       "array([[10.0, nan, 0.2, 0.268],\n",
       "       [10.0, nan, 0.3, 0.228],\n",
       "       [10.0, nan, 0.4, 0.256],\n",
       "       [10.0, nan, 0.5, 0.244],\n",
       "       [10.0, nan, 0.6, 0.176],\n",
       "       [10.0, nan, 0.2, 0.218],\n",
       "       [10.0, nan, 0.3, 0.274],\n",
       "       [10.0, nan, 0.4, 0.162],\n",
       "       [10.0, nan, 0.5, 0.328],\n",
       "       [10.0, nan, 0.6, 0.262],\n",
       "       [10.0, nan, 0.2, 0.328],\n",
       "       [10.0, nan, 0.3, 0.238],\n",
       "       [10.0, nan, 0.4, 0.228],\n",
       "       [10.0, nan, 0.5, 0.248],\n",
       "       [10.0, nan, 0.6, 0.262],\n",
       "       [50.0, nan, 0.2, 0.236],\n",
       "       [50.0, nan, 0.3, 0.252],\n",
       "       [50.0, nan, 0.4, 0.218],\n",
       "       [50.0, nan, 0.5, 0.296],\n",
       "       [50.0, nan, 0.6, 0.234],\n",
       "       [50.0, nan, 0.2, 0.276],\n",
       "       [50.0, nan, 0.3, 0.314],\n",
       "       [50.0, nan, 0.4, 0.246],\n",
       "       [50.0, nan, 0.5, 0.324],\n",
       "       [50.0, nan, 0.6, 0.32],\n",
       "       [50.0, nan, 0.2, 0.264],\n",
       "       [50.0, nan, 0.3, 0.25],\n",
       "       [50.0, nan, 0.4, 0.282],\n",
       "       [50.0, nan, 0.5, 0.268],\n",
       "       [50.0, nan, 0.6, 0.304],\n",
       "       [100.0, nan, 0.2, 0.26],\n",
       "       [100.0, nan, 0.3, 0.302],\n",
       "       [100.0, nan, 0.4, 0.332],\n",
       "       [100.0, nan, 0.5, 0.256],\n",
       "       [100.0, nan, 0.6, 0.224],\n",
       "       [100.0, nan, 0.2, 0.298],\n",
       "       [100.0, nan, 0.3, 0.328],\n",
       "       [100.0, nan, 0.4, 0.27],\n",
       "       [100.0, nan, 0.5, 0.304],\n",
       "       [100.0, nan, 0.6, 0.296],\n",
       "       [100.0, nan, 0.2, 0.25],\n",
       "       [100.0, nan, 0.3, 0.272],\n",
       "       [100.0, nan, 0.4, 0.306],\n",
       "       [100.0, nan, 0.5, 0.25],\n",
       "       [100.0, nan, 0.6, 0.294]], dtype=object)"
      ]
     },
     "execution_count": 50,
     "metadata": {},
     "output_type": "execute_result"
    }
   ],
   "source": [
    "success_prob.to_numpy()"
   ]
  },
  {
   "cell_type": "markdown",
   "metadata": {},
   "source": [
    "### Combination of both best results:"
   ]
  },
  {
   "cell_type": "code",
   "execution_count": 58,
   "metadata": {},
   "outputs": [],
   "source": [
    "schedule=[[0.0,0.0],[25,0.5],[125,0.5],[126, 1.0]]\n",
    "\n",
    "\n",
    "\n"
   ]
  },
  {
   "cell_type": "code",
   "execution_count": 59,
   "metadata": {},
   "outputs": [],
   "source": [
    "results = FixedEmbeddingComposite(qpu, embedding).sample(bqm,\n",
    "                                                              return_embedding=True, \n",
    "                                                              answer_mode=\"raw\", \n",
    "                                                              num_reads=numr,\n",
    "                                                              label='Notebook - Anneal Schedule',\n",
    "                                                              chain_strength= chnstr,\n",
    "                                                              anneal_schedule=schedule,)"
   ]
  },
  {
   "cell_type": "code",
   "execution_count": 60,
   "metadata": {},
   "outputs": [
    {
     "name": "stdout",
     "output_type": "stream",
     "text": [
      "Good solutions are 69.2% of samples.\n",
      "Best Known solutions are 26.6% of samples.\n",
      "Lowest energy found: [-8.0]\n",
      "Average energy is -7.13 with standard deviation 1.39\n"
     ]
    }
   ],
   "source": [
    "analyze(results, \"combination\", data)"
   ]
  },
  {
   "cell_type": "markdown",
   "metadata": {},
   "source": [
    "# Its Just bloody random :("
   ]
  },
  {
   "cell_type": "markdown",
   "metadata": {},
   "source": [
    "### Reverse"
   ]
  },
  {
   "cell_type": "markdown",
   "metadata": {},
   "source": [
    "In brief, reverse annealing is a technique that makes it possible to refine known good local solutions, thereby increasing performance for certain applications."
   ]
  },
  {
   "cell_type": "markdown",
   "metadata": {},
   "source": [
    "There are three parameters you can use to configure reverse annealing using Ocean:\n",
    "\n",
    "1. `anneal_schedule` defines the annealing schedule that should be followed.\n",
    "2. `initial_state` specifies the classical state at which the reverse anneal should start.\n",
    "3. `reinitialize_state` specifies whether or not the initial state should be used for every anneal in the request.  If False, then after the first, each subsequent anneal starts where the previous finished."
   ]
  },
  {
   "cell_type": "markdown",
   "metadata": {},
   "source": [
    "<img src=\"https://docs.dwavesys.com/docs/latest/_images/ra.png\" alt=\"drawing\" width=\"600\"/>"
   ]
  },
  {
   "cell_type": "markdown",
   "metadata": {},
   "source": [
    "\n",
    "A Reverse schedule always starts at `s = 1.0`, and ours reverses quickly to `s = 0.45`, pauses for `100 μs`, then quickly anneals forward. The schedule is formatted as a list of  **[time, s]** pairs. The next cell plots the schedule."
   ]
  },
  {
   "cell_type": "markdown",
   "metadata": {},
   "source": [
    "A lower value of `s_target` implies a larger transverse field, which leads to a broader search of the solution space.  A greater value of `hold_time` means that the reverse anneal is given more time to explore, which leads to a broader and deeper search of the solution space."
   ]
  },
  {
   "cell_type": "code",
   "execution_count": 23,
   "metadata": {},
   "outputs": [
    {
     "name": "stdout",
     "output_type": "stream",
     "text": [
      "[[0.0, 1.0], [2.75, 0.45], [102.75, 0.45], [103.3, 1.0]]\n",
      "Total anneal-schedule time is 103.3 us\n"
     ]
    }
   ],
   "source": [
    "# [[t, s], [t_1, s_1], ..., [t_n, s_n]]\n",
    "# Time t must increase for all points in the schedule.\n",
    "# the anneal fraction s must start and end at s = 1.0\n",
    "max_slope = 1.0/qpu.properties[\"annealing_time_range\"][0]\n",
    "reverse_schedule = make_reverse_anneal_schedule(s_target=0.45, hold_time=100, ramp_up_slope=max_slope)\n",
    "time_total = reverse_schedule[3][0]\n",
    "\n",
    "print(reverse_schedule)\n",
    "print(\"Total anneal-schedule time is {} us\".format(time_total))"
   ]
  },
  {
   "cell_type": "code",
   "execution_count": 24,
   "metadata": {},
   "outputs": [
    {
     "data": {
      "image/png": "[encoded data removed]",
      "text/plain": [
       "<Figure size 216x216 with 1 Axes>"
      ]
     },
     "metadata": {},
     "output_type": "display_data"
    }
   ],
   "source": [
    "make_anneal_plot(reverse_schedule)"
   ]
  },
  {
   "cell_type": "code",
   "execution_count": 25,
   "metadata": {},
   "outputs": [],
   "source": [
    "# Assign best Sampleset\n",
    "best_sampleset = sampleset1B"
   ]
  },
  {
   "cell_type": "code",
   "execution_count": 26,
   "metadata": {},
   "outputs": [],
   "source": [
    "\n",
    "i5 = int(5.0/95*len(best_sampleset))  # Index i5 is about a 5% indexial move from the sample of lowest energy\n",
    "\n",
    "initial = dict(zip(best_sampleset.variables, best_sampleset.record[i5].sample))\n",
    "reverse_anneal_params = dict(anneal_schedule=reverse_schedule, initial_state=initial, reinitialize_state=True)\n",
    "\n",
    "# The `reinitialize_state` parameter switches between two qualitatively different methods of local search \n",
    "# via quantum annealing.  With `reinitialize_state = 'True'`, many anneals are seeded from the single starting \n",
    "# state and the states returned, modulo time-dependent sources of error, are independently and identically \n",
    "# distributed.  With `reinitialize_state = 'False'`, the series of anneals behaves like a random walk and \n",
    "# is capable of exploring the solution space more broadly.  \n"
   ]
  },
  {
   "cell_type": "code",
   "execution_count": 65,
   "metadata": {},
   "outputs": [],
   "source": [
    "sampleset_reverse1 = FixedEmbeddingComposite(qpu, embedding).sample(bqm, \n",
    "                                                                   answer_mode=\"raw\", \n",
    "                                                                   num_reads=numr, \n",
    "                                                                   chain_strength= chnstr,\n",
    "                                                                   **reverse_anneal_params)  \n"
   ]
  },
  {
   "cell_type": "code",
   "execution_count": 66,
   "metadata": {},
   "outputs": [
    {
     "name": "stdout",
     "output_type": "stream",
     "text": [
      "Good solutions are 62.0% of samples.\n",
      "Best Known solutions are 24.2% of samples.\n",
      "Lowest energy found: [-8.0]\n",
      "Average energy is -7.03 with standard deviation 1.26\n"
     ]
    }
   ],
   "source": [
    "analyze(sampleset_reverse1, \"reverse_schedule1\", data)"
   ]
  },
  {
   "cell_type": "code",
   "execution_count": 27,
   "metadata": {},
   "outputs": [],
   "source": [
    "get_hamming_distance = lambda x1, x2: np.sum(x1 != x2)\n",
    "\n",
    "def get_hamming_distances(sols):\n",
    "    sols = np.array(sols)\n",
    "    return np.array([get_hamming_distance(x1, x2) for x1, x2 in zip(sols, sols[1:])])"
   ]
  },
  {
   "cell_type": "code",
   "execution_count": 28,
   "metadata": {},
   "outputs": [
    {
     "name": "stdout",
     "output_type": "stream",
     "text": [
      "Running reverse anneals with s_target=0.3 and hold_time=10 us\n",
      "Running reverse anneals with s_target=0.3 and hold_time=50 us\n",
      "Running reverse anneals with s_target=0.3 and hold_time=100 us\n",
      "Running reverse anneals with s_target=0.3 and hold_time=150 us\n",
      "Running reverse anneals with s_target=0.45 and hold_time=10 us\n",
      "Running reverse anneals with s_target=0.45 and hold_time=50 us\n",
      "Running reverse anneals with s_target=0.45 and hold_time=100 us\n",
      "Running reverse anneals with s_target=0.45 and hold_time=150 us\n",
      "Running reverse anneals with s_target=0.6 and hold_time=10 us\n",
      "Running reverse anneals with s_target=0.6 and hold_time=50 us\n",
      "Running reverse anneals with s_target=0.6 and hold_time=100 us\n",
      "Running reverse anneals with s_target=0.6 and hold_time=150 us\n",
      "Running reverse anneals with s_target=0.75 and hold_time=10 us\n",
      "Running reverse anneals with s_target=0.75 and hold_time=50 us\n",
      "Running reverse anneals with s_target=0.75 and hold_time=100 us\n",
      "Running reverse anneals with s_target=0.75 and hold_time=150 us\n",
      "Running reverse anneals with s_target=0.9 and hold_time=10 us\n",
      "Running reverse anneals with s_target=0.9 and hold_time=50 us\n",
      "Running reverse anneals with s_target=0.9 and hold_time=100 us\n",
      "Running reverse anneals with s_target=0.9 and hold_time=150 us\n"
     ]
    }
   ],
   "source": [
    "import itertools\n",
    "import seaborn \n",
    "seaborn.set_style('whitegrid')\n",
    "\n",
    "s_target_vals = [0.3, 0.45, 0.6, 0.75, 0.9]\n",
    "hold_time_vals =  [10, 50, 100, 150]\n",
    "\n",
    "data_rows = list()\n",
    "for s_target, hold_time in itertools.product(s_target_vals, hold_time_vals):\n",
    "    \n",
    "    print(\"Running reverse anneals with s_target={} and hold_time={} us\".format(s_target, hold_time))\n",
    "    schedule = make_reverse_anneal_schedule(s_target=s_target, hold_time=hold_time, ramp_up_slope=max_slope)\n",
    "    reverse_anneal_params = dict(anneal_schedule=schedule, initial_state=initial, reinitialize_state=True)\n",
    "    modulating_answer = FixedEmbeddingComposite(qpu, embedding).sample(bqm, \n",
    "                                                                   answer_mode=\"raw\", \n",
    "                                                                   num_reads=numr, \n",
    "                                                                   chain_strength= chnstr,\n",
    "                                                                   **reverse_anneal_params)  \n",
    "    modulating_solutions, modulating_energies = modulating_answer.record.sample, modulating_answer.record.energy\n",
    "    modulating_distances = get_hamming_distances(modulating_solutions)\n",
    "    row = dict(\n",
    "        s_target=s_target,\n",
    "        hold_time=hold_time,\n",
    "        energy_stdev=np.std(modulating_energies),\n",
    "        energy_mean=np.mean(modulating_energies),\n",
    "        distance_mean=np.mean(modulating_distances),\n",
    "        bks = np.count_nonzero(modulating_answer.record.energy == -8.0)/numr,\n",
    "        gks = np.count_nonzero(modulating_answer.record.energy < -7.5)/numr\n",
    "    )\n",
    "    data_rows.append(row)\n",
    "\n",
    "df = pd.DataFrame(data_rows)\n"
   ]
  },
  {
   "cell_type": "code",
   "execution_count": 29,
   "metadata": {},
   "outputs": [
    {
     "data": {
      "text/html": [
       "<div>\n",
       "<style scoped>\n",
       "    .dataframe tbody tr th:only-of-type {\n",
       "        vertical-align: middle;\n",
       "    }\n",
       "\n",
       "    .dataframe tbody tr th {\n",
       "        vertical-align: top;\n",
       "    }\n",
       "\n",
       "    .dataframe thead th {\n",
       "        text-align: right;\n",
       "    }\n",
       "</style>\n",
       "<table border=\"1\" class=\"dataframe\">\n",
       "  <thead>\n",
       "    <tr style=\"text-align: right;\">\n",
       "      <th></th>\n",
       "      <th>s_target</th>\n",
       "      <th>hold_time</th>\n",
       "      <th>energy_stdev</th>\n",
       "      <th>energy_mean</th>\n",
       "      <th>distance_mean</th>\n",
       "      <th>bks</th>\n",
       "      <th>gks</th>\n",
       "    </tr>\n",
       "  </thead>\n",
       "  <tbody>\n",
       "    <tr>\n",
       "      <th>0</th>\n",
       "      <td>0.30</td>\n",
       "      <td>10</td>\n",
       "      <td>1.519995e+00</td>\n",
       "      <td>-6.94445</td>\n",
       "      <td>3.821643</td>\n",
       "      <td>0.236</td>\n",
       "      <td>0.626</td>\n",
       "    </tr>\n",
       "    <tr>\n",
       "      <th>1</th>\n",
       "      <td>0.30</td>\n",
       "      <td>50</td>\n",
       "      <td>1.482070e+00</td>\n",
       "      <td>-6.96883</td>\n",
       "      <td>3.935872</td>\n",
       "      <td>0.262</td>\n",
       "      <td>0.628</td>\n",
       "    </tr>\n",
       "    <tr>\n",
       "      <th>2</th>\n",
       "      <td>0.30</td>\n",
       "      <td>100</td>\n",
       "      <td>1.454066e+00</td>\n",
       "      <td>-6.90741</td>\n",
       "      <td>3.955912</td>\n",
       "      <td>0.164</td>\n",
       "      <td>0.604</td>\n",
       "    </tr>\n",
       "    <tr>\n",
       "      <th>3</th>\n",
       "      <td>0.30</td>\n",
       "      <td>150</td>\n",
       "      <td>1.658536e+00</td>\n",
       "      <td>-6.76317</td>\n",
       "      <td>3.991984</td>\n",
       "      <td>0.204</td>\n",
       "      <td>0.560</td>\n",
       "    </tr>\n",
       "    <tr>\n",
       "      <th>4</th>\n",
       "      <td>0.45</td>\n",
       "      <td>10</td>\n",
       "      <td>1.500188e+00</td>\n",
       "      <td>-6.94087</td>\n",
       "      <td>3.943888</td>\n",
       "      <td>0.202</td>\n",
       "      <td>0.616</td>\n",
       "    </tr>\n",
       "    <tr>\n",
       "      <th>5</th>\n",
       "      <td>0.45</td>\n",
       "      <td>50</td>\n",
       "      <td>1.331319e+00</td>\n",
       "      <td>-7.08676</td>\n",
       "      <td>3.727455</td>\n",
       "      <td>0.222</td>\n",
       "      <td>0.652</td>\n",
       "    </tr>\n",
       "    <tr>\n",
       "      <th>6</th>\n",
       "      <td>0.45</td>\n",
       "      <td>100</td>\n",
       "      <td>1.470142e+00</td>\n",
       "      <td>-6.97454</td>\n",
       "      <td>3.547094</td>\n",
       "      <td>0.236</td>\n",
       "      <td>0.624</td>\n",
       "    </tr>\n",
       "    <tr>\n",
       "      <th>7</th>\n",
       "      <td>0.45</td>\n",
       "      <td>150</td>\n",
       "      <td>1.529042e+00</td>\n",
       "      <td>-6.91834</td>\n",
       "      <td>3.811623</td>\n",
       "      <td>0.274</td>\n",
       "      <td>0.614</td>\n",
       "    </tr>\n",
       "    <tr>\n",
       "      <th>8</th>\n",
       "      <td>0.60</td>\n",
       "      <td>10</td>\n",
       "      <td>9.667767e-01</td>\n",
       "      <td>-7.33521</td>\n",
       "      <td>1.623246</td>\n",
       "      <td>0.002</td>\n",
       "      <td>0.736</td>\n",
       "    </tr>\n",
       "    <tr>\n",
       "      <th>9</th>\n",
       "      <td>0.60</td>\n",
       "      <td>50</td>\n",
       "      <td>1.140274e+00</td>\n",
       "      <td>-7.31900</td>\n",
       "      <td>1.667335</td>\n",
       "      <td>0.000</td>\n",
       "      <td>0.752</td>\n",
       "    </tr>\n",
       "    <tr>\n",
       "      <th>10</th>\n",
       "      <td>0.60</td>\n",
       "      <td>100</td>\n",
       "      <td>1.055694e+00</td>\n",
       "      <td>-7.44679</td>\n",
       "      <td>1.623246</td>\n",
       "      <td>0.000</td>\n",
       "      <td>0.808</td>\n",
       "    </tr>\n",
       "    <tr>\n",
       "      <th>11</th>\n",
       "      <td>0.60</td>\n",
       "      <td>150</td>\n",
       "      <td>1.129429e+00</td>\n",
       "      <td>-7.41837</td>\n",
       "      <td>1.685371</td>\n",
       "      <td>0.000</td>\n",
       "      <td>0.802</td>\n",
       "    </tr>\n",
       "    <tr>\n",
       "      <th>12</th>\n",
       "      <td>0.75</td>\n",
       "      <td>10</td>\n",
       "      <td>3.552714e-15</td>\n",
       "      <td>-7.89500</td>\n",
       "      <td>0.000000</td>\n",
       "      <td>0.000</td>\n",
       "      <td>1.000</td>\n",
       "    </tr>\n",
       "    <tr>\n",
       "      <th>13</th>\n",
       "      <td>0.75</td>\n",
       "      <td>50</td>\n",
       "      <td>3.552714e-15</td>\n",
       "      <td>-7.89500</td>\n",
       "      <td>0.000000</td>\n",
       "      <td>0.000</td>\n",
       "      <td>1.000</td>\n",
       "    </tr>\n",
       "    <tr>\n",
       "      <th>14</th>\n",
       "      <td>0.75</td>\n",
       "      <td>100</td>\n",
       "      <td>8.935323e-02</td>\n",
       "      <td>-7.89100</td>\n",
       "      <td>0.004008</td>\n",
       "      <td>0.000</td>\n",
       "      <td>0.998</td>\n",
       "    </tr>\n",
       "    <tr>\n",
       "      <th>15</th>\n",
       "      <td>0.75</td>\n",
       "      <td>150</td>\n",
       "      <td>1.262379e-01</td>\n",
       "      <td>-7.88700</td>\n",
       "      <td>0.008016</td>\n",
       "      <td>0.000</td>\n",
       "      <td>0.996</td>\n",
       "    </tr>\n",
       "    <tr>\n",
       "      <th>16</th>\n",
       "      <td>0.90</td>\n",
       "      <td>10</td>\n",
       "      <td>3.552714e-15</td>\n",
       "      <td>-7.89500</td>\n",
       "      <td>0.000000</td>\n",
       "      <td>0.000</td>\n",
       "      <td>1.000</td>\n",
       "    </tr>\n",
       "    <tr>\n",
       "      <th>17</th>\n",
       "      <td>0.90</td>\n",
       "      <td>50</td>\n",
       "      <td>3.552714e-15</td>\n",
       "      <td>-7.89500</td>\n",
       "      <td>0.000000</td>\n",
       "      <td>0.000</td>\n",
       "      <td>1.000</td>\n",
       "    </tr>\n",
       "    <tr>\n",
       "      <th>18</th>\n",
       "      <td>0.90</td>\n",
       "      <td>100</td>\n",
       "      <td>3.552714e-15</td>\n",
       "      <td>-7.89500</td>\n",
       "      <td>0.000000</td>\n",
       "      <td>0.000</td>\n",
       "      <td>1.000</td>\n",
       "    </tr>\n",
       "    <tr>\n",
       "      <th>19</th>\n",
       "      <td>0.90</td>\n",
       "      <td>150</td>\n",
       "      <td>3.552714e-15</td>\n",
       "      <td>-7.89500</td>\n",
       "      <td>0.000000</td>\n",
       "      <td>0.000</td>\n",
       "      <td>1.000</td>\n",
       "    </tr>\n",
       "  </tbody>\n",
       "</table>\n",
       "</div>"
      ],
      "text/plain": [
       "    s_target  hold_time  energy_stdev  energy_mean  distance_mean    bks  \\\n",
       "0       0.30         10  1.519995e+00     -6.94445       3.821643  0.236   \n",
       "1       0.30         50  1.482070e+00     -6.96883       3.935872  0.262   \n",
       "2       0.30        100  1.454066e+00     -6.90741       3.955912  0.164   \n",
       "3       0.30        150  1.658536e+00     -6.76317       3.991984  0.204   \n",
       "4       0.45         10  1.500188e+00     -6.94087       3.943888  0.202   \n",
       "5       0.45         50  1.331319e+00     -7.08676       3.727455  0.222   \n",
       "6       0.45        100  1.470142e+00     -6.97454       3.547094  0.236   \n",
       "7       0.45        150  1.529042e+00     -6.91834       3.811623  0.274   \n",
       "8       0.60         10  9.667767e-01     -7.33521       1.623246  0.002   \n",
       "9       0.60         50  1.140274e+00     -7.31900       1.667335  0.000   \n",
       "10      0.60        100  1.055694e+00     -7.44679       1.623246  0.000   \n",
       "11      0.60        150  1.129429e+00     -7.41837       1.685371  0.000   \n",
       "12      0.75         10  3.552714e-15     -7.89500       0.000000  0.000   \n",
       "13      0.75         50  3.552714e-15     -7.89500       0.000000  0.000   \n",
       "14      0.75        100  8.935323e-02     -7.89100       0.004008  0.000   \n",
       "15      0.75        150  1.262379e-01     -7.88700       0.008016  0.000   \n",
       "16      0.90         10  3.552714e-15     -7.89500       0.000000  0.000   \n",
       "17      0.90         50  3.552714e-15     -7.89500       0.000000  0.000   \n",
       "18      0.90        100  3.552714e-15     -7.89500       0.000000  0.000   \n",
       "19      0.90        150  3.552714e-15     -7.89500       0.000000  0.000   \n",
       "\n",
       "      gks  \n",
       "0   0.626  \n",
       "1   0.628  \n",
       "2   0.604  \n",
       "3   0.560  \n",
       "4   0.616  \n",
       "5   0.652  \n",
       "6   0.624  \n",
       "7   0.614  \n",
       "8   0.736  \n",
       "9   0.752  \n",
       "10  0.808  \n",
       "11  0.802  \n",
       "12  1.000  \n",
       "13  1.000  \n",
       "14  0.998  \n",
       "15  0.996  \n",
       "16  1.000  \n",
       "17  1.000  \n",
       "18  1.000  \n",
       "19  1.000  "
      ]
     },
     "execution_count": 29,
     "metadata": {},
     "output_type": "execute_result"
    }
   ],
   "source": [
    "df"
   ]
  },
  {
   "cell_type": "code",
   "execution_count": 30,
   "metadata": {},
   "outputs": [
    {
     "data": {
      "image/png": "[encoded data removed]",
      "text/plain": [
       "<Figure size 1132.62x216 with 5 Axes>"
      ]
     },
     "metadata": {},
     "output_type": "display_data"
    }
   ],
   "source": [
    "df_long = pd.melt(df, id_vars=['s_target', 'hold_time'])\n",
    "g = seaborn.FacetGrid(df_long, hue='hold_time', col='variable', sharey=False, legend_out=True)\n",
    "g.map(plt.plot, 's_target', 'value')\n",
    "g.add_legend()\n",
    "plt.suptitle(\"Statistics for Varying Reverse Annealing Parameters\")\n",
    "plt.subplots_adjust(left=.1, right=.9, top=.8)"
   ]
  },
  {
   "cell_type": "code",
   "execution_count": 31,
   "metadata": {},
   "outputs": [
    {
     "data": {
      "image/png": "[encoded data removed]",
      "text/plain": [
       "<Figure size 1135.38x216 with 5 Axes>"
      ]
     },
     "metadata": {},
     "output_type": "display_data"
    }
   ],
   "source": [
    "df_hold = pd.melt(df, id_vars=['s_target', 'hold_time'])\n",
    "g = seaborn.FacetGrid(df_long, hue='s_target', col='variable', sharey=False, legend_out=True)\n",
    "g.map(plt.plot, 'hold_time', 'value')\n",
    "g.add_legend()\n",
    "plt.suptitle(\"Statistics for Varying Reverse Annealing Parameters\")\n",
    "plt.subplots_adjust(left=.1, right=.9, top=.8)"
   ]
  },
  {
   "cell_type": "markdown",
   "metadata": {},
   "source": [
    "#### Conclusion:\n",
    "\n",
    "Reverse Annealing cannot increase the number of Best Known Solution as easily as hoped\n",
    "BUT the Good Known Solutions can be maxed out by starting from an already known good solution\n",
    "Therefore, if the Slope is too steep, only local minima (= same solutions as already found) will be found. The global Optimum will not be reached"
   ]
  },
  {
   "cell_type": "markdown",
   "metadata": {},
   "source": [
    "```s-target``` should be around 0.45 for finding a new global Optimum from an already known good solution"
   ]
  },
  {
   "cell_type": "markdown",
   "metadata": {},
   "source": [
    "```holdtime``` seems to be less influential for the results overall -- but for the Best Known Solutions and ```s-target``` = 0.45, the results increase with hold time "
   ]
  },
  {
   "cell_type": "code",
   "execution_count": 32,
   "metadata": {},
   "outputs": [
    {
     "name": "stdout",
     "output_type": "stream",
     "text": [
      "[[0.0, 1.0], [2.75, 0.45], [202.75, 0.45], [203.3, 1.0]]\n",
      "Total anneal-schedule time is 203.3 us\n"
     ]
    }
   ],
   "source": [
    "# [[t, s], [t_1, s_1], ..., [t_n, s_n]]\n",
    "# Time t must increase for all points in the schedule.\n",
    "# the anneal fraction s must start and end at s = 1.0\n",
    "max_slope = 1.0/qpu.properties[\"annealing_time_range\"][0]\n",
    "reverse_schedule = make_reverse_anneal_schedule(s_target=0.45, hold_time=200, ramp_up_slope=max_slope)\n",
    "time_total = reverse_schedule[3][0]\n",
    "\n",
    "print(reverse_schedule)\n",
    "print(\"Total anneal-schedule time is {} us\".format(time_total))"
   ]
  },
  {
   "cell_type": "code",
   "execution_count": 33,
   "metadata": {},
   "outputs": [
    {
     "data": {
      "image/png": "[encoded data removed]",
      "text/plain": [
       "<Figure size 216x216 with 1 Axes>"
      ]
     },
     "metadata": {},
     "output_type": "display_data"
    }
   ],
   "source": [
    "make_anneal_plot(reverse_schedule)"
   ]
  },
  {
   "cell_type": "code",
   "execution_count": 34,
   "metadata": {},
   "outputs": [],
   "source": [
    "\n",
    "i5 = int(5.0/95*len(best_sampleset))  # Index i5 is about a 5% indexial move from the sample of lowest energy\n",
    "\n",
    "initial = dict(zip(best_sampleset.variables, best_sampleset.record[i5].sample))\n",
    "reverse_anneal_params = dict(anneal_schedule=reverse_schedule, initial_state=initial, reinitialize_state=True)\n",
    "\n",
    "# The `reinitialize_state` parameter switches between two qualitatively different methods of local search \n",
    "# via quantum annealing.  With `reinitialize_state = 'True'`, many anneals are seeded from the single starting \n",
    "# state and the states returned, modulo time-dependent sources of error, are independently and identically \n",
    "# distributed.  With `reinitialize_state = 'False'`, the series of anneals behaves like a random walk and \n",
    "# is capable of exploring the solution space more broadly.  \n"
   ]
  },
  {
   "cell_type": "code",
   "execution_count": 35,
   "metadata": {},
   "outputs": [],
   "source": [
    "sampleset_reverse1 = FixedEmbeddingComposite(qpu, embedding).sample(bqm, \n",
    "                                                                   answer_mode=\"raw\", \n",
    "                                                                   num_reads=numr, \n",
    "                                                                   chain_strength= chnstr,\n",
    "                                                                   **reverse_anneal_params)  \n"
   ]
  },
  {
   "cell_type": "code",
   "execution_count": 36,
   "metadata": {},
   "outputs": [
    {
     "name": "stdout",
     "output_type": "stream",
     "text": [
      "Good solutions are 64.4% of samples.\n",
      "Best Known solutions are 27.8% of samples.\n",
      "Lowest energy found: [-8.0]\n",
      "Average energy is -7.01 with standard deviation 1.57\n"
     ]
    }
   ],
   "source": [
    "analyze(sampleset_reverse1, \"reverse_schedule1\", data)"
   ]
  },
  {
   "cell_type": "markdown",
   "metadata": {},
   "source": [
    "### But even for the best parameters, the results are on par with forward annealing"
   ]
  },
  {
   "cell_type": "code",
   "execution_count": null,
   "metadata": {},
   "outputs": [],
   "source": []
  }
 ],
 "metadata": {
  "kernelspec": {
   "display_name": "Python 3",
   "language": "python",
   "name": "python3"
  },
  "language_info": {
   "codemirror_mode": {
    "name": "ipython",
    "version": 3
   },
   "file_extension": ".py",
   "mimetype": "text/x-python",
   "name": "python",
   "nbconvert_exporter": "python",
   "pygments_lexer": "ipython3",
   "version": "3.8.3"
  }
 },
 "nbformat": 4,
 "nbformat_minor": 4
}
