{
 "cells": [
  {
   "cell_type": "code",
   "execution_count": 4,
   "metadata": {},
   "outputs": [],
   "source": [
    "\n",
    "import numpy as np\n",
    "import pandas as pd\n",
    "\n",
    "from qubo_util import *\n",
    "from dwave_qbsolv import QBSolv\n"
   ]
  },
  {
   "cell_type": "code",
   "execution_count": 20,
   "metadata": {},
   "outputs": [],
   "source": [
    "### Lets define the basics\n",
    "\n",
    "bend = [0, 1, 2]\n",
    "weld = [3, 4]\n",
    "paint =  [5]\n",
    "\n",
    "bend_length = 2\n",
    "weld_length = 3\n",
    "paint_length = 6\n",
    "\n",
    "t_step = 3\n",
    "t_step_in_sec = 30"
   ]
  },
  {
   "cell_type": "code",
   "execution_count": 5,
   "metadata": {},
   "outputs": [],
   "source": [
    "np.set_printoptions(suppress=True)"
   ]
  },
  {
   "cell_type": "markdown",
   "metadata": {},
   "source": [
    "### Jobs sorted by Complexity:  10, 20, 50, 100, 500, 1k, 5k"
   ]
  },
  {
   "cell_type": "markdown",
   "metadata": {
    "heading_collapsed": true
   },
   "source": [
    "### 10"
   ]
  },
  {
   "cell_type": "code",
   "execution_count": 87,
   "metadata": {
    "hidden": true
   },
   "outputs": [],
   "source": [
    "jobs = [(0, 0, 1, 2, 1, 3),\n",
    " (1, 0, 0, 2, 0, 1)]"
   ]
  },
  {
   "cell_type": "code",
   "execution_count": 88,
   "metadata": {
    "hidden": true,
    "scrolled": true
   },
   "outputs": [
    {
     "name": "stdout",
     "output_type": "stream",
     "text": [
      "The maximal maketime for the given operations is: 420 second(s).\n",
      "Which is equal to: 14 time steps.\n",
      "\n",
      "\n"
     ]
    }
   ],
   "source": [
    "# OrderNo, PartNo, BendingLines, WeldingPoints, PaintTime, DueDate \n",
    "\n",
    "m_t_steps = max_time(jobs, bend_length, weld_length, paint_length)\n",
    "\n",
    "m_time = m_t_steps * t_step_in_sec\n",
    "    \n",
    "print('The maximal maketime for the given operations is: ' + str(m_time) + ' second(s).\\nWhich is equal to: ' + str(m_t_steps) + ' time steps.\\n\\n')\n"
   ]
  },
  {
   "cell_type": "code",
   "execution_count": 89,
   "metadata": {
    "hidden": true,
    "scrolled": true
   },
   "outputs": [
    {
     "name": "stdout",
     "output_type": "stream",
     "text": [
      "Anzahl an Kombinationen: 12\n",
      "\n"
     ]
    }
   ],
   "source": [
    "operations = ops(jobs, bend, weld, paint, bend_length, weld_length, paint_length, t_step)\n",
    "\n",
    "print('Anzahl an Kombinationen: ' + str(len(operations)) + '\\n')"
   ]
  },
  {
   "cell_type": "code",
   "execution_count": 90,
   "metadata": {
    "hidden": true
   },
   "outputs": [
    {
     "data": {
      "text/html": [
       "<div>\n",
       "<style scoped>\n",
       "    .dataframe tbody tr th:only-of-type {\n",
       "        vertical-align: middle;\n",
       "    }\n",
       "\n",
       "    .dataframe tbody tr th {\n",
       "        vertical-align: top;\n",
       "    }\n",
       "\n",
       "    .dataframe thead th {\n",
       "        text-align: right;\n",
       "    }\n",
       "</style>\n",
       "<table border=\"1\" class=\"dataframe\">\n",
       "  <thead>\n",
       "    <tr style=\"text-align: right;\">\n",
       "      <th></th>\n",
       "      <th>order</th>\n",
       "      <th>part</th>\n",
       "      <th>bend</th>\n",
       "      <th>weld</th>\n",
       "      <th>paint</th>\n",
       "      <th>deadline</th>\n",
       "    </tr>\n",
       "  </thead>\n",
       "  <tbody>\n",
       "    <tr>\n",
       "      <th>0</th>\n",
       "      <td>0</td>\n",
       "      <td>0</td>\n",
       "      <td>2</td>\n",
       "      <td>6</td>\n",
       "      <td>6</td>\n",
       "      <td>18</td>\n",
       "    </tr>\n",
       "    <tr>\n",
       "      <th>1</th>\n",
       "      <td>1</td>\n",
       "      <td>0</td>\n",
       "      <td>0</td>\n",
       "      <td>6</td>\n",
       "      <td>0</td>\n",
       "      <td>6</td>\n",
       "    </tr>\n",
       "  </tbody>\n",
       "</table>\n",
       "</div>"
      ],
      "text/plain": [
       "   order  part  bend  weld  paint  deadline\n",
       "0      0     0     2     6      6        18\n",
       "1      1     0     0     6      0         6"
      ]
     },
     "execution_count": 90,
     "metadata": {},
     "output_type": "execute_result"
    }
   ],
   "source": [
    "df=pd.DataFrame(jobs, columns=['order', 'part', 'bend', 'weld', 'paint', 'deadline'])\n",
    "df[\"bend\"] = df[\"bend\"] * 2\n",
    "df[\"weld\"] = df[\"weld\"] * 3\n",
    "df[\"paint\"] = df[\"paint\"] * 6\n",
    "df[\"deadline\"] = df[\"deadline\"] * 6\n",
    "df"
   ]
  },
  {
   "cell_type": "code",
   "execution_count": 85,
   "metadata": {
    "hidden": true
   },
   "outputs": [
    {
     "name": "stderr",
     "output_type": "stream",
     "text": [
      "/opt/miniconda3/lib/python3.8/site-packages/pulp/pulp.py:1199: UserWarning: Spaces are not permitted in the name. Converted to '_'\n",
      "  warnings.warn(\"Spaces are not permitted in the name. Converted to '_'\")\n"
     ]
    },
    {
     "name": "stdout",
     "output_type": "stream",
     "text": [
      "INFO: execution time for solving mip (sec) = 0.5996890068054199\n",
      "INFO: objective = 14.0\n",
      "[(bend1, BendMachine2, 0, 2), (weld2, WeldMachine2, 0, 6), (weld1, WeldMachine1, 2, 8), (paint1, PaintMachine, 8, 14), (MakeSpan, BendMachine1, 14, 15)]\n"
     ]
    },
    {
     "data": {
      "image/png": "[encoded data removed]",
      "text/plain": [
       "<Figure size 720x360 with 1 Axes>"
      ]
     },
     "metadata": {
      "needs_background": "light"
     },
     "output_type": "display_data"
    }
   ],
   "source": [
    "#Classic for 10\n",
    "\n",
    "# Load pyschedule and create a scenario with ten steps planning horizon\n",
    "from pyschedule import Scenario, solvers, plotters\n",
    "S = Scenario('TRUMPF',horizon=120)\n",
    "\n",
    "# Create six resources -our machines\n",
    "BendMachine1, BendMachine2, BendMachine3, WeldMachine1, WeldMachine2, PaintMachine = S.Resource('BendMachine1'), S.Resource('BendMachine2'), S.Resource('BendMachine3'), S.Resource('WeldMachine1'), S.Resource('WeldMachine2'), S.Resource('PaintMachine')\n",
    "\n",
    "\n",
    "# Create three tasks with lengths 1,2 and 3\n",
    "bend1, weld1, paint1, weld2  = S.Task('bend1',2), S.Task('weld1',6), S.Task('paint1',6), S.Task('weld2',6)\n",
    "\n",
    "\n",
    "# Assign tasks to resources, either of our six machines\n",
    "# the %-operator connects tasks and resource\n",
    "\n",
    "\n",
    "\n",
    "##Assign precedence\n",
    "\n",
    "S += bend1< weld1, weld1 <paint1\n",
    "\n",
    "\n",
    "##Assign Ressources\n",
    "#Bending\n",
    "S += bend1 % BendMachine1|BendMachine2|BendMachine3\n",
    "\n",
    "\n",
    "\n",
    "#Welding\n",
    "S += weld1 % WeldMachine1|WeldMachine2\n",
    "S += weld2 % WeldMachine1|WeldMachine2\n",
    "\n",
    "\n",
    "\n",
    "#Painting\n",
    "S += paint1% PaintMachine\n",
    "\n",
    "\n",
    "\n",
    "# Solve and print solution\n",
    "S.use_makespan_objective()\n",
    "solvers.pulp.solve(S,msg=1)\n",
    "\n",
    "# Print the solution\n",
    "print(S.solution())\n",
    "%matplotlib inline\n",
    "plotters.matplotlib.plot(S,fig_size=(10,5))"
   ]
  },
  {
   "cell_type": "markdown",
   "metadata": {
    "heading_collapsed": true
   },
   "source": [
    "### 20"
   ]
  },
  {
   "cell_type": "code",
   "execution_count": 91,
   "metadata": {
    "hidden": true
   },
   "outputs": [],
   "source": [
    "jobs = [(0, 0, 1, 1, 2, 3),\n",
    " (1, 0, 0, 2, 0, 1)]"
   ]
  },
  {
   "cell_type": "code",
   "execution_count": 92,
   "metadata": {
    "hidden": true,
    "scrolled": true
   },
   "outputs": [
    {
     "name": "stdout",
     "output_type": "stream",
     "text": [
      "The maximal maketime for the given operations is: 600 second(s).\n",
      "Which is equal to: 20 time steps.\n",
      "\n",
      "\n"
     ]
    }
   ],
   "source": [
    "# OrderNo, PartNo, BendingLines, WeldingPoints, PaintTime, DueDate \n",
    "\n",
    "m_t_steps = max_time(jobs, bend_length, weld_length, paint_length)\n",
    "\n",
    "m_time = m_t_steps * t_step_in_sec\n",
    "    \n",
    "print('The maximal maketime for the given operations is: ' + str(m_time) + ' second(s).\\nWhich is equal to: ' + str(m_t_steps) + ' time steps.\\n\\n')\n"
   ]
  },
  {
   "cell_type": "code",
   "execution_count": 93,
   "metadata": {
    "hidden": true,
    "scrolled": true
   },
   "outputs": [
    {
     "name": "stdout",
     "output_type": "stream",
     "text": [
      "Anzahl an Kombinationen: 22\n",
      "\n"
     ]
    }
   ],
   "source": [
    "operations = ops(jobs, bend, weld, paint, bend_length, weld_length, paint_length, t_step)\n",
    "\n",
    "print('Anzahl an Kombinationen: ' + str(len(operations)) + '\\n')"
   ]
  },
  {
   "cell_type": "code",
   "execution_count": 94,
   "metadata": {
    "hidden": true
   },
   "outputs": [
    {
     "data": {
      "text/html": [
       "<div>\n",
       "<style scoped>\n",
       "    .dataframe tbody tr th:only-of-type {\n",
       "        vertical-align: middle;\n",
       "    }\n",
       "\n",
       "    .dataframe tbody tr th {\n",
       "        vertical-align: top;\n",
       "    }\n",
       "\n",
       "    .dataframe thead th {\n",
       "        text-align: right;\n",
       "    }\n",
       "</style>\n",
       "<table border=\"1\" class=\"dataframe\">\n",
       "  <thead>\n",
       "    <tr style=\"text-align: right;\">\n",
       "      <th></th>\n",
       "      <th>order</th>\n",
       "      <th>part</th>\n",
       "      <th>bend</th>\n",
       "      <th>weld</th>\n",
       "      <th>paint</th>\n",
       "      <th>deadline</th>\n",
       "    </tr>\n",
       "  </thead>\n",
       "  <tbody>\n",
       "    <tr>\n",
       "      <th>0</th>\n",
       "      <td>0</td>\n",
       "      <td>0</td>\n",
       "      <td>2</td>\n",
       "      <td>3</td>\n",
       "      <td>12</td>\n",
       "      <td>18</td>\n",
       "    </tr>\n",
       "    <tr>\n",
       "      <th>1</th>\n",
       "      <td>1</td>\n",
       "      <td>0</td>\n",
       "      <td>0</td>\n",
       "      <td>6</td>\n",
       "      <td>0</td>\n",
       "      <td>6</td>\n",
       "    </tr>\n",
       "  </tbody>\n",
       "</table>\n",
       "</div>"
      ],
      "text/plain": [
       "   order  part  bend  weld  paint  deadline\n",
       "0      0     0     2     3     12        18\n",
       "1      1     0     0     6      0         6"
      ]
     },
     "execution_count": 94,
     "metadata": {},
     "output_type": "execute_result"
    }
   ],
   "source": [
    "df=pd.DataFrame(jobs, columns=['order', 'part', 'bend', 'weld', 'paint', 'deadline'])\n",
    "df[\"bend\"] = df[\"bend\"] * 2\n",
    "df[\"weld\"] = df[\"weld\"] * 3\n",
    "df[\"paint\"] = df[\"paint\"] * 6\n",
    "df[\"deadline\"] = df[\"deadline\"] * 6\n",
    "df"
   ]
  },
  {
   "cell_type": "code",
   "execution_count": 80,
   "metadata": {
    "hidden": true
   },
   "outputs": [
    {
     "name": "stderr",
     "output_type": "stream",
     "text": [
      "/opt/miniconda3/lib/python3.8/site-packages/pulp/pulp.py:1199: UserWarning: Spaces are not permitted in the name. Converted to '_'\n",
      "  warnings.warn(\"Spaces are not permitted in the name. Converted to '_'\")\n"
     ]
    },
    {
     "name": "stdout",
     "output_type": "stream",
     "text": [
      "INFO: execution time for solving mip (sec) = 0.5809211730957031\n",
      "INFO: objective = 17.0\n",
      "[(bend1, BendMachine3, 0, 2), (weld2, WeldMachine2, 0, 6), (weld1, WeldMachine1, 2, 5), (paint1, PaintMachine, 5, 17), (MakeSpan, BendMachine1, 17, 18)]\n"
     ]
    },
    {
     "data": {
      "image/png": "[encoded data removed]",
      "text/plain": [
       "<Figure size 720x360 with 1 Axes>"
      ]
     },
     "metadata": {
      "needs_background": "light"
     },
     "output_type": "display_data"
    }
   ],
   "source": [
    "#Classic for 20\n",
    "\n",
    "# Load pyschedule and create a scenario with ten steps planning horizon\n",
    "from pyschedule import Scenario, solvers, plotters\n",
    "S = Scenario('TRUMPF',horizon=120)\n",
    "\n",
    "# Create six resources -our machines\n",
    "BendMachine1, BendMachine2, BendMachine3, WeldMachine1, WeldMachine2, PaintMachine = S.Resource('BendMachine1'), S.Resource('BendMachine2'), S.Resource('BendMachine3'), S.Resource('WeldMachine1'), S.Resource('WeldMachine2'), S.Resource('PaintMachine')\n",
    "\n",
    "\n",
    "# Create three tasks with lengths 1,2 and 3\n",
    "bend1, weld1, paint1, weld2  = S.Task('bend1',2), S.Task('weld1',3), S.Task('paint1',12), S.Task('weld2',6)\n",
    "\n",
    "\n",
    "# Assign tasks to resources, either of our six machines\n",
    "# the %-operator connects tasks and resource\n",
    "\n",
    "\n",
    "\n",
    "##Assign precedence\n",
    "\n",
    "S += bend1< weld1, weld1 <paint1\n",
    "\n",
    "\n",
    "##Assign Ressources\n",
    "#Bending\n",
    "S += bend1 % BendMachine1|BendMachine2|BendMachine3\n",
    "\n",
    "\n",
    "\n",
    "#Welding\n",
    "S += weld1 % WeldMachine1|WeldMachine2\n",
    "S += weld2 % WeldMachine1|WeldMachine2\n",
    "\n",
    "\n",
    "\n",
    "#Painting\n",
    "S += paint1% PaintMachine\n",
    "\n",
    "\n",
    "\n",
    "# Solve and print solution\n",
    "S.use_makespan_objective()\n",
    "solvers.pulp.solve(S,msg=1)\n",
    "\n",
    "# Print the solution\n",
    "print(S.solution())\n",
    "%matplotlib inline\n",
    "plotters.matplotlib.plot(S,fig_size=(10,5))"
   ]
  },
  {
   "cell_type": "markdown",
   "metadata": {
    "heading_collapsed": true
   },
   "source": [
    "### 50"
   ]
  },
  {
   "cell_type": "code",
   "execution_count": 128,
   "metadata": {
    "hidden": true
   },
   "outputs": [],
   "source": [
    "jobs = [(0, 0, 1, 1, 2, 3),\n",
    " (1, 0, 2, 3, 0, 3)]"
   ]
  },
  {
   "cell_type": "code",
   "execution_count": 129,
   "metadata": {
    "hidden": true,
    "scrolled": true
   },
   "outputs": [
    {
     "name": "stdout",
     "output_type": "stream",
     "text": [
      "The maximal maketime for the given operations is: 810 second(s).\n",
      "Which is equal to: 27 time steps.\n",
      "\n",
      "\n"
     ]
    }
   ],
   "source": [
    "# OrderNo, PartNo, BendingLines, WeldingPoints, PaintTime, DueDate \n",
    "\n",
    "m_t_steps = max_time(jobs, bend_length, weld_length, paint_length)\n",
    "\n",
    "m_time = m_t_steps * t_step_in_sec\n",
    "    \n",
    "print('The maximal maketime for the given operations is: ' + str(m_time) + ' second(s).\\nWhich is equal to: ' + str(m_t_steps) + ' time steps.\\n\\n')\n"
   ]
  },
  {
   "cell_type": "code",
   "execution_count": 130,
   "metadata": {
    "hidden": true,
    "scrolled": true
   },
   "outputs": [
    {
     "name": "stdout",
     "output_type": "stream",
     "text": [
      "Anzahl an Kombinationen: 49\n",
      "\n"
     ]
    }
   ],
   "source": [
    "operations = ops(jobs, bend, weld, paint, bend_length, weld_length, paint_length, t_step)\n",
    "\n",
    "print('Anzahl an Kombinationen: ' + str(len(operations)) + '\\n')"
   ]
  },
  {
   "cell_type": "code",
   "execution_count": 131,
   "metadata": {
    "hidden": true
   },
   "outputs": [
    {
     "data": {
      "text/html": [
       "<div>\n",
       "<style scoped>\n",
       "    .dataframe tbody tr th:only-of-type {\n",
       "        vertical-align: middle;\n",
       "    }\n",
       "\n",
       "    .dataframe tbody tr th {\n",
       "        vertical-align: top;\n",
       "    }\n",
       "\n",
       "    .dataframe thead th {\n",
       "        text-align: right;\n",
       "    }\n",
       "</style>\n",
       "<table border=\"1\" class=\"dataframe\">\n",
       "  <thead>\n",
       "    <tr style=\"text-align: right;\">\n",
       "      <th></th>\n",
       "      <th>order</th>\n",
       "      <th>part</th>\n",
       "      <th>bend</th>\n",
       "      <th>weld</th>\n",
       "      <th>paint</th>\n",
       "      <th>deadline</th>\n",
       "    </tr>\n",
       "  </thead>\n",
       "  <tbody>\n",
       "    <tr>\n",
       "      <th>0</th>\n",
       "      <td>0</td>\n",
       "      <td>0</td>\n",
       "      <td>2</td>\n",
       "      <td>3</td>\n",
       "      <td>12</td>\n",
       "      <td>18</td>\n",
       "    </tr>\n",
       "    <tr>\n",
       "      <th>1</th>\n",
       "      <td>1</td>\n",
       "      <td>0</td>\n",
       "      <td>4</td>\n",
       "      <td>9</td>\n",
       "      <td>0</td>\n",
       "      <td>18</td>\n",
       "    </tr>\n",
       "  </tbody>\n",
       "</table>\n",
       "</div>"
      ],
      "text/plain": [
       "   order  part  bend  weld  paint  deadline\n",
       "0      0     0     2     3     12        18\n",
       "1      1     0     4     9      0        18"
      ]
     },
     "execution_count": 131,
     "metadata": {},
     "output_type": "execute_result"
    }
   ],
   "source": [
    "df=pd.DataFrame(jobs, columns=['order', 'part', 'bend', 'weld', 'paint', 'deadline'])\n",
    "df[\"bend\"] = df[\"bend\"] * 2\n",
    "df[\"weld\"] = df[\"weld\"] * 3\n",
    "df[\"paint\"] = df[\"paint\"] * 6\n",
    "df[\"deadline\"] = df[\"deadline\"] * 6\n",
    "df"
   ]
  },
  {
   "cell_type": "code",
   "execution_count": 132,
   "metadata": {
    "hidden": true
   },
   "outputs": [
    {
     "name": "stderr",
     "output_type": "stream",
     "text": [
      "/opt/miniconda3/lib/python3.8/site-packages/pulp/pulp.py:1199: UserWarning: Spaces are not permitted in the name. Converted to '_'\n",
      "  warnings.warn(\"Spaces are not permitted in the name. Converted to '_'\")\n"
     ]
    },
    {
     "name": "stdout",
     "output_type": "stream",
     "text": [
      "INFO: execution time for solving mip (sec) = 0.7804708480834961\n",
      "INFO: objective = 17.0\n",
      "[(bend1, BendMachine1, 0, 2), (bend2, BendMachine3, 0, 4), (weld1, WeldMachine2, 2, 5), (paint1, PaintMachine, 5, 17), (weld2, WeldMachine1, 5, 14), (MakeSpan, BendMachine1, 17, 18)]\n"
     ]
    },
    {
     "data": {
      "image/png": "[encoded data removed]",
      "text/plain": [
       "<Figure size 720x360 with 1 Axes>"
      ]
     },
     "metadata": {
      "needs_background": "light"
     },
     "output_type": "display_data"
    }
   ],
   "source": [
    "#Classic for 50\n",
    "\n",
    "# Load pyschedule and create a scenario with ten steps planning horizon\n",
    "from pyschedule import Scenario, solvers, plotters\n",
    "S = Scenario('TRUMPF',horizon=120)\n",
    "\n",
    "# Create six resources -our machines\n",
    "BendMachine1, BendMachine2, BendMachine3, WeldMachine1, WeldMachine2, PaintMachine = S.Resource('BendMachine1'), S.Resource('BendMachine2'), S.Resource('BendMachine3'), S.Resource('WeldMachine1'), S.Resource('WeldMachine2'), S.Resource('PaintMachine')\n",
    "\n",
    "\n",
    "# Create three tasks with lengths 1,2 and 3\n",
    "bend1, weld1, paint1, bend2, weld2  = S.Task('bend1',2), S.Task('weld1',3), S.Task('paint1',12), S.Task('bend2',4), S.Task('weld2',9)\n",
    "\n",
    "\n",
    "# Assign tasks to resources, either of our six machines\n",
    "# the %-operator connects tasks and resource\n",
    "\n",
    "\n",
    "\n",
    "##Assign precedence\n",
    "\n",
    "S += bend1< weld1, weld1 <paint1\n",
    "S += bend2< weld2\n",
    "\n",
    "\n",
    "##Assign Ressources\n",
    "#Bending\n",
    "S += bend1 % BendMachine1|BendMachine2|BendMachine3\n",
    "S += bend2 % BendMachine1|BendMachine2|BendMachine3\n",
    "\n",
    "\n",
    "\n",
    "#Welding\n",
    "S += weld1 % WeldMachine1|WeldMachine2\n",
    "S += weld2 % WeldMachine1|WeldMachine2\n",
    "\n",
    "\n",
    "\n",
    "#Painting\n",
    "S += paint1% PaintMachine\n",
    "\n",
    "\n",
    "\n",
    "# Solve and print solution\n",
    "S.use_makespan_objective()\n",
    "solvers.pulp.solve(S,msg=1)\n",
    "\n",
    "# Print the solution\n",
    "print(S.solution())\n",
    "%matplotlib inline\n",
    "plotters.matplotlib.plot(S,fig_size=(10,5))"
   ]
  },
  {
   "cell_type": "markdown",
   "metadata": {
    "heading_collapsed": true
   },
   "source": [
    "### 100"
   ]
  },
  {
   "cell_type": "code",
   "execution_count": 149,
   "metadata": {
    "hidden": true
   },
   "outputs": [],
   "source": [
    "jobs = [(0, 0, 4, 3, 6, 9),\n",
    " (1, 0, 2, 6, 0, 4)]"
   ]
  },
  {
   "cell_type": "code",
   "execution_count": 150,
   "metadata": {
    "hidden": true,
    "scrolled": true
   },
   "outputs": [
    {
     "name": "stdout",
     "output_type": "stream",
     "text": [
      "The maximal maketime for the given operations is: 1980 second(s).\n",
      "Which is equal to: 66 time steps.\n",
      "\n",
      "\n"
     ]
    }
   ],
   "source": [
    "# OrderNo, PartNo, BendingLines, WeldingPoints, PaintTime, DueDate \n",
    "\n",
    "m_t_steps = max_time(jobs, bend_length, weld_length, paint_length)\n",
    "\n",
    "m_time = m_t_steps * t_step_in_sec\n",
    "    \n",
    "print('The maximal maketime for the given operations is: ' + str(m_time) + ' second(s).\\nWhich is equal to: ' + str(m_t_steps) + ' time steps.\\n\\n')\n"
   ]
  },
  {
   "cell_type": "code",
   "execution_count": 151,
   "metadata": {
    "hidden": true,
    "scrolled": true
   },
   "outputs": [
    {
     "name": "stdout",
     "output_type": "stream",
     "text": [
      "Anzahl an Kombinationen: 105\n",
      "\n"
     ]
    }
   ],
   "source": [
    "operations = ops(jobs, bend, weld, paint, bend_length, weld_length, paint_length, t_step)\n",
    "\n",
    "print('Anzahl an Kombinationen: ' + str(len(operations)) + '\\n')"
   ]
  },
  {
   "cell_type": "code",
   "execution_count": 152,
   "metadata": {
    "hidden": true
   },
   "outputs": [
    {
     "data": {
      "text/html": [
       "<div>\n",
       "<style scoped>\n",
       "    .dataframe tbody tr th:only-of-type {\n",
       "        vertical-align: middle;\n",
       "    }\n",
       "\n",
       "    .dataframe tbody tr th {\n",
       "        vertical-align: top;\n",
       "    }\n",
       "\n",
       "    .dataframe thead th {\n",
       "        text-align: right;\n",
       "    }\n",
       "</style>\n",
       "<table border=\"1\" class=\"dataframe\">\n",
       "  <thead>\n",
       "    <tr style=\"text-align: right;\">\n",
       "      <th></th>\n",
       "      <th>order</th>\n",
       "      <th>part</th>\n",
       "      <th>bend</th>\n",
       "      <th>weld</th>\n",
       "      <th>paint</th>\n",
       "      <th>deadline</th>\n",
       "    </tr>\n",
       "  </thead>\n",
       "  <tbody>\n",
       "    <tr>\n",
       "      <th>0</th>\n",
       "      <td>0</td>\n",
       "      <td>0</td>\n",
       "      <td>8</td>\n",
       "      <td>9</td>\n",
       "      <td>36</td>\n",
       "      <td>54</td>\n",
       "    </tr>\n",
       "    <tr>\n",
       "      <th>1</th>\n",
       "      <td>1</td>\n",
       "      <td>0</td>\n",
       "      <td>4</td>\n",
       "      <td>18</td>\n",
       "      <td>0</td>\n",
       "      <td>24</td>\n",
       "    </tr>\n",
       "  </tbody>\n",
       "</table>\n",
       "</div>"
      ],
      "text/plain": [
       "   order  part  bend  weld  paint  deadline\n",
       "0      0     0     8     9     36        54\n",
       "1      1     0     4    18      0        24"
      ]
     },
     "execution_count": 152,
     "metadata": {},
     "output_type": "execute_result"
    }
   ],
   "source": [
    "df=pd.DataFrame(jobs, columns=['order', 'part', 'bend', 'weld', 'paint', 'deadline'])\n",
    "df[\"bend\"] = df[\"bend\"] * 2\n",
    "df[\"weld\"] = df[\"weld\"] * 3\n",
    "df[\"paint\"] = df[\"paint\"] * 6\n",
    "df[\"deadline\"] = df[\"deadline\"] * 6\n",
    "df"
   ]
  },
  {
   "cell_type": "code",
   "execution_count": 59,
   "metadata": {
    "hidden": true
   },
   "outputs": [
    {
     "name": "stderr",
     "output_type": "stream",
     "text": [
      "/opt/miniconda3/lib/python3.8/site-packages/pulp/pulp.py:1199: UserWarning: Spaces are not permitted in the name. Converted to '_'\n",
      "  warnings.warn(\"Spaces are not permitted in the name. Converted to '_'\")\n"
     ]
    },
    {
     "name": "stdout",
     "output_type": "stream",
     "text": [
      "INFO: execution time for solving mip (sec) = 0.8674478530883789\n",
      "INFO: objective = 53.0\n",
      "[(bend1, BendMachine2, 0, 8), (bend2, BendMachine1, 0, 4), (weld2, WeldMachine2, 6, 24), (weld1, WeldMachine1, 8, 17), (paint1, PaintMachine, 17, 53), (MakeSpan, BendMachine1, 53, 54)]\n"
     ]
    },
    {
     "data": {
      "image/png": "[encoded data removed]",
      "text/plain": [
       "<Figure size 720x360 with 1 Axes>"
      ]
     },
     "metadata": {
      "needs_background": "light"
     },
     "output_type": "display_data"
    }
   ],
   "source": [
    "#Classic for 100\n",
    "\n",
    "# Load pyschedule and create a scenario with ten steps planning horizon\n",
    "from pyschedule import Scenario, solvers, plotters\n",
    "S = Scenario('TRUMPF',horizon=120)\n",
    "\n",
    "# Create six resources -our machines\n",
    "BendMachine1, BendMachine2, BendMachine3, WeldMachine1, WeldMachine2, PaintMachine = S.Resource('BendMachine1'), S.Resource('BendMachine2'), S.Resource('BendMachine3'), S.Resource('WeldMachine1'), S.Resource('WeldMachine2'), S.Resource('PaintMachine')\n",
    "\n",
    "\n",
    "# Create three tasks with lengths 1,2 and 3\n",
    "bend1, weld1, paint1, bend2, weld2  = S.Task('bend1',8), S.Task('weld1',9), S.Task('paint1',36), S.Task('bend2',4), S.Task('weld2',18)\n",
    "\n",
    "\n",
    "# Assign tasks to resources, either of our six machines\n",
    "# the %-operator connects tasks and resource\n",
    "\n",
    "\n",
    "\n",
    "##Assign precedence\n",
    "\n",
    "S += bend1< weld1, weld1 <paint1\n",
    "S += bend2< weld2\n",
    "\n",
    "\n",
    "##Assign Ressources\n",
    "#Bending\n",
    "S += bend1 % BendMachine1|BendMachine2|BendMachine3\n",
    "S += bend2 % BendMachine1|BendMachine2|BendMachine3\n",
    "\n",
    "\n",
    "\n",
    "#Welding\n",
    "S += weld1 % WeldMachine1|WeldMachine2\n",
    "S += weld2 % WeldMachine1|WeldMachine2\n",
    "\n",
    "\n",
    "\n",
    "#Painting\n",
    "S += paint1% PaintMachine\n",
    "\n",
    "\n",
    "\n",
    "# Solve and print solution\n",
    "S.use_makespan_objective()\n",
    "solvers.pulp.solve(S,msg=1)\n",
    "\n",
    "# Print the solution\n",
    "print(S.solution())\n",
    "%matplotlib inline\n",
    "plotters.matplotlib.plot(S,fig_size=(10,5))"
   ]
  },
  {
   "cell_type": "markdown",
   "metadata": {
    "heading_collapsed": true
   },
   "source": [
    "### 500"
   ]
  },
  {
   "cell_type": "code",
   "execution_count": 161,
   "metadata": {
    "hidden": true
   },
   "outputs": [],
   "source": [
    "jobs = [(0, 0, 3, 12, 8, 20),\n",
    " (1, 0, 5, 9, 0, 10),\n",
    " (1, 1, 9, 4, 5, 10)]"
   ]
  },
  {
   "cell_type": "code",
   "execution_count": 162,
   "metadata": {
    "hidden": true,
    "scrolled": true
   },
   "outputs": [
    {
     "name": "stdout",
     "output_type": "stream",
     "text": [
      "The maximal maketime for the given operations is: 4530 second(s).\n",
      "Which is equal to: 151 time steps.\n",
      "\n",
      "\n"
     ]
    }
   ],
   "source": [
    "# OrderNo, PartNo, BendingLines, WeldingPoints, PaintTime, DueDate \n",
    "\n",
    "m_t_steps = max_time(jobs, bend_length, weld_length, paint_length)\n",
    "\n",
    "m_time = m_t_steps * t_step_in_sec\n",
    "    \n",
    "print('The maximal maketime for the given operations is: ' + str(m_time) + ' second(s).\\nWhich is equal to: ' + str(m_t_steps) + ' time steps.\\n\\n')\n"
   ]
  },
  {
   "cell_type": "code",
   "execution_count": 163,
   "metadata": {
    "hidden": true,
    "scrolled": true
   },
   "outputs": [
    {
     "name": "stdout",
     "output_type": "stream",
     "text": [
      "Anzahl an Kombinationen: 507\n",
      "\n"
     ]
    }
   ],
   "source": [
    "operations = ops(jobs, bend, weld, paint, bend_length, weld_length, paint_length, t_step)\n",
    "\n",
    "print('Anzahl an Kombinationen: ' + str(len(operations)) + '\\n')"
   ]
  },
  {
   "cell_type": "code",
   "execution_count": 164,
   "metadata": {
    "hidden": true
   },
   "outputs": [
    {
     "data": {
      "text/html": [
       "<div>\n",
       "<style scoped>\n",
       "    .dataframe tbody tr th:only-of-type {\n",
       "        vertical-align: middle;\n",
       "    }\n",
       "\n",
       "    .dataframe tbody tr th {\n",
       "        vertical-align: top;\n",
       "    }\n",
       "\n",
       "    .dataframe thead th {\n",
       "        text-align: right;\n",
       "    }\n",
       "</style>\n",
       "<table border=\"1\" class=\"dataframe\">\n",
       "  <thead>\n",
       "    <tr style=\"text-align: right;\">\n",
       "      <th></th>\n",
       "      <th>order</th>\n",
       "      <th>part</th>\n",
       "      <th>bend</th>\n",
       "      <th>weld</th>\n",
       "      <th>paint</th>\n",
       "      <th>deadline</th>\n",
       "    </tr>\n",
       "  </thead>\n",
       "  <tbody>\n",
       "    <tr>\n",
       "      <th>0</th>\n",
       "      <td>0</td>\n",
       "      <td>0</td>\n",
       "      <td>6</td>\n",
       "      <td>36</td>\n",
       "      <td>48</td>\n",
       "      <td>120</td>\n",
       "    </tr>\n",
       "    <tr>\n",
       "      <th>1</th>\n",
       "      <td>1</td>\n",
       "      <td>0</td>\n",
       "      <td>10</td>\n",
       "      <td>27</td>\n",
       "      <td>0</td>\n",
       "      <td>60</td>\n",
       "    </tr>\n",
       "    <tr>\n",
       "      <th>2</th>\n",
       "      <td>1</td>\n",
       "      <td>1</td>\n",
       "      <td>18</td>\n",
       "      <td>12</td>\n",
       "      <td>30</td>\n",
       "      <td>60</td>\n",
       "    </tr>\n",
       "  </tbody>\n",
       "</table>\n",
       "</div>"
      ],
      "text/plain": [
       "   order  part  bend  weld  paint  deadline\n",
       "0      0     0     6    36     48       120\n",
       "1      1     0    10    27      0        60\n",
       "2      1     1    18    12     30        60"
      ]
     },
     "execution_count": 164,
     "metadata": {},
     "output_type": "execute_result"
    }
   ],
   "source": [
    "df=pd.DataFrame(jobs, columns=['order', 'part', 'bend', 'weld', 'paint', 'deadline'])\n",
    "df[\"bend\"] = df[\"bend\"] * 2\n",
    "df[\"weld\"] = df[\"weld\"] * 3\n",
    "df[\"paint\"] = df[\"paint\"] * 6\n",
    "df[\"deadline\"] = df[\"deadline\"] * 6\n",
    "df"
   ]
  },
  {
   "cell_type": "code",
   "execution_count": 165,
   "metadata": {
    "hidden": true
   },
   "outputs": [
    {
     "name": "stderr",
     "output_type": "stream",
     "text": [
      "/opt/miniconda3/lib/python3.8/site-packages/pulp/pulp.py:1199: UserWarning: Spaces are not permitted in the name. Converted to '_'\n",
      "  warnings.warn(\"Spaces are not permitted in the name. Converted to '_'\")\n"
     ]
    },
    {
     "name": "stdout",
     "output_type": "stream",
     "text": [
      "INFO: execution time for solving mip (sec) = 1.3055789470672607\n",
      "INFO: objective = 108.0\n",
      "[(bend1, BendMachine3, 0, 6), (bend2, BendMachine1, 0, 10), (bend3, BendMachine2, 0, 18), (weld1, WeldMachine1, 11, 47), (weld3, WeldMachine2, 18, 30), (paint3, PaintMachine, 30, 60), (paint1, PaintMachine, 60, 108), (weld2, WeldMachine2, 75, 102), (MakeSpan, BendMachine1, 108, 109)]\n"
     ]
    },
    {
     "data": {
      "image/png": "[encoded data removed]",
      "text/plain": [
       "<Figure size 720x360 with 1 Axes>"
      ]
     },
     "metadata": {
      "needs_background": "light"
     },
     "output_type": "display_data"
    }
   ],
   "source": [
    "#Classic for 500\n",
    "\n",
    "# Load pyschedule and create a scenario with ten steps planning horizon\n",
    "from pyschedule import Scenario, solvers, plotters\n",
    "S = Scenario('TRUMPF',horizon=120)\n",
    "\n",
    "# Create six resources -our machines\n",
    "BendMachine1, BendMachine2, BendMachine3, WeldMachine1, WeldMachine2, PaintMachine = S.Resource('BendMachine1'), S.Resource('BendMachine2'), S.Resource('BendMachine3'), S.Resource('WeldMachine1'), S.Resource('WeldMachine2'), S.Resource('PaintMachine')\n",
    "\n",
    "\n",
    "# Create three tasks with lengths 1,2 and 3\n",
    "bend1, weld1, paint1, bend2, weld2, bend3, weld3, paint3  = S.Task('bend1',6), S.Task('weld1',36), S.Task('paint1',48), S.Task('bend2',10), S.Task('weld2',27), S.Task('bend3',18), S.Task('weld3',12), S.Task('paint3',30)\n",
    "\n",
    "\n",
    "# Assign tasks to resources, either of our six machines\n",
    "# the %-operator connects tasks and resource\n",
    "\n",
    "\n",
    "\n",
    "##Assign precedence\n",
    "\n",
    "S += bend1< weld1, weld1 <paint1\n",
    "S += bend2< weld2\n",
    "S += bend3< weld3, weld3 <paint3\n",
    "\n",
    "\n",
    "##Assign Ressources\n",
    "#Bending\n",
    "S += bend1 % BendMachine1|BendMachine2|BendMachine3\n",
    "S += bend2 % BendMachine1|BendMachine2|BendMachine3\n",
    "S += bend3 % BendMachine1|BendMachine2|BendMachine3\n",
    "\n",
    "\n",
    "\n",
    "#Welding\n",
    "S += weld1 % WeldMachine1|WeldMachine2\n",
    "S += weld2 % WeldMachine1|WeldMachine2\n",
    "S += weld3 % WeldMachine1|WeldMachine2\n",
    "\n",
    "\n",
    "\n",
    "#Painting\n",
    "S += paint1% PaintMachine\n",
    "\n",
    "S += paint3% PaintMachine\n",
    "\n",
    "\n",
    "\n",
    "# Solve and print solution\n",
    "S.use_makespan_objective()\n",
    "solvers.pulp.solve(S,msg=1)\n",
    "\n",
    "# Print the solution\n",
    "print(S.solution())\n",
    "%matplotlib inline\n",
    "plotters.matplotlib.plot(S,fig_size=(10,5))"
   ]
  },
  {
   "cell_type": "markdown",
   "metadata": {
    "heading_collapsed": true
   },
   "source": [
    "### 1k"
   ]
  },
  {
   "cell_type": "code",
   "execution_count": 186,
   "metadata": {
    "hidden": true
   },
   "outputs": [],
   "source": [
    "jobs = [(0, 0, 1, 12, 8, 18),\n",
    " (1, 0, 5, 9, 0, 13),\n",
    " (1, 1, 9, 1, 5, 13),\n",
    " (2, 0, 1, 9, 3, 20)]"
   ]
  },
  {
   "cell_type": "code",
   "execution_count": 187,
   "metadata": {
    "hidden": true,
    "scrolled": true
   },
   "outputs": [
    {
     "name": "stdout",
     "output_type": "stream",
     "text": [
      "The maximal maketime for the given operations is: 5550 second(s).\n",
      "Which is equal to: 185 time steps.\n",
      "\n",
      "\n"
     ]
    }
   ],
   "source": [
    "# OrderNo, PartNo, BendingLines, WeldingPoints, PaintTime, DueDate \n",
    "\n",
    "m_t_steps = max_time(jobs, bend_length, weld_length, paint_length)\n",
    "\n",
    "m_time = m_t_steps * t_step_in_sec\n",
    "    \n",
    "print('The maximal maketime for the given operations is: ' + str(m_time) + ' second(s).\\nWhich is equal to: ' + str(m_t_steps) + ' time steps.\\n\\n')\n"
   ]
  },
  {
   "cell_type": "code",
   "execution_count": 188,
   "metadata": {
    "hidden": true,
    "scrolled": true
   },
   "outputs": [
    {
     "name": "stdout",
     "output_type": "stream",
     "text": [
      "Anzahl an Kombinationen: 1006\n",
      "\n"
     ]
    }
   ],
   "source": [
    "operations = ops(jobs, bend, weld, paint, bend_length, weld_length, paint_length, t_step)\n",
    "\n",
    "print('Anzahl an Kombinationen: ' + str(len(operations)) + '\\n')"
   ]
  },
  {
   "cell_type": "code",
   "execution_count": 189,
   "metadata": {
    "hidden": true
   },
   "outputs": [
    {
     "data": {
      "text/html": [
       "<div>\n",
       "<style scoped>\n",
       "    .dataframe tbody tr th:only-of-type {\n",
       "        vertical-align: middle;\n",
       "    }\n",
       "\n",
       "    .dataframe tbody tr th {\n",
       "        vertical-align: top;\n",
       "    }\n",
       "\n",
       "    .dataframe thead th {\n",
       "        text-align: right;\n",
       "    }\n",
       "</style>\n",
       "<table border=\"1\" class=\"dataframe\">\n",
       "  <thead>\n",
       "    <tr style=\"text-align: right;\">\n",
       "      <th></th>\n",
       "      <th>order</th>\n",
       "      <th>part</th>\n",
       "      <th>bend</th>\n",
       "      <th>weld</th>\n",
       "      <th>paint</th>\n",
       "      <th>deadline</th>\n",
       "    </tr>\n",
       "  </thead>\n",
       "  <tbody>\n",
       "    <tr>\n",
       "      <th>0</th>\n",
       "      <td>0</td>\n",
       "      <td>0</td>\n",
       "      <td>2</td>\n",
       "      <td>36</td>\n",
       "      <td>48</td>\n",
       "      <td>108</td>\n",
       "    </tr>\n",
       "    <tr>\n",
       "      <th>1</th>\n",
       "      <td>1</td>\n",
       "      <td>0</td>\n",
       "      <td>10</td>\n",
       "      <td>27</td>\n",
       "      <td>0</td>\n",
       "      <td>78</td>\n",
       "    </tr>\n",
       "    <tr>\n",
       "      <th>2</th>\n",
       "      <td>1</td>\n",
       "      <td>1</td>\n",
       "      <td>18</td>\n",
       "      <td>3</td>\n",
       "      <td>30</td>\n",
       "      <td>78</td>\n",
       "    </tr>\n",
       "    <tr>\n",
       "      <th>3</th>\n",
       "      <td>2</td>\n",
       "      <td>0</td>\n",
       "      <td>2</td>\n",
       "      <td>27</td>\n",
       "      <td>18</td>\n",
       "      <td>120</td>\n",
       "    </tr>\n",
       "  </tbody>\n",
       "</table>\n",
       "</div>"
      ],
      "text/plain": [
       "   order  part  bend  weld  paint  deadline\n",
       "0      0     0     2    36     48       108\n",
       "1      1     0    10    27      0        78\n",
       "2      1     1    18     3     30        78\n",
       "3      2     0     2    27     18       120"
      ]
     },
     "execution_count": 189,
     "metadata": {},
     "output_type": "execute_result"
    }
   ],
   "source": [
    "df=pd.DataFrame(jobs, columns=['order', 'part', 'bend', 'weld', 'paint', 'deadline'])\n",
    "df[\"bend\"] = df[\"bend\"] * 2\n",
    "df[\"weld\"] = df[\"weld\"] * 3\n",
    "df[\"paint\"] = df[\"paint\"] * 6\n",
    "df[\"deadline\"] = df[\"deadline\"] * 6\n",
    "df"
   ]
  },
  {
   "cell_type": "code",
   "execution_count": 43,
   "metadata": {
    "hidden": true
   },
   "outputs": [
    {
     "name": "stderr",
     "output_type": "stream",
     "text": [
      "/opt/miniconda3/lib/python3.8/site-packages/pulp/pulp.py:1199: UserWarning: Spaces are not permitted in the name. Converted to '_'\n",
      "  warnings.warn(\"Spaces are not permitted in the name. Converted to '_'\")\n"
     ]
    },
    {
     "name": "stdout",
     "output_type": "stream",
     "text": [
      "INFO: execution time for solving mip (sec) = 4.795508146286011\n",
      "INFO: objective = 117.0\n",
      "[(bend1, BendMachine1, 0, 2), (bend3, BendMachine2, 0, 18), (bend4, BendMachine1, 2, 4), (bend2, BendMachine1, 10, 20), (weld1, WeldMachine2, 10, 46), (weld3, WeldMachine1, 18, 21), (paint3, PaintMachine, 21, 51), (weld4, WeldMachine1, 21, 48), (paint1, PaintMachine, 51, 99), (weld2, WeldMachine1, 68, 95), (paint4, PaintMachine, 99, 117), (MakeSpan, BendMachine1, 117, 118)]\n"
     ]
    },
    {
     "data": {
      "image/png": "[encoded data removed]",
      "text/plain": [
       "<Figure size 720x360 with 1 Axes>"
      ]
     },
     "metadata": {
      "needs_background": "light"
     },
     "output_type": "display_data"
    }
   ],
   "source": [
    "#Classic for 1K\n",
    "\n",
    "# Load pyschedule and create a scenario with ten steps planning horizon\n",
    "from pyschedule import Scenario, solvers, plotters\n",
    "S = Scenario('TRUMPF',horizon=120)\n",
    "\n",
    "# Create six resources -our machines\n",
    "BendMachine1, BendMachine2, BendMachine3, WeldMachine1, WeldMachine2, PaintMachine = S.Resource('BendMachine1'), S.Resource('BendMachine2'), S.Resource('BendMachine3'), S.Resource('WeldMachine1'), S.Resource('WeldMachine2'), S.Resource('PaintMachine')\n",
    "\n",
    "\n",
    "# Create three tasks with lengths 1,2 and 3\n",
    "bend1, weld1, paint1, bend2, weld2, bend3, weld3, paint3, bend4, weld4, paint4  = S.Task('bend1',2), S.Task('weld1',36), S.Task('paint1',48), S.Task('bend2',10), S.Task('weld2',27), S.Task('bend3',18), S.Task('weld3',3), S.Task('paint3',30), S.Task('bend4',2), S.Task('weld4',27), S.Task('paint4',18)\n",
    "\n",
    "\n",
    "# Assign tasks to resources, either of our six machines\n",
    "# the %-operator connects tasks and resource\n",
    "\n",
    "\n",
    "\n",
    "##Assign precedence\n",
    "\n",
    "S += bend1< weld1, weld1 <paint1\n",
    "S += bend2< weld2\n",
    "S += bend3< weld3, weld3 <paint3\n",
    "S += bend4< weld4, weld4 <paint4\n",
    "\n",
    "\n",
    "\n",
    "##Assign Ressources\n",
    "#Bending\n",
    "S += bend1 % BendMachine1|BendMachine2|BendMachine3\n",
    "S += bend2 % BendMachine1|BendMachine2|BendMachine3\n",
    "S += bend3 % BendMachine1|BendMachine2|BendMachine3\n",
    "S += bend4 % BendMachine1|BendMachine2|BendMachine3\n",
    "\n",
    "\n",
    "\n",
    "\n",
    "#Welding\n",
    "S += weld1 % WeldMachine1|WeldMachine2\n",
    "S += weld2 % WeldMachine1|WeldMachine2\n",
    "S += weld3 % WeldMachine1|WeldMachine2\n",
    "S += weld4 % WeldMachine1|WeldMachine2\n",
    "\n",
    "\n",
    "\n",
    "\n",
    "#Painting\n",
    "S += paint1% PaintMachine\n",
    "\n",
    "S += paint3% PaintMachine\n",
    "S += paint4% PaintMachine\n",
    "\n",
    "\n",
    "\n",
    "\n",
    "\n",
    "\n",
    "# Solve and print solution\n",
    "S.use_makespan_objective()\n",
    "solvers.pulp.solve(S,msg=1)\n",
    "\n",
    "# Print the solution\n",
    "print(S.solution())\n",
    "%matplotlib inline\n",
    "plotters.matplotlib.plot(S,fig_size=(10,5))"
   ]
  },
  {
   "cell_type": "markdown",
   "metadata": {
    "heading_collapsed": true
   },
   "source": [
    "### 5k"
   ]
  },
  {
   "cell_type": "code",
   "execution_count": 202,
   "metadata": {
    "hidden": true
   },
   "outputs": [],
   "source": [
    "jobs = [(0, 0, 1, 12, 8, 18),\n",
    " (1, 0, 5, 9, 0, 13),\n",
    " (1, 1, 9, 1, 5, 13),\n",
    " (2, 0, 1, 9, 3, 20),\n",
    " (3, 0, 4, 14, 3, 35),\n",
    " (3, 1, 1, 11, 0, 35),\n",
    " (4, 0, 5, 4, 6, 32),\n",
    " (4, 1, 9, 13, 6, 32)]"
   ]
  },
  {
   "cell_type": "code",
   "execution_count": 203,
   "metadata": {
    "hidden": true,
    "scrolled": true
   },
   "outputs": [
    {
     "name": "stdout",
     "output_type": "stream",
     "text": [
      "The maximal maketime for the given operations is: 11550 second(s).\n",
      "Which is equal to: 385 time steps.\n",
      "\n",
      "\n"
     ]
    }
   ],
   "source": [
    "# OrderNo, PartNo, BendingLines, WeldingPoints, PaintTime, DueDate \n",
    "\n",
    "m_t_steps = max_time(jobs, bend_length, weld_length, paint_length)\n",
    "\n",
    "m_time = m_t_steps * t_step_in_sec\n",
    "    \n",
    "print('The maximal maketime for the given operations is: ' + str(m_time) + ' second(s).\\nWhich is equal to: ' + str(m_t_steps) + ' time steps.\\n\\n')\n"
   ]
  },
  {
   "cell_type": "code",
   "execution_count": 204,
   "metadata": {
    "hidden": true,
    "scrolled": true
   },
   "outputs": [
    {
     "name": "stdout",
     "output_type": "stream",
     "text": [
      "Anzahl an Kombinationen: 5004\n",
      "\n"
     ]
    }
   ],
   "source": [
    "operations = ops(jobs, bend, weld, paint, bend_length, weld_length, paint_length, t_step)\n",
    "\n",
    "print('Anzahl an Kombinationen: ' + str(len(operations)) + '\\n')"
   ]
  },
  {
   "cell_type": "code",
   "execution_count": 205,
   "metadata": {
    "hidden": true
   },
   "outputs": [
    {
     "data": {
      "text/html": [
       "<div>\n",
       "<style scoped>\n",
       "    .dataframe tbody tr th:only-of-type {\n",
       "        vertical-align: middle;\n",
       "    }\n",
       "\n",
       "    .dataframe tbody tr th {\n",
       "        vertical-align: top;\n",
       "    }\n",
       "\n",
       "    .dataframe thead th {\n",
       "        text-align: right;\n",
       "    }\n",
       "</style>\n",
       "<table border=\"1\" class=\"dataframe\">\n",
       "  <thead>\n",
       "    <tr style=\"text-align: right;\">\n",
       "      <th></th>\n",
       "      <th>order</th>\n",
       "      <th>part</th>\n",
       "      <th>bend</th>\n",
       "      <th>weld</th>\n",
       "      <th>paint</th>\n",
       "      <th>deadline</th>\n",
       "    </tr>\n",
       "  </thead>\n",
       "  <tbody>\n",
       "    <tr>\n",
       "      <th>0</th>\n",
       "      <td>0</td>\n",
       "      <td>0</td>\n",
       "      <td>2</td>\n",
       "      <td>36</td>\n",
       "      <td>48</td>\n",
       "      <td>108</td>\n",
       "    </tr>\n",
       "    <tr>\n",
       "      <th>1</th>\n",
       "      <td>1</td>\n",
       "      <td>0</td>\n",
       "      <td>10</td>\n",
       "      <td>27</td>\n",
       "      <td>0</td>\n",
       "      <td>78</td>\n",
       "    </tr>\n",
       "    <tr>\n",
       "      <th>2</th>\n",
       "      <td>1</td>\n",
       "      <td>1</td>\n",
       "      <td>18</td>\n",
       "      <td>3</td>\n",
       "      <td>30</td>\n",
       "      <td>78</td>\n",
       "    </tr>\n",
       "    <tr>\n",
       "      <th>3</th>\n",
       "      <td>2</td>\n",
       "      <td>0</td>\n",
       "      <td>2</td>\n",
       "      <td>27</td>\n",
       "      <td>18</td>\n",
       "      <td>120</td>\n",
       "    </tr>\n",
       "    <tr>\n",
       "      <th>4</th>\n",
       "      <td>3</td>\n",
       "      <td>0</td>\n",
       "      <td>8</td>\n",
       "      <td>42</td>\n",
       "      <td>18</td>\n",
       "      <td>210</td>\n",
       "    </tr>\n",
       "    <tr>\n",
       "      <th>5</th>\n",
       "      <td>3</td>\n",
       "      <td>1</td>\n",
       "      <td>2</td>\n",
       "      <td>33</td>\n",
       "      <td>0</td>\n",
       "      <td>210</td>\n",
       "    </tr>\n",
       "    <tr>\n",
       "      <th>6</th>\n",
       "      <td>4</td>\n",
       "      <td>0</td>\n",
       "      <td>10</td>\n",
       "      <td>12</td>\n",
       "      <td>36</td>\n",
       "      <td>192</td>\n",
       "    </tr>\n",
       "    <tr>\n",
       "      <th>7</th>\n",
       "      <td>4</td>\n",
       "      <td>1</td>\n",
       "      <td>18</td>\n",
       "      <td>39</td>\n",
       "      <td>36</td>\n",
       "      <td>192</td>\n",
       "    </tr>\n",
       "  </tbody>\n",
       "</table>\n",
       "</div>"
      ],
      "text/plain": [
       "   order  part  bend  weld  paint  deadline\n",
       "0      0     0     2    36     48       108\n",
       "1      1     0    10    27      0        78\n",
       "2      1     1    18     3     30        78\n",
       "3      2     0     2    27     18       120\n",
       "4      3     0     8    42     18       210\n",
       "5      3     1     2    33      0       210\n",
       "6      4     0    10    12     36       192\n",
       "7      4     1    18    39     36       192"
      ]
     },
     "execution_count": 205,
     "metadata": {},
     "output_type": "execute_result"
    }
   ],
   "source": [
    "df=pd.DataFrame(jobs, columns=['order', 'part', 'bend', 'weld', 'paint', 'deadline'])\n",
    "df[\"bend\"] = df[\"bend\"] * 2\n",
    "df[\"weld\"] = df[\"weld\"] * 3\n",
    "df[\"paint\"] = df[\"paint\"] * 6\n",
    "df[\"deadline\"] = df[\"deadline\"] * 6\n",
    "df"
   ]
  },
  {
   "cell_type": "code",
   "execution_count": 38,
   "metadata": {
    "hidden": true
   },
   "outputs": [
    {
     "name": "stderr",
     "output_type": "stream",
     "text": [
      "/opt/miniconda3/lib/python3.8/site-packages/pulp/pulp.py:1199: UserWarning: Spaces are not permitted in the name. Converted to '_'\n",
      "  warnings.warn(\"Spaces are not permitted in the name. Converted to '_'\")\n"
     ]
    },
    {
     "name": "stdout",
     "output_type": "stream",
     "text": [
      "INFO: execution time for solving mip (sec) = 208.03144812583923\n",
      "INFO: objective = 207.0\n",
      "[(bend3, BendMachine3, 0, 18), (bend5, BendMachine2, 0, 8), (bend1, BendMachine1, 2, 4), (bend7, BendMachine1, 10, 20), (weld1, WeldMachine1, 15, 51), (weld3, WeldMachine2, 18, 21), (paint3, PaintMachine, 21, 51), (bend4, BendMachine1, 23, 25), (weld4, WeldMachine2, 35, 62), (bend6, BendMachine1, 37, 39), (paint1, PaintMachine, 51, 99), (weld5, WeldMachine1, 57, 99), (bend2, BendMachine1, 63, 73), (weld7, WeldMachine2, 65, 77), (bend8, BendMachine3, 69, 87), (weld2, WeldMachine2, 97, 124), (paint7, PaintMachine, 99, 135), (weld8, WeldMachine1, 101, 140), (weld6, WeldMachine2, 125, 158), (paint5, PaintMachine, 135, 153), (paint8, PaintMachine, 153, 189), (paint4, PaintMachine, 189, 207), (MakeSpan, BendMachine1, 207, 208)]\n"
     ]
    },
    {
     "data": {
      "image/png": "[encoded data removed]",
      "text/plain": [
       "<Figure size 720x360 with 1 Axes>"
      ]
     },
     "metadata": {
      "needs_background": "light"
     },
     "output_type": "display_data"
    }
   ],
   "source": [
    "#Classic for 5K\n",
    "\n",
    "# Load pyschedule and create a scenario with ten steps planning horizon\n",
    "from pyschedule import Scenario, solvers, plotters\n",
    "S = Scenario('TRUMPF',horizon=350)\n",
    "\n",
    "# Create six resources -our machines\n",
    "BendMachine1, BendMachine2, BendMachine3, WeldMachine1, WeldMachine2, PaintMachine = S.Resource('BendMachine1'), S.Resource('BendMachine2'), S.Resource('BendMachine3'), S.Resource('WeldMachine1'), S.Resource('WeldMachine2'), S.Resource('PaintMachine')\n",
    "\n",
    "\n",
    "# Create three tasks with lengths 1,2 and 3\n",
    "bend1, weld1, paint1, bend2, weld2, bend3, weld3, paint3, bend4, weld4, paint4, bend5, weld5, paint5, bend6, weld6, bend7, weld7, paint7, bend8, weld8, paint8 = S.Task('bend1',2), S.Task('weld1',36), S.Task('paint1',48), S.Task('bend2',10), S.Task('weld2',27), S.Task('bend3',18), S.Task('weld3',3), S.Task('paint3',30), S.Task('bend4',2), S.Task('weld4',27), S.Task('paint4',18), S.Task('bend5',8), S.Task('weld5',42), S.Task('paint5',18), S.Task('bend6',2), S.Task('weld6',33), S.Task('bend7',10), S.Task('weld7',12), S.Task('paint7',36), S.Task('bend8',18), S.Task('weld8',39), S.Task('paint8',36) \n",
    "\n",
    "\n",
    "# Assign tasks to resources, either of our six machines\n",
    "# the %-operator connects tasks and resource\n",
    "\n",
    "\n",
    "\n",
    "##Assign precedence\n",
    "\n",
    "S += bend1< weld1, weld1 <paint1\n",
    "S += bend2< weld2\n",
    "S += bend3< weld3, weld3 <paint3\n",
    "S += bend4< weld4, weld4 <paint4\n",
    "S += bend5< weld5, weld5 <paint5\n",
    "S += bend6< weld6\n",
    "S += bend7< weld7, weld7 <paint7\n",
    "S += bend8< weld8, weld8 <paint8\n",
    "\n",
    "\n",
    "\n",
    "##Assign Ressources\n",
    "#Bending\n",
    "S += bend1 % BendMachine1|BendMachine2|BendMachine3\n",
    "S += bend2 % BendMachine1|BendMachine2|BendMachine3\n",
    "S += bend3 % BendMachine1|BendMachine2|BendMachine3\n",
    "S += bend4 % BendMachine1|BendMachine2|BendMachine3\n",
    "S += bend5 % BendMachine1|BendMachine2|BendMachine3\n",
    "S += bend6 % BendMachine1|BendMachine2|BendMachine3\n",
    "S += bend7 % BendMachine1|BendMachine2|BendMachine3\n",
    "S += bend8 % BendMachine1|BendMachine2|BendMachine3\n",
    "\n",
    "\n",
    "\n",
    "\n",
    "#Welding\n",
    "S += weld1 % WeldMachine1|WeldMachine2\n",
    "S += weld2 % WeldMachine1|WeldMachine2\n",
    "S += weld3 % WeldMachine1|WeldMachine2\n",
    "S += weld4 % WeldMachine1|WeldMachine2\n",
    "S += weld5 % WeldMachine1|WeldMachine2\n",
    "S += weld6 % WeldMachine1|WeldMachine2\n",
    "S += weld7 % WeldMachine1|WeldMachine2\n",
    "S += weld8 % WeldMachine1|WeldMachine2\n",
    "\n",
    "\n",
    "\n",
    "\n",
    "#Painting\n",
    "S += paint1% PaintMachine\n",
    "\n",
    "S += paint3% PaintMachine\n",
    "S += paint4% PaintMachine\n",
    "S += paint5% PaintMachine\n",
    "\n",
    "S += paint7% PaintMachine\n",
    "S += paint8% PaintMachine\n",
    "\n",
    "\n",
    "\n",
    "\n",
    "\n",
    "\n",
    "# Solve and print solution\n",
    "S.use_makespan_objective()\n",
    "solvers.pulp.solve(S,msg=1)\n",
    "\n",
    "# Print the solution\n",
    "print(S.solution())\n",
    "%matplotlib inline\n",
    "plotters.matplotlib.plot(S,fig_size=(10,5))"
   ]
  },
  {
   "cell_type": "code",
   "execution_count": null,
   "metadata": {
    "hidden": true
   },
   "outputs": [],
   "source": []
  }
 ],
 "metadata": {
  "celltoolbar": "Slideshow",
  "kernelspec": {
   "display_name": "Python 3",
   "language": "python",
   "name": "python3"
  },
  "language_info": {
   "codemirror_mode": {
    "name": "ipython",
    "version": 3
   },
   "file_extension": ".py",
   "mimetype": "text/x-python",
   "name": "python",
   "nbconvert_exporter": "python",
   "pygments_lexer": "ipython3",
   "version": "3.8.3"
  }
 },
 "nbformat": 4,
 "nbformat_minor": 4
}
