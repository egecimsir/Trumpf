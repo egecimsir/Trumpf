{
 "cells": [
  {
   "cell_type": "markdown",
   "metadata": {
    "id": "KzEMgWjGxzsT",
    "slideshow": {
     "slide_type": "slide"
    }
   },
   "source": [
    "<a ><img src=\"https://qarlab.de/wp-content/uploads/2021/02/qar-lab_logo-web1.png\"  width=\"120\" align=\"right\"> </a>\n",
    "\n",
    "<a ><img src=\"https://milani.ch/assets/Logo/Trumpf-logo.svg\"  width=\"90\" align=\"left\"> </a>\n",
    "\n",
    "\n",
    "<br>\n",
    "<br>\n",
    "<br>\n",
    "<br>\n",
    "<br>\n",
    "<br>\n",
    "<br>\n",
    "\n",
    "<h1><center>Quantum Annealing für Job Shop Scheduling </center></h1>\n",
    "\n"
   ]
  },
  {
   "cell_type": "markdown",
   "metadata": {
    "id": "lqQx4LXuxzsY",
    "slideshow": {
     "slide_type": "skip"
    }
   },
   "source": [
    "---\n",
    "---\n",
    "---"
   ]
  },
  {
   "cell_type": "code",
   "execution_count": 151,
   "metadata": {
    "slideshow": {
     "slide_type": "fragment"
    }
   },
   "outputs": [],
   "source": [
    "import sys\n",
    "import random\n",
    "import wikipedia\n",
    "import numpy as np\n",
    "import pandas as pd\n",
    "import seaborn as sns \n",
    "import matplotlib.pylab as plt\n",
    "import plotly.figure_factory as ff\n",
    "\n",
    "\n",
    "from dwave_qbsolv import QBSolv\n",
    "\n",
    "from IPython.display import Markdown, display\n",
    "wikipedia.set_lang(\"de\") \n",
    "np.set_printoptions(threshold=sys.maxsize)"
   ]
  },
  {
   "cell_type": "markdown",
   "metadata": {
    "id": "kI5wU5naxzsa",
    "slideshow": {
     "slide_type": "slide"
    }
   },
   "source": [
    "<h1>Inhaltsverzeichnis</h1>\n",
    "\n",
    "<div class=\"alert alert-block alert-info\" style=\"text-decoration:none; margin-top: 30px; background-color:#D3D3D3; border-color:#D3D3D3\">\n",
    "    <span style=\"color:#262626\">\n",
    "    <ol>\n",
    "      <li><a href=\"#0\"> <span style=\"color:#262626;text-decoration:none;\" \n",
    "       >Über Trumpf  </span> </a></li>\n",
    "          <ol>\n",
    "      <li><a href=\"#1\"> <span style=\"color:#262626;\" \n",
    "       >Unternehmen  </span> </a></li>\n",
    "       <li><a href=\"#2\"> <span style=\"color:#262626;\" \n",
    "       >Fokus: Blechfertigung  </span> </a></li>\n",
    "       <li><a href=\"#3\"> <span style=\"color:#262626;\" \n",
    "       >Bisherige Versuche im Quantum Computing  </span> </a></li>\n",
    "      <li><a href=\"#4\"> <span style=\"color:#262626;\" \n",
    "       >Das Problem für das QAR Lab </span> </a></li>\n",
    "       <li><a href=\"#5\"> <span style=\"color:#262626;\" \n",
    "       >Die Daten  </span> </a></li>\n",
    "       <li><a href=\"#6\"> <span style=\"color:#262626;\" \n",
    "       >Zusammenfassung  </span> </a></li>\n",
    "        </ol>\n",
    "        <li><a href=\"#7\"> <span style=\"color:#262626;text-decoration:none;\" \n",
    "       >Mathematische Formulierung des Problems </span> </a></li>\n",
    "        <ol>\n",
    "        <li><a href=\"#8\"> <span style=\"color:#262626;\" \n",
    "       >Zusammenfassung der Daten, die eine Lösung verkörpern  </span> </a></li>\n",
    "       <li><a href=\"#9\"> <span style=\"color:#262626;\" \n",
    "       >Binäre Darstellung der Informationen   </span> </a></li>\n",
    "      <li><a href=\"#10\"> <span style=\"color:#262626;\" \n",
    "       >Formulierung aller Nebenbedingungen als Strafterme  </span> </a></li>\n",
    "      <li><a href=\"#11\"> <span style=\"color:#262626;\" \n",
    "       >Formulierung der Kostenfunktion und der QUBO-Matrix </span> </a></li>\n",
    "       <li><a href=\"#12\"> <span style=\"color:#262626;\" \n",
    "       >Übersetzen der QUBO-Matrix in Ising Formalismus  </span> </a></li>\n",
    "        </ol>\n",
    "        <li><a href=\"#13\"> <span style=\"color:#262626;\" \n",
    "       >Umsetzung auf einem Quantum Annealer -- D Wave vs. Fujitsu </span> </a></li>\n",
    "        <ol>\n",
    "       <li><a href=\"#14\"> <span style=\"color:#262626;\" \n",
    "       >Hardware-Architektur: Chimera vs. Pegasus  </span> </a></li>\n",
    "        <li><a href=\"#15\"> <span style=\"color:#262626;\" \n",
    "       >Wahl einer Annealing Schedule (Zeitübergangsfunktion)  </span> </a></li>\n",
    "        <li><a href=\"#16\"> <span style=\"color:#262626;\" \n",
    "       >Erste Durchläufe auf einem Simulator  </span> </a></li>\n",
    "        <li><a href=\"#17\"> <span style=\"color:#262626;\" \n",
    "       >Erste Ergebnisse auf echten Quantum Annealer  </span> </a></li>\n",
    "       <li><a href=\"#18\"> <span style=\"color:#262626;\" \n",
    "       >Interpretation der Ergebnisse (durch mappen auf ursprüngliche QUBO)  </span> </a></li>\n",
    "        </ol>\n",
    "        <li><a href=\"#19\"> <span style=\"color:#262626;\" \n",
    "       >Ausblick </span> </a></li>     \n",
    "        <ol>\n",
    "        <li><a href=\"#20\"> <span style=\"color:#262626;\" \n",
    "       >Zusätzlicher Ansatz:  Scheduling als Strafterm und Integration des Knapsack Problems </span> </a></li>\n",
    "       <li><a href=\"#21\"> <span style=\"color:#262626;\" \n",
    "       >Versuch mit reverse quantum annealing  </span> </a></li>\n",
    "       </ol>\n",
    "    </ol>\n",
    "    </span>\n",
    "</div>"
   ]
  },
  {
   "cell_type": "markdown",
   "metadata": {
    "id": "lqQx4LXuxzsY",
    "slideshow": {
     "slide_type": "skip"
    }
   },
   "source": [
    "---\n",
    "---"
   ]
  },
  {
   "cell_type": "markdown",
   "metadata": {
    "slideshow": {
     "slide_type": "slide"
    }
   },
   "source": [
    "## Über Trumpf <a id=\"0\">"
   ]
  },
  {
   "cell_type": "markdown",
   "metadata": {
    "slideshow": {
     "slide_type": "subslide"
    }
   },
   "source": [
    "### Unternehmen  <a id=\"1\">"
   ]
  },
  {
   "cell_type": "code",
   "execution_count": 152,
   "metadata": {
    "slideshow": {
     "slide_type": "subslide"
    }
   },
   "outputs": [
    {
     "data": {
      "text/markdown": [
       "Die Trumpf-Gruppe (Eigenschreibweise: TRUMPF Gruppe) ist ein Unternehmen mit Hauptsitz in Ditzingen nahe Stuttgart. Trumpf gehört zu den weltweit größten Anbietern von Werkzeugmaschinen. Mit mehr als 70 operativen Tochtergesellschaften ist die Trumpf-Gruppe weltweit in allen wichtigen Märkten vertreten. Produktionsstandorte befinden sich in Deutschland, China, Frankreich, Großbritannien, Italien, Japan, Mexiko, Österreich, Polen, in der Schweiz, in Tschechien und in den USA.\n",
       "\n"
      ],
      "text/plain": [
       "<IPython.core.display.Markdown object>"
      ]
     },
     "metadata": {},
     "output_type": "display_data"
    }
   ],
   "source": [
    "display(Markdown(wikipedia.summary(\"Trumpf Gruppe\")))"
   ]
  },
  {
   "cell_type": "markdown",
   "metadata": {
    "slideshow": {
     "slide_type": "slide"
    }
   },
   "source": [
    "### Blechfertigung  <a id=\"2\">"
   ]
  },
  {
   "cell_type": "markdown",
   "metadata": {
    "slideshow": {
     "slide_type": "slide"
    }
   },
   "source": [
    "In der flexiblen Blechfertigung werden kaum Großserienteile gefertigt, sondern eher kleinere Stückzahlen. Oftmals sind die Betriebe Lohnfertiger. Zuerst werden Rohbleche (Standardmaß 3000 x 1500 mm) mit einem trennenden Verfahren, oftmals Laserschneiden, in die zu produzierenden Teile geteilt. Da fertige Blechprodukte nur seltenen Fällen aus 2- dimensionalen Teilen bestehen, sind im Anschluss noch weitere Bearbeitungsverfahren notwendig. Im Folgenden soll die Betrachtung auf Biegen, Schweißen und Lackieren beschränkt werden. Um die Abhängigkeit der Bearbeitungsarten untereinander möglichst klein zu halten, kann ein Halbfertigteile-Lager zwischen den trennenden Verfahren und den weiteren Bearbeitungsschritten benutzt werden. Die Teile fließen dann ohne ein weiteres Lager durch diese Bearbeitungsstationen."
   ]
  },
  {
   "cell_type": "markdown",
   "metadata": {
    "slideshow": {
     "slide_type": "slide"
    }
   },
   "source": [
    "### Bisherige Verusche im Quantum Computing  <a id=\"3\">"
   ]
  },
  {
   "cell_type": "markdown",
   "metadata": {
    "slideshow": {
     "slide_type": "subslide"
    }
   },
   "source": [
    "In der Blechfertigung gibt es viele komplexe Fragestellungen. Eine davon ist das „Nesting“ (deutsch: Schachteln). Hier geht darum, möglichst viele Teile aus einer Blechtafel herauszuschneiden und dabei Material zu sparen. Es gibt zwar schon Software für das Nesting, diese kann aber nur die Form der Teile berücksichtigen. Weitere wichtige Faktoren lässt sie außen vor, zum Beispiel die Teile so zu schneiden, dass sie nach dem Schneiden nicht umkippen. Deshalb schachteln die meisten Mitarbeiter von Hand. Wie bei einem Puzzle setzen sie die Teile auf die Blechtafel und greifen dabei immer wieder auf ihre persönlichen Tricks und Erfahrungen zurück. Würde ein Computer alle Faktoren berücksichtigen, müssten die Mitarbeiter Stunden oder gar Tage auf das Ergebnis warten. Er hat schlichtweg zu wenig Rechenleistung, um die perfekte Nesting-Lösung auf Knopfdruck zu liefern. Ein Quantencomputer könnte dies in kürzester Zeit lösen. Mitarbeiter müssten dann nicht länger puzzeln, um aus einer Blechplatte möglichst viele Teile herausschneiden zu können."
   ]
  },
  {
   "cell_type": "markdown",
   "metadata": {
    "slideshow": {
     "slide_type": "subslide"
    }
   },
   "source": [
    "<img src=\"https://www.trumpf.com/filestorage/TRUMPF_Magazine/_processed_/0/e/csm_Schachtelung_3_dcdeb91f3f.jpg\" alt=\"fishy\" width=\"600px\">\n",
    "\n",
    "Beim „Nesting“ setzt der Mitarbeiter die Bauteile wie bei einem Puzzle virtuell am Computer auf die Blechplatte. Das Ziel ist es, so viele Teile wie nötig aus der Tafel herauszubekommen. Anschließend schneidet die Maschine mit einem Laser die Teile aus."
   ]
  },
  {
   "cell_type": "markdown",
   "metadata": {
    "slideshow": {
     "slide_type": "subslide"
    }
   },
   "source": [
    "#### Aber auch auf den Zeitplan kommt es an\n",
    "Ein weiterer Faktor, der das Nesting komplexer macht, ist das „Scheduling“. Hier gilt es, den idealen Zeitplan für die Fertigung zu erstellen. Wie dringend ist der Auftrag? Welche Maschinen sind gerade frei? Welches Material und welche Blechdicken benötigt der Kunde? All diese Anforderungen machen die Sache unlängst komplizierter. Zu kompliziert für heutige Computer."
   ]
  },
  {
   "cell_type": "markdown",
   "metadata": {
    "slideshow": {
     "slide_type": "slide"
    }
   },
   "source": [
    "### Das Job Shop Scheduling Problem für das QAR Lab <a id=\"4\">"
   ]
  },
  {
   "cell_type": "markdown",
   "metadata": {
    "slideshow": {
     "slide_type": "subslide"
    }
   },
   "source": [
    "Nach dem Halbfertigteile-Lager entsteht in der Produktionsplanung ein Job Shop Scheduling Problem. Es muss eine Antwort auf die Frage gefunden werden, wann welches Teil auf welcher Maschine bearbeitet werden soll. Die Bearbeitungsstationen sind dabei in der Reihenfolge Biegen, Schweißen, Lackieren zu durchlaufen. Die Transportzeit der Teile zwischen den Stationen sowie die kurzzeitige Lagerung auf Logistikwägen soll vernachlässigt werden."
   ]
  },
  {
   "cell_type": "markdown",
   "metadata": {
    "slideshow": {
     "slide_type": "subslide"
    }
   },
   "source": [
    "### Die Daten <a id=\"5\">"
   ]
  },
  {
   "cell_type": "markdown",
   "metadata": {
    "slideshow": {
     "slide_type": "subslide"
    }
   },
   "source": [
    "Die Produktionszeit beginnt bei 0 und zählt diskret in Minuten aufwärts. Es gibt 3 Biegemaschinen und jede Biegelinie dauert 20 Sekunden. Es gibt außerdem 2 Schweißanlagen, die jeweils 30 Sekunden für einen Schweißpunkt brauchen. Die Angaben in den Daten sind als Anzahl der Biegelinien und Schweißpunkte zu verstehen. Da die Maschinen sich gleich verhalten, könnten sie auch zusammengefasst werden.\n",
    "Die Fertigung hat außerdem eine Lackierzelle, deren Bearbeitungszeit für jedes Teil direkt in Minuten angegeben ist.\n",
    "Im Beispieldatensatz ist jede Zeile als ein Teil zu verstehen. Jedes Teil gehört dabei zu einer Order, wobei eine Order aus mehreren Teilen bestehen kann. Diese haben dann dasselbe Fälligkeitsdatum.\n",
    "Im JSSPDataGenerator.py finden Sie einen möglichen Generator für Beispieldaten. Wählen Sie die Bearbeitungszeiten so, dass bestimmte Stationen im Durchschnitt besonders voll bzw. alle Stationen sehr ausgeglichen ausgelastet sind, um verschiedene Szenarien zu simulieren.\n",
    "Die Zielvariable ist eine möglichst geringe Summe an Verspätungen bzw. eine möglichst hohe Scheduling Efficiency."
   ]
  },
  {
   "cell_type": "code",
   "execution_count": 153,
   "metadata": {
    "slideshow": {
     "slide_type": "subslide"
    }
   },
   "outputs": [
    {
     "name": "stdout",
     "output_type": "stream",
     "text": [
      "Fertig!\n"
     ]
    }
   ],
   "source": [
    "# Data Generator for the Job Shop Scheduling Problem\n",
    "\n",
    "# open file streams\n",
    "file = open(\"OrdersGenerated.txt\", \"w\")\n",
    "file.write(\"OrderNo, PartNo, BendingLines, WeldingPoints, PaintTime, DueDate \\n\")\n",
    "\n",
    "# Number of Orders\n",
    "for i in range(0,15):\n",
    "\n",
    "    noOfParts = 1+int(random.random()*3) # number of parts\n",
    "    totalWelding = 0\n",
    "    totalBending = 0\n",
    "    totalPainting = 0\n",
    "    resultArray = []\n",
    "\n",
    "    for j in range(0,noOfParts):\n",
    "\n",
    "        # BendingLines, every part has bending lines, unifrom distribution\n",
    "        bendLines = 1 + int(random.random() * 8)\n",
    "\n",
    "        # WeldingPoints, unifrom distribution\n",
    "        weldPointsRnd = random.random()\n",
    "        if weldPointsRnd < 0.15:\n",
    "            weldPoints = 0\n",
    "        else:\n",
    "            weldPoints = 1 + int(random.random() * 14)\n",
    "\n",
    "        # PaintTime        \n",
    "        weldPointsRnd = random.random()\n",
    "        if weldPointsRnd < 0.25:\n",
    "            PaintTime = 0\n",
    "        else:\n",
    "            PaintTime = 3 + int(random.random() * 6)\n",
    "\n",
    "        # Statistics\n",
    "        totalBending = totalBending + bendLines\n",
    "        totalWelding = totalWelding + weldPoints\n",
    "        totalPainting = totalPainting + PaintTime\n",
    "\n",
    "        # Save to file\n",
    "        partResultArray = [str(i) + \", \" + str(j) + \", \" +  str(bendLines) + \", \" + str(weldPoints) + \", \" + str(PaintTime)]\n",
    "        resultArray.append(partResultArray)\n",
    "    \n",
    "    # DueDate in mins from start\n",
    "    bendingTime = totalBending/9     # 3 bending machines, 20 seconds per bend\n",
    "    weldingTime = totalWelding/4     # 2 welding machines, 30 seconds per weld\n",
    "    totalOrderTime = bendingTime + weldingTime + totalPainting\n",
    "    jamFactor = 350\n",
    "    dueDate = int(totalOrderTime) + int(random.random()*jamFactor) + 15 # 15 minutes buffer, choose jamFactor according to number of parts and average processing time\n",
    "\n",
    "    for x in resultArray:\n",
    "        file.write( x[0] + \", \" + str(dueDate) + \"\\n\")\n",
    "\n",
    "file.close()\n",
    "print(\"Fertig!\")"
   ]
  },
  {
   "cell_type": "markdown",
   "metadata": {
    "slideshow": {
     "slide_type": "subslide"
    }
   },
   "source": [
    "### Zusammenfassung <a id=\"6\">"
   ]
  },
  {
   "cell_type": "markdown",
   "metadata": {
    "slideshow": {
     "slide_type": "subslide"
    }
   },
   "source": [
    "- feste Sequenz in Reihenfolge Biegen > Schweißen > Lackieren\n",
    "- Produktionszeit in Minuten $\\in N_0 $\n",
    "- 3 Biegemaschinen, jede Biegelinie dauert 20 Sekunden (In den Daten als Anzahl der Biegelinien)\n",
    "- 2 Schweißanlagen, jeweils 30 Sekunden für einen Schweißpunkt (In den Daten als Anzahl der Schweißpunkte)\n",
    "- 1 Lackierzelle, deren Bearbeitungszeit für jedes Teil direkt in Minuten angegeben ist.\n",
    "- Zielvariable: möglichst geringe Summe an Verspätungen\n",
    "- 3000 x 1500 mm Platz auf Blech --> Benötigte Größe der Teile als Weight $W$ im Knapsack Problem --> Genaueres bei Trumpf nachfragen"
   ]
  },
  {
   "cell_type": "markdown",
   "metadata": {
    "slideshow": {
     "slide_type": "subslide"
    }
   },
   "source": [
    "The job-shop scheduling problem (JSSP) is an important decision facing those involved in the fields of industry, economics and management. This problem is a class of combinational optimization problem known as the NP-hard problem. JSSPs deal with a set of machines and a set of jobs with various predetermined routes through the machines, where the objective is to assemble a schedule of jobs that minimizes certain criteria such as makespan, maximum lateness, and total weighted tardiness. Over the past several decades, interest in meta-heuristic approaches to address JSSPs has increased due to the ability of these approaches to generate solutions which are better than those generated from heuristics alone. This article provides the classification, constraints and objective functions imposed on JSSPs that are available in the literature.\n",
    "\n",
    "\n",
    "<a ><img src=\"JSSP.png\"  width=\"700\" align=\"center\"> </a>\n",
    "\n",
    "\n",
    "\n",
    "The flexible JSSP is an extension of the crisp JSSP and it allows an operation to be processed by one machine out of a set of candidate machines. The problem consists of two sub- problems: assigning each operation to a machine (routing problem) and sequencing the assigned operations on the machines (sequencing problem), such that a feasible schedule optimization is achieved for given objectives. So, the flexible JSSP includes an extra problem; the assignment of operations to machines. The flexible JSSP has recently gained the attention of many researchers."
   ]
  },
  {
   "cell_type": "markdown",
   "metadata": {
    "id": "lqQx4LXuxzsY",
    "slideshow": {
     "slide_type": "skip"
    }
   },
   "source": [
    "---\n",
    "\n",
    "---"
   ]
  },
  {
   "cell_type": "markdown",
   "metadata": {
    "slideshow": {
     "slide_type": "slide"
    }
   },
   "source": [
    "## Mathematische Formulierung <a id=\"7\">"
   ]
  },
  {
   "cell_type": "markdown",
   "metadata": {
    "slideshow": {
     "slide_type": "subslide"
    }
   },
   "source": [
    "### Zusammenfassung der Daten um eine Lösung zu formulieren <a id=\"8\">"
   ]
  },
  {
   "cell_type": "markdown",
   "metadata": {
    "slideshow": {
     "slide_type": "subslide"
    }
   },
   "source": [
    "$$\n",
    "j \\in J\n",
    "$$\n",
    "...\n",
    "\n",
    "Legende TBD\n",
    "\n",
    "+ von oben aber mathematisch formuliert"
   ]
  },
  {
   "cell_type": "markdown",
   "metadata": {
    "slideshow": {
     "slide_type": "slide"
    }
   },
   "source": [
    "### Binäre Darstellung der Informationen <a id=\"9\">"
   ]
  },
  {
   "cell_type": "markdown",
   "metadata": {
    "slideshow": {
     "slide_type": "subslide"
    }
   },
   "source": [
    "While there are several ways the JSP can be formulated, such as the rank-based formulation or the disjunctive formulation, our formulation is based on a straightforward time-indexed representation particularly amenable to quantum annealers. We assign a set of binary variables for each operation, corresponding to the various possible discrete starting times the operation can have:\n",
    "\n",
    "$$\n",
    "x_{o, m, t}=\\left\\{\\begin{array}{ll}1 & : \\text { operation } o \\text { starts on machine } m \\text {  at time } t \\\\ 0 & : \\text { otherwise }\\end{array}\\right.\n",
    "$$\n",
    "\n",
    "Here $t$ is bounded from above by the timespan $T$, which represents the maximum time we allow for the jobs to complete. The timespan itself is bounded from above by the total work of the problem, that is, the sum of the execution times of all operations."
   ]
  },
  {
   "cell_type": "markdown",
   "metadata": {
    "slideshow": {
     "slide_type": "slide"
    }
   },
   "source": [
    "### Formulierung aller Nebenbedingungen als Strafterme <a id=\"10\">\n"
   ]
  },
  {
   "cell_type": "markdown",
   "metadata": {
    "slideshow": {
     "slide_type": "subslide"
    }
   },
   "source": [
    "\n",
    "The optimization problem is limited by three constraints. Firstly, each operation must be started once and only once on some capable machine:\n",
    "\n",
    "\n",
    "<br />\n",
    "\n",
    "\n",
    "$$\n",
    "H_{0}:=\\sum_{o \\in 0}\\left(\\sum_{m \\in M_{o}} \\sum_{t=0}^{T-1} x_{o, m, t}-1\\right)^{2}\n",
    "$$\n",
    "\n",
    "\n",
    "<br />\n",
    "<br />\n",
    "\n",
    "Secondly, for every job $j \\in J$, its operations $O_j$ must be executed in the order given by \n",
    "\n",
    "<br /><br />\n",
    "$$\n",
    "\\left.c\\right|_{o_{j}}: O_{j} \\rightarrow\\left\\{1, \\ldots, n_{j}\\right\\}\n",
    "$$\n",
    "<br />\n",
    "$$H_{1}:=\\sum_{j \\in J}\\left(\\sum_{k_{n-1}<i<k_{n}, t+p_{i} > t'} x_{i, t}x_{i+1, t'}\\right)$$\n",
    "\n",
    "<br /><br />\n",
    "\n",
    "\n",
    "\n",
    "In addition, only one operation can be executed simultaneously on a single machine at a certain point in time. Analogously to above, for any $m \\in M$ a set $R_m$ of violating index combinations for machine $m$ is defined as\n",
    "\n",
    "\n",
    "$$H_{2}:= \\sum_{m \\in M}\\left(\\sum_{i,t,k,t'\\in R_m} x_{i,t}x_{k,t'}\\right)$$ \n",
    "with $$R_m=A_m \\cup B_m$$\n",
    "\n",
    "$$A_m= \\{(i,t,k,t'): (i,k) \\in I_m \\times I_m, i \\neq k, 0 \\leq t, t' \\leq T,0 <t'-t< p_i\\} $$\n",
    "$$B_m= \\{(i,t,k,t'): (i,k) \\in I_m \\times I_m, i < k, t' = t, p_i > 0, p_j >0\\} $$\n",
    "\n",
    "The set $A_m$ is defined so that the constraint forbids operation $O_j$ from starting at $t′$ if there is another operation $O_i$ still running, which happens if $O_i$ started at time $t$ and $t′ −t$ is less than $p_i$. The set $B_m$ is defined so that two jobs cannot start at the same time, unless at least one of them has an execution time equal to zero."
   ]
  },
  {
   "cell_type": "markdown",
   "metadata": {
    "slideshow": {
     "slide_type": "slide"
    }
   },
   "source": [
    "### Formulierung der Kostenfunktion und der QUBO-Matrix <a id=\"11\">\n"
   ]
  },
  {
   "cell_type": "markdown",
   "metadata": {
    "slideshow": {
     "slide_type": "subslide"
    }
   },
   "source": [
    "The polynomials $H_0 , H_1, H_2$ only consist of combinatorial constraints, however the optimization target is to minimize ( the number of) delays. With the notion of predecessor and successor times, a binary polynomial can be defined that penalizes late starting times of operations that could in theory have already started.\n",
    "\n",
    "\n",
    "For job  $ j \\in J $ define the \"done\"-time $t{j}^{}$ as\n",
    "\n",
    "$$\n",
    "t_{\\text {j Done}}=\\sum_{t=0}^{T}\\left( x_{o*, m, t} \\cdot t\\right)+d_{o*, m}\n",
    "$$\n",
    "\n",
    "where $ o*$ is the last Operation of the job $ j$\n",
    "\n",
    "\n",
    "Then the cost function $f$  to minimize is\n",
    "\n",
    "$$f = \\sum_{j \\in J}\\left(1+\\operatorname{sgn}\\left(t_{j}^{*}-t_{j, deadline}\\right)\\right)\\left(t_{j}^{*}-t_{j, deadline}\\right)$$\n",
    "\n",
    "\n",
    "\n",
    "Then the optimization objective $H$ can be set as\n",
    "\n",
    "\n",
    "$H:=\\alpha H_{0}+\\beta H_{1}+\\gamma H_{2}+\\delta f$\n",
    "with scalar weights $\\alpha, \\beta, \\gamma, \\delta \\in \\mathbb{R}{>0}$"
   ]
  },
  {
   "cell_type": "markdown",
   "metadata": {
    "slideshow": {
     "slide_type": "slide"
    }
   },
   "source": [
    "### Übersetzen der QUBO-Matrix in Python <a id=\"12\">\n"
   ]
  },
  {
   "cell_type": "code",
   "execution_count": null,
   "metadata": {},
   "outputs": [],
   "source": []
  },
  {
   "cell_type": "code",
   "execution_count": 154,
   "metadata": {},
   "outputs": [
    {
     "name": "stdout",
     "output_type": "stream",
     "text": [
      "[(0, 0, 2, 2, 0, 83), (1, 0, 5, 11, 0, 213), (1, 1, 4, 7, 0, 213), (2, 0, 5, 0, 0, 244), (2, 1, 8, 11, 0, 244), (3, 0, 4, 11, 0, 339), (3, 1, 1, 1, 0, 339), (3, 2, 4, 11, 0, 339), (4, 0, 8, 8, 0, 315), (4, 1, 2, 4, 0, 315), (5, 0, 2, 3, 0, 178), (5, 1, 7, 3, 0, 178), (5, 2, 2, 8, 0, 178), (6, 0, 1, 9, 0, 240), (6, 1, 2, 6, 0, 240), (6, 2, 5, 5, 0, 240), (7, 0, 3, 1, 0, 299), (8, 0, 3, 7, 0, 238), (9, 0, 2, 5, 0, 202), (9, 1, 6, 14, 0, 202), (9, 2, 4, 10, 0, 202), (10, 0, 7, 14, 0, 334), (10, 1, 2, 10, 0, 334), (10, 2, 3, 3, 0, 334), (11, 0, 1, 13, 0, 129), (11, 1, 8, 13, 0, 129), (12, 0, 3, 10, 0, 243), (12, 1, 3, 11, 0, 243), (12, 2, 2, 5, 0, 243), (13, 0, 8, 9, 0, 239), (14, 0, 7, 12, 0, 280)]\n"
     ]
    }
   ],
   "source": [
    "d = {'OrderNo' : [], 'PartNo' : [], 'BendingLines' : [], 'WeldingPoints' : [], 'PaintTime' : [], 'DueDate' : []}\n",
    "orderDF = pd.DataFrame(data=d)\n",
    "jobs = []\n",
    "path = r\"OrdersGenerated.txt\"\n",
    "orders = open(path, \"r\")\n",
    "orders = orders.readlines()\n",
    "orders = orders[1:]\n",
    "for i in range(len(orders)):\n",
    "    orders[i] = orders[i].split(', ')\n",
    "    actualOrder = orders[i]\n",
    "    newjob = tuple((int(actualOrder[0]),int(actualOrder[1]),int(actualOrder[2]),int(actualOrder[3]),int(0),int(actualOrder[5])))\n",
    "    jobs.append(newjob)\n",
    "    newRow = {'OrderNo' : actualOrder[0], \n",
    "              'PartNo' : actualOrder[1], \n",
    "              'BendingLines' : actualOrder[2], \n",
    "              'WeldingPoints' : actualOrder[3], \n",
    "              'PaintTime' : actualOrder[4], \n",
    "              'DueDate' : actualOrder[5]}\n",
    "    orderDF = orderDF.append(newRow, ignore_index = True)    \n",
    "\n",
    "orderDF = orderDF.astype('int64')\n",
    "\n",
    "#for simplicity the following lines:\n",
    "orderDF = orderDF.iloc[0:3][:]\n",
    "\n",
    "print (jobs)"
   ]
  },
  {
   "cell_type": "markdown",
   "metadata": {},
   "source": [
    "##### Aber zu Beginn fangen wir mit einem leichteren Beispiel an:"
   ]
  },
  {
   "cell_type": "code",
   "execution_count": 156,
   "metadata": {},
   "outputs": [],
   "source": [
    "jobs = [(0, 0, 1, 1, 0, 3), (0, 1, 1, 0, 0, 3), (0, 2, 1, 0, 0, 3), (0, 3, 0, 1, 1, 3)] "
   ]
  },
  {
   "cell_type": "code",
   "execution_count": 157,
   "metadata": {},
   "outputs": [],
   "source": [
    "bend = [0, 1, 2]\n",
    "solder = [3, 4]\n",
    "paint =  [5]\n",
    "\n",
    "bend_dauer = 2\n",
    "weld_dauer = 3\n",
    "paint_dauer = 6\n",
    "t_step = 6"
   ]
  },
  {
   "cell_type": "code",
   "execution_count": 158,
   "metadata": {},
   "outputs": [],
   "source": [
    "def max_time(jobs):\n",
    "    t = 0\n",
    "    for x in jobs:\n",
    "        t += x[2] * bend_dauer + x[3] * weld_dauer + x[4] * paint_dauer\n",
    "    return t"
   ]
  },
  {
   "cell_type": "code",
   "execution_count": 159,
   "metadata": {},
   "outputs": [
    {
     "name": "stdout",
     "output_type": "stream",
     "text": [
      "The maximal maketime for the given operations is: 18 second(s).\n",
      "Which is equal to: 3 time steps.\n",
      "\n",
      "\n"
     ]
    }
   ],
   "source": [
    "# OrderNo, PartNo, BendingLines, WeldingPoints, PaintTime, DueDate \n",
    "m_time = max_time(jobs)\n",
    "\n",
    "m_t_steps = int(m_time / t_step)\n",
    "    \n",
    "print('The maximal maketime for the given operations is: ' + str(m_time) + ' second(s).\\nWhich is equal to: ' + str(m_t_steps) + ' time steps.\\n\\n')\n"
   ]
  },
  {
   "cell_type": "markdown",
   "metadata": {},
   "source": [
    "##### Ops method to only create logical combinations --> less pruning in the end"
   ]
  },
  {
   "cell_type": "code",
   "execution_count": 160,
   "metadata": {},
   "outputs": [
    {
     "name": "stdout",
     "output_type": "stream",
     "text": [
      "Anzahl an Kombinationen: 42\n",
      "\n",
      "Possible combiniations:\n",
      "\n",
      "Format: OrderNo, PartNo, Op, Machine, Time\n",
      "[(0, 0, 1, 0, 0), (0, 0, 1, 0, 6), (0, 0, 1, 0, 12), (0, 0, 1, 1, 0), (0, 0, 1, 1, 6), (0, 0, 1, 1, 12), (0, 0, 1, 2, 0), (0, 0, 1, 2, 6), (0, 0, 1, 2, 12), (0, 0, 1, 3, 2), (0, 0, 1, 3, 8), (0, 0, 1, 3, 14), (0, 0, 1, 4, 2), (0, 0, 1, 4, 8), (0, 0, 1, 4, 14), (0, 1, 1, 0, 0), (0, 1, 1, 0, 6), (0, 1, 1, 0, 12), (0, 1, 1, 1, 0), (0, 1, 1, 1, 6), (0, 1, 1, 1, 12), (0, 1, 1, 2, 0), (0, 1, 1, 2, 6), (0, 1, 1, 2, 12), (0, 2, 1, 0, 0), (0, 2, 1, 0, 6), (0, 2, 1, 0, 12), (0, 2, 1, 1, 0), (0, 2, 1, 1, 6), (0, 2, 1, 1, 12), (0, 2, 1, 2, 0), (0, 2, 1, 2, 6), (0, 2, 1, 2, 12), (0, 3, 1, 3, 0), (0, 3, 1, 3, 6), (0, 3, 1, 3, 12), (0, 3, 1, 4, 0), (0, 3, 1, 4, 6), (0, 3, 1, 4, 12), (0, 3, 1, 5, 0), (0, 3, 1, 5, 6), (0, 3, 1, 5, 12)]\n"
     ]
    }
   ],
   "source": [
    "# original\n",
    "def ops(jobs, bend, solder, paint, m_time):\n",
    "    ops = []\n",
    "    for x in jobs:\n",
    "        if x[2] > 0:\n",
    "            a = 1\n",
    "            while a <= x[2]:\n",
    "                for m in bend:\n",
    "                    t = 0\n",
    "                    punish = 0\n",
    "                    if x[3] > 0:\n",
    "                        punish += x[3] * 3\n",
    "                    while t < m_time - punish:\n",
    "                        ops.append(tuple((x[0], x[1], a, m, t)))\n",
    "                        t += t_step\n",
    "                a += 1\n",
    "        if x[3] > 0:\n",
    "            b = 1\n",
    "            while b <= x[3]:\n",
    "                for m in solder:\n",
    "                    t = 0\n",
    "                    if x[2] > 0:\n",
    "                        t += x[2] * 2\n",
    "                    while t < m_time:\n",
    "                        ops.append(tuple((x[0], x[1], b, m, t)))\n",
    "                        t += t_step\n",
    "                b += 1\n",
    "        if x[4] > 0:\n",
    "            for m in paint:\n",
    "                t = 0\n",
    "                while t < m_time:\n",
    "                    ops.append(tuple((x[0], x[1], 1, m, t)))\n",
    "                    t += t_step\n",
    "        # ops.append(('||||||||||||END OF JOB ' + str(x[0]) + ' OPERATION ' + str(x[1]) + '||||||||||||'))\n",
    "    return ops\n",
    "    \n",
    "ops = ops(jobs, bend, solder, paint, m_time)\n",
    "\n",
    "print('Anzahl an Kombinationen: ' + str(len(ops)) + '\\n')\n",
    "\n",
    "print('Possible combiniations:\\n')\n",
    "print('Format: OrderNo, PartNo, Op, Machine, Time')\n",
    "\n",
    "print(ops)"
   ]
  },
  {
   "cell_type": "code",
   "execution_count": 161,
   "metadata": {},
   "outputs": [],
   "source": [
    "def convert(ord1, part1, op1, mach1, t1):\n",
    "    return ops.index(tuple((ord1, part1, op1, mach1, t1)))"
   ]
  },
  {
   "cell_type": "code",
   "execution_count": 163,
   "metadata": {},
   "outputs": [],
   "source": [
    "QUBO = np.zeros((len(ops), len(ops))).astype(int)\n",
    "np.set_printoptions(suppress=True)"
   ]
  },
  {
   "cell_type": "code",
   "execution_count": 164,
   "metadata": {},
   "outputs": [],
   "source": [
    "#Format: OrderNo, PartNo, Op, Machine, Time \n",
    "    \n",
    "def fill_QUBO_with_indexes(QUBO, ord1, part1, op1, mach1, t1, ord2, part2, op2, mach2, t2, value):\n",
    "    index_a = convert(ord1, part1, op1, mach1, t1)\n",
    "    index_b = convert(ord2, part2, op2, mach2, t2)\n",
    "    if index_a > index_b:\n",
    "        index_a, index_b = index_b, index_a\n",
    "    QUBO[index_a][index_b] += value"
   ]
  },
  {
   "cell_type": "markdown",
   "metadata": {
    "slideshow": {
     "slide_type": "subslide"
    }
   },
   "source": [
    "Constraint 1 (each operation 'o' of each job 'j' exactly once on one machine 'm' at a certaint (starting-)time 't'):\n",
    "\n",
    "$$\n",
    "H_{0}:=\\sum_{o \\in 0}\\left(\\sum_{m \\in M_{o}} \\sum_{t=0}^{T-1} x_{j, o, m, t}-1\\right)^{2}\n",
    "$$\n"
   ]
  },
  {
   "cell_type": "code",
   "execution_count": 165,
   "metadata": {},
   "outputs": [
    {
     "ename": "ValueError",
     "evalue": "(0, 0, 1, 0, 1) is not in list",
     "output_type": "error",
     "traceback": [
      "\u001b[0;31m---------------------------------------------------------------------------\u001b[0m",
      "\u001b[0;31mValueError\u001b[0m                                Traceback (most recent call last)",
      "\u001b[0;32m<ipython-input-165-3282c78b7d2b>\u001b[0m in \u001b[0;36m<module>\u001b[0;34m\u001b[0m\n\u001b[1;32m     10\u001b[0m                             \u001b[0mfill_QUBO_with_indexes\u001b[0m\u001b[0;34m(\u001b[0m\u001b[0mQUBO\u001b[0m\u001b[0;34m,\u001b[0m \u001b[0mx\u001b[0m\u001b[0;34m[\u001b[0m\u001b[0;36m0\u001b[0m\u001b[0;34m]\u001b[0m\u001b[0;34m,\u001b[0m \u001b[0mx\u001b[0m\u001b[0;34m[\u001b[0m\u001b[0;36m1\u001b[0m\u001b[0;34m]\u001b[0m\u001b[0;34m,\u001b[0m \u001b[0mx\u001b[0m\u001b[0;34m[\u001b[0m\u001b[0;36m2\u001b[0m\u001b[0;34m]\u001b[0m\u001b[0;34m,\u001b[0m \u001b[0mm\u001b[0m\u001b[0;34m,\u001b[0m \u001b[0mt\u001b[0m\u001b[0;34m,\u001b[0m \u001b[0mx\u001b[0m\u001b[0;34m[\u001b[0m\u001b[0;36m0\u001b[0m\u001b[0;34m]\u001b[0m\u001b[0;34m,\u001b[0m \u001b[0mx\u001b[0m\u001b[0;34m[\u001b[0m\u001b[0;36m1\u001b[0m\u001b[0;34m]\u001b[0m\u001b[0;34m,\u001b[0m \u001b[0mx\u001b[0m\u001b[0;34m[\u001b[0m\u001b[0;36m2\u001b[0m\u001b[0;34m]\u001b[0m\u001b[0;34m,\u001b[0m \u001b[0mm\u001b[0m\u001b[0;34m,\u001b[0m \u001b[0mu\u001b[0m\u001b[0;34m,\u001b[0m \u001b[0;36m2\u001b[0m\u001b[0;34m*\u001b[0m\u001b[0malpha\u001b[0m\u001b[0;34m)\u001b[0m\u001b[0;34m\u001b[0m\u001b[0;34m\u001b[0m\u001b[0m\n\u001b[1;32m     11\u001b[0m                         \u001b[0;32mfor\u001b[0m \u001b[0mt\u001b[0m \u001b[0;32min\u001b[0m \u001b[0mrange\u001b[0m\u001b[0;34m(\u001b[0m\u001b[0mm_time\u001b[0m\u001b[0;34m)\u001b[0m\u001b[0;34m:\u001b[0m\u001b[0;34m\u001b[0m\u001b[0;34m\u001b[0m\u001b[0m\n\u001b[0;32m---> 12\u001b[0;31m                             \u001b[0mfill_QUBO_with_indexes\u001b[0m\u001b[0;34m(\u001b[0m\u001b[0mQUBO\u001b[0m\u001b[0;34m,\u001b[0m \u001b[0mx\u001b[0m\u001b[0;34m[\u001b[0m\u001b[0;36m0\u001b[0m\u001b[0;34m]\u001b[0m\u001b[0;34m,\u001b[0m \u001b[0mx\u001b[0m\u001b[0;34m[\u001b[0m\u001b[0;36m1\u001b[0m\u001b[0;34m]\u001b[0m\u001b[0;34m,\u001b[0m \u001b[0mx\u001b[0m\u001b[0;34m[\u001b[0m\u001b[0;36m2\u001b[0m\u001b[0;34m]\u001b[0m\u001b[0;34m,\u001b[0m \u001b[0mm\u001b[0m\u001b[0;34m,\u001b[0m \u001b[0mt\u001b[0m\u001b[0;34m,\u001b[0m \u001b[0mx\u001b[0m\u001b[0;34m[\u001b[0m\u001b[0;36m0\u001b[0m\u001b[0;34m]\u001b[0m\u001b[0;34m,\u001b[0m \u001b[0mx\u001b[0m\u001b[0;34m[\u001b[0m\u001b[0;36m1\u001b[0m\u001b[0;34m]\u001b[0m\u001b[0;34m,\u001b[0m \u001b[0mx\u001b[0m\u001b[0;34m[\u001b[0m\u001b[0;36m2\u001b[0m\u001b[0;34m]\u001b[0m\u001b[0;34m,\u001b[0m \u001b[0mm\u001b[0m\u001b[0;34m,\u001b[0m \u001b[0mt\u001b[0m\u001b[0;34m,\u001b[0m \u001b[0;34m-\u001b[0m\u001b[0malpha\u001b[0m\u001b[0;34m)\u001b[0m\u001b[0;34m\u001b[0m\u001b[0;34m\u001b[0m\u001b[0m\n\u001b[0m\u001b[1;32m     13\u001b[0m         \u001b[0;32mif\u001b[0m \u001b[0mx\u001b[0m\u001b[0;34m[\u001b[0m\u001b[0;36m3\u001b[0m\u001b[0;34m]\u001b[0m \u001b[0;34m>\u001b[0m \u001b[0;36m0\u001b[0m\u001b[0;34m:\u001b[0m\u001b[0;34m\u001b[0m\u001b[0;34m\u001b[0m\u001b[0m\n\u001b[1;32m     14\u001b[0m                 \u001b[0;32mfor\u001b[0m \u001b[0mm\u001b[0m \u001b[0;32min\u001b[0m \u001b[0msolder\u001b[0m\u001b[0;34m:\u001b[0m\u001b[0;34m\u001b[0m\u001b[0;34m\u001b[0m\u001b[0m\n",
      "\u001b[0;32m<ipython-input-164-f6c9dabb89de>\u001b[0m in \u001b[0;36mfill_QUBO_with_indexes\u001b[0;34m(QUBO, ord1, part1, op1, mach1, t1, ord2, part2, op2, mach2, t2, value)\u001b[0m\n\u001b[1;32m      2\u001b[0m \u001b[0;34m\u001b[0m\u001b[0m\n\u001b[1;32m      3\u001b[0m \u001b[0;32mdef\u001b[0m \u001b[0mfill_QUBO_with_indexes\u001b[0m\u001b[0;34m(\u001b[0m\u001b[0mQUBO\u001b[0m\u001b[0;34m,\u001b[0m \u001b[0mord1\u001b[0m\u001b[0;34m,\u001b[0m \u001b[0mpart1\u001b[0m\u001b[0;34m,\u001b[0m \u001b[0mop1\u001b[0m\u001b[0;34m,\u001b[0m \u001b[0mmach1\u001b[0m\u001b[0;34m,\u001b[0m \u001b[0mt1\u001b[0m\u001b[0;34m,\u001b[0m \u001b[0mord2\u001b[0m\u001b[0;34m,\u001b[0m \u001b[0mpart2\u001b[0m\u001b[0;34m,\u001b[0m \u001b[0mop2\u001b[0m\u001b[0;34m,\u001b[0m \u001b[0mmach2\u001b[0m\u001b[0;34m,\u001b[0m \u001b[0mt2\u001b[0m\u001b[0;34m,\u001b[0m \u001b[0mvalue\u001b[0m\u001b[0;34m)\u001b[0m\u001b[0;34m:\u001b[0m\u001b[0;34m\u001b[0m\u001b[0;34m\u001b[0m\u001b[0m\n\u001b[0;32m----> 4\u001b[0;31m     \u001b[0mindex_a\u001b[0m \u001b[0;34m=\u001b[0m \u001b[0mconvert\u001b[0m\u001b[0;34m(\u001b[0m\u001b[0mord1\u001b[0m\u001b[0;34m,\u001b[0m \u001b[0mpart1\u001b[0m\u001b[0;34m,\u001b[0m \u001b[0mop1\u001b[0m\u001b[0;34m,\u001b[0m \u001b[0mmach1\u001b[0m\u001b[0;34m,\u001b[0m \u001b[0mt1\u001b[0m\u001b[0;34m)\u001b[0m\u001b[0;34m\u001b[0m\u001b[0;34m\u001b[0m\u001b[0m\n\u001b[0m\u001b[1;32m      5\u001b[0m     \u001b[0mindex_b\u001b[0m \u001b[0;34m=\u001b[0m \u001b[0mconvert\u001b[0m\u001b[0;34m(\u001b[0m\u001b[0mord2\u001b[0m\u001b[0;34m,\u001b[0m \u001b[0mpart2\u001b[0m\u001b[0;34m,\u001b[0m \u001b[0mop2\u001b[0m\u001b[0;34m,\u001b[0m \u001b[0mmach2\u001b[0m\u001b[0;34m,\u001b[0m \u001b[0mt2\u001b[0m\u001b[0;34m)\u001b[0m\u001b[0;34m\u001b[0m\u001b[0;34m\u001b[0m\u001b[0m\n\u001b[1;32m      6\u001b[0m     \u001b[0;32mif\u001b[0m \u001b[0mindex_a\u001b[0m \u001b[0;34m>\u001b[0m \u001b[0mindex_b\u001b[0m\u001b[0;34m:\u001b[0m\u001b[0;34m\u001b[0m\u001b[0;34m\u001b[0m\u001b[0m\n",
      "\u001b[0;32m<ipython-input-161-e8ec9ecc304c>\u001b[0m in \u001b[0;36mconvert\u001b[0;34m(ord1, part1, op1, mach1, t1)\u001b[0m\n\u001b[1;32m      1\u001b[0m \u001b[0;32mdef\u001b[0m \u001b[0mconvert\u001b[0m\u001b[0;34m(\u001b[0m\u001b[0mord1\u001b[0m\u001b[0;34m,\u001b[0m \u001b[0mpart1\u001b[0m\u001b[0;34m,\u001b[0m \u001b[0mop1\u001b[0m\u001b[0;34m,\u001b[0m \u001b[0mmach1\u001b[0m\u001b[0;34m,\u001b[0m \u001b[0mt1\u001b[0m\u001b[0;34m)\u001b[0m\u001b[0;34m:\u001b[0m\u001b[0;34m\u001b[0m\u001b[0;34m\u001b[0m\u001b[0m\n\u001b[0;32m----> 2\u001b[0;31m     \u001b[0;32mreturn\u001b[0m \u001b[0mops\u001b[0m\u001b[0;34m.\u001b[0m\u001b[0mindex\u001b[0m\u001b[0;34m(\u001b[0m\u001b[0mtuple\u001b[0m\u001b[0;34m(\u001b[0m\u001b[0;34m(\u001b[0m\u001b[0mord1\u001b[0m\u001b[0;34m,\u001b[0m \u001b[0mpart1\u001b[0m\u001b[0;34m,\u001b[0m \u001b[0mop1\u001b[0m\u001b[0;34m,\u001b[0m \u001b[0mmach1\u001b[0m\u001b[0;34m,\u001b[0m \u001b[0mt1\u001b[0m\u001b[0;34m)\u001b[0m\u001b[0;34m)\u001b[0m\u001b[0;34m)\u001b[0m\u001b[0;34m\u001b[0m\u001b[0;34m\u001b[0m\u001b[0m\n\u001b[0m",
      "\u001b[0;31mValueError\u001b[0m: (0, 0, 1, 0, 1) is not in list"
     ]
    }
   ],
   "source": [
    "# H0: Mehrmaliges abarbeiten der selben Operation eines Bauteils eines Jobs bestrafen\n",
    "\n",
    "alpha = 1\n",
    "\n",
    "for x in jobs:\n",
    "        if x[2] > 0:\n",
    "                for m in bend:\n",
    "                    for u in range(m_time):\n",
    "                        for t in range(u):\n",
    "                            fill_QUBO_with_indexes(QUBO, x[0], x[1], x[2], m, t, x[0], x[1], x[2], m, u, 2*alpha)\n",
    "                        for t in range(m_time):\n",
    "                            fill_QUBO_with_indexes(QUBO, x[0], x[1], x[2], m, t, x[0], x[1], x[2], m, t, -alpha)\n",
    "        if x[3] > 0:\n",
    "                for m in solder:\n",
    "                    for u in range(m_time):\n",
    "                        for t in range(u):\n",
    "                            fill_QUBO_with_indexes(QUBO, x[0], x[1], x[3], m, t, x[0], x[1], x[3], m, u, 2*alpha)\n",
    "                        for t in range(m_time):\n",
    "                            fill_QUBO_with_indexes(QUBO, x[0], x[1], x[3], m, t, x[0], x[1], x[3], m, t, -alpha)"
   ]
  },
  {
   "cell_type": "markdown",
   "metadata": {},
   "source": [
    "Secondly, for every job $j \\in J$, its operations $O_j$ must be executed in the order given by \n",
    "\n",
    "<br /><br />\n",
    "$$\n",
    "\\left.c\\right|_{o_{j}}: O_{j} \\rightarrow\\left\\{1, \\ldots, n_{j}\\right\\}\n",
    "$$\n",
    "<br />\n",
    "$$H_{1}:=\\sum_{j \\in J}\\left(\\sum_{k_{n-1}<i<k_{n}, t+p_{i} > t'} x_{i, t}x_{i+1, t'}\\right)$$\n"
   ]
  },
  {
   "cell_type": "code",
   "execution_count": 166,
   "metadata": {},
   "outputs": [],
   "source": [
    "'Format: OrderNo, PartNo, Op, Machine, Time \\n'\n",
    "# H1 verbotene Reihenfolgen innerhalb eines Bauteils eines Jobs bestrafen\n",
    "\n",
    "beta = 1\n",
    "\n",
    "for tupel1 in ops:\n",
    "    if tupel1[3] <= 3:\n",
    "        dom = 2\n",
    "    elif tupel1[3] <= 5:\n",
    "        dom = 3\n",
    "    else:\n",
    "        dom = 0\n",
    "    for tupel2 in ops:\n",
    "        if (tupel1[0] == tupel2[0]) and (tupel1[1] == tupel2[1]):\n",
    "            if (tupel2[3] > 2 and 2 >= tupel1[3] and tupel2[4] < (tupel1[4] + dom)) or (tupel2[3] > 4 and 4 >= tupel1[3] and tupel1[3] > 2 and tupel2[4] < (tupel1[4] + dom)):\n",
    "                fill_QUBO_with_indexes(QUBO, *tupel1, *tupel2, beta)"
   ]
  },
  {
   "cell_type": "code",
   "execution_count": 167,
   "metadata": {},
   "outputs": [],
   "source": [
    "'Format: OrderNo, PartNo, Op, Machine, Time \\n'\n",
    "# H2 Geichzeitiges Laufen zweier verschiedener Operationen auf der selben Ma\n",
    "\n",
    "gamma = 1\n",
    "\n",
    "for tupel1 in ops:\n",
    "    if tupel1[3] <= 3:\n",
    "        dom = 2\n",
    "    elif tupel1[3] <= 5:\n",
    "        dom = 3\n",
    "    else:\n",
    "        dom = 0\n",
    "    for tupel2 in ops:\n",
    "        if ((tupel1[0] != tupel2[0] or tupel1[1] != tupel2[1]) and tupel1[3] == tupel2[3] and tupel1[4] <= tupel2[4] < tupel1[4] + dom):\n",
    "            fill_QUBO_with_indexes(QUBO, *tupel1, *tupel2, gamma)"
   ]
  },
  {
   "cell_type": "code",
   "execution_count": 168,
   "metadata": {},
   "outputs": [],
   "source": [
    "# ops =  OrderNo, PartNo, OpNum, Machine, Time\n",
    "# job = OrderNo, PartNo, BendingLines, WeldingPoints, PaintTime, DueDate\n",
    "# K Bestrafung für Verspätung\n",
    "\n",
    "delta = 1\n",
    "     \n",
    "c = 0\n",
    "while c < len(jobs):\n",
    "    t1 = 0\n",
    "    while t1 < len(ops):\n",
    "        if jobs[c][0] == ops[t1][0]:\n",
    "            tail = 0\n",
    "            punish = 0\n",
    "            if ops[t1][3] < 3: # op is bend\n",
    "                dom = 2 * ops[t1][2]\n",
    "                if jobs[c][3] > 0: # there is still welding to do\n",
    "                    tail += jobs[c][3] * 3\n",
    "                if jobs[c][4] > 0: # has paint op\n",
    "                    punish += jobs[c][4] * 6\n",
    "            else: # op is weld\n",
    "                dom = 3 * ops[t1][2]\n",
    "                if jobs[c][4] > 0: # has paint op\n",
    "                    punish += jobs[c][4] * 6\n",
    "            if ops[t1][4] + dom + tail > jobs[c][5]*6 - punish:\n",
    "                fill_QUBO_with_indexes(QUBO, *ops[t1], *ops[t1], delta)\n",
    "        t1 += 1\n",
    "    c+=1"
   ]
  },
  {
   "cell_type": "code",
   "execution_count": 170,
   "metadata": {},
   "outputs": [],
   "source": [
    "qubo_d = {}\n",
    "x1 = 0\n",
    "while x1 < len(ops):\n",
    "    x2 = x1\n",
    "    while x2 < len(ops):\n",
    "        qubo_d[(x1, x2)] = QUBO[x1][x2]\n",
    "        x2 += 1\n",
    "    x1 += 1\n",
    "    \n",
    "# print(qubo_d)"
   ]
  },
  {
   "cell_type": "code",
   "execution_count": 171,
   "metadata": {},
   "outputs": [],
   "source": [
    "\n",
    "\n",
    "# verwendet ops! --> als zusätzliches Argument?\n",
    "def get_qubo_heatmap(QUBO, output=\"qubo_matrix.png\"):\n",
    "    \n",
    "    df = pd.DataFrame(QUBO, columns=ops, index = ops)\n",
    "    sns.set_style(\"white\")\n",
    "    mask = np.tril(np.zeros_like(df)).astype(np.bool)\n",
    "    mask[np.tril_indices_from(mask)] = True\n",
    "\n",
    "    # Keep diagonal elements \n",
    "    mask[np.diag_indices_from(mask)] = False\n",
    "\n",
    "    # Set up the matplotlib figure\n",
    "    f, ax = plt.subplots(figsize=(14, 12))\n",
    "\n",
    "    # Generate a custom diverging colormap in TRUMPF Color 0033BA\n",
    "    cmap = sns.diverging_palette(255, 200, sep=10, as_cmap=True)\n",
    "\n",
    "    # Draw the heatmap with the mask and correct aspect ratio\n",
    "    sns_plot = sns.heatmap(df, mask=mask, cmap=cmap, center=0,\n",
    "            square=True, linewidths=.5, cbar_kws={\"shrink\": .5})\n",
    "    # save to file\n",
    "    fig = sns_plot.get_figure()\n",
    "    fig.savefig(output)"
   ]
  },
  {
   "cell_type": "code",
   "execution_count": 172,
   "metadata": {},
   "outputs": [
    {
     "data": {
      "image/png": "[encoded data removed]",
      "text/plain": [
       "<Figure size 1008x864 with 2 Axes>"
      ]
     },
     "metadata": {},
     "output_type": "display_data"
    }
   ],
   "source": [
    "get_qubo_heatmap(QUBO)"
   ]
  },
  {
   "cell_type": "code",
   "execution_count": 174,
   "metadata": {},
   "outputs": [],
   "source": [
    "qubo_d = {}\n",
    "x1 = 0\n",
    "while x1 < len(ops):\n",
    "    x2 = x1\n",
    "    while x2 < len(ops):\n",
    "        qubo_d[(x1, x2)] = QUBO[x1][x2]\n",
    "        x2 += 1\n",
    "    x1 += 1\n",
    "\n",
    "#print(qubo_d)"
   ]
  },
  {
   "cell_type": "code",
   "execution_count": 175,
   "metadata": {},
   "outputs": [
    {
     "name": "stdout",
     "output_type": "stream",
     "text": [
      "    0  1  2  3  4  5  6  7  8  9 10 11 12 13 14 15 16 17 ... 41 energy num_oc.\n",
      "0   1  1  0  0  0  0  0  1  0  0  1  0  0  1  0  0  0  0 ...  0   -1.0       2\n",
      "1   1  0  0  0  0  0  1  0  0  0  0  0  1  0  0  0  0  0 ...  0   -1.0       2\n",
      "2   1  0  0  0  0  0  0  0  0  0  1  0  0  0  0  0  1  0 ...  0   -1.0       2\n",
      "3   1  0  0  0  0  0  0  0  0  0  0  0  0  0  0  0  0  0 ...  0   -1.0       9\n",
      "4   1  0  0  1  0  0  0  0  0  1  1  0  1  0  0  0  1  0 ...  0   -1.0       2\n",
      "5   1  0  0  0  1  0  0  0  0  0  1  0  0  0  0  0  0  0 ...  0   -1.0       2\n",
      "6   1  1  0  0  0  0  0  1  0  0  0  0  0  1  0  0  0  0 ...  0   -1.0       1\n",
      "7   1  0  0  0  0  0  0  1  0  0  1  0  0  0  0  0  0  0 ...  0   -1.0       2\n",
      "8   1  1  0  0  0  0  0  0  0  0  0  0  0  0  0  0  0  0 ...  0   -1.0       2\n",
      "9   1  0  0  0  0  0  1  0  0  1  1  0  0  1  0  0  1  0 ...  0   -1.0       2\n",
      "10  1  1  0  0  1  0  0  1  0  0  1  0  0  0  0  0  0  0 ...  0   -1.0       2\n",
      "11  1  0  0  1  0  0  0  0  0  0  0  0  0  1  0  0  1  0 ...  0   -1.0       2\n",
      "12  1  0  0  0  0  0  0  1  0  0  1  0  0  0  0  0  0  0 ...  0   -1.0       2\n",
      "13  1  0  0  1  0  0  0  0  0  0  0  0  0  0  0  0  0  0 ...  0   -1.0       2\n",
      "14  1  1  0  0  0  0  0  0  0  0  0  0  0  0  0  0  0  0 ...  0   -1.0       2\n",
      "15  1  0  0  0  1  0  0  0  0  0  1  0  0  0  0  0  0  0 ...  0   -1.0       2\n",
      "16  1  0  0  0  0  0  0  0  0  1  0  0  0  0  0  0  0  0 ...  0   -1.0       9\n",
      "17  1  0  0  1  0  0  1  0  0  0  0  0  0  0  0  0  1  0 ...  0   -1.0       2\n",
      "18  1  0  0  1  0  0  0  0  0  0  0  0  1  0  0  0  1  0 ...  0   -1.0       2\n",
      "['BINARY', 19 rows, 51 samples, 42 variables]\n"
     ]
    }
   ],
   "source": [
    "# solve and print first result\n",
    "result = QBSolv().sample_qubo(qubo_d)\n",
    "print(result)\n",
    "result = [result.samples()[0][x] for x in result.samples()[0]]\n",
    "schedule = []\n",
    "for i in range(len(result)):\n",
    "    if result[i] == 1:\n",
    "        schedule.append(ops[i])\n",
    "df_schedule=pd.DataFrame(schedule)\n",
    "df_schedule.columns = [\"OrderNo\", \"PartNo\", \"Op\", \"Task\", \"Time\"]"
   ]
  },
  {
   "cell_type": "code",
   "execution_count": 176,
   "metadata": {},
   "outputs": [],
   "source": [
    "#Für jedes einzigartige Tupel [(PartNo)(Op)(Machine)] markiert der erste Zeitpunkt \"Start\" und der Letzte \"Finish\" \n",
    "\n",
    "df_schedule=df_schedule.groupby([\"PartNo\",\"Op\",\"Task\"]).agg(\n",
    "            Start=pd.NamedAgg(column='Time', aggfunc='min'),\n",
    "            Finish=pd.NamedAgg(column='Time', aggfunc='max')).reset_index()"
   ]
  },
  {
   "cell_type": "code",
   "execution_count": 177,
   "metadata": {},
   "outputs": [
    {
     "data": {
      "application/vnd.plotly.v1+json": {
       "config": {
        "plotlyServerURL": "https://plot.ly"
       },
       "data": [
        {
         "fill": "toself",
         "fillcolor": "rgb(0, 51, 186)",
         "hoverinfo": "name",
         "legendgroup": "rgb(0, 51, 186)",
         "mode": "none",
         "name": "0",
         "type": "scatter",
         "x": [
          0,
          6,
          6,
          0,
          0,
          6,
          6,
          6,
          6,
          6,
          8,
          8,
          8,
          8,
          8,
          8,
          8,
          8,
          8
         ],
         "y": [
          3.8,
          3.8,
          4.2,
          4.2,
          null,
          2.8,
          2.8,
          3.2,
          3.2,
          null,
          1.8,
          1.8,
          2.2,
          2.2,
          null,
          0.8,
          0.8,
          1.2,
          1.2
         ]
        },
        {
         "fill": "toself",
         "fillcolor": "rgb(120, 120, 120)",
         "hoverinfo": "name",
         "legendgroup": "rgb(120, 120, 120)",
         "mode": "none",
         "name": "1",
         "type": "scatter",
         "x": [
          0,
          0,
          0,
          0
         ],
         "y": [
          -0.2,
          -0.2,
          0.2,
          0.2
         ]
        },
        {
         "fill": "toself",
         "fillcolor": "rgb(68, 68, 68)",
         "hoverinfo": "name",
         "legendgroup": "rgb(68, 68, 68)",
         "mode": "none",
         "name": "2",
         "type": "scatter",
         "x": [
          6,
          6,
          6,
          6,
          6,
          0,
          0,
          0,
          0
         ],
         "y": [
          -0.2,
          -0.2,
          0.2,
          0.2,
          null,
          2.8,
          2.8,
          3.2,
          3.2
         ]
        },
        {
         "fill": "toself",
         "fillcolor": "rgb(8, 8, 8)",
         "hoverinfo": "name",
         "legendgroup": "rgb(8, 8, 8)",
         "mode": "none",
         "name": "3",
         "type": "scatter",
         "x": [
          0,
          0,
          0,
          0
         ],
         "y": [
          0.8,
          0.8,
          1.2,
          1.2
         ]
        },
        {
         "legendgroup": "rgb(0, 51, 186)",
         "marker": {
          "color": "rgb(0, 51, 186)",
          "opacity": 0,
          "size": 1
         },
         "mode": "markers",
         "name": "",
         "showlegend": false,
         "text": [
          null,
          null,
          null,
          null,
          null,
          null,
          null,
          null
         ],
         "type": "scatter",
         "x": [
          0,
          6,
          6,
          6,
          8,
          8,
          8,
          8
         ],
         "y": [
          4,
          4,
          3,
          3,
          2,
          2,
          1,
          1
         ]
        },
        {
         "legendgroup": "rgb(120, 120, 120)",
         "marker": {
          "color": "rgb(120, 120, 120)",
          "opacity": 0,
          "size": 1
         },
         "mode": "markers",
         "name": "",
         "showlegend": false,
         "text": [
          null,
          null
         ],
         "type": "scatter",
         "x": [
          0,
          0
         ],
         "y": [
          0,
          0
         ]
        },
        {
         "legendgroup": "rgb(68, 68, 68)",
         "marker": {
          "color": "rgb(68, 68, 68)",
          "opacity": 0,
          "size": 1
         },
         "mode": "markers",
         "name": "",
         "showlegend": false,
         "text": [
          null,
          null,
          null,
          null
         ],
         "type": "scatter",
         "x": [
          6,
          6,
          0,
          0
         ],
         "y": [
          0,
          0,
          3,
          3
         ]
        },
        {
         "legendgroup": "rgb(8, 8, 8)",
         "marker": {
          "color": "rgb(8, 8, 8)",
          "opacity": 0,
          "size": 1
         },
         "mode": "markers",
         "name": "",
         "showlegend": false,
         "text": [
          null,
          null
         ],
         "type": "scatter",
         "x": [
          0,
          0
         ],
         "y": [
          1,
          1
         ]
        }
       ],
       "layout": {
        "height": 600,
        "hovermode": "closest",
        "showlegend": false,
        "template": {
         "data": {
          "bar": [
           {
            "error_x": {
             "color": "#2a3f5f"
            },
            "error_y": {
             "color": "#2a3f5f"
            },
            "marker": {
             "line": {
              "color": "#E5ECF6",
              "width": 0.5
             }
            },
            "type": "bar"
           }
          ],
          "barpolar": [
           {
            "marker": {
             "line": {
              "color": "#E5ECF6",
              "width": 0.5
             }
            },
            "type": "barpolar"
           }
          ],
          "carpet": [
           {
            "aaxis": {
             "endlinecolor": "#2a3f5f",
             "gridcolor": "white",
             "linecolor": "white",
             "minorgridcolor": "white",
             "startlinecolor": "#2a3f5f"
            },
            "baxis": {
             "endlinecolor": "#2a3f5f",
             "gridcolor": "white",
             "linecolor": "white",
             "minorgridcolor": "white",
             "startlinecolor": "#2a3f5f"
            },
            "type": "carpet"
           }
          ],
          "choropleth": [
           {
            "colorbar": {
             "outlinewidth": 0,
             "ticks": ""
            },
            "type": "choropleth"
           }
          ],
          "contour": [
           {
            "colorbar": {
             "outlinewidth": 0,
             "ticks": ""
            },
            "colorscale": [
             [
              0,
              "#0d0887"
             ],
             [
              0.1111111111111111,
              "#46039f"
             ],
             [
              0.2222222222222222,
              "#7201a8"
             ],
             [
              0.3333333333333333,
              "#9c179e"
             ],
             [
              0.4444444444444444,
              "#bd3786"
             ],
             [
              0.5555555555555556,
              "#d8576b"
             ],
             [
              0.6666666666666666,
              "#ed7953"
             ],
             [
              0.7777777777777778,
              "#fb9f3a"
             ],
             [
              0.8888888888888888,
              "#fdca26"
             ],
             [
              1,
              "#f0f921"
             ]
            ],
            "type": "contour"
           }
          ],
          "contourcarpet": [
           {
            "colorbar": {
             "outlinewidth": 0,
             "ticks": ""
            },
            "type": "contourcarpet"
           }
          ],
          "heatmap": [
           {
            "colorbar": {
             "outlinewidth": 0,
             "ticks": ""
            },
            "colorscale": [
             [
              0,
              "#0d0887"
             ],
             [
              0.1111111111111111,
              "#46039f"
             ],
             [
              0.2222222222222222,
              "#7201a8"
             ],
             [
              0.3333333333333333,
              "#9c179e"
             ],
             [
              0.4444444444444444,
              "#bd3786"
             ],
             [
              0.5555555555555556,
              "#d8576b"
             ],
             [
              0.6666666666666666,
              "#ed7953"
             ],
             [
              0.7777777777777778,
              "#fb9f3a"
             ],
             [
              0.8888888888888888,
              "#fdca26"
             ],
             [
              1,
              "#f0f921"
             ]
            ],
            "type": "heatmap"
           }
          ],
          "heatmapgl": [
           {
            "colorbar": {
             "outlinewidth": 0,
             "ticks": ""
            },
            "colorscale": [
             [
              0,
              "#0d0887"
             ],
             [
              0.1111111111111111,
              "#46039f"
             ],
             [
              0.2222222222222222,
              "#7201a8"
             ],
             [
              0.3333333333333333,
              "#9c179e"
             ],
             [
              0.4444444444444444,
              "#bd3786"
             ],
             [
              0.5555555555555556,
              "#d8576b"
             ],
             [
              0.6666666666666666,
              "#ed7953"
             ],
             [
              0.7777777777777778,
              "#fb9f3a"
             ],
             [
              0.8888888888888888,
              "#fdca26"
             ],
             [
              1,
              "#f0f921"
             ]
            ],
            "type": "heatmapgl"
           }
          ],
          "histogram": [
           {
            "marker": {
             "colorbar": {
              "outlinewidth": 0,
              "ticks": ""
             }
            },
            "type": "histogram"
           }
          ],
          "histogram2d": [
           {
            "colorbar": {
             "outlinewidth": 0,
             "ticks": ""
            },
            "colorscale": [
             [
              0,
              "#0d0887"
             ],
             [
              0.1111111111111111,
              "#46039f"
             ],
             [
              0.2222222222222222,
              "#7201a8"
             ],
             [
              0.3333333333333333,
              "#9c179e"
             ],
             [
              0.4444444444444444,
              "#bd3786"
             ],
             [
              0.5555555555555556,
              "#d8576b"
             ],
             [
              0.6666666666666666,
              "#ed7953"
             ],
             [
              0.7777777777777778,
              "#fb9f3a"
             ],
             [
              0.8888888888888888,
              "#fdca26"
             ],
             [
              1,
              "#f0f921"
             ]
            ],
            "type": "histogram2d"
           }
          ],
          "histogram2dcontour": [
           {
            "colorbar": {
             "outlinewidth": 0,
             "ticks": ""
            },
            "colorscale": [
             [
              0,
              "#0d0887"
             ],
             [
              0.1111111111111111,
              "#46039f"
             ],
             [
              0.2222222222222222,
              "#7201a8"
             ],
             [
              0.3333333333333333,
              "#9c179e"
             ],
             [
              0.4444444444444444,
              "#bd3786"
             ],
             [
              0.5555555555555556,
              "#d8576b"
             ],
             [
              0.6666666666666666,
              "#ed7953"
             ],
             [
              0.7777777777777778,
              "#fb9f3a"
             ],
             [
              0.8888888888888888,
              "#fdca26"
             ],
             [
              1,
              "#f0f921"
             ]
            ],
            "type": "histogram2dcontour"
           }
          ],
          "mesh3d": [
           {
            "colorbar": {
             "outlinewidth": 0,
             "ticks": ""
            },
            "type": "mesh3d"
           }
          ],
          "parcoords": [
           {
            "line": {
             "colorbar": {
              "outlinewidth": 0,
              "ticks": ""
             }
            },
            "type": "parcoords"
           }
          ],
          "pie": [
           {
            "automargin": true,
            "type": "pie"
           }
          ],
          "scatter": [
           {
            "marker": {
             "colorbar": {
              "outlinewidth": 0,
              "ticks": ""
             }
            },
            "type": "scatter"
           }
          ],
          "scatter3d": [
           {
            "line": {
             "colorbar": {
              "outlinewidth": 0,
              "ticks": ""
             }
            },
            "marker": {
             "colorbar": {
              "outlinewidth": 0,
              "ticks": ""
             }
            },
            "type": "scatter3d"
           }
          ],
          "scattercarpet": [
           {
            "marker": {
             "colorbar": {
              "outlinewidth": 0,
              "ticks": ""
             }
            },
            "type": "scattercarpet"
           }
          ],
          "scattergeo": [
           {
            "marker": {
             "colorbar": {
              "outlinewidth": 0,
              "ticks": ""
             }
            },
            "type": "scattergeo"
           }
          ],
          "scattergl": [
           {
            "marker": {
             "colorbar": {
              "outlinewidth": 0,
              "ticks": ""
             }
            },
            "type": "scattergl"
           }
          ],
          "scattermapbox": [
           {
            "marker": {
             "colorbar": {
              "outlinewidth": 0,
              "ticks": ""
             }
            },
            "type": "scattermapbox"
           }
          ],
          "scatterpolar": [
           {
            "marker": {
             "colorbar": {
              "outlinewidth": 0,
              "ticks": ""
             }
            },
            "type": "scatterpolar"
           }
          ],
          "scatterpolargl": [
           {
            "marker": {
             "colorbar": {
              "outlinewidth": 0,
              "ticks": ""
             }
            },
            "type": "scatterpolargl"
           }
          ],
          "scatterternary": [
           {
            "marker": {
             "colorbar": {
              "outlinewidth": 0,
              "ticks": ""
             }
            },
            "type": "scatterternary"
           }
          ],
          "surface": [
           {
            "colorbar": {
             "outlinewidth": 0,
             "ticks": ""
            },
            "colorscale": [
             [
              0,
              "#0d0887"
             ],
             [
              0.1111111111111111,
              "#46039f"
             ],
             [
              0.2222222222222222,
              "#7201a8"
             ],
             [
              0.3333333333333333,
              "#9c179e"
             ],
             [
              0.4444444444444444,
              "#bd3786"
             ],
             [
              0.5555555555555556,
              "#d8576b"
             ],
             [
              0.6666666666666666,
              "#ed7953"
             ],
             [
              0.7777777777777778,
              "#fb9f3a"
             ],
             [
              0.8888888888888888,
              "#fdca26"
             ],
             [
              1,
              "#f0f921"
             ]
            ],
            "type": "surface"
           }
          ],
          "table": [
           {
            "cells": {
             "fill": {
              "color": "#EBF0F8"
             },
             "line": {
              "color": "white"
             }
            },
            "header": {
             "fill": {
              "color": "#C8D4E3"
             },
             "line": {
              "color": "white"
             }
            },
            "type": "table"
           }
          ]
         },
         "layout": {
          "annotationdefaults": {
           "arrowcolor": "#2a3f5f",
           "arrowhead": 0,
           "arrowwidth": 1
          },
          "coloraxis": {
           "colorbar": {
            "outlinewidth": 0,
            "ticks": ""
           }
          },
          "colorscale": {
           "diverging": [
            [
             0,
             "#8e0152"
            ],
            [
             0.1,
             "#c51b7d"
            ],
            [
             0.2,
             "#de77ae"
            ],
            [
             0.3,
             "#f1b6da"
            ],
            [
             0.4,
             "#fde0ef"
            ],
            [
             0.5,
             "#f7f7f7"
            ],
            [
             0.6,
             "#e6f5d0"
            ],
            [
             0.7,
             "#b8e186"
            ],
            [
             0.8,
             "#7fbc41"
            ],
            [
             0.9,
             "#4d9221"
            ],
            [
             1,
             "#276419"
            ]
           ],
           "sequential": [
            [
             0,
             "#0d0887"
            ],
            [
             0.1111111111111111,
             "#46039f"
            ],
            [
             0.2222222222222222,
             "#7201a8"
            ],
            [
             0.3333333333333333,
             "#9c179e"
            ],
            [
             0.4444444444444444,
             "#bd3786"
            ],
            [
             0.5555555555555556,
             "#d8576b"
            ],
            [
             0.6666666666666666,
             "#ed7953"
            ],
            [
             0.7777777777777778,
             "#fb9f3a"
            ],
            [
             0.8888888888888888,
             "#fdca26"
            ],
            [
             1,
             "#f0f921"
            ]
           ],
           "sequentialminus": [
            [
             0,
             "#0d0887"
            ],
            [
             0.1111111111111111,
             "#46039f"
            ],
            [
             0.2222222222222222,
             "#7201a8"
            ],
            [
             0.3333333333333333,
             "#9c179e"
            ],
            [
             0.4444444444444444,
             "#bd3786"
            ],
            [
             0.5555555555555556,
             "#d8576b"
            ],
            [
             0.6666666666666666,
             "#ed7953"
            ],
            [
             0.7777777777777778,
             "#fb9f3a"
            ],
            [
             0.8888888888888888,
             "#fdca26"
            ],
            [
             1,
             "#f0f921"
            ]
           ]
          },
          "colorway": [
           "#636efa",
           "#EF553B",
           "#00cc96",
           "#ab63fa",
           "#FFA15A",
           "#19d3f3",
           "#FF6692",
           "#B6E880",
           "#FF97FF",
           "#FECB52"
          ],
          "font": {
           "color": "#2a3f5f"
          },
          "geo": {
           "bgcolor": "white",
           "lakecolor": "white",
           "landcolor": "#E5ECF6",
           "showlakes": true,
           "showland": true,
           "subunitcolor": "white"
          },
          "hoverlabel": {
           "align": "left"
          },
          "hovermode": "closest",
          "mapbox": {
           "style": "light"
          },
          "paper_bgcolor": "white",
          "plot_bgcolor": "#E5ECF6",
          "polar": {
           "angularaxis": {
            "gridcolor": "white",
            "linecolor": "white",
            "ticks": ""
           },
           "bgcolor": "#E5ECF6",
           "radialaxis": {
            "gridcolor": "white",
            "linecolor": "white",
            "ticks": ""
           }
          },
          "scene": {
           "xaxis": {
            "backgroundcolor": "#E5ECF6",
            "gridcolor": "white",
            "gridwidth": 2,
            "linecolor": "white",
            "showbackground": true,
            "ticks": "",
            "zerolinecolor": "white"
           },
           "yaxis": {
            "backgroundcolor": "#E5ECF6",
            "gridcolor": "white",
            "gridwidth": 2,
            "linecolor": "white",
            "showbackground": true,
            "ticks": "",
            "zerolinecolor": "white"
           },
           "zaxis": {
            "backgroundcolor": "#E5ECF6",
            "gridcolor": "white",
            "gridwidth": 2,
            "linecolor": "white",
            "showbackground": true,
            "ticks": "",
            "zerolinecolor": "white"
           }
          },
          "shapedefaults": {
           "line": {
            "color": "#2a3f5f"
           }
          },
          "ternary": {
           "aaxis": {
            "gridcolor": "white",
            "linecolor": "white",
            "ticks": ""
           },
           "baxis": {
            "gridcolor": "white",
            "linecolor": "white",
            "ticks": ""
           },
           "bgcolor": "#E5ECF6",
           "caxis": {
            "gridcolor": "white",
            "linecolor": "white",
            "ticks": ""
           }
          },
          "title": {
           "x": 0.05
          },
          "xaxis": {
           "automargin": true,
           "gridcolor": "white",
           "linecolor": "white",
           "ticks": "",
           "title": {
            "standoff": 15
           },
           "zerolinecolor": "white",
           "zerolinewidth": 2
          },
          "yaxis": {
           "automargin": true,
           "gridcolor": "white",
           "linecolor": "white",
           "ticks": "",
           "title": {
            "standoff": 15
           },
           "zerolinecolor": "white",
           "zerolinewidth": 2
          }
         }
        },
        "title": {
         "text": "Job Shop Schedule Grouped by Machines, Coloured by Parts"
        },
        "xaxis": {
         "rangeselector": {
          "buttons": [
           {
            "count": 7,
            "label": "1w",
            "step": "day",
            "stepmode": "backward"
           },
           {
            "count": 1,
            "label": "1m",
            "step": "month",
            "stepmode": "backward"
           },
           {
            "count": 6,
            "label": "6m",
            "step": "month",
            "stepmode": "backward"
           },
           {
            "count": 1,
            "label": "YTD",
            "step": "year",
            "stepmode": "todate"
           },
           {
            "count": 1,
            "label": "1y",
            "step": "year",
            "stepmode": "backward"
           },
           {
            "step": "all"
           }
          ]
         },
         "showgrid": false,
         "type": "linear",
         "zeroline": false
        },
        "yaxis": {
         "autorange": false,
         "range": [
          -1,
          6
         ],
         "showgrid": false,
         "ticktext": [
          1,
          4,
          3,
          2,
          0
         ],
         "tickvals": [
          0,
          1,
          2,
          3,
          4
         ],
         "zeroline": false
        }
       }
      },
      "text/html": [
       "<div>                            <div id=\"12d34f1d-84b1-4efa-a8fc-518eaeb197a4\" class=\"plotly-graph-div\" style=\"height:600px; width:100%;\"></div>            <script type=\"text/javascript\">                require([\"plotly\"], function(Plotly) {                    window.PLOTLYENV=window.PLOTLYENV || {};                                    if (document.getElementById(\"12d34f1d-84b1-4efa-a8fc-518eaeb197a4\")) {                    Plotly.newPlot(                        \"12d34f1d-84b1-4efa-a8fc-518eaeb197a4\",                        [{\"fill\": \"toself\", \"fillcolor\": \"rgb(0, 51, 186)\", \"hoverinfo\": \"name\", \"legendgroup\": \"rgb(0, 51, 186)\", \"mode\": \"none\", \"name\": \"0\", \"type\": \"scatter\", \"x\": [0, 6, 6, 0, 0, 6, 6, 6, 6, 6, 8, 8, 8, 8, 8, 8, 8, 8, 8], \"y\": [3.8, 3.8, 4.2, 4.2, null, 2.8, 2.8, 3.2, 3.2, null, 1.8, 1.8, 2.2, 2.2, null, 0.8, 0.8, 1.2, 1.2]}, {\"fill\": \"toself\", \"fillcolor\": \"rgb(120, 120, 120)\", \"hoverinfo\": \"name\", \"legendgroup\": \"rgb(120, 120, 120)\", \"mode\": \"none\", \"name\": \"1\", \"type\": \"scatter\", \"x\": [0, 0, 0, 0], \"y\": [-0.2, -0.2, 0.2, 0.2]}, {\"fill\": \"toself\", \"fillcolor\": \"rgb(68, 68, 68)\", \"hoverinfo\": \"name\", \"legendgroup\": \"rgb(68, 68, 68)\", \"mode\": \"none\", \"name\": \"2\", \"type\": \"scatter\", \"x\": [6, 6, 6, 6, 6, 0, 0, 0, 0], \"y\": [-0.2, -0.2, 0.2, 0.2, null, 2.8, 2.8, 3.2, 3.2]}, {\"fill\": \"toself\", \"fillcolor\": \"rgb(8, 8, 8)\", \"hoverinfo\": \"name\", \"legendgroup\": \"rgb(8, 8, 8)\", \"mode\": \"none\", \"name\": \"3\", \"type\": \"scatter\", \"x\": [0, 0, 0, 0], \"y\": [0.8, 0.8, 1.2, 1.2]}, {\"legendgroup\": \"rgb(0, 51, 186)\", \"marker\": {\"color\": \"rgb(0, 51, 186)\", \"opacity\": 0, \"size\": 1}, \"mode\": \"markers\", \"name\": \"\", \"showlegend\": false, \"text\": [null, null, null, null, null, null, null, null], \"type\": \"scatter\", \"x\": [0, 6, 6, 6, 8, 8, 8, 8], \"y\": [4, 4, 3, 3, 2, 2, 1, 1]}, {\"legendgroup\": \"rgb(120, 120, 120)\", \"marker\": {\"color\": \"rgb(120, 120, 120)\", \"opacity\": 0, \"size\": 1}, \"mode\": \"markers\", \"name\": \"\", \"showlegend\": false, \"text\": [null, null], \"type\": \"scatter\", \"x\": [0, 0], \"y\": [0, 0]}, {\"legendgroup\": \"rgb(68, 68, 68)\", \"marker\": {\"color\": \"rgb(68, 68, 68)\", \"opacity\": 0, \"size\": 1}, \"mode\": \"markers\", \"name\": \"\", \"showlegend\": false, \"text\": [null, null, null, null], \"type\": \"scatter\", \"x\": [6, 6, 0, 0], \"y\": [0, 0, 3, 3]}, {\"legendgroup\": \"rgb(8, 8, 8)\", \"marker\": {\"color\": \"rgb(8, 8, 8)\", \"opacity\": 0, \"size\": 1}, \"mode\": \"markers\", \"name\": \"\", \"showlegend\": false, \"text\": [null, null], \"type\": \"scatter\", \"x\": [0, 0], \"y\": [1, 1]}],                        {\"height\": 600, \"hovermode\": \"closest\", \"showlegend\": false, \"template\": {\"data\": {\"bar\": [{\"error_x\": {\"color\": \"#2a3f5f\"}, \"error_y\": {\"color\": \"#2a3f5f\"}, \"marker\": {\"line\": {\"color\": \"#E5ECF6\", \"width\": 0.5}}, \"type\": \"bar\"}], \"barpolar\": [{\"marker\": {\"line\": {\"color\": \"#E5ECF6\", \"width\": 0.5}}, \"type\": \"barpolar\"}], \"carpet\": [{\"aaxis\": {\"endlinecolor\": \"#2a3f5f\", \"gridcolor\": \"white\", \"linecolor\": \"white\", \"minorgridcolor\": \"white\", \"startlinecolor\": \"#2a3f5f\"}, \"baxis\": {\"endlinecolor\": \"#2a3f5f\", \"gridcolor\": \"white\", \"linecolor\": \"white\", \"minorgridcolor\": \"white\", \"startlinecolor\": \"#2a3f5f\"}, \"type\": \"carpet\"}], \"choropleth\": [{\"colorbar\": {\"outlinewidth\": 0, \"ticks\": \"\"}, \"type\": \"choropleth\"}], \"contour\": [{\"colorbar\": {\"outlinewidth\": 0, \"ticks\": \"\"}, \"colorscale\": [[0.0, \"#0d0887\"], [0.1111111111111111, \"#46039f\"], [0.2222222222222222, \"#7201a8\"], [0.3333333333333333, \"#9c179e\"], [0.4444444444444444, \"#bd3786\"], [0.5555555555555556, \"#d8576b\"], [0.6666666666666666, \"#ed7953\"], [0.7777777777777778, \"#fb9f3a\"], [0.8888888888888888, \"#fdca26\"], [1.0, \"#f0f921\"]], \"type\": \"contour\"}], \"contourcarpet\": [{\"colorbar\": {\"outlinewidth\": 0, \"ticks\": \"\"}, \"type\": \"contourcarpet\"}], \"heatmap\": [{\"colorbar\": {\"outlinewidth\": 0, \"ticks\": \"\"}, \"colorscale\": [[0.0, \"#0d0887\"], [0.1111111111111111, \"#46039f\"], [0.2222222222222222, \"#7201a8\"], [0.3333333333333333, \"#9c179e\"], [0.4444444444444444, \"#bd3786\"], [0.5555555555555556, \"#d8576b\"], [0.6666666666666666, \"#ed7953\"], [0.7777777777777778, \"#fb9f3a\"], [0.8888888888888888, \"#fdca26\"], [1.0, \"#f0f921\"]], \"type\": \"heatmap\"}], \"heatmapgl\": [{\"colorbar\": {\"outlinewidth\": 0, \"ticks\": \"\"}, \"colorscale\": [[0.0, \"#0d0887\"], [0.1111111111111111, \"#46039f\"], [0.2222222222222222, \"#7201a8\"], [0.3333333333333333, \"#9c179e\"], [0.4444444444444444, \"#bd3786\"], [0.5555555555555556, \"#d8576b\"], [0.6666666666666666, \"#ed7953\"], [0.7777777777777778, \"#fb9f3a\"], [0.8888888888888888, \"#fdca26\"], [1.0, \"#f0f921\"]], \"type\": \"heatmapgl\"}], \"histogram\": [{\"marker\": {\"colorbar\": {\"outlinewidth\": 0, \"ticks\": \"\"}}, \"type\": \"histogram\"}], \"histogram2d\": [{\"colorbar\": {\"outlinewidth\": 0, \"ticks\": \"\"}, \"colorscale\": [[0.0, \"#0d0887\"], [0.1111111111111111, \"#46039f\"], [0.2222222222222222, \"#7201a8\"], [0.3333333333333333, \"#9c179e\"], [0.4444444444444444, \"#bd3786\"], [0.5555555555555556, \"#d8576b\"], [0.6666666666666666, \"#ed7953\"], [0.7777777777777778, \"#fb9f3a\"], [0.8888888888888888, \"#fdca26\"], [1.0, \"#f0f921\"]], \"type\": \"histogram2d\"}], \"histogram2dcontour\": [{\"colorbar\": {\"outlinewidth\": 0, \"ticks\": \"\"}, \"colorscale\": [[0.0, \"#0d0887\"], [0.1111111111111111, \"#46039f\"], [0.2222222222222222, \"#7201a8\"], [0.3333333333333333, \"#9c179e\"], [0.4444444444444444, \"#bd3786\"], [0.5555555555555556, \"#d8576b\"], [0.6666666666666666, \"#ed7953\"], [0.7777777777777778, \"#fb9f3a\"], [0.8888888888888888, \"#fdca26\"], [1.0, \"#f0f921\"]], \"type\": \"histogram2dcontour\"}], \"mesh3d\": [{\"colorbar\": {\"outlinewidth\": 0, \"ticks\": \"\"}, \"type\": \"mesh3d\"}], \"parcoords\": [{\"line\": {\"colorbar\": {\"outlinewidth\": 0, \"ticks\": \"\"}}, \"type\": \"parcoords\"}], \"pie\": [{\"automargin\": true, \"type\": \"pie\"}], \"scatter\": [{\"marker\": {\"colorbar\": {\"outlinewidth\": 0, \"ticks\": \"\"}}, \"type\": \"scatter\"}], \"scatter3d\": [{\"line\": {\"colorbar\": {\"outlinewidth\": 0, \"ticks\": \"\"}}, \"marker\": {\"colorbar\": {\"outlinewidth\": 0, \"ticks\": \"\"}}, \"type\": \"scatter3d\"}], \"scattercarpet\": [{\"marker\": {\"colorbar\": {\"outlinewidth\": 0, \"ticks\": \"\"}}, \"type\": \"scattercarpet\"}], \"scattergeo\": [{\"marker\": {\"colorbar\": {\"outlinewidth\": 0, \"ticks\": \"\"}}, \"type\": \"scattergeo\"}], \"scattergl\": [{\"marker\": {\"colorbar\": {\"outlinewidth\": 0, \"ticks\": \"\"}}, \"type\": \"scattergl\"}], \"scattermapbox\": [{\"marker\": {\"colorbar\": {\"outlinewidth\": 0, \"ticks\": \"\"}}, \"type\": \"scattermapbox\"}], \"scatterpolar\": [{\"marker\": {\"colorbar\": {\"outlinewidth\": 0, \"ticks\": \"\"}}, \"type\": \"scatterpolar\"}], \"scatterpolargl\": [{\"marker\": {\"colorbar\": {\"outlinewidth\": 0, \"ticks\": \"\"}}, \"type\": \"scatterpolargl\"}], \"scatterternary\": [{\"marker\": {\"colorbar\": {\"outlinewidth\": 0, \"ticks\": \"\"}}, \"type\": \"scatterternary\"}], \"surface\": [{\"colorbar\": {\"outlinewidth\": 0, \"ticks\": \"\"}, \"colorscale\": [[0.0, \"#0d0887\"], [0.1111111111111111, \"#46039f\"], [0.2222222222222222, \"#7201a8\"], [0.3333333333333333, \"#9c179e\"], [0.4444444444444444, \"#bd3786\"], [0.5555555555555556, \"#d8576b\"], [0.6666666666666666, \"#ed7953\"], [0.7777777777777778, \"#fb9f3a\"], [0.8888888888888888, \"#fdca26\"], [1.0, \"#f0f921\"]], \"type\": \"surface\"}], \"table\": [{\"cells\": {\"fill\": {\"color\": \"#EBF0F8\"}, \"line\": {\"color\": \"white\"}}, \"header\": {\"fill\": {\"color\": \"#C8D4E3\"}, \"line\": {\"color\": \"white\"}}, \"type\": \"table\"}]}, \"layout\": {\"annotationdefaults\": {\"arrowcolor\": \"#2a3f5f\", \"arrowhead\": 0, \"arrowwidth\": 1}, \"coloraxis\": {\"colorbar\": {\"outlinewidth\": 0, \"ticks\": \"\"}}, \"colorscale\": {\"diverging\": [[0, \"#8e0152\"], [0.1, \"#c51b7d\"], [0.2, \"#de77ae\"], [0.3, \"#f1b6da\"], [0.4, \"#fde0ef\"], [0.5, \"#f7f7f7\"], [0.6, \"#e6f5d0\"], [0.7, \"#b8e186\"], [0.8, \"#7fbc41\"], [0.9, \"#4d9221\"], [1, \"#276419\"]], \"sequential\": [[0.0, \"#0d0887\"], [0.1111111111111111, \"#46039f\"], [0.2222222222222222, \"#7201a8\"], [0.3333333333333333, \"#9c179e\"], [0.4444444444444444, \"#bd3786\"], [0.5555555555555556, \"#d8576b\"], [0.6666666666666666, \"#ed7953\"], [0.7777777777777778, \"#fb9f3a\"], [0.8888888888888888, \"#fdca26\"], [1.0, \"#f0f921\"]], \"sequentialminus\": [[0.0, \"#0d0887\"], [0.1111111111111111, \"#46039f\"], [0.2222222222222222, \"#7201a8\"], [0.3333333333333333, \"#9c179e\"], [0.4444444444444444, \"#bd3786\"], [0.5555555555555556, \"#d8576b\"], [0.6666666666666666, \"#ed7953\"], [0.7777777777777778, \"#fb9f3a\"], [0.8888888888888888, \"#fdca26\"], [1.0, \"#f0f921\"]]}, \"colorway\": [\"#636efa\", \"#EF553B\", \"#00cc96\", \"#ab63fa\", \"#FFA15A\", \"#19d3f3\", \"#FF6692\", \"#B6E880\", \"#FF97FF\", \"#FECB52\"], \"font\": {\"color\": \"#2a3f5f\"}, \"geo\": {\"bgcolor\": \"white\", \"lakecolor\": \"white\", \"landcolor\": \"#E5ECF6\", \"showlakes\": true, \"showland\": true, \"subunitcolor\": \"white\"}, \"hoverlabel\": {\"align\": \"left\"}, \"hovermode\": \"closest\", \"mapbox\": {\"style\": \"light\"}, \"paper_bgcolor\": \"white\", \"plot_bgcolor\": \"#E5ECF6\", \"polar\": {\"angularaxis\": {\"gridcolor\": \"white\", \"linecolor\": \"white\", \"ticks\": \"\"}, \"bgcolor\": \"#E5ECF6\", \"radialaxis\": {\"gridcolor\": \"white\", \"linecolor\": \"white\", \"ticks\": \"\"}}, \"scene\": {\"xaxis\": {\"backgroundcolor\": \"#E5ECF6\", \"gridcolor\": \"white\", \"gridwidth\": 2, \"linecolor\": \"white\", \"showbackground\": true, \"ticks\": \"\", \"zerolinecolor\": \"white\"}, \"yaxis\": {\"backgroundcolor\": \"#E5ECF6\", \"gridcolor\": \"white\", \"gridwidth\": 2, \"linecolor\": \"white\", \"showbackground\": true, \"ticks\": \"\", \"zerolinecolor\": \"white\"}, \"zaxis\": {\"backgroundcolor\": \"#E5ECF6\", \"gridcolor\": \"white\", \"gridwidth\": 2, \"linecolor\": \"white\", \"showbackground\": true, \"ticks\": \"\", \"zerolinecolor\": \"white\"}}, \"shapedefaults\": {\"line\": {\"color\": \"#2a3f5f\"}}, \"ternary\": {\"aaxis\": {\"gridcolor\": \"white\", \"linecolor\": \"white\", \"ticks\": \"\"}, \"baxis\": {\"gridcolor\": \"white\", \"linecolor\": \"white\", \"ticks\": \"\"}, \"bgcolor\": \"#E5ECF6\", \"caxis\": {\"gridcolor\": \"white\", \"linecolor\": \"white\", \"ticks\": \"\"}}, \"title\": {\"x\": 0.05}, \"xaxis\": {\"automargin\": true, \"gridcolor\": \"white\", \"linecolor\": \"white\", \"ticks\": \"\", \"title\": {\"standoff\": 15}, \"zerolinecolor\": \"white\", \"zerolinewidth\": 2}, \"yaxis\": {\"automargin\": true, \"gridcolor\": \"white\", \"linecolor\": \"white\", \"ticks\": \"\", \"title\": {\"standoff\": 15}, \"zerolinecolor\": \"white\", \"zerolinewidth\": 2}}}, \"title\": {\"text\": \"Job Shop Schedule Grouped by Machines, Coloured by Parts\"}, \"xaxis\": {\"rangeselector\": {\"buttons\": [{\"count\": 7, \"label\": \"1w\", \"step\": \"day\", \"stepmode\": \"backward\"}, {\"count\": 1, \"label\": \"1m\", \"step\": \"month\", \"stepmode\": \"backward\"}, {\"count\": 6, \"label\": \"6m\", \"step\": \"month\", \"stepmode\": \"backward\"}, {\"count\": 1, \"label\": \"YTD\", \"step\": \"year\", \"stepmode\": \"todate\"}, {\"count\": 1, \"label\": \"1y\", \"step\": \"year\", \"stepmode\": \"backward\"}, {\"step\": \"all\"}]}, \"showgrid\": false, \"type\": \"linear\", \"zeroline\": false}, \"yaxis\": {\"autorange\": false, \"range\": [-1, 6], \"showgrid\": false, \"ticktext\": [1, 4, 3, 2, 0], \"tickvals\": [0, 1, 2, 3, 4], \"zeroline\": false}},                        {\"responsive\": true}                    ).then(function(){\n",
       "                            \n",
       "var gd = document.getElementById('12d34f1d-84b1-4efa-a8fc-518eaeb197a4');\n",
       "var x = new MutationObserver(function (mutations, observer) {{\n",
       "        var display = window.getComputedStyle(gd).display;\n",
       "        if (!display || display === 'none') {{\n",
       "            console.log([gd, 'removed!']);\n",
       "            Plotly.purge(gd);\n",
       "            observer.disconnect();\n",
       "        }}\n",
       "}});\n",
       "\n",
       "// Listen for the removal of the full notebook cells\n",
       "var notebookContainer = gd.closest('#notebook-container');\n",
       "if (notebookContainer) {{\n",
       "    x.observe(notebookContainer, {childList: true});\n",
       "}}\n",
       "\n",
       "// Listen for the clearing of the current output cell\n",
       "var outputEl = gd.closest('.output');\n",
       "if (outputEl) {{\n",
       "    x.observe(outputEl, {childList: true});\n",
       "}}\n",
       "\n",
       "                        })                };                });            </script>        </div>"
      ]
     },
     "metadata": {},
     "output_type": "display_data"
    }
   ],
   "source": [
    "colors = {0: 'rgb(0, 51, 186)',\n",
    "          1: 'rgb(120, 120, 120)',\n",
    "          2: 'rgb(68, 68, 68)',\n",
    "          3: 'rgb(8, 8, 8)'}\n",
    "\n",
    "fig = ff.create_gantt(df_schedule, show_colorbar = False, colors=colors, index_col='PartNo',group_tasks=True , title='Job Shop Schedule Grouped by Machines, Coloured by Parts' )\n",
    "fig.layout.xaxis.type = 'linear'\n",
    "fig.show()"
   ]
  },
  {
   "cell_type": "markdown",
   "metadata": {},
   "source": [
    "### Next Steps: More Variable Pruning, Constraint/Cost Function Adjustments & larger Job Complexity"
   ]
  },
  {
   "cell_type": "code",
   "execution_count": null,
   "metadata": {},
   "outputs": [],
   "source": [
    "#IDEAS:"
   ]
  },
  {
   "cell_type": "markdown",
   "metadata": {},
   "source": [
    "<img src=\"https://cdn.discordapp.com/attachments/835178189046284328/847422949267079168/TupleDivideIdea-Sebastian.png\" alt=\"fishy\" width=\"900px\">\n"
   ]
  },
  {
   "cell_type": "markdown",
   "metadata": {
    "id": "lqQx4LXuxzsY",
    "slideshow": {
     "slide_type": "skip"
    }
   },
   "source": [
    "---\n",
    "\n",
    "---"
   ]
  },
  {
   "cell_type": "markdown",
   "metadata": {},
   "source": [
    "## Umsetzung auf einem Quantum Annealer -- D Wave vs. Fujitsu <a id=\"13\">"
   ]
  },
  {
   "cell_type": "markdown",
   "metadata": {},
   "source": [
    "### Hardware-Architektur: Chimera vs. Pegasus <a id=\"14\">"
   ]
  },
  {
   "cell_type": "markdown",
   "metadata": {},
   "source": [
    "### Wahl einer Annealing Schedule (Zeitübergangsfunktion)<a id=\"15\">\n"
   ]
  },
  {
   "cell_type": "markdown",
   "metadata": {},
   "source": [
    "### Erste Durchläufe auf einem Simulator <a id=\"16\">\n"
   ]
  },
  {
   "cell_type": "markdown",
   "metadata": {},
   "source": [
    "### Erste Ergebnisse auf echten Quantum Annealer <a id=\"17\">\n"
   ]
  },
  {
   "cell_type": "markdown",
   "metadata": {},
   "source": [
    "### Interpretation der Ergebnisse <a id=\"18\">\n",
    "mappen auf ursprüngliche QUBO"
   ]
  },
  {
   "cell_type": "markdown",
   "metadata": {
    "id": "lqQx4LXuxzsY",
    "slideshow": {
     "slide_type": "skip"
    }
   },
   "source": [
    "---\n",
    "---\n"
   ]
  },
  {
   "cell_type": "markdown",
   "metadata": {},
   "source": [
    "## Ausblick <a id=\"19\">"
   ]
  },
  {
   "cell_type": "markdown",
   "metadata": {},
   "source": [
    "### Zusätzlicher Ansatz: Scheduling als Strafterm und Integration des Knapsack Problems <a id=\"20\">\n",
    "    "
   ]
  },
  {
   "cell_type": "markdown",
   "metadata": {},
   "source": [
    "Gesamtes Problem in zwei Teile Strukturieren: \n",
    "\n",
    "Phase 1: Knappsack Problem mit Deadlines als zusätzlicher Strafterm beim Schneiden\n",
    "\n",
    "Phase 2: Job Shop Scheduling Problem für Biegen, Schweißen und Lackieren"
   ]
  },
  {
   "cell_type": "markdown",
   "metadata": {},
   "source": [
    "The knapsack problem is the following problem: we have a list of N objects, labeled by indices α, with the weight of each object given by wα, and its value given by cα, and we have a knapsack which can only carry weight W. If xα is a binary variable denoting whether (1) or not (0) object α is contained in the knapsack, the total weight in the knapsack is \n",
    "\n",
    "$$\n",
    "\\begin{array}{l}\\mathcal{W}=\\sum_{\\alpha=1}^{N} w_{\\alpha} x_{\\alpha}\\end{array}\n",
    "$$\n",
    "\n",
    " and the total cost is \n",
    " \n",
    "$$ \n",
    "\\begin{array}\\mathcal{C}=\\sum_{\\alpha=1}^{N} c_{\\alpha} x_{\\alpha}\\end{array}\n",
    "$$\n",
    "\n",
    "The NP-hard knapsack problem asks us to maximize C subject to the constraint that W ≤ W. It has a huge variety of applications, particularly in economics and finance.\n",
    "Let yn for 1 ≤ n ≤ W denote a binary variable which is 1 if the final weight of the knapsack is n, and 0 otherwise. Our solution consists of letting H = HA + HB, with\n",
    "\n",
    "$$\n",
    "\\begin{array}{l}\\qquad H_{A}=A\\left(1-\\sum_{n=1}^{W} y_{n}\\right)^{2}+A\\left(\\sum_{n=1}^{W} n y_{n}-\\sum_{\\alpha} w_{\\alpha} x_{\\alpha}\\right)^{2} \\end{array}\n",
    "$$\n",
    "\n",
    "which enforces that the weight can only take on one value and that the weight of the objects in the knapsack equals the value we claimed it did, and finally\n",
    "\n",
    "\n",
    "$$\n",
    "\\begin{array}\\qquad H_{B}=-B \\sum_{\\alpha} c_{\\alpha} x_{\\alpha}\\end{array}\n",
    "$$\n",
    "\n",
    "\n",
    "As we require that it is not possible to find a solution where HA is weakly violated at the expense of HB becoming more negative, we require 0 < B max(cα) < A (adding one item to the knapsack, which makes it too heavy, is not allowed). The number of spins required is (using the log trick) N + ⌊1 + log W ⌋."
   ]
  },
  {
   "cell_type": "markdown",
   "metadata": {},
   "source": [
    "### Versuch mit reverse quantum annealing <a id=\"21\">"
   ]
  },
  {
   "cell_type": "markdown",
   "metadata": {},
   "source": [
    "reverse quantum annealing um Ergebnisse zu verbessern: https://docs.dwavesys.com/docs/latest/c_fd_ra.html\n",
    "\n",
    "\n",
    "Reverse annealing, a technique that makes it possible to refine known good local solutions thereby increasing performance for certain applications. Reverse annealing involves (1) annealing backward from a known classical state to a mid-anneal state of quantum superposition, (2) searching for optimum solutions at this mid-anneal point while in the presence of an increased transverse field (quantum state), and then (3) proceeding forward to a new classical state at the end of the anneal."
   ]
  },
  {
   "cell_type": "markdown",
   "metadata": {
    "id": "lqQx4LXuxzsY",
    "slideshow": {
     "slide_type": "skip"
    }
   },
   "source": [
    "---\n",
    "---\n"
   ]
  },
  {
   "cell_type": "markdown",
   "metadata": {},
   "source": [
    "## Quellen <a id=\"1\">"
   ]
  },
  {
   "cell_type": "markdown",
   "metadata": {},
   "source": [
    "### Literatur <a id=\"6\">\n",
    "    \n",
    "- Matthias Homeister - Quantum Computing verstehen (Grundlagen – Anwendungen – Perspektiven)\n",
    "- D Wave Problem Formulation Guide\n",
    "- D Wave Problem-Solving Handbook\n",
    "- Andrew Lucas - Ising formulations of many NP problems\n",
    "- Davide Venturelli - Job Shop Scheduling Solver based on Quantum Annealing\n",
    "- Nezhad, Abdullah - Job Shop Scheduling: Classification, Constraints and Objective Functions   \n",
    "- Berend Denkena - Quantum algorithms for process parallel flexible job shop scheduling"
   ]
  },
  {
   "cell_type": "code",
   "execution_count": null,
   "metadata": {},
   "outputs": [],
   "source": []
  },
  {
   "cell_type": "code",
   "execution_count": null,
   "metadata": {},
   "outputs": [],
   "source": []
  }
 ],
 "metadata": {
  "celltoolbar": "Slideshow",
  "kernelspec": {
   "display_name": "Python 3",
   "language": "python",
   "name": "python3"
  },
  "language_info": {
   "codemirror_mode": {
    "name": "ipython",
    "version": 3
   },
   "file_extension": ".py",
   "mimetype": "text/x-python",
   "name": "python",
   "nbconvert_exporter": "python",
   "pygments_lexer": "ipython3",
   "version": "3.8.3"
  }
 },
 "nbformat": 4,
 "nbformat_minor": 4
}
