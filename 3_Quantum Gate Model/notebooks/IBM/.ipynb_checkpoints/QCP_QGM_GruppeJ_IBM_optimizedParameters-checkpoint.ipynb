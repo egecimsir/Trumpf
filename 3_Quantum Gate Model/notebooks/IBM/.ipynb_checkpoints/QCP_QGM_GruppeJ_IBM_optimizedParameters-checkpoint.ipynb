{
 "cells": [
  {
   "cell_type": "code",
   "execution_count": null,
   "id": "BNIq-QygWbd1",
   "metadata": {
    "id": "BNIq-QygWbd1"
   },
   "outputs": [],
   "source": []
  },
  {
   "cell_type": "code",
   "execution_count": 10,
   "id": "Nv1nDjNbSqDh",
   "metadata": {
    "id": "Nv1nDjNbSqDh"
   },
   "outputs": [],
   "source": [
    "import sys\n",
    "import time\n",
    "import dimod.utilities\n",
    "import numpy as np\n",
    "import pandas as pd\n",
    "import pennylane as qml\n",
    "import seaborn as sns\n",
    "from dwave_qbsolv import QBSolv\n",
    "from matplotlib import pyplot as plt\n",
    "from pennylane import qaoa\n",
    "import copy\n",
    "import progressbar\n",
    "import os\n",
    "import os.path\n",
    "from qiskit import IBMQ"
   ]
  },
  {
   "cell_type": "code",
   "execution_count": 2,
   "id": "edfd6a34",
   "metadata": {
    "id": "edfd6a34"
   },
   "outputs": [],
   "source": [
    "#job = \"OrderNo, PartNo, BendingLines, WeldingPoints, PaintTime, DueDate\n",
    "\n",
    "jobs =  [(0, 0, 1, 2, 1, 3), (1, 0, 0, 2, 0, 1)] # this job is more \"complex\" but at the cost of less steps tp saty under 1000 executions -> 985 execs, 197 per step (5)\n",
    "# jobs = [(0, 0, 0, 0, 0.5, 0.5), (1, 0, 0, 0, 0.5, 1)] # this job allows for more steps while staying under 1000 executions -> 980 execs, 49 per step (20)\n",
    "\n",
    "steps = 5"
   ]
  },
  {
   "cell_type": "code",
   "execution_count": 3,
   "id": "b092288e",
   "metadata": {
    "id": "b092288e"
   },
   "outputs": [],
   "source": [
    "bend = [0, 1, 2]\n",
    "weld = [3, 4]\n",
    "paint =  [5]\n",
    "\n",
    "bend_length = 2\n",
    "weld_length = 3\n",
    "paint_length = 6\n",
    "\n",
    "t_step = 3 # necessary generalization from 10 sec intervalls to 30\n",
    "t_step_in_sec = 10"
   ]
  },
  {
   "cell_type": "code",
   "execution_count": 4,
   "id": "870f1ad4",
   "metadata": {
    "id": "870f1ad4"
   },
   "outputs": [],
   "source": [
    "def max_time(jobs):\n",
    "    a = 0 \n",
    "    b = 0 \n",
    "    c = 0\n",
    "    for i in jobs:\n",
    "        actualTime = i[2]\n",
    "        if a < b and a < c:\n",
    "            a += actualTime\n",
    "        elif b < a and b < c:\n",
    "            b += actualTime\n",
    "        else:\n",
    "            c += actualTime\n",
    "    maxB = max(a, b, c) * bend_length\n",
    "    \n",
    "    a = 0\n",
    "    b = 0\n",
    "    for i in jobs:\n",
    "        actualTime = i[3]\n",
    "        if a < b:\n",
    "            a += actualTime\n",
    "        else:\n",
    "            b += actualTime\n",
    "    maxW = max(a, b) * weld_length\n",
    "    \n",
    "    maximumPainting = 0\n",
    "    for i in jobs:\n",
    "        maximumPainting += i[4]\n",
    "    maxP = maximumPainting * paint_length\n",
    "    \n",
    "    return maxB + maxW + maxP"
   ]
  },
  {
   "cell_type": "code",
   "execution_count": 5,
   "id": "e59978ee",
   "metadata": {
    "colab": {
     "base_uri": "https://localhost:8080/"
    },
    "id": "e59978ee",
    "outputId": "0e33d6c6-9f45-4b46-d7a9-c0571452b477"
   },
   "outputs": [
    {
     "name": "stdout",
     "output_type": "stream",
     "text": [
      "The maximal maketime for the given operations is: 60.0 second(s).\n",
      "Which is equal to: 6.0 time steps.\n",
      "\n",
      "\n"
     ]
    }
   ],
   "source": [
    "# OrderNo, PartNo, BendingLines, WeldingPoints, PaintTime, DueDate \n",
    "\n",
    "m_t_steps = max_time(jobs)\n",
    "\n",
    "m_time = m_t_steps * t_step_in_sec\n",
    "    \n",
    "print('The maximal maketime for the given operations is: ' + str(m_time) + ' second(s).\\nWhich is equal to: ' + str(m_t_steps) + ' time steps.\\n\\n')\n"
   ]
  },
  {
   "cell_type": "code",
   "execution_count": 6,
   "id": "89acafef",
   "metadata": {
    "id": "89acafef"
   },
   "outputs": [],
   "source": [
    "def ops(jobs, bend, weld, paint, m_time):\n",
    "    ops = []\n",
    "    for x in jobs:\n",
    "        if x[2] > 0:\n",
    "            punish = x[2] * bend_length\n",
    "            if x[3] > 0:\n",
    "                punish += x[3] * weld_length\n",
    "            if x[4] > 0:\n",
    "                punish += x[4] * paint_length\n",
    "            for m in bend:\n",
    "                t = 0\n",
    "                while t <= m_t_steps - punish:\n",
    "                    ops.append(tuple((x[0], x[1], x[2], m, t)))\n",
    "                    t += t_step\n",
    "                    \n",
    "        if x[3] > 0:\n",
    "            punish = x[3] * weld_length\n",
    "            if x[4] > 0:\n",
    "                punish += x[4] * paint_length\n",
    "            for m in weld:\n",
    "                t = 0\n",
    "                if x[2] > 0:\n",
    "                    t += x[2] * bend_length\n",
    "                while t <= m_t_steps - punish:\n",
    "                    ops.append(tuple((x[0], x[1], x[3], m, t)))\n",
    "                    t += t_step\n",
    "\n",
    "        if x[4] > 0:\n",
    "            punish = x[4] * paint_length\n",
    "            for m in paint:\n",
    "                t = 0\n",
    "                if x[2] > 0:\n",
    "                    t += x[2] * bend_length\n",
    "                if x[3] > 0:\n",
    "                    t += x[3] * weld_length\n",
    "                while t <= m_t_steps - punish:\n",
    "                    ops.append(tuple((x[0], x[1], x[4], m, t)))\n",
    "                    t += t_step\n",
    "        # ops.append(('||||||||||||END OF JOB ' + str(x[0]) + ' OPERATION ' + str(x[1]) + '||||||||||||'))\n",
    "    return ops"
   ]
  },
  {
   "cell_type": "code",
   "execution_count": 7,
   "id": "2caf14a5",
   "metadata": {
    "colab": {
     "base_uri": "https://localhost:8080/"
    },
    "id": "2caf14a5",
    "outputId": "7e487343-6b55-456e-9c9c-5068a8cf9e96"
   },
   "outputs": [
    {
     "name": "stdout",
     "output_type": "stream",
     "text": [
      "Number of combinations: 4\n",
      "\n",
      "Possible combiniations:\n",
      "  Format: OrderNo, PartNo, Op, Machine, Time\n",
      "\n",
      "[\n",
      "(0, 0, 0.5, 5, 0), (0, 0, 0.5, 5, 3), (1, 0, 0.5, 5, 0), (1, 0, 0.5, 5, 3)\n",
      "]\n"
     ]
    }
   ],
   "source": [
    "ops = ops(jobs, bend, weld, paint, m_time)\n",
    "\n",
    "print('Number of combinations: ' + str(len(ops)) + '\\n')\n",
    "\n",
    "print('Possible combiniations:')\n",
    "print('  Format: OrderNo, PartNo, Op, Machine, Time\\n')\n",
    "\n",
    "print(str(ops).replace('[(', '[\\n(').replace(')]', ')\\n]'))"
   ]
  },
  {
   "cell_type": "code",
   "execution_count": 8,
   "id": "51ee0fbb",
   "metadata": {
    "id": "51ee0fbb"
   },
   "outputs": [],
   "source": [
    "np.set_printoptions(threshold=sys.maxsize)\n",
    "QUBO_X = np.zeros((len(ops), len(ops)))\n",
    "np.set_printoptions(suppress=True)"
   ]
  },
  {
   "cell_type": "raw",
   "id": "ccc909f9",
   "metadata": {
    "id": "ccc909f9"
   },
   "source": [
    "QUBO_pr = str(QUBO).replace('\\n', '').replace('] [', ']\\n[').replace('[[', '[\\n[').replace(']]', ']\\n]').replace('.  ', '. ')\n",
    "print(QUBO_pr)"
   ]
  },
  {
   "cell_type": "code",
   "execution_count": 9,
   "id": "495bc267",
   "metadata": {
    "id": "495bc267"
   },
   "outputs": [],
   "source": [
    "# verwendet ops! --> als zusätzliches Argument?\n",
    "def get_qubo_heatmap(QUBO, output=\"qubo_matrix.png\"):\n",
    "    \n",
    "    df = pd.DataFrame(QUBO, columns=ops, index = ops)\n",
    "    sns.set_style(\"white\")\n",
    "    mask = np.tril(np.zeros_like(df)).astype(bool)\n",
    "    mask[np.tril_indices_from(mask)] = True\n",
    "\n",
    "    # Keep diagonal elements \n",
    "    mask[np.diag_indices_from(mask)] = False\n",
    "\n",
    "    # Set up the matplotlib figure\n",
    "    f, ax = plt.subplots(figsize=(14, 12))\n",
    "\n",
    "    # Generate a custom diverging colormap in TRUMPF Color 0033BA\n",
    "    cmap = sns.diverging_palette(255, 200, sep=10, as_cmap=True)\n",
    "\n",
    "    # Draw the heatmap with the mask and correct aspect ratio\n",
    "    sns_plot = sns.heatmap(df, mask=mask, cmap=cmap, center=0,\n",
    "            square=True, linewidths=.5, cbar_kws={\"shrink\": .5})\n",
    "    # save to file\n",
    "    fig = sns_plot.get_figure()\n",
    "    fig.savefig(output)"
   ]
  },
  {
   "cell_type": "code",
   "execution_count": 10,
   "id": "b9b71cf7",
   "metadata": {
    "id": "b9b71cf7"
   },
   "outputs": [],
   "source": [
    "# get_qubo_heatmap(QUBO_X)"
   ]
  },
  {
   "cell_type": "code",
   "execution_count": 11,
   "id": "19b06e06",
   "metadata": {
    "id": "19b06e06"
   },
   "outputs": [],
   "source": [
    "def convert(ord, part, op, mach, t):\n",
    "    return ops.index(tuple((ord, part, op, mach, t)))"
   ]
  },
  {
   "cell_type": "code",
   "execution_count": 12,
   "id": "1e98e683",
   "metadata": {
    "id": "1e98e683"
   },
   "outputs": [],
   "source": [
    "#Format: OrderNo, PartNo, Op, Machine, Time \n",
    "    \n",
    "def fill_QUBO_with_indexes(QUBO, ord1, part1, op1, mach1, t1, ord2, part2, op2, mach2, t2, value):\n",
    "    index_a = convert(ord1, part1, op1, mach1, t1)\n",
    "    index_b = convert(ord2, part2, op2, mach2, t2)\n",
    "    if index_a > index_b:\n",
    "        index_a, index_b = index_b, index_a\n",
    "    QUBO[index_a, index_b] += value"
   ]
  },
  {
   "cell_type": "markdown",
   "id": "a5e53aba",
   "metadata": {
    "id": "a5e53aba"
   },
   "source": [
    "Constraint 1 (each operation 'o' of each job 'j' exactly once on one machine 'm' at a certaint (starting-)time 't'):\n",
    "\n",
    "$$\n",
    "H_{0}:=\\sum_{o \\in 0}\\left(\\sum_{m \\in M_{o}} \\sum_{t=0}^{T-1} x_{j, o, m, t}-1\\right)^{2}\n",
    "$$\n"
   ]
  },
  {
   "cell_type": "code",
   "execution_count": 13,
   "id": "04edeea9",
   "metadata": {
    "id": "04edeea9"
   },
   "outputs": [],
   "source": [
    "alpha = 2"
   ]
  },
  {
   "cell_type": "code",
   "execution_count": 14,
   "id": "024181a9",
   "metadata": {
    "id": "024181a9"
   },
   "outputs": [],
   "source": [
    "# H0: Mehrmaliges Abarbeiten der selben Operation eines Bauteils eines Jobs bestrafen\n",
    "'ops: OrderNo, PartNo, OpNum, Machine, Time'\n",
    "\n",
    "for tupel1 in ops:\n",
    "    for tupel2 in ops:\n",
    "        if (tupel1[0] == tupel2[0]) and (tupel1[1] == tupel2[1]):\n",
    "            if tupel1[3] != tupel2[3] or tupel1[4] != tupel2[4]:\n",
    "                fill_QUBO_with_indexes(QUBO_X, *tupel1, *tupel2, 2*alpha)\n",
    "            else:\n",
    "                fill_QUBO_with_indexes(QUBO_X, *tupel1, *tupel2, -alpha)"
   ]
  },
  {
   "cell_type": "raw",
   "id": "e200845d",
   "metadata": {
    "id": "e200845d"
   },
   "source": [
    "QUBO_pr = str(QUBO).replace('\\n', '').replace('] [', ']\\n[').replace('[[', '[\\n[').replace(']]', ']\\n]').replace('. ', '.').replace('.  ', '. ').replace('[ ', '[').replace(' -', '-')\n",
    "print(QUBO_pr)"
   ]
  },
  {
   "cell_type": "code",
   "execution_count": 15,
   "id": "b82c4830",
   "metadata": {
    "id": "b82c4830"
   },
   "outputs": [],
   "source": [
    "# get_qubo_heatmap(QUBO_X)"
   ]
  },
  {
   "cell_type": "markdown",
   "id": "d028f69d",
   "metadata": {
    "id": "d028f69d"
   },
   "source": [
    "Secondly, for every job $j \\in J$, its operations $O_j$ must be executed in the order given by \n",
    "\n",
    "<br /><br />\n",
    "$$\n",
    "\\left.c\\right|_{o_{j}}: O_{j} \\rightarrow\\left\\{1, \\ldots, n_{j}\\right\\}\n",
    "$$\n",
    "<br />\n",
    "$$H_{1}:=\\sum_{j \\in J}\\left(\\sum_{k_{n-1}<i<k_{n}, t+p_{i} > t'} x_{i, t}x_{i+1, t'}\\right)$$\n"
   ]
  },
  {
   "cell_type": "code",
   "execution_count": 16,
   "id": "5e99adb3",
   "metadata": {
    "id": "5e99adb3"
   },
   "outputs": [],
   "source": [
    "beta = 1"
   ]
  },
  {
   "cell_type": "code",
   "execution_count": 17,
   "id": "606b32c5",
   "metadata": {
    "id": "606b32c5"
   },
   "outputs": [],
   "source": [
    "# H1 verbotene Reihenfolgen innerhalb eines Bauteils eines Jobs bestrafen\n",
    "'ops: OrderNo, PartNo, OpNum, Machine, Time'\n",
    "\n",
    "for tupel1 in ops:\n",
    "    if tupel1[3] < min(paint):\n",
    "        if tupel1[3] < min(weld):\n",
    "            dom = bend_length * tupel1[2]\n",
    "        else:\n",
    "            dom = weld_length * tupel1[2]\n",
    "        for tupel2 in ops:\n",
    "            if (tupel1[0] == tupel2[0]) and (tupel1[1] == tupel2[1]):\n",
    "                if (tupel1[3] <= max(bend) and tupel2[3] > max(bend) and (tupel1[4] + dom) > tupel2[4] or tupel1[3] > max(bend) and tupel1[3] < min(paint) and tupel2[3] >= min(paint) and (tupel1[4] + dom) > tupel2[4]):\n",
    "                    fill_QUBO_with_indexes(QUBO_X, *tupel1, *tupel2, beta)"
   ]
  },
  {
   "cell_type": "raw",
   "id": "c62234e5",
   "metadata": {
    "id": "c62234e5"
   },
   "source": [
    "QUBO_pr = str(QUBO).replace('\\n', '').replace('] [', ']\\n[').replace('[[', '[\\n[').replace(']]', ']\\n]').replace('. ', '.').replace('.  ', '. ').replace('[ ', '[').replace(' -', '-')\n",
    "print(QUBO_pr)"
   ]
  },
  {
   "cell_type": "code",
   "execution_count": 18,
   "id": "9670c390",
   "metadata": {
    "id": "9670c390"
   },
   "outputs": [],
   "source": [
    "# get_qubo_heatmap(QUBO_X)"
   ]
  },
  {
   "cell_type": "code",
   "execution_count": 19,
   "id": "8e1d37e2",
   "metadata": {
    "id": "8e1d37e2"
   },
   "outputs": [],
   "source": [
    "gamma = 2"
   ]
  },
  {
   "cell_type": "code",
   "execution_count": 20,
   "id": "22391049",
   "metadata": {
    "id": "22391049"
   },
   "outputs": [],
   "source": [
    "# H2 Geichzeitiges Laufen zweier verschiedener Operationen auf der selben M\n",
    "'ops: OrderNo, PartNo, OpNum, Machine, Time'\n",
    "\n",
    "for tupel1 in ops:\n",
    "    if tupel1[3] < min(weld):\n",
    "        dom = bend_length * tupel1[2]\n",
    "    elif tupel1[3] < min(paint):\n",
    "        dom = weld_length * tupel1[2]\n",
    "    else:\n",
    "        dom = paint_length * tupel1[2]\n",
    "    for tupel2 in ops:\n",
    "        if ((tupel1[0] != tupel2[0] or tupel1[1] != tupel2[1]) and tupel1[3] == tupel2[3] and tupel2[4] >= tupel1[4] and tupel2[4] < tupel1[4] + dom):\n",
    "            fill_QUBO_with_indexes(QUBO_X, *tupel1, *tupel2, gamma)"
   ]
  },
  {
   "cell_type": "raw",
   "id": "5aa53360",
   "metadata": {
    "id": "5aa53360"
   },
   "source": [
    "QUBO_pr = str(QUBO).replace('\\n', '').replace('] [', ']\\n[').replace('[[', '[\\n[').replace(']]', ']\\n]').replace('. ', '.').replace('.  ', '. ').replace('[ ', '[').replace(' -', '-')\n",
    "print(QUBO_pr)"
   ]
  },
  {
   "cell_type": "code",
   "execution_count": 21,
   "id": "62bec2f4",
   "metadata": {
    "id": "62bec2f4"
   },
   "outputs": [],
   "source": [
    "# get_qubo_heatmap(QUBO_X) "
   ]
  },
  {
   "cell_type": "code",
   "execution_count": 22,
   "id": "7265bfad",
   "metadata": {
    "id": "7265bfad"
   },
   "outputs": [],
   "source": [
    "delta = 0.035"
   ]
  },
  {
   "cell_type": "code",
   "execution_count": 23,
   "id": "d827163f",
   "metadata": {
    "id": "d827163f"
   },
   "outputs": [],
   "source": [
    "# K Bestrafung für Verspätung\n",
    "'ops: OrderNo, PartNo, OpNum, Machine, Time'\n",
    "'jobs: OrderNo, PartNo, BendingLines, WeldingPoints, PaintTime, DueDate'\n",
    "     \n",
    "c = 0\n",
    "while c < len(jobs):\n",
    "    t1 = 0\n",
    "    while t1 < len(ops):\n",
    "        if jobs[c][0] == ops[t1][0]:\n",
    "            tail = 0\n",
    "            if ops[t1][3] < min(weld): # op is bend\n",
    "                dom = bend_length * ops[t1][2]\n",
    "                if jobs[c][3] > 0: # has weld op\n",
    "                    tail += jobs[c][3] * weld_length\n",
    "                if jobs[c][4] > 0: # has paint op\n",
    "                    tail += jobs[c][4] * paint_length\n",
    "            elif ops[t1][3] < min(paint): # op is weld\n",
    "                dom = weld_length * ops[t1][2]\n",
    "                if jobs[c][4] > 0: # has paint op\n",
    "                    tail += jobs[c][4] * paint_length\n",
    "            else:\n",
    "                dom = paint_length * ops[t1][2]\n",
    "            if ops[t1][4] + dom + tail > jobs[c][5] * 6:\n",
    "                fill_QUBO_with_indexes(QUBO_X, *ops[t1], *ops[t1], delta)\n",
    "            # else:\n",
    "                # fill_QUBO_with_indexes(QUBO, *ops[t1], *ops[t1], -delta)\n",
    "        t1 += 1\n",
    "    c += 1"
   ]
  },
  {
   "cell_type": "raw",
   "id": "1243429a",
   "metadata": {
    "id": "1243429a"
   },
   "source": [
    "QUBO_pr = str(QUBO).replace('\\n', '').replace('] [', ']\\n[').replace('[[', '[\\n[').replace(']]', ']\\n]').replace('. ', '.').replace('.  ', '. ').replace('[ ', '[').replace(' -', '-')\n",
    "print(QUBO_pr)"
   ]
  },
  {
   "cell_type": "code",
   "execution_count": 24,
   "id": "a166d12b",
   "metadata": {
    "colab": {
     "base_uri": "https://localhost:8080/",
     "height": 727
    },
    "id": "a166d12b",
    "outputId": "9daf548c-81c1-47f5-baeb-bb773ca593a8"
   },
   "outputs": [
    {
     "data": {
      "image/png": "[encoded data removed]",
      "text/plain": [
       "<Figure size 1008x864 with 2 Axes>"
      ]
     },
     "metadata": {},
     "output_type": "display_data"
    }
   ],
   "source": [
    "get_qubo_heatmap(QUBO_X) "
   ]
  },
  {
   "cell_type": "code",
   "execution_count": 25,
   "id": "dJQpOUFcavlU",
   "metadata": {
    "id": "dJQpOUFcavlU"
   },
   "outputs": [],
   "source": [
    "def simplify_qubo(qubo):\n",
    "    qi = 0\n",
    "    while qi < len(ops):\n",
    "      qj = qi\n",
    "      while qj < len(ops):\n",
    "          if qubo[qi, qj] >= -1 and qubo[qi, qj] <= 1:\n",
    "              qubo[qi, qj] -= np.int64(4)\n",
    "          qj += 1\n",
    "      qi += 1"
   ]
  },
  {
   "cell_type": "code",
   "execution_count": 26,
   "id": "8OJQi1t51Kxk",
   "metadata": {
    "id": "8OJQi1t51Kxk"
   },
   "outputs": [],
   "source": [
    "# QUBO_X = simplify_qubo(QUBO_X)"
   ]
  },
  {
   "cell_type": "code",
   "execution_count": 27,
   "id": "yfYYfZocb8Ag",
   "metadata": {
    "id": "yfYYfZocb8Ag"
   },
   "outputs": [],
   "source": [
    "# get_qubo_heatmap(QUBO_X) "
   ]
  },
  {
   "cell_type": "code",
   "execution_count": 28,
   "id": "4e8e6b56",
   "metadata": {
    "colab": {
     "base_uri": "https://localhost:8080/"
    },
    "id": "4e8e6b56",
    "outputId": "fc5ed592-5609-4366-c2a9-e27eaa19c976"
   },
   "outputs": [
    {
     "name": "stdout",
     "output_type": "stream",
     "text": [
      "{(0, 0): -2, (0, 1): 8, (0, 2): 4, (0, 3): 0, (1, 1): -1, (1, 2): 0, (1, 3): 4, (2, 2): -2, (2, 3): 8, (3, 3): -2}\n"
     ]
    }
   ],
   "source": [
    "qubo_d = {}\n",
    "x1 = 0\n",
    "while x1 < len(ops):\n",
    "    x2 = x1\n",
    "    while x2 < len(ops):\n",
    "        qubo_d[(x1, x2)] = int(QUBO_X[x1][x2])\n",
    "        x2 += 1\n",
    "    x1 += 1\n",
    "    \n",
    "print(qubo_d)"
   ]
  },
  {
   "cell_type": "code",
   "execution_count": null,
   "id": "b4a380c0",
   "metadata": {
    "id": "b4a380c0"
   },
   "outputs": [],
   "source": []
  },
  {
   "cell_type": "code",
   "execution_count": 29,
   "id": "f5adacd8",
   "metadata": {
    "colab": {
     "base_uri": "https://localhost:8080/"
    },
    "id": "f5adacd8",
    "outputId": "e56a6a3c-81e7-4204-82f7-93bb36af0734"
   },
   "outputs": [
    {
     "name": "stdout",
     "output_type": "stream",
     "text": [
      "   0  1  2  3 energy num_oc.\n",
      "0  1  0  0  1   -4.0      51\n",
      "['BINARY', 1 rows, 51 samples, 4 variables]\n"
     ]
    }
   ],
   "source": [
    "# solve and print first result\n",
    "result = QBSolv().sample_qubo(qubo_d)\n",
    "print(result)\n",
    "result = [result.samples()[0][x] for x in result.samples()[0]]\n",
    "schedule = []\n",
    "for i in range(len(result)):\n",
    "    if result[i] == 1:\n",
    "        schedule.append(ops[i])\n",
    "df_schedule=pd.DataFrame(schedule)\n",
    "df_schedule.columns = [\"OrderNo\", \"PartNo\", \"Op\", \"Task\", \"Time\"]"
   ]
  },
  {
   "cell_type": "raw",
   "id": "85c00a91",
   "metadata": {
    "id": "85c00a91"
   },
   "source": []
  },
  {
   "cell_type": "code",
   "execution_count": 30,
   "id": "07f8f8f1",
   "metadata": {
    "id": "07f8f8f1"
   },
   "outputs": [],
   "source": [
    "def make_symmetric(matrix):\n",
    "    \"\"\" Takes a quadratic matrix and makes it symmetric \"\"\"\n",
    "    result = copy.deepcopy(matrix) # technically unnecessary\n",
    "    for i in range(len(result)):\n",
    "        for j in range(len(result[i])):\n",
    "            if(i != j):\n",
    "                if (result[i][j] != 0):\n",
    "                    if (result[j][i] == 0):\n",
    "                        result[j][i] = result[i][j] / 2\n",
    "                        result[i][j] = result[j][i]\n",
    "    return result\n",
    "q_QUBO_X = make_symmetric(QUBO_X)"
   ]
  },
  {
   "cell_type": "code",
   "execution_count": 31,
   "id": "17caa086",
   "metadata": {
    "colab": {
     "base_uri": "https://localhost:8080/"
    },
    "id": "17caa086",
    "outputId": "4acf1ede-ed16-47f6-da1c-67f76a3432d6"
   },
   "outputs": [
    {
     "name": "stdout",
     "output_type": "stream",
     "text": [
      "({0: 2.0, 1: 2.5, 2: 2.0, 3: 2.0}, {(0, 1): 2.0, (0, 2): 1.0, (1, 3): 1.0, (2, 3): 2.0}, 2.5)\n",
      "\n",
      "\n",
      "{0: 2.0, 1: 2.5, 2: 2.0, 3: 2.0}\n",
      "\n",
      "\n",
      "{(0, 1): 2.0, (0, 2): 1.0, (1, 3): 1.0, (2, 3): 2.0}\n"
     ]
    }
   ],
   "source": [
    "isingX = dimod.qubo_to_ising(qubo_d, 0)\n",
    "print(isingX)\n",
    "(linear, quadratic, _) = isingX\n",
    "print(\"\\n\")\n",
    "print(linear)\n",
    "print(\"\\n\")\n",
    "print(quadratic)"
   ]
  },
  {
   "cell_type": "raw",
   "id": "5bb460cc",
   "metadata": {
    "id": "5bb460cc"
   },
   "source": [
    "def dictionary_to_matrix(d, vals):\n",
    "    \"\"\" Converts a matrix written as a dictionary into a numpy matrix\n",
    "    d: dictionary\n",
    "    vals: array with the rows/colummn values of the dictionary\n",
    "    \"\"\"\n",
    "    result = np.empty((len(vals),len(vals)))\n",
    "    for i in range(len(vals)):\n",
    "        for j in range(len(vals)):\n",
    "            key = (vals[i], vals[j])\n",
    "            result[i][j] = d.get(key, 0)\n",
    "    return result"
   ]
  },
  {
   "cell_type": "raw",
   "id": "b987f145",
   "metadata": {
    "id": "b987f145"
   },
   "source": [
    "pyqubo_ising = dictionary_to_matrix(isingX, ['0', '1', '2', '3', '4', '5', '6', '7', '8', '9', '10', '11', '12', '13'])\n",
    "print(pyqubo_ising)"
   ]
  },
  {
   "cell_type": "code",
   "execution_count": 32,
   "id": "7e982604",
   "metadata": {
    "id": "7e982604"
   },
   "outputs": [],
   "source": [
    "n_qubits = len(ops)\n",
    "wires = range(n_qubits)\n",
    "depthX = 2"
   ]
  },
  {
   "cell_type": "code",
   "execution_count": 27,
   "id": "e9d19c8d-ea45-4bde-b6dc-ebb3ab0baecb",
   "metadata": {},
   "outputs": [
    {
     "ename": "SyntaxError",
     "evalue": "expression cannot contain assignment, perhaps you meant \"==\"? (<ipython-input-27-f9c31fc1efc9>, line 1)",
     "output_type": "error",
     "traceback": [
      "\u001b[1;36m  File \u001b[1;32m\"<ipython-input-27-f9c31fc1efc9>\"\u001b[1;36m, line \u001b[1;32m1\u001b[0m\n\u001b[1;33m    dev = qml.device(\"qiskit.ibmq\", wires=wires, backend=, ibmqx_token=) #please enter your token\u001b[0m\n\u001b[1;37m                                                 ^\u001b[0m\n\u001b[1;31mSyntaxError\u001b[0m\u001b[1;31m:\u001b[0m expression cannot contain assignment, perhaps you meant \"==\"?\n"
     ]
    }
   ],
   "source": [
    "dev = qml.device(\"qiskit.ibmq\", wires=wires, backend=, ibmqx_token=) #please enter your token and shots"
   ]
  },
  {
   "cell_type": "code",
   "execution_count": 34,
   "id": "580de8c8",
   "metadata": {
    "colab": {
     "base_uri": "https://localhost:8080/"
    },
    "id": "580de8c8",
    "outputId": "47a33bfd-dc18-4756-b8b9-9b70d13afd14"
   },
   "outputs": [
    {
     "name": "stdout",
     "output_type": "stream",
     "text": [
      "  (2.0) [Z0]\n",
      "+ (2.0) [Z2]\n",
      "+ (2.0) [Z3]\n",
      "+ (2.5) [Z1]\n",
      "+ (1.0) [Z0 Z2]\n",
      "+ (1.0) [Z1 Z3]\n",
      "+ (2.0) [Z0 Z1]\n",
      "+ (2.0) [Z2 Z3]\n"
     ]
    }
   ],
   "source": [
    "linear_coefficents = [linear[i] for i in range(n_qubits) if i in linear]\n",
    "linear_gates = [qml.PauliZ(i) for i in range(n_qubits) if i in linear]\n",
    "quadratic_coefficents = [quadratic[(i, j)] for i in range(n_qubits) for j in range(n_qubits) if (i, j) in quadratic]\n",
    "quadratic_gates = [qml.PauliZ(i) @ qml.PauliZ(j) for i in range(n_qubits) for j in range(n_qubits) if\n",
    "                       (i, j) in quadratic]\n",
    "\n",
    "coefficents = linear_coefficents + quadratic_coefficents\n",
    "gates = linear_gates + quadratic_gates\n",
    "\n",
    "cost_h = qml.Hamiltonian(coefficents, gates)\n",
    "print(cost_h)"
   ]
  },
  {
   "cell_type": "code",
   "execution_count": 35,
   "id": "2912c156",
   "metadata": {
    "colab": {
     "base_uri": "https://localhost:8080/"
    },
    "id": "2912c156",
    "outputId": "63f4abec-2bae-429b-d0b4-36ea684aeb53"
   },
   "outputs": [
    {
     "name": "stdout",
     "output_type": "stream",
     "text": [
      "  (1) [X0]\n",
      "+ (1) [X1]\n",
      "+ (1) [X2]\n",
      "+ (1) [X3]\n"
     ]
    }
   ],
   "source": [
    "mixer_h = qaoa.x_mixer(0)\n",
    "for i in range(n_qubits - 1):\n",
    "    mixer_h += qaoa.x_mixer(i + 1)\n",
    "print(mixer_h)"
   ]
  },
  {
   "cell_type": "code",
   "execution_count": 36,
   "id": "89aad6d2",
   "metadata": {
    "id": "89aad6d2"
   },
   "outputs": [],
   "source": [
    "def qaoa_layer(gamma, alpha):\n",
    "    qaoa.cost_layer(gamma, cost_h)\n",
    "    qaoa.mixer_layer(alpha, mixer_h)"
   ]
  },
  {
   "cell_type": "code",
   "execution_count": 37,
   "id": "d6e48eda",
   "metadata": {
    "id": "d6e48eda"
   },
   "outputs": [],
   "source": [
    "def circuit(params, **kwargs):\n",
    "    for w in wires:\n",
    "        qml.Hadamard(wires=w)\n",
    "    qml.layer(qaoa_layer, depthX, params[0], params[1])"
   ]
  },
  {
   "cell_type": "code",
   "execution_count": 38,
   "id": "f81fc0df",
   "metadata": {
    "id": "f81fc0df"
   },
   "outputs": [],
   "source": [
    "cost_function = qml.ExpvalCost(circuit, cost_h, dev, optimize=True)"
   ]
  },
  {
   "cell_type": "code",
   "execution_count": null,
   "id": "920df233-854d-4898-9620-b814f77d7d17",
   "metadata": {},
   "outputs": [],
   "source": [
    "optimizer = qml.AdamOptimizer() # qml.GradientDescentOptimizer() # qml.AdamOptimizer() # qml.AdagradOptimizer()"
   ]
  },
  {
   "cell_type": "code",
   "execution_count": 39,
   "id": "cadbc94d",
   "metadata": {
    "id": "cadbc94d"
   },
   "outputs": [
    {
     "name": "stdout",
     "output_type": "stream",
     "text": [
      "Start parameters:  [[0.5, 0.5], [0.5, 0.5]]\n"
     ]
    }
   ],
   "source": [
    "params = [[0.46665486015842306, 0.3972119182173885], [0.2740545178424591, 0.770088265773112]]\n",
    "\n",
    "print(\"Start parameters: \", params)"
   ]
  },
  {
   "cell_type": "code",
   "execution_count": null,
   "id": "7274ba86-b8f0-4845-8734-3d12f0dbf4a9",
   "metadata": {},
   "outputs": [],
   "source": [
    "optimizerType = type(optimizer).__name__\n",
    "path = os.getcwd()\n",
    "print(path)\n",
    "savestring = path + f\"\\{optimizerType}_{depthX}_{steps}_{params}\"\n",
    "print(savestring)"
   ]
  },
  {
   "cell_type": "code",
   "execution_count": 40,
   "id": "oXzPkSj7Heh6",
   "metadata": {
    "colab": {
     "base_uri": "https://localhost:8080/"
    },
    "id": "oXzPkSj7Heh6",
    "outputId": "d073d997-a599-4266-dbd1-2a4a58e41484"
   },
   "outputs": [
    {
     "name": "stderr",
     "output_type": "stream",
     "text": [
      "N/A% (0 of 5) |                          | Elapsed Time: 0:00:00 ETA:  --:--:--"
     ]
    },
    {
     "name": "stdout",
     "output_type": "stream",
     "text": [
      " | New parameters: [[0.5099999999926251, 0.4900000000280505], [0.49000000012886596, 0.5099999999756809]]\n"
     ]
    },
    {
     "name": "stderr",
     "output_type": "stream",
     "text": [
      "N/A% (0 of 5) |                          | Elapsed Time: 0:00:18 ETA:  --:--:--"
     ]
    },
    {
     "name": "stdout",
     "output_type": "stream",
     "text": [
      "\n",
      " 0\n",
      " | New parameters: [[0.5170873815690388, 0.48257409027154624], [0.482153293719274, 0.5172779613349034]]\n"
     ]
    },
    {
     "name": "stderr",
     "output_type": "stream",
     "text": [
      " 20% (1 of 5) |#####                     | Elapsed Time: 0:00:36 ETA:   0:01:09"
     ]
    },
    {
     "name": "stdout",
     "output_type": "stream",
     "text": [
      "\n",
      " 0\n",
      " | New parameters: [[0.5227659523805274, 0.4759815846741768], [0.47498671139384346, 0.5234561785637544]]\n"
     ]
    },
    {
     "name": "stderr",
     "output_type": "stream",
     "text": [
      " 40% (2 of 5) |##########                | Elapsed Time: 0:00:54 ETA:   0:00:53"
     ]
    },
    {
     "name": "stdout",
     "output_type": "stream",
     "text": [
      "\n",
      " 0\n",
      " | New parameters: [[0.5275128009467789, 0.46971376088258915], [0.4678834076949256, 0.529007319370145]]\n"
     ]
    },
    {
     "name": "stderr",
     "output_type": "stream",
     "text": [
      " 60% (3 of 5) |###############           | Elapsed Time: 0:01:10 ETA:   0:00:33"
     ]
    },
    {
     "name": "stdout",
     "output_type": "stream",
     "text": [
      "\n",
      " 0\n",
      " | New parameters: [[0.5315614678043119, 0.4637412480408245], [0.4606825719596254, 0.5340555022658121]]\n"
     ]
    },
    {
     "name": "stderr",
     "output_type": "stream",
     "text": [
      " 80% (4 of 5) |####################      | Elapsed Time: 0:01:29 ETA:   0:00:18"
     ]
    },
    {
     "name": "stdout",
     "output_type": "stream",
     "text": [
      "\n",
      " 0\n"
     ]
    },
    {
     "name": "stderr",
     "output_type": "stream",
     "text": [
      "100% (5 of 5) |##########################| Elapsed Time: 0:01:29 Time:  0:01:29\n"
     ]
    },
    {
     "name": "stdout",
     "output_type": "stream",
     "text": [
      "\n",
      "\n",
      "Optimal parameters:  [[0.5315614678043119, 0.4637412480408245], [0.4606825719596254, 0.5340555022658121]]\n"
     ]
    }
   ],
   "source": [
    "for i in progressbar.progressbar(range(steps), redirect_stdout=True):\n",
    "    params = optimizer.step(cost_function, params)\n",
    "    print(' | New parameters:', params)\n",
    "    print(\"\\n\", dev.num_executions)\n",
    "    f = open(savestring + \"paramsQuicksaveIBM.txt\", 'w')\n",
    "    f.write(\"parameter quicksave stepnumber \" + str(i) + \": \" + str(params) + \"\\n\\n\")\n",
    "    f.close()\n",
    "\n",
    "print(\"\\n\")\n",
    "print(\"Optimal parameters: \", params)"
   ]
  },
  {
   "cell_type": "code",
   "execution_count": 41,
   "id": "XHVmqFfVNgrW",
   "metadata": {
    "id": "XHVmqFfVNgrW"
   },
   "outputs": [],
   "source": [
    "@qml.qnode(dev)\n",
    "def probability_circuit(gamma, alpha):\n",
    "    circuit([gamma, alpha])\n",
    "    return qml.probs(wires=wires)\n",
    "\n",
    "\n",
    "probs = probability_circuit(params[0], params[1])"
   ]
  },
  {
   "cell_type": "code",
   "execution_count": 46,
   "id": "205cd7e7-3040-45c4-8bce-6e650b6fa85a",
   "metadata": {
    "colab": {
     "base_uri": "https://localhost:8080/",
     "height": 348
    },
    "id": "205cd7e7-3040-45c4-8bce-6e650b6fa85a",
    "outputId": "89256e1b-2158-4abc-dba9-1c116cc80cca"
   },
   "outputs": [
    {
     "name": "stdout",
     "output_type": "stream",
     "text": [
      "C:\\Users\\vd5t\\Desktop\\QCP\\0 QGM\\notebooks\\Rigetti\n",
      "C:\\Users\\vd5t\\Desktop\\QCP\\0 QGM\\notebooks\\Rigetti\\AdamOptimizer_2_5_[[0.5315614678043119, 0.4637412480408245], [0.4606825719596254, 0.5340555022658121]]\n"
     ]
    },
    {
     "data": {
      "image/png": "[encoded data removed]",
      "text/plain": [
       "<Figure size 576x396 with 1 Axes>"
      ]
     },
     "metadata": {},
     "output_type": "display_data"
    }
   ],
   "source": [
    "plt.style.use(\"seaborn\")\n",
    "plt.bar(range(2 ** len(wires)), probs)\n",
    "plt.savefig(savestring + \".png\")\n",
    "plt.show()"
   ]
  },
  {
   "cell_type": "code",
   "execution_count": 47,
   "id": "36e5d2ad-5a61-4e55-8a67-4c443a8e9b13",
   "metadata": {},
   "outputs": [],
   "source": [
    "file = open(savestring + \"resultsIBM.txt\", 'w')\n",
    "file.write(str(probs)\n",
    "    + \"\\n\"\n",
    "    + \"\\n used jobs: \" + str(jobs)\n",
    "    + \"\\n timesteps: \" + str(t_step)\n",
    "    + \"\\n one timestep in seconds: \" + str(t_step_in_sec)\n",
    "    + \"\\n optimal parameters: \" + str(params)\n",
    "    + \"\\n optimizer: \" + optimizerType\n",
    "    + \"\\n executions/Zugriffe: \" + str(dev.num_executions)\n",
    "    + \"\\n\"\n",
    "    + \"\\nbackend: \" + str(dev))\n",
    "file.close()"
   ]
  },
  {
   "cell_type": "code",
   "execution_count": null,
   "id": "D1jxEC1x0Zxv",
   "metadata": {
    "id": "D1jxEC1x0Zxv"
   },
   "outputs": [],
   "source": []
  },
  {
   "cell_type": "code",
   "execution_count": null,
   "id": "zwNGy4-vz3Sz",
   "metadata": {
    "id": "zwNGy4-vz3Sz"
   },
   "outputs": [],
   "source": []
  },
  {
   "cell_type": "code",
   "execution_count": null,
   "id": "zqg7Qwyrz3X2",
   "metadata": {
    "id": "zqg7Qwyrz3X2"
   },
   "outputs": [],
   "source": []
  },
  {
   "cell_type": "code",
   "execution_count": 44,
   "id": "5966a026",
   "metadata": {
    "colab": {
     "base_uri": "https://localhost:8080/"
    },
    "id": "5966a026",
    "outputId": "4b8f74ed-bcd5-42dc-ff1f-20e7caeadbe0",
    "scrolled": true
   },
   "outputs": [
    {
     "name": "stdout",
     "output_type": "stream",
     "text": [
      "Variable                 Type                    Data/Info\n",
      "----------------------------------------------------------\n",
      "QBSolv                   SamplerABCMeta          <class 'dwave_qbsolv.dimod_wrapper.QBSolv'>\n",
      "QUBO_X                   ndarray                 4x4: 16 elems, type `float64`, 128 bytes\n",
      "alpha                    int                     2\n",
      "bend                     list                    n=3\n",
      "bend_length              int                     2\n",
      "beta                     int                     1\n",
      "c                        int                     2\n",
      "circuit                  function                <function circuit at 0x000001E8EA3EA5E0>\n",
      "coefficents              list                    n=8\n",
      "convert                  function                <function convert at 0x000001E8E76384C0>\n",
      "copy                     module                  <module 'copy' from 'c:\\\\<...>\\python39\\\\lib\\\\copy.py'>\n",
      "cost_function            ExpvalCost              <pennylane.vqe.vqe.Expval<...>ct at 0x000001E8EA3DFEE0>\n",
      "cost_h                   Hamiltonian               (2.0) [Z0]\\n+ (2.0) [Z2<...> [Z0 Z1]\\n+ (2.0) [Z2 Z3]\n",
      "delta                    float                   0.035\n",
      "depthX                   int                     2\n",
      "dev                      BraketAwsQubitDevice    Braket AwsDevice for Penn<...>es\\nWires: 4\\nShots: 1000\n",
      "device_arn               str                     arn:aws:braket:::device/q<...>ntum-simulator/amazon/sv1\n",
      "df_schedule              DataFrame                  OrderNo  PartNo   Op  <...>       0  0.5     5     3\n",
      "dimod                    module                  <module 'dimod' from 'c:\\<...>ges\\\\dimod\\\\__init__.py'>\n",
      "dom                      float                   3.0\n",
      "execs                    int                     0\n",
      "file                     TextIOWrapper           <_io.TextIOWrapper name='<...>de='w' encoding='cp1252'>\n",
      "fill_QUBO_with_indexes   function                <function fill_QUBO_with_<...>es at 0x000001E8E7638C10>\n",
      "gamma                    int                     2\n",
      "gates                    list                    n=8\n",
      "get_qubo_heatmap         function                <function get_qubo_heatmap at 0x000001E8E7638550>\n",
      "i                        int                     4\n",
      "isingX                   tuple                   n=3\n",
      "jobs                     list                    n=2\n",
      "linear                   dict                    n=4\n",
      "linear_coefficents       list                    n=4\n",
      "linear_gates             list                    n=4\n",
      "m_t_steps                float                   6.0\n",
      "m_time                   float                   60.0\n",
      "make_symmetric           function                <function make_symmetric at 0x000001E8E9E99CA0>\n",
      "max_time                 function                <function max_time at 0x000001E8C5C8CAF0>\n",
      "mixer_h                  Hamiltonian               (1) [X0]\\n+ (1) [X1]\\n+ (1) [X2]\\n+ (1) [X3]\n",
      "n_qubits                 int                     4\n",
      "np                       module                  <module 'numpy' from 'c:\\<...>ges\\\\numpy\\\\__init__.py'>\n",
      "ops                      list                    n=4\n",
      "optimizer                AdamOptimizer           <pennylane.optimize.adam.<...>ct at 0x000001E8EA3DF340>\n",
      "optimizerType            str                     AdamOptimizer\n",
      "os                       module                  <module 'os' from 'c:\\\\us<...>n\\\\python39\\\\lib\\\\os.py'>\n",
      "paint                    list                    n=1\n",
      "paint_length             int                     6\n",
      "params                   list                    n=2\n",
      "path                     str                     C:\\Users\\vd5t\\Desktop\\QCP\\0 QGM\\notebooks\\Rigetti\n",
      "pd                       module                  <module 'pandas' from 'c:<...>es\\\\pandas\\\\__init__.py'>\n",
      "plt                      module                  <module 'matplotlib.pyplo<...>\\\\matplotlib\\\\pyplot.py'>\n",
      "probability_circuit      QNode                   <QNode: wires=4, device='<...>rad', diff_method='best'>\n",
      "probs                    tensor                  [0.033 0.019 0.024 0.072 <...> 0.035 0.014 0.092 0.166]\n",
      "progressbar              module                  <module 'progressbar' fro<...>rogressbar\\\\__init__.py'>\n",
      "q_QUBO_X                 ndarray                 4x4: 16 elems, type `float64`, 128 bytes\n",
      "qaoa                     module                  <module 'pennylane.qaoa' <...>lane\\\\qaoa\\\\__init__.py'>\n",
      "qaoa_layer               function                <function qaoa_layer at 0x000001E8EA3EA3A0>\n",
      "qml                      module                  <module 'pennylane' from <...>\\pennylane\\\\__init__.py'>\n",
      "quadratic                dict                    n=4\n",
      "quadratic_coefficents    list                    n=4\n",
      "quadratic_gates          list                    n=4\n",
      "qubo_d                   dict                    n=10\n",
      "result                   list                    n=4\n",
      "s3                       tuple                   n=2\n",
      "savestring               str                     C:\\Users\\vd5t\\Desktop\\QCP<...>254, 0.5340555022658121]]\n",
      "schedule                 list                    n=2\n",
      "simplify_qubo            function                <function simplify_qubo at 0x000001E8E7615D30>\n",
      "sns                      module                  <module 'seaborn' from 'c<...>s\\\\seaborn\\\\__init__.py'>\n",
      "steps                    int                     5\n",
      "sys                      module                  <module 'sys' (built-in)>\n",
      "t1                       int                     4\n",
      "t_step                   int                     3\n",
      "t_step_in_sec            int                     10\n",
      "tail                     int                     0\n",
      "time                     module                  <module 'time' (built-in)>\n",
      "tupel1                   tuple                   n=5\n",
      "tupel2                   tuple                   n=5\n",
      "weld                     list                    n=2\n",
      "weld_length              int                     3\n",
      "wires                    range                   range(0, 4)\n",
      "x1                       int                     4\n",
      "x2                       int                     4\n"
     ]
    }
   ],
   "source": [
    "whos"
   ]
  }
 ],
 "metadata": {
  "colab": {
   "collapsed_sections": [],
   "name": "QCP_QGM_Qulacs.ipynb",
   "provenance": []
  },
  "kernelspec": {
   "display_name": "Python 3",
   "language": "python",
   "name": "python3"
  },
  "language_info": {
   "codemirror_mode": {
    "name": "ipython",
    "version": 3
   },
   "file_extension": ".py",
   "mimetype": "text/x-python",
   "name": "python",
   "nbconvert_exporter": "python",
   "pygments_lexer": "ipython3",
   "version": "3.9.5"
  }
 },
 "nbformat": 4,
 "nbformat_minor": 5
}
