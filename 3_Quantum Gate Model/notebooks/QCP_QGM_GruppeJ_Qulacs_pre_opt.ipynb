{
  "nbformat": 4,
  "nbformat_minor": 5,
  "metadata": {
    "colab": {
      "name": "QCP_QGM_GruppeJ_Rigetti_pre-opt.ipynb",
      "provenance": [],
      "collapsed_sections": []
    },
    "kernelspec": {
      "display_name": "Python 3",
      "language": "python",
      "name": "python3"
    },
    "language_info": {
      "codemirror_mode": {
        "name": "ipython",
        "version": 3
      },
      "file_extension": ".py",
      "mimetype": "text/x-python",
      "name": "python",
      "nbconvert_exporter": "python",
      "pygments_lexer": "ipython3",
      "version": "3.9.5"
    }
  },
  "cells": [
    {
      "cell_type": "code",
      "metadata": {
        "id": "a60a66bf"
      },
      "source": [
        ""
      ],
      "id": "a60a66bf",
      "execution_count": null,
      "outputs": []
    },
    {
      "cell_type": "code",
      "metadata": {
        "id": "c9eac3d8"
      },
      "source": [
        "import sys\n",
        "import time\n",
        "import dimod.utilities\n",
        "import numpy as np\n",
        "import pandas as pd\n",
        "import pennylane as qml\n",
        "import seaborn as sns\n",
        "from dwave_qbsolv import QBSolv\n",
        "import matplotlib as mpl\n",
        "from matplotlib import pyplot as plt\n",
        "from pennylane import qaoa\n",
        "import copy\n",
        "import progressbar\n",
        "import os\n",
        "import os.path\n",
        "import qiskit"
      ],
      "id": "c9eac3d8",
      "execution_count": 1,
      "outputs": []
    },
    {
      "cell_type": "code",
      "metadata": {
        "id": "0ddbd31d"
      },
      "source": [
        "#job = \"OrderNo, PartNo, BendingLines, WeldingPoints, PaintTime, DueDate\n",
        "\n",
        "# jobs =  [(0, 0, 1, 2, 1, 3), (1, 0, 0, 2, 0, 1)] # this job is more \"complex\" but at the cost of less steps tp saty under 1000 executions -> 985 execs, 197 per step (5)\n",
        "jobs = [(0, 0, 0, 0, 0.5, 0.5), (1, 0, 0, 0, 0.5, 1)] # this job allows for more steps while staying under 1000 executions -> 980 execs, 49 per step (20)\n",
        "\n",
        "steps = 5 # steps = 5 for the first set, steps = 20 for the second"
      ],
      "id": "0ddbd31d",
      "execution_count": 2,
      "outputs": []
    },
    {
      "cell_type": "code",
      "metadata": {
        "id": "33a07361"
      },
      "source": [
        "bend = [0, 1, 2]\n",
        "weld = [3, 4]\n",
        "paint =  [5]\n",
        "\n",
        "bend_length = 2\n",
        "weld_length = 3\n",
        "paint_length = 6\n",
        "\n",
        "t_step = 3 # necessary generalization from 10 sec intervalls to 30\n",
        "t_step_in_sec = 10"
      ],
      "id": "33a07361",
      "execution_count": 3,
      "outputs": []
    },
    {
      "cell_type": "code",
      "metadata": {
        "id": "a53b5f20"
      },
      "source": [
        "def max_time(jobs):\n",
        "    a = 0 \n",
        "    b = 0 \n",
        "    c = 0\n",
        "    for i in jobs:\n",
        "        actualTime = i[2]\n",
        "        if a < b and a < c:\n",
        "            a += actualTime\n",
        "        elif b < a and b < c:\n",
        "            b += actualTime\n",
        "        else:\n",
        "            c += actualTime\n",
        "    maxB = max(a, b, c) * bend_length\n",
        "    \n",
        "    a = 0\n",
        "    b = 0\n",
        "    for i in jobs:\n",
        "        actualTime = i[3]\n",
        "        if a < b:\n",
        "            a += actualTime\n",
        "        else:\n",
        "            b += actualTime\n",
        "    maxW = max(a, b) * weld_length\n",
        "    \n",
        "    maximumPainting = 0\n",
        "    for i in jobs:\n",
        "        maximumPainting += i[4]\n",
        "    maxP = maximumPainting * paint_length\n",
        "    \n",
        "    return maxB + maxW + maxP"
      ],
      "id": "a53b5f20",
      "execution_count": 4,
      "outputs": []
    },
    {
      "cell_type": "code",
      "metadata": {
        "colab": {
          "base_uri": "https://localhost:8080/"
        },
        "id": "590e2b8e",
        "outputId": "9eb08479-0ef9-4efc-e7ae-1787e381cb53"
      },
      "source": [
        "# OrderNo, PartNo, BendingLines, WeldingPoints, PaintTime, DueDate \n",
        "\n",
        "m_t_steps = max_time(jobs)\n",
        "\n",
        "m_time = m_t_steps * t_step_in_sec\n",
        "    \n",
        "print('The maximal maketime for the given operations is: ' + str(m_time) + ' second(s).\\nWhich is equal to: ' + str(m_t_steps) + ' time steps.\\n\\n')"
      ],
      "id": "590e2b8e",
      "execution_count": 5,
      "outputs": [
        {
          "output_type": "stream",
          "text": [
            "The maximal maketime for the given operations is: 60.0 second(s).\n",
            "Which is equal to: 6.0 time steps.\n",
            "\n",
            "\n"
          ],
          "name": "stdout"
        }
      ]
    },
    {
      "cell_type": "code",
      "metadata": {
        "id": "8d31db6a"
      },
      "source": [
        "def ops(jobs, bend, weld, paint, m_time):\n",
        "    ops = []\n",
        "    for x in jobs:\n",
        "        if x[2] > 0:\n",
        "            punish = x[2] * bend_length\n",
        "            if x[3] > 0:\n",
        "                punish += x[3] * weld_length\n",
        "            if x[4] > 0:\n",
        "                punish += x[4] * paint_length\n",
        "            for m in bend:\n",
        "                t = 0\n",
        "                while t <= m_t_steps - punish:\n",
        "                    ops.append(tuple((x[0], x[1], x[2], m, t)))\n",
        "                    t += t_step\n",
        "                    \n",
        "        if x[3] > 0:\n",
        "            punish = x[3] * weld_length\n",
        "            if x[4] > 0:\n",
        "                punish += x[4] * paint_length\n",
        "            for m in weld:\n",
        "                t = 0\n",
        "                if x[2] > 0:\n",
        "                    t += x[2] * bend_length\n",
        "                while t <= m_t_steps - punish:\n",
        "                    ops.append(tuple((x[0], x[1], x[3], m, t)))\n",
        "                    t += t_step\n",
        "\n",
        "        if x[4] > 0:\n",
        "            punish = x[4] * paint_length\n",
        "            for m in paint:\n",
        "                t = 0\n",
        "                if x[2] > 0:\n",
        "                    t += x[2] * bend_length\n",
        "                if x[3] > 0:\n",
        "                    t += x[3] * weld_length\n",
        "                while t <= m_t_steps - punish:\n",
        "                    ops.append(tuple((x[0], x[1], x[4], m, t)))\n",
        "                    t += t_step\n",
        "        # ops.append(('||||||||||||END OF JOB ' + str(x[0]) + ' OPERATION ' + str(x[1]) + '||||||||||||'))\n",
        "    return ops"
      ],
      "id": "8d31db6a",
      "execution_count": 6,
      "outputs": []
    },
    {
      "cell_type": "code",
      "metadata": {
        "colab": {
          "base_uri": "https://localhost:8080/"
        },
        "id": "ed0e24a4",
        "outputId": "66c0892c-e261-4e1b-c237-3134edb316ca"
      },
      "source": [
        "ops = ops(jobs, bend, weld, paint, m_time)\n",
        "\n",
        "print('Number of combinations: ' + str(len(ops)) + '\\n')\n",
        "\n",
        "print('Possible combiniations:')\n",
        "print('  Format: OrderNo, PartNo, Op, Machine, Time\\n')\n",
        "\n",
        "print(str(ops).replace('[(', '[\\n(').replace(')]', ')\\n]'))"
      ],
      "id": "ed0e24a4",
      "execution_count": 7,
      "outputs": [
        {
          "output_type": "stream",
          "text": [
            "Number of combinations: 4\n",
            "\n",
            "Possible combiniations:\n",
            "  Format: OrderNo, PartNo, Op, Machine, Time\n",
            "\n",
            "[\n",
            "(0, 0, 0.5, 5, 0), (0, 0, 0.5, 5, 3), (1, 0, 0.5, 5, 0), (1, 0, 0.5, 5, 3)\n",
            "]\n"
          ],
          "name": "stdout"
        }
      ]
    },
    {
      "cell_type": "code",
      "metadata": {
        "id": "527c1a3c"
      },
      "source": [
        "np.set_printoptions(threshold=sys.maxsize)\n",
        "QUBO_X = np.zeros((len(ops), len(ops)))\n",
        "np.set_printoptions(suppress=True)"
      ],
      "id": "527c1a3c",
      "execution_count": 8,
      "outputs": []
    },
    {
      "cell_type": "raw",
      "metadata": {
        "id": "099280b3"
      },
      "source": [
        "QUBO_pr = str(QUBO).replace('\\n', '').replace('] [', ']\\n[').replace('[[', '[\\n\n",
        "\n",
        "1.   List item\n",
        "2.   List item\n",
        "\n",
        "[').replace(']]', ']\\n]').replace('.  ', '. ')\n",
        "print(QUBO_pr)"
      ],
      "id": "099280b3"
    },
    {
      "cell_type": "code",
      "metadata": {
        "id": "c770aa53"
      },
      "source": [
        "# verwendet ops! --> als zusätzliches Argument?\n",
        "def get_qubo_heatmap(QUBO, output=\"qubo_matrix.png\"):\n",
        "    \n",
        "    df = pd.DataFrame(QUBO, columns=ops, index = ops)\n",
        "    sns.set_style(\"white\")\n",
        "    mask = np.tril(np.zeros_like(df)).astype(bool)\n",
        "    mask[np.tril_indices_from(mask)] = True\n",
        "\n",
        "    # Keep diagonal elements \n",
        "    mask[np.diag_indices_from(mask)] = False\n",
        "\n",
        "    # Set up the matplotlib figure\n",
        "    f, ax = plt.subplots(figsize=(14, 12))\n",
        "\n",
        "    # Generate a custom diverging colormap in TRUMPF Color 0033BA\n",
        "    cmap = sns.diverging_palette(255, 200, sep=10, as_cmap=True)\n",
        "\n",
        "    # Draw the heatmap with the mask and correct aspect ratio\n",
        "    sns_plot = sns.heatmap(df, mask=mask, cmap=cmap, center=0,\n",
        "            square=True, linewidths=.5, cbar_kws={\"shrink\": .5})\n",
        "    # save to file\n",
        "    fig = sns_plot.get_figure()\n",
        "    fig.savefig(output)"
      ],
      "id": "c770aa53",
      "execution_count": 9,
      "outputs": []
    },
    {
      "cell_type": "code",
      "metadata": {
        "id": "1ee5d12b"
      },
      "source": [
        "# get_qubo_heatmap(QUBO_X)"
      ],
      "id": "1ee5d12b",
      "execution_count": 10,
      "outputs": []
    },
    {
      "cell_type": "code",
      "metadata": {
        "id": "f235d680"
      },
      "source": [
        "def convert(ord, part, op, mach, t):\n",
        "    return ops.index(tuple((ord, part, op, mach, t)))"
      ],
      "id": "f235d680",
      "execution_count": 11,
      "outputs": []
    },
    {
      "cell_type": "code",
      "metadata": {
        "id": "8f8180bb"
      },
      "source": [
        "#Format: OrderNo, PartNo, Op, Machine, Time \n",
        "    \n",
        "def fill_QUBO_with_indexes(QUBO, ord1, part1, op1, mach1, t1, ord2, part2, op2, mach2, t2, value):\n",
        "    index_a = convert(ord1, part1, op1, mach1, t1)\n",
        "    index_b = convert(ord2, part2, op2, mach2, t2)\n",
        "    if index_a > index_b:\n",
        "        index_a, index_b = index_b, index_a\n",
        "    QUBO[index_a, index_b] += value"
      ],
      "id": "8f8180bb",
      "execution_count": 12,
      "outputs": []
    },
    {
      "cell_type": "markdown",
      "metadata": {
        "id": "88c2dce9"
      },
      "source": [
        "Constraint 1 (each operation 'o' of each job 'j' exactly once on one machine 'm' at a certaint (starting-)time 't'):\n",
        "\n",
        "$$\n",
        "H_{0}:=\\sum_{o \\in 0}\\left(\\sum_{m \\in M_{o}} \\sum_{t=0}^{T-1} x_{j, o, m, t}-1\\right)^{2}\n",
        "$$\n"
      ],
      "id": "88c2dce9"
    },
    {
      "cell_type": "code",
      "metadata": {
        "id": "4544e078"
      },
      "source": [
        "alpha = 2"
      ],
      "id": "4544e078",
      "execution_count": 13,
      "outputs": []
    },
    {
      "cell_type": "code",
      "metadata": {
        "id": "e000b12b"
      },
      "source": [
        "# H0: Mehrmaliges Abarbeiten der selben Operation eines Bauteils eines Jobs bestrafen\n",
        "'ops: OrderNo, PartNo, OpNum, Machine, Time'\n",
        "\n",
        "for tupel1 in ops:\n",
        "    for tupel2 in ops:\n",
        "        if (tupel1[0] == tupel2[0]) and (tupel1[1] == tupel2[1]): #gleiches Bauteil\n",
        "            if tupel1[3] < min(weld) and tupel2[3] < min(weld): #gleiche op-Art check\n",
        "                if tupel1[3] != tupel2[3] or tupel1[4] != tupel2[4]:\n",
        "                    fill_QUBO_with_indexes(QUBO_X, *tupel1, *tupel2, 2*alpha)\n",
        "                else:\n",
        "                    fill_QUBO_with_indexes(QUBO_X, *tupel1, *tupel2, -alpha)\n",
        "            elif tupel1[3] > max(bend) and tupel2[3] > max(bend) and tupel1[3] < min(paint) and tupel2[3] < min(paint):\n",
        "                if tupel1[3] != tupel2[3] or tupel1[4] != tupel2[4]: #gleiche op-Art check\n",
        "                    fill_QUBO_with_indexes(QUBO_X, *tupel1, *tupel2, 2*alpha)\n",
        "                else:\n",
        "                    fill_QUBO_with_indexes(QUBO_X, *tupel1, *tupel2, -alpha)\n",
        "            elif tupel1[3] > max(weld) and tupel2[3] > max(weld) and tupel1[3] <= max(paint) and tupel2[3] <= max(paint): #gleiche op-Art check\n",
        "                if tupel1[3] != tupel2[3] or tupel1[4] != tupel2[4]:\n",
        "                    fill_QUBO_with_indexes(QUBO_X, *tupel1, *tupel2, 2*alpha)\n",
        "                else:\n",
        "                    fill_QUBO_with_indexes(QUBO_X, *tupel1, *tupel2, -alpha)"
      ],
      "id": "e000b12b",
      "execution_count": 14,
      "outputs": []
    },
    {
      "cell_type": "raw",
      "metadata": {
        "id": "3a4d88bb"
      },
      "source": [
        "QUBO_pr = str(QUBO).replace('\\n', '').replace('] [', ']\\n[').replace('[[', '[\\n[').replace(']]', ']\\n]').replace('. ', '.').replace('.  ', '. ').replace('[ ', '[').replace(' -', '-')\n",
        "print(QUBO_pr)"
      ],
      "id": "3a4d88bb"
    },
    {
      "cell_type": "code",
      "metadata": {
        "id": "6867b7ef"
      },
      "source": [
        "# get_qubo_heatmap(QUBO_X)"
      ],
      "id": "6867b7ef",
      "execution_count": 15,
      "outputs": []
    },
    {
      "cell_type": "markdown",
      "metadata": {
        "id": "6e2942b7"
      },
      "source": [
        "Secondly, for every job $j \\in J$, its operations $O_j$ must be executed in the order given by \n",
        "\n",
        "<br /><br />\n",
        "$$\n",
        "\\left.c\\right|_{o_{j}}: O_{j} \\rightarrow\\left\\{1, \\ldots, n_{j}\\right\\}\n",
        "$$\n",
        "<br />\n",
        "$$H_{1}:=\\sum_{j \\in J}\\left(\\sum_{k_{n-1}<i<k_{n}, t+p_{i} > t'} x_{i, t}x_{i+1, t'}\\right)$$\n"
      ],
      "id": "6e2942b7"
    },
    {
      "cell_type": "code",
      "metadata": {
        "id": "0a8fdd9d"
      },
      "source": [
        "beta = 1.5"
      ],
      "id": "0a8fdd9d",
      "execution_count": 16,
      "outputs": []
    },
    {
      "cell_type": "code",
      "metadata": {
        "id": "2d45f494"
      },
      "source": [
        "# H1 verbotene Reihenfolgen innerhalb eines Bauteils eines Jobs bestrafen\n",
        "'ops: OrderNo, PartNo, OpNum, Machine, Time'\n",
        "\n",
        "for tupel1 in ops:\n",
        "    if tupel1[3] < min(paint):\n",
        "        if tupel1[3] < min(weld):\n",
        "            dom = bend_length * tupel1[2]\n",
        "        else:\n",
        "            dom = weld_length * tupel1[2]\n",
        "        for tupel2 in ops:\n",
        "            if (tupel1[0] == tupel2[0]) and (tupel1[1] == tupel2[1]):\n",
        "                if (tupel1[3] <= max(bend) and tupel2[3] > max(bend) and (tupel1[4] + dom) > tupel2[4] or tupel1[3] > max(bend) and tupel1[3] < min(paint) and tupel2[3] >= min(paint) and (tupel1[4] + dom) > tupel2[4]):\n",
        "                    fill_QUBO_with_indexes(QUBO_X, *tupel1, *tupel2, beta)"
      ],
      "id": "2d45f494",
      "execution_count": 17,
      "outputs": []
    },
    {
      "cell_type": "raw",
      "metadata": {
        "id": "3a27e415"
      },
      "source": [
        "QUBO_pr = str(QUBO).replace('\\n', '').replace('] [', ']\\n[').replace('[[', '[\\n[').replace(']]', ']\\n]').replace('. ', '.').replace('.  ', '. ').replace('[ ', '[').replace(' -', '-')\n",
        "print(QUBO_pr)"
      ],
      "id": "3a27e415"
    },
    {
      "cell_type": "code",
      "metadata": {
        "id": "e8897f43"
      },
      "source": [
        "# get_qubo_heatmap(QUBO_X)"
      ],
      "id": "e8897f43",
      "execution_count": 18,
      "outputs": []
    },
    {
      "cell_type": "code",
      "metadata": {
        "id": "e2853355"
      },
      "source": [
        "gamma = 2"
      ],
      "id": "e2853355",
      "execution_count": 19,
      "outputs": []
    },
    {
      "cell_type": "code",
      "metadata": {
        "id": "d07f2972"
      },
      "source": [
        "# H2 Geichzeitiges Laufen zweier verschiedener Operationen auf der selben M\n",
        "'ops: OrderNo, PartNo, OpNum, Machine, Time'\n",
        "\n",
        "for tupel1 in ops:\n",
        "    if tupel1[3] < min(weld):\n",
        "        dom = bend_length * tupel1[2]\n",
        "    elif tupel1[3] < min(paint):\n",
        "        dom = weld_length * tupel1[2]\n",
        "    else:\n",
        "        dom = paint_length * tupel1[2]\n",
        "    for tupel2 in ops:\n",
        "        if ((tupel1[0] != tupel2[0] or tupel1[1] != tupel2[1]) and tupel1[3] == tupel2[3] and tupel2[4] >= tupel1[4] and tupel2[4] < tupel1[4] + dom):\n",
        "            fill_QUBO_with_indexes(QUBO_X, *tupel1, *tupel2, gamma)"
      ],
      "id": "d07f2972",
      "execution_count": 20,
      "outputs": []
    },
    {
      "cell_type": "raw",
      "metadata": {
        "id": "2b3f52b2"
      },
      "source": [
        "QUBO_pr = str(QUBO).replace('\\n', '').replace('] [', ']\\n[').replace('[[', '[\\n[').replace(']]', ']\\n]').replace('. ', '.').replace('.  ', '. ').replace('[ ', '[').replace(' -', '-')\n",
        "print(QUBO_pr)"
      ],
      "id": "2b3f52b2"
    },
    {
      "cell_type": "code",
      "metadata": {
        "id": "268e8456"
      },
      "source": [
        "# get_qubo_heatmap(QUBO_X) "
      ],
      "id": "268e8456",
      "execution_count": 21,
      "outputs": []
    },
    {
      "cell_type": "code",
      "metadata": {
        "id": "86c2f14d"
      },
      "source": [
        "delta = 0.035"
      ],
      "id": "86c2f14d",
      "execution_count": 22,
      "outputs": []
    },
    {
      "cell_type": "code",
      "metadata": {
        "id": "9986307a"
      },
      "source": [
        "# K Bestrafung für Verspätung\n",
        "'ops: OrderNo, PartNo, OpNum, Machine, Time'\n",
        "'jobs: OrderNo, PartNo, BendingLines, WeldingPoints, PaintTime, DueDate'\n",
        "     \n",
        "c = 0\n",
        "while c < len(jobs):\n",
        "    t1 = 0\n",
        "    while t1 < len(ops):\n",
        "        if jobs[c][0] == ops[t1][0]:\n",
        "            tail = 0\n",
        "            if ops[t1][3] < min(weld): # op is bend\n",
        "                dom = bend_length * ops[t1][2]\n",
        "                if jobs[c][3] > 0: # has weld op\n",
        "                    tail += jobs[c][3] * weld_length\n",
        "                if jobs[c][4] > 0: # has paint op\n",
        "                    tail += jobs[c][4] * paint_length\n",
        "            elif ops[t1][3] < min(paint): # op is weld\n",
        "                dom = weld_length * ops[t1][2]\n",
        "                if jobs[c][4] > 0: # has paint op\n",
        "                    tail += jobs[c][4] * paint_length\n",
        "            else:\n",
        "                dom = paint_length * ops[t1][2]\n",
        "            if ops[t1][4] + dom + tail > jobs[c][5] * 6:\n",
        "                fill_QUBO_with_indexes(QUBO_X, *ops[t1], *ops[t1], delta)\n",
        "            # else:\n",
        "                # fill_QUBO_with_indexes(QUBO, *ops[t1], *ops[t1], -delta)\n",
        "        t1 += 1\n",
        "    c += 1"
      ],
      "id": "9986307a",
      "execution_count": 23,
      "outputs": []
    },
    {
      "cell_type": "raw",
      "metadata": {
        "id": "56f93101"
      },
      "source": [
        "QUBO_pr = str(QUBO).replace('\\n', '').replace('] [', ']\\n[').replace('[[', '[\\n[').replace(']]', ']\\n]').replace('. ', '.').replace('.  ', '. ').replace('[ ', '[').replace(' -', '-')\n",
        "print(QUBO_pr)"
      ],
      "id": "56f93101"
    },
    {
      "cell_type": "code",
      "metadata": {
        "colab": {
          "base_uri": "https://localhost:8080/",
          "height": 673
        },
        "id": "b130c740",
        "outputId": "93593d73-3b74-4fa7-f787-0f2baa375984"
      },
      "source": [
        "get_qubo_heatmap(QUBO_X) "
      ],
      "id": "b130c740",
      "execution_count": 24,
      "outputs": [
        {
          "output_type": "display_data",
          "data": {
            "image/png": "[encoded data removed]",
            "text/plain": [
              "<Figure size 1008x864 with 2 Axes>"
            ]
          },
          "metadata": {
            "tags": []
          }
        }
      ]
    },
    {
      "cell_type": "code",
      "metadata": {
        "id": "38af28a8"
      },
      "source": [
        "def simplify_qubo(qubo):\n",
        "    qi = 0\n",
        "    while qi < len(ops):\n",
        "      qj = qi\n",
        "      while qj < len(ops):\n",
        "          if qubo[qi, qj] >= -1 and qubo[qi, qj] <= 1:\n",
        "              qubo[qi, qj] -= np.int64(4)\n",
        "          qj += 1\n",
        "      qi += 1"
      ],
      "id": "38af28a8",
      "execution_count": 25,
      "outputs": []
    },
    {
      "cell_type": "code",
      "metadata": {
        "id": "2c6f64cd"
      },
      "source": [
        "# QUBO_X = simplify_qubo(QUBO_X)"
      ],
      "id": "2c6f64cd",
      "execution_count": 26,
      "outputs": []
    },
    {
      "cell_type": "code",
      "metadata": {
        "id": "e13597b1"
      },
      "source": [
        "# get_qubo_heatmap(QUBO_X) "
      ],
      "id": "e13597b1",
      "execution_count": 27,
      "outputs": []
    },
    {
      "cell_type": "code",
      "metadata": {
        "colab": {
          "base_uri": "https://localhost:8080/"
        },
        "id": "1b73db70",
        "outputId": "0a910e38-7556-480c-f118-9595d0389565"
      },
      "source": [
        "qubo_d = {}\n",
        "x1 = 0\n",
        "while x1 < len(ops):\n",
        "    x2 = x1\n",
        "    while x2 < len(ops):\n",
        "        qubo_d[(x1, x2)] = int(QUBO_X[x1][x2])\n",
        "        x2 += 1\n",
        "    x1 += 1\n",
        "    \n",
        "print(qubo_d)"
      ],
      "id": "1b73db70",
      "execution_count": 28,
      "outputs": [
        {
          "output_type": "stream",
          "text": [
            "{(0, 0): -2, (0, 1): 8, (0, 2): 4, (0, 3): 0, (1, 1): -1, (1, 2): 0, (1, 3): 4, (2, 2): -2, (2, 3): 8, (3, 3): -2}\n"
          ],
          "name": "stdout"
        }
      ]
    },
    {
      "cell_type": "code",
      "metadata": {
        "id": "c3ff820c"
      },
      "source": [
        ""
      ],
      "id": "c3ff820c",
      "execution_count": 28,
      "outputs": []
    },
    {
      "cell_type": "code",
      "metadata": {
        "colab": {
          "base_uri": "https://localhost:8080/"
        },
        "id": "bd6dae77",
        "outputId": "94e757f3-7c32-4929-85bd-7c31360b5dfb"
      },
      "source": [
        "# solve and print first result\n",
        "result = QBSolv().sample_qubo(qubo_d)\n",
        "print(result)\n",
        "result = [result.samples()[0][x] for x in result.samples()[0]]\n",
        "schedule = []\n",
        "for i in range(len(result)):\n",
        "    if result[i] == 1:\n",
        "        schedule.append(ops[i])\n",
        "df_schedule=pd.DataFrame(schedule)\n",
        "df_schedule.columns = [\"OrderNo\", \"PartNo\", \"Op\", \"Task\", \"Time\"]"
      ],
      "id": "bd6dae77",
      "execution_count": 29,
      "outputs": [
        {
          "output_type": "stream",
          "text": [
            "   0  1  2  3 energy num_oc.\n",
            "0  1  0  0  1   -4.0      51\n",
            "['BINARY', 1 rows, 51 samples, 4 variables]\n"
          ],
          "name": "stdout"
        }
      ]
    },
    {
      "cell_type": "raw",
      "metadata": {
        "id": "0b7f0eb3"
      },
      "source": [
        ""
      ],
      "id": "0b7f0eb3"
    },
    {
      "cell_type": "code",
      "metadata": {
        "id": "d0ba2e97"
      },
      "source": [
        "def make_symmetric(matrix):\n",
        "    \"\"\" Takes a quadratic matrix and makes it symmetric \"\"\"\n",
        "    result = copy.deepcopy(matrix) # technically unnecessary\n",
        "    for i in range(len(result)):\n",
        "        for j in range(len(result[i])):\n",
        "            if(i != j):\n",
        "                if (result[i][j] != 0):\n",
        "                    if (result[j][i] == 0):\n",
        "                        result[j][i] = result[i][j] / 2\n",
        "                        result[i][j] = result[j][i]\n",
        "    return result\n",
        "q_QUBO_X = make_symmetric(QUBO_X)"
      ],
      "id": "d0ba2e97",
      "execution_count": 30,
      "outputs": []
    },
    {
      "cell_type": "code",
      "metadata": {
        "colab": {
          "base_uri": "https://localhost:8080/"
        },
        "id": "44ce671e",
        "outputId": "ff562232-2dc1-47ff-fd87-80ee8f5d861b"
      },
      "source": [
        "isingX = dimod.qubo_to_ising(qubo_d, 0)\n",
        "print(isingX)\n",
        "(linear, quadratic, _) = isingX\n",
        "print(\"\\n\")\n",
        "print(linear)\n",
        "print(\"\\n\")\n",
        "print(quadratic)"
      ],
      "id": "44ce671e",
      "execution_count": 31,
      "outputs": [
        {
          "output_type": "stream",
          "text": [
            "({0: 2.0, 1: 2.5, 2: 2.0, 3: 2.0}, {(0, 1): 2.0, (0, 2): 1.0, (1, 3): 1.0, (2, 3): 2.0}, 2.5)\n",
            "\n",
            "\n",
            "{0: 2.0, 1: 2.5, 2: 2.0, 3: 2.0}\n",
            "\n",
            "\n",
            "{(0, 1): 2.0, (0, 2): 1.0, (1, 3): 1.0, (2, 3): 2.0}\n"
          ],
          "name": "stdout"
        }
      ]
    },
    {
      "cell_type": "code",
      "metadata": {
        "id": "be0016bc"
      },
      "source": [
        "n_qubits = len(ops)\n",
        "wires = range(n_qubits)\n",
        "depthX = 2"
      ],
      "id": "be0016bc",
      "execution_count": 32,
      "outputs": []
    },
    {
      "cell_type": "raw",
      "metadata": {
        "id": "3d9664b9"
      },
      "source": [
        "s3 = (\"amazon-braket-1a7ac1e84178\", \"TRUMPF\")\n",
        "device_arn = \"arn:aws:braket:::device/quantum-simulator/amazon/sv1\"\n",
        "dev = qml.device(\"braket.aws.qubit\", device_arn=device_arn, s3_destination_folder=s3, wires=wires, parallel=True, max_parallel=20, poll_timeout_seconds=30, shots=1000)"
      ],
      "id": "3d9664b9"
    },
    {
      "cell_type": "code",
      "metadata": {
        "id": "b8e0bba4"
      },
      "source": [
        "dev = qml.device(\"qiskit.aer\", wires=wires)"
      ],
      "id": "b8e0bba4",
      "execution_count": 33,
      "outputs": []
    },
    {
      "cell_type": "code",
      "metadata": {
        "colab": {
          "base_uri": "https://localhost:8080/"
        },
        "id": "57a3ce0e",
        "outputId": "6fd5a45d-a786-4a7c-956b-9a7f4641f78f"
      },
      "source": [
        "linear_coefficents = [linear[i] for i in range(n_qubits) if i in linear]\n",
        "\n",
        "linear_gates = [qml.PauliZ(i) for i in range(n_qubits) if i in linear]\n",
        "\n",
        "quadratic_coefficents = [quadratic[(i, j)] for i in range(n_qubits) for j in range(n_qubits) if (i, j) in quadratic]\n",
        "quadratic_gates = [qml.PauliZ(i) @ qml.PauliZ(j) for i in range(n_qubits) for j in range(n_qubits) if\n",
        "                       (i, j) in quadratic]\n",
        "\n",
        "coefficents = linear_coefficents + quadratic_coefficents\n",
        "gates = linear_gates + quadratic_gates\n",
        "\n",
        "cost_h = qml.Hamiltonian(coefficents, gates)\n",
        "print(cost_h)"
      ],
      "id": "57a3ce0e",
      "execution_count": 34,
      "outputs": [
        {
          "output_type": "stream",
          "text": [
            "  (2.0) [Z0]\n",
            "+ (2.0) [Z2]\n",
            "+ (2.0) [Z3]\n",
            "+ (2.5) [Z1]\n",
            "+ (1.0) [Z0 Z2]\n",
            "+ (1.0) [Z1 Z3]\n",
            "+ (2.0) [Z0 Z1]\n",
            "+ (2.0) [Z2 Z3]\n"
          ],
          "name": "stdout"
        }
      ]
    },
    {
      "cell_type": "code",
      "metadata": {
        "colab": {
          "base_uri": "https://localhost:8080/"
        },
        "id": "6f771744",
        "outputId": "e159af21-1359-44f8-9906-72c8ea00059b"
      },
      "source": [
        "mixer_h = qaoa.x_mixer(0)\n",
        "for i in range(n_qubits - 1):\n",
        "    mixer_h += qaoa.x_mixer(i + 1)\n",
        "print(mixer_h)"
      ],
      "id": "6f771744",
      "execution_count": 35,
      "outputs": [
        {
          "output_type": "stream",
          "text": [
            "  (1) [X0]\n",
            "+ (1) [X1]\n",
            "+ (1) [X2]\n",
            "+ (1) [X3]\n"
          ],
          "name": "stdout"
        }
      ]
    },
    {
      "cell_type": "code",
      "metadata": {
        "id": "cf3fa5f0"
      },
      "source": [
        "def qaoa_layer(gamma, alpha):\n",
        "    qaoa.cost_layer(gamma, cost_h)\n",
        "    qaoa.mixer_layer(alpha, mixer_h)"
      ],
      "id": "cf3fa5f0",
      "execution_count": 36,
      "outputs": []
    },
    {
      "cell_type": "code",
      "metadata": {
        "id": "b27e4a33"
      },
      "source": [
        "def circuit(params, **kwargs):\n",
        "    for w in wires:\n",
        "        qml.Hadamard(wires=w)\n",
        "    qml.layer(qaoa_layer, depthX, params[0], params[1])"
      ],
      "id": "b27e4a33",
      "execution_count": 37,
      "outputs": []
    },
    {
      "cell_type": "code",
      "metadata": {
        "id": "0e379c48"
      },
      "source": [
        "cost_function = qml.ExpvalCost(circuit, cost_h, dev, optimize=True)"
      ],
      "id": "0e379c48",
      "execution_count": 38,
      "outputs": []
    },
    {
      "cell_type": "code",
      "metadata": {
        "id": "0216f366-1f48-46ce-8614-c19bba924095"
      },
      "source": [
        "optimizer = qml.AdamOptimizer() # qml.GradientDescentOptimizer() # qml.AdamOptimizer() # qml.AdagradOptimizer()"
      ],
      "id": "0216f366-1f48-46ce-8614-c19bba924095",
      "execution_count": 39,
      "outputs": []
    },
    {
      "cell_type": "code",
      "metadata": {
        "id": "237e2446",
        "colab": {
          "base_uri": "https://localhost:8080/"
        },
        "outputId": "ba6a8a4c-6e7c-4916-9015-9ce7b6c99d95"
      },
      "source": [
        "params = [[1.5346444645333537, 1.5932816845526026], [1.5451015974465807, 1.025692645307958]] #[[0.5, 0.5], [0.5, 0.5]] #pre-optimized parameters\n",
        "\n",
        "print(\"Start parameters: \", params)"
      ],
      "id": "237e2446",
      "execution_count": 40,
      "outputs": [
        {
          "output_type": "stream",
          "text": [
            "Start parameters:  [[1.5346444645333537, 1.5932816845526026], [1.5451015974465807, 1.025692645307958]]\n"
          ],
          "name": "stdout"
        }
      ]
    },
    {
      "cell_type": "code",
      "metadata": {
        "colab": {
          "base_uri": "https://localhost:8080/"
        },
        "id": "0d6c0c58-1fb4-41ab-8172-d5fdb4e1351f",
        "outputId": "28c058a7-bf09-4185-8b32-12721f91e1d0"
      },
      "source": [
        "optimizerType = type(optimizer).__name__\n",
        "path = os.getcwd()\n",
        "print(path)\n",
        "savestring = path + f\"\\{optimizerType}_{depthX}_{steps}_{params}\"\n",
        "print(savestring)"
      ],
      "id": "0d6c0c58-1fb4-41ab-8172-d5fdb4e1351f",
      "execution_count": 41,
      "outputs": [
        {
          "output_type": "stream",
          "text": [
            "/content\n",
            "/content\\AdamOptimizer_2_5_[[1.5346444645333537, 1.5932816845526026], [1.5451015974465807, 1.025692645307958]]\n"
          ],
          "name": "stdout"
        }
      ]
    },
    {
      "cell_type": "code",
      "metadata": {
        "colab": {
          "base_uri": "https://localhost:8080/"
        },
        "id": "79ee4439",
        "outputId": "c3908360-ee70-4aa2-ca16-a32a4ec1051f"
      },
      "source": [
        "for i in progressbar.progressbar(range(steps), redirect_stdout=True):\n",
        "    params = optimizer.step(cost_function, params)\n",
        "    print(' | New parameters:', params)\n",
        "    print(\"\\n\", dev.num_executions)\n",
        "    f = open(savestring + \"paramsQuicksaveRigetti.txt\", 'a+')\n",
        "    f.write(\"parameter quicksave stepnumber \" + str(i) + \": \" + str(params) + \"\\n\\n\")\n",
        "    f.close()\n",
        "\n",
        "print(\"\\n\")\n",
        "print(\"Optimal parameters: \", params)"
      ],
      "id": "79ee4439",
      "execution_count": 42,
      "outputs": [
        {
          "output_type": "stream",
          "text": [
            "N/A% (0 of 5) |                          | Elapsed Time: 0:00:03 ETA:  --:--:--"
          ],
          "name": "stderr"
        },
        {
          "output_type": "stream",
          "text": [
            " | New parameters: [[1.5446444645316066, 1.5832816845565694], [1.5551015973832536, 1.0356926452644575]]\n"
          ],
          "name": "stdout"
        },
        {
          "output_type": "stream",
          "text": [
            "\r                                                                               \r\r 20% (1 of 5) |#####                     | Elapsed Time: 0:00:06 ETA:   0:00:12"
          ],
          "name": "stderr"
        },
        {
          "output_type": "stream",
          "text": [
            "\n",
            " 49\n",
            " | New parameters: [[1.5520342079616143, 1.5759978137117538], [1.5630042994422604, 1.0428412696603282]]\n"
          ],
          "name": "stdout"
        },
        {
          "output_type": "stream",
          "text": [
            "\r                                                                               \r\r 40% (2 of 5) |##########                | Elapsed Time: 0:00:10 ETA:   0:00:10"
          ],
          "name": "stderr"
        },
        {
          "output_type": "stream",
          "text": [
            "\n",
            " 98\n",
            " | New parameters: [[1.5583236749917893, 1.5698984189182976], [1.5700612643650398, 1.04856891118642]]\n"
          ],
          "name": "stdout"
        },
        {
          "output_type": "stream",
          "text": [
            "\r                                                                               \r\r 60% (3 of 5) |###############           | Elapsed Time: 0:00:13 ETA:   0:00:06"
          ],
          "name": "stderr"
        },
        {
          "output_type": "stream",
          "text": [
            "\n",
            " 147\n",
            " | New parameters: [[1.563961550385332, 1.5645947214372007], [1.576815311565222, 1.0534425071192355]]\n"
          ],
          "name": "stdout"
        },
        {
          "output_type": "stream",
          "text": [
            "100% (5 of 5) |##########################| Elapsed Time: 0:00:16 Time:  0:00:16\n"
          ],
          "name": "stderr"
        },
        {
          "output_type": "stream",
          "text": [
            "\n",
            " 196\n",
            " | New parameters: [[1.5691883976047665, 1.5598123305311187], [1.583543193910548, 1.057674420645821]]\n",
            "\n",
            " 245\n",
            "\n",
            "\n",
            "Optimal parameters:  [[1.5691883976047665, 1.5598123305311187], [1.583543193910548, 1.057674420645821]]\n"
          ],
          "name": "stdout"
        }
      ]
    },
    {
      "cell_type": "code",
      "metadata": {
        "id": "ea7bb637"
      },
      "source": [
        "@qml.qnode(dev)\n",
        "def probability_circuit(gamma, alpha):\n",
        "    circuit([gamma, alpha])\n",
        "    return qml.probs(wires=wires)\n",
        "\n",
        "\n",
        "probs = probability_circuit(params[0], params[1])"
      ],
      "id": "ea7bb637",
      "execution_count": 43,
      "outputs": []
    },
    {
      "cell_type": "code",
      "metadata": {
        "colab": {
          "base_uri": "https://localhost:8080/",
          "height": 346
        },
        "id": "13d5cde3",
        "outputId": "67058efc-fa91-4eec-9bfe-b2ec5b01ef65"
      },
      "source": [
        "plt.style.use(\"seaborn\")\n",
        "plt.bar(range(2 ** len(wires)), probs)\n",
        "plt.savefig(savestring + \".png\")\n",
        "plt.show()"
      ],
      "id": "13d5cde3",
      "execution_count": 44,
      "outputs": [
        {
          "output_type": "display_data",
          "data": {
            "image/png": "[encoded data removed]",
            "text/plain": [
              "<Figure size 576x396 with 1 Axes>"
            ]
          },
          "metadata": {
            "tags": []
          }
        }
      ]
    },
    {
      "cell_type": "code",
      "metadata": {
        "id": "ee577541-d3c7-46b3-9019-72e5ff3fa197"
      },
      "source": [
        "file = open(savestring + \"resultsRigetti.txt\", 'a+')\n",
        "file.write(str(probs)\n",
        "    + \"\\n\"\n",
        "    + \"\\n used jobs: \" + str(jobs)\n",
        "    + \"\\n timesteps: \" + str(t_step)\n",
        "    + \"\\n one timestep in seconds: \" + str(t_step_in_sec)\n",
        "    + \"\\n optimal parameters: \" + str(params)\n",
        "    + \"\\n optimizer: \" + optimizerType\n",
        "    + \"\\n executions/Zugriffe: \" + str(dev.num_executions)\n",
        "    + \"\\n\"\n",
        "    + \"\\nbackend: \" + str(dev))\n",
        "file.close()"
      ],
      "id": "ee577541-d3c7-46b3-9019-72e5ff3fa197",
      "execution_count": 45,
      "outputs": []
    },
    {
      "cell_type": "code",
      "metadata": {
        "id": "569253a3-7ab8-4125-8efb-e9a70083f195"
      },
      "source": [
        "paramsO = [[1.5346444645333537, 1.5932816845526026], [1.5451015974465807, 1.025692645307958]]\n",
        "probsO = probability_circuit(paramsO[0], paramsO[1])"
      ],
      "id": "569253a3-7ab8-4125-8efb-e9a70083f195",
      "execution_count": 46,
      "outputs": []
    },
    {
      "cell_type": "code",
      "metadata": {
        "colab": {
          "base_uri": "https://localhost:8080/",
          "height": 346
        },
        "id": "ef3ac950-2471-4e33-8cca-337edf56b4eb",
        "outputId": "42ed42a7-69e6-4900-a1f4-2fbc53748d56"
      },
      "source": [
        "plt.style.use(\"seaborn\")\n",
        "plt.bar(range(2 ** len(wires)), probsO)\n",
        "plt.savefig(savestring + \"O.png\")\n",
        "plt.show()"
      ],
      "id": "ef3ac950-2471-4e33-8cca-337edf56b4eb",
      "execution_count": 47,
      "outputs": [
        {
          "output_type": "display_data",
          "data": {
            "image/png": "[encoded data removed]",
            "text/plain": [
              "<Figure size 576x396 with 1 Axes>"
            ]
          },
          "metadata": {
            "tags": []
          }
        }
      ]
    },
    {
      "cell_type": "code",
      "metadata": {
        "id": "564b81b2"
      },
      "source": [
        "file = open(savestring + \"resultsRigettiO.txt\", 'a+')\n",
        "file.write(str(probs)\n",
        "    + \"\\n\"\n",
        "    + \"\\n used jobs: \" + str(jobs)\n",
        "    + \"\\n timesteps: \" + str(t_step)\n",
        "    + \"\\n one timestep in seconds: \" + str(t_step_in_sec)\n",
        "    + \"\\n optimal parameters: \" + str(paramsO)\n",
        "    + \"\\n optimizer: \" + optimizerType\n",
        "    + \"\\n executions/Zugriffe: \" + str(dev.num_executions)\n",
        "    + \"\\n\"\n",
        "    + \"\\nbackend: \" + str(dev))\n",
        "file.close()"
      ],
      "id": "564b81b2",
      "execution_count": 48,
      "outputs": []
    },
    {
      "cell_type": "code",
      "metadata": {
        "id": "d91b1dd5-7788-427f-a75b-e59bdab920e8"
      },
      "source": [
        "cDrawer = qml.draw(probability_circuit, show_all_wires=True)"
      ],
      "id": "d91b1dd5-7788-427f-a75b-e59bdab920e8",
      "execution_count": 49,
      "outputs": []
    },
    {
      "cell_type": "code",
      "metadata": {
        "id": "80c9ae24",
        "colab": {
          "base_uri": "https://localhost:8080/"
        },
        "outputId": "6258051c-5e93-49ca-d44a-cc7e0ba888c0"
      },
      "source": [
        "print(cDrawer(params[0], params[1]))"
      ],
      "id": "80c9ae24",
      "execution_count": 50,
      "outputs": [
        {
          "output_type": "stream",
          "text": [
            " 0: ──H──RZ(6.28)──╭X──RZ(6.28)──╭X──────╭X──RZ(3.14)──────╭X───H──RZ(3.17)───H──RZ(6.24)──╭X─────────RZ(6.24)──╭X─────────────╭X──RZ(3.12)──────╭X───H──RZ(2.12)───H──────────────────╭┤ Probs \n",
            " 1: ──H──RZ(7.85)──╰C────────────╰C──╭X──│───RZ(3.14)──╭X──│────H──RZ(3.17)───H──RZ(7.8)───╰C───────────────────╰C─────────╭X──│───RZ(3.12)──╭X──│────H──RZ(2.12)───H──────────────────├┤ Probs \n",
            " 2: ──H──RZ(6.28)────────────────────│───╰C────────────│───╰C──╭X──RZ(6.28)──╭X──H──────────RZ(3.17)──H──────────RZ(6.24)──│───╰C────────────│───╰C──╭X──RZ(6.24)──╭X──H──RZ(2.12)──H──├┤ Probs \n",
            " 3: ──H──RZ(6.28)────────────────────╰C────────────────╰C──────╰C────────────╰C──H──────────RZ(3.17)──H──────────RZ(6.24)──╰C────────────────╰C──────╰C────────────╰C──H──RZ(2.12)──H──╰┤ Probs \n",
            "\n"
          ],
          "name": "stdout"
        }
      ]
    },
    {
      "cell_type": "code",
      "metadata": {
        "colab": {
          "base_uri": "https://localhost:8080/",
          "height": 548
        },
        "id": "7ZrLarw2X8oR",
        "outputId": "d442a849-af60-40bc-ace1-b0d03d2fb0c4"
      },
      "source": [
        "dev._circuit.draw(output=\"mpl\")"
      ],
      "id": "7ZrLarw2X8oR",
      "execution_count": 51,
      "outputs": [
        {
          "output_type": "execute_result",
          "data": {
            "image/png": "[encoded data removed]",
            "text/plain": [
              "<Figure size 1591.6x686.28 with 1 Axes>"
            ]
          },
          "metadata": {
            "tags": []
          },
          "execution_count": 51
        }
      ]
    },
    {
      "cell_type": "code",
      "metadata": {
        "id": "R1SggKokCX3-"
      },
      "source": [
        "def mBS(probs):\n",
        "    probsA = probs.tolist()\n",
        "    maxV = max(probsA)\n",
        "    maxVInd = probsA.index(maxV)\n",
        "    print(maxVInd)\n",
        "    solBS = \"\"\n",
        "    c = len(ops)-1\n",
        "    while(c>=0):\n",
        "      if maxVInd>=2**c:\n",
        "        solBS+=str(1)\n",
        "        maxVInd-=2**c\n",
        "      else:\n",
        "        solBS+=str(0)\n",
        "      c-=1\n",
        "    return solBS"
      ],
      "id": "R1SggKokCX3-",
      "execution_count": 52,
      "outputs": []
    },
    {
      "cell_type": "code",
      "metadata": {
        "id": "b170000e",
        "colab": {
          "base_uri": "https://localhost:8080/"
        },
        "outputId": "77f72886-72aa-431c-b762-b663d2b56016"
      },
      "source": [
        "maxBitStr = mBS(probs)\n",
        "print(maxBitStr)"
      ],
      "id": "b170000e",
      "execution_count": 53,
      "outputs": [
        {
          "output_type": "stream",
          "text": [
            "7\n",
            "0111\n"
          ],
          "name": "stdout"
        }
      ]
    },
    {
      "cell_type": "code",
      "metadata": {
        "id": "-j60kKlq8gYf"
      },
      "source": [
        ""
      ],
      "id": "-j60kKlq8gYf",
      "execution_count": 53,
      "outputs": []
    },
    {
      "cell_type": "code",
      "metadata": {
        "id": "8fpV4bzZ33HF"
      },
      "source": [
        ""
      ],
      "id": "8fpV4bzZ33HF",
      "execution_count": 53,
      "outputs": []
    },
    {
      "cell_type": "code",
      "metadata": {
        "id": "l5K7EZFQ33g4"
      },
      "source": [
        ""
      ],
      "id": "l5K7EZFQ33g4",
      "execution_count": 53,
      "outputs": []
    },
    {
      "cell_type": "code",
      "metadata": {
        "id": "005541cd"
      },
      "source": [
        ""
      ],
      "id": "005541cd",
      "execution_count": 53,
      "outputs": []
    },
    {
      "cell_type": "code",
      "metadata": {
        "colab": {
          "base_uri": "https://localhost:8080/"
        },
        "id": "d46bc07a",
        "scrolled": true,
        "outputId": "582da9a6-799d-496c-cf38-14a1eeca67be"
      },
      "source": [
        "whos"
      ],
      "id": "d46bc07a",
      "execution_count": 54,
      "outputs": [
        {
          "output_type": "stream",
          "text": [
            "Variable                 Type              Data/Info\n",
            "----------------------------------------------------\n",
            "QBSolv                   SamplerABCMeta    <class 'dwave_qbsolv.dimod_wrapper.QBSolv'>\n",
            "QUBO_X                   ndarray           4x4: 16 elems, type `float64`, 128 bytes\n",
            "alpha                    int               2\n",
            "bend                     list              n=3\n",
            "bend_length              int               2\n",
            "beta                     float             1.5\n",
            "c                        int               2\n",
            "cDrawer                  function          <function probability_circuit at 0x7f813eb8be60>\n",
            "circuit                  function          <function circuit at 0x7f81401b2680>\n",
            "coefficents              list              n=8\n",
            "convert                  function          <function convert at 0x7f8144d13b00>\n",
            "copy                     module            <module 'copy' from '/usr/lib/python3.7/copy.py'>\n",
            "cost_function            ExpvalCost        <pennylane.vqe.vqe.Expval<...>object at 0x7f8144d145d0>\n",
            "cost_h                   Hamiltonian         (2.0) [Z0]\\n+ (2.0) [Z2<...> [Z0 Z1]\\n+ (2.0) [Z2 Z3]\n",
            "delta                    float             0.035\n",
            "depthX                   int               2\n",
            "dev                      AerDevice         Qiskit PennyLane plugin\\n<...>du\\nWires: 4\\nShots: 1024\n",
            "df_schedule              DataFrame            OrderNo  PartNo   Op  <...>       0  0.5     5     3\n",
            "dimod                    module            <module 'dimod' from '/us<...>kages/dimod/__init__.py'>\n",
            "dom                      float             3.0\n",
            "f                        TextIOWrapper     <_io.TextIOWrapper name='<...>de='a+' encoding='UTF-8'>\n",
            "file                     TextIOWrapper     <_io.TextIOWrapper name='<...>de='a+' encoding='UTF-8'>\n",
            "fill_QUBO_with_indexes   function          <function fill_QUBO_with_<...>ndexes at 0x7f8144d13e60>\n",
            "gamma                    int               2\n",
            "gates                    list              n=8\n",
            "get_qubo_heatmap         function          <function get_qubo_heatmap at 0x7f8144d138c0>\n",
            "i                        int               4\n",
            "isingX                   tuple             n=3\n",
            "jobs                     list              n=2\n",
            "linear                   dict              n=4\n",
            "linear_coefficents       list              n=4\n",
            "linear_gates             list              n=4\n",
            "mBS                      function          <function mBS at 0x7f813e6d5320>\n",
            "m_t_steps                float             6.0\n",
            "m_time                   float             60.0\n",
            "make_symmetric           function          <function make_symmetric at 0x7f8144ba1680>\n",
            "maxBitStr                str               0111\n",
            "max_time                 function          <function max_time at 0x7f8144cf13b0>\n",
            "mixer_h                  Hamiltonian         (1) [X0]\\n+ (1) [X1]\\n+ (1) [X2]\\n+ (1) [X3]\n",
            "mpl                      module            <module 'matplotlib' from<...>/matplotlib/__init__.py'>\n",
            "n_qubits                 int               4\n",
            "np                       module            <module 'numpy' from '/us<...>kages/numpy/__init__.py'>\n",
            "ops                      list              n=4\n",
            "optimizer                AdamOptimizer     <pennylane.optimize.adam.<...>object at 0x7f81446e0ad0>\n",
            "optimizerType            str               AdamOptimizer\n",
            "os                       module            <module 'os' from '/usr/lib/python3.7/os.py'>\n",
            "paint                    list              n=1\n",
            "paint_length             int               6\n",
            "params                   list              n=2\n",
            "paramsO                  list              n=2\n",
            "path                     str               /content\n",
            "pd                       module            <module 'pandas' from '/u<...>ages/pandas/__init__.py'>\n",
            "plt                      module            <module 'matplotlib.pyplo<...>es/matplotlib/pyplot.py'>\n",
            "probability_circuit      QNode             <QNode: wires=4, device='<...>rad', diff_method='best'>\n",
            "probs                    tensor            [0.05273438 0.04589844 0.<...>06 0.06933594 0.07910156]\n",
            "probsO                   tensor            [0.14941406 0.07910156 0.<...>81 0.03417969 0.02539062]\n",
            "progressbar              module            <module 'progressbar' fro<...>progressbar/__init__.py'>\n",
            "q_QUBO_X                 ndarray           4x4: 16 elems, type `float64`, 128 bytes\n",
            "qaoa                     module            <module 'pennylane.qaoa' <...>nylane/qaoa/__init__.py'>\n",
            "qaoa_layer               function          <function qaoa_layer at 0x7f81401b2290>\n",
            "qiskit                   module            <module 'qiskit' from '/u<...>ages/qiskit/__init__.py'>\n",
            "qml                      module            <module 'pennylane' from <...>s/pennylane/__init__.py'>\n",
            "quadratic                dict              n=4\n",
            "quadratic_coefficents    list              n=4\n",
            "quadratic_gates          list              n=4\n",
            "qubo_d                   dict              n=10\n",
            "result                   list              n=4\n",
            "savestring               str               /content\\AdamOptimizer_2_<...>5807, 1.025692645307958]]\n",
            "schedule                 list              n=2\n",
            "simplify_qubo            function          <function simplify_qubo at 0x7f8144be9440>\n",
            "sns                      module            <module 'seaborn' from '/<...>ges/seaborn/__init__.py'>\n",
            "steps                    int               5\n",
            "sys                      module            <module 'sys' (built-in)>\n",
            "t1                       int               4\n",
            "t_step                   int               3\n",
            "t_step_in_sec            int               10\n",
            "tail                     int               0\n",
            "time                     module            <module 'time' (built-in)>\n",
            "tupel1                   tuple             n=5\n",
            "tupel2                   tuple             n=5\n",
            "weld                     list              n=2\n",
            "weld_length              int               3\n",
            "wires                    range             range(0, 4)\n",
            "x1                       int               4\n",
            "x2                       int               4\n"
          ],
          "name": "stdout"
        }
      ]
    }
  ]
}