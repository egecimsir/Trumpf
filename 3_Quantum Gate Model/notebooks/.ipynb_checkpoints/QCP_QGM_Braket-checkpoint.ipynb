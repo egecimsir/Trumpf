{
 "cells": [
  {
   "cell_type": "code",
   "execution_count": null,
   "id": "BNIq-QygWbd1",
   "metadata": {
    "id": "BNIq-QygWbd1"
   },
   "outputs": [],
   "source": []
  },
  {
   "cell_type": "code",
   "execution_count": 52,
   "id": "Nv1nDjNbSqDh",
   "metadata": {
    "id": "Nv1nDjNbSqDh"
   },
   "outputs": [],
   "source": [
    "import sys\n",
    "import time\n",
    "import dimod.utilities\n",
    "import numpy as np\n",
    "import pandas as pd\n",
    "import pennylane as qml\n",
    "import seaborn as sns\n",
    "from dwave_qbsolv import QBSolv\n",
    "from matplotlib import pyplot as plt\n",
    "from pennylane import qaoa\n",
    "import copy\n",
    "import progressbar\n",
    "import os\n",
    "import os.path"
   ]
  },
  {
   "cell_type": "code",
   "execution_count": 2,
   "id": "edfd6a34",
   "metadata": {
    "id": "edfd6a34"
   },
   "outputs": [],
   "source": [
    "#job = \"OrderNo, PartNo, BendingLines, WeldingPoints, PaintTime, DueDate\n",
    "\n",
    "# jobs = [(0, 0, 0, 1, 0, 1), (1, 0, 0, 1, 0, 0.5), (1, 1, 0, 1, 0, 0.5)] # this job is more \"complex\" but at the cost of less steps tp saty under 1000 executions\n",
    "jobs = [(0, 0, 0, 0, 0.5, 0.5), (1, 0, 0, 0, 0.5, 1)] # this job allows for more steps while staying under 1000 executions\n",
    "\n",
    "steps = 1# steps = 5 for the first set, steps = 20 for the second"
   ]
  },
  {
   "cell_type": "code",
   "execution_count": 3,
   "id": "b092288e",
   "metadata": {
    "id": "b092288e"
   },
   "outputs": [],
   "source": [
    "bend = [0, 1, 2]\n",
    "weld = [3, 4]\n",
    "paint =  [5]\n",
    "\n",
    "bend_length = 2\n",
    "weld_length = 3\n",
    "paint_length = 6\n",
    "\n",
    "t_step = 3 # necessary generalization\n",
    "t_step_in_sec = 10"
   ]
  },
  {
   "cell_type": "code",
   "execution_count": 4,
   "id": "870f1ad4",
   "metadata": {
    "id": "870f1ad4"
   },
   "outputs": [],
   "source": [
    "def max_time(jobs):\n",
    "    a = 0 \n",
    "    b = 0 \n",
    "    c = 0\n",
    "    for i in jobs:\n",
    "        actualTime = i[2]\n",
    "        if a < b and a < c:\n",
    "            a += actualTime\n",
    "        elif b < a and b < c:\n",
    "            b += actualTime\n",
    "        else:\n",
    "            c += actualTime\n",
    "    maxB = max(a, b, c) * bend_length\n",
    "    \n",
    "    a = 0\n",
    "    b = 0\n",
    "    for i in jobs:\n",
    "        actualTime = i[3]\n",
    "        if a < b:\n",
    "            a += actualTime\n",
    "        else:\n",
    "            b += actualTime\n",
    "    maxW = max(a, b) * weld_length\n",
    "    \n",
    "    maximumPainting = 0\n",
    "    for i in jobs:\n",
    "        maximumPainting += i[4]\n",
    "    maxP = maximumPainting * paint_length\n",
    "    \n",
    "    return maxB + maxW + maxP"
   ]
  },
  {
   "cell_type": "code",
   "execution_count": 5,
   "id": "e59978ee",
   "metadata": {
    "colab": {
     "base_uri": "https://localhost:8080/"
    },
    "id": "e59978ee",
    "outputId": "0e33d6c6-9f45-4b46-d7a9-c0571452b477"
   },
   "outputs": [
    {
     "name": "stdout",
     "output_type": "stream",
     "text": [
      "The maximal maketime for the given operations is: 60.0 second(s).\n",
      "Which is equal to: 6.0 time steps.\n",
      "\n",
      "\n"
     ]
    }
   ],
   "source": [
    "# OrderNo, PartNo, BendingLines, WeldingPoints, PaintTime, DueDate \n",
    "\n",
    "m_t_steps = max_time(jobs)\n",
    "\n",
    "m_time = m_t_steps * t_step_in_sec\n",
    "    \n",
    "print('The maximal maketime for the given operations is: ' + str(m_time) + ' second(s).\\nWhich is equal to: ' + str(m_t_steps) + ' time steps.\\n\\n')\n"
   ]
  },
  {
   "cell_type": "code",
   "execution_count": 6,
   "id": "89acafef",
   "metadata": {
    "id": "89acafef"
   },
   "outputs": [],
   "source": [
    "def ops(jobs, bend, weld, paint, m_time):\n",
    "    ops = []\n",
    "    for x in jobs:\n",
    "        if x[2] > 0:\n",
    "            punish = x[2] * bend_length\n",
    "            if x[3] > 0:\n",
    "                punish += x[3] * weld_length\n",
    "            if x[4] > 0:\n",
    "                punish += x[4] * paint_length\n",
    "            for m in bend:\n",
    "                t = 0\n",
    "                while t <= m_t_steps - punish:\n",
    "                    ops.append(tuple((x[0], x[1], x[2], m, t)))\n",
    "                    t += t_step\n",
    "                    \n",
    "        if x[3] > 0:\n",
    "            punish = x[3] * weld_length\n",
    "            if x[4] > 0:\n",
    "                punish += x[4] * paint_length\n",
    "            for m in weld:\n",
    "                t = 0\n",
    "                if x[2] > 0:\n",
    "                    t += x[2] * bend_length\n",
    "                while t <= m_t_steps - punish:\n",
    "                    ops.append(tuple((x[0], x[1], x[3], m, t)))\n",
    "                    t += t_step\n",
    "\n",
    "        if x[4] > 0:\n",
    "            punish = x[4] * paint_length\n",
    "            for m in paint:\n",
    "                t = 0\n",
    "                if x[2] > 0:\n",
    "                    t += x[2] * bend_length\n",
    "                if x[3] > 0:\n",
    "                    t += x[3] * weld_length\n",
    "                while t <= m_t_steps - punish:\n",
    "                    ops.append(tuple((x[0], x[1], x[4], m, t)))\n",
    "                    t += t_step\n",
    "        # ops.append(('||||||||||||END OF JOB ' + str(x[0]) + ' OPERATION ' + str(x[1]) + '||||||||||||'))\n",
    "    return ops"
   ]
  },
  {
   "cell_type": "code",
   "execution_count": 7,
   "id": "2caf14a5",
   "metadata": {
    "colab": {
     "base_uri": "https://localhost:8080/"
    },
    "id": "2caf14a5",
    "outputId": "7e487343-6b55-456e-9c9c-5068a8cf9e96"
   },
   "outputs": [
    {
     "name": "stdout",
     "output_type": "stream",
     "text": [
      "Number of combinations: 4\n",
      "\n",
      "Possible combiniations:\n",
      "  Format: OrderNo, PartNo, Op, Machine, Time\n",
      "\n",
      "[\n",
      "(0, 0, 0.5, 5, 0), (0, 0, 0.5, 5, 3), (1, 0, 0.5, 5, 0), (1, 0, 0.5, 5, 3)\n",
      "]\n"
     ]
    }
   ],
   "source": [
    "ops = ops(jobs, bend, weld, paint, m_time)\n",
    "\n",
    "print('Number of combinations: ' + str(len(ops)) + '\\n')\n",
    "\n",
    "print('Possible combiniations:')\n",
    "print('  Format: OrderNo, PartNo, Op, Machine, Time\\n')\n",
    "\n",
    "print(str(ops).replace('[(', '[\\n(').replace(')]', ')\\n]'))"
   ]
  },
  {
   "cell_type": "code",
   "execution_count": 8,
   "id": "51ee0fbb",
   "metadata": {
    "id": "51ee0fbb"
   },
   "outputs": [],
   "source": [
    "np.set_printoptions(threshold=sys.maxsize)\n",
    "QUBO_X = np.zeros((len(ops), len(ops)))\n",
    "np.set_printoptions(suppress=True)"
   ]
  },
  {
   "cell_type": "raw",
   "id": "ccc909f9",
   "metadata": {
    "id": "ccc909f9"
   },
   "source": [
    "QUBO_pr = str(QUBO).replace('\\n', '').replace('] [', ']\\n[').replace('[[', '[\\n[').replace(']]', ']\\n]').replace('.  ', '. ')\n",
    "print(QUBO_pr)"
   ]
  },
  {
   "cell_type": "code",
   "execution_count": 9,
   "id": "495bc267",
   "metadata": {
    "id": "495bc267"
   },
   "outputs": [],
   "source": [
    "# verwendet ops! --> als zusätzliches Argument?\n",
    "def get_qubo_heatmap(QUBO, output=\"qubo_matrix.png\"):\n",
    "    \n",
    "    df = pd.DataFrame(QUBO, columns=ops, index = ops)\n",
    "    sns.set_style(\"white\")\n",
    "    mask = np.tril(np.zeros_like(df)).astype(np.bool)\n",
    "    mask[np.tril_indices_from(mask)] = True\n",
    "\n",
    "    # Keep diagonal elements \n",
    "    mask[np.diag_indices_from(mask)] = False\n",
    "\n",
    "    # Set up the matplotlib figure\n",
    "    f, ax = plt.subplots(figsize=(14, 12))\n",
    "\n",
    "    # Generate a custom diverging colormap in TRUMPF Color 0033BA\n",
    "    cmap = sns.diverging_palette(255, 200, sep=10, as_cmap=True)\n",
    "\n",
    "    # Draw the heatmap with the mask and correct aspect ratio\n",
    "    sns_plot = sns.heatmap(df, mask=mask, cmap=cmap, center=0,\n",
    "            square=True, linewidths=.5, cbar_kws={\"shrink\": .5})\n",
    "    # save to file\n",
    "    fig = sns_plot.get_figure()\n",
    "    fig.savefig(output)"
   ]
  },
  {
   "cell_type": "code",
   "execution_count": 10,
   "id": "b9b71cf7",
   "metadata": {
    "id": "b9b71cf7"
   },
   "outputs": [],
   "source": [
    "# get_qubo_heatmap(QUBO_X)"
   ]
  },
  {
   "cell_type": "code",
   "execution_count": 11,
   "id": "19b06e06",
   "metadata": {
    "id": "19b06e06"
   },
   "outputs": [],
   "source": [
    "def convert(ord, part, op, mach, t):\n",
    "    return ops.index(tuple((ord, part, op, mach, t)))"
   ]
  },
  {
   "cell_type": "code",
   "execution_count": 12,
   "id": "1e98e683",
   "metadata": {
    "id": "1e98e683"
   },
   "outputs": [],
   "source": [
    "#Format: OrderNo, PartNo, Op, Machine, Time \n",
    "    \n",
    "def fill_QUBO_with_indexes(QUBO, ord1, part1, op1, mach1, t1, ord2, part2, op2, mach2, t2, value):\n",
    "    index_a = convert(ord1, part1, op1, mach1, t1)\n",
    "    index_b = convert(ord2, part2, op2, mach2, t2)\n",
    "    if index_a > index_b:\n",
    "        index_a, index_b = index_b, index_a\n",
    "    QUBO[index_a, index_b] += value"
   ]
  },
  {
   "cell_type": "markdown",
   "id": "a5e53aba",
   "metadata": {
    "id": "a5e53aba"
   },
   "source": [
    "Constraint 1 (each operation 'o' of each job 'j' exactly once on one machine 'm' at a certaint (starting-)time 't'):\n",
    "\n",
    "$$\n",
    "H_{0}:=\\sum_{o \\in 0}\\left(\\sum_{m \\in M_{o}} \\sum_{t=0}^{T-1} x_{j, o, m, t}-1\\right)^{2}\n",
    "$$\n"
   ]
  },
  {
   "cell_type": "code",
   "execution_count": 13,
   "id": "04edeea9",
   "metadata": {
    "id": "04edeea9"
   },
   "outputs": [],
   "source": [
    "alpha = 2"
   ]
  },
  {
   "cell_type": "code",
   "execution_count": 14,
   "id": "024181a9",
   "metadata": {
    "id": "024181a9"
   },
   "outputs": [],
   "source": [
    "# H0: Mehrmaliges Abarbeiten der selben Operation eines Bauteils eines Jobs bestrafen\n",
    "'ops: OrderNo, PartNo, OpNum, Machine, Time'\n",
    "\n",
    "for tupel1 in ops:\n",
    "    for tupel2 in ops:\n",
    "        if (tupel1[0] == tupel2[0]) and (tupel1[1] == tupel2[1]):\n",
    "            if tupel1[3] != tupel2[3] or tupel1[4] != tupel2[4]:\n",
    "                fill_QUBO_with_indexes(QUBO_X, *tupel1, *tupel2, 2*alpha)\n",
    "            else:\n",
    "                fill_QUBO_with_indexes(QUBO_X, *tupel1, *tupel2, -alpha)"
   ]
  },
  {
   "cell_type": "raw",
   "id": "e200845d",
   "metadata": {
    "id": "e200845d"
   },
   "source": [
    "QUBO_pr = str(QUBO).replace('\\n', '').replace('] [', ']\\n[').replace('[[', '[\\n[').replace(']]', ']\\n]').replace('. ', '.').replace('.  ', '. ').replace('[ ', '[').replace(' -', '-')\n",
    "print(QUBO_pr)"
   ]
  },
  {
   "cell_type": "code",
   "execution_count": 15,
   "id": "b82c4830",
   "metadata": {
    "id": "b82c4830"
   },
   "outputs": [],
   "source": [
    "# get_qubo_heatmap(QUBO_X)"
   ]
  },
  {
   "cell_type": "markdown",
   "id": "d028f69d",
   "metadata": {
    "id": "d028f69d"
   },
   "source": [
    "Secondly, for every job $j \\in J$, its operations $O_j$ must be executed in the order given by \n",
    "\n",
    "<br /><br />\n",
    "$$\n",
    "\\left.c\\right|_{o_{j}}: O_{j} \\rightarrow\\left\\{1, \\ldots, n_{j}\\right\\}\n",
    "$$\n",
    "<br />\n",
    "$$H_{1}:=\\sum_{j \\in J}\\left(\\sum_{k_{n-1}<i<k_{n}, t+p_{i} > t'} x_{i, t}x_{i+1, t'}\\right)$$\n"
   ]
  },
  {
   "cell_type": "code",
   "execution_count": 16,
   "id": "5e99adb3",
   "metadata": {
    "id": "5e99adb3"
   },
   "outputs": [],
   "source": [
    "beta = 1"
   ]
  },
  {
   "cell_type": "code",
   "execution_count": 17,
   "id": "606b32c5",
   "metadata": {
    "id": "606b32c5"
   },
   "outputs": [],
   "source": [
    "# H1 verbotene Reihenfolgen innerhalb eines Bauteils eines Jobs bestrafen\n",
    "'ops: OrderNo, PartNo, OpNum, Machine, Time'\n",
    "\n",
    "for tupel1 in ops:\n",
    "    if tupel1[3] < min(paint):\n",
    "        if tupel1[3] < min(weld):\n",
    "            dom = bend_length * tupel1[2]\n",
    "        else:\n",
    "            dom = weld_length * tupel1[2]\n",
    "        for tupel2 in ops:\n",
    "            if (tupel1[0] == tupel2[0]) and (tupel1[1] == tupel2[1]):\n",
    "                if (tupel1[3] <= max(bend) and tupel2[3] > max(bend) and (tupel1[4] + dom) > tupel2[4] or tupel1[3] > max(bend) and tupel1[3] < min(paint) and tupel2[3] >= min(paint) and (tupel1[4] + dom) > tupel2[4]):\n",
    "                    fill_QUBO_with_indexes(QUBO_X, *tupel1, *tupel2, beta)"
   ]
  },
  {
   "cell_type": "raw",
   "id": "c62234e5",
   "metadata": {
    "id": "c62234e5"
   },
   "source": [
    "QUBO_pr = str(QUBO).replace('\\n', '').replace('] [', ']\\n[').replace('[[', '[\\n[').replace(']]', ']\\n]').replace('. ', '.').replace('.  ', '. ').replace('[ ', '[').replace(' -', '-')\n",
    "print(QUBO_pr)"
   ]
  },
  {
   "cell_type": "code",
   "execution_count": 18,
   "id": "9670c390",
   "metadata": {
    "id": "9670c390"
   },
   "outputs": [],
   "source": [
    "# get_qubo_heatmap(QUBO_X)"
   ]
  },
  {
   "cell_type": "code",
   "execution_count": 19,
   "id": "8e1d37e2",
   "metadata": {
    "id": "8e1d37e2"
   },
   "outputs": [],
   "source": [
    "gamma = 2"
   ]
  },
  {
   "cell_type": "code",
   "execution_count": 20,
   "id": "22391049",
   "metadata": {
    "id": "22391049"
   },
   "outputs": [],
   "source": [
    "# H2 Geichzeitiges Laufen zweier verschiedener Operationen auf der selben M\n",
    "'ops: OrderNo, PartNo, OpNum, Machine, Time'\n",
    "\n",
    "for tupel1 in ops:\n",
    "    if tupel1[3] < min(weld):\n",
    "        dom = bend_length * tupel1[2]\n",
    "    elif tupel1[3] < min(paint):\n",
    "        dom = weld_length * tupel1[2]\n",
    "    else:\n",
    "        dom = paint_length * tupel1[2]\n",
    "    for tupel2 in ops:\n",
    "        if ((tupel1[0] != tupel2[0] or tupel1[1] != tupel2[1]) and tupel1[3] == tupel2[3] and tupel2[4] >= tupel1[4] and tupel2[4] < tupel1[4] + dom):\n",
    "            fill_QUBO_with_indexes(QUBO_X, *tupel1, *tupel2, gamma)"
   ]
  },
  {
   "cell_type": "raw",
   "id": "5aa53360",
   "metadata": {
    "id": "5aa53360"
   },
   "source": [
    "QUBO_pr = str(QUBO).replace('\\n', '').replace('] [', ']\\n[').replace('[[', '[\\n[').replace(']]', ']\\n]').replace('. ', '.').replace('.  ', '. ').replace('[ ', '[').replace(' -', '-')\n",
    "print(QUBO_pr)"
   ]
  },
  {
   "cell_type": "code",
   "execution_count": 21,
   "id": "62bec2f4",
   "metadata": {
    "id": "62bec2f4"
   },
   "outputs": [],
   "source": [
    "# get_qubo_heatmap(QUBO_X) "
   ]
  },
  {
   "cell_type": "code",
   "execution_count": 22,
   "id": "7265bfad",
   "metadata": {
    "id": "7265bfad"
   },
   "outputs": [],
   "source": [
    "delta = 0.035"
   ]
  },
  {
   "cell_type": "code",
   "execution_count": 23,
   "id": "d827163f",
   "metadata": {
    "id": "d827163f"
   },
   "outputs": [],
   "source": [
    "# K Bestrafung für Verspätung\n",
    "'ops: OrderNo, PartNo, OpNum, Machine, Time'\n",
    "'jobs: OrderNo, PartNo, BendingLines, WeldingPoints, PaintTime, DueDate'\n",
    "     \n",
    "c = 0\n",
    "while c < len(jobs):\n",
    "    t1 = 0\n",
    "    while t1 < len(ops):\n",
    "        if jobs[c][0] == ops[t1][0]:\n",
    "            tail = 0\n",
    "            if ops[t1][3] < min(weld): # op is bend\n",
    "                dom = bend_length * ops[t1][2]\n",
    "                if jobs[c][3] > 0: # has weld op\n",
    "                    tail += jobs[c][3] * weld_length\n",
    "                if jobs[c][4] > 0: # has paint op\n",
    "                    tail += jobs[c][4] * paint_length\n",
    "            elif ops[t1][3] < min(paint): # op is weld\n",
    "                dom = weld_length * ops[t1][2]\n",
    "                if jobs[c][4] > 0: # has paint op\n",
    "                    tail += jobs[c][4] * paint_length\n",
    "            else:\n",
    "                dom = paint_length * ops[t1][2]\n",
    "            if ops[t1][4] + dom + tail > jobs[c][5] * 6:\n",
    "                fill_QUBO_with_indexes(QUBO_X, *ops[t1], *ops[t1], delta)\n",
    "            # else:\n",
    "                # fill_QUBO_with_indexes(QUBO, *ops[t1], *ops[t1], -delta)\n",
    "        t1 += 1\n",
    "    c += 1"
   ]
  },
  {
   "cell_type": "raw",
   "id": "1243429a",
   "metadata": {
    "id": "1243429a"
   },
   "source": [
    "QUBO_pr = str(QUBO).replace('\\n', '').replace('] [', ']\\n[').replace('[[', '[\\n[').replace(']]', ']\\n]').replace('. ', '.').replace('.  ', '. ').replace('[ ', '[').replace(' -', '-')\n",
    "print(QUBO_pr)"
   ]
  },
  {
   "cell_type": "code",
   "execution_count": 24,
   "id": "a166d12b",
   "metadata": {
    "colab": {
     "base_uri": "https://localhost:8080/",
     "height": 727
    },
    "id": "a166d12b",
    "outputId": "9daf548c-81c1-47f5-baeb-bb773ca593a8"
   },
   "outputs": [
    {
     "name": "stderr",
     "output_type": "stream",
     "text": [
      "<ipython-input-9-ccafbb0ddcf9>:6: DeprecationWarning: `np.bool` is a deprecated alias for the builtin `bool`. To silence this warning, use `bool` by itself. Doing this will not modify any behavior and is safe. If you specifically wanted the numpy scalar type, use `np.bool_` here.\n",
      "Deprecated in NumPy 1.20; for more details and guidance: https://numpy.org/devdocs/release/1.20.0-notes.html#deprecations\n",
      "  mask = np.tril(np.zeros_like(df)).astype(np.bool)\n"
     ]
    },
    {
     "data": {
      "image/png": "[encoded data removed]",
      "text/plain": [
       "<Figure size 1008x864 with 2 Axes>"
      ]
     },
     "metadata": {},
     "output_type": "display_data"
    }
   ],
   "source": [
    "get_qubo_heatmap(QUBO_X) "
   ]
  },
  {
   "cell_type": "code",
   "execution_count": 25,
   "id": "dJQpOUFcavlU",
   "metadata": {
    "id": "dJQpOUFcavlU"
   },
   "outputs": [],
   "source": [
    "def simplify_qubo(qubo):\n",
    "    qi = 0\n",
    "    while qi < len(ops):\n",
    "      qj = qi\n",
    "      while qj < len(ops):\n",
    "          if qubo[qi, qj] >= -1 and qubo[qi, qj] <= 1:\n",
    "              qubo[qi, qj] -= np.int64(4)\n",
    "          qj += 1\n",
    "      qi += 1"
   ]
  },
  {
   "cell_type": "code",
   "execution_count": 26,
   "id": "8OJQi1t51Kxk",
   "metadata": {
    "id": "8OJQi1t51Kxk"
   },
   "outputs": [],
   "source": [
    "# QUBO_X = simplify_qubo(QUBO_X)"
   ]
  },
  {
   "cell_type": "code",
   "execution_count": 27,
   "id": "yfYYfZocb8Ag",
   "metadata": {
    "id": "yfYYfZocb8Ag"
   },
   "outputs": [],
   "source": [
    "# get_qubo_heatmap(QUBO_X) "
   ]
  },
  {
   "cell_type": "code",
   "execution_count": 28,
   "id": "4e8e6b56",
   "metadata": {
    "colab": {
     "base_uri": "https://localhost:8080/"
    },
    "id": "4e8e6b56",
    "outputId": "fc5ed592-5609-4366-c2a9-e27eaa19c976"
   },
   "outputs": [
    {
     "name": "stdout",
     "output_type": "stream",
     "text": [
      "{(0, 0): -2, (0, 1): 8, (0, 2): 4, (0, 3): 0, (1, 1): -1, (1, 2): 0, (1, 3): 4, (2, 2): -2, (2, 3): 8, (3, 3): -2}\n"
     ]
    }
   ],
   "source": [
    "qubo_d = {}\n",
    "x1 = 0\n",
    "while x1 < len(ops):\n",
    "    x2 = x1\n",
    "    while x2 < len(ops):\n",
    "        qubo_d[(x1, x2)] = int(QUBO_X[x1][x2])\n",
    "        x2 += 1\n",
    "    x1 += 1\n",
    "    \n",
    "print(qubo_d)"
   ]
  },
  {
   "cell_type": "code",
   "execution_count": null,
   "id": "b4a380c0",
   "metadata": {
    "id": "b4a380c0"
   },
   "outputs": [],
   "source": []
  },
  {
   "cell_type": "code",
   "execution_count": 29,
   "id": "f5adacd8",
   "metadata": {
    "colab": {
     "base_uri": "https://localhost:8080/"
    },
    "id": "f5adacd8",
    "outputId": "e56a6a3c-81e7-4204-82f7-93bb36af0734"
   },
   "outputs": [
    {
     "name": "stdout",
     "output_type": "stream",
     "text": [
      "   0  1  2  3 energy num_oc.\n",
      "0  1  0  0  1   -4.0      51\n",
      "['BINARY', 1 rows, 51 samples, 4 variables]\n"
     ]
    }
   ],
   "source": [
    "# solve and print first result\n",
    "result = QBSolv().sample_qubo(qubo_d)\n",
    "print(result)\n",
    "result = [result.samples()[0][x] for x in result.samples()[0]]\n",
    "schedule = []\n",
    "for i in range(len(result)):\n",
    "    if result[i] == 1:\n",
    "        schedule.append(ops[i])\n",
    "df_schedule=pd.DataFrame(schedule)\n",
    "df_schedule.columns = [\"OrderNo\", \"PartNo\", \"Op\", \"Task\", \"Time\"]"
   ]
  },
  {
   "cell_type": "raw",
   "id": "85c00a91",
   "metadata": {
    "id": "85c00a91"
   },
   "source": []
  },
  {
   "cell_type": "code",
   "execution_count": 30,
   "id": "07f8f8f1",
   "metadata": {
    "id": "07f8f8f1"
   },
   "outputs": [],
   "source": [
    "def make_symmetric(matrix):\n",
    "    \"\"\" Takes a quadratic matrix and makes it symmetric \"\"\"\n",
    "    result = copy.deepcopy(matrix) # technically unnecessary\n",
    "    for i in range(len(result)):\n",
    "        for j in range(len(result[i])):\n",
    "            if(i != j):\n",
    "                if (result[i][j] != 0):\n",
    "                    if (result[j][i] == 0):\n",
    "                        result[j][i] = result[i][j] / 2\n",
    "                        result[i][j] = result[j][i]\n",
    "    return result\n",
    "q_QUBO_X = make_symmetric(QUBO_X)"
   ]
  },
  {
   "cell_type": "code",
   "execution_count": 31,
   "id": "17caa086",
   "metadata": {
    "colab": {
     "base_uri": "https://localhost:8080/"
    },
    "id": "17caa086",
    "outputId": "4acf1ede-ed16-47f6-da1c-67f76a3432d6"
   },
   "outputs": [
    {
     "name": "stdout",
     "output_type": "stream",
     "text": [
      "({0: 2.0, 1: 2.5, 2: 2.0, 3: 2.0}, {(0, 1): 2.0, (0, 2): 1.0, (1, 3): 1.0, (2, 3): 2.0}, 2.5)\n",
      "\n",
      "\n",
      "{0: 2.0, 1: 2.5, 2: 2.0, 3: 2.0}\n",
      "\n",
      "\n",
      "{(0, 1): 2.0, (0, 2): 1.0, (1, 3): 1.0, (2, 3): 2.0}\n"
     ]
    }
   ],
   "source": [
    "isingX = dimod.qubo_to_ising(qubo_d, 0)\n",
    "print(isingX)\n",
    "(linear, quadratic, _) = isingX\n",
    "print(\"\\n\")\n",
    "print(linear)\n",
    "print(\"\\n\")\n",
    "print(quadratic)"
   ]
  },
  {
   "cell_type": "raw",
   "id": "5bb460cc",
   "metadata": {
    "id": "5bb460cc"
   },
   "source": [
    "def dictionary_to_matrix(d, vals):\n",
    "    \"\"\" Converts a matrix written as a dictionary into a numpy matrix\n",
    "    d: dictionary\n",
    "    vals: array with the rows/colummn values of the dictionary\n",
    "    \"\"\"\n",
    "    result = np.empty((len(vals),len(vals)))\n",
    "    for i in range(len(vals)):\n",
    "        for j in range(len(vals)):\n",
    "            key = (vals[i], vals[j])\n",
    "            result[i][j] = d.get(key, 0)\n",
    "    return result"
   ]
  },
  {
   "cell_type": "raw",
   "id": "b987f145",
   "metadata": {
    "id": "b987f145"
   },
   "source": [
    "pyqubo_ising = dictionary_to_matrix(isingX, ['0', '1', '2', '3', '4', '5', '6', '7', '8', '9', '10', '11', '12', '13'])\n",
    "print(pyqubo_ising)"
   ]
  },
  {
   "cell_type": "code",
   "execution_count": 32,
   "id": "7e982604",
   "metadata": {
    "id": "7e982604"
   },
   "outputs": [],
   "source": [
    "n_qubits = len(ops)\n",
    "wires = range(n_qubits)\n",
    "depthX = 2"
   ]
  },
  {
   "cell_type": "code",
   "execution_count": 33,
   "id": "32024f8e",
   "metadata": {
    "id": "32024f8e"
   },
   "outputs": [],
   "source": [
    "s3 = (\"amazon-braket-1a7ac1e84178\", \"TRUMPF\")\n",
    "device_arn = \"arn:aws:braket:::device/quantum-simulator/amazon/sv1\"\n",
    "dev = qml.device(\"braket.aws.qubit\", device_arn=device_arn, s3_destination_folder=s3, wires=wires, parallel=True, max_parallel=20, poll_timeout_seconds=30, shots=1000)"
   ]
  },
  {
   "cell_type": "code",
   "execution_count": 34,
   "id": "580de8c8",
   "metadata": {
    "colab": {
     "base_uri": "https://localhost:8080/"
    },
    "id": "580de8c8",
    "outputId": "47a33bfd-dc18-4756-b8b9-9b70d13afd14"
   },
   "outputs": [
    {
     "name": "stdout",
     "output_type": "stream",
     "text": [
      "  (2.0) [Z0]\n",
      "+ (2.0) [Z2]\n",
      "+ (2.0) [Z3]\n",
      "+ (2.5) [Z1]\n",
      "+ (1.0) [Z0 Z2]\n",
      "+ (1.0) [Z1 Z3]\n",
      "+ (2.0) [Z0 Z1]\n",
      "+ (2.0) [Z2 Z3]\n"
     ]
    }
   ],
   "source": [
    "linear_coefficents = [linear[i] for i in range(n_qubits) if i in linear]\n",
    "linear_gates = [qml.PauliZ(i) for i in range(n_qubits) if i in linear]\n",
    "quadratic_coefficents = [quadratic[(i, j)] for i in range(n_qubits) for j in range(n_qubits) if (i, j) in quadratic]\n",
    "quadratic_gates = [qml.PauliZ(i) @ qml.PauliZ(j) for i in range(n_qubits) for j in range(n_qubits) if\n",
    "                       (i, j) in quadratic]\n",
    "\n",
    "coefficents = linear_coefficents + quadratic_coefficents\n",
    "gates = linear_gates + quadratic_gates\n",
    "\n",
    "cost_h = qml.Hamiltonian(coefficents, gates)\n",
    "print(cost_h)"
   ]
  },
  {
   "cell_type": "code",
   "execution_count": 35,
   "id": "2912c156",
   "metadata": {
    "colab": {
     "base_uri": "https://localhost:8080/"
    },
    "id": "2912c156",
    "outputId": "63f4abec-2bae-429b-d0b4-36ea684aeb53"
   },
   "outputs": [
    {
     "name": "stdout",
     "output_type": "stream",
     "text": [
      "  (1) [X0]\n",
      "+ (1) [X1]\n",
      "+ (1) [X2]\n",
      "+ (1) [X3]\n"
     ]
    }
   ],
   "source": [
    "mixer_h = qaoa.x_mixer(0)\n",
    "for i in range(n_qubits - 1):\n",
    "    mixer_h += qaoa.x_mixer(i + 1)\n",
    "print(mixer_h)"
   ]
  },
  {
   "cell_type": "code",
   "execution_count": 36,
   "id": "89aad6d2",
   "metadata": {
    "id": "89aad6d2"
   },
   "outputs": [],
   "source": [
    "def qaoa_layer(gamma, alpha):\n",
    "    qaoa.cost_layer(gamma, cost_h)\n",
    "    qaoa.mixer_layer(alpha, mixer_h)"
   ]
  },
  {
   "cell_type": "code",
   "execution_count": 37,
   "id": "d6e48eda",
   "metadata": {
    "id": "d6e48eda"
   },
   "outputs": [],
   "source": [
    "def circuit(params, **kwargs):\n",
    "    for w in wires:\n",
    "        qml.Hadamard(wires=w)\n",
    "    qml.layer(qaoa_layer, depthX, params[0], params[1])"
   ]
  },
  {
   "cell_type": "code",
   "execution_count": 38,
   "id": "f81fc0df",
   "metadata": {
    "id": "f81fc0df"
   },
   "outputs": [],
   "source": [
    "cost_function = qml.ExpvalCost(circuit, cost_h, dev, optimize=True)"
   ]
  },
  {
   "cell_type": "code",
   "execution_count": 39,
   "id": "cadbc94d",
   "metadata": {
    "id": "cadbc94d"
   },
   "outputs": [],
   "source": [
    "optimizer = qml.AdamOptimizer() # qml.GradientDescentOptimizer() # qml.AdamOptimizer() # qml.AdagradOptimizer()\n",
    "params = [[0.5, 0.5], [0.5, 0.5]]"
   ]
  },
  {
   "cell_type": "code",
   "execution_count": 40,
   "id": "oXzPkSj7Heh6",
   "metadata": {
    "colab": {
     "base_uri": "https://localhost:8080/"
    },
    "id": "oXzPkSj7Heh6",
    "outputId": "d073d997-a599-4266-dbd1-2a4a58e41484"
   },
   "outputs": [
    {
     "name": "stdout",
     "output_type": "stream",
     "text": [
      "Start parameters:  [[0.5, 0.5], [0.5, 0.5]]\n",
      "\n",
      "\n"
     ]
    },
    {
     "name": "stderr",
     "output_type": "stream",
     "text": [
      "N/A% (0 of 1) |                          | Elapsed Time: 0:00:00 ETA:  --:--:--"
     ]
    },
    {
     "name": "stdout",
     "output_type": "stream",
     "text": [
      " | New parameters: [[0.5099999999918261, 0.4900000000136342], [0.4900000000902527, 0.5099999999694284]]\n"
     ]
    },
    {
     "name": "stderr",
     "output_type": "stream",
     "text": [
      "N/A% (0 of 1) |                          | Elapsed Time: 0:00:24 ETA:  --:--:--"
     ]
    },
    {
     "name": "stdout",
     "output_type": "stream",
     "text": [
      "\n",
      " 0\n"
     ]
    },
    {
     "name": "stderr",
     "output_type": "stream",
     "text": [
      "100% (1 of 1) |##########################| Elapsed Time: 0:00:24 Time:  0:00:24\n"
     ]
    },
    {
     "name": "stdout",
     "output_type": "stream",
     "text": [
      "\n",
      "\n",
      "Optimal parameters:  [[0.5099999999918261, 0.4900000000136342], [0.4900000000902527, 0.5099999999694284]]\n"
     ]
    }
   ],
   "source": [
    "print(\"Start parameters: \", params)\n",
    "print(\"\\n\")\n",
    "\n",
    "for i in progressbar.progressbar(range(steps), redirect_stdout=True):\n",
    "    params = optimizer.step(cost_function, params)\n",
    "    print(' | New parameters:', params)\n",
    "    print(\"\\n\", dev.num_executions)\n",
    "\n",
    "print(\"\\n\")\n",
    "print(\"Optimal parameters: \", params)"
   ]
  },
  {
   "cell_type": "code",
   "execution_count": 45,
   "id": "XHVmqFfVNgrW",
   "metadata": {
    "id": "XHVmqFfVNgrW"
   },
   "outputs": [],
   "source": [
    "@qml.qnode(dev)\n",
    "def probability_circuit(gamma, alpha):\n",
    "    circuit([gamma, alpha])\n",
    "    return qml.probs(wires=wires)\n",
    "\n",
    "\n",
    "probs = probability_circuit(params[0], params[1])"
   ]
  },
  {
   "cell_type": "code",
   "execution_count": 58,
   "id": "205cd7e7-3040-45c4-8bce-6e650b6fa85a",
   "metadata": {
    "colab": {
     "base_uri": "https://localhost:8080/",
     "height": 348
    },
    "id": "205cd7e7-3040-45c4-8bce-6e650b6fa85a",
    "outputId": "89256e1b-2158-4abc-dba9-1c116cc80cca"
   },
   "outputs": [
    {
     "name": "stdout",
     "output_type": "stream",
     "text": [
      "C:\\Users\\vd5t\\Desktop\\QCP\\0 QGM\\notebooks\n",
      "C:\\Users\\vd5t\\Desktop\\QCP\\0 QGM\\notebooksAdamOptimizer_2_1_[[0.5099999999918261, 0.4900000000136342], [0.4900000000902527, 0.5099999999694284]]\n"
     ]
    },
    {
     "data": {
      "image/png": "[encoded data removed]",
      "text/plain": [
       "<Figure size 576x396 with 1 Axes>"
      ]
     },
     "metadata": {},
     "output_type": "display_data"
    }
   ],
   "source": [
    "optimizerType = type(optimizer).__name__\n",
    "path = os.getcwd()\n",
    "print(path)\n",
    "savestring = path + f\"{optimizerType}_{depthX}_{steps}_{params}\"\n",
    "print(savestring)\n",
    "\n",
    "plt.style.use(\"seaborn\")\n",
    "plt.bar(range(2 ** len(wires)), probs)\n",
    "plt.savefig(savestring + \".png\")\n",
    "plt.show()"
   ]
  },
  {
   "cell_type": "code",
   "execution_count": 44,
   "id": "36e5d2ad-5a61-4e55-8a67-4c443a8e9b13",
   "metadata": {},
   "outputs": [],
   "source": [
    "file = open(savestring + \".txt\", 'w')\n",
    "file.write(str(probs)\n",
    "    # + \"\\n model variables: \" + str(model.variables)\n",
    "    + \"\\n optimizer: \" + optimizerType\n",
    "    # + \"\\n optimizer time: \" + str(processing_time_optimizer)\n",
    "    # + \"\\n qc time: \" + str(processing_time_qc)\n",
    "    + \"\\n backend: \" + str(dev))\n",
    "file.close()"
   ]
  },
  {
   "cell_type": "code",
   "execution_count": null,
   "id": "D1jxEC1x0Zxv",
   "metadata": {
    "id": "D1jxEC1x0Zxv"
   },
   "outputs": [],
   "source": []
  },
  {
   "cell_type": "code",
   "execution_count": null,
   "id": "zwNGy4-vz3Sz",
   "metadata": {
    "id": "zwNGy4-vz3Sz"
   },
   "outputs": [],
   "source": []
  },
  {
   "cell_type": "code",
   "execution_count": null,
   "id": "zqg7Qwyrz3X2",
   "metadata": {
    "id": "zqg7Qwyrz3X2"
   },
   "outputs": [],
   "source": []
  },
  {
   "cell_type": "code",
   "execution_count": null,
   "id": "5966a026",
   "metadata": {
    "colab": {
     "base_uri": "https://localhost:8080/"
    },
    "id": "5966a026",
    "outputId": "4b8f74ed-bcd5-42dc-ff1f-20e7caeadbe0",
    "scrolled": true
   },
   "outputs": [],
   "source": [
    "whos"
   ]
  }
 ],
 "metadata": {
  "colab": {
   "collapsed_sections": [],
   "name": "QCP_QGM_Qulacs.ipynb",
   "provenance": []
  },
  "kernelspec": {
   "display_name": "Python 3",
   "language": "python",
   "name": "python3"
  },
  "language_info": {
   "codemirror_mode": {
    "name": "ipython",
    "version": 3
   },
   "file_extension": ".py",
   "mimetype": "text/x-python",
   "name": "python",
   "nbconvert_exporter": "python",
   "pygments_lexer": "ipython3",
   "version": "3.9.5"
  }
 },
 "nbformat": 4,
 "nbformat_minor": 5
}
