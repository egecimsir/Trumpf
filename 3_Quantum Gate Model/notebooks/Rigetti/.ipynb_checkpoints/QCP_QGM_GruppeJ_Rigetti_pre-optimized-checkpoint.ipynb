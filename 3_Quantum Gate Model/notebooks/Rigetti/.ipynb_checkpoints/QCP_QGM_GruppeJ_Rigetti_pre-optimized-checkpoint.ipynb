{
 "cells": [
  {
   "cell_type": "code",
   "execution_count": null,
   "id": "a60a66bf",
   "metadata": {
    "id": "BNIq-QygWbd1"
   },
   "outputs": [],
   "source": []
  },
  {
   "cell_type": "code",
   "execution_count": 1,
   "id": "c9eac3d8",
   "metadata": {
    "id": "Nv1nDjNbSqDh"
   },
   "outputs": [],
   "source": [
    "import sys\n",
    "import time\n",
    "import dimod.utilities\n",
    "import numpy as np\n",
    "import pandas as pd\n",
    "import pennylane as qml\n",
    "import seaborn as sns\n",
    "from dwave_qbsolv import QBSolv\n",
    "from matplotlib import pyplot as plt\n",
    "from pennylane import qaoa\n",
    "import copy\n",
    "import progressbar\n",
    "import os\n",
    "import os.path"
   ]
  },
  {
   "cell_type": "code",
   "execution_count": 2,
   "id": "0ddbd31d",
   "metadata": {
    "id": "edfd6a34"
   },
   "outputs": [],
   "source": [
    "#job = \"OrderNo, PartNo, BendingLines, WeldingPoints, PaintTime, DueDate\n",
    "\n",
    "jobs =  [(0, 0, 1, 2, 1, 3), (1, 0, 0, 2, 0, 1)] # this job is more \"complex\" but at the cost of less steps tp saty under 1000 executions -> 985 execs, 197 per step (5)\n",
    "# jobs = [(0, 0, 0, 0, 0.5, 0.5), (1, 0, 0, 0, 0.5, 1)] # this job allows for more steps while staying under 1000 executions -> 980 execs, 49 per step (20)\n",
    "\n",
    "steps =  5 # steps = 5 for the first set, steps = 20 for the second"
   ]
  },
  {
   "cell_type": "code",
   "execution_count": 3,
   "id": "33a07361",
   "metadata": {
    "id": "b092288e"
   },
   "outputs": [],
   "source": [
    "bend = [0, 1, 2]\n",
    "weld = [3, 4]\n",
    "paint =  [5]\n",
    "\n",
    "bend_length = 2\n",
    "weld_length = 3\n",
    "paint_length = 6\n",
    "\n",
    "t_step = 3 # necessary generalization from 10 sec intervalls to 30\n",
    "t_step_in_sec = 10"
   ]
  },
  {
   "cell_type": "code",
   "execution_count": 4,
   "id": "a53b5f20",
   "metadata": {
    "id": "870f1ad4"
   },
   "outputs": [],
   "source": [
    "def max_time(jobs):\n",
    "    a = 0 \n",
    "    b = 0 \n",
    "    c = 0\n",
    "    for i in jobs:\n",
    "        actualTime = i[2]\n",
    "        if a < b and a < c:\n",
    "            a += actualTime\n",
    "        elif b < a and b < c:\n",
    "            b += actualTime\n",
    "        else:\n",
    "            c += actualTime\n",
    "    maxB = max(a, b, c) * bend_length\n",
    "    \n",
    "    a = 0\n",
    "    b = 0\n",
    "    for i in jobs:\n",
    "        actualTime = i[3]\n",
    "        if a < b:\n",
    "            a += actualTime\n",
    "        else:\n",
    "            b += actualTime\n",
    "    maxW = max(a, b) * weld_length\n",
    "    \n",
    "    maximumPainting = 0\n",
    "    for i in jobs:\n",
    "        maximumPainting += i[4]\n",
    "    maxP = maximumPainting * paint_length\n",
    "    \n",
    "    return maxB + maxW + maxP"
   ]
  },
  {
   "cell_type": "code",
   "execution_count": 5,
   "id": "590e2b8e",
   "metadata": {
    "colab": {
     "base_uri": "https://localhost:8080/"
    },
    "id": "e59978ee",
    "outputId": "0e33d6c6-9f45-4b46-d7a9-c0571452b477"
   },
   "outputs": [
    {
     "name": "stdout",
     "output_type": "stream",
     "text": [
      "The maximal maketime for the given operations is: 140 second(s).\n",
      "Which is equal to: 14 time steps.\n",
      "\n",
      "\n"
     ]
    }
   ],
   "source": [
    "# OrderNo, PartNo, BendingLines, WeldingPoints, PaintTime, DueDate \n",
    "\n",
    "m_t_steps = max_time(jobs)\n",
    "\n",
    "m_time = m_t_steps * t_step_in_sec\n",
    "    \n",
    "print('The maximal maketime for the given operations is: ' + str(m_time) + ' second(s).\\nWhich is equal to: ' + str(m_t_steps) + ' time steps.\\n\\n')\n"
   ]
  },
  {
   "cell_type": "code",
   "execution_count": 6,
   "id": "8d31db6a",
   "metadata": {
    "id": "89acafef"
   },
   "outputs": [],
   "source": [
    "def ops(jobs, bend, weld, paint, m_time):\n",
    "    ops = []\n",
    "    for x in jobs:\n",
    "        if x[2] > 0:\n",
    "            punish = x[2] * bend_length\n",
    "            if x[3] > 0:\n",
    "                punish += x[3] * weld_length\n",
    "            if x[4] > 0:\n",
    "                punish += x[4] * paint_length\n",
    "            for m in bend:\n",
    "                t = 0\n",
    "                while t <= m_t_steps - punish:\n",
    "                    ops.append(tuple((x[0], x[1], x[2], m, t)))\n",
    "                    t += t_step\n",
    "                    \n",
    "        if x[3] > 0:\n",
    "            punish = x[3] * weld_length\n",
    "            if x[4] > 0:\n",
    "                punish += x[4] * paint_length\n",
    "            for m in weld:\n",
    "                t = 0\n",
    "                if x[2] > 0:\n",
    "                    t += x[2] * bend_length\n",
    "                while t <= m_t_steps - punish:\n",
    "                    ops.append(tuple((x[0], x[1], x[3], m, t)))\n",
    "                    t += t_step\n",
    "\n",
    "        if x[4] > 0:\n",
    "            punish = x[4] * paint_length\n",
    "            for m in paint:\n",
    "                t = 0\n",
    "                if x[2] > 0:\n",
    "                    t += x[2] * bend_length\n",
    "                if x[3] > 0:\n",
    "                    t += x[3] * weld_length\n",
    "                while t <= m_t_steps - punish:\n",
    "                    ops.append(tuple((x[0], x[1], x[4], m, t)))\n",
    "                    t += t_step\n",
    "        # ops.append(('||||||||||||END OF JOB ' + str(x[0]) + ' OPERATION ' + str(x[1]) + '||||||||||||'))\n",
    "    return ops"
   ]
  },
  {
   "cell_type": "code",
   "execution_count": 7,
   "id": "ed0e24a4",
   "metadata": {
    "colab": {
     "base_uri": "https://localhost:8080/"
    },
    "id": "2caf14a5",
    "outputId": "7e487343-6b55-456e-9c9c-5068a8cf9e96"
   },
   "outputs": [
    {
     "name": "stdout",
     "output_type": "stream",
     "text": [
      "Number of combinations: 12\n",
      "\n",
      "Possible combiniations:\n",
      "  Format: OrderNo, PartNo, Op, Machine, Time\n",
      "\n",
      "[\n",
      "(0, 0, 1, 0, 0), (0, 0, 1, 1, 0), (0, 0, 1, 2, 0), (0, 0, 2, 3, 2), (0, 0, 2, 4, 2), (0, 0, 1, 5, 8), (1, 0, 2, 3, 0), (1, 0, 2, 3, 3), (1, 0, 2, 3, 6), (1, 0, 2, 4, 0), (1, 0, 2, 4, 3), (1, 0, 2, 4, 6)\n",
      "]\n"
     ]
    }
   ],
   "source": [
    "ops = ops(jobs, bend, weld, paint, m_time)\n",
    "\n",
    "print('Number of combinations: ' + str(len(ops)) + '\\n')\n",
    "\n",
    "print('Possible combiniations:')\n",
    "print('  Format: OrderNo, PartNo, Op, Machine, Time\\n')\n",
    "\n",
    "print(str(ops).replace('[(', '[\\n(').replace(')]', ')\\n]'))"
   ]
  },
  {
   "cell_type": "code",
   "execution_count": 8,
   "id": "527c1a3c",
   "metadata": {
    "id": "51ee0fbb"
   },
   "outputs": [],
   "source": [
    "np.set_printoptions(threshold=sys.maxsize)\n",
    "QUBO_X = np.zeros((len(ops), len(ops)))\n",
    "np.set_printoptions(suppress=True)"
   ]
  },
  {
   "cell_type": "raw",
   "id": "099280b3",
   "metadata": {
    "id": "ccc909f9"
   },
   "source": [
    "QUBO_pr = str(QUBO).replace('\\n', '').replace('] [', ']\\n[').replace('[[', '[\\n[').replace(']]', ']\\n]').replace('.  ', '. ')\n",
    "print(QUBO_pr)"
   ]
  },
  {
   "cell_type": "code",
   "execution_count": 9,
   "id": "c770aa53",
   "metadata": {
    "id": "495bc267"
   },
   "outputs": [],
   "source": [
    "# verwendet ops! --> als zusätzliches Argument?\n",
    "def get_qubo_heatmap(QUBO, output=\"qubo_matrix.png\"):\n",
    "    \n",
    "    df = pd.DataFrame(QUBO, columns=ops, index = ops)\n",
    "    sns.set_style(\"white\")\n",
    "    mask = np.tril(np.zeros_like(df)).astype(bool)\n",
    "    mask[np.tril_indices_from(mask)] = True\n",
    "\n",
    "    # Keep diagonal elements \n",
    "    mask[np.diag_indices_from(mask)] = False\n",
    "\n",
    "    # Set up the matplotlib figure\n",
    "    f, ax = plt.subplots(figsize=(14, 12))\n",
    "\n",
    "    # Generate a custom diverging colormap in TRUMPF Color 0033BA\n",
    "    cmap = sns.diverging_palette(255, 200, sep=10, as_cmap=True)\n",
    "\n",
    "    # Draw the heatmap with the mask and correct aspect ratio\n",
    "    sns_plot = sns.heatmap(df, mask=mask, cmap=cmap, center=0,\n",
    "            square=True, linewidths=.5, cbar_kws={\"shrink\": .5})\n",
    "    # save to file\n",
    "    fig = sns_plot.get_figure()\n",
    "    fig.savefig(output)"
   ]
  },
  {
   "cell_type": "code",
   "execution_count": 10,
   "id": "1ee5d12b",
   "metadata": {
    "id": "b9b71cf7"
   },
   "outputs": [],
   "source": [
    "# get_qubo_heatmap(QUBO_X)"
   ]
  },
  {
   "cell_type": "code",
   "execution_count": 11,
   "id": "f235d680",
   "metadata": {
    "id": "19b06e06"
   },
   "outputs": [],
   "source": [
    "def convert(ord, part, op, mach, t):\n",
    "    return ops.index(tuple((ord, part, op, mach, t)))"
   ]
  },
  {
   "cell_type": "code",
   "execution_count": 12,
   "id": "8f8180bb",
   "metadata": {
    "id": "1e98e683"
   },
   "outputs": [],
   "source": [
    "#Format: OrderNo, PartNo, Op, Machine, Time \n",
    "    \n",
    "def fill_QUBO_with_indexes(QUBO, ord1, part1, op1, mach1, t1, ord2, part2, op2, mach2, t2, value):\n",
    "    index_a = convert(ord1, part1, op1, mach1, t1)\n",
    "    index_b = convert(ord2, part2, op2, mach2, t2)\n",
    "    if index_a > index_b:\n",
    "        index_a, index_b = index_b, index_a\n",
    "    QUBO[index_a, index_b] += value"
   ]
  },
  {
   "cell_type": "markdown",
   "id": "88c2dce9",
   "metadata": {
    "id": "a5e53aba"
   },
   "source": [
    "Constraint 1 (each operation 'o' of each job 'j' exactly once on one machine 'm' at a certaint (starting-)time 't'):\n",
    "\n",
    "$$\n",
    "H_{0}:=\\sum_{o \\in 0}\\left(\\sum_{m \\in M_{o}} \\sum_{t=0}^{T-1} x_{j, o, m, t}-1\\right)^{2}\n",
    "$$\n"
   ]
  },
  {
   "cell_type": "code",
   "execution_count": 13,
   "id": "4544e078",
   "metadata": {
    "id": "04edeea9"
   },
   "outputs": [],
   "source": [
    "alpha = 2"
   ]
  },
  {
   "cell_type": "code",
   "execution_count": 14,
   "id": "e000b12b",
   "metadata": {
    "id": "024181a9"
   },
   "outputs": [],
   "source": [
    "# H0: Mehrmaliges Abarbeiten der selben Operation eines Bauteils eines Jobs bestrafen\n",
    "'ops: OrderNo, PartNo, OpNum, Machine, Time'\n",
    "\n",
    "for tupel1 in ops:\n",
    "    for tupel2 in ops:\n",
    "        if (tupel1[0] == tupel2[0]) and (tupel1[1] == tupel2[1]): #gleiches Bauteil\n",
    "            if tupel1[3] < min(weld) and tupel2[3] < min(weld): #gleiche op-Art check\n",
    "                if tupel1[3] != tupel2[3] or tupel1[4] != tupel2[4]:\n",
    "                    fill_QUBO_with_indexes(QUBO_X, *tupel1, *tupel2, 2*alpha)\n",
    "                else:\n",
    "                    fill_QUBO_with_indexes(QUBO_X, *tupel1, *tupel2, -alpha)\n",
    "            elif tupel1[3] > max(bend) and tupel2[3] > max(bend) and tupel1[3] < min(paint) and tupel2[3] < min(paint):\n",
    "                if tupel1[3] != tupel2[3] or tupel1[4] != tupel2[4]: #gleiche op-Art check\n",
    "                    fill_QUBO_with_indexes(QUBO_X, *tupel1, *tupel2, 2*alpha)\n",
    "                else:\n",
    "                    fill_QUBO_with_indexes(QUBO_X, *tupel1, *tupel2, -alpha)\n",
    "            elif tupel1[3] > max(weld) and tupel2[3] > max(weld) and tupel1[3] <= max(paint) and tupel2[3] <= max(paint): #gleiche op-Art check\n",
    "                if tupel1[3] != tupel2[3] or tupel1[4] != tupel2[4]:\n",
    "                    fill_QUBO_with_indexes(QUBO_X, *tupel1, *tupel2, 2*alpha)\n",
    "                else:\n",
    "                    fill_QUBO_with_indexes(QUBO_X, *tupel1, *tupel2, -alpha)"
   ]
  },
  {
   "cell_type": "raw",
   "id": "3a4d88bb",
   "metadata": {
    "id": "e200845d"
   },
   "source": [
    "QUBO_pr = str(QUBO).replace('\\n', '').replace('] [', ']\\n[').replace('[[', '[\\n[').replace(']]', ']\\n]').replace('. ', '.').replace('.  ', '. ').replace('[ ', '[').replace(' -', '-')\n",
    "print(QUBO_pr)"
   ]
  },
  {
   "cell_type": "code",
   "execution_count": 15,
   "id": "6867b7ef",
   "metadata": {
    "id": "b82c4830"
   },
   "outputs": [],
   "source": [
    "# get_qubo_heatmap(QUBO_X)"
   ]
  },
  {
   "cell_type": "markdown",
   "id": "6e2942b7",
   "metadata": {
    "id": "d028f69d"
   },
   "source": [
    "Secondly, for every job $j \\in J$, its operations $O_j$ must be executed in the order given by \n",
    "\n",
    "<br /><br />\n",
    "$$\n",
    "\\left.c\\right|_{o_{j}}: O_{j} \\rightarrow\\left\\{1, \\ldots, n_{j}\\right\\}\n",
    "$$\n",
    "<br />\n",
    "$$H_{1}:=\\sum_{j \\in J}\\left(\\sum_{k_{n-1}<i<k_{n}, t+p_{i} > t'} x_{i, t}x_{i+1, t'}\\right)$$\n"
   ]
  },
  {
   "cell_type": "code",
   "execution_count": 16,
   "id": "0a8fdd9d",
   "metadata": {
    "id": "5e99adb3"
   },
   "outputs": [],
   "source": [
    "beta = 1.5"
   ]
  },
  {
   "cell_type": "code",
   "execution_count": 17,
   "id": "2d45f494",
   "metadata": {
    "id": "606b32c5"
   },
   "outputs": [],
   "source": [
    "# H1 verbotene Reihenfolgen innerhalb eines Bauteils eines Jobs bestrafen\n",
    "'ops: OrderNo, PartNo, OpNum, Machine, Time'\n",
    "\n",
    "for tupel1 in ops:\n",
    "    if tupel1[3] < min(paint):\n",
    "        if tupel1[3] < min(weld):\n",
    "            dom = bend_length * tupel1[2]\n",
    "        else:\n",
    "            dom = weld_length * tupel1[2]\n",
    "        for tupel2 in ops:\n",
    "            if (tupel1[0] == tupel2[0]) and (tupel1[1] == tupel2[1]):\n",
    "                if (tupel1[3] <= max(bend) and tupel2[3] > max(bend) and (tupel1[4] + dom) > tupel2[4] or tupel1[3] > max(bend) and tupel1[3] < min(paint) and tupel2[3] >= min(paint) and (tupel1[4] + dom) > tupel2[4]):\n",
    "                    fill_QUBO_with_indexes(QUBO_X, *tupel1, *tupel2, beta)"
   ]
  },
  {
   "cell_type": "raw",
   "id": "3a27e415",
   "metadata": {
    "id": "c62234e5"
   },
   "source": [
    "QUBO_pr = str(QUBO).replace('\\n', '').replace('] [', ']\\n[').replace('[[', '[\\n[').replace(']]', ']\\n]').replace('. ', '.').replace('.  ', '. ').replace('[ ', '[').replace(' -', '-')\n",
    "print(QUBO_pr)"
   ]
  },
  {
   "cell_type": "code",
   "execution_count": 18,
   "id": "e8897f43",
   "metadata": {
    "id": "9670c390"
   },
   "outputs": [],
   "source": [
    "# get_qubo_heatmap(QUBO_X)"
   ]
  },
  {
   "cell_type": "code",
   "execution_count": 19,
   "id": "e2853355",
   "metadata": {
    "id": "8e1d37e2"
   },
   "outputs": [],
   "source": [
    "gamma = 2"
   ]
  },
  {
   "cell_type": "code",
   "execution_count": 20,
   "id": "d07f2972",
   "metadata": {
    "id": "22391049"
   },
   "outputs": [],
   "source": [
    "# H2 Geichzeitiges Laufen zweier verschiedener Operationen auf der selben M\n",
    "'ops: OrderNo, PartNo, OpNum, Machine, Time'\n",
    "\n",
    "for tupel1 in ops:\n",
    "    if tupel1[3] < min(weld):\n",
    "        dom = bend_length * tupel1[2]\n",
    "    elif tupel1[3] < min(paint):\n",
    "        dom = weld_length * tupel1[2]\n",
    "    else:\n",
    "        dom = paint_length * tupel1[2]\n",
    "    for tupel2 in ops:\n",
    "        if ((tupel1[0] != tupel2[0] or tupel1[1] != tupel2[1]) and tupel1[3] == tupel2[3] and tupel2[4] >= tupel1[4] and tupel2[4] < tupel1[4] + dom):\n",
    "            fill_QUBO_with_indexes(QUBO_X, *tupel1, *tupel2, gamma)"
   ]
  },
  {
   "cell_type": "raw",
   "id": "2b3f52b2",
   "metadata": {
    "id": "5aa53360"
   },
   "source": [
    "QUBO_pr = str(QUBO).replace('\\n', '').replace('] [', ']\\n[').replace('[[', '[\\n[').replace(']]', ']\\n]').replace('. ', '.').replace('.  ', '. ').replace('[ ', '[').replace(' -', '-')\n",
    "print(QUBO_pr)"
   ]
  },
  {
   "cell_type": "code",
   "execution_count": 21,
   "id": "268e8456",
   "metadata": {
    "id": "62bec2f4"
   },
   "outputs": [],
   "source": [
    "# get_qubo_heatmap(QUBO_X) "
   ]
  },
  {
   "cell_type": "code",
   "execution_count": 22,
   "id": "86c2f14d",
   "metadata": {
    "id": "7265bfad"
   },
   "outputs": [],
   "source": [
    "delta = 0.035"
   ]
  },
  {
   "cell_type": "code",
   "execution_count": 23,
   "id": "9986307a",
   "metadata": {
    "id": "d827163f"
   },
   "outputs": [],
   "source": [
    "# K Bestrafung für Verspätung\n",
    "'ops: OrderNo, PartNo, OpNum, Machine, Time'\n",
    "'jobs: OrderNo, PartNo, BendingLines, WeldingPoints, PaintTime, DueDate'\n",
    "     \n",
    "c = 0\n",
    "while c < len(jobs):\n",
    "    t1 = 0\n",
    "    while t1 < len(ops):\n",
    "        if jobs[c][0] == ops[t1][0]:\n",
    "            tail = 0\n",
    "            if ops[t1][3] < min(weld): # op is bend\n",
    "                dom = bend_length * ops[t1][2]\n",
    "                if jobs[c][3] > 0: # has weld op\n",
    "                    tail += jobs[c][3] * weld_length\n",
    "                if jobs[c][4] > 0: # has paint op\n",
    "                    tail += jobs[c][4] * paint_length\n",
    "            elif ops[t1][3] < min(paint): # op is weld\n",
    "                dom = weld_length * ops[t1][2]\n",
    "                if jobs[c][4] > 0: # has paint op\n",
    "                    tail += jobs[c][4] * paint_length\n",
    "            else:\n",
    "                dom = paint_length * ops[t1][2]\n",
    "            if ops[t1][4] + dom + tail > jobs[c][5] * 6:\n",
    "                fill_QUBO_with_indexes(QUBO_X, *ops[t1], *ops[t1], delta)\n",
    "            # else:\n",
    "                # fill_QUBO_with_indexes(QUBO, *ops[t1], *ops[t1], -delta)\n",
    "        t1 += 1\n",
    "    c += 1"
   ]
  },
  {
   "cell_type": "raw",
   "id": "56f93101",
   "metadata": {
    "id": "1243429a"
   },
   "source": [
    "QUBO_pr = str(QUBO).replace('\\n', '').replace('] [', ']\\n[').replace('[[', '[\\n[').replace(']]', ']\\n]').replace('. ', '.').replace('.  ', '. ').replace('[ ', '[').replace(' -', '-')\n",
    "print(QUBO_pr)"
   ]
  },
  {
   "cell_type": "code",
   "execution_count": 24,
   "id": "b130c740",
   "metadata": {
    "colab": {
     "base_uri": "https://localhost:8080/",
     "height": 727
    },
    "id": "a166d12b",
    "outputId": "9daf548c-81c1-47f5-baeb-bb773ca593a8"
   },
   "outputs": [
    {
     "data": {
      "image/png": "[encoded data removed]",
      "text/plain": [
       "<Figure size 1008x864 with 2 Axes>"
      ]
     },
     "metadata": {},
     "output_type": "display_data"
    }
   ],
   "source": [
    "get_qubo_heatmap(QUBO_X) "
   ]
  },
  {
   "cell_type": "code",
   "execution_count": 25,
   "id": "38af28a8",
   "metadata": {
    "id": "dJQpOUFcavlU"
   },
   "outputs": [],
   "source": [
    "def simplify_qubo(qubo):\n",
    "    qi = 0\n",
    "    while qi < len(ops):\n",
    "      qj = qi\n",
    "      while qj < len(ops):\n",
    "          if qubo[qi, qj] >= -1 and qubo[qi, qj] <= 1:\n",
    "              qubo[qi, qj] -= np.int64(4)\n",
    "          qj += 1\n",
    "      qi += 1"
   ]
  },
  {
   "cell_type": "code",
   "execution_count": 26,
   "id": "2c6f64cd",
   "metadata": {
    "id": "8OJQi1t51Kxk"
   },
   "outputs": [],
   "source": [
    "# QUBO_X = simplify_qubo(QUBO_X)"
   ]
  },
  {
   "cell_type": "code",
   "execution_count": 27,
   "id": "e13597b1",
   "metadata": {
    "id": "yfYYfZocb8Ag"
   },
   "outputs": [],
   "source": [
    "# get_qubo_heatmap(QUBO_X) "
   ]
  },
  {
   "cell_type": "code",
   "execution_count": 28,
   "id": "1b73db70",
   "metadata": {
    "colab": {
     "base_uri": "https://localhost:8080/"
    },
    "id": "4e8e6b56",
    "outputId": "fc5ed592-5609-4366-c2a9-e27eaa19c976"
   },
   "outputs": [
    {
     "name": "stdout",
     "output_type": "stream",
     "text": [
      "{(0, 0): -2, (0, 1): 8, (0, 2): 8, (0, 3): 8, (0, 4): 8, (0, 5): 8, (0, 6): 0, (0, 7): 0, (0, 8): 0, (0, 9): 0, (0, 10): 0, (0, 11): 0, (1, 1): -2, (1, 2): 8, (1, 3): 8, (1, 4): 8, (1, 5): 8, (1, 6): 0, (1, 7): 0, (1, 8): 0, (1, 9): 0, (1, 10): 0, (1, 11): 0, (2, 2): -2, (2, 3): 8, (2, 4): 8, (2, 5): 8, (2, 6): 0, (2, 7): 0, (2, 8): 0, (2, 9): 0, (2, 10): 0, (2, 11): 0, (3, 3): -2, (3, 4): 8, (3, 5): 8, (3, 6): 2, (3, 7): 2, (3, 8): 2, (3, 9): 0, (3, 10): 0, (3, 11): 0, (4, 4): -2, (4, 5): 8, (4, 6): 0, (4, 7): 0, (4, 8): 0, (4, 9): 2, (4, 10): 2, (4, 11): 2, (5, 5): -2, (5, 6): 0, (5, 7): 0, (5, 8): 0, (5, 9): 0, (5, 10): 0, (5, 11): 0, (6, 6): -2, (6, 7): 8, (6, 8): 8, (6, 9): 8, (6, 10): 8, (6, 11): 8, (7, 7): -1, (7, 8): 8, (7, 9): 8, (7, 10): 8, (7, 11): 8, (8, 8): -1, (8, 9): 8, (8, 10): 8, (8, 11): 8, (9, 9): -2, (9, 10): 8, (9, 11): 8, (10, 10): -1, (10, 11): 8, (11, 11): -1}\n"
     ]
    }
   ],
   "source": [
    "qubo_d = {}\n",
    "x1 = 0\n",
    "while x1 < len(ops):\n",
    "    x2 = x1\n",
    "    while x2 < len(ops):\n",
    "        qubo_d[(x1, x2)] = int(QUBO_X[x1][x2])\n",
    "        x2 += 1\n",
    "    x1 += 1\n",
    "    \n",
    "print(qubo_d)"
   ]
  },
  {
   "cell_type": "code",
   "execution_count": null,
   "id": "c3ff820c",
   "metadata": {
    "id": "b4a380c0"
   },
   "outputs": [],
   "source": []
  },
  {
   "cell_type": "code",
   "execution_count": 29,
   "id": "bd6dae77",
   "metadata": {
    "colab": {
     "base_uri": "https://localhost:8080/"
    },
    "id": "f5adacd8",
    "outputId": "e56a6a3c-81e7-4204-82f7-93bb36af0734"
   },
   "outputs": [
    {
     "name": "stdout",
     "output_type": "stream",
     "text": [
      "   0  1  2  3  4  5  6  7  8  9 10 11 energy num_oc.\n",
      "0  0  1  0  0  0  0  1  0  0  0  0  0   -4.0      10\n",
      "1  0  0  0  1  0  0  0  0  0  1  0  0   -4.0       6\n",
      "2  0  0  0  0  0  1  1  0  0  0  0  0   -4.0       4\n",
      "3  0  0  0  0  0  1  0  0  0  1  0  0   -4.0       2\n",
      "4  0  1  0  0  0  0  0  0  0  1  0  0   -4.0       4\n",
      "5  1  0  0  0  0  0  1  0  0  0  0  0   -4.0       3\n",
      "6  0  0  0  0  1  0  1  0  0  0  0  0   -4.0       3\n",
      "7  0  0  1  0  0  0  0  0  0  1  0  0   -4.0       2\n",
      "8  0  0  1  0  0  0  1  0  0  0  0  0   -4.0       3\n",
      "9  1  0  0  0  0  0  0  0  0  1  0  0   -4.0      14\n",
      "['BINARY', 10 rows, 51 samples, 12 variables]\n"
     ]
    }
   ],
   "source": [
    "# solve and print first result\n",
    "result = QBSolv().sample_qubo(qubo_d)\n",
    "print(result)\n",
    "result = [result.samples()[0][x] for x in result.samples()[0]]\n",
    "schedule = []\n",
    "for i in range(len(result)):\n",
    "    if result[i] == 1:\n",
    "        schedule.append(ops[i])\n",
    "df_schedule=pd.DataFrame(schedule)\n",
    "df_schedule.columns = [\"OrderNo\", \"PartNo\", \"Op\", \"Task\", \"Time\"]"
   ]
  },
  {
   "cell_type": "raw",
   "id": "0b7f0eb3",
   "metadata": {
    "id": "85c00a91"
   },
   "source": []
  },
  {
   "cell_type": "code",
   "execution_count": 30,
   "id": "d0ba2e97",
   "metadata": {
    "id": "07f8f8f1"
   },
   "outputs": [],
   "source": [
    "def make_symmetric(matrix):\n",
    "    \"\"\" Takes a quadratic matrix and makes it symmetric \"\"\"\n",
    "    result = copy.deepcopy(matrix) # technically unnecessary\n",
    "    for i in range(len(result)):\n",
    "        for j in range(len(result[i])):\n",
    "            if(i != j):\n",
    "                if (result[i][j] != 0):\n",
    "                    if (result[j][i] == 0):\n",
    "                        result[j][i] = result[i][j] / 2\n",
    "                        result[i][j] = result[j][i]\n",
    "    return result\n",
    "q_QUBO_X = make_symmetric(QUBO_X)"
   ]
  },
  {
   "cell_type": "code",
   "execution_count": 31,
   "id": "44ce671e",
   "metadata": {
    "colab": {
     "base_uri": "https://localhost:8080/"
    },
    "id": "17caa086",
    "outputId": "4acf1ede-ed16-47f6-da1c-67f76a3432d6"
   },
   "outputs": [
    {
     "name": "stdout",
     "output_type": "stream",
     "text": [
      "({0: 9.0, 1: 9.0, 2: 9.0, 3: 10.5, 4: 10.5, 5: 9.0, 6: 9.5, 7: 10.0, 8: 10.0, 9: 9.5, 10: 10.0, 11: 10.0}, {(0, 1): 2.0, (0, 2): 2.0, (0, 3): 2.0, (0, 4): 2.0, (0, 5): 2.0, (1, 2): 2.0, (1, 3): 2.0, (1, 4): 2.0, (1, 5): 2.0, (2, 3): 2.0, (2, 4): 2.0, (2, 5): 2.0, (3, 4): 2.0, (3, 5): 2.0, (3, 6): 0.5, (3, 7): 0.5, (3, 8): 0.5, (4, 5): 2.0, (4, 9): 0.5, (4, 10): 0.5, (4, 11): 0.5, (6, 7): 2.0, (6, 8): 2.0, (6, 9): 2.0, (6, 10): 2.0, (6, 11): 2.0, (7, 8): 2.0, (7, 9): 2.0, (7, 10): 2.0, (7, 11): 2.0, (8, 9): 2.0, (8, 10): 2.0, (8, 11): 2.0, (9, 10): 2.0, (9, 11): 2.0, (10, 11): 2.0}, 53.0)\n",
      "\n",
      "\n",
      "{0: 9.0, 1: 9.0, 2: 9.0, 3: 10.5, 4: 10.5, 5: 9.0, 6: 9.5, 7: 10.0, 8: 10.0, 9: 9.5, 10: 10.0, 11: 10.0}\n",
      "\n",
      "\n",
      "{(0, 1): 2.0, (0, 2): 2.0, (0, 3): 2.0, (0, 4): 2.0, (0, 5): 2.0, (1, 2): 2.0, (1, 3): 2.0, (1, 4): 2.0, (1, 5): 2.0, (2, 3): 2.0, (2, 4): 2.0, (2, 5): 2.0, (3, 4): 2.0, (3, 5): 2.0, (3, 6): 0.5, (3, 7): 0.5, (3, 8): 0.5, (4, 5): 2.0, (4, 9): 0.5, (4, 10): 0.5, (4, 11): 0.5, (6, 7): 2.0, (6, 8): 2.0, (6, 9): 2.0, (6, 10): 2.0, (6, 11): 2.0, (7, 8): 2.0, (7, 9): 2.0, (7, 10): 2.0, (7, 11): 2.0, (8, 9): 2.0, (8, 10): 2.0, (8, 11): 2.0, (9, 10): 2.0, (9, 11): 2.0, (10, 11): 2.0}\n"
     ]
    }
   ],
   "source": [
    "isingX = dimod.qubo_to_ising(qubo_d, 0)\n",
    "print(isingX)\n",
    "(linear, quadratic, _) = isingX\n",
    "print(\"\\n\")\n",
    "print(linear)\n",
    "print(\"\\n\")\n",
    "print(quadratic)"
   ]
  },
  {
   "cell_type": "code",
   "execution_count": 32,
   "id": "be0016bc",
   "metadata": {
    "id": "7e982604"
   },
   "outputs": [],
   "source": [
    "n_qubits = len(ops)\n",
    "wires = range(n_qubits)\n",
    "depthX = 2"
   ]
  },
  {
   "cell_type": "raw",
   "id": "3d9664b9",
   "metadata": {
    "id": "32024f8e"
   },
   "source": [
    "s3 = (\"amazon-braket-1a7ac1e84178\", \"TRUMPF\")\n",
    "device_arn = \"arn:aws:braket:::device/quantum-simulator/amazon/sv1\"\n",
    "dev = qml.device(\"braket.aws.qubit\", device_arn=device_arn, s3_destination_folder=s3, wires=wires, parallel=True, max_parallel=20, poll_timeout_seconds=30, shots=1000)"
   ]
  },
  {
   "cell_type": "code",
   "execution_count": 33,
   "id": "b8e0bba4",
   "metadata": {},
   "outputs": [],
   "source": [
    "s3 = (\"amazon-braket-3793a6635556\", \"trumpf\")\n",
    "device_arn = \"arn:aws:braket:::device/qpu/rigetti/Aspen-9\"\n",
    "dev = qml.device(\"braket.aws.qubit\", device_arn=device_arn, s3_destination_folder=s3, wires=wires, shots=1000)"
   ]
  },
  {
   "cell_type": "code",
   "execution_count": 34,
   "id": "57a3ce0e",
   "metadata": {
    "colab": {
     "base_uri": "https://localhost:8080/"
    },
    "id": "580de8c8",
    "outputId": "47a33bfd-dc18-4756-b8b9-9b70d13afd14"
   },
   "outputs": [
    {
     "name": "stdout",
     "output_type": "stream",
     "text": [
      "  (9.0) [Z0]\n",
      "+ (9.0) [Z1]\n",
      "+ (9.0) [Z2]\n",
      "+ (9.0) [Z5]\n",
      "+ (9.5) [Z6]\n",
      "+ (9.5) [Z9]\n",
      "+ (10.0) [Z7]\n",
      "+ (10.0) [Z8]\n",
      "+ (10.0) [Z10]\n",
      "+ (10.0) [Z11]\n",
      "+ (10.5) [Z3]\n",
      "+ (10.5) [Z4]\n",
      "+ (0.5) [Z3 Z6]\n",
      "+ (0.5) [Z3 Z7]\n",
      "+ (0.5) [Z3 Z8]\n",
      "+ (0.5) [Z4 Z9]\n",
      "+ (0.5) [Z4 Z10]\n",
      "+ (0.5) [Z4 Z11]\n",
      "+ (2.0) [Z0 Z1]\n",
      "+ (2.0) [Z0 Z2]\n",
      "+ (2.0) [Z0 Z3]\n",
      "+ (2.0) [Z0 Z4]\n",
      "+ (2.0) [Z0 Z5]\n",
      "+ (2.0) [Z1 Z2]\n",
      "+ (2.0) [Z1 Z3]\n",
      "+ (2.0) [Z1 Z4]\n",
      "+ (2.0) [Z1 Z5]\n",
      "+ (2.0) [Z2 Z3]\n",
      "+ (2.0) [Z2 Z4]\n",
      "+ (2.0) [Z2 Z5]\n",
      "+ (2.0) [Z3 Z4]\n",
      "+ (2.0) [Z3 Z5]\n",
      "+ (2.0) [Z4 Z5]\n",
      "+ (2.0) [Z6 Z7]\n",
      "+ (2.0) [Z6 Z8]\n",
      "+ (2.0) [Z6 Z9]\n",
      "+ (2.0) [Z6 Z10]\n",
      "+ (2.0) [Z6 Z11]\n",
      "+ (2.0) [Z7 Z8]\n",
      "+ (2.0) [Z7 Z9]\n",
      "+ (2.0) [Z7 Z10]\n",
      "+ (2.0) [Z7 Z11]\n",
      "+ (2.0) [Z8 Z9]\n",
      "+ (2.0) [Z8 Z10]\n",
      "+ (2.0) [Z8 Z11]\n",
      "+ (2.0) [Z9 Z10]\n",
      "+ (2.0) [Z9 Z11]\n",
      "+ (2.0) [Z10 Z11]\n"
     ]
    }
   ],
   "source": [
    "linear_coefficents = [linear[i] for i in range(n_qubits) if i in linear]\n",
    "linear_gates = [qml.PauliZ(i) for i in range(n_qubits) if i in linear]\n",
    "quadratic_coefficents = [quadratic[(i, j)] for i in range(n_qubits) for j in range(n_qubits) if (i, j) in quadratic]\n",
    "quadratic_gates = [qml.PauliZ(i) @ qml.PauliZ(j) for i in range(n_qubits) for j in range(n_qubits) if\n",
    "                       (i, j) in quadratic]\n",
    "\n",
    "coefficents = linear_coefficents + quadratic_coefficents\n",
    "gates = linear_gates + quadratic_gates\n",
    "\n",
    "cost_h = qml.Hamiltonian(coefficents, gates)\n",
    "print(cost_h)"
   ]
  },
  {
   "cell_type": "code",
   "execution_count": 35,
   "id": "6f771744",
   "metadata": {
    "colab": {
     "base_uri": "https://localhost:8080/"
    },
    "id": "2912c156",
    "outputId": "63f4abec-2bae-429b-d0b4-36ea684aeb53"
   },
   "outputs": [
    {
     "name": "stdout",
     "output_type": "stream",
     "text": [
      "  (1) [X0]\n",
      "+ (1) [X1]\n",
      "+ (1) [X2]\n",
      "+ (1) [X3]\n",
      "+ (1) [X4]\n",
      "+ (1) [X5]\n",
      "+ (1) [X6]\n",
      "+ (1) [X7]\n",
      "+ (1) [X8]\n",
      "+ (1) [X9]\n",
      "+ (1) [X10]\n",
      "+ (1) [X11]\n"
     ]
    }
   ],
   "source": [
    "mixer_h = qaoa.x_mixer(0)\n",
    "for i in range(n_qubits - 1):\n",
    "    mixer_h += qaoa.x_mixer(i + 1)\n",
    "print(mixer_h)"
   ]
  },
  {
   "cell_type": "code",
   "execution_count": 36,
   "id": "cf3fa5f0",
   "metadata": {
    "id": "89aad6d2"
   },
   "outputs": [],
   "source": [
    "def qaoa_layer(gamma, alpha):\n",
    "    qaoa.cost_layer(gamma, cost_h)\n",
    "    qaoa.mixer_layer(alpha, mixer_h)"
   ]
  },
  {
   "cell_type": "code",
   "execution_count": 37,
   "id": "b27e4a33",
   "metadata": {
    "id": "d6e48eda"
   },
   "outputs": [],
   "source": [
    "def circuit(params, **kwargs):\n",
    "    for w in wires:\n",
    "        qml.Hadamard(wires=w)\n",
    "    qml.layer(qaoa_layer, depthX, params[0], params[1])"
   ]
  },
  {
   "cell_type": "code",
   "execution_count": 38,
   "id": "0e379c48",
   "metadata": {
    "id": "f81fc0df"
   },
   "outputs": [],
   "source": [
    "cost_function = qml.ExpvalCost(circuit, cost_h, dev, optimize=True)"
   ]
  },
  {
   "cell_type": "code",
   "execution_count": null,
   "id": "0216f366-1f48-46ce-8614-c19bba924095",
   "metadata": {},
   "outputs": [],
   "source": [
    "optimizer = qml.AdamOptimizer() # qml.GradientDescentOptimizer() # qml.AdamOptimizer() # qml.AdagradOptimizer()"
   ]
  },
  {
   "cell_type": "code",
   "execution_count": 39,
   "id": "237e2446",
   "metadata": {
    "id": "cadbc94d"
   },
   "outputs": [
    {
     "name": "stdout",
     "output_type": "stream",
     "text": [
      "Start parameters:  [[0.5, 0.5], [0.5, 0.5]]\n"
     ]
    }
   ],
   "source": [
    "params = [[0.45765939730574795, 0.5067344126051819], [0.5283387339993683, 0.6863600622435709]] #pre-optimized parameters\n",
    "\n",
    "print(\"Start parameters: \", params)"
   ]
  },
  {
   "cell_type": "code",
   "execution_count": null,
   "id": "0d6c0c58-1fb4-41ab-8172-d5fdb4e1351f",
   "metadata": {},
   "outputs": [],
   "source": [
    "optimizerType = type(optimizer).__name__\n",
    "path = os.getcwd()\n",
    "print(path)\n",
    "savestring = path + f\"\\{optimizerType}_{depthX}_{steps}_{params}\"\n",
    "print(savestring)"
   ]
  },
  {
   "cell_type": "code",
   "execution_count": 40,
   "id": "79ee4439",
   "metadata": {
    "colab": {
     "base_uri": "https://localhost:8080/"
    },
    "id": "oXzPkSj7Heh6",
    "outputId": "d073d997-a599-4266-dbd1-2a4a58e41484"
   },
   "outputs": [
    {
     "name": "stderr",
     "output_type": "stream",
     "text": [
      "N/A% (0 of 5) |                          | Elapsed Time: 0:00:00 ETA:  --:--:--"
     ]
    },
    {
     "name": "stdout",
     "output_type": "stream",
     "text": [
      " | New parameters: [[0.5099999999994732, 0.5099999999997303], [0.5099999999852203, 0.4900000000047416]]\n"
     ]
    },
    {
     "name": "stderr",
     "output_type": "stream",
     "text": [
      "N/A% (0 of 5) |                          | Elapsed Time: 1:48:19 ETA:  --:--:--"
     ]
    },
    {
     "name": "stdout",
     "output_type": "stream",
     "text": [
      "\n",
      " 0\n",
      " | New parameters: [[0.516259964810596, 0.5161043991703818], [0.5168871869149926, 0.48285849043249396]]\n"
     ]
    },
    {
     "name": "stderr",
     "output_type": "stream",
     "text": [
      " 20% (1 of 5) |#####                     | Elapsed Time: 3:36:33 ETA:   7:12:54"
     ]
    },
    {
     "name": "stdout",
     "output_type": "stream",
     "text": [
      "\n",
      " 0\n",
      " | New parameters: [[0.5218921430507925, 0.5204868861276261], [0.5214016480422244, 0.47808610345872865]]\n"
     ]
    },
    {
     "name": "stderr",
     "output_type": "stream",
     "text": [
      " 40% (2 of 5) |####       | Elapsed Time: 1 day, 1:33:19 ETA:  2 days, 17:50:17"
     ]
    },
    {
     "name": "stdout",
     "output_type": "stream",
     "text": [
      "\n",
      " 0\n",
      " | New parameters: [[0.5259371848741131, 0.5232009765688845], [0.5260881477119351, 0.47475405832259077]]\n"
     ]
    },
    {
     "name": "stderr",
     "output_type": "stream",
     "text": [
      " 60% (3 of 5) |###########        | Elapsed Time: 1 day, 3:19:36 ETA:   3:32:34"
     ]
    },
    {
     "name": "stdout",
     "output_type": "stream",
     "text": [
      "\n",
      " 0\n",
      " | New parameters: [[0.5291213274445834, 0.5256080242191301], [0.526810563577648, 0.47134367091326573]]\n"
     ]
    },
    {
     "name": "stderr",
     "output_type": "stream",
     "text": [
      " 80% (4 of 5) |##############    | Elapsed Time: 2 days, 1:43:02 ETA:  22:23:25"
     ]
    },
    {
     "name": "stdout",
     "output_type": "stream",
     "text": [
      "\n",
      " 0\n"
     ]
    },
    {
     "name": "stderr",
     "output_type": "stream",
     "text": [
      "100% (5 of 5) |###########| Elapsed Time: 2 days, 1:43:02 Time: 2 days, 1:43:02\n"
     ]
    },
    {
     "name": "stdout",
     "output_type": "stream",
     "text": [
      "\n",
      "\n",
      "Optimal parameters:  [[0.5291213274445834, 0.5256080242191301], [0.526810563577648, 0.47134367091326573]]\n"
     ]
    }
   ],
   "source": [
    "for i in progressbar.progressbar(range(steps), redirect_stdout=True):\n",
    "    params = optimizer.step(cost_function, params)\n",
    "    print(' | New parameters:', params)\n",
    "    print(\"\\n\", dev.num_executions)\n",
    "    f = open(savestring + \"paramsQuicksaveRigetti.txt\", 'a+')\n",
    "    f.write(\"parameter quicksave stepnumber \" + str(i) + \": \" + str(params) + \"\\n\\n\")\n",
    "    f.close()\n",
    "\n",
    "print(\"\\n\")\n",
    "print(\"Optimal parameters: \", params)"
   ]
  },
  {
   "cell_type": "code",
   "execution_count": 41,
   "id": "ea7bb637",
   "metadata": {
    "id": "XHVmqFfVNgrW"
   },
   "outputs": [],
   "source": [
    "@qml.qnode(dev)\n",
    "def probability_circuit(gamma, alpha):\n",
    "    circuit([gamma, alpha])\n",
    "    return qml.probs(wires=wires)\n",
    "\n",
    "\n",
    "probs = probability_circuit(params[0], params[1])"
   ]
  },
  {
   "cell_type": "code",
   "execution_count": 42,
   "id": "13d5cde3",
   "metadata": {
    "colab": {
     "base_uri": "https://localhost:8080/",
     "height": 348
    },
    "id": "205cd7e7-3040-45c4-8bce-6e650b6fa85a",
    "outputId": "89256e1b-2158-4abc-dba9-1c116cc80cca"
   },
   "outputs": [
    {
     "name": "stdout",
     "output_type": "stream",
     "text": [
      "C:\\Users\\jstein\\Documents\\Lehre\\QCP\\reposnew\n",
      "C:\\Users\\jstein\\Documents\\Lehre\\QCP\\reposnew\\AdamOptimizer_2_5_[[0.5291213274445834, 0.5256080242191301], [0.526810563577648, 0.47134367091326573]]\n"
     ]
    },
    {
     "data": {
      "image/png": "[encoded data removed]",
      "text/plain": [
       "<Figure size 576x396 with 1 Axes>"
      ]
     },
     "metadata": {},
     "output_type": "display_data"
    }
   ],
   "source": [
    "plt.style.use(\"seaborn\")\n",
    "plt.bar(range(2 ** len(wires)), probs)\n",
    "plt.savefig(savestring + \".png\")\n",
    "plt.show()"
   ]
  },
  {
   "cell_type": "code",
   "execution_count": null,
   "id": "ee577541-d3c7-46b3-9019-72e5ff3fa197",
   "metadata": {},
   "outputs": [],
   "source": [
    "file = open(savestring + \"resultsRigetti.txt\", 'a+')\n",
    "file.write(str(probs)\n",
    "    + \"\\n\"\n",
    "    + \"\\n used jobs: \" + str(jobs)\n",
    "    + \"\\n timesteps: \" + str(t_step)\n",
    "    + \"\\n one timestep in seconds: \" + str(t_step_in_sec)\n",
    "    + \"\\n optimal parameters: \" + str(params)\n",
    "    + \"\\n optimizer: \" + optimizerType\n",
    "    + \"\\n executions/Zugriffe: \" + str(dev.num_executions)\n",
    "    + \"\\n\"\n",
    "    + \"\\nbackend: \" + str(dev))\n",
    "file.close()"
   ]
  },
  {
   "cell_type": "code",
   "execution_count": null,
   "id": "569253a3-7ab8-4125-8efb-e9a70083f195",
   "metadata": {},
   "outputs": [],
   "source": [
    "paramsO = [[0.45765939730574795, 0.5067344126051819], [0.5283387339993683, 0.6863600622435709]]\n",
    "probsO = probability_circuit(paramsO[0], paramsO[1])"
   ]
  },
  {
   "cell_type": "code",
   "execution_count": null,
   "id": "ef3ac950-2471-4e33-8cca-337edf56b4eb",
   "metadata": {},
   "outputs": [],
   "source": [
    "plt.style.use(\"seaborn\")\n",
    "plt.bar(range(2 ** len(wires)), probsO)\n",
    "plt.savefig(savestring + \"O.png\")\n",
    "plt.show()"
   ]
  },
  {
   "cell_type": "code",
   "execution_count": 43,
   "id": "564b81b2",
   "metadata": {},
   "outputs": [],
   "source": [
    "file = open(savestring + \"resultsRigettiO.txt\", 'a+')\n",
    "file.write(str(probs)\n",
    "    + \"\\n\"\n",
    "    + \"\\n used jobs: \" + str(jobs)\n",
    "    + \"\\n timesteps: \" + str(t_step)\n",
    "    + \"\\n one timestep in seconds: \" + str(t_step_in_sec)\n",
    "    + \"\\n optimal parameters: \" + str(paramsO)\n",
    "    + \"\\n optimizer: \" + optimizerType\n",
    "    + \"\\n executions/Zugriffe: \" + str(dev.num_executions)\n",
    "    + \"\\n\"\n",
    "    + \"\\nbackend: \" + str(dev))\n",
    "file.close()"
   ]
  },
  {
   "cell_type": "code",
   "execution_count": null,
   "id": "d91b1dd5-7788-427f-a75b-e59bdab920e8",
   "metadata": {},
   "outputs": [],
   "source": []
  },
  {
   "cell_type": "code",
   "execution_count": null,
   "id": "80c9ae24",
   "metadata": {
    "id": "D1jxEC1x0Zxv"
   },
   "outputs": [],
   "source": []
  },
  {
   "cell_type": "code",
   "execution_count": null,
   "id": "b170000e",
   "metadata": {
    "id": "zwNGy4-vz3Sz"
   },
   "outputs": [],
   "source": []
  },
  {
   "cell_type": "code",
   "execution_count": null,
   "id": "005541cd",
   "metadata": {
    "id": "zqg7Qwyrz3X2"
   },
   "outputs": [],
   "source": []
  },
  {
   "cell_type": "code",
   "execution_count": 44,
   "id": "d46bc07a",
   "metadata": {
    "colab": {
     "base_uri": "https://localhost:8080/"
    },
    "id": "5966a026",
    "outputId": "4b8f74ed-bcd5-42dc-ff1f-20e7caeadbe0",
    "scrolled": true
   },
   "outputs": [
    {
     "name": "stdout",
     "output_type": "stream",
     "text": [
      "Variable                 Type                    Data/Info\n",
      "----------------------------------------------------------\n",
      "QBSolv                   SamplerABCMeta          <class 'dwave_qbsolv.dimod_wrapper.QBSolv'>\n",
      "QUBO_X                   ndarray                 12x12: 144 elems, type `float64`, 1152 bytes\n",
      "alpha                    int                     2\n",
      "bend                     list                    n=3\n",
      "bend_length              int                     2\n",
      "beta                     int                     1\n",
      "c                        int                     2\n",
      "circuit                  function                <function circuit at 0x0000027624645CA0>\n",
      "coefficents              list                    n=48\n",
      "convert                  function                <function convert at 0x000002762305C310>\n",
      "copy                     module                  <module 'copy' from 'C:\\\\<...>n2kfra8p0\\\\lib\\\\copy.py'>\n",
      "cost_function            ExpvalCost              <pennylane.vqe.vqe.Expval<...>ct at 0x0000027624332940>\n",
      "cost_h                   Hamiltonian               (9.0) [Z0]\\n+ (9.0) [Z1<...>9 Z11]\\n+ (2.0) [Z10 Z11]\n",
      "delta                    float                   0.035\n",
      "depthX                   int                     2\n",
      "dev                      BraketAwsQubitDevice    Braket AwsDevice for Penn<...>s\\nWires: 12\\nShots: 1000\n",
      "device_arn               str                     arn:aws:braket:::device/qpu/rigetti/Aspen-9\n",
      "df_schedule              DataFrame                  OrderNo  PartNo  Op  T<...>1       0   2     3     0\n",
      "dimod                    module                  <module 'dimod' from 'C:\\<...>ges\\\\dimod\\\\__init__.py'>\n",
      "dom                      int                     6\n",
      "file                     TextIOWrapper           <_io.TextIOWrapper name='<...>de='w' encoding='cp1252'>\n",
      "fill_QUBO_with_indexes   function                <function fill_QUBO_with_<...>es at 0x000002762305C280>\n",
      "gamma                    int                     2\n",
      "gates                    list                    n=48\n",
      "get_qubo_heatmap         function                <function get_qubo_heatmap at 0x000002762305CB80>\n",
      "i                        int                     4\n",
      "isingX                   tuple                   n=3\n",
      "jobs                     list                    n=2\n",
      "linear                   dict                    n=12\n",
      "linear_coefficents       list                    n=12\n",
      "linear_gates             list                    n=12\n",
      "m_t_steps                int                     14\n",
      "m_time                   int                     140\n",
      "make_symmetric           function                <function make_symmetric at 0x000002767F8E08B0>\n",
      "max_time                 function                <function max_time at 0x000002767F8E0E50>\n",
      "mixer_h                  Hamiltonian               (1) [X0]\\n+ (1) [X1]\\n+<...>n+ (1) [X10]\\n+ (1) [X11]\n",
      "n_qubits                 int                     12\n",
      "np                       module                  <module 'numpy' from 'C:\\<...>ges\\\\numpy\\\\__init__.py'>\n",
      "ops                      list                    n=12\n",
      "optimizer                AdamOptimizer           <pennylane.optimize.adam.<...>ct at 0x00000276246B37F0>\n",
      "optimizerType            str                     AdamOptimizer\n",
      "os                       module                  <module 'os' from 'C:\\\\Pr<...>z5n2kfra8p0\\\\lib\\\\os.py'>\n",
      "paint                    list                    n=1\n",
      "paint_length             int                     6\n",
      "params                   list                    n=2\n",
      "path                     str                     C:\\Users\\jstein\\Documents\\Lehre\\QCP\\reposnew\n",
      "pd                       module                  <module 'pandas' from 'C:<...>es\\\\pandas\\\\__init__.py'>\n",
      "plt                      module                  <module 'matplotlib.pyplo<...>\\\\matplotlib\\\\pyplot.py'>\n",
      "probability_circuit      QNode                   <pennylane.qnode.QNode ob<...>ct at 0x00000276246B3F70>\n",
      "probs                    tensor                  [0.003 0.    0.001 0.    <...> 0.001 0.    0.    0.002]\n",
      "progressbar              module                  <module 'progressbar' fro<...>rogressbar\\\\__init__.py'>\n",
      "q_QUBO_X                 ndarray                 12x12: 144 elems, type `float64`, 1152 bytes\n",
      "qaoa                     module                  <module 'pennylane.qaoa' <...>lane\\\\qaoa\\\\__init__.py'>\n",
      "qaoa_layer               function                <function qaoa_layer at 0x0000027624645A60>\n",
      "qml                      module                  <module 'pennylane' from <...>\\pennylane\\\\__init__.py'>\n",
      "quadratic                dict                    n=36\n",
      "quadratic_coefficents    list                    n=36\n",
      "quadratic_gates          list                    n=36\n",
      "qubo_d                   dict                    n=78\n",
      "result                   list                    n=12\n",
      "s3                       tuple                   n=2\n",
      "savestring               str                     C:\\Users\\jstein\\Documents<...>48, 0.47134367091326573]]\n",
      "schedule                 list                    n=2\n",
      "simplify_qubo            function                <function simplify_qubo at 0x000002762341B310>\n",
      "sns                      module                  <module 'seaborn' from 'C<...>s\\\\seaborn\\\\__init__.py'>\n",
      "steps                    int                     5\n",
      "sys                      module                  <module 'sys' (built-in)>\n",
      "t1                       int                     12\n",
      "t_step                   int                     3\n",
      "t_step_in_sec            int                     10\n",
      "tail                     int                     0\n",
      "time                     module                  <module 'time' (built-in)>\n",
      "tupel1                   tuple                   n=5\n",
      "tupel2                   tuple                   n=5\n",
      "weld                     list                    n=2\n",
      "weld_length              int                     3\n",
      "wires                    range                   range(0, 12)\n",
      "x1                       int                     12\n",
      "x2                       int                     12\n"
     ]
    }
   ],
   "source": [
    "whos"
   ]
  }
 ],
 "metadata": {
  "colab": {
   "collapsed_sections": [],
   "name": "QCP_QGM_Qulacs.ipynb",
   "provenance": []
  },
  "kernelspec": {
   "display_name": "Python 3",
   "language": "python",
   "name": "python3"
  },
  "language_info": {
   "codemirror_mode": {
    "name": "ipython",
    "version": 3
   },
   "file_extension": ".py",
   "mimetype": "text/x-python",
   "name": "python",
   "nbconvert_exporter": "python",
   "pygments_lexer": "ipython3",
   "version": "3.9.5"
  }
 },
 "nbformat": 4,
 "nbformat_minor": 5
}
